{
  "nbformat": 4,
  "nbformat_minor": 0,
  "metadata": {
    "colab": {
      "name": "Analysis_on_Person_2.ipynb",
      "provenance": [],
      "collapsed_sections": []
    },
    "kernelspec": {
      "name": "python3",
      "display_name": "Python 3"
    },
    "language_info": {
      "name": "python"
    }
  },
  "cells": [
    {
      "cell_type": "code",
      "metadata": {
        "colab": {
          "base_uri": "https://localhost:8080/"
        },
        "id": "yc7x58xNL2kv",
        "outputId": "d87e84c0-4a0a-4d29-cb5a-2312faf5e8b6"
      },
      "source": [
        "!apt-get update"
      ],
      "execution_count": 1,
      "outputs": [
        {
          "output_type": "stream",
          "text": [
            "\r0% [Working]\r            \rGet:1 https://cloud.r-project.org/bin/linux/ubuntu bionic-cran40/ InRelease [3,626 B]\n",
            "\r0% [Connecting to archive.ubuntu.com (91.189.88.142)] [Waiting for headers] [1 \r0% [Connecting to archive.ubuntu.com (91.189.88.142)] [Waiting for headers] [Co\r0% [1 InRelease gpgv 3,626 B] [Connecting to archive.ubuntu.com (91.189.88.142)\r                                                                               \rIgn:2 https://developer.download.nvidia.com/compute/cuda/repos/ubuntu1804/x86_64  InRelease\n",
            "Get:3 http://security.ubuntu.com/ubuntu bionic-security InRelease [88.7 kB]\n",
            "Ign:4 https://developer.download.nvidia.com/compute/machine-learning/repos/ubuntu1804/x86_64  InRelease\n",
            "Get:5 https://developer.download.nvidia.com/compute/cuda/repos/ubuntu1804/x86_64  Release [697 B]\n",
            "Hit:6 https://developer.download.nvidia.com/compute/machine-learning/repos/ubuntu1804/x86_64  Release\n",
            "Get:7 https://developer.download.nvidia.com/compute/cuda/repos/ubuntu1804/x86_64  Release.gpg [836 B]\n",
            "Get:8 http://ppa.launchpad.net/c2d4u.team/c2d4u4.0+/ubuntu bionic InRelease [15.9 kB]\n",
            "Hit:9 http://archive.ubuntu.com/ubuntu bionic InRelease\n",
            "Get:10 http://archive.ubuntu.com/ubuntu bionic-updates InRelease [88.7 kB]\n",
            "Get:11 https://cloud.r-project.org/bin/linux/ubuntu bionic-cran40/ Packages [55.5 kB]\n",
            "Hit:12 http://ppa.launchpad.net/cran/libgit2/ubuntu bionic InRelease\n",
            "Get:14 http://ppa.launchpad.net/deadsnakes/ppa/ubuntu bionic InRelease [15.9 kB]\n",
            "Get:15 http://archive.ubuntu.com/ubuntu bionic-backports InRelease [74.6 kB]\n",
            "Ign:16 https://developer.download.nvidia.com/compute/cuda/repos/ubuntu1804/x86_64  Packages\n",
            "Get:16 https://developer.download.nvidia.com/compute/cuda/repos/ubuntu1804/x86_64  Packages [770 kB]\n",
            "Get:17 http://ppa.launchpad.net/graphics-drivers/ppa/ubuntu bionic InRelease [21.3 kB]\n",
            "Get:18 http://security.ubuntu.com/ubuntu bionic-security/restricted amd64 Packages [399 kB]\n",
            "Get:19 http://security.ubuntu.com/ubuntu bionic-security/universe amd64 Packages [1,410 kB]\n",
            "Get:20 http://security.ubuntu.com/ubuntu bionic-security/main amd64 Packages [2,119 kB]\n",
            "Get:21 http://security.ubuntu.com/ubuntu bionic-security/multiverse amd64 Packages [24.7 kB]\n",
            "Get:22 http://ppa.launchpad.net/c2d4u.team/c2d4u4.0+/ubuntu bionic/main Sources [1,759 kB]\n",
            "Get:23 http://archive.ubuntu.com/ubuntu bionic-updates/main amd64 Packages [2,550 kB]\n",
            "Get:24 http://archive.ubuntu.com/ubuntu bionic-updates/multiverse amd64 Packages [31.6 kB]\n",
            "Get:25 http://archive.ubuntu.com/ubuntu bionic-updates/universe amd64 Packages [2,182 kB]\n",
            "Get:26 http://ppa.launchpad.net/c2d4u.team/c2d4u4.0+/ubuntu bionic/main amd64 Packages [900 kB]\n",
            "Get:27 http://archive.ubuntu.com/ubuntu bionic-updates/restricted amd64 Packages [429 kB]\n",
            "Get:28 http://ppa.launchpad.net/deadsnakes/ppa/ubuntu bionic/main amd64 Packages [40.8 kB]\n",
            "Get:29 http://ppa.launchpad.net/graphics-drivers/ppa/ubuntu bionic/main amd64 Packages [49.5 kB]\n",
            "Fetched 13.0 MB in 6s (2,348 kB/s)\n",
            "Reading package lists... Done\n"
          ],
          "name": "stdout"
        }
      ]
    },
    {
      "cell_type": "code",
      "metadata": {
        "id": "OnwG-WXOuMME"
      },
      "source": [
        "!apt-get install openjdk-8-jdk-headless -qq > /dev/null"
      ],
      "execution_count": 2,
      "outputs": []
    },
    {
      "cell_type": "code",
      "metadata": {
        "id": "RTmF6alruW0K"
      },
      "source": [
        "!wget -q https://downloads.apache.org/spark/spark-3.1.1/spark-3.1.1-bin-hadoop2.7.tgz\n"
      ],
      "execution_count": 3,
      "outputs": []
    },
    {
      "cell_type": "code",
      "metadata": {
        "id": "XjORZ37Yudd0"
      },
      "source": [
        "!tar xf spark-3.1.1-bin-hadoop2.7.tgz"
      ],
      "execution_count": 4,
      "outputs": []
    },
    {
      "cell_type": "code",
      "metadata": {
        "id": "SqXJ-EHJudUH"
      },
      "source": [
        "!pip install -q findspark"
      ],
      "execution_count": 5,
      "outputs": []
    },
    {
      "cell_type": "code",
      "metadata": {
        "id": "MDwBNfAKudI_"
      },
      "source": [
        "import os\n",
        "os.environ[\"JAVA_HOME\"] = \"/usr/lib/jvm/java-8-openjdk-amd64\"\n",
        "os.environ[\"SPARK_HOME\"] = \"/content/spark-3.1.1-bin-hadoop2.7\""
      ],
      "execution_count": 6,
      "outputs": []
    },
    {
      "cell_type": "code",
      "metadata": {
        "id": "yDcB4zvYuc4t"
      },
      "source": [
        "import findspark\n",
        "findspark.init()"
      ],
      "execution_count": 7,
      "outputs": []
    },
    {
      "cell_type": "code",
      "metadata": {
        "id": "rcQoc3ctvG7Z"
      },
      "source": [
        "\n",
        "from pyspark.sql import SparkSession\n",
        "\n",
        "spark = SparkSession.builder\\\n",
        "        .master(\"local\")\\\n",
        "        .appName(\"Collision\")\\\n",
        "        .config('spark.ui.port', '4050')\\\n",
        "        .getOrCreate()"
      ],
      "execution_count": 8,
      "outputs": []
    },
    {
      "cell_type": "code",
      "metadata": {
        "colab": {
          "base_uri": "https://localhost:8080/"
        },
        "id": "LO6bDYc4vG32",
        "outputId": "f78a6589-e237-4e01-c62c-82931bad5f83"
      },
      "source": [
        "!wget https://bin.equinox.io/c/4VmDzA7iaHb/ngrok-stable-linux-amd64.zip\n",
        "!unzip -y ngrok-stable-linux-amd64.zip\n",
        "get_ipython().system_raw('./ngrok http 4050 &')\n",
        "!curl -s http://localhost:4040/api/tunnels"
      ],
      "execution_count": 9,
      "outputs": [
        {
          "output_type": "stream",
          "text": [
            "--2021-05-07 15:28:35--  https://bin.equinox.io/c/4VmDzA7iaHb/ngrok-stable-linux-amd64.zip\n",
            "Resolving bin.equinox.io (bin.equinox.io)... 52.203.96.188, 3.227.65.201, 52.204.138.61, ...\n",
            "Connecting to bin.equinox.io (bin.equinox.io)|52.203.96.188|:443... connected.\n",
            "HTTP request sent, awaiting response... 200 OK\n",
            "Length: 13832437 (13M) [application/octet-stream]\n",
            "Saving to: ‘ngrok-stable-linux-amd64.zip’\n",
            "\n",
            "ngrok-stable-linux- 100%[===================>]  13.19M  18.5MB/s    in 0.7s    \n",
            "\n",
            "2021-05-07 15:28:36 (18.5 MB/s) - ‘ngrok-stable-linux-amd64.zip’ saved [13832437/13832437]\n",
            "\n",
            "UnZip 6.00 of 20 April 2009, by Debian. Original by Info-ZIP.\n",
            "\n",
            "Usage: unzip [-Z] [-opts[modifiers]] file[.zip] [list] [-x xlist] [-d exdir]\n",
            "  Default action is to extract files in list, except those in xlist, to exdir;\n",
            "  file[.zip] may be a wildcard.  -Z => ZipInfo mode (\"unzip -Z\" for usage).\n",
            "\n",
            "  -p  extract files to pipe, no messages     -l  list files (short format)\n",
            "  -f  freshen existing files, create none    -t  test compressed archive data\n",
            "  -u  update files, create if necessary      -z  display archive comment only\n",
            "  -v  list verbosely/show version info       -T  timestamp archive to latest\n",
            "  -x  exclude files that follow (in xlist)   -d  extract files into exdir\n",
            "modifiers:\n",
            "  -n  never overwrite existing files         -q  quiet mode (-qq => quieter)\n",
            "  -o  overwrite files WITHOUT prompting      -a  auto-convert any text files\n",
            "  -j  junk paths (do not make directories)   -aa treat ALL files as text\n",
            "  -U  use escapes for all non-ASCII Unicode  -UU ignore any Unicode fields\n",
            "  -C  match filenames case-insensitively     -L  make (some) names lowercase\n",
            "  -X  restore UID/GID info                   -V  retain VMS version numbers\n",
            "  -K  keep setuid/setgid/tacky permissions   -M  pipe through \"more\" pager\n",
            "  -O CHARSET  specify a character encoding for DOS, Windows and OS/2 archives\n",
            "  -I CHARSET  specify a character encoding for UNIX and other archives\n",
            "\n",
            "See \"unzip -hh\" or unzip.txt for more help.  Examples:\n",
            "  unzip data1 -x joe   => extract all files except joe from zipfile data1.zip\n",
            "  unzip -p foo | more  => send contents of foo.zip via pipe into program more\n",
            "  unzip -fo foo ReadMe => quietly replace existing ReadMe if archive file newer\n"
          ],
          "name": "stdout"
        }
      ]
    },
    {
      "cell_type": "code",
      "metadata": {
        "id": "p6NRMVx3vGvc",
        "colab": {
          "base_uri": "https://localhost:8080/"
        },
        "outputId": "07c4e105-dd3e-482c-9c40-b64ec246089b"
      },
      "source": [
        "from pyspark import SparkContext,SparkConf\n",
        "from pyspark.sql import SparkSession\n",
        "import pyspark\n",
        "conf = pyspark.SparkConf()\n",
        "conf.set(\"spark.driver.memory\",\"8G\");\n",
        "import numpy as np\n",
        "sc = SparkContext.getOrCreate(conf=conf)\n",
        "from pyspark.sql.functions import round, col\n",
        "from pyspark.sql.types import DateType\n",
        "from pyspark.sql.functions import to_date\n",
        "from google.colab import drive\n",
        "drive.mount('/content/drive')"
      ],
      "execution_count": 10,
      "outputs": [
        {
          "output_type": "stream",
          "text": [
            "Mounted at /content/drive\n"
          ],
          "name": "stdout"
        }
      ]
    },
    {
      "cell_type": "code",
      "metadata": {
        "id": "WZ86zqsBylKt"
      },
      "source": [
        "col=spark.read.option(\"header\",True).csv(\"/content/drive/MyDrive/person_Cleaned.csv\",inferSchema=True);"
      ],
      "execution_count": 11,
      "outputs": []
    },
    {
      "cell_type": "code",
      "metadata": {
        "id": "03hYIhgEsflY",
        "colab": {
          "base_uri": "https://localhost:8080/"
        },
        "outputId": "b2e18cd7-9c34-4808-962c-840300223367"
      },
      "source": [
        "col.cache()\n",
        "col.printSchema()"
      ],
      "execution_count": 12,
      "outputs": [
        {
          "output_type": "stream",
          "text": [
            "root\n",
            " |-- UNIQUE_ID: integer (nullable = true)\n",
            " |-- COLLISION_ID: integer (nullable = true)\n",
            " |-- CRASH_DATE: string (nullable = true)\n",
            " |-- CRASH_TIME: string (nullable = true)\n",
            " |-- PERSON_ID: string (nullable = true)\n",
            " |-- PERSON_TYPE: string (nullable = true)\n",
            " |-- PERSON_INJURY: string (nullable = true)\n",
            " |-- VEHICLE_ID: integer (nullable = true)\n",
            " |-- PERSON_AGE: integer (nullable = true)\n",
            " |-- EJECTION: string (nullable = true)\n",
            " |-- EMOTIONAL_STATUS: string (nullable = true)\n",
            " |-- BODILY_INJURY: string (nullable = true)\n",
            " |-- POSITION_IN_VEHICLE: string (nullable = true)\n",
            " |-- SAFETY_EQUIPMENT: string (nullable = true)\n",
            " |-- PED_LOCATION: string (nullable = true)\n",
            " |-- PED_ACTION: string (nullable = true)\n",
            " |-- COMPLAINT: string (nullable = true)\n",
            " |-- PED_ROLE: string (nullable = true)\n",
            " |-- CONTRIBUTING_FACTOR_1: string (nullable = true)\n",
            " |-- CONTRIBUTING_FACTOR_2: string (nullable = true)\n",
            " |-- PERSON_SEX: string (nullable = true)\n",
            "\n"
          ],
          "name": "stdout"
        }
      ]
    },
    {
      "cell_type": "code",
      "metadata": {
        "id": "OWktNSKKrpw1"
      },
      "source": [
        "col.createOrReplaceTempView(\"person\");"
      ],
      "execution_count": 13,
      "outputs": []
    },
    {
      "cell_type": "code",
      "metadata": {
        "id": "MFFrg839rpm1"
      },
      "source": [
        "age = spark.sql(\"select PERSON_AGE, count(PERSON_AGE) from person where PERSON_AGE not in (0,40) group by PERSON_AGE order by PERSON_AGE\")   "
      ],
      "execution_count": 14,
      "outputs": []
    },
    {
      "cell_type": "code",
      "metadata": {
        "id": "89ECxma8rpb1"
      },
      "source": [
        "#age = person.select(\"PERSON_AGE\").distinct().show(150)"
      ],
      "execution_count": 15,
      "outputs": []
    },
    {
      "cell_type": "code",
      "metadata": {
        "id": "YRJkyBecYq-3"
      },
      "source": [
        "#age = age.show()"
      ],
      "execution_count": 16,
      "outputs": []
    },
    {
      "cell_type": "code",
      "metadata": {
        "id": "pdDZ7-h7rpQS",
        "colab": {
          "base_uri": "https://localhost:8080/"
        },
        "outputId": "b1d80f19-a72e-4dc8-e646-2b40dd40499a"
      },
      "source": [
        "pip install pyspark_dist_explore"
      ],
      "execution_count": 17,
      "outputs": [
        {
          "output_type": "stream",
          "text": [
            "Collecting pyspark_dist_explore\n",
            "  Downloading https://files.pythonhosted.org/packages/3c/33/2b6c29265413f2b56516caf02b8befbb6a79a1a3516d57bf1b0742a1be40/pyspark_dist_explore-0.1.8-py3-none-any.whl\n",
            "Requirement already satisfied: scipy in /usr/local/lib/python3.7/dist-packages (from pyspark_dist_explore) (1.4.1)\n",
            "Requirement already satisfied: pandas in /usr/local/lib/python3.7/dist-packages (from pyspark_dist_explore) (1.1.5)\n",
            "Requirement already satisfied: matplotlib in /usr/local/lib/python3.7/dist-packages (from pyspark_dist_explore) (3.2.2)\n",
            "Requirement already satisfied: numpy in /usr/local/lib/python3.7/dist-packages (from pyspark_dist_explore) (1.19.5)\n",
            "Requirement already satisfied: python-dateutil>=2.7.3 in /usr/local/lib/python3.7/dist-packages (from pandas->pyspark_dist_explore) (2.8.1)\n",
            "Requirement already satisfied: pytz>=2017.2 in /usr/local/lib/python3.7/dist-packages (from pandas->pyspark_dist_explore) (2018.9)\n",
            "Requirement already satisfied: kiwisolver>=1.0.1 in /usr/local/lib/python3.7/dist-packages (from matplotlib->pyspark_dist_explore) (1.3.1)\n",
            "Requirement already satisfied: cycler>=0.10 in /usr/local/lib/python3.7/dist-packages (from matplotlib->pyspark_dist_explore) (0.10.0)\n",
            "Requirement already satisfied: pyparsing!=2.0.4,!=2.1.2,!=2.1.6,>=2.0.1 in /usr/local/lib/python3.7/dist-packages (from matplotlib->pyspark_dist_explore) (2.4.7)\n",
            "Requirement already satisfied: six>=1.5 in /usr/local/lib/python3.7/dist-packages (from python-dateutil>=2.7.3->pandas->pyspark_dist_explore) (1.15.0)\n",
            "Installing collected packages: pyspark-dist-explore\n",
            "Successfully installed pyspark-dist-explore-0.1.8\n"
          ],
          "name": "stdout"
        }
      ]
    },
    {
      "cell_type": "code",
      "metadata": {
        "id": "m-CiVBfARKmo"
      },
      "source": [
        "import pandas as pd"
      ],
      "execution_count": 18,
      "outputs": []
    },
    {
      "cell_type": "code",
      "metadata": {
        "id": "sD1sgW9ARKco"
      },
      "source": [
        "#pd.DataFrame(age.collect()).plot.bar(x=0,y=1,color=['orange'],figsize=(15,10))"
      ],
      "execution_count": 19,
      "outputs": []
    },
    {
      "cell_type": "code",
      "metadata": {
        "id": "GK7eK5mwRKQw",
        "colab": {
          "base_uri": "https://localhost:8080/",
          "height": 627
        },
        "outputId": "a0a1db89-2637-45a7-89d1-7f608befe8d0"
      },
      "source": [
        "df = pd.DataFrame(age.collect())\n",
        "plo=pd.DataFrame({\n",
        "   'Age': df[1].tolist(),\n",
        "   }, index=df[0].tolist())\n",
        "plo.plot(figsize=(10,10),yticks=range(0, 100000, 3000),xticks=range(0,120,5),xlabel=\"Age (in years)\",ylabel=\"Person count\")"
      ],
      "execution_count": 20,
      "outputs": [
        {
          "output_type": "execute_result",
          "data": {
            "text/plain": [
              "<matplotlib.axes._subplots.AxesSubplot at 0x7f9d0892d350>"
            ]
          },
          "metadata": {
            "tags": []
          },
          "execution_count": 20
        },
        {
          "output_type": "display_data",
          "data": {
            "image/png": "[encoded data removed]",
            "text/plain": [
              "<Figure size 720x720 with 1 Axes>"
            ]
          },
          "metadata": {
            "tags": [],
            "needs_background": "light"
          }
        }
      ]
    },
    {
      "cell_type": "code",
      "metadata": {
        "id": "CGHjRstnfg8N",
        "colab": {
          "base_uri": "https://localhost:8080/"
        },
        "outputId": "57069e08-d1ca-4f06-8486-6e1de1686ef9"
      },
      "source": [
        "col.select('PERSON_INJURY').distinct().show(10)"
      ],
      "execution_count": 23,
      "outputs": [
        {
          "output_type": "stream",
          "text": [
            "+-------------+\n",
            "|PERSON_INJURY|\n",
            "+-------------+\n",
            "|       Killed|\n",
            "|  Unspecified|\n",
            "|      Injured|\n",
            "+-------------+\n",
            "\n"
          ],
          "name": "stdout"
        }
      ]
    },
    {
      "cell_type": "code",
      "metadata": {
        "colab": {
          "base_uri": "https://localhost:8080/"
        },
        "id": "Pt8sbtEXkII2",
        "outputId": "25231f0a-0ac1-44e4-f616-3ead7606ea93"
      },
      "source": [
        "col.printSchema()\n"
      ],
      "execution_count": 26,
      "outputs": [
        {
          "output_type": "stream",
          "text": [
            "root\n",
            " |-- UNIQUE_ID: integer (nullable = true)\n",
            " |-- COLLISION_ID: integer (nullable = true)\n",
            " |-- CRASH_DATE: string (nullable = true)\n",
            " |-- CRASH_TIME: string (nullable = true)\n",
            " |-- PERSON_ID: string (nullable = true)\n",
            " |-- PERSON_TYPE: string (nullable = true)\n",
            " |-- PERSON_INJURY: string (nullable = true)\n",
            " |-- VEHICLE_ID: integer (nullable = true)\n",
            " |-- PERSON_AGE: integer (nullable = true)\n",
            " |-- EJECTION: string (nullable = true)\n",
            " |-- EMOTIONAL_STATUS: string (nullable = true)\n",
            " |-- BODILY_INJURY: string (nullable = true)\n",
            " |-- POSITION_IN_VEHICLE: string (nullable = true)\n",
            " |-- SAFETY_EQUIPMENT: string (nullable = true)\n",
            " |-- PED_LOCATION: string (nullable = true)\n",
            " |-- PED_ACTION: string (nullable = true)\n",
            " |-- COMPLAINT: string (nullable = true)\n",
            " |-- PED_ROLE: string (nullable = true)\n",
            " |-- CONTRIBUTING_FACTOR_1: string (nullable = true)\n",
            " |-- CONTRIBUTING_FACTOR_2: string (nullable = true)\n",
            " |-- PERSON_SEX: string (nullable = true)\n",
            "\n"
          ],
          "name": "stdout"
        }
      ]
    },
    {
      "cell_type": "code",
      "metadata": {
        "colab": {
          "base_uri": "https://localhost:8080/"
        },
        "id": "C0mpEliLGoc0",
        "outputId": "18022f55-c56a-4a76-f391-553d4266b145"
      },
      "source": [
        "col.select(\"BODILY_INJURY\").distinct().show()"
      ],
      "execution_count": 27,
      "outputs": [
        {
          "output_type": "stream",
          "text": [
            "+--------------------+\n",
            "|       BODILY_INJURY|\n",
            "+--------------------+\n",
            "|      Does Not Apply|\n",
            "|                Head|\n",
            "|         Unspecified|\n",
            "|             Unknown|\n",
            "|                Neck|\n",
            "|Elbow-Lower-Arm-Hand|\n",
            "|         Entire Body|\n",
            "|                Face|\n",
            "|                Back|\n",
            "|       Hip-Upper Leg|\n",
            "|    Abdomen - Pelvis|\n",
            "|                 Eye|\n",
            "|Shoulder - Upper Arm|\n",
            "|               Chest|\n",
            "| Knee-Lower Leg Foot|\n",
            "+--------------------+\n",
            "\n"
          ],
          "name": "stdout"
        }
      ]
    },
    {
      "cell_type": "code",
      "metadata": {
        "id": "z9lE6Q6lk6XY"
      },
      "source": [
        "AvgpersonsInolved = spark.sql(\"select avg(counter) from (select COLLISION_ID, count(PERSON_INJURY) as counter from person group by COLLISION_ID)\")"
      ],
      "execution_count": 28,
      "outputs": []
    },
    {
      "cell_type": "code",
      "metadata": {
        "colab": {
          "base_uri": "https://localhost:8080/"
        },
        "id": "0-ouyRtoHhWx",
        "outputId": "937b7dd1-9c2c-405f-e2ea-65df8479abc6"
      },
      "source": [
        "AvgpersonsInolved.show()"
      ],
      "execution_count": 29,
      "outputs": [
        {
          "output_type": "stream",
          "text": [
            "+-----------------+\n",
            "|     avg(counter)|\n",
            "+-----------------+\n",
            "|3.723070623352955|\n",
            "+-----------------+\n",
            "\n"
          ],
          "name": "stdout"
        }
      ]
    },
    {
      "cell_type": "code",
      "metadata": {
        "id": "vIzariKXHiwP"
      },
      "source": [
        "EmotionalStats = spark.sql(\"select EMOTIONAL_STATUS, count(PERSON_ID) as counter from person group by EMOTIONAL_STATUS having EMOTIONAL_STATUS not in ('Unspecified','Unknown','Does Not Apply','Conscious') order by counter desc\")"
      ],
      "execution_count": 30,
      "outputs": []
    },
    {
      "cell_type": "code",
      "metadata": {
        "colab": {
          "base_uri": "https://localhost:8080/"
        },
        "id": "XWt3xkb_I9ME",
        "outputId": "bb0af16a-ec2a-4fa2-a01a-2368338b3c8d"
      },
      "source": [
        "EmotionalStats.show()"
      ],
      "execution_count": 31,
      "outputs": [
        {
          "output_type": "stream",
          "text": [
            "+----------------+-------+\n",
            "|EMOTIONAL_STATUS|counter|\n",
            "+----------------+-------+\n",
            "|           Shock|   6984|\n",
            "|   Semiconscious|   1827|\n",
            "|     Unconscious|   1533|\n",
            "|      Incoherent|   1263|\n",
            "|  Apparent Death|   1107|\n",
            "+----------------+-------+\n",
            "\n"
          ],
          "name": "stdout"
        }
      ]
    },
    {
      "cell_type": "code",
      "metadata": {
        "colab": {
          "base_uri": "https://localhost:8080/",
          "height": 529
        },
        "id": "d52iE0FJKz7g",
        "outputId": "9770fd40-23a6-48c1-f0c2-177bc4745d11"
      },
      "source": [
        "pd.DataFrame(EmotionalStats.collect()).plot.bar(x=0,y=1,color=[\"#6666ff\",\"#6666ff\",\"#6666ff\",\"#6666ff\",\"#6666ff\"],figsize=(7,7)\n",
        "                                                                                                          ,xlabel=\"Emotional State\",ylabel=\"Crash Count\",label=\"Emotional Issues\")\n"
      ],
      "execution_count": 32,
      "outputs": [
        {
          "output_type": "execute_result",
          "data": {
            "text/plain": [
              "<matplotlib.axes._subplots.AxesSubplot at 0x7f9d0819e090>"
            ]
          },
          "metadata": {
            "tags": []
          },
          "execution_count": 32
        },
        {
          "output_type": "display_data",
          "data": {
            "image/png": "[encoded data removed]",
            "text/plain": [
              "<Figure size 504x504 with 1 Axes>"
            ]
          },
          "metadata": {
            "tags": [],
            "needs_background": "light"
          }
        }
      ]
    },
    {
      "cell_type": "code",
      "metadata": {
        "id": "V_VffgY8LPzF"
      },
      "source": [
        "InjuryTypeAndShockCount = spark.sql(\"select BODILY_INJURY, count(EMOTIONAL_STATUS) as counter from person where EMOTIONAL_STATUS not in ('Unspecified','Unknown','Does Not Apply','Conscious') group by BODILY_INJURY having BODILY_INJURY not in ('Does Not Apply','Unknown','Does Not Apply','Unspecified') order by counter desc\")\n"
      ],
      "execution_count": 34,
      "outputs": []
    },
    {
      "cell_type": "code",
      "metadata": {
        "colab": {
          "base_uri": "https://localhost:8080/",
          "height": 569
        },
        "id": "RSabT-f6ORVD",
        "outputId": "b616d032-0f61-4b45-f286-f460fa2dd88b"
      },
      "source": [
        "pd.DataFrame(InjuryTypeAndShockCount.collect()).plot.bar(x=0,y=1,color=[\"#6666ff\",\"#6666ff\",\"#6666ff\",\"#6666ff\",\"#6666ff\"],figsize=(7,7)\n",
        "                                                                                                          ,xlabel=\"Injury Type\",ylabel=\"Lost Conscious\",label=\"Lost concious state\")\n"
      ],
      "execution_count": 35,
      "outputs": [
        {
          "output_type": "execute_result",
          "data": {
            "text/plain": [
              "<matplotlib.axes._subplots.AxesSubplot at 0x7f9d080cb850>"
            ]
          },
          "metadata": {
            "tags": []
          },
          "execution_count": 35
        },
        {
          "output_type": "display_data",
          "data": {
            "image/png": "[encoded data removed]",
            "text/plain": [
              "<Figure size 504x504 with 1 Axes>"
            ]
          },
          "metadata": {
            "tags": [],
            "needs_background": "light"
          }
        }
      ]
    },
    {
      "cell_type": "code",
      "metadata": {
        "id": "0Pc05lKVOURI"
      },
      "source": [
        "DeadliestBodlyInjuries = spark.sql(\"select BODILY_INJURY, count(PERSON_INJURY) as total from person where PERSON_INJURY='Killed' group by BODILY_INJURY having BODILY_INJURY not in ('Does Not Apply','Unknown','Does Not Apply','Unspecified') order by total desc\")\n"
      ],
      "execution_count": 36,
      "outputs": []
    },
    {
      "cell_type": "code",
      "metadata": {
        "colab": {
          "base_uri": "https://localhost:8080/",
          "height": 566
        },
        "id": "SHf1Z5Y4R3PO",
        "outputId": "543f8236-0bf2-49f2-dc37-d986e54d80ae"
      },
      "source": [
        "pd.DataFrame(DeadliestBodlyInjuries.collect()).plot.bar(x=0,y=1,color=[\"#6666ff\",\"#6666ff\",\"#6666ff\",\"#6666ff\",\"#6666ff\"],figsize=(7,7)\n",
        "                                                                                                          ,xlabel=\"Bodily injury Type\",ylabel=\"Death Count\",label=\"Death due to type of Bodily Injury\")\n"
      ],
      "execution_count": 37,
      "outputs": [
        {
          "output_type": "execute_result",
          "data": {
            "text/plain": [
              "<matplotlib.axes._subplots.AxesSubplot at 0x7f9d07ffbed0>"
            ]
          },
          "metadata": {
            "tags": []
          },
          "execution_count": 37
        },
        {
          "output_type": "display_data",
          "data": {
            "image/png": "[encoded data removed]",
            "text/plain": [
              "<Figure size 504x504 with 1 Axes>"
            ]
          },
          "metadata": {
            "tags": [],
            "needs_background": "light"
          }
        }
      ]
    }
  ]
}