{
  "nbformat": 4,
  "nbformat_minor": 0,
  "metadata": {
    "colab": {
      "name": "data_cleaning_coll.ipynb",
      "provenance": [],
      "include_colab_link": true
    },
    "kernelspec": {
      "name": "python3",
      "display_name": "Python 3"
    },
    "language_info": {
      "name": "python"
    }
  },
  "cells": [
    {
      "cell_type": "markdown",
      "metadata": {
        "id": "view-in-github",
        "colab_type": "text"
      },
      "source": [
        "<a href=\"https://colab.research.google.com/github/Parv17k/nyc_collision_data_analysis/blob/main/data_cleaning.ipynb\" target=\"_parent\"><img src=\"https://colab.research.google.com/assets/colab-badge.svg\" alt=\"Open In Colab\"/></a>"
      ]
    },
    {
      "cell_type": "code",
      "metadata": {
        "id": "w6jTpg3YeRzl"
      },
      "source": [
        "!apt-get install openjdk-8-jdk-headless -qq > /dev/null"
      ],
      "execution_count": 2,
      "outputs": []
    },
    {
      "cell_type": "code",
      "metadata": {
        "id": "H0X6aSI8evek"
      },
      "source": [
        "!wget -q https://downloads.apache.org/spark/spark-3.1.1/spark-3.1.1-bin-hadoop2.7.tgz"
      ],
      "execution_count": 3,
      "outputs": []
    },
    {
      "cell_type": "code",
      "metadata": {
        "id": "1dwVFgcH7H2Z"
      },
      "source": [
        "!wget -O longlat.csv -q https://public.opendatasoft.com/explore/dataset/us-zip-code-latitude-and-longitude/download/?format=csv&timezone=America/New_York&lang=en&use_labels_for_header=true&csv_separator=%3B"
      ],
      "execution_count": 4,
      "outputs": []
    },
    {
      "cell_type": "code",
      "metadata": {
        "id": "kkohxcnCe9iQ",
        "colab": {
          "base_uri": "https://localhost:8080/"
        },
        "outputId": "1548c2dd-2c8d-4ec0-931f-fed66c901812"
      },
      "source": [
        "ls"
      ],
      "execution_count": 5,
      "outputs": [
        {
          "output_type": "stream",
          "text": [
            "longlat.csv  \u001b[0m\u001b[01;34msample_data\u001b[0m/  spark-3.1.1-bin-hadoop2.7.tgz\n"
          ],
          "name": "stdout"
        }
      ]
    },
    {
      "cell_type": "code",
      "metadata": {
        "id": "qSVPom6zgD7I"
      },
      "source": [
        "!tar xf spark-3.1.1-bin-hadoop2.7.tgz"
      ],
      "execution_count": 6,
      "outputs": []
    },
    {
      "cell_type": "code",
      "metadata": {
        "id": "BAss6VLvgNAB"
      },
      "source": [
        "!pip install -q findspark"
      ],
      "execution_count": 7,
      "outputs": []
    },
    {
      "cell_type": "code",
      "metadata": {
        "id": "5QFpj19pgRvm"
      },
      "source": [
        "import os\n",
        "os.environ[\"JAVA_HOME\"] = \"/usr/lib/jvm/java-8-openjdk-amd64\"\n",
        "os.environ[\"SPARK_HOME\"] = \"/content/spark-3.1.1-bin-hadoop2.7\""
      ],
      "execution_count": 8,
      "outputs": []
    },
    {
      "cell_type": "code",
      "metadata": {
        "id": "qDgoozyCgmTh"
      },
      "source": [
        "import findspark\n",
        "findspark.init()"
      ],
      "execution_count": 9,
      "outputs": []
    },
    {
      "cell_type": "code",
      "metadata": {
        "id": "7ijcOHTqgp6Z"
      },
      "source": [
        "import findspark\n",
        "findspark.init()"
      ],
      "execution_count": 10,
      "outputs": []
    },
    {
      "cell_type": "code",
      "metadata": {
        "colab": {
          "base_uri": "https://localhost:8080/",
          "height": 35
        },
        "id": "oqUwg_nZgr-I",
        "outputId": "e5b305a8-becb-421f-d71f-864dfdf69449"
      },
      "source": [
        "findspark.find()"
      ],
      "execution_count": 11,
      "outputs": [
        {
          "output_type": "execute_result",
          "data": {
            "application/vnd.google.colaboratory.intrinsic+json": {
              "type": "string"
            },
            "text/plain": [
              "'/content/spark-3.1.1-bin-hadoop2.7'"
            ]
          },
          "metadata": {
            "tags": []
          },
          "execution_count": 11
        }
      ]
    },
    {
      "cell_type": "code",
      "metadata": {
        "id": "85kD6PaGgubo"
      },
      "source": [
        "from pyspark.sql import SparkSession\n",
        "\n",
        "spark = SparkSession.builder\\\n",
        "        .master(\"local\")\\\n",
        "        .appName(\"Collision\")\\\n",
        "        .config('spark.ui.port', '4050')\\\n",
        "        .getOrCreate()"
      ],
      "execution_count": 12,
      "outputs": []
    },
    {
      "cell_type": "code",
      "metadata": {
        "colab": {
          "base_uri": "https://localhost:8080/"
        },
        "id": "rHGTcgdPgzO5",
        "outputId": "f4c5545e-295a-4175-ed31-a4569d0b66dd"
      },
      "source": [
        "!wget https://bin.equinox.io/c/4VmDzA7iaHb/ngrok-stable-linux-amd64.zip\n",
        "!unzip -y ngrok-stable-linux-amd64.zip\n",
        "get_ipython().system_raw('./ngrok http 4050 &')\n",
        "!curl -s http://localhost:4040/api/tunnels"
      ],
      "execution_count": 13,
      "outputs": [
        {
          "output_type": "stream",
          "text": [
            "--2021-03-29 00:59:48--  https://bin.equinox.io/c/4VmDzA7iaHb/ngrok-stable-linux-amd64.zip\n",
            "Resolving bin.equinox.io (bin.equinox.io)... 3.209.27.98, 54.209.152.48, 3.224.116.172, ...\n",
            "Connecting to bin.equinox.io (bin.equinox.io)|3.209.27.98|:443... connected.\n",
            "HTTP request sent, awaiting response... 200 OK\n",
            "Length: 13805791 (13M) [application/octet-stream]\n",
            "Saving to: ‘ngrok-stable-linux-amd64.zip’\n",
            "\n",
            "ngrok-stable-linux- 100%[===================>]  13.17M  36.7MB/s    in 0.4s    \n",
            "\n",
            "2021-03-29 00:59:49 (36.7 MB/s) - ‘ngrok-stable-linux-amd64.zip’ saved [13805791/13805791]\n",
            "\n",
            "UnZip 6.00 of 20 April 2009, by Debian. Original by Info-ZIP.\n",
            "\n",
            "Usage: unzip [-Z] [-opts[modifiers]] file[.zip] [list] [-x xlist] [-d exdir]\n",
            "  Default action is to extract files in list, except those in xlist, to exdir;\n",
            "  file[.zip] may be a wildcard.  -Z => ZipInfo mode (\"unzip -Z\" for usage).\n",
            "\n",
            "  -p  extract files to pipe, no messages     -l  list files (short format)\n",
            "  -f  freshen existing files, create none    -t  test compressed archive data\n",
            "  -u  update files, create if necessary      -z  display archive comment only\n",
            "  -v  list verbosely/show version info       -T  timestamp archive to latest\n",
            "  -x  exclude files that follow (in xlist)   -d  extract files into exdir\n",
            "modifiers:\n",
            "  -n  never overwrite existing files         -q  quiet mode (-qq => quieter)\n",
            "  -o  overwrite files WITHOUT prompting      -a  auto-convert any text files\n",
            "  -j  junk paths (do not make directories)   -aa treat ALL files as text\n",
            "  -U  use escapes for all non-ASCII Unicode  -UU ignore any Unicode fields\n",
            "  -C  match filenames case-insensitively     -L  make (some) names lowercase\n",
            "  -X  restore UID/GID info                   -V  retain VMS version numbers\n",
            "  -K  keep setuid/setgid/tacky permissions   -M  pipe through \"more\" pager\n",
            "  -O CHARSET  specify a character encoding for DOS, Windows and OS/2 archives\n",
            "  -I CHARSET  specify a character encoding for UNIX and other archives\n",
            "\n",
            "See \"unzip -hh\" or unzip.txt for more help.  Examples:\n",
            "  unzip data1 -x joe   => extract all files except joe from zipfile data1.zip\n",
            "  unzip -p foo | more  => send contents of foo.zip via pipe into program more\n",
            "  unzip -fo foo ReadMe => quietly replace existing ReadMe if archive file newer\n"
          ],
          "name": "stdout"
        }
      ]
    },
    {
      "cell_type": "code",
      "metadata": {
        "id": "VmC2Gt3zhUV-"
      },
      "source": [
        "!wget -q https://data.cityofnewyork.us/api/views/h9gi-nx95/rows.csv"
      ],
      "execution_count": 14,
      "outputs": []
    },
    {
      "cell_type": "code",
      "metadata": {
        "id": "PGqtOpKUid8k"
      },
      "source": [
        "mv rows.csv col.csv\n"
      ],
      "execution_count": 15,
      "outputs": []
    },
    {
      "cell_type": "code",
      "metadata": {
        "colab": {
          "base_uri": "https://localhost:8080/"
        },
        "id": "YGRRsExXi_0O",
        "outputId": "1e6b1559-d7f5-4e4c-fa3c-6c4d8d1a2c6f"
      },
      "source": [
        "ls\n"
      ],
      "execution_count": 16,
      "outputs": [
        {
          "output_type": "stream",
          "text": [
            "col.csv      ngrok-stable-linux-amd64.zip  \u001b[0m\u001b[01;34mspark-3.1.1-bin-hadoop2.7\u001b[0m/\n",
            "longlat.csv  \u001b[01;34msample_data\u001b[0m/                  spark-3.1.1-bin-hadoop2.7.tgz\n"
          ],
          "name": "stdout"
        }
      ]
    },
    {
      "cell_type": "code",
      "metadata": {
        "id": "72QSXkXojrUD"
      },
      "source": [
        "from pyspark import SparkContext,SparkConf\n",
        "from pyspark.sql import SparkSession\n",
        "import pyspark\n",
        "conf = pyspark.SparkConf()\n",
        "conf.set(\"spark.driver.memory\",\"8G\");\n",
        "import numpy as np\n",
        "sc = SparkContext.getOrCreate(conf=conf)\n",
        "from pyspark.sql.functions import round, col\n"
      ],
      "execution_count": 17,
      "outputs": []
    },
    {
      "cell_type": "code",
      "metadata": {
        "id": "Rp7NvIACj4Hn"
      },
      "source": [
        "spark =SparkSession(sc)"
      ],
      "execution_count": 18,
      "outputs": []
    },
    {
      "cell_type": "code",
      "metadata": {
        "id": "sJCZa6g7j8_W"
      },
      "source": [
        "col=spark.read.option(\"header\",True).csv(\"./col.csv\",inferSchema=True)\n",
        "longlat=spark.read.option(\"delimiter\",\";\").csv(\"./longlat.csv\",inferSchema=True,header=True)"
      ],
      "execution_count": 19,
      "outputs": []
    },
    {
      "cell_type": "code",
      "metadata": {
        "colab": {
          "base_uri": "https://localhost:8080/"
        },
        "id": "EAACJ7l-kBrS",
        "outputId": "177cba22-440e-4ac7-ec90-84b3ba5bdc63"
      },
      "source": [
        "col.count()-col.distinct().count()"
      ],
      "execution_count": 20,
      "outputs": [
        {
          "output_type": "execute_result",
          "data": {
            "text/plain": [
              "0"
            ]
          },
          "metadata": {
            "tags": []
          },
          "execution_count": 20
        }
      ]
    },
    {
      "cell_type": "code",
      "metadata": {
        "colab": {
          "base_uri": "https://localhost:8080/"
        },
        "id": "qd3gJFzukGI7",
        "outputId": "86b23a90-fa8a-4578-a5af-867944b82132"
      },
      "source": [
        "len(col.columns)\n"
      ],
      "execution_count": 21,
      "outputs": [
        {
          "output_type": "execute_result",
          "data": {
            "text/plain": [
              "29"
            ]
          },
          "metadata": {
            "tags": []
          },
          "execution_count": 21
        }
      ]
    },
    {
      "cell_type": "code",
      "metadata": {
        "colab": {
          "base_uri": "https://localhost:8080/"
        },
        "id": "TKbsJ_f8kIWu",
        "outputId": "b3be7cff-e5c8-45f0-fa9f-2ff8c92f519f"
      },
      "source": [
        "col.printSchema()"
      ],
      "execution_count": 22,
      "outputs": [
        {
          "output_type": "stream",
          "text": [
            "root\n",
            " |-- CRASH DATE: string (nullable = true)\n",
            " |-- CRASH TIME: string (nullable = true)\n",
            " |-- BOROUGH: string (nullable = true)\n",
            " |-- ZIP CODE: string (nullable = true)\n",
            " |-- LATITUDE: double (nullable = true)\n",
            " |-- LONGITUDE: double (nullable = true)\n",
            " |-- LOCATION: string (nullable = true)\n",
            " |-- ON STREET NAME: string (nullable = true)\n",
            " |-- CROSS STREET NAME: string (nullable = true)\n",
            " |-- OFF STREET NAME: string (nullable = true)\n",
            " |-- NUMBER OF PERSONS INJURED: string (nullable = true)\n",
            " |-- NUMBER OF PERSONS KILLED: integer (nullable = true)\n",
            " |-- NUMBER OF PEDESTRIANS INJURED: integer (nullable = true)\n",
            " |-- NUMBER OF PEDESTRIANS KILLED: integer (nullable = true)\n",
            " |-- NUMBER OF CYCLIST INJURED: integer (nullable = true)\n",
            " |-- NUMBER OF CYCLIST KILLED: string (nullable = true)\n",
            " |-- NUMBER OF MOTORIST INJURED: string (nullable = true)\n",
            " |-- NUMBER OF MOTORIST KILLED: integer (nullable = true)\n",
            " |-- CONTRIBUTING FACTOR VEHICLE 1: string (nullable = true)\n",
            " |-- CONTRIBUTING FACTOR VEHICLE 2: string (nullable = true)\n",
            " |-- CONTRIBUTING FACTOR VEHICLE 3: string (nullable = true)\n",
            " |-- CONTRIBUTING FACTOR VEHICLE 4: string (nullable = true)\n",
            " |-- CONTRIBUTING FACTOR VEHICLE 5: string (nullable = true)\n",
            " |-- COLLISION_ID: integer (nullable = true)\n",
            " |-- VEHICLE TYPE CODE 1: string (nullable = true)\n",
            " |-- VEHICLE TYPE CODE 2: string (nullable = true)\n",
            " |-- VEHICLE TYPE CODE 3: string (nullable = true)\n",
            " |-- VEHICLE TYPE CODE 4: string (nullable = true)\n",
            " |-- VEHICLE TYPE CODE 5: string (nullable = true)\n",
            "\n"
          ],
          "name": "stdout"
        }
      ]
    },
    {
      "cell_type": "code",
      "metadata": {
        "id": "8tdfYdZF_7_d"
      },
      "source": [
        "from pyspark.sql.types import IntegerType\n",
        "col = col.withColumn(\"NUMBER OF PERSONS INJURED\", col[\"NUMBER OF PERSONS INJURED\"].cast(IntegerType()))\n",
        "col=col.withColumn(\"NUMBER OF CYCLIST KILLED\", col[\"NUMBER OF CYCLIST KILLED\"].cast(IntegerType()))\n",
        "col=col.withColumn(\"NUMBER OF MOTORIST INJURED\", col[\"NUMBER OF MOTORIST INJURED\"].cast(IntegerType()))"
      ],
      "execution_count": 23,
      "outputs": []
    },
    {
      "cell_type": "code",
      "metadata": {
        "colab": {
          "base_uri": "https://localhost:8080/"
        },
        "id": "YIB6R_9cgHx5",
        "outputId": "c444c314-ecb0-461a-f6a0-0c695be340b9"
      },
      "source": [
        "col.printSchema()"
      ],
      "execution_count": 24,
      "outputs": [
        {
          "output_type": "stream",
          "text": [
            "root\n",
            " |-- CRASH DATE: string (nullable = true)\n",
            " |-- CRASH TIME: string (nullable = true)\n",
            " |-- BOROUGH: string (nullable = true)\n",
            " |-- ZIP CODE: string (nullable = true)\n",
            " |-- LATITUDE: double (nullable = true)\n",
            " |-- LONGITUDE: double (nullable = true)\n",
            " |-- LOCATION: string (nullable = true)\n",
            " |-- ON STREET NAME: string (nullable = true)\n",
            " |-- CROSS STREET NAME: string (nullable = true)\n",
            " |-- OFF STREET NAME: string (nullable = true)\n",
            " |-- NUMBER OF PERSONS INJURED: integer (nullable = true)\n",
            " |-- NUMBER OF PERSONS KILLED: integer (nullable = true)\n",
            " |-- NUMBER OF PEDESTRIANS INJURED: integer (nullable = true)\n",
            " |-- NUMBER OF PEDESTRIANS KILLED: integer (nullable = true)\n",
            " |-- NUMBER OF CYCLIST INJURED: integer (nullable = true)\n",
            " |-- NUMBER OF CYCLIST KILLED: integer (nullable = true)\n",
            " |-- NUMBER OF MOTORIST INJURED: integer (nullable = true)\n",
            " |-- NUMBER OF MOTORIST KILLED: integer (nullable = true)\n",
            " |-- CONTRIBUTING FACTOR VEHICLE 1: string (nullable = true)\n",
            " |-- CONTRIBUTING FACTOR VEHICLE 2: string (nullable = true)\n",
            " |-- CONTRIBUTING FACTOR VEHICLE 3: string (nullable = true)\n",
            " |-- CONTRIBUTING FACTOR VEHICLE 4: string (nullable = true)\n",
            " |-- CONTRIBUTING FACTOR VEHICLE 5: string (nullable = true)\n",
            " |-- COLLISION_ID: integer (nullable = true)\n",
            " |-- VEHICLE TYPE CODE 1: string (nullable = true)\n",
            " |-- VEHICLE TYPE CODE 2: string (nullable = true)\n",
            " |-- VEHICLE TYPE CODE 3: string (nullable = true)\n",
            " |-- VEHICLE TYPE CODE 4: string (nullable = true)\n",
            " |-- VEHICLE TYPE CODE 5: string (nullable = true)\n",
            "\n"
          ],
          "name": "stdout"
        }
      ]
    },
    {
      "cell_type": "code",
      "metadata": {
        "id": "hYm1cOESlNoj"
      },
      "source": [
        "import seaborn as sns"
      ],
      "execution_count": 25,
      "outputs": []
    },
    {
      "cell_type": "code",
      "metadata": {
        "id": "ISull6Z7mrji"
      },
      "source": [
        "#dropping columns with collision id = null"
      ],
      "execution_count": 26,
      "outputs": []
    },
    {
      "cell_type": "code",
      "metadata": {
        "colab": {
          "base_uri": "https://localhost:8080/"
        },
        "id": "bSxL1_cvn0EZ",
        "outputId": "a86925fc-1843-4ef3-eff2-719f0f40a73f"
      },
      "source": [
        "col.filter(col.COLLISION_ID.isNull()).drop()"
      ],
      "execution_count": 27,
      "outputs": [
        {
          "output_type": "execute_result",
          "data": {
            "text/plain": [
              "DataFrame[CRASH DATE: string, CRASH TIME: string, BOROUGH: string, ZIP CODE: string, LATITUDE: double, LONGITUDE: double, LOCATION: string, ON STREET NAME: string, CROSS STREET NAME: string, OFF STREET NAME: string, NUMBER OF PERSONS INJURED: int, NUMBER OF PERSONS KILLED: int, NUMBER OF PEDESTRIANS INJURED: int, NUMBER OF PEDESTRIANS KILLED: int, NUMBER OF CYCLIST INJURED: int, NUMBER OF CYCLIST KILLED: int, NUMBER OF MOTORIST INJURED: int, NUMBER OF MOTORIST KILLED: int, CONTRIBUTING FACTOR VEHICLE 1: string, CONTRIBUTING FACTOR VEHICLE 2: string, CONTRIBUTING FACTOR VEHICLE 3: string, CONTRIBUTING FACTOR VEHICLE 4: string, CONTRIBUTING FACTOR VEHICLE 5: string, COLLISION_ID: int, VEHICLE TYPE CODE 1: string, VEHICLE TYPE CODE 2: string, VEHICLE TYPE CODE 3: string, VEHICLE TYPE CODE 4: string, VEHICLE TYPE CODE 5: string]"
            ]
          },
          "metadata": {
            "tags": []
          },
          "execution_count": 27
        }
      ]
    },
    {
      "cell_type": "code",
      "metadata": {
        "colab": {
          "base_uri": "https://localhost:8080/"
        },
        "id": "TiMX8EBZrRA3",
        "outputId": "7209c203-4ea5-47ff-c0b9-c54bf29ffde8"
      },
      "source": [
        "col.count()"
      ],
      "execution_count": 28,
      "outputs": [
        {
          "output_type": "execute_result",
          "data": {
            "text/plain": [
              "1764791"
            ]
          },
          "metadata": {
            "tags": []
          },
          "execution_count": 28
        }
      ]
    },
    {
      "cell_type": "code",
      "metadata": {
        "id": "0GDOxpvrpLeQ"
      },
      "source": [
        "missingLocation=col.filter(col[\"BOROUGH\"].isNull()).filter(col[\"ZIP CODE\"].isNull())"
      ],
      "execution_count": 29,
      "outputs": []
    },
    {
      "cell_type": "code",
      "metadata": {
        "id": "sAlRmhVbqwBN"
      },
      "source": [
        "cannotRetriveLocation =missingLocation.filter(col[\"LONGITUDE\"].isNull())"
      ],
      "execution_count": 30,
      "outputs": []
    },
    {
      "cell_type": "code",
      "metadata": {
        "colab": {
          "base_uri": "https://localhost:8080/"
        },
        "id": "ElF_74S_rZrn",
        "outputId": "25e23f24-225a-4a3b-d9ab-6583d67ae404"
      },
      "source": [
        "cannotRetriveLocation.count()"
      ],
      "execution_count": 31,
      "outputs": [
        {
          "output_type": "execute_result",
          "data": {
            "text/plain": [
              "177335"
            ]
          },
          "metadata": {
            "tags": []
          },
          "execution_count": 31
        }
      ]
    },
    {
      "cell_type": "code",
      "metadata": {
        "id": "QQHrj52qtLtC"
      },
      "source": [
        "# Infer the schema, and register the DataFrame as a table.\n",
        "\n",
        "col.createOrReplaceTempView(\"col\");\n",
        "cannotRetriveLocation.createOrReplaceTempView(\"toDelete\")"
      ],
      "execution_count": 32,
      "outputs": []
    },
    {
      "cell_type": "code",
      "metadata": {
        "id": "q0F0_v-qtSXR"
      },
      "source": [
        "colNew= spark.sql(\"select * FROM col WHERE col.COLLISION_ID not in (select COLLISION_ID from toDelete where COLLISION_ID is not null)\");\n"
      ],
      "execution_count": 33,
      "outputs": []
    },
    {
      "cell_type": "code",
      "metadata": {
        "colab": {
          "base_uri": "https://localhost:8080/"
        },
        "id": "B-BsmtYWv5tG",
        "outputId": "bcf87788-8e5b-495e-e660-573bcd56093f"
      },
      "source": [
        "colNew.count()"
      ],
      "execution_count": 34,
      "outputs": [
        {
          "output_type": "execute_result",
          "data": {
            "text/plain": [
              "1587454"
            ]
          },
          "metadata": {
            "tags": []
          },
          "execution_count": 34
        }
      ]
    },
    {
      "cell_type": "code",
      "metadata": {
        "colab": {
          "base_uri": "https://localhost:8080/"
        },
        "id": "DeQSWT5lwBdV",
        "outputId": "8c987540-6f76-47b0-c1ab-11b0735731ed"
      },
      "source": [
        "col.count() - cannotRetriveLocation.count()"
      ],
      "execution_count": 35,
      "outputs": [
        {
          "output_type": "execute_result",
          "data": {
            "text/plain": [
              "1587456"
            ]
          },
          "metadata": {
            "tags": []
          },
          "execution_count": 35
        }
      ]
    },
    {
      "cell_type": "code",
      "metadata": {
        "colab": {
          "base_uri": "https://localhost:8080/"
        },
        "id": "I3m_pSBiwFnE",
        "outputId": "25b4f767-6f2e-4701-8781-0630ad5c3100"
      },
      "source": [
        "colNew.filter(colNew[\"ZIP CODE\"].isNull()).filter(colNew[\"BOROUGH\"].isNotNull()).count()"
      ],
      "execution_count": 36,
      "outputs": [
        {
          "output_type": "execute_result",
          "data": {
            "text/plain": [
              "211"
            ]
          },
          "metadata": {
            "tags": []
          },
          "execution_count": 36
        }
      ]
    },
    {
      "cell_type": "code",
      "metadata": {
        "id": "-g5FF39ew20d"
      },
      "source": [
        "BOROUGH=list(map(lambda x : x[\"BOROUGH\"],colNew.select(\"BOROUGH\").distinct().collect()))"
      ],
      "execution_count": 37,
      "outputs": []
    },
    {
      "cell_type": "code",
      "metadata": {
        "colab": {
          "base_uri": "https://localhost:8080/"
        },
        "id": "cb-Gc1mBna0o",
        "outputId": "9314da64-d033-4a0a-861f-dc238736e42f"
      },
      "source": [
        "BOROUGH"
      ],
      "execution_count": 38,
      "outputs": [
        {
          "output_type": "execute_result",
          "data": {
            "text/plain": [
              "[None, 'QUEENS', 'BROOKLYN', 'BRONX', 'MANHATTAN', 'STATEN ISLAND']"
            ]
          },
          "metadata": {
            "tags": []
          },
          "execution_count": 38
        }
      ]
    },
    {
      "cell_type": "code",
      "metadata": {
        "colab": {
          "base_uri": "https://localhost:8080/"
        },
        "id": "QCmGVySL0Pzz",
        "outputId": "42554077-c750-4938-da36-f868948d54ff"
      },
      "source": [
        "longlat.printSchema()"
      ],
      "execution_count": 39,
      "outputs": [
        {
          "output_type": "stream",
          "text": [
            "root\n",
            " |-- zip: integer (nullable = true)\n",
            " |-- city: string (nullable = true)\n",
            " |-- state: string (nullable = true)\n",
            " |-- latitude: double (nullable = true)\n",
            " |-- longitude: double (nullable = true)\n",
            " |-- timezone: integer (nullable = true)\n",
            " |-- dst: integer (nullable = true)\n",
            " |-- geopoint: string (nullable = true)\n",
            "\n"
          ],
          "name": "stdout"
        }
      ]
    },
    {
      "cell_type": "code",
      "metadata": {
        "id": "6PK36ll9ALs9"
      },
      "source": [
        "\n",
        "colNew.createOrReplaceTempView(\"colNew\");\n",
        "longlat.createOrReplaceTempView(\"longlat\");"
      ],
      "execution_count": 40,
      "outputs": []
    },
    {
      "cell_type": "markdown",
      "metadata": {
        "id": "TX8k20b8GcwL"
      },
      "source": [
        ""
      ]
    },
    {
      "cell_type": "code",
      "metadata": {
        "id": "kTxfGswTBHyx"
      },
      "source": [
        "missingZipCode=colNew.filter(colNew['ZIP CODE'].isNull());\n"
      ],
      "execution_count": 41,
      "outputs": []
    },
    {
      "cell_type": "code",
      "metadata": {
        "id": "3vxaG-lSBHbX"
      },
      "source": [
        ""
      ],
      "execution_count": 41,
      "outputs": []
    },
    {
      "cell_type": "code",
      "metadata": {
        "id": "dfA5oNasDcHY"
      },
      "source": [
        "missingZipCode.createOrReplaceTempView(\"missingZipCode\");\n"
      ],
      "execution_count": 42,
      "outputs": []
    },
    {
      "cell_type": "code",
      "metadata": {
        "colab": {
          "base_uri": "https://localhost:8080/",
          "height": 147
        },
        "id": "N0fDEv64LXJ3",
        "outputId": "569eea6d-ad7b-42fb-a886-e71467a8d03c"
      },
      "source": [
        "\"\"\"\"\"\"\"\"\"\"\"\n",
        "for m in missingZipCode.limit(19).collect():\n",
        "  zip=spark.sql(\"select zip,city FROM longlat where ROUND(longlat.latitude,2) =\"+str(round(m.LATITUDE,2))+\" and ROUND(longlat.longitude,2)= \"+str(round(m.LONGITUDE,2))+\" limit 1\");\n",
        "  zip=zip.select(\"zip\",\"city\").collect()\n",
        "  if len(zip)>0:\n",
        "    if zip[0].city.upper()==\"NEW YORK\":\n",
        "      print(m[\"COLLISION_ID\"],\"MANHATTAN\",zip[0].zip)\n",
        "    else:\n",
        "        if zip[0].city.upper() in BOROUGH:\n",
        "          print(m[\"COLLISION_ID\"],zip[0].city.upper(),zip[0].zip)\n",
        "          \"\"\"\"\"\"\n"
      ],
      "execution_count": 43,
      "outputs": [
        {
          "output_type": "error",
          "ename": "SyntaxError",
          "evalue": "ignored",
          "traceback": [
            "\u001b[0;36m  File \u001b[0;32m\"<ipython-input-43-4c359d05e59a>\"\u001b[0;36m, line \u001b[0;32m11\u001b[0m\n\u001b[0;31m    \"\"\"\"\"\"\u001b[0m\n\u001b[0m          \n^\u001b[0m\n\u001b[0;31mSyntaxError\u001b[0m\u001b[0;31m:\u001b[0m EOF while scanning triple-quoted string literal\n"
          ]
        }
      ]
    },
    {
      "cell_type": "code",
      "metadata": {
        "id": "_tDVi773Pru-",
        "colab": {
          "base_uri": "https://localhost:8080/"
        },
        "outputId": "96b9b951-58aa-4cf3-d485-69e784c64bc8"
      },
      "source": [
        "colNew.select(\"NUMBER OF CYCLIST INJURED\").distinct().limit(100).show();"
      ],
      "execution_count": 44,
      "outputs": [
        {
          "output_type": "stream",
          "text": [
            "+-------------------------+\n",
            "|NUMBER OF CYCLIST INJURED|\n",
            "+-------------------------+\n",
            "|                        1|\n",
            "|                        3|\n",
            "|                        4|\n",
            "|                        2|\n",
            "|                        0|\n",
            "+-------------------------+\n",
            "\n"
          ],
          "name": "stdout"
        }
      ]
    },
    {
      "cell_type": "code",
      "metadata": {
        "id": "DwAsKglErRsk"
      },
      "source": [
        ""
      ],
      "execution_count": null,
      "outputs": []
    },
    {
      "cell_type": "markdown",
      "metadata": {
        "id": "BKR1Qaolal01"
      },
      "source": [
        "NUMBER OF CYCLIST INJURED Is cleaned."
      ]
    },
    {
      "cell_type": "code",
      "metadata": {
        "colab": {
          "base_uri": "https://localhost:8080/"
        },
        "id": "Oke_YOp3aqls",
        "outputId": "f331922e-7cb6-4b62-c8bc-1490dce50f39"
      },
      "source": [
        "print(colNew.select(\"NUMBER OF PERSONS INJURED\").distinct().show());"
      ],
      "execution_count": 45,
      "outputs": [
        {
          "output_type": "stream",
          "text": [
            "+-------------------------+\n",
            "|NUMBER OF PERSONS INJURED|\n",
            "+-------------------------+\n",
            "|                       31|\n",
            "|                       27|\n",
            "|                       12|\n",
            "|                       22|\n",
            "|                     null|\n",
            "|                        1|\n",
            "|                       13|\n",
            "|                        6|\n",
            "|                       16|\n",
            "|                        3|\n",
            "|                       20|\n",
            "|                        5|\n",
            "|                       19|\n",
            "|                       15|\n",
            "|                       43|\n",
            "|                        9|\n",
            "|                       17|\n",
            "|                        4|\n",
            "|                        8|\n",
            "|                        7|\n",
            "+-------------------------+\n",
            "only showing top 20 rows\n",
            "\n",
            "None\n"
          ],
          "name": "stdout"
        }
      ]
    },
    {
      "cell_type": "markdown",
      "metadata": {
        "id": "VWIHtav3a5py"
      },
      "source": [
        "NUMBER OF PERSONS INJURED has Null value hence making it to Zero."
      ]
    },
    {
      "cell_type": "code",
      "metadata": {
        "id": "6YleZDuMa3oU"
      },
      "source": [
        "colNew=colNew.fillna(value=0,subset=[\"NUMBER OF PERSONS INJURED\"])"
      ],
      "execution_count": null,
      "outputs": []
    },
    {
      "cell_type": "code",
      "metadata": {
        "id": "oD7gwbUxbxJp"
      },
      "source": [
        "colNew"
      ],
      "execution_count": null,
      "outputs": []
    },
    {
      "cell_type": "markdown",
      "metadata": {
        "id": "Yi2lIcnqhMm9"
      },
      "source": [
        ""
      ]
    },
    {
      "cell_type": "code",
      "metadata": {
        "colab": {
          "base_uri": "https://localhost:8080/"
        },
        "id": "3os8QdmMcE_Q",
        "outputId": "d4025e14-07e7-40a5-d625-d306503bca5b"
      },
      "source": [
        "#NUMBER OF PERSONS KILLED\n",
        "print(colNew.select(\"NUMBER OF PERSONS KILLED\").distinct().show());"
      ],
      "execution_count": 46,
      "outputs": [
        {
          "output_type": "stream",
          "text": [
            "+------------------------+\n",
            "|NUMBER OF PERSONS KILLED|\n",
            "+------------------------+\n",
            "|                    null|\n",
            "|                       1|\n",
            "|                       3|\n",
            "|                       5|\n",
            "|                       4|\n",
            "|                       8|\n",
            "|                       2|\n",
            "|                       0|\n",
            "+------------------------+\n",
            "\n",
            "None\n"
          ],
          "name": "stdout"
        }
      ]
    },
    {
      "cell_type": "markdown",
      "metadata": {
        "id": "C3R5AX0Vh9FK"
      },
      "source": [
        "NUMBER OF PERSONS KILLED has NULL values : replacign them with 0.\n"
      ]
    },
    {
      "cell_type": "code",
      "metadata": {
        "id": "EfoX3vF6hxOb"
      },
      "source": [
        "colNew=colNew.fillna(value=0,subset=[\"NUMBER OF PERSONS KILLED\"])"
      ],
      "execution_count": null,
      "outputs": []
    },
    {
      "cell_type": "code",
      "metadata": {
        "id": "7fJxvjC5iEdz"
      },
      "source": [
        "print(colNew.select(\"NUMBER OF PEDESTRIANS INJURED\").distinct().show());"
      ],
      "execution_count": null,
      "outputs": []
    },
    {
      "cell_type": "markdown",
      "metadata": {
        "id": "wcc_M6cjiOBa"
      },
      "source": [
        "NUMBER OF PEDESTRIANS INJURED has no null value"
      ]
    },
    {
      "cell_type": "code",
      "metadata": {
        "id": "5eJZP8eDiPui"
      },
      "source": [
        "#NUMBER OF PEDESTRIANS KILLED\n",
        "print(colNew.select(\"NUMBER OF PEDESTRIANS KILLED\").distinct().show());"
      ],
      "execution_count": null,
      "outputs": []
    },
    {
      "cell_type": "markdown",
      "metadata": {
        "id": "ZW3DJufWidXx"
      },
      "source": [
        "\n",
        "\n",
        "```\n",
        "NUMBER OF PEDESTRIANS KILLED has no null value\n",
        "```\n",
        "\n"
      ]
    },
    {
      "cell_type": "code",
      "metadata": {
        "id": "5Y7u0j2hik6r"
      },
      "source": [
        "print(colNew.select(\"NUMBER OF CYCLIST INJURED\").distinct().show());"
      ],
      "execution_count": null,
      "outputs": []
    },
    {
      "cell_type": "code",
      "metadata": {
        "id": "86cNFFbgir8W"
      },
      "source": [
        ""
      ],
      "execution_count": null,
      "outputs": []
    },
    {
      "cell_type": "markdown",
      "metadata": {
        "id": "BxzxmZyNiviy"
      },
      "source": [
        "NUMBER OF CYCLIST INJURED has no null value"
      ]
    },
    {
      "cell_type": "code",
      "metadata": {
        "id": "Il3UyBZ2iyua"
      },
      "source": [
        "print(colNew.select(\"NUMBER OF CYCLIST KILLED\").distinct().show());"
      ],
      "execution_count": null,
      "outputs": []
    },
    {
      "cell_type": "code",
      "metadata": {
        "id": "2EsFBEkMi8Ci"
      },
      "source": [
        ""
      ],
      "execution_count": null,
      "outputs": []
    },
    {
      "cell_type": "markdown",
      "metadata": {
        "id": "Ew2Xe-rGi9-z"
      },
      "source": [
        "NUMBER OF CYCLIST KILLED has no null value"
      ]
    },
    {
      "cell_type": "code",
      "metadata": {
        "id": "8N4O4-GXjDJX"
      },
      "source": [
        "#NUMBER OF MOTORIST INJURED\n",
        "print(colNew.select(\"NUMBER OF MOTORIST INJURED\").distinct().show(100));"
      ],
      "execution_count": null,
      "outputs": []
    },
    {
      "cell_type": "markdown",
      "metadata": {
        "id": "THCAUEDEjWZe"
      },
      "source": [
        "NUMBER OF MOTORIST INJURED has no null value"
      ]
    },
    {
      "cell_type": "code",
      "metadata": {
        "id": "RU2FnrQojLcn"
      },
      "source": [
        "#NUMBER OF MOTORIST INJURED\n",
        "print(colNew.select(\"NUMBER OF MOTORIST KILLED\").distinct().show(100));"
      ],
      "execution_count": null,
      "outputs": []
    },
    {
      "cell_type": "code",
      "metadata": {
        "id": "JzAqJZvbjdrL"
      },
      "source": [
        ""
      ],
      "execution_count": null,
      "outputs": []
    },
    {
      "cell_type": "markdown",
      "metadata": {
        "id": "wYiUDENKjfnc"
      },
      "source": [
        "NUMBER OF MOTORIST INJURED has no null value"
      ]
    },
    {
      "cell_type": "code",
      "metadata": {
        "colab": {
          "base_uri": "https://localhost:8080/"
        },
        "id": "0Nfqmb9TjgYM",
        "outputId": "9d022b05-00f3-4af3-b157-e35ef5db6328"
      },
      "source": [
        "#CONTRIBUTING FACTOR VEHICLE\n",
        "print(colNew.select(\"CONTRIBUTING FACTOR VEHICLE 1\").distinct().show(70));\n",
        "\n",
        "# has numerical values 1 and 80\n",
        "# has null value.\n"
      ],
      "execution_count": 48,
      "outputs": [
        {
          "output_type": "stream",
          "text": [
            "+-----------------------------+\n",
            "|CONTRIBUTING FACTOR VEHICLE 1|\n",
            "+-----------------------------+\n",
            "|         Following Too Clo...|\n",
            "|         Traffic Control D...|\n",
            "|         Driverless/Runawa...|\n",
            "|         Accelerator Defec...|\n",
            "|         Windshield Inadeq...|\n",
            "|         Using On Board Na...|\n",
            "|                 Unsafe Speed|\n",
            "|         Shoulders Defecti...|\n",
            "|               Tinted Windows|\n",
            "|            Oversized Vehicle|\n",
            "|         Passing or Lane U...|\n",
            "|         Lane Marking Impr...|\n",
            "|         Other Lighting De...|\n",
            "|                         null|\n",
            "|         Aggressive Drivin...|\n",
            "|              Other Vehicular|\n",
            "|          Driver Inexperience|\n",
            "|          Tow Hitch Defective|\n",
            "|                      Texting|\n",
            "|                       Illnes|\n",
            "|              Drugs (illegal)|\n",
            "|                  Unspecified|\n",
            "|           Pavement Defective|\n",
            "|         Prescription Medi...|\n",
            "|         Cell Phone (hand-...|\n",
            "|         View Obstructed/L...|\n",
            "|           Lost Consciousness|\n",
            "|         Reaction to Other...|\n",
            "|         Reaction to Uninv...|\n",
            "|                  Fell Asleep|\n",
            "|         Tire Failure/Inad...|\n",
            "|         Outside Car Distr...|\n",
            "|              Drugs (Illegal)|\n",
            "|              Fatigued/Drowsy|\n",
            "|         Driver Inattentio...|\n",
            "|         Cell Phone (hand-...|\n",
            "|         Listening/Using H...|\n",
            "|         Failure to Keep R...|\n",
            "|           Obstruction/Debris|\n",
            "|         Unsafe Lane Changing|\n",
            "|         Pedestrian/Bicycl...|\n",
            "|         Passenger Distrac...|\n",
            "|          Alcohol Involvement|\n",
            "|                            1|\n",
            "|                      Illness|\n",
            "|         Traffic Control D...|\n",
            "|             Backing Unsafely|\n",
            "|             Brakes Defective|\n",
            "|           Eating or Drinking|\n",
            "|         Headlights Defective|\n",
            "|         Failure to Yield ...|\n",
            "|               Animals Action|\n",
            "|           Turning Improperly|\n",
            "|                        Glare|\n",
            "|             Steering Failure|\n",
            "|          Passing Too Closely|\n",
            "|            Vehicle Vandalism|\n",
            "|            Pavement Slippery|\n",
            "|          Physical Disability|\n",
            "|                           80|\n",
            "|         Other Electronic ...|\n",
            "|         Cell Phone (hands...|\n",
            "+-----------------------------+\n",
            "\n",
            "None\n"
          ],
          "name": "stdout"
        }
      ]
    },
    {
      "cell_type": "code",
      "metadata": {
        "colab": {
          "base_uri": "https://localhost:8080/"
        },
        "id": "yv1mQy2rmjh4",
        "outputId": "14b5de7d-a4a4-4a3b-ffda-36f0e112cddb"
      },
      "source": [
        "#CONTRIBUTING FACTOR VEHICLE\n",
        "print(colNew.select(\"CONTRIBUTING FACTOR VEHICLE 2\").distinct().show(100));\n",
        "\n",
        "# has numerical values 1 and 80.\n",
        "# has null value.\n"
      ],
      "execution_count": 47,
      "outputs": [
        {
          "output_type": "stream",
          "text": [
            "+-----------------------------+\n",
            "|CONTRIBUTING FACTOR VEHICLE 2|\n",
            "+-----------------------------+\n",
            "|         Following Too Clo...|\n",
            "|         Traffic Control D...|\n",
            "|         Driverless/Runawa...|\n",
            "|         Accelerator Defec...|\n",
            "|         Windshield Inadeq...|\n",
            "|         Using On Board Na...|\n",
            "|                 Unsafe Speed|\n",
            "|         Shoulders Defecti...|\n",
            "|               Tinted Windows|\n",
            "|            Oversized Vehicle|\n",
            "|         Passing or Lane U...|\n",
            "|         Lane Marking Impr...|\n",
            "|         Other Lighting De...|\n",
            "|                         null|\n",
            "|         Aggressive Drivin...|\n",
            "|              Other Vehicular|\n",
            "|          Driver Inexperience|\n",
            "|          Tow Hitch Defective|\n",
            "|                      Texting|\n",
            "|                       Illnes|\n",
            "|              Drugs (illegal)|\n",
            "|                  Unspecified|\n",
            "|           Pavement Defective|\n",
            "|         Prescription Medi...|\n",
            "|         Cell Phone (hand-...|\n",
            "|         View Obstructed/L...|\n",
            "|           Lost Consciousness|\n",
            "|         Reaction to Other...|\n",
            "|         Reaction to Uninv...|\n",
            "|                  Fell Asleep|\n",
            "|         Tire Failure/Inad...|\n",
            "|         Outside Car Distr...|\n",
            "|              Drugs (Illegal)|\n",
            "|              Fatigued/Drowsy|\n",
            "|         Driver Inattentio...|\n",
            "|         Cell Phone (hand-...|\n",
            "|         Listening/Using H...|\n",
            "|         Failure to Keep R...|\n",
            "|           Obstruction/Debris|\n",
            "|         Unsafe Lane Changing|\n",
            "|         Pedestrian/Bicycl...|\n",
            "|         Passenger Distrac...|\n",
            "|          Alcohol Involvement|\n",
            "|                            1|\n",
            "|                      Illness|\n",
            "|         Traffic Control D...|\n",
            "|             Backing Unsafely|\n",
            "|             Brakes Defective|\n",
            "|           Eating or Drinking|\n",
            "|         Headlights Defective|\n",
            "|         Failure to Yield ...|\n",
            "|               Animals Action|\n",
            "|           Turning Improperly|\n",
            "|                        Glare|\n",
            "|             Steering Failure|\n",
            "|          Passing Too Closely|\n",
            "|            Vehicle Vandalism|\n",
            "|            Pavement Slippery|\n",
            "|          Physical Disability|\n",
            "|                           80|\n",
            "|         Other Electronic ...|\n",
            "|         Cell Phone (hands...|\n",
            "+-----------------------------+\n",
            "\n",
            "None\n"
          ],
          "name": "stdout"
        }
      ]
    },
    {
      "cell_type": "code",
      "metadata": {
        "id": "UeqFgJDbnbLc"
      },
      "source": [
        "#CONTRIBUTING FACTOR VEHICLE\n",
        "print(colNew.select(\"CONTRIBUTING FACTOR VEHICLE 3\").distinct().show(100));\n",
        "\n",
        "# has numerical values 1 and 80.\n",
        "# has null value."
      ],
      "execution_count": null,
      "outputs": []
    },
    {
      "cell_type": "code",
      "metadata": {
        "colab": {
          "base_uri": "https://localhost:8080/"
        },
        "id": "G5nOTYmvnneL",
        "outputId": "720dfd5f-461b-4d0a-8f20-4aea7e7c36b9"
      },
      "source": [
        "#CONTRIBUTING FACTOR VEHICLE\n",
        "print(colNew.select(\"CONTRIBUTING FACTOR VEHICLE 4\").distinct().show(100));\n",
        "# has null value."
      ],
      "execution_count": 49,
      "outputs": [
        {
          "output_type": "stream",
          "text": [
            "+-----------------------------+\n",
            "|CONTRIBUTING FACTOR VEHICLE 4|\n",
            "+-----------------------------+\n",
            "|         Following Too Clo...|\n",
            "|         Traffic Control D...|\n",
            "|         Accelerator Defec...|\n",
            "|         Driverless/Runawa...|\n",
            "|         Windshield Inadeq...|\n",
            "|                 Unsafe Speed|\n",
            "|         Passing or Lane U...|\n",
            "|                         null|\n",
            "|         Aggressive Drivin...|\n",
            "|              Other Vehicular|\n",
            "|          Driver Inexperience|\n",
            "|              Drugs (illegal)|\n",
            "|                  Unspecified|\n",
            "|           Pavement Defective|\n",
            "|         Prescription Medi...|\n",
            "|         View Obstructed/L...|\n",
            "|           Lost Consciousness|\n",
            "|         Reaction to Uninv...|\n",
            "|                  Fell Asleep|\n",
            "|         Outside Car Distr...|\n",
            "|              Drugs (Illegal)|\n",
            "|              Fatigued/Drowsy|\n",
            "|         Driver Inattentio...|\n",
            "|         Failure to Keep R...|\n",
            "|           Obstruction/Debris|\n",
            "|         Unsafe Lane Changing|\n",
            "|          Alcohol Involvement|\n",
            "|                      Illness|\n",
            "|         Traffic Control D...|\n",
            "|             Backing Unsafely|\n",
            "|             Brakes Defective|\n",
            "|         Failure to Yield ...|\n",
            "|               Animals Action|\n",
            "|           Turning Improperly|\n",
            "|                        Glare|\n",
            "|             Steering Failure|\n",
            "|          Passing Too Closely|\n",
            "|            Pavement Slippery|\n",
            "|          Physical Disability|\n",
            "|         Other Electronic ...|\n",
            "+-----------------------------+\n",
            "\n",
            "None\n"
          ],
          "name": "stdout"
        }
      ]
    },
    {
      "cell_type": "code",
      "metadata": {
        "colab": {
          "base_uri": "https://localhost:8080/"
        },
        "id": "pt8kCCdqlnIB",
        "outputId": "6f682abd-d051-4e32-ff17-f4ef5f15efe7"
      },
      "source": [
        "print(colNew.select(\"CONTRIBUTING FACTOR VEHICLE 5\").distinct().show(30));"
      ],
      "execution_count": 52,
      "outputs": [
        {
          "output_type": "stream",
          "text": [
            "+-----------------------------+\n",
            "|CONTRIBUTING FACTOR VEHICLE 5|\n",
            "+-----------------------------+\n",
            "|         Following Too Clo...|\n",
            "|         Traffic Control D...|\n",
            "|                 Unsafe Speed|\n",
            "|         Passing or Lane U...|\n",
            "|                         null|\n",
            "|         Aggressive Drivin...|\n",
            "|              Other Vehicular|\n",
            "|          Driver Inexperience|\n",
            "|              Drugs (illegal)|\n",
            "|                  Unspecified|\n",
            "|           Pavement Defective|\n",
            "|         Reaction to Uninv...|\n",
            "|                  Fell Asleep|\n",
            "|         Tire Failure/Inad...|\n",
            "|         Outside Car Distr...|\n",
            "|              Fatigued/Drowsy|\n",
            "|         Driver Inattentio...|\n",
            "|         Failure to Keep R...|\n",
            "|           Obstruction/Debris|\n",
            "|          Alcohol Involvement|\n",
            "|                      Illness|\n",
            "|         Traffic Control D...|\n",
            "|             Brakes Defective|\n",
            "|             Backing Unsafely|\n",
            "|         Failure to Yield ...|\n",
            "|                        Glare|\n",
            "|             Steering Failure|\n",
            "|          Passing Too Closely|\n",
            "|            Pavement Slippery|\n",
            "|         Other Electronic ...|\n",
            "+-----------------------------+\n",
            "\n",
            "None\n"
          ],
          "name": "stdout"
        }
      ]
    },
    {
      "cell_type": "code",
      "metadata": {
        "id": "FnZ6ERKdnveJ"
      },
      "source": [
        ""
      ],
      "execution_count": null,
      "outputs": []
    },
    {
      "cell_type": "markdown",
      "metadata": {
        "id": "VKysQ3WooIvG"
      },
      "source": [
        "# ***TODO***\n",
        "Treat Null Values for all column to  Unknown. 1,2,3,4,5\n",
        "\n",
        "\n",
        "Treat **1 and 80** for CONTRIBUTING FACTOR VEHICLE 1,2,3"
      ]
    },
    {
      "cell_type": "code",
      "metadata": {
        "id": "OWG3BkPVoUdq"
      },
      "source": [
        "# zip,borough,location,long,lat, [contributing1,2,3,4], killed and injured [3-4],COLLISION_ID."
      ],
      "execution_count": null,
      "outputs": []
    }
  ]
}