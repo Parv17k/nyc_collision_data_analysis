{
  "nbformat": 4,
  "nbformat_minor": 0,
  "metadata": {
    "colab": {
      "name": "Copy of data_cleaning_coll.ipynb",
      "provenance": [],
      "collapsed_sections": [
        "VKysQ3WooIvG"
      ],
      "include_colab_link": true
    },
    "kernelspec": {
      "name": "python3",
      "display_name": "Python 3"
    },
    "language_info": {
      "name": "python"
    }
  },
  "cells": [
    {
      "cell_type": "markdown",
      "metadata": {
        "id": "view-in-github",
        "colab_type": "text"
      },
      "source": [
        "<a href=\"https://colab.research.google.com/github/Parv17k/nyc_collision_data_analysis/blob/main/data_cleaning.ipynb\" target=\"_parent\"><img src=\"https://colab.research.google.com/assets/colab-badge.svg\" alt=\"Open In Colab\"/></a>"
      ]
    },
    {
      "cell_type": "code",
      "metadata": {
        "id": "w6jTpg3YeRzl"
      },
      "source": [
        "!apt-get install openjdk-8-jdk-headless -qq > /dev/null"
      ],
      "execution_count": 1,
      "outputs": []
    },
    {
      "cell_type": "code",
      "metadata": {
        "id": "H0X6aSI8evek"
      },
      "source": [
        "!wget -q https://downloads.apache.org/spark/spark-3.1.1/spark-3.1.1-bin-hadoop2.7.tgz"
      ],
      "execution_count": 2,
      "outputs": []
    },
    {
      "cell_type": "code",
      "metadata": {
        "id": "1dwVFgcH7H2Z"
      },
      "source": [
        "!wget -O longlat.csv -q https://public.opendatasoft.com/explore/dataset/us-zip-code-latitude-and-longitude/download/?format=csv&timezone=America/New_York&lang=en&use_labels_for_header=true&csv_separator=%3B"
      ],
      "execution_count": 3,
      "outputs": []
    },
    {
      "cell_type": "code",
      "metadata": {
        "id": "kkohxcnCe9iQ",
        "colab": {
          "base_uri": "https://localhost:8080/"
        },
        "outputId": "01c01328-dd8f-4772-cdcf-95265aef8b69"
      },
      "source": [
        "ls"
      ],
      "execution_count": 4,
      "outputs": [
        {
          "output_type": "stream",
          "text": [
            "longlat.csv  \u001b[0m\u001b[01;34msample_data\u001b[0m/  spark-3.1.1-bin-hadoop2.7.tgz\n"
          ],
          "name": "stdout"
        }
      ]
    },
    {
      "cell_type": "code",
      "metadata": {
        "id": "qSVPom6zgD7I"
      },
      "source": [
        "!tar xf spark-3.1.1-bin-hadoop2.7.tgz"
      ],
      "execution_count": 5,
      "outputs": []
    },
    {
      "cell_type": "code",
      "metadata": {
        "id": "BAss6VLvgNAB"
      },
      "source": [
        "!pip install -q findspark"
      ],
      "execution_count": 6,
      "outputs": []
    },
    {
      "cell_type": "code",
      "metadata": {
        "id": "5QFpj19pgRvm"
      },
      "source": [
        "import os\n",
        "os.environ[\"JAVA_HOME\"] = \"/usr/lib/jvm/java-8-openjdk-amd64\"\n",
        "os.environ[\"SPARK_HOME\"] = \"/content/spark-3.1.1-bin-hadoop2.7\""
      ],
      "execution_count": 7,
      "outputs": []
    },
    {
      "cell_type": "code",
      "metadata": {
        "id": "qDgoozyCgmTh"
      },
      "source": [
        "import findspark\n",
        "findspark.init()"
      ],
      "execution_count": 8,
      "outputs": []
    },
    {
      "cell_type": "code",
      "metadata": {
        "id": "7ijcOHTqgp6Z"
      },
      "source": [
        "import findspark\n",
        "findspark.init()"
      ],
      "execution_count": 9,
      "outputs": []
    },
    {
      "cell_type": "code",
      "metadata": {
        "colab": {
          "base_uri": "https://localhost:8080/",
          "height": 35
        },
        "id": "oqUwg_nZgr-I",
        "outputId": "617a52b8-8bfc-41aa-c4a9-2b32b4990c16"
      },
      "source": [
        "findspark.find()"
      ],
      "execution_count": 10,
      "outputs": [
        {
          "output_type": "execute_result",
          "data": {
            "application/vnd.google.colaboratory.intrinsic+json": {
              "type": "string"
            },
            "text/plain": [
              "'/content/spark-3.1.1-bin-hadoop2.7'"
            ]
          },
          "metadata": {
            "tags": []
          },
          "execution_count": 10
        }
      ]
    },
    {
      "cell_type": "code",
      "metadata": {
        "id": "85kD6PaGgubo"
      },
      "source": [
        "from pyspark.sql import SparkSession\n",
        "\n",
        "spark = SparkSession.builder\\\n",
        "        .master(\"local\")\\\n",
        "        .appName(\"Collision\")\\\n",
        "        .config('spark.ui.port', '4050')\\\n",
        "        .getOrCreate()"
      ],
      "execution_count": 11,
      "outputs": []
    },
    {
      "cell_type": "code",
      "metadata": {
        "colab": {
          "base_uri": "https://localhost:8080/"
        },
        "id": "rHGTcgdPgzO5",
        "outputId": "a0018119-63d6-45d3-bd39-25e1ec184879"
      },
      "source": [
        "!wget https://bin.equinox.io/c/4VmDzA7iaHb/ngrok-stable-linux-amd64.zip\n",
        "!unzip -y ngrok-stable-linux-amd64.zip\n",
        "get_ipython().system_raw('./ngrok http 4050 &')\n",
        "!curl -s http://localhost:4040/api/tunnels"
      ],
      "execution_count": 12,
      "outputs": [
        {
          "output_type": "stream",
          "text": [
            "--2021-03-31 20:47:09--  https://bin.equinox.io/c/4VmDzA7iaHb/ngrok-stable-linux-amd64.zip\n",
            "Resolving bin.equinox.io (bin.equinox.io)... 52.70.180.11, 54.226.184.31, 54.197.133.26, ...\n",
            "Connecting to bin.equinox.io (bin.equinox.io)|52.70.180.11|:443... connected.\n",
            "HTTP request sent, awaiting response... 200 OK\n",
            "Length: 14746350 (14M) [application/octet-stream]\n",
            "Saving to: ‘ngrok-stable-linux-amd64.zip’\n",
            "\n",
            "ngrok-stable-linux- 100%[===================>]  14.06M  18.1MB/s    in 0.8s    \n",
            "\n",
            "2021-03-31 20:47:10 (18.1 MB/s) - ‘ngrok-stable-linux-amd64.zip’ saved [14746350/14746350]\n",
            "\n",
            "UnZip 6.00 of 20 April 2009, by Debian. Original by Info-ZIP.\n",
            "\n",
            "Usage: unzip [-Z] [-opts[modifiers]] file[.zip] [list] [-x xlist] [-d exdir]\n",
            "  Default action is to extract files in list, except those in xlist, to exdir;\n",
            "  file[.zip] may be a wildcard.  -Z => ZipInfo mode (\"unzip -Z\" for usage).\n",
            "\n",
            "  -p  extract files to pipe, no messages     -l  list files (short format)\n",
            "  -f  freshen existing files, create none    -t  test compressed archive data\n",
            "  -u  update files, create if necessary      -z  display archive comment only\n",
            "  -v  list verbosely/show version info       -T  timestamp archive to latest\n",
            "  -x  exclude files that follow (in xlist)   -d  extract files into exdir\n",
            "modifiers:\n",
            "  -n  never overwrite existing files         -q  quiet mode (-qq => quieter)\n",
            "  -o  overwrite files WITHOUT prompting      -a  auto-convert any text files\n",
            "  -j  junk paths (do not make directories)   -aa treat ALL files as text\n",
            "  -U  use escapes for all non-ASCII Unicode  -UU ignore any Unicode fields\n",
            "  -C  match filenames case-insensitively     -L  make (some) names lowercase\n",
            "  -X  restore UID/GID info                   -V  retain VMS version numbers\n",
            "  -K  keep setuid/setgid/tacky permissions   -M  pipe through \"more\" pager\n",
            "  -O CHARSET  specify a character encoding for DOS, Windows and OS/2 archives\n",
            "  -I CHARSET  specify a character encoding for UNIX and other archives\n",
            "\n",
            "See \"unzip -hh\" or unzip.txt for more help.  Examples:\n",
            "  unzip data1 -x joe   => extract all files except joe from zipfile data1.zip\n",
            "  unzip -p foo | more  => send contents of foo.zip via pipe into program more\n",
            "  unzip -fo foo ReadMe => quietly replace existing ReadMe if archive file newer\n"
          ],
          "name": "stdout"
        }
      ]
    },
    {
      "cell_type": "code",
      "metadata": {
        "id": "VmC2Gt3zhUV-"
      },
      "source": [
        "!wget -q https://data.cityofnewyork.us/api/views/h9gi-nx95/rows.csv ## Here we are downloading dataset for Collisions in New York City"
      ],
      "execution_count": 13,
      "outputs": []
    },
    {
      "cell_type": "code",
      "metadata": {
        "id": "PGqtOpKUid8k"
      },
      "source": [
        "mv rows.csv col.csv ## Linux cmd to rename dataset that we got in the above command."
      ],
      "execution_count": 19,
      "outputs": []
    },
    {
      "cell_type": "code",
      "metadata": {
        "colab": {
          "base_uri": "https://localhost:8080/"
        },
        "id": "YGRRsExXi_0O",
        "outputId": "f9347e39-99df-4759-849e-edcc1be828a9"
      },
      "source": [
        "ls"
      ],
      "execution_count": 18,
      "outputs": [
        {
          "output_type": "stream",
          "text": [
            "longlat.csv                   rows.csv      \u001b[0m\u001b[01;34mspark-3.1.1-bin-hadoop2.7\u001b[0m/\n",
            "ngrok-stable-linux-amd64.zip  \u001b[01;34msample_data\u001b[0m/  spark-3.1.1-bin-hadoop2.7.tgz\n"
          ],
          "name": "stdout"
        }
      ]
    },
    {
      "cell_type": "code",
      "metadata": {
        "id": "72QSXkXojrUD"
      },
      "source": [
        "from pyspark import SparkContext,SparkConf\n",
        "from pyspark.sql import SparkSession\n",
        "import pyspark\n",
        "conf = pyspark.SparkConf()\n",
        "conf.set(\"spark.driver.memory\",\"8G\");\n",
        "import numpy as np\n",
        "sc = SparkContext.getOrCreate(conf=conf)\n",
        "from pyspark.sql.functions import round, col\n"
      ],
      "execution_count": 15,
      "outputs": []
    },
    {
      "cell_type": "code",
      "metadata": {
        "id": "Rp7NvIACj4Hn"
      },
      "source": [
        "spark =SparkSession(sc)"
      ],
      "execution_count": 16,
      "outputs": []
    },
    {
      "cell_type": "code",
      "metadata": {
        "id": "sJCZa6g7j8_W"
      },
      "source": [
        "\n",
        "# Reading data from local repo. to pyspark.\n",
        "\n",
        "col=spark.read.option(\"header\",True).csv(\"./col.csv\",inferSchema=True) # data set 1.\n",
        "longlat=spark.read.option(\"delimiter\",\";\").csv(\"./longlat.csv\",inferSchema=True,header=True) #location. [Additional Dataset ]"
      ],
      "execution_count": 20,
      "outputs": []
    },
    {
      "cell_type": "code",
      "metadata": {
        "colab": {
          "base_uri": "https://localhost:8080/"
        },
        "id": "EAACJ7l-kBrS",
        "outputId": "49c87323-1513-4b34-97b8-98c4ecf9ef79"
      },
      "source": [
        "col.count() - col.distinct().count() # checking for Duplicate rows in our dataset."
      ],
      "execution_count": 21,
      "outputs": [
        {
          "output_type": "execute_result",
          "data": {
            "text/plain": [
              "0"
            ]
          },
          "metadata": {
            "tags": []
          },
          "execution_count": 21
        }
      ]
    },
    {
      "cell_type": "code",
      "metadata": {
        "colab": {
          "base_uri": "https://localhost:8080/"
        },
        "id": "qd3gJFzukGI7",
        "outputId": "abacce21-0967-497b-df25-7db919452c1b"
      },
      "source": [
        "len(col.columns) # how many columns do I have."
      ],
      "execution_count": 22,
      "outputs": [
        {
          "output_type": "execute_result",
          "data": {
            "text/plain": [
              "29"
            ]
          },
          "metadata": {
            "tags": []
          },
          "execution_count": 22
        }
      ]
    },
    {
      "cell_type": "code",
      "metadata": {
        "colab": {
          "base_uri": "https://localhost:8080/"
        },
        "id": "TKbsJ_f8kIWu",
        "outputId": "8baf1782-f04f-4c66-e6a7-6b12a45890ee"
      },
      "source": [
        "col.printSchema() #Schema of my dataset. Issues with our columns types like NUMBER OF PERSONS INJURED: string and It should need to be Integer."
      ],
      "execution_count": 23,
      "outputs": [
        {
          "output_type": "stream",
          "text": [
            "root\n",
            " |-- CRASH DATE: string (nullable = true)\n",
            " |-- CRASH TIME: string (nullable = true)\n",
            " |-- BOROUGH: string (nullable = true)\n",
            " |-- ZIP CODE: string (nullable = true)\n",
            " |-- LATITUDE: double (nullable = true)\n",
            " |-- LONGITUDE: double (nullable = true)\n",
            " |-- LOCATION: string (nullable = true)\n",
            " |-- ON STREET NAME: string (nullable = true)\n",
            " |-- CROSS STREET NAME: string (nullable = true)\n",
            " |-- OFF STREET NAME: string (nullable = true)\n",
            " |-- NUMBER OF PERSONS INJURED: string (nullable = true)\n",
            " |-- NUMBER OF PERSONS KILLED: integer (nullable = true)\n",
            " |-- NUMBER OF PEDESTRIANS INJURED: integer (nullable = true)\n",
            " |-- NUMBER OF PEDESTRIANS KILLED: integer (nullable = true)\n",
            " |-- NUMBER OF CYCLIST INJURED: integer (nullable = true)\n",
            " |-- NUMBER OF CYCLIST KILLED: string (nullable = true)\n",
            " |-- NUMBER OF MOTORIST INJURED: string (nullable = true)\n",
            " |-- NUMBER OF MOTORIST KILLED: integer (nullable = true)\n",
            " |-- CONTRIBUTING FACTOR VEHICLE 1: string (nullable = true)\n",
            " |-- CONTRIBUTING FACTOR VEHICLE 2: string (nullable = true)\n",
            " |-- CONTRIBUTING FACTOR VEHICLE 3: string (nullable = true)\n",
            " |-- CONTRIBUTING FACTOR VEHICLE 4: string (nullable = true)\n",
            " |-- CONTRIBUTING FACTOR VEHICLE 5: string (nullable = true)\n",
            " |-- COLLISION_ID: integer (nullable = true)\n",
            " |-- VEHICLE TYPE CODE 1: string (nullable = true)\n",
            " |-- VEHICLE TYPE CODE 2: string (nullable = true)\n",
            " |-- VEHICLE TYPE CODE 3: string (nullable = true)\n",
            " |-- VEHICLE TYPE CODE 4: string (nullable = true)\n",
            " |-- VEHICLE TYPE CODE 5: string (nullable = true)\n",
            "\n"
          ],
          "name": "stdout"
        }
      ]
    },
    {
      "cell_type": "code",
      "metadata": {
        "id": "8tdfYdZF_7_d"
      },
      "source": [
        "from pyspark.sql.types import IntegerType\n",
        "\n",
        "col=col.withColumn(\"NUMBER OF PERSONS INJURED\", col[\"NUMBER OF PERSONS INJURED\"].cast(IntegerType()))\n",
        "col=col.withColumn(\"NUMBER OF CYCLIST KILLED\", col[\"NUMBER OF CYCLIST KILLED\"].cast(IntegerType()))\n",
        "col=col.withColumn(\"NUMBER OF MOTORIST INJURED\", col[\"NUMBER OF MOTORIST INJURED\"].cast(IntegerType()))\n",
        "\n",
        "# Correcting the column types to Integer which were previously of String types."
      ],
      "execution_count": 24,
      "outputs": []
    },
    {
      "cell_type": "code",
      "metadata": {
        "colab": {
          "base_uri": "https://localhost:8080/"
        },
        "id": "YIB6R_9cgHx5",
        "outputId": "f6f736cf-6e7f-4823-9654-bac7ce2c4ce4"
      },
      "source": [
        "col.printSchema() # checking if my schema is correct now ? Yes It is"
      ],
      "execution_count": 25,
      "outputs": [
        {
          "output_type": "stream",
          "text": [
            "root\n",
            " |-- CRASH DATE: string (nullable = true)\n",
            " |-- CRASH TIME: string (nullable = true)\n",
            " |-- BOROUGH: string (nullable = true)\n",
            " |-- ZIP CODE: string (nullable = true)\n",
            " |-- LATITUDE: double (nullable = true)\n",
            " |-- LONGITUDE: double (nullable = true)\n",
            " |-- LOCATION: string (nullable = true)\n",
            " |-- ON STREET NAME: string (nullable = true)\n",
            " |-- CROSS STREET NAME: string (nullable = true)\n",
            " |-- OFF STREET NAME: string (nullable = true)\n",
            " |-- NUMBER OF PERSONS INJURED: integer (nullable = true)\n",
            " |-- NUMBER OF PERSONS KILLED: integer (nullable = true)\n",
            " |-- NUMBER OF PEDESTRIANS INJURED: integer (nullable = true)\n",
            " |-- NUMBER OF PEDESTRIANS KILLED: integer (nullable = true)\n",
            " |-- NUMBER OF CYCLIST INJURED: integer (nullable = true)\n",
            " |-- NUMBER OF CYCLIST KILLED: integer (nullable = true)\n",
            " |-- NUMBER OF MOTORIST INJURED: integer (nullable = true)\n",
            " |-- NUMBER OF MOTORIST KILLED: integer (nullable = true)\n",
            " |-- CONTRIBUTING FACTOR VEHICLE 1: string (nullable = true)\n",
            " |-- CONTRIBUTING FACTOR VEHICLE 2: string (nullable = true)\n",
            " |-- CONTRIBUTING FACTOR VEHICLE 3: string (nullable = true)\n",
            " |-- CONTRIBUTING FACTOR VEHICLE 4: string (nullable = true)\n",
            " |-- CONTRIBUTING FACTOR VEHICLE 5: string (nullable = true)\n",
            " |-- COLLISION_ID: integer (nullable = true)\n",
            " |-- VEHICLE TYPE CODE 1: string (nullable = true)\n",
            " |-- VEHICLE TYPE CODE 2: string (nullable = true)\n",
            " |-- VEHICLE TYPE CODE 3: string (nullable = true)\n",
            " |-- VEHICLE TYPE CODE 4: string (nullable = true)\n",
            " |-- VEHICLE TYPE CODE 5: string (nullable = true)\n",
            "\n"
          ],
          "name": "stdout"
        }
      ]
    },
    {
      "cell_type": "code",
      "metadata": {
        "id": "hYm1cOESlNoj",
        "colab": {
          "base_uri": "https://localhost:8080/"
        },
        "outputId": "fe588d0b-5b72-4631-d4ab-e5a53abdf956"
      },
      "source": [
        "col.select(\"CRASH DATE\").show(10)"
      ],
      "execution_count": 26,
      "outputs": [
        {
          "output_type": "stream",
          "text": [
            "+----------+\n",
            "|CRASH DATE|\n",
            "+----------+\n",
            "|05/06/2013|\n",
            "|05/08/2013|\n",
            "|05/06/2013|\n",
            "|05/07/2013|\n",
            "|05/07/2013|\n",
            "|05/09/2013|\n",
            "|05/08/2013|\n",
            "|05/09/2013|\n",
            "|05/05/2013|\n",
            "|05/08/2013|\n",
            "+----------+\n",
            "only showing top 10 rows\n",
            "\n"
          ],
          "name": "stdout"
        }
      ]
    },
    {
      "cell_type": "code",
      "metadata": {
        "id": "ISull6Z7mrji"
      },
      "source": [
        "#dropping columns with collision id = null"
      ],
      "execution_count": 27,
      "outputs": []
    },
    {
      "cell_type": "code",
      "metadata": {
        "colab": {
          "base_uri": "https://localhost:8080/"
        },
        "id": "bSxL1_cvn0EZ",
        "outputId": "d96bff0f-ad2b-4d2c-d54d-ef6c02443989"
      },
      "source": [
        "col.filter(col.COLLISION_ID.isNull()).drop()"
      ],
      "execution_count": 28,
      "outputs": [
        {
          "output_type": "execute_result",
          "data": {
            "text/plain": [
              "DataFrame[CRASH DATE: string, CRASH TIME: string, BOROUGH: string, ZIP CODE: string, LATITUDE: double, LONGITUDE: double, LOCATION: string, ON STREET NAME: string, CROSS STREET NAME: string, OFF STREET NAME: string, NUMBER OF PERSONS INJURED: int, NUMBER OF PERSONS KILLED: int, NUMBER OF PEDESTRIANS INJURED: int, NUMBER OF PEDESTRIANS KILLED: int, NUMBER OF CYCLIST INJURED: int, NUMBER OF CYCLIST KILLED: int, NUMBER OF MOTORIST INJURED: int, NUMBER OF MOTORIST KILLED: int, CONTRIBUTING FACTOR VEHICLE 1: string, CONTRIBUTING FACTOR VEHICLE 2: string, CONTRIBUTING FACTOR VEHICLE 3: string, CONTRIBUTING FACTOR VEHICLE 4: string, CONTRIBUTING FACTOR VEHICLE 5: string, COLLISION_ID: int, VEHICLE TYPE CODE 1: string, VEHICLE TYPE CODE 2: string, VEHICLE TYPE CODE 3: string, VEHICLE TYPE CODE 4: string, VEHICLE TYPE CODE 5: string]"
            ]
          },
          "metadata": {
            "tags": []
          },
          "execution_count": 28
        }
      ]
    },
    {
      "cell_type": "code",
      "metadata": {
        "colab": {
          "base_uri": "https://localhost:8080/"
        },
        "id": "TiMX8EBZrRA3",
        "outputId": "35c4f5d4-e1e6-49d5-a677-1603d20d5a1f"
      },
      "source": [
        "col.count()"
      ],
      "execution_count": 29,
      "outputs": [
        {
          "output_type": "execute_result",
          "data": {
            "text/plain": [
              "1766160"
            ]
          },
          "metadata": {
            "tags": []
          },
          "execution_count": 29
        }
      ]
    },
    {
      "cell_type": "code",
      "metadata": {
        "id": "0GDOxpvrpLeQ"
      },
      "source": [
        "missingLocation=col.filter(col[\"BOROUGH\"].isNull()).filter(col[\"ZIP CODE\"].isNull())"
      ],
      "execution_count": 30,
      "outputs": []
    },
    {
      "cell_type": "code",
      "metadata": {
        "id": "sAlRmhVbqwBN"
      },
      "source": [
        "cannotRetriveLocation = missingLocation.filter(col[\"LONGITUDE\"].isNull())"
      ],
      "execution_count": 31,
      "outputs": []
    },
    {
      "cell_type": "code",
      "metadata": {
        "colab": {
          "base_uri": "https://localhost:8080/"
        },
        "id": "ElF_74S_rZrn",
        "outputId": "ee1e552f-bf70-49a6-ddcf-cf27d1cbe210"
      },
      "source": [
        "col.count() ## removed the records for which we cannot retrive location at any cost."
      ],
      "execution_count": 32,
      "outputs": [
        {
          "output_type": "execute_result",
          "data": {
            "text/plain": [
              "1766160"
            ]
          },
          "metadata": {
            "tags": []
          },
          "execution_count": 32
        }
      ]
    },
    {
      "cell_type": "code",
      "metadata": {
        "id": "QQHrj52qtLtC"
      },
      "source": [
        "#Infer the schema, and register the DataFrame as a table.\n",
        "col.createOrReplaceTempView(\"col\");\n",
        "cannotRetriveLocation.createOrReplaceTempView(\"toDelete\")"
      ],
      "execution_count": 33,
      "outputs": []
    },
    {
      "cell_type": "code",
      "metadata": {
        "id": "q0F0_v-qtSXR"
      },
      "source": [
        "col=spark.sql(\"select * FROM col WHERE col.COLLISION_ID not in (select COLLISION_ID from toDelete where COLLISION_ID is not null)\");\n"
      ],
      "execution_count": 34,
      "outputs": []
    },
    {
      "cell_type": "code",
      "metadata": {
        "colab": {
          "base_uri": "https://localhost:8080/"
        },
        "id": "B-BsmtYWv5tG",
        "outputId": "24fe0372-f05e-4e08-d49f-d68ac8bbd192"
      },
      "source": [
        "col.count()"
      ],
      "execution_count": 35,
      "outputs": [
        {
          "output_type": "execute_result",
          "data": {
            "text/plain": [
              "1588740"
            ]
          },
          "metadata": {
            "tags": []
          },
          "execution_count": 35
        }
      ]
    },
    {
      "cell_type": "code",
      "metadata": {
        "colab": {
          "base_uri": "https://localhost:8080/"
        },
        "id": "I3m_pSBiwFnE",
        "outputId": "a7abb6d9-f87f-4299-d6eb-64d6f5191da9"
      },
      "source": [
        "col.filter(col[\"ZIP CODE\"].isNull()).filter(col[\"BOROUGH\"].isNotNull()).count()"
      ],
      "execution_count": 36,
      "outputs": [
        {
          "output_type": "execute_result",
          "data": {
            "text/plain": [
              "211"
            ]
          },
          "metadata": {
            "tags": []
          },
          "execution_count": 36
        }
      ]
    },
    {
      "cell_type": "code",
      "metadata": {
        "id": "-g5FF39ew20d"
      },
      "source": [
        "BOROUGH=list(map(lambda x : x[\"BOROUGH\"],col.select(\"BOROUGH\").distinct().collect()))"
      ],
      "execution_count": 37,
      "outputs": []
    },
    {
      "cell_type": "code",
      "metadata": {
        "colab": {
          "base_uri": "https://localhost:8080/"
        },
        "id": "cb-Gc1mBna0o",
        "outputId": "1da8fc7c-fbfe-4071-f32f-c37c5e83ba57"
      },
      "source": [
        "BOROUGH"
      ],
      "execution_count": 38,
      "outputs": [
        {
          "output_type": "execute_result",
          "data": {
            "text/plain": [
              "[None, 'QUEENS', 'BROOKLYN', 'BRONX', 'MANHATTAN', 'STATEN ISLAND']"
            ]
          },
          "metadata": {
            "tags": []
          },
          "execution_count": 38
        }
      ]
    },
    {
      "cell_type": "code",
      "metadata": {
        "colab": {
          "base_uri": "https://localhost:8080/"
        },
        "id": "QCmGVySL0Pzz",
        "outputId": "105461cb-636f-4a3f-d341-4eb93be47799"
      },
      "source": [
        "longlat.printSchema() # another data set"
      ],
      "execution_count": 39,
      "outputs": [
        {
          "output_type": "stream",
          "text": [
            "root\n",
            " |-- zip: integer (nullable = true)\n",
            " |-- city: string (nullable = true)\n",
            " |-- state: string (nullable = true)\n",
            " |-- latitude: double (nullable = true)\n",
            " |-- longitude: double (nullable = true)\n",
            " |-- timezone: integer (nullable = true)\n",
            " |-- dst: integer (nullable = true)\n",
            " |-- geopoint: string (nullable = true)\n",
            "\n"
          ],
          "name": "stdout"
        }
      ]
    },
    {
      "cell_type": "code",
      "metadata": {
        "id": "6PK36ll9ALs9"
      },
      "source": [
        "col.createOrReplaceTempView(\"col\");\n",
        "longlat.createOrReplaceTempView(\"longlat\");"
      ],
      "execution_count": 40,
      "outputs": []
    },
    {
      "cell_type": "code",
      "metadata": {
        "id": "kTxfGswTBHyx"
      },
      "source": [
        "missingZipCode=col.filter(col['ZIP CODE'].isNull());"
      ],
      "execution_count": 41,
      "outputs": []
    },
    {
      "cell_type": "code",
      "metadata": {
        "id": "dfA5oNasDcHY"
      },
      "source": [
        "missingZipCode.createOrReplaceTempView(\"missingZipCode\");\n"
      ],
      "execution_count": null,
      "outputs": []
    },
    {
      "cell_type": "code",
      "metadata": {
        "id": "_tDVi773Pru-",
        "colab": {
          "base_uri": "https://localhost:8080/"
        },
        "outputId": "968e7adc-b03b-4413-e41f-3d081962eca1"
      },
      "source": [
        "col.select(\"NUMBER OF CYCLIST INJURED\").distinct().show(); ## lets check."
      ],
      "execution_count": 42,
      "outputs": [
        {
          "output_type": "stream",
          "text": [
            "+-------------------------+\n",
            "|NUMBER OF CYCLIST INJURED|\n",
            "+-------------------------+\n",
            "|                        1|\n",
            "|                        3|\n",
            "|                        4|\n",
            "|                        2|\n",
            "|                        0|\n",
            "+-------------------------+\n",
            "\n"
          ],
          "name": "stdout"
        }
      ]
    },
    {
      "cell_type": "markdown",
      "metadata": {
        "id": "BKR1Qaolal01"
      },
      "source": [
        "NUMBER OF CYCLIST INJURED Is alredy cleaned."
      ]
    },
    {
      "cell_type": "code",
      "metadata": {
        "colab": {
          "base_uri": "https://localhost:8080/"
        },
        "id": "Oke_YOp3aqls",
        "outputId": "e5265503-f125-48b1-d836-9b6e1c236476"
      },
      "source": [
        "col.select(\"NUMBER OF PERSONS INJURED\").distinct().show();"
      ],
      "execution_count": 43,
      "outputs": [
        {
          "output_type": "stream",
          "text": [
            "+-------------------------+\n",
            "|NUMBER OF PERSONS INJURED|\n",
            "+-------------------------+\n",
            "|                       31|\n",
            "|                       27|\n",
            "|                       12|\n",
            "|                       22|\n",
            "|                     null|\n",
            "|                        1|\n",
            "|                       13|\n",
            "|                        6|\n",
            "|                       16|\n",
            "|                        3|\n",
            "|                       20|\n",
            "|                        5|\n",
            "|                       19|\n",
            "|                       15|\n",
            "|                       43|\n",
            "|                        9|\n",
            "|                       17|\n",
            "|                        4|\n",
            "|                        8|\n",
            "|                        7|\n",
            "+-------------------------+\n",
            "only showing top 20 rows\n",
            "\n"
          ],
          "name": "stdout"
        }
      ]
    },
    {
      "cell_type": "markdown",
      "metadata": {
        "id": "VWIHtav3a5py"
      },
      "source": [
        "NUMBER OF PERSONS INJURED has Null value hence making it to Zero."
      ]
    },
    {
      "cell_type": "code",
      "metadata": {
        "id": "6YleZDuMa3oU"
      },
      "source": [
        "col=col.fillna(value=0,subset=[\"NUMBER OF PERSONS INJURED\"]) # clean null values to zero."
      ],
      "execution_count": 44,
      "outputs": []
    },
    {
      "cell_type": "code",
      "metadata": {
        "colab": {
          "base_uri": "https://localhost:8080/"
        },
        "id": "3os8QdmMcE_Q",
        "outputId": "9747e2f3-8501-4f7f-e187-aa3849203d49"
      },
      "source": [
        "#NUMBER OF PERSONS KILLED\n",
        "print(col.select(\"NUMBER OF PERSONS KILLED\").distinct().show());"
      ],
      "execution_count": 45,
      "outputs": [
        {
          "output_type": "stream",
          "text": [
            "+------------------------+\n",
            "|NUMBER OF PERSONS KILLED|\n",
            "+------------------------+\n",
            "|                    null|\n",
            "|                       1|\n",
            "|                       3|\n",
            "|                       5|\n",
            "|                       4|\n",
            "|                       8|\n",
            "|                       2|\n",
            "|                       0|\n",
            "+------------------------+\n",
            "\n",
            "None\n"
          ],
          "name": "stdout"
        }
      ]
    },
    {
      "cell_type": "markdown",
      "metadata": {
        "id": "C3R5AX0Vh9FK"
      },
      "source": [
        "NUMBER OF PERSONS KILLED has NULL values : replacign them with 0.\n"
      ]
    },
    {
      "cell_type": "code",
      "metadata": {
        "id": "EfoX3vF6hxOb"
      },
      "source": [
        "col=col.fillna(value=0,subset=[\"NUMBER OF PERSONS KILLED\"])"
      ],
      "execution_count": 46,
      "outputs": []
    },
    {
      "cell_type": "code",
      "metadata": {
        "id": "7fJxvjC5iEdz",
        "colab": {
          "base_uri": "https://localhost:8080/"
        },
        "outputId": "33b69df7-105a-48ce-971c-52ddc84eb2ba"
      },
      "source": [
        "print(col.select(\"NUMBER OF PEDESTRIANS INJURED\").distinct().show());"
      ],
      "execution_count": 47,
      "outputs": [
        {
          "output_type": "stream",
          "text": [
            "+-----------------------------+\n",
            "|NUMBER OF PEDESTRIANS INJURED|\n",
            "+-----------------------------+\n",
            "|                           27|\n",
            "|                            1|\n",
            "|                           13|\n",
            "|                            6|\n",
            "|                            3|\n",
            "|                            5|\n",
            "|                           15|\n",
            "|                            9|\n",
            "|                            4|\n",
            "|                            7|\n",
            "|                            2|\n",
            "|                            0|\n",
            "+-----------------------------+\n",
            "\n",
            "None\n"
          ],
          "name": "stdout"
        }
      ]
    },
    {
      "cell_type": "markdown",
      "metadata": {
        "id": "wcc_M6cjiOBa"
      },
      "source": [
        "NUMBER OF PEDESTRIANS INJURED has no null value"
      ]
    },
    {
      "cell_type": "code",
      "metadata": {
        "id": "5eJZP8eDiPui",
        "colab": {
          "base_uri": "https://localhost:8080/"
        },
        "outputId": "b0b638eb-64e9-4abb-acb1-8bd9ceb6334d"
      },
      "source": [
        "#NUMBER OF PEDESTRIANS KILLED\n",
        "print(col.select(\"NUMBER OF PEDESTRIANS KILLED\").distinct().show());"
      ],
      "execution_count": 48,
      "outputs": [
        {
          "output_type": "stream",
          "text": [
            "+----------------------------+\n",
            "|NUMBER OF PEDESTRIANS KILLED|\n",
            "+----------------------------+\n",
            "|                           1|\n",
            "|                           6|\n",
            "|                           2|\n",
            "|                           0|\n",
            "+----------------------------+\n",
            "\n",
            "None\n"
          ],
          "name": "stdout"
        }
      ]
    },
    {
      "cell_type": "markdown",
      "metadata": {
        "id": "ZW3DJufWidXx"
      },
      "source": [
        "\n",
        "\n",
        "```\n",
        "NUMBER OF PEDESTRIANS KILLED has no null value\n",
        "```\n",
        "\n"
      ]
    },
    {
      "cell_type": "code",
      "metadata": {
        "id": "5Y7u0j2hik6r",
        "colab": {
          "base_uri": "https://localhost:8080/"
        },
        "outputId": "88978bc1-bbee-47e4-f621-e535876e0e8f"
      },
      "source": [
        "print(col.select(\"NUMBER OF CYCLIST INJURED\").distinct().show());"
      ],
      "execution_count": 49,
      "outputs": [
        {
          "output_type": "stream",
          "text": [
            "+-------------------------+\n",
            "|NUMBER OF CYCLIST INJURED|\n",
            "+-------------------------+\n",
            "|                        1|\n",
            "|                        3|\n",
            "|                        4|\n",
            "|                        2|\n",
            "|                        0|\n",
            "+-------------------------+\n",
            "\n",
            "None\n"
          ],
          "name": "stdout"
        }
      ]
    },
    {
      "cell_type": "markdown",
      "metadata": {
        "id": "BxzxmZyNiviy"
      },
      "source": [
        "NUMBER OF CYCLIST INJURED has no null value"
      ]
    },
    {
      "cell_type": "code",
      "metadata": {
        "id": "Il3UyBZ2iyua",
        "colab": {
          "base_uri": "https://localhost:8080/"
        },
        "outputId": "e1731d10-b9e7-4e14-a81e-bd1d05aa0bf7"
      },
      "source": [
        "print(col.select(\"NUMBER OF CYCLIST KILLED\").distinct().show());"
      ],
      "execution_count": 50,
      "outputs": [
        {
          "output_type": "stream",
          "text": [
            "+------------------------+\n",
            "|NUMBER OF CYCLIST KILLED|\n",
            "+------------------------+\n",
            "|                       1|\n",
            "|                       2|\n",
            "|                       0|\n",
            "+------------------------+\n",
            "\n",
            "None\n"
          ],
          "name": "stdout"
        }
      ]
    },
    {
      "cell_type": "code",
      "metadata": {
        "id": "2EsFBEkMi8Ci"
      },
      "source": [
        ""
      ],
      "execution_count": null,
      "outputs": []
    },
    {
      "cell_type": "markdown",
      "metadata": {
        "id": "Ew2Xe-rGi9-z"
      },
      "source": [
        "NUMBER OF CYCLIST KILLED has no null value"
      ]
    },
    {
      "cell_type": "code",
      "metadata": {
        "id": "8N4O4-GXjDJX",
        "colab": {
          "base_uri": "https://localhost:8080/"
        },
        "outputId": "935f4088-7a15-40fd-ea15-173b28aae8a8"
      },
      "source": [
        "#NUMBER OF MOTORIST INJURED\n",
        "print(col.select(\"NUMBER OF MOTORIST INJURED\").distinct().show(100));"
      ],
      "execution_count": 51,
      "outputs": [
        {
          "output_type": "stream",
          "text": [
            "+--------------------------+\n",
            "|NUMBER OF MOTORIST INJURED|\n",
            "+--------------------------+\n",
            "|                        31|\n",
            "|                        12|\n",
            "|                        22|\n",
            "|                         1|\n",
            "|                        13|\n",
            "|                         6|\n",
            "|                        16|\n",
            "|                         3|\n",
            "|                        20|\n",
            "|                         5|\n",
            "|                        19|\n",
            "|                        15|\n",
            "|                        43|\n",
            "|                         9|\n",
            "|                        17|\n",
            "|                         4|\n",
            "|                         8|\n",
            "|                         7|\n",
            "|                        10|\n",
            "|                        24|\n",
            "|                        21|\n",
            "|                        11|\n",
            "|                        14|\n",
            "|                         2|\n",
            "|                        30|\n",
            "|                         0|\n",
            "|                        18|\n",
            "+--------------------------+\n",
            "\n",
            "None\n"
          ],
          "name": "stdout"
        }
      ]
    },
    {
      "cell_type": "markdown",
      "metadata": {
        "id": "THCAUEDEjWZe"
      },
      "source": [
        "NUMBER OF MOTORIST INJURED has no null value"
      ]
    },
    {
      "cell_type": "code",
      "metadata": {
        "id": "RU2FnrQojLcn",
        "colab": {
          "base_uri": "https://localhost:8080/"
        },
        "outputId": "8b3c7555-39f1-4400-c5be-470e7cc8bb02"
      },
      "source": [
        "#NUMBER OF MOTORIST INJURED\n",
        "print(col.select(\"NUMBER OF MOTORIST KILLED\").distinct().show(100));"
      ],
      "execution_count": 52,
      "outputs": [
        {
          "output_type": "stream",
          "text": [
            "+-------------------------+\n",
            "|NUMBER OF MOTORIST KILLED|\n",
            "+-------------------------+\n",
            "|                        1|\n",
            "|                        3|\n",
            "|                        5|\n",
            "|                        4|\n",
            "|                        2|\n",
            "|                        0|\n",
            "+-------------------------+\n",
            "\n",
            "None\n"
          ],
          "name": "stdout"
        }
      ]
    },
    {
      "cell_type": "code",
      "metadata": {
        "id": "JzAqJZvbjdrL"
      },
      "source": [
        ""
      ],
      "execution_count": null,
      "outputs": []
    },
    {
      "cell_type": "markdown",
      "metadata": {
        "id": "wYiUDENKjfnc"
      },
      "source": [
        "NUMBER OF MOTORIST INJURED has no null value"
      ]
    },
    {
      "cell_type": "code",
      "metadata": {
        "colab": {
          "base_uri": "https://localhost:8080/"
        },
        "id": "0Nfqmb9TjgYM",
        "outputId": "ebc59498-7cc0-4979-a01e-6d5e9bda05d0"
      },
      "source": [
        "#CONTRIBUTING FACTOR VEHICLE\n",
        "print(col.select(\"CONTRIBUTING FACTOR VEHICLE 1\").distinct().show(70));\n",
        "\n",
        "# has numerical values 1 and 80\n",
        "# has null value.\n"
      ],
      "execution_count": 53,
      "outputs": [
        {
          "output_type": "stream",
          "text": [
            "+-----------------------------+\n",
            "|CONTRIBUTING FACTOR VEHICLE 1|\n",
            "+-----------------------------+\n",
            "|         Following Too Clo...|\n",
            "|         Traffic Control D...|\n",
            "|         Accelerator Defec...|\n",
            "|         Driverless/Runawa...|\n",
            "|         Windshield Inadeq...|\n",
            "|         Using On Board Na...|\n",
            "|                 Unsafe Speed|\n",
            "|         Shoulders Defecti...|\n",
            "|               Tinted Windows|\n",
            "|            Oversized Vehicle|\n",
            "|         Passing or Lane U...|\n",
            "|         Lane Marking Impr...|\n",
            "|         Other Lighting De...|\n",
            "|                         null|\n",
            "|         Aggressive Drivin...|\n",
            "|              Other Vehicular|\n",
            "|          Driver Inexperience|\n",
            "|          Tow Hitch Defective|\n",
            "|                      Texting|\n",
            "|                       Illnes|\n",
            "|              Drugs (illegal)|\n",
            "|                  Unspecified|\n",
            "|           Pavement Defective|\n",
            "|         Prescription Medi...|\n",
            "|         Cell Phone (hand-...|\n",
            "|         View Obstructed/L...|\n",
            "|           Lost Consciousness|\n",
            "|         Reaction to Other...|\n",
            "|         Reaction to Uninv...|\n",
            "|                  Fell Asleep|\n",
            "|         Tire Failure/Inad...|\n",
            "|         Outside Car Distr...|\n",
            "|              Drugs (Illegal)|\n",
            "|              Fatigued/Drowsy|\n",
            "|         Driver Inattentio...|\n",
            "|         Cell Phone (hand-...|\n",
            "|         Listening/Using H...|\n",
            "|         Failure to Keep R...|\n",
            "|           Obstruction/Debris|\n",
            "|         Unsafe Lane Changing|\n",
            "|         Pedestrian/Bicycl...|\n",
            "|         Passenger Distrac...|\n",
            "|          Alcohol Involvement|\n",
            "|                            1|\n",
            "|                      Illness|\n",
            "|         Traffic Control D...|\n",
            "|             Backing Unsafely|\n",
            "|             Brakes Defective|\n",
            "|           Eating or Drinking|\n",
            "|         Headlights Defective|\n",
            "|         Failure to Yield ...|\n",
            "|               Animals Action|\n",
            "|           Turning Improperly|\n",
            "|                        Glare|\n",
            "|             Steering Failure|\n",
            "|          Passing Too Closely|\n",
            "|            Vehicle Vandalism|\n",
            "|            Pavement Slippery|\n",
            "|          Physical Disability|\n",
            "|                           80|\n",
            "|         Other Electronic ...|\n",
            "|         Cell Phone (hands...|\n",
            "+-----------------------------+\n",
            "\n",
            "None\n"
          ],
          "name": "stdout"
        }
      ]
    },
    {
      "cell_type": "code",
      "metadata": {
        "colab": {
          "base_uri": "https://localhost:8080/"
        },
        "id": "yv1mQy2rmjh4",
        "outputId": "9a5d75ae-f299-4265-9c39-57062762a43a"
      },
      "source": [
        "#CONTRIBUTING FACTOR VEHICLE\n",
        "print(col.select(\"CONTRIBUTING FACTOR VEHICLE 2\").distinct().show(100));\n",
        "\n",
        "# has numerical values 1 and 80.\n",
        "# has null value.\n"
      ],
      "execution_count": 54,
      "outputs": [
        {
          "output_type": "stream",
          "text": [
            "+-----------------------------+\n",
            "|CONTRIBUTING FACTOR VEHICLE 2|\n",
            "+-----------------------------+\n",
            "|         Following Too Clo...|\n",
            "|         Traffic Control D...|\n",
            "|         Driverless/Runawa...|\n",
            "|         Accelerator Defec...|\n",
            "|         Windshield Inadeq...|\n",
            "|         Using On Board Na...|\n",
            "|                 Unsafe Speed|\n",
            "|         Shoulders Defecti...|\n",
            "|               Tinted Windows|\n",
            "|            Oversized Vehicle|\n",
            "|         Passing or Lane U...|\n",
            "|         Lane Marking Impr...|\n",
            "|         Other Lighting De...|\n",
            "|                         null|\n",
            "|         Aggressive Drivin...|\n",
            "|              Other Vehicular|\n",
            "|          Driver Inexperience|\n",
            "|          Tow Hitch Defective|\n",
            "|                      Texting|\n",
            "|                       Illnes|\n",
            "|              Drugs (illegal)|\n",
            "|                  Unspecified|\n",
            "|           Pavement Defective|\n",
            "|         Prescription Medi...|\n",
            "|         Cell Phone (hand-...|\n",
            "|         View Obstructed/L...|\n",
            "|           Lost Consciousness|\n",
            "|         Reaction to Other...|\n",
            "|         Reaction to Uninv...|\n",
            "|                  Fell Asleep|\n",
            "|         Tire Failure/Inad...|\n",
            "|         Outside Car Distr...|\n",
            "|              Drugs (Illegal)|\n",
            "|              Fatigued/Drowsy|\n",
            "|         Driver Inattentio...|\n",
            "|         Cell Phone (hand-...|\n",
            "|         Listening/Using H...|\n",
            "|         Failure to Keep R...|\n",
            "|           Obstruction/Debris|\n",
            "|         Unsafe Lane Changing|\n",
            "|         Pedestrian/Bicycl...|\n",
            "|         Passenger Distrac...|\n",
            "|          Alcohol Involvement|\n",
            "|                            1|\n",
            "|                      Illness|\n",
            "|         Traffic Control D...|\n",
            "|             Backing Unsafely|\n",
            "|             Brakes Defective|\n",
            "|           Eating or Drinking|\n",
            "|         Headlights Defective|\n",
            "|         Failure to Yield ...|\n",
            "|               Animals Action|\n",
            "|           Turning Improperly|\n",
            "|                        Glare|\n",
            "|             Steering Failure|\n",
            "|          Passing Too Closely|\n",
            "|            Vehicle Vandalism|\n",
            "|            Pavement Slippery|\n",
            "|          Physical Disability|\n",
            "|                           80|\n",
            "|         Other Electronic ...|\n",
            "|         Cell Phone (hands...|\n",
            "+-----------------------------+\n",
            "\n",
            "None\n"
          ],
          "name": "stdout"
        }
      ]
    },
    {
      "cell_type": "code",
      "metadata": {
        "id": "UeqFgJDbnbLc",
        "colab": {
          "base_uri": "https://localhost:8080/"
        },
        "outputId": "499b7b31-e21d-4a2b-ca64-bd65125401c0"
      },
      "source": [
        "#CONTRIBUTING FACTOR VEHICLE\n",
        "print(col.select(\"CONTRIBUTING FACTOR VEHICLE 3\").distinct().show(100));\n",
        "\n",
        "# has numerical values 1 and 80.\n",
        "# has null value."
      ],
      "execution_count": 55,
      "outputs": [
        {
          "output_type": "stream",
          "text": [
            "+-----------------------------+\n",
            "|CONTRIBUTING FACTOR VEHICLE 3|\n",
            "+-----------------------------+\n",
            "|         Following Too Clo...|\n",
            "|         Traffic Control D...|\n",
            "|         Driverless/Runawa...|\n",
            "|         Accelerator Defec...|\n",
            "|                 Unsafe Speed|\n",
            "|               Tinted Windows|\n",
            "|            Oversized Vehicle|\n",
            "|         Passing or Lane U...|\n",
            "|         Lane Marking Impr...|\n",
            "|                         null|\n",
            "|         Aggressive Drivin...|\n",
            "|              Other Vehicular|\n",
            "|          Driver Inexperience|\n",
            "|                       Illnes|\n",
            "|              Drugs (illegal)|\n",
            "|                  Unspecified|\n",
            "|           Pavement Defective|\n",
            "|         Prescription Medi...|\n",
            "|         View Obstructed/L...|\n",
            "|           Lost Consciousness|\n",
            "|         Reaction to Other...|\n",
            "|         Reaction to Uninv...|\n",
            "|                  Fell Asleep|\n",
            "|         Tire Failure/Inad...|\n",
            "|         Outside Car Distr...|\n",
            "|              Drugs (Illegal)|\n",
            "|              Fatigued/Drowsy|\n",
            "|         Driver Inattentio...|\n",
            "|         Cell Phone (hand-...|\n",
            "|         Failure to Keep R...|\n",
            "|           Obstruction/Debris|\n",
            "|         Unsafe Lane Changing|\n",
            "|         Pedestrian/Bicycl...|\n",
            "|         Passenger Distrac...|\n",
            "|          Alcohol Involvement|\n",
            "|                            1|\n",
            "|                      Illness|\n",
            "|         Traffic Control D...|\n",
            "|             Backing Unsafely|\n",
            "|             Brakes Defective|\n",
            "|         Failure to Yield ...|\n",
            "|               Animals Action|\n",
            "|           Turning Improperly|\n",
            "|             Steering Failure|\n",
            "|                        Glare|\n",
            "|          Passing Too Closely|\n",
            "|            Pavement Slippery|\n",
            "|          Physical Disability|\n",
            "|                           80|\n",
            "|         Other Electronic ...|\n",
            "|         Cell Phone (hands...|\n",
            "+-----------------------------+\n",
            "\n",
            "None\n"
          ],
          "name": "stdout"
        }
      ]
    },
    {
      "cell_type": "code",
      "metadata": {
        "colab": {
          "base_uri": "https://localhost:8080/"
        },
        "id": "G5nOTYmvnneL",
        "outputId": "72ff0b8d-8ac7-4f1d-8b07-4cd0a5840686"
      },
      "source": [
        "#CONTRIBUTING FACTOR VEHICLE\n",
        "print(col.select(\"CONTRIBUTING FACTOR VEHICLE 4\").distinct().show(100));\n",
        "# has null value."
      ],
      "execution_count": 56,
      "outputs": [
        {
          "output_type": "stream",
          "text": [
            "+-----------------------------+\n",
            "|CONTRIBUTING FACTOR VEHICLE 4|\n",
            "+-----------------------------+\n",
            "|         Following Too Clo...|\n",
            "|         Traffic Control D...|\n",
            "|         Accelerator Defec...|\n",
            "|         Driverless/Runawa...|\n",
            "|         Windshield Inadeq...|\n",
            "|                 Unsafe Speed|\n",
            "|         Passing or Lane U...|\n",
            "|                         null|\n",
            "|         Aggressive Drivin...|\n",
            "|              Other Vehicular|\n",
            "|          Driver Inexperience|\n",
            "|              Drugs (illegal)|\n",
            "|                  Unspecified|\n",
            "|           Pavement Defective|\n",
            "|         Prescription Medi...|\n",
            "|         View Obstructed/L...|\n",
            "|           Lost Consciousness|\n",
            "|         Reaction to Uninv...|\n",
            "|                  Fell Asleep|\n",
            "|         Outside Car Distr...|\n",
            "|              Drugs (Illegal)|\n",
            "|              Fatigued/Drowsy|\n",
            "|         Driver Inattentio...|\n",
            "|         Failure to Keep R...|\n",
            "|           Obstruction/Debris|\n",
            "|         Unsafe Lane Changing|\n",
            "|          Alcohol Involvement|\n",
            "|                      Illness|\n",
            "|         Traffic Control D...|\n",
            "|             Backing Unsafely|\n",
            "|             Brakes Defective|\n",
            "|         Failure to Yield ...|\n",
            "|               Animals Action|\n",
            "|           Turning Improperly|\n",
            "|                        Glare|\n",
            "|             Steering Failure|\n",
            "|          Passing Too Closely|\n",
            "|            Pavement Slippery|\n",
            "|          Physical Disability|\n",
            "|         Other Electronic ...|\n",
            "+-----------------------------+\n",
            "\n",
            "None\n"
          ],
          "name": "stdout"
        }
      ]
    },
    {
      "cell_type": "code",
      "metadata": {
        "colab": {
          "base_uri": "https://localhost:8080/"
        },
        "id": "pt8kCCdqlnIB",
        "outputId": "6cf16c86-11f9-4ee2-c4d9-7e7182440ff5"
      },
      "source": [
        "print(col.select(\"CONTRIBUTING FACTOR VEHICLE 5\").distinct().show(30));\n",
        "# has null values"
      ],
      "execution_count": 57,
      "outputs": [
        {
          "output_type": "stream",
          "text": [
            "+-----------------------------+\n",
            "|CONTRIBUTING FACTOR VEHICLE 5|\n",
            "+-----------------------------+\n",
            "|         Following Too Clo...|\n",
            "|         Traffic Control D...|\n",
            "|                 Unsafe Speed|\n",
            "|         Passing or Lane U...|\n",
            "|                         null|\n",
            "|         Aggressive Drivin...|\n",
            "|              Other Vehicular|\n",
            "|          Driver Inexperience|\n",
            "|              Drugs (illegal)|\n",
            "|                  Unspecified|\n",
            "|           Pavement Defective|\n",
            "|         Reaction to Uninv...|\n",
            "|                  Fell Asleep|\n",
            "|         Tire Failure/Inad...|\n",
            "|         Outside Car Distr...|\n",
            "|              Fatigued/Drowsy|\n",
            "|         Driver Inattentio...|\n",
            "|         Failure to Keep R...|\n",
            "|           Obstruction/Debris|\n",
            "|          Alcohol Involvement|\n",
            "|                      Illness|\n",
            "|         Traffic Control D...|\n",
            "|             Brakes Defective|\n",
            "|             Backing Unsafely|\n",
            "|         Failure to Yield ...|\n",
            "|                        Glare|\n",
            "|             Steering Failure|\n",
            "|          Passing Too Closely|\n",
            "|            Pavement Slippery|\n",
            "|         Other Electronic ...|\n",
            "+-----------------------------+\n",
            "\n",
            "None\n"
          ],
          "name": "stdout"
        }
      ]
    },
    {
      "cell_type": "code",
      "metadata": {
        "colab": {
          "base_uri": "https://localhost:8080/"
        },
        "id": "XJvithwG20mf",
        "outputId": "6b731ae3-9f22-49d5-ebaa-cd64d0bb7947"
      },
      "source": [
        "col.count()"
      ],
      "execution_count": 58,
      "outputs": [
        {
          "output_type": "execute_result",
          "data": {
            "text/plain": [
              "1588740"
            ]
          },
          "metadata": {
            "tags": []
          },
          "execution_count": 58
        }
      ]
    },
    {
      "cell_type": "code",
      "metadata": {
        "id": "Mf_VcL97Fyy-"
      },
      "source": [
        "## Setting all null values to Unknown \n",
        "col=col.fillna(value=\"Unknown\",subset=[\"CONTRIBUTING FACTOR VEHICLE 1\",\"CONTRIBUTING FACTOR VEHICLE 2\",\"CONTRIBUTING FACTOR VEHICLE 3\",\"CONTRIBUTING FACTOR VEHICLE 4\",\"CONTRIBUTING FACTOR VEHICLE 5\"])"
      ],
      "execution_count": 59,
      "outputs": []
    },
    {
      "cell_type": "code",
      "metadata": {
        "colab": {
          "base_uri": "https://localhost:8080/"
        },
        "id": "LWSphU64OegZ",
        "outputId": "b09aa766-8b9e-4b18-e340-c2f899b99737"
      },
      "source": [
        "## Checking what values in VEHICLE TYPE CODE need to be cleaned\n",
        "print(col.select(\"VEHICLE TYPE CODE 1\",\"VEHICLE TYPE CODE 2\",\"VEHICLE TYPE CODE 3\",\"VEHICLE TYPE CODE 4\",\"VEHICLE TYPE CODE 5\").distinct().show(30));\n"
      ],
      "execution_count": 60,
      "outputs": [
        {
          "output_type": "stream",
          "text": [
            "+--------------------+--------------------+--------------------+--------------------+--------------------+\n",
            "| VEHICLE TYPE CODE 1| VEHICLE TYPE CODE 2| VEHICLE TYPE CODE 3| VEHICLE TYPE CODE 4| VEHICLE TYPE CODE 5|\n",
            "+--------------------+--------------------+--------------------+--------------------+--------------------+\n",
            "|             UNKNOWN|             UNKNOWN|                null|                null|                null|\n",
            "|               Sedan|               MOPED|                null|                null|                null|\n",
            "|           Box Truck|Station Wagon/Spo...|          Motorcycle|               Sedan|Station Wagon/Spo...|\n",
            "|           Lift Boom|           Box Truck|                null|                null|                null|\n",
            "|          SKID LOADE|Station Wagon/Spo...|                null|                null|                null|\n",
            "|             TRAILER|       Pick-up Truck|                null|                null|                null|\n",
            "|         Chassis Cab|Station Wagon/Spo...|               Sedan|                null|                null|\n",
            "|                LIMO|          GAS SCOOTE|                null|                null|                null|\n",
            "|   PASSENGER VEHICLE|SPORT UTILITY / S...|                 VAN|                null|                null|\n",
            "|Station Wagon/Spo...|Station Wagon/Spo...|Station Wagon/Spo...|          FLATBED TR|                null|\n",
            "|Station Wagon/Spo...|       Pick-up Truck|                Taxi|Station Wagon/Spo...|                null|\n",
            "|       Pick-up Truck|       Pick-up Truck|               Sedan|                null|                null|\n",
            "|            Flat Bed|                 Bus|                null|                null|                null|\n",
            "|                LIMO|         Convertible|                null|                null|                null|\n",
            "|          Dump truck|               Sedan|                null|                null|                null|\n",
            "|               WAGON|               Sedan|                null|                null|                null|\n",
            "|                 van|Tractor Truck Diesel|                null|                null|                null|\n",
            "|               Sedan|               crane|                null|                null|                null|\n",
            "|                 Bus|Station Wagon/Spo...|Station Wagon/Spo...|Station Wagon/Spo...|                null|\n",
            "|   PASSENGER VEHICLE|                 BUS|LARGE COM VEH(6 O...|                null|                null|\n",
            "|           Box Truck|               Sedan|               Sedan|                Taxi|                null|\n",
            "|Tractor Truck Gas...|Station Wagon/Spo...|Station Wagon/Spo...|Station Wagon/Spo...|               Sedan|\n",
            "|                Taxi|               TRACT|                null|                null|                null|\n",
            "|               Sedan|                Pick|                null|                null|                null|\n",
            "|         Convertible| Tow Truck / Wrecker|                null|                null|                null|\n",
            "|          Motorcycle|       Pick-up Truck|Station Wagon/Spo...|                null|                null|\n",
            "|               Sedan|                LIFT|                null|                null|                null|\n",
            "|Station Wagon/Spo...|               USPOS|                null|                null|                null|\n",
            "|SPORT UTILITY / S...|             UNKNOWN|             UNKNOWN|             UNKNOWN|   PASSENGER VEHICLE|\n",
            "|               OTHER|                TAXI|               OTHER|                null|                null|\n",
            "+--------------------+--------------------+--------------------+--------------------+--------------------+\n",
            "only showing top 30 rows\n",
            "\n",
            "None\n"
          ],
          "name": "stdout"
        }
      ]
    },
    {
      "cell_type": "code",
      "metadata": {
        "id": "6_jJBGyiChKZ"
      },
      "source": [
        "## Setting null values for vehicle type to unknown\n",
        "col=col.fillna(value=\"Unknown\",subset=[\"VEHICLE TYPE CODE 1\",\"VEHICLE TYPE CODE 2\",\"VEHICLE TYPE CODE 3\",\"VEHICLE TYPE CODE 4\",\"VEHICLE TYPE CODE 5\"])"
      ],
      "execution_count": 61,
      "outputs": []
    },
    {
      "cell_type": "code",
      "metadata": {
        "colab": {
          "base_uri": "https://localhost:8080/"
        },
        "id": "lpcuHmVLU0T6",
        "outputId": "23c5fb92-c267-4924-f218-972f54a4af9c"
      },
      "source": [
        "## Checking if the values were correctly changed\n",
        "print(col.select(\"VEHICLE TYPE CODE 1\",\"VEHICLE TYPE CODE 2\",\"VEHICLE TYPE CODE 3\",\"VEHICLE TYPE CODE 4\",\"VEHICLE TYPE CODE 5\").distinct().show(30));"
      ],
      "execution_count": 62,
      "outputs": [
        {
          "output_type": "stream",
          "text": [
            "+--------------------+--------------------+--------------------+--------------------+--------------------+\n",
            "| VEHICLE TYPE CODE 1| VEHICLE TYPE CODE 2| VEHICLE TYPE CODE 3| VEHICLE TYPE CODE 4| VEHICLE TYPE CODE 5|\n",
            "+--------------------+--------------------+--------------------+--------------------+--------------------+\n",
            "|                DELV|               Sedan|             Unknown|             Unknown|             Unknown|\n",
            "|           Box Truck|Station Wagon/Spo...|          Motorcycle|               Sedan|Station Wagon/Spo...|\n",
            "|               Sedan|Multi-Wheeled Veh...|             Unknown|             Unknown|             Unknown|\n",
            "|                 van|             Unknown|             Unknown|             Unknown|             Unknown|\n",
            "|           Carry All|           Carry All|           Carry All|             Unknown|             Unknown|\n",
            "|                 Bus|               Sedan|Tractor Truck Diesel|             Unknown|             Unknown|\n",
            "|                 van|Station Wagon/Spo...|             Unknown|             Unknown|             Unknown|\n",
            "|       Pick-up Truck|               Sedan|                 Bus|             Unknown|             Unknown|\n",
            "|                  PK|               Sedan|               Sedan|               Sedan|             Unknown|\n",
            "|Station Wagon/Spo...|            Delivery|             Unknown|             Unknown|             Unknown|\n",
            "|               sedan|             Unknown|             Unknown|             Unknown|             Unknown|\n",
            "|           E-Scooter|           Box Truck|             Unknown|             Unknown|             Unknown|\n",
            "|SPORT UTILITY / S...|               OTHER|SPORT UTILITY / S...|             Unknown|             Unknown|\n",
            "|SPORT UTILITY / S...|   PASSENGER VEHICLE|   PASSENGER VEHICLE|SPORT UTILITY / S...|             Unknown|\n",
            "|       Pick-up Truck|                TRAC|             Unknown|             Unknown|             Unknown|\n",
            "|               Sedan|             SCOOTER|             Unknown|             Unknown|             Unknown|\n",
            "|              Tanker|              Tanker|             Unknown|             Unknown|             Unknown|\n",
            "|          government|             Unknown|             Unknown|             Unknown|             Unknown|\n",
            "|   PASSENGER VEHICLE|   PASSENGER VEHICLE|             UNKNOWN|SPORT UTILITY / S...|             Unknown|\n",
            "|          Motorcycle|           US POSTAL|             Unknown|             Unknown|             Unknown|\n",
            "|           Tow Truck|                Taxi|             Unknown|             Unknown|             Unknown|\n",
            "|               BACKH|            Flat Bed|Station Wagon/Spo...|             Unknown|             Unknown|\n",
            "|               CRANE|               Sedan|             Unknown|             Unknown|             Unknown|\n",
            "|               Sedan|               utili|             Unknown|             Unknown|             Unknown|\n",
            "|Tractor Truck Gas...|Station Wagon/Spo...|Station Wagon/Spo...|Station Wagon/Spo...|               Sedan|\n",
            "|               UTILI|Station Wagon/Spo...|             Unknown|             Unknown|             Unknown|\n",
            "|                Bike|Station Wagon/Spo...|       Pick-up Truck|             Unknown|             Unknown|\n",
            "|SPORT UTILITY / S...|      LIVERY VEHICLE|   PASSENGER VEHICLE|      LIVERY VEHICLE|             Unknown|\n",
            "|               Ambul|               Unkno|                 Van|             Unknown|             Unknown|\n",
            "|               Trail|Tractor Truck Diesel|             Unknown|             Unknown|             Unknown|\n",
            "+--------------------+--------------------+--------------------+--------------------+--------------------+\n",
            "only showing top 30 rows\n",
            "\n",
            "None\n"
          ],
          "name": "stdout"
        }
      ]
    },
    {
      "cell_type": "code",
      "metadata": {
        "id": "TA5jqgMyVGXM"
      },
      "source": [
        "### Set all empty values in CROSS STREET NAME to No Value\n",
        "col=col.fillna(value=\"NOT PROVIDED\",subset=[\"CROSS STREET NAME\"])"
      ],
      "execution_count": 63,
      "outputs": []
    },
    {
      "cell_type": "code",
      "metadata": {
        "id": "yyHAwCByYL9D"
      },
      "source": [
        "### Set all empty values in OFF STREET NAME to No Value\n",
        "col=col.fillna(value=\"NOT PROVIDED\",subset=[\"OFF STREET NAME\"])"
      ],
      "execution_count": 64,
      "outputs": []
    },
    {
      "cell_type": "code",
      "metadata": {
        "id": "BWhZGkXqZNdi"
      },
      "source": [
        "### Set all empty values in ON STREET NAME to No Value\n",
        "col=col.fillna(value=\"NOT PROVIDED\",subset=[\"ON STREET NAME\"])"
      ],
      "execution_count": 65,
      "outputs": []
    },
    {
      "cell_type": "code",
      "metadata": {
        "colab": {
          "base_uri": "https://localhost:8080/"
        },
        "id": "78SWJf84ZD5n",
        "outputId": "2b8dbf0d-88a5-4ffe-a64c-b669466621fe"
      },
      "source": [
        "## Checking if results have been successfully changed\n",
        "print(col.select(\"CROSS STREET NAME\",\"OFF STREET NAME\",\"ON STREET NAME\").distinct().show(30));"
      ],
      "execution_count": 158,
      "outputs": [
        {
          "output_type": "stream",
          "text": [
            "+--------------------+--------------------+--------------------+\n",
            "|   CROSS STREET NAME|     OFF STREET NAME|      ON STREET NAME|\n",
            "+--------------------+--------------------+--------------------+\n",
            "|NEILSON STREET   ...|        NOT PROVIDED|CORNAGA AVENUE   ...|\n",
            "|FOSTER AVENUE    ...|        NOT PROVIDED|EAST 87 STREET   ...|\n",
            "|WEST 66 STREET   ...|        NOT PROVIDED|BROADWAY         ...|\n",
            "|BELMONT AVENUE   ...|        NOT PROVIDED|SNEDIKER AVENUE  ...|\n",
            "|JAMAICA AVENUE   ...|        NOT PROVIDED|FRANCIS LEWIS BOU...|\n",
            "|PARSONS BOULEVARD...|        NOT PROVIDED|77 ROAD          ...|\n",
            "|        NOT PROVIDED|        NOT PROVIDED|GREENE AVENUE    ...|\n",
            "|        NOT PROVIDED|674       AUTUMN ...|        NOT PROVIDED|\n",
            "|        NOT PROVIDED|1219      FLATBUS...|        NOT PROVIDED|\n",
            "|            9 AVENUE|        NOT PROVIDED|50 STREET        ...|\n",
            "|        LENOX AVENUE|        NOT PROVIDED|WEST 132 STREET  ...|\n",
            "|        NOT PROVIDED|427       WEST 26...|        NOT PROVIDED|\n",
            "|        NOT PROVIDED|108-27    BREWER ...|        NOT PROVIDED|\n",
            "|        NOT PROVIDED|230       NOSTRAN...|        NOT PROVIDED|\n",
            "|    CROMMELIN STREET|        NOT PROVIDED|BLOSSOM AVENUE   ...|\n",
            "|        NOT PROVIDED|1710      VYSE AV...|        NOT PROVIDED|\n",
            "|    ROOSEVELT AVENUE|        NOT PROVIDED|70 STREET        ...|\n",
            "|     WEST 132 STREET|        NOT PROVIDED|8 AVENUE         ...|\n",
            "|          208 STREET|        NOT PROVIDED|HILLSIDE AVENUE  ...|\n",
            "|      BARNETT AVENUE|        NOT PROVIDED|39 AVENUE        ...|\n",
            "|       FINEST AVENUE|        NOT PROVIDED|ROSE STREET      ...|\n",
            "|     CLERMONT AVENUE|        NOT PROVIDED|ATLANTIC AVENUE  ...|\n",
            "|        NOT PROVIDED|1330      PARK AV...|        NOT PROVIDED|\n",
            "|        NOT PROVIDED|        NOT PROVIDED|TODT HILL ROAD   ...|\n",
            "|        NOT PROVIDED|        NOT PROVIDED|CEDAR AVENUE     ...|\n",
            "|        NOT PROVIDED|1096      EAST 16...|        NOT PROVIDED|\n",
            "|      LORIMER STREET|        NOT PROVIDED|BEDFORD AVENUE   ...|\n",
            "|   CLAREMONT PARKWAY|        NOT PROVIDED|CROTONA AVENUE   ...|\n",
            "|           44 AVENUE|        NOT PROVIDED|111 STREET       ...|\n",
            "|      EAST 94 STREET|        NOT PROVIDED|FOSTER AVENUE    ...|\n",
            "+--------------------+--------------------+--------------------+\n",
            "only showing top 30 rows\n",
            "\n",
            "None\n"
          ],
          "name": "stdout"
        }
      ]
    },
    {
      "cell_type": "code",
      "metadata": {
        "colab": {
          "base_uri": "https://localhost:8080/"
        },
        "id": "jG-QSgii-YqS",
        "outputId": "2a5e8ac9-ee46-4d12-f5ad-129ee322c19e"
      },
      "source": [
        "#Check CRASH DATE format\n",
        "col.filter(col[\"CRASH DATE\"].isNull()).show()"
      ],
      "execution_count": 67,
      "outputs": [
        {
          "output_type": "stream",
          "text": [
            "+----------+----------+-------+--------+--------+---------+--------+--------------+-----------------+---------------+-------------------------+------------------------+-----------------------------+----------------------------+-------------------------+------------------------+--------------------------+-------------------------+-----------------------------+-----------------------------+-----------------------------+-----------------------------+-----------------------------+------------+-------------------+-------------------+-------------------+-------------------+-------------------+\n",
            "|CRASH DATE|CRASH TIME|BOROUGH|ZIP CODE|LATITUDE|LONGITUDE|LOCATION|ON STREET NAME|CROSS STREET NAME|OFF STREET NAME|NUMBER OF PERSONS INJURED|NUMBER OF PERSONS KILLED|NUMBER OF PEDESTRIANS INJURED|NUMBER OF PEDESTRIANS KILLED|NUMBER OF CYCLIST INJURED|NUMBER OF CYCLIST KILLED|NUMBER OF MOTORIST INJURED|NUMBER OF MOTORIST KILLED|CONTRIBUTING FACTOR VEHICLE 1|CONTRIBUTING FACTOR VEHICLE 2|CONTRIBUTING FACTOR VEHICLE 3|CONTRIBUTING FACTOR VEHICLE 4|CONTRIBUTING FACTOR VEHICLE 5|COLLISION_ID|VEHICLE TYPE CODE 1|VEHICLE TYPE CODE 2|VEHICLE TYPE CODE 3|VEHICLE TYPE CODE 4|VEHICLE TYPE CODE 5|\n",
            "+----------+----------+-------+--------+--------+---------+--------+--------------+-----------------+---------------+-------------------------+------------------------+-----------------------------+----------------------------+-------------------------+------------------------+--------------------------+-------------------------+-----------------------------+-----------------------------+-----------------------------+-----------------------------+-----------------------------+------------+-------------------+-------------------+-------------------+-------------------+-------------------+\n",
            "+----------+----------+-------+--------+--------+---------+--------+--------------+-----------------+---------------+-------------------------+------------------------+-----------------------------+----------------------------+-------------------------+------------------------+--------------------------+-------------------------+-----------------------------+-----------------------------+-----------------------------+-----------------------------+-----------------------------+------------+-------------------+-------------------+-------------------+-------------------+-------------------+\n",
            "\n"
          ],
          "name": "stdout"
        }
      ]
    },
    {
      "cell_type": "code",
      "metadata": {
        "colab": {
          "base_uri": "https://localhost:8080/"
        },
        "id": "mCcBCNgC0nPV",
        "outputId": "7c93f799-dd2a-4e80-a080-6e4577dcdd45"
      },
      "source": [
        "#Change CRASH DATE type from String to Date\n",
        "from pyspark.sql.types import DateType\n",
        "from pyspark.sql.functions import to_date\n",
        "\n",
        "#col.withColumn(\"CRASH DATE\", col['CRASH DATE'].cast(DateType())).show()\n",
        "\n",
        " \n",
        "col= col.withColumn('CRASH DATE',to_date(col[\"CRASH DATE\"], 'MM/dd/yyyy'))\n",
        "col.printSchema()"
      ],
      "execution_count": null,
      "outputs": [
        {
          "output_type": "stream",
          "text": [
            "root\n",
            " |-- CRASH DATE: date (nullable = true)\n",
            " |-- CRASH TIME: string (nullable = true)\n",
            " |-- BOROUGH: string (nullable = true)\n",
            " |-- ZIP CODE: string (nullable = true)\n",
            " |-- LATITUDE: double (nullable = true)\n",
            " |-- LONGITUDE: double (nullable = true)\n",
            " |-- LOCATION: string (nullable = true)\n",
            " |-- ON STREET NAME: string (nullable = false)\n",
            " |-- CROSS STREET NAME: string (nullable = false)\n",
            " |-- OFF STREET NAME: string (nullable = false)\n",
            " |-- NUMBER OF PERSONS INJURED: integer (nullable = true)\n",
            " |-- NUMBER OF PERSONS KILLED: integer (nullable = true)\n",
            " |-- NUMBER OF PEDESTRIANS INJURED: integer (nullable = true)\n",
            " |-- NUMBER OF PEDESTRIANS KILLED: integer (nullable = true)\n",
            " |-- NUMBER OF CYCLIST INJURED: integer (nullable = true)\n",
            " |-- NUMBER OF CYCLIST KILLED: integer (nullable = true)\n",
            " |-- NUMBER OF MOTORIST INJURED: integer (nullable = true)\n",
            " |-- NUMBER OF MOTORIST KILLED: integer (nullable = true)\n",
            " |-- CONTRIBUTING FACTOR VEHICLE 1: string (nullable = false)\n",
            " |-- CONTRIBUTING FACTOR VEHICLE 2: string (nullable = false)\n",
            " |-- CONTRIBUTING FACTOR VEHICLE 3: string (nullable = false)\n",
            " |-- CONTRIBUTING FACTOR VEHICLE 4: string (nullable = false)\n",
            " |-- CONTRIBUTING FACTOR VEHICLE 5: string (nullable = false)\n",
            " |-- COLLISION_ID: integer (nullable = true)\n",
            " |-- VEHICLE TYPE CODE 1: string (nullable = false)\n",
            " |-- VEHICLE TYPE CODE 2: string (nullable = false)\n",
            " |-- VEHICLE TYPE CODE 3: string (nullable = false)\n",
            " |-- VEHICLE TYPE CODE 4: string (nullable = false)\n",
            " |-- VEHICLE TYPE CODE 5: string (nullable = false)\n",
            "\n"
          ],
          "name": "stdout"
        }
      ]
    },
    {
      "cell_type": "code",
      "metadata": {
        "colab": {
          "base_uri": "https://localhost:8080/"
        },
        "id": "WzBiyfY51kQ6",
        "outputId": "b79cae33-4b2a-4102-ef81-4c54c999695f"
      },
      "source": [
        "# Check if format is correct\n",
        "col.select(\"CRASH DATE\").show(10)"
      ],
      "execution_count": null,
      "outputs": [
        {
          "output_type": "stream",
          "text": [
            "+----------+\n",
            "|CRASH DATE|\n",
            "+----------+\n",
            "|2018-10-15|\n",
            "|2018-11-01|\n",
            "|2018-10-23|\n",
            "|2018-11-03|\n",
            "|2018-10-15|\n",
            "|2018-11-03|\n",
            "|2018-11-04|\n",
            "|2018-10-19|\n",
            "|2018-10-12|\n",
            "|2018-10-27|\n",
            "+----------+\n",
            "only showing top 10 rows\n",
            "\n"
          ],
          "name": "stdout"
        }
      ]
    },
    {
      "cell_type": "code",
      "metadata": {
        "colab": {
          "base_uri": "https://localhost:8080/"
        },
        "id": "COSJMM9pAPNg",
        "outputId": "9344199f-5d1c-4b9f-ac17-244de7427375"
      },
      "source": [
        "## Converting CRASH TIME type: String to timestamp \n",
        "from pyspark.sql.types import DateType\n",
        "from pyspark.sql.functions import to_timestamp\n",
        "\n",
        "col= col.withColumn('CRASH TIME',to_timestamp(col[\"CRASH TIME\"], 'H:mm'))\n",
        "col.filter(col[\"CRASH TIME\"].isNull()).show()"
      ],
      "execution_count": 68,
      "outputs": [
        {
          "output_type": "stream",
          "text": [
            "+----------+----------+-------+--------+--------+---------+--------+--------------+-----------------+---------------+-------------------------+------------------------+-----------------------------+----------------------------+-------------------------+------------------------+--------------------------+-------------------------+-----------------------------+-----------------------------+-----------------------------+-----------------------------+-----------------------------+------------+-------------------+-------------------+-------------------+-------------------+-------------------+\n",
            "|CRASH DATE|CRASH TIME|BOROUGH|ZIP CODE|LATITUDE|LONGITUDE|LOCATION|ON STREET NAME|CROSS STREET NAME|OFF STREET NAME|NUMBER OF PERSONS INJURED|NUMBER OF PERSONS KILLED|NUMBER OF PEDESTRIANS INJURED|NUMBER OF PEDESTRIANS KILLED|NUMBER OF CYCLIST INJURED|NUMBER OF CYCLIST KILLED|NUMBER OF MOTORIST INJURED|NUMBER OF MOTORIST KILLED|CONTRIBUTING FACTOR VEHICLE 1|CONTRIBUTING FACTOR VEHICLE 2|CONTRIBUTING FACTOR VEHICLE 3|CONTRIBUTING FACTOR VEHICLE 4|CONTRIBUTING FACTOR VEHICLE 5|COLLISION_ID|VEHICLE TYPE CODE 1|VEHICLE TYPE CODE 2|VEHICLE TYPE CODE 3|VEHICLE TYPE CODE 4|VEHICLE TYPE CODE 5|\n",
            "+----------+----------+-------+--------+--------+---------+--------+--------------+-----------------+---------------+-------------------------+------------------------+-----------------------------+----------------------------+-------------------------+------------------------+--------------------------+-------------------------+-----------------------------+-----------------------------+-----------------------------+-----------------------------+-----------------------------+------------+-------------------+-------------------+-------------------+-------------------+-------------------+\n",
            "+----------+----------+-------+--------+--------+---------+--------+--------------+-----------------+---------------+-------------------------+------------------------+-----------------------------+----------------------------+-------------------------+------------------------+--------------------------+-------------------------+-----------------------------+-----------------------------+-----------------------------+-----------------------------+-----------------------------+------------+-------------------+-------------------+-------------------+-------------------+-------------------+\n",
            "\n"
          ],
          "name": "stdout"
        }
      ]
    },
    {
      "cell_type": "code",
      "metadata": {
        "colab": {
          "base_uri": "https://localhost:8080/"
        },
        "id": "nO_6g7BKz1VL",
        "outputId": "6f89b483-8cf5-466d-dbf3-2276c31d5c91"
      },
      "source": [
        "## Checking if format is correct\n",
        "col.select(\"CRASH TIME\").show(10)"
      ],
      "execution_count": null,
      "outputs": [
        {
          "output_type": "stream",
          "text": [
            "+-------------------+\n",
            "|         CRASH TIME|\n",
            "+-------------------+\n",
            "|1970-01-01 08:00:00|\n",
            "|1970-01-01 16:30:00|\n",
            "|1970-01-01 20:12:00|\n",
            "|1970-01-01 14:35:00|\n",
            "|1970-01-01 17:30:00|\n",
            "|1970-01-01 20:40:00|\n",
            "|1970-01-01 13:50:00|\n",
            "|1970-01-01 12:10:00|\n",
            "|1970-01-01 18:20:00|\n",
            "|1970-01-01 14:45:00|\n",
            "+-------------------+\n",
            "only showing top 10 rows\n",
            "\n"
          ],
          "name": "stdout"
        }
      ]
    },
    {
      "cell_type": "code",
      "metadata": {
        "id": "yazMxEQbyhBE"
      },
      "source": [
        "### Removing YYYY-MM-DD from CRASH TIME\n",
        "from pyspark.sql.types import DateType\n",
        "from pyspark.sql.functions import date_format\n",
        "from pyspark.sql import functions as f\n",
        "\n",
        "col = col.withColumn(\"CRASH TIME\", f.date_format(\"CRASH TIME\", 'HH:mm:ss'))\n"
      ],
      "execution_count": null,
      "outputs": []
    },
    {
      "cell_type": "code",
      "metadata": {
        "colab": {
          "base_uri": "https://localhost:8080/"
        },
        "id": "0M004Bt2Cpby",
        "outputId": "abb45a89-d3f3-40ce-d1f6-eb0f68cd6ba2"
      },
      "source": [
        "## Checking Results of Format\n",
        "col.select(\"CRASH TIME\").show(10)"
      ],
      "execution_count": null,
      "outputs": [
        {
          "output_type": "stream",
          "text": [
            "+----------+\n",
            "|CRASH TIME|\n",
            "+----------+\n",
            "|  08:00:00|\n",
            "|  16:30:00|\n",
            "|  20:12:00|\n",
            "|  14:35:00|\n",
            "|  17:30:00|\n",
            "|  20:40:00|\n",
            "|  13:50:00|\n",
            "|  12:10:00|\n",
            "|  18:20:00|\n",
            "|  14:45:00|\n",
            "+----------+\n",
            "only showing top 10 rows\n",
            "\n"
          ],
          "name": "stdout"
        }
      ]
    },
    {
      "cell_type": "code",
      "metadata": {
        "colab": {
          "base_uri": "https://localhost:8080/"
        },
        "id": "YXLlaRGb_yu4",
        "outputId": "281b11a0-ff8d-4a49-c8af-dfd2cd07b648"
      },
      "source": [
        "col.show()"
      ],
      "execution_count": null,
      "outputs": [
        {
          "output_type": "stream",
          "text": [
            "+----------+----------+-------------+--------+---------+----------+--------------------+--------------------+-------------------+--------------------+-------------------------+------------------------+-----------------------------+----------------------------+-------------------------+------------------------+--------------------------+-------------------------+-----------------------------+-----------------------------+-----------------------------+-----------------------------+-----------------------------+------------+--------------------+--------------------+-------------------+-------------------+-------------------+\n",
            "|CRASH DATE|CRASH TIME|      BOROUGH|ZIP CODE| LATITUDE| LONGITUDE|            LOCATION|      ON STREET NAME|  CROSS STREET NAME|     OFF STREET NAME|NUMBER OF PERSONS INJURED|NUMBER OF PERSONS KILLED|NUMBER OF PEDESTRIANS INJURED|NUMBER OF PEDESTRIANS KILLED|NUMBER OF CYCLIST INJURED|NUMBER OF CYCLIST KILLED|NUMBER OF MOTORIST INJURED|NUMBER OF MOTORIST KILLED|CONTRIBUTING FACTOR VEHICLE 1|CONTRIBUTING FACTOR VEHICLE 2|CONTRIBUTING FACTOR VEHICLE 3|CONTRIBUTING FACTOR VEHICLE 4|CONTRIBUTING FACTOR VEHICLE 5|COLLISION_ID| VEHICLE TYPE CODE 1| VEHICLE TYPE CODE 2|VEHICLE TYPE CODE 3|VEHICLE TYPE CODE 4|VEHICLE TYPE CODE 5|\n",
            "+----------+----------+-------------+--------+---------+----------+--------------------+--------------------+-------------------+--------------------+-------------------------+------------------------+-----------------------------+----------------------------+-------------------------+------------------------+--------------------------+-------------------------+-----------------------------+-----------------------------+-----------------------------+-----------------------------+-----------------------------+------------+--------------------+--------------------+-------------------+-------------------+-------------------+\n",
            "|2018-10-15|  08:00:00|         null|    null|40.636547| -73.92584|(40.636547, -73.9...|EAST 53 STREET   ...|      KINGS HIGHWAY|        NOT PROVIDED|                        0|                       0|                            0|                           0|                        0|                       0|                         0|                        0|             Backing Unsafely|         Driver Inattentio...|                      Unknown|                      Unknown|                      Unknown|     4001073|               Sedan|               Sedan|            Unknown|            Unknown|            Unknown|\n",
            "|2018-11-01|  16:30:00|     BROOKLYN|   11225| 40.66848| -73.96117|(40.66848, -73.96...|        NOT PROVIDED|       NOT PROVIDED|916       CARROLL...|                        0|                       0|                            0|                           0|                        0|                       0|                         0|                        0|             Backing Unsafely|                  Unspecified|                      Unknown|                      Unknown|                      Unknown|     4012658|Station Wagon/Spo...|Station Wagon/Spo...|            Unknown|            Unknown|            Unknown|\n",
            "|2018-10-23|  20:12:00|        BRONX|   10457|40.839268|-73.903824|(40.839268, -73.9...|CLAREMONT PARKWAY...|        PARK AVENUE|        NOT PROVIDED|                        1|                       0|                            1|                           0|                        0|                       0|                         0|                        0|         Pedestrian/Bicycl...|                      Unknown|                      Unknown|                      Unknown|                      Unknown|     4006227|               Sedan|             Unknown|            Unknown|            Unknown|            Unknown|\n",
            "|2018-11-03|  14:35:00|         null|    null|40.726444| -73.76579|(40.726444, -73.7...|GRAND CENTRAL PKW...|       NOT PROVIDED|        NOT PROVIDED|                        0|                       0|                            0|                           0|                        0|                       0|                         0|                        0|         Following Too Clo...|                  Unspecified|                      Unknown|                      Unknown|                      Unknown|     4013358|Station Wagon/Spo...|               Sedan|            Unknown|            Unknown|            Unknown|\n",
            "|2018-10-15|  17:30:00|         null|    null| 40.80184| -73.95915|(40.80184, -73.95...|WEST 111 STREET  ...|       NOT PROVIDED|        NOT PROVIDED|                        0|                       0|                            0|                           0|                        0|                       0|                         0|                        0|           Turning Improperly|                  Unspecified|                      Unknown|                      Unknown|                      Unknown|     4001865|Station Wagon/Spo...|Tractor Truck Diesel|            Unknown|            Unknown|            Unknown|\n",
            "|2018-11-03|  20:40:00|     BROOKLYN|   11206|40.707333| -73.94321|(40.707333, -73.9...|GRAHAM AVENUE    ...|    MONTROSE AVENUE|        NOT PROVIDED|                        0|                       0|                            0|                           0|                        0|                       0|                         0|                        0|         Failure to Yield ...|                  Unspecified|                      Unknown|                      Unknown|                      Unknown|     4013729|               Sedan|                 Bus|            Unknown|            Unknown|            Unknown|\n",
            "|2018-11-04|  13:50:00|STATEN ISLAND|   10312|40.543766| -74.16345|(40.543766, -74.1...|AMBOY ROAD       ...|      PUTNAM STREET|        NOT PROVIDED|                        0|                       0|                            0|                           0|                        0|                       0|                         0|                        0|             Backing Unsafely|                  Unspecified|                      Unknown|                      Unknown|                      Unknown|     4014248|               Sedan|               Sedan|            Unknown|            Unknown|            Unknown|\n",
            "|2018-10-19|  12:10:00|     BROOKLYN|   11223| 40.58576| -73.97442|(40.58576, -73.97...|SHELL ROAD       ...|           AVENUE Z|        NOT PROVIDED|                        0|                       0|                            0|                           0|                        0|                       0|                         0|                        0|                  Unspecified|                  Unspecified|                      Unknown|                      Unknown|                      Unknown|     4003403|               Sedan|               SKATE|            Unknown|            Unknown|            Unknown|\n",
            "|2018-10-12|  18:20:00|    MANHATTAN|   10027| 40.81151| -73.94649|(40.81151, -73.94...|7 AVENUE         ...|    WEST 129 STREET|        NOT PROVIDED|                        0|                       0|                            0|                           0|                        0|                       0|                         0|                        0|         Driver Inattentio...|         Driver Inattentio...|                      Unknown|                      Unknown|                      Unknown|     3999927|               Sedan|                Taxi|            Unknown|            Unknown|            Unknown|\n",
            "|2018-10-27|  14:45:00|       QUEENS|   11420|40.666862|  -73.8045|(40.666862, -73.8...|NORTH CONDUIT AVE...|          134 PLACE|        NOT PROVIDED|                        0|                       0|                            0|                           0|                        0|                       0|                         0|                        0|         Following Too Clo...|                  Unspecified|                      Unknown|                      Unknown|                      Unknown|     4009179|                Taxi|Station Wagon/Spo...|            Unknown|            Unknown|            Unknown|\n",
            "|2018-10-25|  08:34:00|         null|    null| 40.76975| -73.96061|(40.76975, -73.96...|3 AVENUE         ...|       NOT PROVIDED|        NOT PROVIDED|                        0|                       0|                            0|                           0|                        0|                       0|                         0|                        0|         Following Too Clo...|         Driver Inattentio...|                      Unknown|                      Unknown|                      Unknown|     4009589|               Sedan|       Pick-up Truck|            Unknown|            Unknown|            Unknown|\n",
            "|2018-10-27|  20:33:00|        BRONX|   10460| 40.84271|-73.885666|(40.84271, -73.88...|SOUTHERN BOULEVAR...|EAST TREMONT AVENUE|        NOT PROVIDED|                        1|                       0|                            1|                           0|                        0|                       0|                         0|                        0|                  Unspecified|                      Unknown|                      Unknown|                      Unknown|                      Unknown|     4009497|               Sedan|             Unknown|            Unknown|            Unknown|            Unknown|\n",
            "|2018-10-13|  13:51:00|    MANHATTAN|   10017| 40.75352| -73.97117|(40.75352, -73.97...|        NOT PROVIDED|       NOT PROVIDED|240       EAST 47...|                        0|                       0|                            0|                           0|                        0|                       0|                         0|                        0|         Driver Inattentio...|                  Unspecified|                      Unknown|                      Unknown|                      Unknown|     3999067|                 Bus|               Sedan|            Unknown|            Unknown|            Unknown|\n",
            "|2018-10-21|  22:15:00|    MANHATTAN|   10024| 40.78383| -73.97783|(40.78383, -73.97...|WEST 80 STREET   ...|   AMSTERDAM AVENUE|        NOT PROVIDED|                        0|                       0|                            0|                           0|                        0|                       0|                         0|                        0|         Unsafe Lane Changing|                  Unspecified|                      Unknown|                      Unknown|                      Unknown|     4004727|                Taxi|               Sedan|            Unknown|            Unknown|            Unknown|\n",
            "|2018-10-18|  17:14:00|     BROOKLYN|   11219| 40.63028| -74.00553|(40.63028, -74.00...|        NOT PROVIDED|       NOT PROVIDED|1068      63 STRE...|                        0|                       0|                            0|                           0|                        0|                       0|                         0|                        0|             Backing Unsafely|                  Unspecified|                      Unknown|                      Unknown|                      Unknown|     4002723|Station Wagon/Spo...|    Refrigerated Van|            Unknown|            Unknown|            Unknown|\n",
            "|2018-10-17|  09:45:00|         null|    null|40.681988| -73.76634|(40.681988, -73.7...|MERRICK BOULEVARD...|       NOT PROVIDED|        NOT PROVIDED|                        1|                       0|                            0|                           0|                        0|                       0|                         1|                        0|         Traffic Control D...|                  Unspecified|                  Unspecified|                  Unspecified|                      Unknown|     4002148|Station Wagon/Spo...|               Sedan|              Sedan|              Sedan|            Unknown|\n",
            "|2018-11-01|  17:10:00|         null|    null| 40.63735| -74.12868|(40.63735, -74.12...|JEWETT AVENUE    ...|   RICHMOND TERRACE|        NOT PROVIDED|                        0|                       0|                            0|                           0|                        0|                       0|                         0|                        0|         Following Too Clo...|                  Unspecified|                      Unknown|                      Unknown|                      Unknown|     4012328|Station Wagon/Spo...|Station Wagon/Spo...|            Unknown|            Unknown|            Unknown|\n",
            "|2018-10-24|  08:00:00|     BROOKLYN|   11221|40.686172| -73.92499|(40.686172, -73.9...|        NOT PROVIDED|       NOT PROVIDED|835       JEFFERS...|                        0|                       0|                            0|                           0|                        0|                       0|                         0|                        0|                  Unspecified|                      Unknown|                      Unknown|                      Unknown|                      Unknown|     4007146|               Sedan|             Unknown|            Unknown|            Unknown|            Unknown|\n",
            "|2018-10-31|  22:00:00|       QUEENS|   11358|40.759094|-73.794136|(40.759094, -73.7...|42 AVENUE        ...|         172 STREET|        NOT PROVIDED|                        0|                       0|                            0|                           0|                        0|                       0|                         0|                        0|                  Fell Asleep|                  Unspecified|                      Unknown|                      Unknown|                      Unknown|     4012448|               Sedan|               Sedan|            Unknown|            Unknown|            Unknown|\n",
            "|2018-10-15|  10:10:00|     BROOKLYN|   11236|40.646965| -73.89407|(40.646965, -73.8...|        NOT PROVIDED|       NOT PROVIDED|926       EAST 10...|                        3|                       0|                            0|                           0|                        0|                       0|                         3|                        0|         Failure to Yield ...|                  Unspecified|                      Unknown|                      Unknown|                      Unknown|     4001183|               Sedan|Station Wagon/Spo...|            Unknown|            Unknown|            Unknown|\n",
            "+----------+----------+-------------+--------+---------+----------+--------------------+--------------------+-------------------+--------------------+-------------------------+------------------------+-----------------------------+----------------------------+-------------------------+------------------------+--------------------------+-------------------------+-----------------------------+-----------------------------+-----------------------------+-----------------------------+-----------------------------+------------+--------------------+--------------------+-------------------+-------------------+-------------------+\n",
            "only showing top 20 rows\n",
            "\n"
          ],
          "name": "stdout"
        }
      ]
    },
    {
      "cell_type": "code",
      "metadata": {
        "id": "GnMOSowyF16_"
      },
      "source": [
        "col.write.csv('mycsv.csv')"
      ],
      "execution_count": 70,
      "outputs": []
    },
    {
      "cell_type": "markdown",
      "metadata": {
        "id": "VKysQ3WooIvG"
      },
      "source": [
        "# ***TODO***\n",
        "Treat Null Values for all column to  Unknown. 1,2,3,4,5\n"
      ]
    },
    {
      "cell_type": "code",
      "metadata": {
        "id": "OWG3BkPVoUdq"
      },
      "source": [
        "# zip,borough,location,long,lat, [contributing1,2,3,4], killed and injured [3-4],COLLISION_ID."
      ],
      "execution_count": 71,
      "outputs": []
    },
    {
      "cell_type": "code",
      "metadata": {
        "id": "g7AmQu2mGfzQ",
        "outputId": "0d661b0c-356c-4204-e0ca-2616c8ca3b87",
        "colab": {
          "base_uri": "https://localhost:8080/"
        }
      },
      "source": [
        "ls\n"
      ],
      "execution_count": 74,
      "outputs": [
        {
          "output_type": "stream",
          "text": [
            "col.csv      ngrok-stable-linux-amd64.zip  spark-3.1.1-bin-hadoop2.7.tgz\n",
            "longlat.csv  \u001b[0m\u001b[01;34msample_data\u001b[0m/\n",
            "\u001b[01;34mmycsv.csv\u001b[0m/   \u001b[01;34mspark-3.1.1-bin-hadoop2.7\u001b[0m/\n"
          ],
          "name": "stdout"
        }
      ]
    },
    {
      "cell_type": "code",
      "metadata": {
        "id": "wMMrO-K2MuPK"
      },
      "source": [
        "!wget -q https://data.cityofnewyork.us/api/views/f55k-p6yu/rows.csv   #Loaded person data for vehicle collisions"
      ],
      "execution_count": 75,
      "outputs": []
    },
    {
      "cell_type": "code",
      "metadata": {
        "id": "4PCcr1E8MvEl"
      },
      "source": [
        "mv rows.csv person.csv"
      ],
      "execution_count": 78,
      "outputs": []
    },
    {
      "cell_type": "code",
      "metadata": {
        "id": "q0NyOkSrM5P9",
        "outputId": "fb3dce28-988e-4439-b932-387ff5e01abe",
        "colab": {
          "base_uri": "https://localhost:8080/"
        }
      },
      "source": [
        "ls"
      ],
      "execution_count": 80,
      "outputs": [
        {
          "output_type": "stream",
          "text": [
            "col.csv      ngrok-stable-linux-amd64.zip  \u001b[0m\u001b[01;34mspark-3.1.1-bin-hadoop2.7\u001b[0m/\n",
            "longlat.csv  person.csv                    spark-3.1.1-bin-hadoop2.7.tgz\n",
            "\u001b[01;34mmycsv.csv\u001b[0m/   \u001b[01;34msample_data\u001b[0m/\n"
          ],
          "name": "stdout"
        }
      ]
    },
    {
      "cell_type": "code",
      "metadata": {
        "id": "_eAkM7qzM_PZ"
      },
      "source": [
        "person = spark.read.option(\"header\",True).csv(\"./person.csv\",inferSchema=True) # Read person data."
      ],
      "execution_count": 81,
      "outputs": []
    },
    {
      "cell_type": "code",
      "metadata": {
        "id": "CeKiQB2VM_rh"
      },
      "source": [
        "person.createOrReplaceTempView(\"person\");"
      ],
      "execution_count": 82,
      "outputs": []
    },
    {
      "cell_type": "code",
      "metadata": {
        "id": "j5VglLvaNEUJ",
        "outputId": "1a70314a-13d4-407b-d75f-fa7c06280e21",
        "colab": {
          "base_uri": "https://localhost:8080/"
        }
      },
      "source": [
        "person.count()"
      ],
      "execution_count": 83,
      "outputs": [
        {
          "output_type": "execute_result",
          "data": {
            "text/plain": [
              "4236940"
            ]
          },
          "metadata": {
            "tags": []
          },
          "execution_count": 83
        }
      ]
    },
    {
      "cell_type": "code",
      "metadata": {
        "id": "E3WMT5X7NPxL",
        "outputId": "9e93427a-faae-46eb-fc86-0e318d80598a",
        "colab": {
          "base_uri": "https://localhost:8080/"
        }
      },
      "source": [
        "len(person.columns)"
      ],
      "execution_count": 84,
      "outputs": [
        {
          "output_type": "execute_result",
          "data": {
            "text/plain": [
              "21"
            ]
          },
          "metadata": {
            "tags": []
          },
          "execution_count": 84
        }
      ]
    },
    {
      "cell_type": "code",
      "metadata": {
        "id": "iDfkUNX7NSyk",
        "outputId": "39847878-b2e1-417d-d37f-5efb899a4441",
        "colab": {
          "base_uri": "https://localhost:8080/"
        }
      },
      "source": [
        "person.printSchema()"
      ],
      "execution_count": 85,
      "outputs": [
        {
          "output_type": "stream",
          "text": [
            "root\n",
            " |-- UNIQUE_ID: integer (nullable = true)\n",
            " |-- COLLISION_ID: integer (nullable = true)\n",
            " |-- CRASH_DATE: string (nullable = true)\n",
            " |-- CRASH_TIME: string (nullable = true)\n",
            " |-- PERSON_ID: string (nullable = true)\n",
            " |-- PERSON_TYPE: string (nullable = true)\n",
            " |-- PERSON_INJURY: string (nullable = true)\n",
            " |-- VEHICLE_ID: integer (nullable = true)\n",
            " |-- PERSON_AGE: integer (nullable = true)\n",
            " |-- EJECTION: string (nullable = true)\n",
            " |-- EMOTIONAL_STATUS: string (nullable = true)\n",
            " |-- BODILY_INJURY: string (nullable = true)\n",
            " |-- POSITION_IN_VEHICLE: string (nullable = true)\n",
            " |-- SAFETY_EQUIPMENT: string (nullable = true)\n",
            " |-- PED_LOCATION: string (nullable = true)\n",
            " |-- PED_ACTION: string (nullable = true)\n",
            " |-- COMPLAINT: string (nullable = true)\n",
            " |-- PED_ROLE: string (nullable = true)\n",
            " |-- CONTRIBUTING_FACTOR_1: string (nullable = true)\n",
            " |-- CONTRIBUTING_FACTOR_2: string (nullable = true)\n",
            " |-- PERSON_SEX: string (nullable = true)\n",
            "\n"
          ],
          "name": "stdout"
        }
      ]
    },
    {
      "cell_type": "code",
      "metadata": {
        "id": "w15krO6VNTL1",
        "outputId": "6aba5eb4-f1a8-4ac0-e22d-5bb0141d5c7d",
        "colab": {
          "base_uri": "https://localhost:8080/"
        }
      },
      "source": [
        "person.count() - person.distinct().count() "
      ],
      "execution_count": 86,
      "outputs": [
        {
          "output_type": "execute_result",
          "data": {
            "text/plain": [
              "0"
            ]
          },
          "metadata": {
            "tags": []
          },
          "execution_count": 86
        }
      ]
    },
    {
      "cell_type": "code",
      "metadata": {
        "id": "pKOPJZS0NgHQ",
        "outputId": "5ebdf54d-cd07-443b-a355-1a167e7d8dc3",
        "colab": {
          "base_uri": "https://localhost:8080/"
        }
      },
      "source": [
        "person.filter(person.COLLISION_ID.isNull()).drop()"
      ],
      "execution_count": 87,
      "outputs": [
        {
          "output_type": "execute_result",
          "data": {
            "text/plain": [
              "DataFrame[UNIQUE_ID: int, COLLISION_ID: int, CRASH_DATE: string, CRASH_TIME: string, PERSON_ID: string, PERSON_TYPE: string, PERSON_INJURY: string, VEHICLE_ID: int, PERSON_AGE: int, EJECTION: string, EMOTIONAL_STATUS: string, BODILY_INJURY: string, POSITION_IN_VEHICLE: string, SAFETY_EQUIPMENT: string, PED_LOCATION: string, PED_ACTION: string, COMPLAINT: string, PED_ROLE: string, CONTRIBUTING_FACTOR_1: string, CONTRIBUTING_FACTOR_2: string, PERSON_SEX: string]"
            ]
          },
          "metadata": {
            "tags": []
          },
          "execution_count": 87
        }
      ]
    },
    {
      "cell_type": "code",
      "metadata": {
        "id": "t1V3fQMcNi_K",
        "outputId": "66d14674-befd-4ed8-c505-1d52eb23f860",
        "colab": {
          "base_uri": "https://localhost:8080/"
        }
      },
      "source": [
        "person.filter(person.UNIQUE_ID.isNull()).drop() "
      ],
      "execution_count": 88,
      "outputs": [
        {
          "output_type": "execute_result",
          "data": {
            "text/plain": [
              "DataFrame[UNIQUE_ID: int, COLLISION_ID: int, CRASH_DATE: string, CRASH_TIME: string, PERSON_ID: string, PERSON_TYPE: string, PERSON_INJURY: string, VEHICLE_ID: int, PERSON_AGE: int, EJECTION: string, EMOTIONAL_STATUS: string, BODILY_INJURY: string, POSITION_IN_VEHICLE: string, SAFETY_EQUIPMENT: string, PED_LOCATION: string, PED_ACTION: string, COMPLAINT: string, PED_ROLE: string, CONTRIBUTING_FACTOR_1: string, CONTRIBUTING_FACTOR_2: string, PERSON_SEX: string]"
            ]
          },
          "metadata": {
            "tags": []
          },
          "execution_count": 88
        }
      ]
    },
    {
      "cell_type": "code",
      "metadata": {
        "id": "amGYboiBNlPr",
        "outputId": "8514e5b4-4132-410f-ebde-7c112aa3818e",
        "colab": {
          "base_uri": "https://localhost:8080/"
        }
      },
      "source": [
        "person.filter(person.PERSON_ID.isNull()).count()"
      ],
      "execution_count": 89,
      "outputs": [
        {
          "output_type": "execute_result",
          "data": {
            "text/plain": [
              "19"
            ]
          },
          "metadata": {
            "tags": []
          },
          "execution_count": 89
        }
      ]
    },
    {
      "cell_type": "code",
      "metadata": {
        "id": "xohm7Fe4NpzL"
      },
      "source": [
        "person=person.fillna(value='Unknown',subset=[\"PERSON_ID\"])"
      ],
      "execution_count": 90,
      "outputs": []
    },
    {
      "cell_type": "code",
      "metadata": {
        "id": "vZj4XKEuNsuK",
        "outputId": "2649d0d0-471a-4481-d7f8-9f339275babc",
        "colab": {
          "base_uri": "https://localhost:8080/"
        }
      },
      "source": [
        "print(person.select(\"PERSON_TYPE\").distinct().show(100))"
      ],
      "execution_count": 91,
      "outputs": [
        {
          "output_type": "stream",
          "text": [
            "+-----------+\n",
            "|PERSON_TYPE|\n",
            "+-----------+\n",
            "|   Occupant|\n",
            "| Pedestrian|\n",
            "|  Bicyclist|\n",
            "+-----------+\n",
            "\n",
            "None\n"
          ],
          "name": "stdout"
        }
      ]
    },
    {
      "cell_type": "code",
      "metadata": {
        "id": "srXbPbxZNwvN",
        "outputId": "9a632ddb-f98c-47e1-d86d-8432b0a061d3",
        "colab": {
          "base_uri": "https://localhost:8080/"
        }
      },
      "source": [
        "print(person.select(\"PERSON_INJURY\").distinct().show(100)) #Already Clean"
      ],
      "execution_count": 92,
      "outputs": [
        {
          "output_type": "stream",
          "text": [
            "+-------------+\n",
            "|PERSON_INJURY|\n",
            "+-------------+\n",
            "|       Killed|\n",
            "|  Unspecified|\n",
            "|      Injured|\n",
            "+-------------+\n",
            "\n",
            "None\n"
          ],
          "name": "stdout"
        }
      ]
    },
    {
      "cell_type": "code",
      "metadata": {
        "id": "WT_sbNA0N1M1",
        "outputId": "f97a4888-b6ac-4e40-fcb5-798c200623d4",
        "colab": {
          "base_uri": "https://localhost:8080/"
        }
      },
      "source": [
        "person.select(\"VEHICLE_ID\").distinct().count()"
      ],
      "execution_count": 93,
      "outputs": [
        {
          "output_type": "execute_result",
          "data": {
            "text/plain": [
              "1939149"
            ]
          },
          "metadata": {
            "tags": []
          },
          "execution_count": 93
        }
      ]
    },
    {
      "cell_type": "code",
      "metadata": {
        "id": "l7Kn2wkMN3E_",
        "outputId": "9f70ff0b-5242-490d-d653-60be48f2aad2",
        "colab": {
          "base_uri": "https://localhost:8080/"
        }
      },
      "source": [
        "person.filter(person.VEHICLE_ID.isNull()).count()"
      ],
      "execution_count": 94,
      "outputs": [
        {
          "output_type": "execute_result",
          "data": {
            "text/plain": [
              "165791"
            ]
          },
          "metadata": {
            "tags": []
          },
          "execution_count": 94
        }
      ]
    },
    {
      "cell_type": "code",
      "metadata": {
        "id": "C1nQTz5DN5Zr"
      },
      "source": [
        "\n",
        "person=person.fillna(value='-999',subset=[\"VEHICLE_ID\"])"
      ],
      "execution_count": 95,
      "outputs": []
    },
    {
      "cell_type": "code",
      "metadata": {
        "id": "HwLx0ibiN9UI",
        "outputId": "a521c7f5-3c73-4e12-8129-c98aef23a64f",
        "colab": {
          "base_uri": "https://localhost:8080/"
        }
      },
      "source": [
        "person.filter(person.PERSON_AGE.isNull()).count()"
      ],
      "execution_count": 96,
      "outputs": [
        {
          "output_type": "execute_result",
          "data": {
            "text/plain": [
              "363520"
            ]
          },
          "metadata": {
            "tags": []
          },
          "execution_count": 96
        }
      ]
    },
    {
      "cell_type": "code",
      "metadata": {
        "id": "mCEbLqcPOB30"
      },
      "source": [
        "\n",
        "mean = spark.sql(\"Select sum(PERSON_AGE)/count(PERSON_AGE) from person where PERSON_AGE > 0 and PERSON_AGE < 100\");"
      ],
      "execution_count": 97,
      "outputs": []
    },
    {
      "cell_type": "code",
      "metadata": {
        "id": "YueAiUBMOFQi",
        "outputId": "189b3169-0a77-42ed-ff48-8a306063885b",
        "colab": {
          "base_uri": "https://localhost:8080/"
        }
      },
      "source": [
        "mean.show()"
      ],
      "execution_count": 98,
      "outputs": [
        {
          "output_type": "stream",
          "text": [
            "+-------------------------------------------------------------------------------------+\n",
            "|(CAST(sum(CAST(PERSON_AGE AS BIGINT)) AS DOUBLE) / CAST(count(PERSON_AGE) AS DOUBLE))|\n",
            "+-------------------------------------------------------------------------------------+\n",
            "|                                                                    40.24500953358535|\n",
            "+-------------------------------------------------------------------------------------+\n",
            "\n"
          ],
          "name": "stdout"
        }
      ]
    },
    {
      "cell_type": "code",
      "metadata": {
        "id": "yqOdiuPiOIZZ"
      },
      "source": [
        "mean.createOrReplaceTempView(\"mean\")"
      ],
      "execution_count": 99,
      "outputs": []
    },
    {
      "cell_type": "code",
      "metadata": {
        "id": "-4NHwnbqOKl3"
      },
      "source": [
        "mean = spark.sql(\"SELECT cast((select * from mean) as int)\")"
      ],
      "execution_count": 100,
      "outputs": []
    },
    {
      "cell_type": "code",
      "metadata": {
        "id": "_0jXpLGKOM0B"
      },
      "source": [
        "from pyspark.sql.functions import when"
      ],
      "execution_count": 101,
      "outputs": []
    },
    {
      "cell_type": "code",
      "metadata": {
        "id": "qbvqpgxaOPy9"
      },
      "source": [
        "person = person.withColumn('PERSON_AGE', when(person[\"PERSON_AGE\"] > 100, 40).otherwise(person[\"PERSON_AGE\"]))"
      ],
      "execution_count": 102,
      "outputs": []
    },
    {
      "cell_type": "code",
      "metadata": {
        "id": "5XwiI1PpOSDz"
      },
      "source": [
        "person = person.withColumn('PERSON_AGE', when(person[\"PERSON_AGE\"] < 0, 40).otherwise(person[\"PERSON_AGE\"]))"
      ],
      "execution_count": 103,
      "outputs": []
    },
    {
      "cell_type": "code",
      "metadata": {
        "id": "2e5KfApFOUsg"
      },
      "source": [
        "person=person.fillna(value=40,subset=[\"PERSON_AGE\"])"
      ],
      "execution_count": 104,
      "outputs": []
    },
    {
      "cell_type": "code",
      "metadata": {
        "id": "FlkB66WXOXEc",
        "outputId": "7ac48056-b879-4233-fec3-037bfab1ca4c",
        "colab": {
          "base_uri": "https://localhost:8080/"
        }
      },
      "source": [
        "person.select(\"PERSON_AGE\").distinct().show()"
      ],
      "execution_count": 107,
      "outputs": [
        {
          "output_type": "stream",
          "text": [
            "+----------+\n",
            "|PERSON_AGE|\n",
            "+----------+\n",
            "|        31|\n",
            "|        85|\n",
            "|        65|\n",
            "|        53|\n",
            "|        78|\n",
            "|        34|\n",
            "|        81|\n",
            "|        28|\n",
            "|        76|\n",
            "|        27|\n",
            "|        26|\n",
            "|        44|\n",
            "|        12|\n",
            "|        91|\n",
            "|        22|\n",
            "|        93|\n",
            "|        47|\n",
            "|         1|\n",
            "|        52|\n",
            "|        13|\n",
            "+----------+\n",
            "only showing top 20 rows\n",
            "\n"
          ],
          "name": "stdout"
        }
      ]
    },
    {
      "cell_type": "code",
      "metadata": {
        "id": "dKJflS7sOY_q",
        "outputId": "8fa23672-20f7-4876-f04c-f4eacf4f1dbb",
        "colab": {
          "base_uri": "https://localhost:8080/"
        }
      },
      "source": [
        "person.select(\"EJECTION\").distinct().show()"
      ],
      "execution_count": 106,
      "outputs": [
        {
          "output_type": "stream",
          "text": [
            "+-----------------+\n",
            "|         EJECTION|\n",
            "+-----------------+\n",
            "|Partially Ejected|\n",
            "|   Does Not Apply|\n",
            "|             null|\n",
            "|          Unknown|\n",
            "|      Not Ejected|\n",
            "|          Ejected|\n",
            "|          Trapped|\n",
            "+-----------------+\n",
            "\n"
          ],
          "name": "stdout"
        }
      ]
    },
    {
      "cell_type": "code",
      "metadata": {
        "id": "1N7nckgBObzz"
      },
      "source": [
        "person=person.fillna(value='Unspecified',subset=[\"EJECTION\"])  #Cleaned EJECTED"
      ],
      "execution_count": 108,
      "outputs": []
    },
    {
      "cell_type": "code",
      "metadata": {
        "id": "0BGn1Y3POfql",
        "outputId": "adf73d97-b5c4-4bdd-ffe5-97ad2bb3a75e",
        "colab": {
          "base_uri": "https://localhost:8080/"
        }
      },
      "source": [
        "person.select(\"EMOTIONAL_STATUS\").distinct().show()"
      ],
      "execution_count": 109,
      "outputs": [
        {
          "output_type": "stream",
          "text": [
            "+----------------+\n",
            "|EMOTIONAL_STATUS|\n",
            "+----------------+\n",
            "|      Incoherent|\n",
            "|  Does Not Apply|\n",
            "|   Semiconscious|\n",
            "|            null|\n",
            "|         Unknown|\n",
            "|     Unconscious|\n",
            "|           Shock|\n",
            "|  Apparent Death|\n",
            "|       Conscious|\n",
            "+----------------+\n",
            "\n"
          ],
          "name": "stdout"
        }
      ]
    },
    {
      "cell_type": "code",
      "metadata": {
        "id": "q4u0G1s0OkB0"
      },
      "source": [
        "person=person.fillna(value='Unspecified',subset=[\"EMOTIONAL_STATUS\"])  #Cleaned EMOTIONAL_STATUS"
      ],
      "execution_count": 110,
      "outputs": []
    },
    {
      "cell_type": "code",
      "metadata": {
        "id": "0_aEDKUvOm34",
        "outputId": "8ddf3b7a-0eb6-4a48-e5fa-c13ca4796a10",
        "colab": {
          "base_uri": "https://localhost:8080/"
        }
      },
      "source": [
        "person.select(\"BODILY_INJURY\").distinct().show()"
      ],
      "execution_count": 111,
      "outputs": [
        {
          "output_type": "stream",
          "text": [
            "+--------------------+\n",
            "|       BODILY_INJURY|\n",
            "+--------------------+\n",
            "|      Does Not Apply|\n",
            "|                null|\n",
            "|                Head|\n",
            "|             Unknown|\n",
            "|                Neck|\n",
            "|Elbow-Lower-Arm-Hand|\n",
            "|         Entire Body|\n",
            "|                Face|\n",
            "|                Back|\n",
            "|       Hip-Upper Leg|\n",
            "|    Abdomen - Pelvis|\n",
            "|                 Eye|\n",
            "|Shoulder - Upper Arm|\n",
            "|               Chest|\n",
            "| Knee-Lower Leg Foot|\n",
            "+--------------------+\n",
            "\n"
          ],
          "name": "stdout"
        }
      ]
    },
    {
      "cell_type": "code",
      "metadata": {
        "id": "oJa3WHw9QTq7"
      },
      "source": [
        "person=person.fillna(value='Unspecified',subset=[\"BODILY_INJURY\"])"
      ],
      "execution_count": 112,
      "outputs": []
    },
    {
      "cell_type": "code",
      "metadata": {
        "id": "yM_ET_fkQXvB",
        "outputId": "c0706c77-7164-485e-ced3-7fb096c7914d",
        "colab": {
          "base_uri": "https://localhost:8080/"
        }
      },
      "source": [
        "person.select(\"PERSON_SEX\").distinct().show()"
      ],
      "execution_count": 113,
      "outputs": [
        {
          "output_type": "stream",
          "text": [
            "+----------+\n",
            "|PERSON_SEX|\n",
            "+----------+\n",
            "|         F|\n",
            "|      null|\n",
            "|         M|\n",
            "|         U|\n",
            "+----------+\n",
            "\n"
          ],
          "name": "stdout"
        }
      ]
    },
    {
      "cell_type": "code",
      "metadata": {
        "id": "E5xlWKUDQb-U"
      },
      "source": [
        "\n",
        "person=person.fillna(value='Unspecified',subset=[\"PERSON_SEX\"])  #Cleaned PERSON_SEX"
      ],
      "execution_count": 114,
      "outputs": []
    },
    {
      "cell_type": "code",
      "metadata": {
        "id": "HsAa3UCcQgGh",
        "outputId": "38997f3e-4eef-4d8f-a4af-83e8e29ae2e7",
        "colab": {
          "base_uri": "https://localhost:8080/"
        }
      },
      "source": [
        "person.select(\"POSITION_IN_VEHICLE\").distinct().show()"
      ],
      "execution_count": 115,
      "outputs": [
        {
          "output_type": "stream",
          "text": [
            "+--------------------+\n",
            "| POSITION_IN_VEHICLE|\n",
            "+--------------------+\n",
            "|Riding/Hanging on...|\n",
            "|Front passenger, ...|\n",
            "|Any person in the...|\n",
            "|If one person is ...|\n",
            "|      Does Not Apply|\n",
            "|              Driver|\n",
            "|Right rear passen...|\n",
            "|                null|\n",
            "|Middle front seat...|\n",
            "|             Unknown|\n",
            "|Left rear passeng...|\n",
            "|Middle rear seat,...|\n",
            "+--------------------+\n",
            "\n"
          ],
          "name": "stdout"
        }
      ]
    },
    {
      "cell_type": "code",
      "metadata": {
        "id": "UxWF_m3XQiSV"
      },
      "source": [
        "person=person.fillna(value='Unspecified',subset=[\"POSITION_IN_VEHICLE\"])"
      ],
      "execution_count": 116,
      "outputs": []
    },
    {
      "cell_type": "code",
      "metadata": {
        "id": "WDK_hgHlQpsY",
        "outputId": "54b026e7-3500-4623-9a42-da7b82a3f539",
        "colab": {
          "base_uri": "https://localhost:8080/"
        }
      },
      "source": [
        "person.select(\"SAFETY_EQUIPMENT\").distinct().show()"
      ],
      "execution_count": 117,
      "outputs": [
        {
          "output_type": "stream",
          "text": [
            "+--------------------+\n",
            "|    SAFETY_EQUIPMENT|\n",
            "+--------------------+\n",
            "|                None|\n",
            "|Stoppers Only (In...|\n",
            "|Pads Only (In-Lin...|\n",
            "|                null|\n",
            "|    Air Bag Deployed|\n",
            "|Air Bag Deployed/...|\n",
            "|Air Bag Deployed/...|\n",
            "|             Unknown|\n",
            "|               Other|\n",
            "|                   -|\n",
            "|             Harness|\n",
            "|Helmet/Other (In-...|\n",
            "|Child Restraint Only|\n",
            "|    Lap Belt/Harness|\n",
            "|Helmet (Motorcycl...|\n",
            "|  Lap Belt & Harness|\n",
            "|Helmet Only (In-L...|\n",
            "|Air Bag Deployed/...|\n",
            "|            Lap Belt|\n",
            "+--------------------+\n",
            "\n"
          ],
          "name": "stdout"
        }
      ]
    },
    {
      "cell_type": "code",
      "metadata": {
        "id": "htQyWNZgQrm3"
      },
      "source": [
        "person=person.fillna(value='Unspecified',subset=[\"SAFETY_EQUIPMENT\"])"
      ],
      "execution_count": 118,
      "outputs": []
    },
    {
      "cell_type": "code",
      "metadata": {
        "id": "xfTTLVbJQtQl",
        "outputId": "e7258362-9f0f-47dc-b91a-cf1cd5115322",
        "colab": {
          "base_uri": "https://localhost:8080/"
        }
      },
      "source": [
        "person.select(\"PED_LOCATION\").distinct().show()"
      ],
      "execution_count": 119,
      "outputs": [
        {
          "output_type": "stream",
          "text": [
            "+--------------------+\n",
            "|        PED_LOCATION|\n",
            "+--------------------+\n",
            "|      Does Not Apply|\n",
            "|                null|\n",
            "|             Unknown|\n",
            "|Pedestrian/Bicycl...|\n",
            "|Pedestrian/Bicycl...|\n",
            "+--------------------+\n",
            "\n"
          ],
          "name": "stdout"
        }
      ]
    },
    {
      "cell_type": "code",
      "metadata": {
        "id": "uTvpGyB9QxfU"
      },
      "source": [
        "\n",
        "person=person.fillna(value='Unspecified',subset=[\"PED_LOCATION\"])"
      ],
      "execution_count": 120,
      "outputs": []
    },
    {
      "cell_type": "code",
      "metadata": {
        "id": "wo1JqJCFQ2Cr",
        "outputId": "b8f47f1d-a64e-483c-b091-ffef357d0343",
        "colab": {
          "base_uri": "https://localhost:8080/"
        }
      },
      "source": [
        "person.select(\"PED_ACTION\").distinct().show()\n"
      ],
      "execution_count": 121,
      "outputs": [
        {
          "output_type": "stream",
          "text": [
            "+--------------------+\n",
            "|          PED_ACTION|\n",
            "+--------------------+\n",
            "|Pushing/Working o...|\n",
            "|      Not in Roadway|\n",
            "|Riding/Walking Al...|\n",
            "|Crossing, No Sign...|\n",
            "|      Does Not Apply|\n",
            "|                null|\n",
            "|Other Actions in ...|\n",
            "|             Unknown|\n",
            "|  Working in Roadway|\n",
            "|Getting On/Off Ve...|\n",
            "|Emerging from in ...|\n",
            "|  Playing in Roadway|\n",
            "|Crossing Against ...|\n",
            "|Crossing, No Sign...|\n",
            "|Going to/From Sto...|\n",
            "|Crossing With Signal|\n",
            "|Riding/Walking Al...|\n",
            "+--------------------+\n",
            "\n"
          ],
          "name": "stdout"
        }
      ]
    },
    {
      "cell_type": "code",
      "metadata": {
        "id": "G2zITltGQ4VX"
      },
      "source": [
        "person=person.fillna(value='Unknown',subset=[\"PED_ACTION\"])"
      ],
      "execution_count": 123,
      "outputs": []
    },
    {
      "cell_type": "code",
      "metadata": {
        "id": "4GvOKgUJQ8HC",
        "outputId": "1f0e6bfa-7587-43f2-f070-37ec5fd0e069",
        "colab": {
          "base_uri": "https://localhost:8080/"
        }
      },
      "source": [
        "person.select(\"COMPLAINT\").distinct().show()"
      ],
      "execution_count": 124,
      "outputs": [
        {
          "output_type": "stream",
          "text": [
            "+--------------------+\n",
            "|           COMPLAINT|\n",
            "+--------------------+\n",
            "|   Complaint of Pain|\n",
            "|          Minor Burn|\n",
            "|  Contusion - Bruise|\n",
            "|      Does Not Apply|\n",
            "|         Severe Burn|\n",
            "|                null|\n",
            "|      Minor Bleeding|\n",
            "|      Crush Injuries|\n",
            "|           Paralysis|\n",
            "|             Unknown|\n",
            "|            Abrasion|\n",
            "|Fracture - Disloc...|\n",
            "|        None Visible|\n",
            "|            Internal|\n",
            "|            Whiplash|\n",
            "|Fracture - Distor...|\n",
            "|          Concussion|\n",
            "|     Severe Bleeding|\n",
            "|  Severe Lacerations|\n",
            "|Complaint of Pain...|\n",
            "+--------------------+\n",
            "only showing top 20 rows\n",
            "\n"
          ],
          "name": "stdout"
        }
      ]
    },
    {
      "cell_type": "code",
      "metadata": {
        "id": "4FxAm9DIRBL5"
      },
      "source": [
        "person=person.fillna(value='Unspecified',subset=[\"COMPLAINT\"])"
      ],
      "execution_count": 139,
      "outputs": []
    },
    {
      "cell_type": "code",
      "metadata": {
        "id": "sQiywwLSRI4F",
        "outputId": "243be634-f805-4b60-9bba-b09b0506fe68",
        "colab": {
          "base_uri": "https://localhost:8080/"
        }
      },
      "source": [
        "person.select(\"PED_ROLE\").distinct().show()"
      ],
      "execution_count": 140,
      "outputs": [
        {
          "output_type": "stream",
          "text": [
            "+---------------+\n",
            "|       PED_ROLE|\n",
            "+---------------+\n",
            "|        Witness|\n",
            "|         Driver|\n",
            "|Notified Person|\n",
            "|  Policy Holder|\n",
            "|        Unknown|\n",
            "|          Other|\n",
            "|      Passenger|\n",
            "|     Registrant|\n",
            "|     Pedestrian|\n",
            "|          Owner|\n",
            "| In-Line Skater|\n",
            "+---------------+\n",
            "\n"
          ],
          "name": "stdout"
        }
      ]
    },
    {
      "cell_type": "code",
      "metadata": {
        "id": "uoM4IxojRLJP"
      },
      "source": [
        "person=person.fillna(value='Unknown',subset=[\"PED_ROLE\"])"
      ],
      "execution_count": 141,
      "outputs": []
    },
    {
      "cell_type": "code",
      "metadata": {
        "id": "LL8sBCgzRNOZ",
        "outputId": "9aa3ce9f-1f06-4ab7-f3c7-c10b45027dd8",
        "colab": {
          "base_uri": "https://localhost:8080/"
        }
      },
      "source": [
        "person.select(\"CONTRIBUTING_FACTOR_1\").distinct().show(100)\n"
      ],
      "execution_count": 142,
      "outputs": [
        {
          "output_type": "stream",
          "text": [
            "+---------------------+\n",
            "|CONTRIBUTING_FACTOR_1|\n",
            "+---------------------+\n",
            "| Following Too Clo...|\n",
            "| Traffic Control D...|\n",
            "| Driverless/Runawa...|\n",
            "| Windshield Inadeq...|\n",
            "| Using On Board Na...|\n",
            "|         Unsafe Speed|\n",
            "| Shoulders Defecti...|\n",
            "|       Tinted Windows|\n",
            "|    Oversized Vehicle|\n",
            "| Passing or Lane U...|\n",
            "| Lane Marking Impr...|\n",
            "| Other Lighting De...|\n",
            "| Aggressive Drivin...|\n",
            "|      Other Vehicular|\n",
            "|  Driver Inexperience|\n",
            "|              Texting|\n",
            "|               Illnes|\n",
            "|      Drugs (illegal)|\n",
            "|          Unspecified|\n",
            "|   Pavement Defective|\n",
            "|              Unknown|\n",
            "| Prescription Medi...|\n",
            "| View Obstructed/L...|\n",
            "|   Lost Consciousness|\n",
            "| Reaction to Uninv...|\n",
            "|          Fell Asleep|\n",
            "| Tire Failure/Inad...|\n",
            "| Outside Car Distr...|\n",
            "|      Fatigued/Drowsy|\n",
            "| Driver Inattentio...|\n",
            "| Cell Phone (hand-...|\n",
            "| Listening/Using H...|\n",
            "| Failure to Keep R...|\n",
            "|   Obstruction/Debris|\n",
            "| Unsafe Lane Changing|\n",
            "| Pedestrian/Bicycl...|\n",
            "| Passenger Distrac...|\n",
            "|  Alcohol Involvement|\n",
            "| Traffic Control D...|\n",
            "|     Backing Unsafely|\n",
            "|     Brakes Defective|\n",
            "|   Eating or Drinking|\n",
            "| Headlights Defective|\n",
            "| Failure to Yield ...|\n",
            "|       Animals Action|\n",
            "|   Turning Improperly|\n",
            "|                Glare|\n",
            "|     Steering Failure|\n",
            "|  Passing Too Closely|\n",
            "|    Vehicle Vandalism|\n",
            "|    Pavement Slippery|\n",
            "|  Physical Disability|\n",
            "| Other Electronic ...|\n",
            "| Cell Phone (hands...|\n",
            "+---------------------+\n",
            "\n"
          ],
          "name": "stdout"
        }
      ]
    },
    {
      "cell_type": "code",
      "metadata": {
        "id": "yvV-yjYmRQLH"
      },
      "source": [
        "person=person.fillna(value='Unknown',subset=[\"CONTRIBUTING_FACTOR_1\"])"
      ],
      "execution_count": 143,
      "outputs": []
    },
    {
      "cell_type": "code",
      "metadata": {
        "id": "PAKkyeioRSx5",
        "outputId": "7c83f1ff-bbcd-4259-ac21-758af6389ca3",
        "colab": {
          "base_uri": "https://localhost:8080/"
        }
      },
      "source": [
        "person.select(\"CONTRIBUTING_FACTOR_2\").distinct().show(100)"
      ],
      "execution_count": 144,
      "outputs": [
        {
          "output_type": "stream",
          "text": [
            "+---------------------+\n",
            "|CONTRIBUTING_FACTOR_2|\n",
            "+---------------------+\n",
            "| Following Too Clo...|\n",
            "| Traffic Control D...|\n",
            "| Driverless/Runawa...|\n",
            "| Accelerator Defec...|\n",
            "|         Unsafe Speed|\n",
            "|    Oversized Vehicle|\n",
            "| Passing or Lane U...|\n",
            "| Lane Marking Impr...|\n",
            "| Aggressive Drivin...|\n",
            "|      Other Vehicular|\n",
            "|  Driver Inexperience|\n",
            "|              Texting|\n",
            "|               Illnes|\n",
            "|      Drugs (illegal)|\n",
            "|          Unspecified|\n",
            "|   Pavement Defective|\n",
            "|              Unknown|\n",
            "| Prescription Medi...|\n",
            "| View Obstructed/L...|\n",
            "|   Lost Consciousness|\n",
            "| Reaction to Uninv...|\n",
            "|          Fell Asleep|\n",
            "| Tire Failure/Inad...|\n",
            "| Outside Car Distr...|\n",
            "|      Fatigued/Drowsy|\n",
            "| Driver Inattentio...|\n",
            "| Cell Phone (hand-...|\n",
            "| Listening/Using H...|\n",
            "| Failure to Keep R...|\n",
            "|   Obstruction/Debris|\n",
            "| Unsafe Lane Changing|\n",
            "| Pedestrian/Bicycl...|\n",
            "| Passenger Distrac...|\n",
            "|  Alcohol Involvement|\n",
            "| Traffic Control D...|\n",
            "|     Backing Unsafely|\n",
            "|     Brakes Defective|\n",
            "|   Eating or Drinking|\n",
            "| Failure to Yield ...|\n",
            "|       Animals Action|\n",
            "|                Glare|\n",
            "|   Turning Improperly|\n",
            "|  Passing Too Closely|\n",
            "|    Vehicle Vandalism|\n",
            "|    Pavement Slippery|\n",
            "|  Physical Disability|\n",
            "| Other Electronic ...|\n",
            "| Cell Phone (hands...|\n",
            "+---------------------+\n",
            "\n"
          ],
          "name": "stdout"
        }
      ]
    },
    {
      "cell_type": "code",
      "metadata": {
        "id": "MMDtpPeORTVK",
        "outputId": "33ab8ede-418e-486e-f379-239374e4e4cb",
        "colab": {
          "base_uri": "https://localhost:8080/"
        }
      },
      "source": [
        "person.select(\"PED_ROLE\").distinct().show()"
      ],
      "execution_count": 145,
      "outputs": [
        {
          "output_type": "stream",
          "text": [
            "+---------------+\n",
            "|       PED_ROLE|\n",
            "+---------------+\n",
            "|        Witness|\n",
            "|         Driver|\n",
            "|Notified Person|\n",
            "|  Policy Holder|\n",
            "|        Unknown|\n",
            "|          Other|\n",
            "|      Passenger|\n",
            "|     Registrant|\n",
            "|     Pedestrian|\n",
            "|          Owner|\n",
            "| In-Line Skater|\n",
            "+---------------+\n",
            "\n"
          ],
          "name": "stdout"
        }
      ]
    },
    {
      "cell_type": "code",
      "metadata": {
        "id": "Qo4kac58RdQo"
      },
      "source": [
        "person=person.fillna(value='Unknown',subset=[\"PED_ROLE\"])"
      ],
      "execution_count": 146,
      "outputs": []
    },
    {
      "cell_type": "code",
      "metadata": {
        "id": "LXqwrV2YRfQ-",
        "outputId": "6dae83a5-6027-4360-feb3-263b1a4701fa",
        "colab": {
          "base_uri": "https://localhost:8080/"
        }
      },
      "source": [
        "person.select(\"CONTRIBUTING_FACTOR_1\").distinct().show(100)"
      ],
      "execution_count": 147,
      "outputs": [
        {
          "output_type": "stream",
          "text": [
            "+---------------------+\n",
            "|CONTRIBUTING_FACTOR_1|\n",
            "+---------------------+\n",
            "| Following Too Clo...|\n",
            "| Traffic Control D...|\n",
            "| Driverless/Runawa...|\n",
            "| Windshield Inadeq...|\n",
            "| Using On Board Na...|\n",
            "|         Unsafe Speed|\n",
            "| Shoulders Defecti...|\n",
            "|       Tinted Windows|\n",
            "|    Oversized Vehicle|\n",
            "| Passing or Lane U...|\n",
            "| Lane Marking Impr...|\n",
            "| Other Lighting De...|\n",
            "| Aggressive Drivin...|\n",
            "|      Other Vehicular|\n",
            "|  Driver Inexperience|\n",
            "|              Texting|\n",
            "|               Illnes|\n",
            "|      Drugs (illegal)|\n",
            "|          Unspecified|\n",
            "|   Pavement Defective|\n",
            "|              Unknown|\n",
            "| Prescription Medi...|\n",
            "| View Obstructed/L...|\n",
            "|   Lost Consciousness|\n",
            "| Reaction to Uninv...|\n",
            "|          Fell Asleep|\n",
            "| Tire Failure/Inad...|\n",
            "| Outside Car Distr...|\n",
            "|      Fatigued/Drowsy|\n",
            "| Driver Inattentio...|\n",
            "| Cell Phone (hand-...|\n",
            "| Listening/Using H...|\n",
            "| Failure to Keep R...|\n",
            "|   Obstruction/Debris|\n",
            "| Unsafe Lane Changing|\n",
            "| Pedestrian/Bicycl...|\n",
            "| Passenger Distrac...|\n",
            "|  Alcohol Involvement|\n",
            "| Traffic Control D...|\n",
            "|     Backing Unsafely|\n",
            "|     Brakes Defective|\n",
            "|   Eating or Drinking|\n",
            "| Headlights Defective|\n",
            "| Failure to Yield ...|\n",
            "|       Animals Action|\n",
            "|   Turning Improperly|\n",
            "|                Glare|\n",
            "|     Steering Failure|\n",
            "|  Passing Too Closely|\n",
            "|    Vehicle Vandalism|\n",
            "|    Pavement Slippery|\n",
            "|  Physical Disability|\n",
            "| Other Electronic ...|\n",
            "| Cell Phone (hands...|\n",
            "+---------------------+\n",
            "\n"
          ],
          "name": "stdout"
        }
      ]
    },
    {
      "cell_type": "code",
      "metadata": {
        "id": "q-rUZ1VuRhHN"
      },
      "source": [
        "person=person.fillna(value='Unknown',subset=[\"CONTRIBUTING_FACTOR_1\"])"
      ],
      "execution_count": 148,
      "outputs": []
    },
    {
      "cell_type": "code",
      "metadata": {
        "id": "FGkmp_tKRkAl",
        "outputId": "7b01f2c9-3475-4148-9380-3fd539afa169",
        "colab": {
          "base_uri": "https://localhost:8080/"
        }
      },
      "source": [
        "person.select(\"CONTRIBUTING_FACTOR_2\").distinct().show(100)"
      ],
      "execution_count": 149,
      "outputs": [
        {
          "output_type": "stream",
          "text": [
            "+---------------------+\n",
            "|CONTRIBUTING_FACTOR_2|\n",
            "+---------------------+\n",
            "| Following Too Clo...|\n",
            "| Traffic Control D...|\n",
            "| Driverless/Runawa...|\n",
            "| Accelerator Defec...|\n",
            "|         Unsafe Speed|\n",
            "|    Oversized Vehicle|\n",
            "| Passing or Lane U...|\n",
            "| Lane Marking Impr...|\n",
            "| Aggressive Drivin...|\n",
            "|      Other Vehicular|\n",
            "|  Driver Inexperience|\n",
            "|              Texting|\n",
            "|               Illnes|\n",
            "|      Drugs (illegal)|\n",
            "|          Unspecified|\n",
            "|   Pavement Defective|\n",
            "|              Unknown|\n",
            "| Prescription Medi...|\n",
            "| View Obstructed/L...|\n",
            "|   Lost Consciousness|\n",
            "| Reaction to Uninv...|\n",
            "|          Fell Asleep|\n",
            "| Tire Failure/Inad...|\n",
            "| Outside Car Distr...|\n",
            "|      Fatigued/Drowsy|\n",
            "| Driver Inattentio...|\n",
            "| Cell Phone (hand-...|\n",
            "| Listening/Using H...|\n",
            "| Failure to Keep R...|\n",
            "|   Obstruction/Debris|\n",
            "| Unsafe Lane Changing|\n",
            "| Pedestrian/Bicycl...|\n",
            "| Passenger Distrac...|\n",
            "|  Alcohol Involvement|\n",
            "| Traffic Control D...|\n",
            "|     Backing Unsafely|\n",
            "|     Brakes Defective|\n",
            "|   Eating or Drinking|\n",
            "| Failure to Yield ...|\n",
            "|       Animals Action|\n",
            "|                Glare|\n",
            "|   Turning Improperly|\n",
            "|  Passing Too Closely|\n",
            "|    Vehicle Vandalism|\n",
            "|    Pavement Slippery|\n",
            "|  Physical Disability|\n",
            "| Other Electronic ...|\n",
            "| Cell Phone (hands...|\n",
            "+---------------------+\n",
            "\n"
          ],
          "name": "stdout"
        }
      ]
    },
    {
      "cell_type": "code",
      "metadata": {
        "id": "-tDuwEsmRmml"
      },
      "source": [
        "person=person.fillna(value='Unknown',subset=[\"CONTRIBUTING_FACTOR_2\"])"
      ],
      "execution_count": 150,
      "outputs": []
    },
    {
      "cell_type": "code",
      "metadata": {
        "id": "LzFsVAnpRogq",
        "outputId": "114b7ee4-bd11-44a2-8a89-acb1253c85cf",
        "colab": {
          "base_uri": "https://localhost:8080/"
        }
      },
      "source": [
        "#Change CRASH_DATE from String to date\n",
        "from pyspark.sql.types import DataType\n",
        "from pyspark.sql.functions import to_date\n",
        "\n",
        "person = person.withColumn('CRASH_DATE', to_date(person[\"CRASH_DATE\"], 'MM/dd/yyyy'))\n",
        "person.printSchema()\n"
      ],
      "execution_count": 151,
      "outputs": [
        {
          "output_type": "stream",
          "text": [
            "root\n",
            " |-- UNIQUE_ID: integer (nullable = true)\n",
            " |-- COLLISION_ID: integer (nullable = true)\n",
            " |-- CRASH_DATE: date (nullable = true)\n",
            " |-- CRASH_TIME: string (nullable = true)\n",
            " |-- PERSON_ID: string (nullable = false)\n",
            " |-- PERSON_TYPE: string (nullable = true)\n",
            " |-- PERSON_INJURY: string (nullable = true)\n",
            " |-- VEHICLE_ID: integer (nullable = true)\n",
            " |-- PERSON_AGE: integer (nullable = true)\n",
            " |-- EJECTION: string (nullable = false)\n",
            " |-- EMOTIONAL_STATUS: string (nullable = false)\n",
            " |-- BODILY_INJURY: string (nullable = false)\n",
            " |-- POSITION_IN_VEHICLE: string (nullable = false)\n",
            " |-- SAFETY_EQUIPMENT: string (nullable = false)\n",
            " |-- PED_LOCATION: string (nullable = false)\n",
            " |-- PED_ACTION: string (nullable = false)\n",
            " |-- COMPLAINT: string (nullable = false)\n",
            " |-- PED_ROLE: string (nullable = false)\n",
            " |-- CONTRIBUTING_FACTOR_1: string (nullable = false)\n",
            " |-- CONTRIBUTING_FACTOR_2: string (nullable = false)\n",
            " |-- PERSON_SEX: string (nullable = false)\n",
            "\n"
          ],
          "name": "stdout"
        }
      ]
    },
    {
      "cell_type": "code",
      "metadata": {
        "id": "fLQKDF9aRrqt",
        "outputId": "00073d30-e914-4211-dc1b-031cf6015cb0",
        "colab": {
          "base_uri": "https://localhost:8080/"
        }
      },
      "source": [
        "from pyspark.sql.functions import to_timestamp\n",
        "person = person.withColumn('CRASH_TIME', to_timestamp(person[\"CRASH_TIME\"], 'H:mm'))\n",
        "person.printSchema()"
      ],
      "execution_count": 152,
      "outputs": [
        {
          "output_type": "stream",
          "text": [
            "root\n",
            " |-- UNIQUE_ID: integer (nullable = true)\n",
            " |-- COLLISION_ID: integer (nullable = true)\n",
            " |-- CRASH_DATE: date (nullable = true)\n",
            " |-- CRASH_TIME: timestamp (nullable = true)\n",
            " |-- PERSON_ID: string (nullable = false)\n",
            " |-- PERSON_TYPE: string (nullable = true)\n",
            " |-- PERSON_INJURY: string (nullable = true)\n",
            " |-- VEHICLE_ID: integer (nullable = true)\n",
            " |-- PERSON_AGE: integer (nullable = true)\n",
            " |-- EJECTION: string (nullable = false)\n",
            " |-- EMOTIONAL_STATUS: string (nullable = false)\n",
            " |-- BODILY_INJURY: string (nullable = false)\n",
            " |-- POSITION_IN_VEHICLE: string (nullable = false)\n",
            " |-- SAFETY_EQUIPMENT: string (nullable = false)\n",
            " |-- PED_LOCATION: string (nullable = false)\n",
            " |-- PED_ACTION: string (nullable = false)\n",
            " |-- COMPLAINT: string (nullable = false)\n",
            " |-- PED_ROLE: string (nullable = false)\n",
            " |-- CONTRIBUTING_FACTOR_1: string (nullable = false)\n",
            " |-- CONTRIBUTING_FACTOR_2: string (nullable = false)\n",
            " |-- PERSON_SEX: string (nullable = false)\n",
            "\n"
          ],
          "name": "stdout"
        }
      ]
    },
    {
      "cell_type": "code",
      "metadata": {
        "id": "NfV8LN-IR4XC"
      },
      "source": [
        "from pyspark.sql.functions import date_format\n",
        "from pyspark.sql import functions as f\n",
        "person = person.withColumn('CRASH_TIME', f.date_format(\"CRASH_TIME\", 'HH:mm'))"
      ],
      "execution_count": 153,
      "outputs": []
    },
    {
      "cell_type": "code",
      "metadata": {
        "id": "vikcR8KYR7eo",
        "outputId": "51e741e2-58dd-423b-f7d6-59b50c027abc",
        "colab": {
          "base_uri": "https://localhost:8080/"
        }
      },
      "source": [
        "person.select(\"CRASH_TIME\").show(10)"
      ],
      "execution_count": 154,
      "outputs": [
        {
          "output_type": "stream",
          "text": [
            "+----------+\n",
            "|CRASH_TIME|\n",
            "+----------+\n",
            "|     09:43|\n",
            "|     15:15|\n",
            "|     17:55|\n",
            "|     13:05|\n",
            "|     11:16|\n",
            "|     19:15|\n",
            "|     16:45|\n",
            "|     01:15|\n",
            "|     13:04|\n",
            "|     08:20|\n",
            "+----------+\n",
            "only showing top 10 rows\n",
            "\n"
          ],
          "name": "stdout"
        }
      ]
    },
    {
      "cell_type": "code",
      "metadata": {
        "id": "0djFFJ7pR9lz",
        "outputId": "d22657b1-722e-4b4b-9bac-045acf1da1f6",
        "colab": {
          "base_uri": "https://localhost:8080/"
        }
      },
      "source": [
        "person.select(\"CRASH_DATE\").show(10)"
      ],
      "execution_count": 155,
      "outputs": [
        {
          "output_type": "stream",
          "text": [
            "+----------+\n",
            "|CRASH_DATE|\n",
            "+----------+\n",
            "|2019-10-26|\n",
            "|2019-10-25|\n",
            "|2019-10-26|\n",
            "|2016-11-21|\n",
            "|2019-10-25|\n",
            "|2019-10-24|\n",
            "|2019-10-26|\n",
            "|2019-10-26|\n",
            "|2019-10-26|\n",
            "|2019-10-24|\n",
            "+----------+\n",
            "only showing top 10 rows\n",
            "\n"
          ],
          "name": "stdout"
        }
      ]
    },
    {
      "cell_type": "code",
      "metadata": {
        "id": "4SpWOZcgR_mH"
      },
      "source": [
        "person.repartition(1).write.format('com.databricks.spark.csv').save(\"./person_clean.csv\",header = 'true')"
      ],
      "execution_count": 156,
      "outputs": []
    },
    {
      "cell_type": "code",
      "metadata": {
        "id": "Mr8vL2eQTfPV"
      },
      "source": [
        "col.repartition(1).write.format('com.databricks.spark.csv').save(\"./collision_clean.csv\",header = 'true')"
      ],
      "execution_count": 157,
      "outputs": []
    },
    {
      "cell_type": "code",
      "metadata": {
        "id": "Y73eHIPzTxzP"
      },
      "source": [
        ""
      ],
      "execution_count": null,
      "outputs": []
    }
  ]
}