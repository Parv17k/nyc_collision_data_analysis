{
  "nbformat": 4,
  "nbformat_minor": 0,
  "metadata": {
    "colab": {
      "name": "vehicle_query.ipynb",
      "provenance": []
    },
    "kernelspec": {
      "name": "python3",
      "display_name": "Python 3"
    },
    "language_info": {
      "name": "python"
    }
  },
  "cells": [
    {
      "cell_type": "code",
      "metadata": {
        "id": "Q4JuRZVm173s"
      },
      "source": [
        ""
      ],
      "execution_count": null,
      "outputs": []
    },
    {
      "cell_type": "code",
      "metadata": {
        "colab": {
          "base_uri": "https://localhost:8080/"
        },
        "id": "BzmOEAnO60Zn",
        "outputId": "d4f7dd35-b6fd-4447-b930-6eed6540fb11"
      },
      "source": [
        "!apt-get update"
      ],
      "execution_count": 1,
      "outputs": [
        {
          "output_type": "stream",
          "text": [
            "\r0% [Working]\r            \rGet:1 https://cloud.r-project.org/bin/linux/ubuntu bionic-cran40/ InRelease [3,626 B]\n",
            "\r0% [Waiting for headers] [Waiting for headers] [1 InRelease 0 B/3,626 B 0%] [Wa\r0% [Waiting for headers] [Waiting for headers] [Waiting for headers] [Waiting f\r0% [1 InRelease gpgv 3,626 B] [Waiting for headers] [Waiting for headers] [Wait\r                                                                               \rIgn:2 https://developer.download.nvidia.com/compute/cuda/repos/ubuntu1804/x86_64  InRelease\n",
            "\r0% [1 InRelease gpgv 3,626 B] [Waiting for headers] [Waiting for headers] [Wait\r                                                                               \rHit:3 http://archive.ubuntu.com/ubuntu bionic InRelease\n",
            "\r0% [1 InRelease gpgv 3,626 B] [Waiting for headers] [Waiting for headers] [Wait\r                                                                               \rGet:4 http://security.ubuntu.com/ubuntu bionic-security InRelease [88.7 kB]\n",
            "Get:5 http://ppa.launchpad.net/c2d4u.team/c2d4u4.0+/ubuntu bionic InRelease [15.9 kB]\n",
            "Ign:6 https://developer.download.nvidia.com/compute/machine-learning/repos/ubuntu1804/x86_64  InRelease\n",
            "Get:7 https://developer.download.nvidia.com/compute/cuda/repos/ubuntu1804/x86_64  Release [697 B]\n",
            "Hit:8 https://developer.download.nvidia.com/compute/machine-learning/repos/ubuntu1804/x86_64  Release\n",
            "Get:9 https://developer.download.nvidia.com/compute/cuda/repos/ubuntu1804/x86_64  Release.gpg [836 B]\n",
            "Get:10 http://archive.ubuntu.com/ubuntu bionic-updates InRelease [88.7 kB]\n",
            "Hit:11 http://ppa.launchpad.net/cran/libgit2/ubuntu bionic InRelease\n",
            "Get:12 https://cloud.r-project.org/bin/linux/ubuntu bionic-cran40/ Packages [53.9 kB]\n",
            "Get:13 http://archive.ubuntu.com/ubuntu bionic-backports InRelease [74.6 kB]\n",
            "Get:14 http://ppa.launchpad.net/deadsnakes/ppa/ubuntu bionic InRelease [15.9 kB]\n",
            "Get:15 http://ppa.launchpad.net/graphics-drivers/ppa/ubuntu bionic InRelease [15.9 kB]\n",
            "Ign:17 https://developer.download.nvidia.com/compute/cuda/repos/ubuntu1804/x86_64  Packages\n",
            "Get:17 https://developer.download.nvidia.com/compute/cuda/repos/ubuntu1804/x86_64  Packages [770 kB]\n",
            "Get:18 http://ppa.launchpad.net/c2d4u.team/c2d4u4.0+/ubuntu bionic/main Sources [1,759 kB]\n",
            "Get:19 http://security.ubuntu.com/ubuntu bionic-security/multiverse amd64 Packages [24.7 kB]\n",
            "Get:20 http://security.ubuntu.com/ubuntu bionic-security/restricted amd64 Packages [399 kB]\n",
            "Get:21 http://security.ubuntu.com/ubuntu bionic-security/main amd64 Packages [2,119 kB]\n",
            "Get:22 http://security.ubuntu.com/ubuntu bionic-security/universe amd64 Packages [1,410 kB]\n",
            "Get:23 http://ppa.launchpad.net/c2d4u.team/c2d4u4.0+/ubuntu bionic/main amd64 Packages [900 kB]\n",
            "Get:24 http://archive.ubuntu.com/ubuntu bionic-updates/restricted amd64 Packages [429 kB]\n",
            "Get:25 http://archive.ubuntu.com/ubuntu bionic-updates/main amd64 Packages [2,550 kB]\n",
            "Get:26 http://archive.ubuntu.com/ubuntu bionic-updates/universe amd64 Packages [2,181 kB]\n",
            "Get:27 http://archive.ubuntu.com/ubuntu bionic-updates/multiverse amd64 Packages [31.6 kB]\n",
            "Get:28 http://ppa.launchpad.net/deadsnakes/ppa/ubuntu bionic/main amd64 Packages [40.8 kB]\n",
            "Get:29 http://ppa.launchpad.net/graphics-drivers/ppa/ubuntu bionic/main amd64 Packages [53.2 kB]\n",
            "Fetched 13.0 MB in 4s (3,058 kB/s)\n",
            "Reading package lists... Done\n"
          ],
          "name": "stdout"
        }
      ]
    },
    {
      "cell_type": "code",
      "metadata": {
        "id": "JvkE7jfJ6web"
      },
      "source": [
        "!apt-get install openjdk-8-jdk-headless -qq > /dev/null"
      ],
      "execution_count": 2,
      "outputs": []
    },
    {
      "cell_type": "code",
      "metadata": {
        "id": "CDJolzSS7nbt"
      },
      "source": [
        "!wget -q https://downloads.apache.org/spark/spark-3.1.1/spark-3.1.1-bin-hadoop2.7.tgz"
      ],
      "execution_count": 3,
      "outputs": []
    },
    {
      "cell_type": "code",
      "metadata": {
        "id": "VG8HeLjM73Qy"
      },
      "source": [
        "!tar xf spark-3.1.1-bin-hadoop2.7.tgz"
      ],
      "execution_count": 4,
      "outputs": []
    },
    {
      "cell_type": "code",
      "metadata": {
        "id": "Ea3FH4Jz7_rX"
      },
      "source": [
        "!pip install -q findspark"
      ],
      "execution_count": 5,
      "outputs": []
    },
    {
      "cell_type": "code",
      "metadata": {
        "id": "_WtIGYCCV1OP"
      },
      "source": [
        ""
      ],
      "execution_count": 5,
      "outputs": []
    },
    {
      "cell_type": "code",
      "metadata": {
        "id": "7jV1-NWH8EjD"
      },
      "source": [
        "import os\n",
        "os.environ[\"JAVA_HOME\"] = \"/usr/lib/jvm/java-8-openjdk-amd64\"\n",
        "os.environ[\"SPARK_HOME\"] = \"/content/spark-3.1.1-bin-hadoop2.7\""
      ],
      "execution_count": 6,
      "outputs": []
    },
    {
      "cell_type": "code",
      "metadata": {
        "id": "jUaRyzqm8KJ7"
      },
      "source": [
        "import findspark\n",
        "findspark.init()"
      ],
      "execution_count": 7,
      "outputs": []
    },
    {
      "cell_type": "code",
      "metadata": {
        "id": "fy_ShFBd8N2m"
      },
      "source": [
        "\n",
        "!wget -O veh -q https://data.cityofnewyork.us/api/views/bm4k-52h4/rows.csv?accessType=DOWNLOAD\n"
      ],
      "execution_count": 8,
      "outputs": []
    },
    {
      "cell_type": "code",
      "metadata": {
        "colab": {
          "base_uri": "https://localhost:8080/"
        },
        "id": "Phla8zV0S0Eb",
        "outputId": "bf2c33b6-e536-4c93-9fe5-937d60ddea0f"
      },
      "source": [
        "!wget https://bin.equinox.io/c/4VmDzA7iaHb/ngrok-stable-linux-amd64.zip\n",
        "!unzip -y ngrok-stable-linux-amd64.zip\n",
        "get_ipython().system_raw('./ngrok http 4050 &')\n",
        "!curl -s http://localhost:4040/api/tunnels"
      ],
      "execution_count": 9,
      "outputs": [
        {
          "output_type": "stream",
          "text": [
            "--2021-05-05 14:21:12--  https://bin.equinox.io/c/4VmDzA7iaHb/ngrok-stable-linux-amd64.zip\n",
            "Resolving bin.equinox.io (bin.equinox.io)... 35.170.10.11, 54.225.197.119, 54.80.88.238, ...\n",
            "Connecting to bin.equinox.io (bin.equinox.io)|35.170.10.11|:443... connected.\n",
            "HTTP request sent, awaiting response... 200 OK\n",
            "Length: 13832437 (13M) [application/octet-stream]\n",
            "Saving to: ‘ngrok-stable-linux-amd64.zip’\n",
            "\n",
            "ngrok-stable-linux- 100%[===================>]  13.19M  54.4MB/s    in 0.2s    \n",
            "\n",
            "2021-05-05 14:21:12 (54.4 MB/s) - ‘ngrok-stable-linux-amd64.zip’ saved [13832437/13832437]\n",
            "\n",
            "UnZip 6.00 of 20 April 2009, by Debian. Original by Info-ZIP.\n",
            "\n",
            "Usage: unzip [-Z] [-opts[modifiers]] file[.zip] [list] [-x xlist] [-d exdir]\n",
            "  Default action is to extract files in list, except those in xlist, to exdir;\n",
            "  file[.zip] may be a wildcard.  -Z => ZipInfo mode (\"unzip -Z\" for usage).\n",
            "\n",
            "  -p  extract files to pipe, no messages     -l  list files (short format)\n",
            "  -f  freshen existing files, create none    -t  test compressed archive data\n",
            "  -u  update files, create if necessary      -z  display archive comment only\n",
            "  -v  list verbosely/show version info       -T  timestamp archive to latest\n",
            "  -x  exclude files that follow (in xlist)   -d  extract files into exdir\n",
            "modifiers:\n",
            "  -n  never overwrite existing files         -q  quiet mode (-qq => quieter)\n",
            "  -o  overwrite files WITHOUT prompting      -a  auto-convert any text files\n",
            "  -j  junk paths (do not make directories)   -aa treat ALL files as text\n",
            "  -U  use escapes for all non-ASCII Unicode  -UU ignore any Unicode fields\n",
            "  -C  match filenames case-insensitively     -L  make (some) names lowercase\n",
            "  -X  restore UID/GID info                   -V  retain VMS version numbers\n",
            "  -K  keep setuid/setgid/tacky permissions   -M  pipe through \"more\" pager\n",
            "  -O CHARSET  specify a character encoding for DOS, Windows and OS/2 archives\n",
            "  -I CHARSET  specify a character encoding for UNIX and other archives\n",
            "\n",
            "See \"unzip -hh\" or unzip.txt for more help.  Examples:\n",
            "  unzip data1 -x joe   => extract all files except joe from zipfile data1.zip\n",
            "  unzip -p foo | more  => send contents of foo.zip via pipe into program more\n",
            "  unzip -fo foo ReadMe => quietly replace existing ReadMe if archive file newer\n"
          ],
          "name": "stdout"
        }
      ]
    },
    {
      "cell_type": "code",
      "metadata": {
        "id": "QF5M1w0PTe6E"
      },
      "source": [
        ""
      ],
      "execution_count": 9,
      "outputs": []
    },
    {
      "cell_type": "code",
      "metadata": {
        "id": "s-KSInllV-rn"
      },
      "source": [
        "from pyspark.sql import SparkSession\n",
        "\n",
        "spark = SparkSession.builder\\\n",
        "        .master(\"local\")\\\n",
        "        .appName(\"Collision\")\\\n",
        "        .config('spark.ui.port', '4050')\\\n",
        "        .getOrCreate()"
      ],
      "execution_count": 10,
      "outputs": []
    },
    {
      "cell_type": "code",
      "metadata": {
        "id": "SRqcpdVuWBF7"
      },
      "source": [
        "col=spark.read.option(\"header\",True).csv(\"./veh\",inferSchema=True);"
      ],
      "execution_count": 11,
      "outputs": []
    },
    {
      "cell_type": "code",
      "metadata": {
        "colab": {
          "base_uri": "https://localhost:8080/"
        },
        "id": "t1Nh4VnyWF33",
        "outputId": "52007b6d-e78d-431a-c7b8-cfda4373b65a"
      },
      "source": [
        "col.cache()"
      ],
      "execution_count": 12,
      "outputs": [
        {
          "output_type": "execute_result",
          "data": {
            "text/plain": [
              "DataFrame[UNIQUE_ID: int, COLLISION_ID: int, CRASH_DATE: string, CRASH_TIME: string, VEHICLE_ID: string, STATE_REGISTRATION: string, VEHICLE_TYPE: string, VEHICLE_MAKE: string, VEHICLE_MODEL: string, VEHICLE_YEAR: int, TRAVEL_DIRECTION: string, VEHICLE_OCCUPANTS: int, DRIVER_SEX: string, DRIVER_LICENSE_STATUS: string, DRIVER_LICENSE_JURISDICTION: string, PRE_CRASH: string, POINT_OF_IMPACT: string, VEHICLE_DAMAGE: string, VEHICLE_DAMAGE_1: string, VEHICLE_DAMAGE_2: string, VEHICLE_DAMAGE_3: string, PUBLIC_PROPERTY_DAMAGE: string, PUBLIC_PROPERTY_DAMAGE_TYPE: string, CONTRIBUTING_FACTOR_1: string, CONTRIBUTING_FACTOR_2: string]"
            ]
          },
          "metadata": {
            "tags": []
          },
          "execution_count": 12
        }
      ]
    },
    {
      "cell_type": "code",
      "metadata": {
        "colab": {
          "base_uri": "https://localhost:8080/"
        },
        "id": "8TQDWRQOWXB0",
        "outputId": "495b33bb-5042-4d38-ac9b-723b633a814b"
      },
      "source": [
        "col.count() - col.distinct().count()"
      ],
      "execution_count": 13,
      "outputs": [
        {
          "output_type": "execute_result",
          "data": {
            "text/plain": [
              "0"
            ]
          },
          "metadata": {
            "tags": []
          },
          "execution_count": 13
        }
      ]
    },
    {
      "cell_type": "code",
      "metadata": {
        "colab": {
          "base_uri": "https://localhost:8080/"
        },
        "id": "4U64EpA_bdzg",
        "outputId": "c140012f-f879-4086-d878-53d15c9568fe"
      },
      "source": [
        "len(col.columns) "
      ],
      "execution_count": 14,
      "outputs": [
        {
          "output_type": "execute_result",
          "data": {
            "text/plain": [
              "25"
            ]
          },
          "metadata": {
            "tags": []
          },
          "execution_count": 14
        }
      ]
    },
    {
      "cell_type": "code",
      "metadata": {
        "colab": {
          "base_uri": "https://localhost:8080/"
        },
        "id": "R3UkmrNObpS4",
        "outputId": "30de87f2-f4fd-4d23-e7c1-49f75ed09d1d"
      },
      "source": [
        "col.printSchema() "
      ],
      "execution_count": 15,
      "outputs": [
        {
          "output_type": "stream",
          "text": [
            "root\n",
            " |-- UNIQUE_ID: integer (nullable = true)\n",
            " |-- COLLISION_ID: integer (nullable = true)\n",
            " |-- CRASH_DATE: string (nullable = true)\n",
            " |-- CRASH_TIME: string (nullable = true)\n",
            " |-- VEHICLE_ID: string (nullable = true)\n",
            " |-- STATE_REGISTRATION: string (nullable = true)\n",
            " |-- VEHICLE_TYPE: string (nullable = true)\n",
            " |-- VEHICLE_MAKE: string (nullable = true)\n",
            " |-- VEHICLE_MODEL: string (nullable = true)\n",
            " |-- VEHICLE_YEAR: integer (nullable = true)\n",
            " |-- TRAVEL_DIRECTION: string (nullable = true)\n",
            " |-- VEHICLE_OCCUPANTS: integer (nullable = true)\n",
            " |-- DRIVER_SEX: string (nullable = true)\n",
            " |-- DRIVER_LICENSE_STATUS: string (nullable = true)\n",
            " |-- DRIVER_LICENSE_JURISDICTION: string (nullable = true)\n",
            " |-- PRE_CRASH: string (nullable = true)\n",
            " |-- POINT_OF_IMPACT: string (nullable = true)\n",
            " |-- VEHICLE_DAMAGE: string (nullable = true)\n",
            " |-- VEHICLE_DAMAGE_1: string (nullable = true)\n",
            " |-- VEHICLE_DAMAGE_2: string (nullable = true)\n",
            " |-- VEHICLE_DAMAGE_3: string (nullable = true)\n",
            " |-- PUBLIC_PROPERTY_DAMAGE: string (nullable = true)\n",
            " |-- PUBLIC_PROPERTY_DAMAGE_TYPE: string (nullable = true)\n",
            " |-- CONTRIBUTING_FACTOR_1: string (nullable = true)\n",
            " |-- CONTRIBUTING_FACTOR_2: string (nullable = true)\n",
            "\n"
          ],
          "name": "stdout"
        }
      ]
    },
    {
      "cell_type": "code",
      "metadata": {
        "colab": {
          "base_uri": "https://localhost:8080/"
        },
        "id": "IzZ-dCuHbtve",
        "outputId": "879abe1c-6ca3-41b7-ee2d-996f2c45c598"
      },
      "source": [
        "col.select(\"UNIQUE_ID\").distinct().count()-col.select(\"COLLISION_ID\").distinct().count()"
      ],
      "execution_count": 16,
      "outputs": [
        {
          "output_type": "execute_result",
          "data": {
            "text/plain": [
              "1783990"
            ]
          },
          "metadata": {
            "tags": []
          },
          "execution_count": 16
        }
      ]
    },
    {
      "cell_type": "code",
      "metadata": {
        "id": "_0jjddzjgyxU"
      },
      "source": [
        "from pyspark.sql.types import DateType\n",
        "from pyspark.sql.functions import to_timestamp\n",
        "from pyspark.sql.types import IntegerType\n",
        "from pyspark.sql.functions import to_date\n",
        "import pandas as pd\n",
        "\n",
        "col= col.withColumn('CRASH_TIME',to_timestamp(col[\"CRASH_TIME\"], 'H:mm'))\n",
        "\n",
        "#col = col.withColumn(\"VEHICLE_DAMAGE\", col[\"VEHICLE_DAMAGE\"].cast(IntegerType()))"
      ],
      "execution_count": 17,
      "outputs": []
    },
    {
      "cell_type": "code",
      "metadata": {
        "id": "s5PrD7SDhGzk"
      },
      "source": [
        "col= col.withColumn('CRASH_DATE',to_date(col[\"CRASH_DATE\"], 'MM/dd/yyyy'))"
      ],
      "execution_count": 18,
      "outputs": []
    },
    {
      "cell_type": "code",
      "metadata": {
        "id": "y5BAM6_NhXVW"
      },
      "source": [
        "col=col.fillna(value=\"NOT PROVIDED\",subset=[\"PUBLIC_PROPERTY_DAMAGE\"])"
      ],
      "execution_count": 19,
      "outputs": []
    },
    {
      "cell_type": "code",
      "metadata": {
        "id": "Vh10DEINhjD-"
      },
      "source": [
        "col=col.fillna(value=\"NOT PROVIDED\",subset=[\"PUBLIC_PROPERTY_DAMAGE\"])"
      ],
      "execution_count": 20,
      "outputs": []
    },
    {
      "cell_type": "code",
      "metadata": {
        "id": "DFHUpuX6h3Vw"
      },
      "source": [
        "\n",
        "col=col.fillna(value=\"NOT PROVIDED\",subset=[\"CONTRIBUTING_FACTOR_1\"])"
      ],
      "execution_count": 21,
      "outputs": []
    },
    {
      "cell_type": "code",
      "metadata": {
        "id": "ZQEh8br1h8OG"
      },
      "source": [
        "\n",
        "col=col.fillna(value=\"NOT PROVIDED\",subset=[\"CONTRIBUTING_FACTOR_2\"])"
      ],
      "execution_count": 22,
      "outputs": []
    },
    {
      "cell_type": "code",
      "metadata": {
        "id": "0LMO-PLMiCJ-"
      },
      "source": [
        "col=col.fillna(value=\"NOT PROVIDED\",subset=[\"PUBLIC_PROPERTY_DAMAGE\"])"
      ],
      "execution_count": 23,
      "outputs": []
    },
    {
      "cell_type": "code",
      "metadata": {
        "colab": {
          "base_uri": "https://localhost:8080/"
        },
        "id": "mgL68Fv8iQpD",
        "outputId": "e3691795-cb8f-47d9-fb6b-f3f79f761fa1"
      },
      "source": [
        "col.select(\"VEHICLE_TYPE\").distinct().show(20);"
      ],
      "execution_count": 24,
      "outputs": [
        {
          "output_type": "stream",
          "text": [
            "+------------+\n",
            "|VEHICLE_TYPE|\n",
            "+------------+\n",
            "|       trail|\n",
            "|        ELEC|\n",
            "|         BOX|\n",
            "|       PASS-|\n",
            "|       USP M|\n",
            "|       CONVE|\n",
            "|       ASTRO|\n",
            "|         NIU|\n",
            "|  HORSE CARR|\n",
            "|  truck trai|\n",
            "|  MOTOR DIRT|\n",
            "|  School Bus|\n",
            "|         TRK|\n",
            "|       NYC S|\n",
            "|       GOVER|\n",
            "|       FireT|\n",
            "|         VAM|\n",
            "|        BOAT|\n",
            "|       PETER|\n",
            "|    FLAT BED|\n",
            "+------------+\n",
            "only showing top 20 rows\n",
            "\n"
          ],
          "name": "stdout"
        }
      ]
    },
    {
      "cell_type": "code",
      "metadata": {
        "id": "KGHi4_z7iRND"
      },
      "source": [
        "\n"
      ],
      "execution_count": 24,
      "outputs": []
    },
    {
      "cell_type": "code",
      "metadata": {
        "id": "NT49KZ6XEexu"
      },
      "source": [
        "col.createOrReplaceTempView(\"vehicle\");\n"
      ],
      "execution_count": 25,
      "outputs": []
    },
    {
      "cell_type": "code",
      "metadata": {
        "id": "kOYS058e8gnU"
      },
      "source": [
        "v_damage=spark.sql(\"select VEHICLE_TYPE, count(unique_id) AS count from vehicle group by VEHICLE_TYPE having VEHICLE_TYPE is not null and VEHICLE_TYPE != 'UNKNOWN' order by count desc limit 10\")     "
      ],
      "execution_count": 26,
      "outputs": []
    },
    {
      "cell_type": "code",
      "metadata": {
        "colab": {
          "base_uri": "https://localhost:8080/"
        },
        "id": "XxBlVaBt8vbe",
        "outputId": "97b6a577-39dd-4429-e710-d01d4429e1ec"
      },
      "source": [
        "v_damage.show()"
      ],
      "execution_count": 27,
      "outputs": [
        {
          "output_type": "stream",
          "text": [
            "+--------------------+------+\n",
            "|        VEHICLE_TYPE| count|\n",
            "+--------------------+------+\n",
            "|               Sedan|800705|\n",
            "|   PASSENGER VEHICLE|770756|\n",
            "|Station Wagon/Spo...|649211|\n",
            "|SPORT UTILITY / S...|337927|\n",
            "|                Taxi| 80182|\n",
            "|          4 dr sedan| 73367|\n",
            "|                TAXI| 60785|\n",
            "|       Pick-up Truck| 56560|\n",
            "|                 VAN| 49720|\n",
            "|               OTHER| 45954|\n",
            "+--------------------+------+\n",
            "\n"
          ],
          "name": "stdout"
        }
      ]
    },
    {
      "cell_type": "code",
      "metadata": {
        "colab": {
          "base_uri": "https://localhost:8080/",
          "height": 788
        },
        "id": "HSgEY33p9q_m",
        "outputId": "cc73641c-a655-4986-8975-1697a0682f11"
      },
      "source": [
        "pd.DataFrame(v_damage.collect()).plot.bar(x=0,y=1,color=[\"red\",\"silver\",\"blue\",\"violet\",\"orange\"],figsize=(15,10)\n",
        "                                                                                                          ,xlabel=\"VEHICLE_TYPE\",ylabel=\"Crash Count\"      )\n"
      ],
      "execution_count": 28,
      "outputs": [
        {
          "output_type": "execute_result",
          "data": {
            "text/plain": [
              "<matplotlib.axes._subplots.AxesSubplot at 0x7f0c2ae99ad0>"
            ]
          },
          "metadata": {
            "tags": []
          },
          "execution_count": 28
        },
        {
          "output_type": "display_data",
          "data": {
            "image/png": "[encoded data removed]",
            "text/plain": [
              "<Figure size 1080x720 with 1 Axes>"
            ]
          },
          "metadata": {
            "tags": [],
            "needs_background": "light"
          }
        }
      ]
    },
    {
      "cell_type": "code",
      "metadata": {
        "id": "Z2UJmbpr-ydK"
      },
      "source": [
        "driving_liscence=spark.sql(\"select DRIVER_LICENSE_STATUS ,count(unique_id) AS count from vehicle group by DRIVER_LICENSE_STATUS having DRIVER_LICENSE_STATUS is not null and DRIVER_LICENSE_STATUS != 'UNKNOWN' order by count desc\")     "
      ],
      "execution_count": 31,
      "outputs": []
    },
    {
      "cell_type": "code",
      "metadata": {
        "colab": {
          "base_uri": "https://localhost:8080/",
          "height": 173
        },
        "id": "uO3xIYeQJVrY",
        "outputId": "ea317a05-2e72-4616-e83f-d02e482f5a8a"
      },
      "source": [
        "driving_liscence=pd.DataFrame(driving_liscence.collect());\n",
        "driving_liscence=driving_liscence.set_index(0)\n",
        "driving_liscence"
      ],
      "execution_count": 33,
      "outputs": [
        {
          "output_type": "execute_result",
          "data": {
            "text/html": [
              "<div>\n",
              "<style scoped>\n",
              "    .dataframe tbody tr th:only-of-type {\n",
              "        vertical-align: middle;\n",
              "    }\n",
              "\n",
              "    .dataframe tbody tr th {\n",
              "        vertical-align: top;\n",
              "    }\n",
              "\n",
              "    .dataframe thead th {\n",
              "        text-align: right;\n",
              "    }\n",
              "</style>\n",
              "<table border=\"1\" class=\"dataframe\">\n",
              "  <thead>\n",
              "    <tr style=\"text-align: right;\">\n",
              "      <th></th>\n",
              "      <th>1</th>\n",
              "    </tr>\n",
              "    <tr>\n",
              "      <th>0</th>\n",
              "      <th></th>\n",
              "    </tr>\n",
              "  </thead>\n",
              "  <tbody>\n",
              "    <tr>\n",
              "      <th>Licensed</th>\n",
              "      <td>1464994</td>\n",
              "    </tr>\n",
              "    <tr>\n",
              "      <th>Unlicensed</th>\n",
              "      <td>24742</td>\n",
              "    </tr>\n",
              "    <tr>\n",
              "      <th>Permit</th>\n",
              "      <td>10224</td>\n",
              "    </tr>\n",
              "  </tbody>\n",
              "</table>\n",
              "</div>"
            ],
            "text/plain": [
              "                  1\n",
              "0                  \n",
              "Licensed    1464994\n",
              "Unlicensed    24742\n",
              "Permit        10224"
            ]
          },
          "metadata": {
            "tags": []
          },
          "execution_count": 33
        }
      ]
    },
    {
      "cell_type": "code",
      "metadata": {
        "colab": {
          "base_uri": "https://localhost:8080/",
          "height": 606
        },
        "id": "vwj4h336KD6K",
        "outputId": "ae9b1089-6f76-453c-b2e7-5e5a2423feb0"
      },
      "source": [
        "driving_liscence.plot.pie(y=1, figsize=(10, 15))"
      ],
      "execution_count": 34,
      "outputs": [
        {
          "output_type": "execute_result",
          "data": {
            "text/plain": [
              "<matplotlib.axes._subplots.AxesSubplot at 0x7f0c2a793310>"
            ]
          },
          "metadata": {
            "tags": []
          },
          "execution_count": 34
        },
        {
          "output_type": "display_data",
          "data": {
            "image/png": "[encoded data removed]",
            "text/plain": [
              "<Figure size 720x1080 with 1 Axes>"
            ]
          },
          "metadata": {
            "tags": []
          }
        }
      ]
    },
    {
      "cell_type": "code",
      "metadata": {
        "colab": {
          "base_uri": "https://localhost:8080/"
        },
        "id": "92MtPcs8M0i7",
        "outputId": "680c33de-b86f-4b1d-df03-137c5d5d96ea"
      },
      "source": [
        "col.select(\"VEHICLE_YEAR\").distinct().show()"
      ],
      "execution_count": 36,
      "outputs": [
        {
          "output_type": "stream",
          "text": [
            "+------------+\n",
            "|VEHICLE_YEAR|\n",
            "+------------+\n",
            "|        1959|\n",
            "|        7993|\n",
            "|        1990|\n",
            "|        2811|\n",
            "|        2996|\n",
            "|        3000|\n",
            "|        2711|\n",
            "|        2821|\n",
            "|        1975|\n",
            "|        2025|\n",
            "|        2096|\n",
            "|        1977|\n",
            "|        2914|\n",
            "|        2027|\n",
            "|        3028|\n",
            "|        2200|\n",
            "|        4321|\n",
            "|        2003|\n",
            "|        4992|\n",
            "|        2007|\n",
            "+------------+\n",
            "only showing top 20 rows\n",
            "\n"
          ],
          "name": "stdout"
        }
      ]
    },
    {
      "cell_type": "code",
      "metadata": {
        "id": "dqgZgn4BOmz-"
      },
      "source": [
        "reasonsForAccidents=spark.sql(\"select PRE_CRASH,count(unique_id) AS count from vehicle group by PRE_CRASH having PRE_CRASH is not null and PRE_CRASH != 'Other*' order by count desc limit 5\")     "
      ],
      "execution_count": 41,
      "outputs": []
    },
    {
      "cell_type": "code",
      "metadata": {
        "colab": {
          "base_uri": "https://localhost:8080/",
          "height": 732
        },
        "id": "1VxfJ-13dB1b",
        "outputId": "b4a15cfb-457f-41ad-881f-865b0603145f"
      },
      "source": [
        "pd.DataFrame(reasonsForAccidents.collect()).plot.bar(x=0,y=1,color=[\"red\",\"silver\",\"blue\",\"violet\",\"orange\"],figsize=(15,10)\n",
        "                                                                                                          ,xlabel=\"VEHICLE_TYPE\",ylabel=\"Crash Count\"      )\n"
      ],
      "execution_count": 42,
      "outputs": [
        {
          "output_type": "execute_result",
          "data": {
            "text/plain": [
              "<matplotlib.axes._subplots.AxesSubplot at 0x7f0c29b28050>"
            ]
          },
          "metadata": {
            "tags": []
          },
          "execution_count": 42
        },
        {
          "output_type": "display_data",
          "data": {
            "image/png": "[encoded data removed]",
            "text/plain": [
              "<Figure size 1080x720 with 1 Axes>"
            ]
          },
          "metadata": {
            "tags": [],
            "needs_background": "light"
          }
        }
      ]
    },
    {
      "cell_type": "code",
      "metadata": {
        "id": "MxHU60-Hd3wh"
      },
      "source": [
        "reasonsForAccidents=spark.sql(\"select PRE_CRASH,count(unique_id) AS count from vehicle group by PRE_CRASH having PRE_CRASH is not null and PRE_CRASH != 'Other*' order by count desc\")     "
      ],
      "execution_count": 43,
      "outputs": []
    },
    {
      "cell_type": "code",
      "metadata": {
        "colab": {
          "base_uri": "https://localhost:8080/"
        },
        "id": "yeFjeYpoe2Ra",
        "outputId": "968accac-1d2f-48a1-bd96-ddfeafc9d6ba"
      },
      "source": [
        "col.select(\"DRIVER_LICENSE_STATUS\").distinct().show(10);"
      ],
      "execution_count": 44,
      "outputs": [
        {
          "output_type": "stream",
          "text": [
            "+---------------------+\n",
            "|DRIVER_LICENSE_STATUS|\n",
            "+---------------------+\n",
            "|                 null|\n",
            "|           Unlicensed|\n",
            "|               Permit|\n",
            "|             Licensed|\n",
            "+---------------------+\n",
            "\n"
          ],
          "name": "stdout"
        }
      ]
    },
    {
      "cell_type": "code",
      "metadata": {
        "id": "Iwz7AYDdgUfz"
      },
      "source": [
        "reasonsForAccidentsPublicProperty=spark.sql(\"select PRE_CRASH as reason,count(unique_id) AS count from vehicle where PUBLIC_PROPERTY_DAMAGE='Y' group by PRE_CRASH having PRE_CRASH is not null and PRE_CRASH != 'Other*' order by count desc\")     "
      ],
      "execution_count": 45,
      "outputs": []
    },
    {
      "cell_type": "code",
      "metadata": {
        "colab": {
          "base_uri": "https://localhost:8080/",
          "height": 1000
        },
        "id": "-Jqhw5VCg_B7",
        "outputId": "d7ed8c87-72ed-473d-8c35-fdae78f7c9ee"
      },
      "source": [
        "pd.DataFrame(reasonsForAccidentsPublicProperty.collect()).plot.bar(yticks=range(0,6300,200),x=0,y=1,figsize=(20,15)\n",
        "                                                                                                          ,xlabel=\"VEHICLE_TYPE\",ylabel=\"Crash Count\"      )\n"
      ],
      "execution_count": 46,
      "outputs": [
        {
          "output_type": "execute_result",
          "data": {
            "text/plain": [
              "<matplotlib.axes._subplots.AxesSubplot at 0x7f0c29b28a50>"
            ]
          },
          "metadata": {
            "tags": []
          },
          "execution_count": 46
        },
        {
          "output_type": "display_data",
          "data": {
            "image/png": "[encoded data removed]",
            "text/plain": [
              "<Figure size 1440x1080 with 1 Axes>"
            ]
          },
          "metadata": {
            "tags": [],
            "needs_background": "light"
          }
        }
      ]
    },
    {
      "cell_type": "code",
      "metadata": {
        "id": "7gXZAn39hM0W"
      },
      "source": [
        "pd.DataFrame(reasonsForAccidentsPublicProperty.collect()).plot.bar(yticks=range(0,6300,200),x=0,y=1,figsize=(20,15)\n",
        "                                                                                                          ,xlabel=\"VEHICLE_TYPE\",ylabel=\"Crash Count\"      )\n"
      ],
      "execution_count": null,
      "outputs": []
    },
    {
      "cell_type": "code",
      "metadata": {
        "id": "4wRHyQ3cnbNc"
      },
      "source": [
        "col.select(\"PUBLIC_PROPERTY_DAMAGE_TYPE\").distinct().show()"
      ],
      "execution_count": null,
      "outputs": []
    },
    {
      "cell_type": "code",
      "metadata": {
        "id": "S6SPfb9cnfjT"
      },
      "source": [
        "!pip install chord"
      ],
      "execution_count": null,
      "outputs": []
    },
    {
      "cell_type": "code",
      "metadata": {
        "id": "GbTzOU-Gpa7h"
      },
      "source": [
        "import chord\n",
        "cordDig=spark.sql(\"select DRIVER_LICENSE_STATUS,PRE_CRASH,count(unique_id) from vehicle group by PRE_CRASH,DRIVER_LICENSE_STATUS having PRE_CRASH is not null\");    "
      ],
      "execution_count": null,
      "outputs": []
    },
    {
      "cell_type": "code",
      "metadata": {
        "id": "CRrp5SxLq45C"
      },
      "source": [
        "# Contributing factors for Public Property damage."
      ],
      "execution_count": null,
      "outputs": []
    },
    {
      "cell_type": "code",
      "metadata": {
        "id": "O-q8CbulJOa6"
      },
      "source": [
        "FactorsForAccidentsPublicProperty=spark.sql(\"select CONTRIBUTING_FACTOR_1 as factor,count(unique_id) AS count from vehicle where PUBLIC_PROPERTY_DAMAGE='Y' group by factor  having factor!='Unspecified' order by count desc limit 5\")     "
      ],
      "execution_count": 58,
      "outputs": []
    },
    {
      "cell_type": "code",
      "metadata": {
        "id": "MzKbZyQ-IB3P"
      },
      "source": [
        ""
      ],
      "execution_count": 51,
      "outputs": []
    },
    {
      "cell_type": "code",
      "metadata": {
        "colab": {
          "base_uri": "https://localhost:8080/",
          "height": 759
        },
        "id": "CC-wT5xfKGlH",
        "outputId": "1d8f159e-1bee-4886-a1cd-a4ff378409c7"
      },
      "source": [
        "pd.DataFrame(FactorsForAccidentsPublicProperty.collect()).plot.bar(color=[\"#6666ff\"],x=0,y=1,figsize=(10,10)\n",
        "                                                                                                          ,xlabel=\"Factors\",ylabel=\"Crash Count\",label='Crashes Damaged Public Property')\n"
      ],
      "execution_count": 60,
      "outputs": [
        {
          "output_type": "execute_result",
          "data": {
            "text/plain": [
              "<matplotlib.axes._subplots.AxesSubplot at 0x7f0c234d9950>"
            ]
          },
          "metadata": {
            "tags": []
          },
          "execution_count": 60
        },
        {
          "output_type": "display_data",
          "data": {
            "image/png": "[encoded data removed]",
            "text/plain": [
              "<Figure size 720x720 with 1 Axes>"
            ]
          },
          "metadata": {
            "tags": [],
            "needs_background": "light"
          }
        }
      ]
    },
    {
      "cell_type": "code",
      "metadata": {
        "id": "dBQsnVvyKURg"
      },
      "source": [
        "\n",
        "TypesForAccidentsPublicProperty=spark.sql(\"select PUBLIC_PROPERTY_DAMAGE_TYPE as type,count(unique_id) AS count from vehicle group by type having type is not null order by count desc limit 5\")     "
      ],
      "execution_count": 66,
      "outputs": []
    },
    {
      "cell_type": "code",
      "metadata": {
        "colab": {
          "base_uri": "https://localhost:8080/"
        },
        "id": "FAGWdnq5QEse",
        "outputId": "0218aaf8-f881-4d0e-8ff7-7d9c3a8b24c2"
      },
      "source": [
        "TypesForAccidentsPublicProperty.show();"
      ],
      "execution_count": 67,
      "outputs": [
        {
          "output_type": "stream",
          "text": [
            "+------------+-----+\n",
            "|        type|count|\n",
            "+------------+-----+\n",
            "|       FENCE|  554|\n",
            "|  LIGHT POLE|  315|\n",
            "|UTILITY POLE|  195|\n",
            "|FIRE HYDRANT|  169|\n",
            "|        TREE|  138|\n",
            "+------------+-----+\n",
            "\n"
          ],
          "name": "stdout"
        }
      ]
    },
    {
      "cell_type": "code",
      "metadata": {
        "colab": {
          "base_uri": "https://localhost:8080/",
          "height": 686
        },
        "id": "8N4QtV07Q7aL",
        "outputId": "3265894b-a15f-43e2-d8e8-b2506928e39a"
      },
      "source": [
        "pd.DataFrame(TypesForAccidentsPublicProperty.collect()).plot.bar(color=[\"#6666ff\"],x=0,y=1,figsize=(10,10)\n",
        "                                                                                                          ,xlabel=\"Type\",ylabel=\"Crash Count\",label='Crashes Damaged Public Property')\n"
      ],
      "execution_count": 87,
      "outputs": [
        {
          "output_type": "execute_result",
          "data": {
            "text/plain": [
              "<matplotlib.axes._subplots.AxesSubplot at 0x7f0c23419c90>"
            ]
          },
          "metadata": {
            "tags": []
          },
          "execution_count": 87
        },
        {
          "output_type": "display_data",
          "data": {
            "image/png": "[encoded data removed]",
            "text/plain": [
              "<Figure size 720x720 with 1 Axes>"
            ]
          },
          "metadata": {
            "tags": [],
            "needs_background": "light"
          }
        }
      ]
    },
    {
      "cell_type": "code",
      "metadata": {
        "id": "dbY8f7M9SS0e"
      },
      "source": [
        ""
      ],
      "execution_count": null,
      "outputs": []
    },
    {
      "cell_type": "code",
      "metadata": {
        "colab": {
          "base_uri": "https://localhost:8080/"
        },
        "id": "iPqaOmeBRaiz",
        "outputId": "6383b700-9f62-479a-8065-030b73299cf7"
      },
      "source": [
        "TypesFactorForAccidentsPublicProperty.show();"
      ],
      "execution_count": 78,
      "outputs": [
        {
          "output_type": "stream",
          "text": [
            "+------------+-----+------------+\n",
            "|        type|count|      factor|\n",
            "+------------+-----+------------+\n",
            "|       FENCE|  554|NOT PROVIDED|\n",
            "|  LIGHT POLE|  315|NOT PROVIDED|\n",
            "|UTILITY POLE|  195|NOT PROVIDED|\n",
            "|FIRE HYDRANT|  169|NOT PROVIDED|\n",
            "|        TREE|  138|NOT PROVIDED|\n",
            "+------------+-----+------------+\n",
            "\n"
          ],
          "name": "stdout"
        }
      ]
    },
    {
      "cell_type": "code",
      "metadata": {
        "id": "XbHgze0NRfuV"
      },
      "source": [
        ""
      ],
      "execution_count": 83,
      "outputs": []
    },
    {
      "cell_type": "code",
      "metadata": {
        "colab": {
          "base_uri": "https://localhost:8080/"
        },
        "id": "IGZQTfpHS0vY",
        "outputId": "6dda36a0-85e8-4854-d31d-f91141d18589"
      },
      "source": [
        ""
      ],
      "execution_count": 84,
      "outputs": [
        {
          "output_type": "stream",
          "text": [
            "+---------------------------+---------------------+\n",
            "|PUBLIC_PROPERTY_DAMAGE_TYPE|CONTRIBUTING_FACTOR_1|\n",
            "+---------------------------+---------------------+\n",
            "|                       null|          Unspecified|\n",
            "|                       null| Driver Inattentio...|\n",
            "|                       null| Driver Inattentio...|\n",
            "|                       null|          Unspecified|\n",
            "|                       null|      Other Vehicular|\n",
            "|                       null| Driver Inattentio...|\n",
            "|                       null|          Unspecified|\n",
            "|                       null| Driver Inattentio...|\n",
            "|                       null|          Unspecified|\n",
            "|                       null| Driver Inattentio...|\n",
            "|                       null|          Unspecified|\n",
            "|                       null| Passenger Distrac...|\n",
            "|                       null|          Unspecified|\n",
            "|                       null|          Unspecified|\n",
            "|                       null| Traffic Control D...|\n",
            "|                       null|          Unspecified|\n",
            "|                       null|          Unspecified|\n",
            "|                       null|          Unspecified|\n",
            "|                       null| Unsafe Lane Changing|\n",
            "|                       null|          Unspecified|\n",
            "+---------------------------+---------------------+\n",
            "only showing top 20 rows\n",
            "\n"
          ],
          "name": "stdout"
        }
      ]
    },
    {
      "cell_type": "code",
      "metadata": {
        "id": "8Gi5WMp5TD-3"
      },
      "source": [
        ""
      ],
      "execution_count": null,
      "outputs": []
    }
  ]
}