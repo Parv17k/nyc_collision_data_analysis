{
  "nbformat": 4,
  "nbformat_minor": 0,
  "metadata": {
    "colab": {
      "name": "Copy of vehicle_Clean.ipynb",
      "provenance": []
    },
    "kernelspec": {
      "name": "python3",
      "display_name": "Python 3"
    },
    "language_info": {
      "name": "python"
    }
  },
  "cells": [
    {
      "cell_type": "code",
      "metadata": {
        "id": "Q4JuRZVm173s"
      },
      "source": [
        ""
      ],
      "execution_count": null,
      "outputs": []
    },
    {
      "cell_type": "code",
      "metadata": {
        "colab": {
          "base_uri": "https://localhost:8080/"
        },
        "id": "BzmOEAnO60Zn",
        "outputId": "7f5d14c6-f1bd-4994-acf4-4e2227aff95e"
      },
      "source": [
        "!apt-get update"
      ],
      "execution_count": null,
      "outputs": [
        {
          "output_type": "stream",
          "text": [
            "\r0% [Working]\r            \rGet:1 https://cloud.r-project.org/bin/linux/ubuntu bionic-cran40/ InRelease [3,626 B]\n",
            "\r0% [Connecting to archive.ubuntu.com (91.189.88.142)] [Connecting to security.u\r0% [Connecting to archive.ubuntu.com (91.189.88.142)] [Connecting to security.u\r0% [1 InRelease gpgv 3,626 B] [Connecting to archive.ubuntu.com (91.189.88.142)\r                                                                               \rIgn:2 https://developer.download.nvidia.com/compute/cuda/repos/ubuntu1804/x86_64  InRelease\n",
            "\r0% [1 InRelease gpgv 3,626 B] [Waiting for headers] [Waiting for headers] [Wait\r                                                                               \rGet:3 http://security.ubuntu.com/ubuntu bionic-security InRelease [88.7 kB]\n",
            "\r0% [1 InRelease gpgv 3,626 B] [Waiting for headers] [3 InRelease 14.2 kB/88.7 k\r                                                                               \rGet:4 http://ppa.launchpad.net/c2d4u.team/c2d4u4.0+/ubuntu bionic InRelease [15.9 kB]\n",
            "\r0% [1 InRelease gpgv 3,626 B] [Waiting for headers] [3 InRelease 14.2 kB/88.7 k\r                                                                               \rIgn:5 https://developer.download.nvidia.com/compute/machine-learning/repos/ubuntu1804/x86_64  InRelease\n",
            "\r0% [1 InRelease gpgv 3,626 B] [Waiting for headers] [3 InRelease 14.2 kB/88.7 k\r                                                                               \rGet:6 https://developer.download.nvidia.com/compute/cuda/repos/ubuntu1804/x86_64  Release [697 B]\n",
            "\r0% [1 InRelease gpgv 3,626 B] [Waiting for headers] [3 InRelease 14.2 kB/88.7 k\r0% [1 InRelease gpgv 3,626 B] [Waiting for headers] [3 InRelease 14.2 kB/88.7 k\r                                                                               \rHit:7 http://archive.ubuntu.com/ubuntu bionic InRelease\n",
            "\r0% [1 InRelease gpgv 3,626 B] [Waiting for headers] [3 InRelease 14.2 kB/88.7 k\r                                                                               \rHit:8 https://developer.download.nvidia.com/compute/machine-learning/repos/ubuntu1804/x86_64  Release\n",
            "Get:9 https://developer.download.nvidia.com/compute/cuda/repos/ubuntu1804/x86_64  Release.gpg [836 B]\n",
            "Get:10 http://archive.ubuntu.com/ubuntu bionic-updates InRelease [88.7 kB]\n",
            "Get:11 https://cloud.r-project.org/bin/linux/ubuntu bionic-cran40/ Packages [53.1 kB]\n",
            "Hit:12 http://ppa.launchpad.net/cran/libgit2/ubuntu bionic InRelease\n",
            "Get:13 http://archive.ubuntu.com/ubuntu bionic-backports InRelease [74.6 kB]\n",
            "Hit:14 http://ppa.launchpad.net/deadsnakes/ppa/ubuntu bionic InRelease\n",
            "Hit:15 http://ppa.launchpad.net/graphics-drivers/ppa/ubuntu bionic InRelease\n",
            "Ign:17 https://developer.download.nvidia.com/compute/cuda/repos/ubuntu1804/x86_64  Packages\n",
            "Get:17 https://developer.download.nvidia.com/compute/cuda/repos/ubuntu1804/x86_64  Packages [742 kB]\n",
            "Get:18 http://ppa.launchpad.net/c2d4u.team/c2d4u4.0+/ubuntu bionic/main Sources [1,757 kB]\n",
            "Get:19 http://security.ubuntu.com/ubuntu bionic-security/restricted amd64 Packages [396 kB]\n",
            "Get:20 http://security.ubuntu.com/ubuntu bionic-security/universe amd64 Packages [1,410 kB]\n",
            "Get:21 http://archive.ubuntu.com/ubuntu bionic-updates/main amd64 Packages [2,546 kB]\n",
            "Get:22 http://security.ubuntu.com/ubuntu bionic-security/multiverse amd64 Packages [24.7 kB]\n",
            "Get:23 http://security.ubuntu.com/ubuntu bionic-security/main amd64 Packages [2,116 kB]\n",
            "Get:24 http://ppa.launchpad.net/c2d4u.team/c2d4u4.0+/ubuntu bionic/main amd64 Packages [899 kB]\n",
            "Get:25 http://archive.ubuntu.com/ubuntu bionic-updates/multiverse amd64 Packages [31.6 kB]\n",
            "Get:26 http://archive.ubuntu.com/ubuntu bionic-updates/restricted amd64 Packages [426 kB]\n",
            "Get:27 http://archive.ubuntu.com/ubuntu bionic-updates/universe amd64 Packages [2,181 kB]\n",
            "Fetched 12.9 MB in 4s (3,580 kB/s)\n",
            "Reading package lists... Done\n"
          ],
          "name": "stdout"
        }
      ]
    },
    {
      "cell_type": "code",
      "metadata": {
        "id": "JvkE7jfJ6web"
      },
      "source": [
        "!apt-get install openjdk-8-jdk-headless -qq > /dev/null"
      ],
      "execution_count": null,
      "outputs": []
    },
    {
      "cell_type": "code",
      "metadata": {
        "id": "CDJolzSS7nbt"
      },
      "source": [
        "!wget -q https://downloads.apache.org/spark/spark-3.1.1/spark-3.1.1-bin-hadoop2.7.tgz"
      ],
      "execution_count": null,
      "outputs": []
    },
    {
      "cell_type": "code",
      "metadata": {
        "id": "VG8HeLjM73Qy"
      },
      "source": [
        "!tar xf spark-3.1.1-bin-hadoop2.7.tgz"
      ],
      "execution_count": null,
      "outputs": []
    },
    {
      "cell_type": "code",
      "metadata": {
        "id": "Ea3FH4Jz7_rX"
      },
      "source": [
        "!pip install -q findspark"
      ],
      "execution_count": null,
      "outputs": []
    },
    {
      "cell_type": "code",
      "metadata": {
        "id": "_WtIGYCCV1OP"
      },
      "source": [
        ""
      ],
      "execution_count": null,
      "outputs": []
    },
    {
      "cell_type": "code",
      "metadata": {
        "id": "7jV1-NWH8EjD"
      },
      "source": [
        "import os\n",
        "os.environ[\"JAVA_HOME\"] = \"/usr/lib/jvm/java-8-openjdk-amd64\"\n",
        "os.environ[\"SPARK_HOME\"] = \"/content/spark-3.1.1-bin-hadoop2.7\""
      ],
      "execution_count": null,
      "outputs": []
    },
    {
      "cell_type": "code",
      "metadata": {
        "id": "jUaRyzqm8KJ7"
      },
      "source": [
        "import findspark\n",
        "findspark.init()"
      ],
      "execution_count": null,
      "outputs": []
    },
    {
      "cell_type": "code",
      "metadata": {
        "id": "fy_ShFBd8N2m"
      },
      "source": [
        "\n",
        "!wget -O veh -q https://data.cityofnewyork.us/api/views/bm4k-52h4/rows.csv?accessType=DOWNLOAD\n"
      ],
      "execution_count": null,
      "outputs": []
    },
    {
      "cell_type": "code",
      "metadata": {
        "colab": {
          "base_uri": "https://localhost:8080/"
        },
        "id": "Phla8zV0S0Eb",
        "outputId": "c15cacd8-d30d-40c6-a882-1a4e927b7a0e"
      },
      "source": [
        "!wget https://bin.equinox.io/c/4VmDzA7iaHb/ngrok-stable-linux-amd64.zip\n",
        "!unzip -y ngrok-stable-linux-amd64.zip\n",
        "get_ipython().system_raw('./ngrok http 4050 &')\n",
        "!curl -s http://localhost:4040/api/tunnels"
      ],
      "execution_count": null,
      "outputs": [
        {
          "output_type": "stream",
          "text": [
            "--2021-05-01 14:23:31--  https://bin.equinox.io/c/4VmDzA7iaHb/ngrok-stable-linux-amd64.zip\n",
            "Resolving bin.equinox.io (bin.equinox.io)... 34.196.3.7, 18.205.129.29, 35.170.10.11, ...\n",
            "Connecting to bin.equinox.io (bin.equinox.io)|34.196.3.7|:443... connected.\n",
            "HTTP request sent, awaiting response... 200 OK\n",
            "Length: 13828408 (13M) [application/octet-stream]\n",
            "Saving to: ‘ngrok-stable-linux-amd64.zip’\n",
            "\n",
            "ngrok-stable-linux- 100%[===================>]  13.19M  53.6MB/s    in 0.2s    \n",
            "\n",
            "2021-05-01 14:23:32 (53.6 MB/s) - ‘ngrok-stable-linux-amd64.zip’ saved [13828408/13828408]\n",
            "\n",
            "UnZip 6.00 of 20 April 2009, by Debian. Original by Info-ZIP.\n",
            "\n",
            "Usage: unzip [-Z] [-opts[modifiers]] file[.zip] [list] [-x xlist] [-d exdir]\n",
            "  Default action is to extract files in list, except those in xlist, to exdir;\n",
            "  file[.zip] may be a wildcard.  -Z => ZipInfo mode (\"unzip -Z\" for usage).\n",
            "\n",
            "  -p  extract files to pipe, no messages     -l  list files (short format)\n",
            "  -f  freshen existing files, create none    -t  test compressed archive data\n",
            "  -u  update files, create if necessary      -z  display archive comment only\n",
            "  -v  list verbosely/show version info       -T  timestamp archive to latest\n",
            "  -x  exclude files that follow (in xlist)   -d  extract files into exdir\n",
            "modifiers:\n",
            "  -n  never overwrite existing files         -q  quiet mode (-qq => quieter)\n",
            "  -o  overwrite files WITHOUT prompting      -a  auto-convert any text files\n",
            "  -j  junk paths (do not make directories)   -aa treat ALL files as text\n",
            "  -U  use escapes for all non-ASCII Unicode  -UU ignore any Unicode fields\n",
            "  -C  match filenames case-insensitively     -L  make (some) names lowercase\n",
            "  -X  restore UID/GID info                   -V  retain VMS version numbers\n",
            "  -K  keep setuid/setgid/tacky permissions   -M  pipe through \"more\" pager\n",
            "  -O CHARSET  specify a character encoding for DOS, Windows and OS/2 archives\n",
            "  -I CHARSET  specify a character encoding for UNIX and other archives\n",
            "\n",
            "See \"unzip -hh\" or unzip.txt for more help.  Examples:\n",
            "  unzip data1 -x joe   => extract all files except joe from zipfile data1.zip\n",
            "  unzip -p foo | more  => send contents of foo.zip via pipe into program more\n",
            "  unzip -fo foo ReadMe => quietly replace existing ReadMe if archive file newer\n"
          ],
          "name": "stdout"
        }
      ]
    },
    {
      "cell_type": "code",
      "metadata": {
        "id": "QF5M1w0PTe6E"
      },
      "source": [
        ""
      ],
      "execution_count": null,
      "outputs": []
    },
    {
      "cell_type": "code",
      "metadata": {
        "id": "s-KSInllV-rn"
      },
      "source": [
        "from pyspark.sql import SparkSession\n",
        "\n",
        "spark = SparkSession.builder\\\n",
        "        .master(\"local\")\\\n",
        "        .appName(\"Collision\")\\\n",
        "        .config('spark.ui.port', '4050')\\\n",
        "        .getOrCreate()"
      ],
      "execution_count": null,
      "outputs": []
    },
    {
      "cell_type": "code",
      "metadata": {
        "id": "SRqcpdVuWBF7"
      },
      "source": [
        "col=spark.read.option(\"header\",True).csv(\"./veh\",inferSchema=True);"
      ],
      "execution_count": null,
      "outputs": []
    },
    {
      "cell_type": "code",
      "metadata": {
        "colab": {
          "base_uri": "https://localhost:8080/"
        },
        "id": "t1Nh4VnyWF33",
        "outputId": "37e92d4c-fce7-4b53-a5a8-d302461cae0c"
      },
      "source": [
        "col.schema"
      ],
      "execution_count": null,
      "outputs": [
        {
          "output_type": "execute_result",
          "data": {
            "text/plain": [
              "StructType(List(StructField(UNIQUE_ID,IntegerType,true),StructField(COLLISION_ID,IntegerType,true),StructField(CRASH_DATE,StringType,true),StructField(CRASH_TIME,StringType,true),StructField(VEHICLE_ID,StringType,true),StructField(STATE_REGISTRATION,StringType,true),StructField(VEHICLE_TYPE,StringType,true),StructField(VEHICLE_MAKE,StringType,true),StructField(VEHICLE_MODEL,StringType,true),StructField(VEHICLE_YEAR,IntegerType,true),StructField(TRAVEL_DIRECTION,StringType,true),StructField(VEHICLE_OCCUPANTS,IntegerType,true),StructField(DRIVER_SEX,StringType,true),StructField(DRIVER_LICENSE_STATUS,StringType,true),StructField(DRIVER_LICENSE_JURISDICTION,StringType,true),StructField(PRE_CRASH,StringType,true),StructField(POINT_OF_IMPACT,StringType,true),StructField(VEHICLE_DAMAGE,StringType,true),StructField(VEHICLE_DAMAGE_1,StringType,true),StructField(VEHICLE_DAMAGE_2,StringType,true),StructField(VEHICLE_DAMAGE_3,StringType,true),StructField(PUBLIC_PROPERTY_DAMAGE,StringType,true),StructField(PUBLIC_PROPERTY_DAMAGE_TYPE,StringType,true),StructField(CONTRIBUTING_FACTOR_1,StringType,true),StructField(CONTRIBUTING_FACTOR_2,StringType,true)))"
            ]
          },
          "metadata": {
            "tags": []
          },
          "execution_count": 12
        }
      ]
    },
    {
      "cell_type": "code",
      "metadata": {
        "id": "8TQDWRQOWXB0",
        "colab": {
          "base_uri": "https://localhost:8080/"
        },
        "outputId": "0c2ac75a-2e64-4041-cbb2-6f6e2ea43346"
      },
      "source": [
        "col.printSchema()"
      ],
      "execution_count": null,
      "outputs": [
        {
          "output_type": "stream",
          "text": [
            "root\n",
            " |-- UNIQUE_ID: integer (nullable = true)\n",
            " |-- COLLISION_ID: integer (nullable = true)\n",
            " |-- CRASH_DATE: string (nullable = true)\n",
            " |-- CRASH_TIME: string (nullable = true)\n",
            " |-- VEHICLE_ID: string (nullable = true)\n",
            " |-- STATE_REGISTRATION: string (nullable = true)\n",
            " |-- VEHICLE_TYPE: string (nullable = true)\n",
            " |-- VEHICLE_MAKE: string (nullable = true)\n",
            " |-- VEHICLE_MODEL: string (nullable = true)\n",
            " |-- VEHICLE_YEAR: integer (nullable = true)\n",
            " |-- TRAVEL_DIRECTION: string (nullable = true)\n",
            " |-- VEHICLE_OCCUPANTS: integer (nullable = true)\n",
            " |-- DRIVER_SEX: string (nullable = true)\n",
            " |-- DRIVER_LICENSE_STATUS: string (nullable = true)\n",
            " |-- DRIVER_LICENSE_JURISDICTION: string (nullable = true)\n",
            " |-- PRE_CRASH: string (nullable = true)\n",
            " |-- POINT_OF_IMPACT: string (nullable = true)\n",
            " |-- VEHICLE_DAMAGE: string (nullable = true)\n",
            " |-- VEHICLE_DAMAGE_1: string (nullable = true)\n",
            " |-- VEHICLE_DAMAGE_2: string (nullable = true)\n",
            " |-- VEHICLE_DAMAGE_3: string (nullable = true)\n",
            " |-- PUBLIC_PROPERTY_DAMAGE: string (nullable = true)\n",
            " |-- PUBLIC_PROPERTY_DAMAGE_TYPE: string (nullable = true)\n",
            " |-- CONTRIBUTING_FACTOR_1: string (nullable = true)\n",
            " |-- CONTRIBUTING_FACTOR_2: string (nullable = true)\n",
            "\n"
          ],
          "name": "stdout"
        }
      ]
    },
    {
      "cell_type": "code",
      "metadata": {
        "colab": {
          "base_uri": "https://localhost:8080/"
        },
        "id": "3ZgHz4KEi6rv",
        "outputId": "32d2106c-b32c-4d9e-e031-098fbd7292a7"
      },
      "source": [
        "col.select(\"CRASH_TIME\").show(10)\n"
      ],
      "execution_count": null,
      "outputs": [
        {
          "output_type": "stream",
          "text": [
            "+----------+\n",
            "|CRASH_TIME|\n",
            "+----------+\n",
            "|      9:03|\n",
            "|      8:15|\n",
            "|     17:18|\n",
            "|     20:34|\n",
            "|     21:15|\n",
            "|     17:35|\n",
            "|     13:15|\n",
            "|     12:39|\n",
            "|     11:20|\n",
            "|     18:12|\n",
            "+----------+\n",
            "only showing top 10 rows\n",
            "\n"
          ],
          "name": "stdout"
        }
      ]
    },
    {
      "cell_type": "code",
      "metadata": {
        "id": "sKZZUqdjkurL"
      },
      "source": [
        "## Converting CRASH TIME type: String to timestamp \n",
        "from pyspark.sql.types import DateType\n",
        "from pyspark.sql.functions import to_timestamp\n",
        "\n",
        "col= col.withColumn('CRASH_TIME',to_timestamp(col[\"CRASH_TIME\"], 'H:mm'))\n"
      ],
      "execution_count": null,
      "outputs": []
    },
    {
      "cell_type": "code",
      "metadata": {
        "colab": {
          "base_uri": "https://localhost:8080/"
        },
        "id": "5edkv70MlYnT",
        "outputId": "c1dafeb1-2024-4361-d92d-1fa9f3f45790"
      },
      "source": [
        "col.select(\"CRASH_TIME\").show(10)"
      ],
      "execution_count": null,
      "outputs": [
        {
          "output_type": "stream",
          "text": [
            "+-------------------+\n",
            "|         CRASH_TIME|\n",
            "+-------------------+\n",
            "|1970-01-01 09:03:00|\n",
            "|1970-01-01 08:15:00|\n",
            "|1970-01-01 17:18:00|\n",
            "|1970-01-01 20:34:00|\n",
            "|1970-01-01 21:15:00|\n",
            "|1970-01-01 17:35:00|\n",
            "|1970-01-01 13:15:00|\n",
            "|1970-01-01 12:39:00|\n",
            "|1970-01-01 11:20:00|\n",
            "|1970-01-01 18:12:00|\n",
            "+-------------------+\n",
            "only showing top 10 rows\n",
            "\n"
          ],
          "name": "stdout"
        }
      ]
    },
    {
      "cell_type": "code",
      "metadata": {
        "id": "0Q1XXSgroofs"
      },
      "source": [
        "\n",
        "### Removing YYYY-MM-DD from CRASH TIME\n",
        "from pyspark.sql.types import DateType\n",
        "from pyspark.sql.functions import date_format\n",
        "from pyspark.sql import functions as f\n",
        "\n",
        "col = col.withColumn(\"CRASH_TIME\", f.date_format(\"CRASH_TIME\", 'HH:mm:ss'))"
      ],
      "execution_count": null,
      "outputs": []
    },
    {
      "cell_type": "code",
      "metadata": {
        "colab": {
          "base_uri": "https://localhost:8080/"
        },
        "id": "GEOXE5hIkQwI",
        "outputId": "1164b273-639a-4412-9397-2028edeb3834"
      },
      "source": [
        "#Change CRASH DATE type from String to Date\n",
        "from pyspark.sql.types import DateType\n",
        "from pyspark.sql.functions import to_date\n",
        "\n",
        "#col.withColumn(\"CRASH DATE\", col['CRASH DATE'].cast(DateType())).show()\n",
        "\n",
        " \n",
        "col= col.withColumn('CRASH_DATE',to_date(col[\"CRASH_DATE\"], 'MM/dd/yyyy'))\n",
        "col.select(\"CRASH_DATE\").show(10)"
      ],
      "execution_count": null,
      "outputs": [
        {
          "output_type": "stream",
          "text": [
            "+----------+\n",
            "|CRASH_DATE|\n",
            "+----------+\n",
            "|2012-09-07|\n",
            "|2019-09-23|\n",
            "|2015-10-02|\n",
            "|2015-10-04|\n",
            "|2013-04-25|\n",
            "|2016-05-02|\n",
            "|2019-10-24|\n",
            "|2016-08-18|\n",
            "|2013-07-16|\n",
            "|2012-11-26|\n",
            "+----------+\n",
            "only showing top 10 rows\n",
            "\n"
          ],
          "name": "stdout"
        }
      ]
    },
    {
      "cell_type": "code",
      "metadata": {
        "colab": {
          "base_uri": "https://localhost:8080/"
        },
        "id": "kBMJJA3EkpwN",
        "outputId": "b5f7aac1-7881-4909-c3a8-da6a2165b3ff"
      },
      "source": [
        "col.printSchema()"
      ],
      "execution_count": null,
      "outputs": [
        {
          "output_type": "stream",
          "text": [
            "root\n",
            " |-- UNIQUE_ID: integer (nullable = true)\n",
            " |-- COLLISION_ID: integer (nullable = true)\n",
            " |-- CRASH_DATE: date (nullable = true)\n",
            " |-- CRASH_TIME: string (nullable = true)\n",
            " |-- VEHICLE_ID: string (nullable = true)\n",
            " |-- STATE_REGISTRATION: string (nullable = true)\n",
            " |-- VEHICLE_TYPE: string (nullable = true)\n",
            " |-- VEHICLE_MAKE: string (nullable = true)\n",
            " |-- VEHICLE_MODEL: string (nullable = true)\n",
            " |-- VEHICLE_YEAR: integer (nullable = true)\n",
            " |-- TRAVEL_DIRECTION: string (nullable = true)\n",
            " |-- VEHICLE_OCCUPANTS: integer (nullable = true)\n",
            " |-- DRIVER_SEX: string (nullable = true)\n",
            " |-- DRIVER_LICENSE_STATUS: string (nullable = true)\n",
            " |-- DRIVER_LICENSE_JURISDICTION: string (nullable = true)\n",
            " |-- PRE_CRASH: string (nullable = true)\n",
            " |-- POINT_OF_IMPACT: string (nullable = true)\n",
            " |-- VEHICLE_DAMAGE: string (nullable = true)\n",
            " |-- VEHICLE_DAMAGE_1: string (nullable = true)\n",
            " |-- VEHICLE_DAMAGE_2: string (nullable = true)\n",
            " |-- VEHICLE_DAMAGE_3: string (nullable = true)\n",
            " |-- PUBLIC_PROPERTY_DAMAGE: string (nullable = true)\n",
            " |-- PUBLIC_PROPERTY_DAMAGE_TYPE: string (nullable = true)\n",
            " |-- CONTRIBUTING_FACTOR_1: string (nullable = true)\n",
            " |-- CONTRIBUTING_FACTOR_2: string (nullable = true)\n",
            "\n"
          ],
          "name": "stdout"
        }
      ]
    },
    {
      "cell_type": "code",
      "metadata": {
        "colab": {
          "base_uri": "https://localhost:8080/"
        },
        "id": "AQ28uKy-prOL",
        "outputId": "fa75040e-67e1-4eaf-8006-78a07156e1f2"
      },
      "source": [
        "print(col.select(\"VEHICLE_DAMAGE_1\",\"VEHICLE_DAMAGE_2\",\"VEHICLE_DAMAGE_3\").distinct().show(30));\n",
        "## Checking if null value is present"
      ],
      "execution_count": null,
      "outputs": [
        {
          "output_type": "stream",
          "text": [
            "+--------------------+--------------------+--------------------+\n",
            "|    VEHICLE_DAMAGE_1|    VEHICLE_DAMAGE_2|    VEHICLE_DAMAGE_3|\n",
            "+--------------------+--------------------+--------------------+\n",
            "|    Right Side Doors|Right Rear Quarte...|               Other|\n",
            "|Left Front Quarte...|Left Rear Quarter...|           No Damage|\n",
            "|     Left Side Doors|   Left Front Bumper|Right Front Quart...|\n",
            "|   Left Front Bumper|  Right Front Bumper|Right Rear Quarte...|\n",
            "|   Left Front Bumper|    Center Front End|       Undercarriage|\n",
            "|   Left Front Bumper|    Center Front End|     Left Side Doors|\n",
            "|Right Rear Quarte...|       Undercarriage|           No Damage|\n",
            "|     Center Back End|   Right Rear Bumper|     Left Side Doors|\n",
            "|    Right Side Doors|   Left Front Bumper|    Left Rear Bumper|\n",
            "|     Center Back End|   Left Front Bumper|                Roof|\n",
            "|   Left Front Bumper|Right Rear Quarte...|           No Damage|\n",
            "|  Right Front Bumper|Left Front Quarte...|                Roof|\n",
            "|           No Damage|           No Damage|Right Front Quart...|\n",
            "|          Demolished|    Left Rear Bumper|                null|\n",
            "|    Left Rear Bumper|    Left Rear Bumper|   Left Front Bumper|\n",
            "|  Right Front Bumper|  Right Front Bumper|          Demolished|\n",
            "|    Right Side Doors|Left Front Quarte...|               Other|\n",
            "|    Center Front End|     Left Side Doors|Right Front Quart...|\n",
            "|Right Front Quart...|               Other|    Right Side Doors|\n",
            "|Left Rear Quarter...|           No Damage|    Left Rear Bumper|\n",
            "|     Center Back End|               Other|    Left Rear Bumper|\n",
            "|                Roof|           No Damage|    Center Front End|\n",
            "|   Right Rear Bumper|     Center Back End|Left Front Quarte...|\n",
            "|    Left Rear Bumper|Left Rear Quarter...|           No Damage|\n",
            "|Right Front Quart...|Right Front Quart...|    Right Side Doors|\n",
            "|   Left Front Bumper|    Right Side Doors|Left Front Quarte...|\n",
            "|                Roof|Right Front Quart...|    Center Front End|\n",
            "|    Left Rear Bumper|    Center Front End|           No Damage|\n",
            "|                Roof|     Left Side Doors|Left Front Quarte...|\n",
            "|     Left Side Doors|     Center Back End|Right Rear Quarte...|\n",
            "+--------------------+--------------------+--------------------+\n",
            "only showing top 30 rows\n",
            "\n",
            "None\n"
          ],
          "name": "stdout"
        }
      ]
    },
    {
      "cell_type": "code",
      "metadata": {
        "colab": {
          "base_uri": "https://localhost:8080/"
        },
        "id": "GjdOrvRnrZBE",
        "outputId": "bfac1387-e4d4-4d28-e18f-4b78d4fe3c13"
      },
      "source": [
        "print(col.select(\"DRIVER_LICENSE_STATUS\").distinct().show(30));\n",
        "## Checking if null value is present"
      ],
      "execution_count": null,
      "outputs": [
        {
          "output_type": "stream",
          "text": [
            "+---------------------+\n",
            "|DRIVER_LICENSE_STATUS|\n",
            "+---------------------+\n",
            "|                 null|\n",
            "|           Unlicensed|\n",
            "|               Permit|\n",
            "|             Licensed|\n",
            "+---------------------+\n",
            "\n",
            "None\n"
          ],
          "name": "stdout"
        }
      ]
    },
    {
      "cell_type": "code",
      "metadata": {
        "id": "HO-hQhCrrncZ"
      },
      "source": [
        "\n",
        "## Setting all null values to Unknown \n",
        "col=col.fillna(value=\"Unknown\",subset=[\"DRIVER_LICENSE_STATUS\"])"
      ],
      "execution_count": null,
      "outputs": []
    },
    {
      "cell_type": "code",
      "metadata": {
        "colab": {
          "base_uri": "https://localhost:8080/"
        },
        "id": "yVmYmUaNr3GC",
        "outputId": "401c74b8-4625-4ccb-cdc4-67a97cb5810a"
      },
      "source": [
        "print(col.select(\"DRIVER_LICENSE_JURISDICTION\").distinct().show(30));\n",
        "## Checking if null value is present"
      ],
      "execution_count": null,
      "outputs": [
        {
          "output_type": "stream",
          "text": [
            "+---------------------------+\n",
            "|DRIVER_LICENSE_JURISDICTION|\n",
            "+---------------------------+\n",
            "|                   A,NEJADE|\n",
            "|                         SC|\n",
            "|                         AZ|\n",
            "|                        ZZZ|\n",
            "|                         NS|\n",
            "|                         LA|\n",
            "|                         MN|\n",
            "|                         NJ|\n",
            "|                         MX|\n",
            "|                         DC|\n",
            "|                         OR|\n",
            "|                         NT|\n",
            "|                       null|\n",
            "|                         VA|\n",
            "|                        NB1|\n",
            "|                         RI|\n",
            "|                         KY|\n",
            "|                         WY|\n",
            "|                         BC|\n",
            "|                         NH|\n",
            "|                         MI|\n",
            "|                         NV|\n",
            "|                         WI|\n",
            "|                         ID|\n",
            "|                         CA|\n",
            "|                         CT|\n",
            "|                         NE|\n",
            "|                         MT|\n",
            "|                         NC|\n",
            "|                         PQ|\n",
            "+---------------------------+\n",
            "only showing top 30 rows\n",
            "\n",
            "None\n"
          ],
          "name": "stdout"
        }
      ]
    },
    {
      "cell_type": "code",
      "metadata": {
        "id": "pCnVkBpwsRXc"
      },
      "source": [
        "## Setting all null values to Unknown \n",
        "col=col.fillna(value=\"Not Provided\",subset=[\"DRIVER_LICENSE_JURISDICTION\"])"
      ],
      "execution_count": null,
      "outputs": []
    },
    {
      "cell_type": "code",
      "metadata": {
        "colab": {
          "base_uri": "https://localhost:8080/"
        },
        "id": "lzm2hHIsCYoh",
        "outputId": "e15a113b-a0cd-4819-fa92-1398ef419f38"
      },
      "source": [
        "print(col.select(\"POINT_OF_IMPACT\").distinct().show(30));\n",
        "## Checking if null value is present"
      ],
      "execution_count": null,
      "outputs": [
        {
          "output_type": "stream",
          "text": [
            "+--------------------+\n",
            "|     POINT_OF_IMPACT|\n",
            "+--------------------+\n",
            "|Left Rear Quarter...|\n",
            "|     Center Back End|\n",
            "|Left Front Quarte...|\n",
            "|                null|\n",
            "|  Right Front Bumper|\n",
            "|    Left Rear Bumper|\n",
            "|    Right Side Doors|\n",
            "|                Roof|\n",
            "|Right Front Quart...|\n",
            "|               Other|\n",
            "|          Overturned|\n",
            "|             Trailer|\n",
            "|Right Rear Quarte...|\n",
            "|     Left Side Doors|\n",
            "|   Left Front Bumper|\n",
            "|          Demolished|\n",
            "|    Center Front End|\n",
            "|       Undercarriage|\n",
            "|   Right Rear Bumper|\n",
            "|           No Damage|\n",
            "+--------------------+\n",
            "\n",
            "None\n"
          ],
          "name": "stdout"
        }
      ]
    },
    {
      "cell_type": "code",
      "metadata": {
        "id": "OmEyVUaXIJR4"
      },
      "source": [
        "## Setting all null values to Unknown \n",
        "col=col.fillna(value=\"Not Provided\",subset=[\"POINT_OF_IMPACT\"])"
      ],
      "execution_count": null,
      "outputs": []
    },
    {
      "cell_type": "code",
      "metadata": {
        "id": "TUPMGsf1IQdq",
        "colab": {
          "base_uri": "https://localhost:8080/"
        },
        "outputId": "7f98ff1d-81ab-45ce-8eb4-5656fe8199dd"
      },
      "source": [
        "print(col.select(\"VEHICLE_TYPE\",\"VEHICLE_MAKE\",\"VEHICLE_MODEL\").distinct().show(30));\n",
        "## Checking if null value is present"
      ],
      "execution_count": null,
      "outputs": [
        {
          "output_type": "stream",
          "text": [
            "+--------------------+----------------+-------------+\n",
            "|        VEHICLE_TYPE|    VEHICLE_MAKE|VEHICLE_MODEL|\n",
            "+--------------------+----------------+-------------+\n",
            "|Tractor Truck Diesel|           DORSE|         null|\n",
            "|Station Wagon/Spo...|   JEEP -CAR/SUV|     JEEP GCH|\n",
            "|           Box Truck|  INTL-TRUCK/BUS|         4400|\n",
            "|Station Wagon/Spo...|   JEEP -CAR/SUV|     JEEP PAT|\n",
            "|               Sedan|           WAGON|         null|\n",
            "|          4 dr sedan|   ACUR -CAR/SUV|          ATL|\n",
            "|           Box Truck|           WORKH|         null|\n",
            "|          Motorcycle|       HOND -MCL|          CTX|\n",
            "|                null|         UNKNOWN|      UNKNOWN|\n",
            "|Tractor Truck Gas...|  FRHT-TRUCK/BUS|      FRHT TK|\n",
            "|               trail|            null|         null|\n",
            "|               Sedan|   HUMM -CAR/SUV|         null|\n",
            "|Station Wagon/Spo...|           HONDA|         null|\n",
            "|                 Van|             unk|         null|\n",
            "|       Pick-up Truck|             ihc|         null|\n",
            "|                 Bus|         unknown|      unknown|\n",
            "|                null|       FIRETRUCK|         FDNY|\n",
            "|          School Bus|           NEWFL|         null|\n",
            "| Tow Truck / Wrecker|         UNKNOWN|         null|\n",
            "|               Sedan|            COTO|         null|\n",
            "|                 Bus|           Orion|      Mta bus|\n",
            "|               Sedan|           FREIG|         null|\n",
            "|Station Wagon/Spo...|   LNDR -CAR/SUV|     LNDR DIS|\n",
            "|Station Wagon/Spo...|   DODG -CAR/SUV| WAGON WT PRO|\n",
            "|                FIRE|            FDNY|         null|\n",
            "|               Sedan|           DUICK|         null|\n",
            "|          2 dr sedan|   CHRY -CAR/SUV|     CHRY SEB|\n",
            "|          2 dr sedan|    BMW -CAR/SUV|      BMW 3TI|\n",
            "|       Pick-up Truck|WABAS SEMI TRUCK|         null|\n",
            "|                 Bus|           NE/FL|    NEW FLYER|\n",
            "+--------------------+----------------+-------------+\n",
            "only showing top 30 rows\n",
            "\n",
            "None\n"
          ],
          "name": "stdout"
        }
      ]
    },
    {
      "cell_type": "code",
      "metadata": {
        "id": "Vg3OR96xZjN_"
      },
      "source": [
        "## Setting all null values to Unknown \n",
        "col=col.fillna(value=\"Not Provided\",subset=[\"VEHICLE_TYPE\",\"VEHICLE_MAKE\",\"VEHICLE_MODEL\"])"
      ],
      "execution_count": null,
      "outputs": []
    },
    {
      "cell_type": "code",
      "metadata": {
        "colab": {
          "base_uri": "https://localhost:8080/"
        },
        "id": "dX3yPUfDahMq",
        "outputId": "44d9d347-df97-491c-d3d6-eac48d9768fe"
      },
      "source": [
        "print(col.select(\"STATE_REGISTRATION\").distinct().show(100));\n",
        "## Checking if null value is present"
      ],
      "execution_count": null,
      "outputs": [
        {
          "output_type": "stream",
          "text": [
            "+------------------+\n",
            "|STATE_REGISTRATION|\n",
            "+------------------+\n",
            "|                SC|\n",
            "|                AZ|\n",
            "|                UA|\n",
            "|                NS|\n",
            "|                LA|\n",
            "|                MN|\n",
            "|                NJ|\n",
            "|                MX|\n",
            "|                DC|\n",
            "|                ZZ|\n",
            "|                OR|\n",
            "|                NT|\n",
            "|              null|\n",
            "|                VA|\n",
            "|                RI|\n",
            "|                WY|\n",
            "|                KY|\n",
            "|                BC|\n",
            "|                NH|\n",
            "|                LR|\n",
            "|                MI|\n",
            "|                NV|\n",
            "|                GV|\n",
            "|                QB|\n",
            "|                WI|\n",
            "|                ID|\n",
            "|                CA|\n",
            "|                CT|\n",
            "|                NE|\n",
            "|                MT|\n",
            "|                NC|\n",
            "|                VT|\n",
            "|                PQ|\n",
            "|                MD|\n",
            "|                DE|\n",
            "|                MO|\n",
            "|                VI|\n",
            "|                IL|\n",
            "|                ME|\n",
            "|                MB|\n",
            "|                GU|\n",
            "|                WA|\n",
            "|                ND|\n",
            "|                MS|\n",
            "|                AL|\n",
            "|                IN|\n",
            "|                DI|\n",
            "|                OH|\n",
            "|                TN|\n",
            "|                NM|\n",
            "|                IA|\n",
            "|                PA|\n",
            "|                SD|\n",
            "|                FO|\n",
            "|                NY|\n",
            "|                UK|\n",
            "|                ON|\n",
            "|                SK|\n",
            "|                AB|\n",
            "|                FM|\n",
            "|                MH|\n",
            "|                PE|\n",
            "|                TX|\n",
            "|                WV|\n",
            "|                GA|\n",
            "|                MA|\n",
            "|                AS|\n",
            "|                KS|\n",
            "|                OT|\n",
            "|                FL|\n",
            "|                CO|\n",
            "|                AK|\n",
            "|                YT|\n",
            "|                AR|\n",
            "|                NB|\n",
            "|                OK|\n",
            "|                PR|\n",
            "|                NF|\n",
            "|                MP|\n",
            "|                UT|\n",
            "|                DP|\n",
            "|                HI|\n",
            "+------------------+\n",
            "\n",
            "None\n"
          ],
          "name": "stdout"
        }
      ]
    },
    {
      "cell_type": "code",
      "metadata": {
        "colab": {
          "base_uri": "https://localhost:8080/"
        },
        "id": "7uplSIH4hHB4",
        "outputId": "f5478f12-b1aa-47c4-f769-d35c6e8e4234"
      },
      "source": [
        "print(col.select(\"TRAVEL_DIRECTION\").distinct().show(20));\n",
        "## Checking if null value is present"
      ],
      "execution_count": null,
      "outputs": [
        {
          "output_type": "stream",
          "text": [
            "+----------------+\n",
            "|TRAVEL_DIRECTION|\n",
            "+----------------+\n",
            "|            null|\n",
            "|               E|\n",
            "|       Northwest|\n",
            "|               U|\n",
            "|         Unknown|\n",
            "|           South|\n",
            "|       Southeast|\n",
            "|               -|\n",
            "|               N|\n",
            "|               W|\n",
            "|               S|\n",
            "|            East|\n",
            "|       Southwest|\n",
            "|            West|\n",
            "|           North|\n",
            "|       Northeast|\n",
            "+----------------+\n",
            "\n",
            "None\n"
          ],
          "name": "stdout"
        }
      ]
    },
    {
      "cell_type": "code",
      "metadata": {
        "id": "Gr_Mfh5xhWjD"
      },
      "source": [
        "## Setting all null values to Unknown \n",
        "col=col.fillna(value=\"unknown\",subset=[\"TRAVEL_DIRECTION\"])"
      ],
      "execution_count": null,
      "outputs": []
    },
    {
      "cell_type": "code",
      "metadata": {
        "colab": {
          "base_uri": "https://localhost:8080/"
        },
        "id": "MVWclqxYhhqP",
        "outputId": "8a3fc0e6-b5c3-4975-d3c3-acdfb9915183"
      },
      "source": [
        "print(col.select(\"VEHICLE_OCCUPANTS\").distinct().show(20));"
      ],
      "execution_count": null,
      "outputs": [
        {
          "output_type": "stream",
          "text": [
            "+-----------------+\n",
            "|VEHICLE_OCCUPANTS|\n",
            "+-----------------+\n",
            "|              148|\n",
            "|              392|\n",
            "|               31|\n",
            "|          9999999|\n",
            "|               65|\n",
            "|               53|\n",
            "|               34|\n",
            "|              211|\n",
            "|               81|\n",
            "|               28|\n",
            "|              183|\n",
            "|        999999999|\n",
            "|               76|\n",
            "|               26|\n",
            "|               27|\n",
            "|               44|\n",
            "|              743|\n",
            "|               12|\n",
            "|               22|\n",
            "|             2013|\n",
            "+-----------------+\n",
            "only showing top 20 rows\n",
            "\n",
            "None\n"
          ],
          "name": "stdout"
        }
      ]
    },
    {
      "cell_type": "code",
      "metadata": {
        "colab": {
          "base_uri": "https://localhost:8080/"
        },
        "id": "viJz991WiTPg",
        "outputId": "a446a17a-b0ee-4e04-8cca-409b1a8e6641"
      },
      "source": [
        "print(col.select(\"DRIVER_SEX\").distinct().show(20));"
      ],
      "execution_count": null,
      "outputs": [
        {
          "output_type": "stream",
          "text": [
            "+----------+\n",
            "|DRIVER_SEX|\n",
            "+----------+\n",
            "|         F|\n",
            "|      null|\n",
            "|         M|\n",
            "|         U|\n",
            "+----------+\n",
            "\n",
            "None\n"
          ],
          "name": "stdout"
        }
      ]
    },
    {
      "cell_type": "code",
      "metadata": {
        "id": "_F8tHU3Gibv0"
      },
      "source": [
        "col=col.fillna(value=\"Not Provided\",subset=[\"DRIVER_SEX\"])"
      ],
      "execution_count": null,
      "outputs": []
    },
    {
      "cell_type": "code",
      "metadata": {
        "colab": {
          "base_uri": "https://localhost:8080/"
        },
        "id": "Ypgs4u7Binu7",
        "outputId": "432e0b75-bab4-47eb-b588-8629964e6cf8"
      },
      "source": [
        "print(col.select(\"DRIVER_LICENSE_STATUS\").distinct().show(20));"
      ],
      "execution_count": null,
      "outputs": [
        {
          "output_type": "stream",
          "text": [
            "+---------------------+\n",
            "|DRIVER_LICENSE_STATUS|\n",
            "+---------------------+\n",
            "|              Unknown|\n",
            "|           Unlicensed|\n",
            "|               Permit|\n",
            "|             Licensed|\n",
            "+---------------------+\n",
            "\n",
            "None\n"
          ],
          "name": "stdout"
        }
      ]
    },
    {
      "cell_type": "code",
      "metadata": {
        "colab": {
          "base_uri": "https://localhost:8080/"
        },
        "id": "BrV0CqzLivrO",
        "outputId": "9596e27b-cc9a-4875-dd68-87c5ae087880"
      },
      "source": [
        "print(col.select(\"DRIVER_LICENSE_JURISDICTION\").distinct().show(20));"
      ],
      "execution_count": null,
      "outputs": [
        {
          "output_type": "stream",
          "text": [
            "+---------------------------+\n",
            "|DRIVER_LICENSE_JURISDICTION|\n",
            "+---------------------------+\n",
            "|                   A,NEJADE|\n",
            "|                         SC|\n",
            "|                         AZ|\n",
            "|                        ZZZ|\n",
            "|                         NS|\n",
            "|                         LA|\n",
            "|                         MN|\n",
            "|                         NJ|\n",
            "|                         MX|\n",
            "|                         DC|\n",
            "|                         OR|\n",
            "|                         NT|\n",
            "|                         VA|\n",
            "|                        NB1|\n",
            "|                         RI|\n",
            "|                         KY|\n",
            "|                         WY|\n",
            "|                         BC|\n",
            "|                         NH|\n",
            "|                         MI|\n",
            "+---------------------------+\n",
            "only showing top 20 rows\n",
            "\n",
            "None\n"
          ],
          "name": "stdout"
        }
      ]
    },
    {
      "cell_type": "code",
      "metadata": {
        "colab": {
          "base_uri": "https://localhost:8080/"
        },
        "id": "uEHaxk7Fi2ps",
        "outputId": "9e3da2cc-aba8-43d7-8e8e-6dd4f8185448"
      },
      "source": [
        "print(col.select(\"PRE_CRASH\").distinct().show(20));"
      ],
      "execution_count": null,
      "outputs": [
        {
          "output_type": "stream",
          "text": [
            "+--------------------+\n",
            "|           PRE_CRASH|\n",
            "+--------------------+\n",
            "|Making Right Turn...|\n",
            "|             Merging|\n",
            "| Starting in Traffic|\n",
            "|             Passing|\n",
            "|       Making U Turn|\n",
            "|Starting from Par...|\n",
            "|  Stopped in Traffic|\n",
            "|              Other*|\n",
            "|             Backing|\n",
            "|Making Left Turn ...|\n",
            "|    Making Left Turn|\n",
            "|Entering Parked P...|\n",
            "|Going Straight Ahead|\n",
            "|      Police Pursuit|\n",
            "|      Changing Lanes|\n",
            "| Slowing or Stopping|\n",
            "|Avoiding Object i...|\n",
            "|        Not Provided|\n",
            "|              Parked|\n",
            "|   Making Right Turn|\n",
            "+--------------------+\n",
            "\n",
            "None\n"
          ],
          "name": "stdout"
        }
      ]
    },
    {
      "cell_type": "code",
      "metadata": {
        "id": "W06g3hY1jACV"
      },
      "source": [
        "col=col.fillna(value=\"Not Provided\",subset=[\"PRE_CRASH\"])"
      ],
      "execution_count": null,
      "outputs": []
    },
    {
      "cell_type": "code",
      "metadata": {
        "colab": {
          "base_uri": "https://localhost:8080/"
        },
        "id": "zc7xfHKKjJS6",
        "outputId": "a8780d4e-db10-42bb-db95-06d03072cd7a"
      },
      "source": [
        "print(col.select(\"POINT_OF_IMPACT\").distinct().show(30));"
      ],
      "execution_count": null,
      "outputs": [
        {
          "output_type": "stream",
          "text": [
            "+--------------------+\n",
            "|     POINT_OF_IMPACT|\n",
            "+--------------------+\n",
            "|Left Rear Quarter...|\n",
            "|     Center Back End|\n",
            "|Left Front Quarte...|\n",
            "|  Right Front Bumper|\n",
            "|    Left Rear Bumper|\n",
            "|    Right Side Doors|\n",
            "|                Roof|\n",
            "|Right Front Quart...|\n",
            "|               Other|\n",
            "|          Overturned|\n",
            "|             Trailer|\n",
            "|Right Rear Quarte...|\n",
            "|     Left Side Doors|\n",
            "|   Left Front Bumper|\n",
            "|          Demolished|\n",
            "|    Center Front End|\n",
            "|       Undercarriage|\n",
            "|   Right Rear Bumper|\n",
            "|        Not Provided|\n",
            "|           No Damage|\n",
            "+--------------------+\n",
            "\n",
            "None\n"
          ],
          "name": "stdout"
        }
      ]
    },
    {
      "cell_type": "code",
      "metadata": {
        "colab": {
          "base_uri": "https://localhost:8080/"
        },
        "id": "pwFxaTjGjpEU",
        "outputId": "b406451d-c613-41bf-d967-b79efb207f21"
      },
      "source": [
        "print(col.select(\"PUBLIC_PROPERTY_DAMAGE\",\"PUBLIC_PROPERTY_DAMAGE_TYPE\").distinct().show(30));"
      ],
      "execution_count": null,
      "outputs": [
        {
          "output_type": "stream",
          "text": [
            "+----------------------+---------------------------+\n",
            "|PUBLIC_PROPERTY_DAMAGE|PUBLIC_PROPERTY_DAMAGE_TYPE|\n",
            "+----------------------+---------------------------+\n",
            "|           Unspecified|       FENCE OF 503 CARY...|\n",
            "|           Unspecified|       A NO STANDING TRA...|\n",
            "|           Unspecified|        UTILITY LIGHT POST.|\n",
            "|           Unspecified|       DAMAGED TREE GUAR...|\n",
            "|           Unspecified|       TRAFFIC CONTROL D...|\n",
            "|           Unspecified|              NYPD VMS SIGN|\n",
            "|           Unspecified|               HOUSE GARAGE|\n",
            "|           Unspecified|       DENTS AND SCRATCH...|\n",
            "|           Unspecified|       FENCE OF 853 EAST...|\n",
            "|           Unspecified|       TRAFFIC SIGNAL DE...|\n",
            "|           Unspecified|       BRICK WALL 2FT X 8FT|\n",
            "|           Unspecified|       NOTIFIED DEPARTME...|\n",
            "|           Unspecified|       METAL GATE IN FRO...|\n",
            "|           Unspecified|       FRONT GATE TO ENT...|\n",
            "|           Unspecified|       DAMAGE TO BUILDIN...|\n",
            "|           Unspecified|       LIGHT POLE ON THE...|\n",
            "|           Unspecified|             74 JULES DRIVE|\n",
            "|           Unspecified|       HIT TRAFFIC POLE ...|\n",
            "|           Unspecified|        UTILITY/ LIGHT POLE|\n",
            "|           Unspecified|               FENCE DENTED|\n",
            "|           Unspecified|       POURED CONCRETE/ ...|\n",
            "|           Unspecified|       UTILITY POLE ON T...|\n",
            "|           Unspecified|       DAMAGE TO FENCE G...|\n",
            "|           Unspecified|       METAL FENCE AT TH...|\n",
            "|           Unspecified|       OUTSIDE METAL FEN...|\n",
            "|           Unspecified|       DAMAGE DONE TO OW...|\n",
            "|           Unspecified|       THE BASE OF THE L...|\n",
            "|           Unspecified|       DOT NO STANDING SIGN|\n",
            "|           Unspecified|       ONE CON EDISON UT...|\n",
            "|           Unspecified|       MOTORIST WAS MAKI...|\n",
            "+----------------------+---------------------------+\n",
            "only showing top 30 rows\n",
            "\n",
            "None\n"
          ],
          "name": "stdout"
        }
      ]
    },
    {
      "cell_type": "code",
      "metadata": {
        "id": "xgKsNrPPkIzi"
      },
      "source": [
        "col=col.fillna(value=\"Not Provided\",subset=[\"PUBLIC_PROPERTY_DAMAGE\"])"
      ],
      "execution_count": null,
      "outputs": []
    },
    {
      "cell_type": "code",
      "metadata": {
        "id": "PWaaYw8vkM9g"
      },
      "source": [
        ""
      ],
      "execution_count": null,
      "outputs": []
    },
    {
      "cell_type": "code",
      "metadata": {
        "colab": {
          "base_uri": "https://localhost:8080/"
        },
        "id": "ZkL65-l_ZC4x",
        "outputId": "ed2d29ff-7ee7-43d8-9dcd-569e72fc13d1"
      },
      "source": [
        "col.printSchema()"
      ],
      "execution_count": null,
      "outputs": [
        {
          "output_type": "stream",
          "text": [
            "root\n",
            " |-- UNIQUE_ID: integer (nullable = true)\n",
            " |-- COLLISION_ID: integer (nullable = true)\n",
            " |-- CRASH_DATE: date (nullable = true)\n",
            " |-- CRASH_TIME: string (nullable = true)\n",
            " |-- VEHICLE_ID: string (nullable = true)\n",
            " |-- STATE_REGISTRATION: string (nullable = true)\n",
            " |-- VEHICLE_TYPE: string (nullable = true)\n",
            " |-- VEHICLE_MAKE: string (nullable = true)\n",
            " |-- VEHICLE_MODEL: string (nullable = true)\n",
            " |-- VEHICLE_YEAR: integer (nullable = true)\n",
            " |-- TRAVEL_DIRECTION: string (nullable = true)\n",
            " |-- VEHICLE_OCCUPANTS: integer (nullable = true)\n",
            " |-- DRIVER_SEX: string (nullable = true)\n",
            " |-- DRIVER_LICENSE_STATUS: string (nullable = false)\n",
            " |-- DRIVER_LICENSE_JURISDICTION: string (nullable = false)\n",
            " |-- PRE_CRASH: string (nullable = true)\n",
            " |-- POINT_OF_IMPACT: string (nullable = false)\n",
            " |-- VEHICLE_DAMAGE: string (nullable = true)\n",
            " |-- VEHICLE_DAMAGE_1: string (nullable = true)\n",
            " |-- VEHICLE_DAMAGE_2: string (nullable = true)\n",
            " |-- VEHICLE_DAMAGE_3: string (nullable = true)\n",
            " |-- PUBLIC_PROPERTY_DAMAGE: string (nullable = true)\n",
            " |-- PUBLIC_PROPERTY_DAMAGE_TYPE: string (nullable = true)\n",
            " |-- CONTRIBUTING_FACTOR_1: string (nullable = true)\n",
            " |-- CONTRIBUTING_FACTOR_2: string (nullable = true)\n",
            "\n"
          ],
          "name": "stdout"
        }
      ]
    }
  ]
}