{
  "nbformat": 4,
  "nbformat_minor": 0,
  "metadata": {
    "colab": {
      "name": "Copy of data_cleaning_coll.ipynb",
      "provenance": []
    },
    "kernelspec": {
      "name": "python3",
      "display_name": "Python 3"
    },
    "language_info": {
      "name": "python"
    }
  },
  "cells": [
    {
      "cell_type": "code",
      "metadata": {
        "id": "w6jTpg3YeRzl"
      },
      "source": [
        "!apt-get install openjdk-8-jdk-headless -qq > /dev/null"
      ],
      "execution_count": null,
      "outputs": []
    },
    {
      "cell_type": "code",
      "metadata": {
        "id": "H0X6aSI8evek"
      },
      "source": [
        "!wget -q https://downloads.apache.org/spark/spark-3.1.1/spark-3.1.1-bin-hadoop2.7.tgz"
      ],
      "execution_count": null,
      "outputs": []
    },
    {
      "cell_type": "code",
      "metadata": {
        "id": "1dwVFgcH7H2Z"
      },
      "source": [
        "!wget -O longlat.csv -q https://public.opendatasoft.com/explore/dataset/us-zip-code-latitude-and-longitude/download/?format=csv&timezone=America/New_York&lang=en&use_labels_for_header=true&csv_separator=%3B"
      ],
      "execution_count": null,
      "outputs": []
    },
    {
      "cell_type": "code",
      "metadata": {
        "id": "kkohxcnCe9iQ",
        "colab": {
          "base_uri": "https://localhost:8080/"
        },
        "outputId": "f4348f26-bc69-4201-dc0b-7dd7a0f9f09c"
      },
      "source": [
        "ls"
      ],
      "execution_count": null,
      "outputs": [
        {
          "output_type": "stream",
          "text": [
            "longlat.csv  \u001b[0m\u001b[01;34msample_data\u001b[0m/  spark-3.1.1-bin-hadoop2.7.tgz\n"
          ],
          "name": "stdout"
        }
      ]
    },
    {
      "cell_type": "code",
      "metadata": {
        "id": "qSVPom6zgD7I"
      },
      "source": [
        "!tar xf spark-3.1.1-bin-hadoop2.7.tgz"
      ],
      "execution_count": null,
      "outputs": []
    },
    {
      "cell_type": "code",
      "metadata": {
        "id": "BAss6VLvgNAB"
      },
      "source": [
        "!pip install -q findspark"
      ],
      "execution_count": null,
      "outputs": []
    },
    {
      "cell_type": "code",
      "metadata": {
        "id": "5QFpj19pgRvm"
      },
      "source": [
        "import os\n",
        "os.environ[\"JAVA_HOME\"] = \"/usr/lib/jvm/java-8-openjdk-amd64\"\n",
        "os.environ[\"SPARK_HOME\"] = \"/content/spark-3.1.1-bin-hadoop2.7\""
      ],
      "execution_count": null,
      "outputs": []
    },
    {
      "cell_type": "code",
      "metadata": {
        "id": "qDgoozyCgmTh"
      },
      "source": [
        "import findspark\n",
        "findspark.init()"
      ],
      "execution_count": null,
      "outputs": []
    },
    {
      "cell_type": "code",
      "metadata": {
        "id": "7ijcOHTqgp6Z"
      },
      "source": [
        "import findspark\n",
        "findspark.init()"
      ],
      "execution_count": null,
      "outputs": []
    },
    {
      "cell_type": "code",
      "metadata": {
        "colab": {
          "base_uri": "https://localhost:8080/",
          "height": 35
        },
        "id": "oqUwg_nZgr-I",
        "outputId": "1176bf70-579e-4cf0-e13f-3f60d62f1ac6"
      },
      "source": [
        "findspark.find()"
      ],
      "execution_count": null,
      "outputs": [
        {
          "output_type": "execute_result",
          "data": {
            "application/vnd.google.colaboratory.intrinsic+json": {
              "type": "string"
            },
            "text/plain": [
              "'/content/spark-3.1.1-bin-hadoop2.7'"
            ]
          },
          "metadata": {
            "tags": []
          },
          "execution_count": 10
        }
      ]
    },
    {
      "cell_type": "code",
      "metadata": {
        "id": "85kD6PaGgubo"
      },
      "source": [
        "from pyspark.sql import SparkSession\n",
        "\n",
        "spark = SparkSession.builder\\\n",
        "        .master(\"local\")\\\n",
        "        .appName(\"Collision\")\\\n",
        "        .config('spark.ui.port', '4050')\\\n",
        "        .getOrCreate()"
      ],
      "execution_count": null,
      "outputs": []
    },
    {
      "cell_type": "code",
      "metadata": {
        "colab": {
          "base_uri": "https://localhost:8080/"
        },
        "id": "rHGTcgdPgzO5",
        "outputId": "53842393-0596-41ad-d96e-1ef8646ec2d0"
      },
      "source": [
        "!wget https://bin.equinox.io/c/4VmDzA7iaHb/ngrok-stable-linux-amd64.zip\n",
        "!unzip -y ngrok-stable-linux-amd64.zip\n",
        "get_ipython().system_raw('./ngrok http 4050 &')\n",
        "!curl -s http://localhost:4040/api/tunnels"
      ],
      "execution_count": null,
      "outputs": [
        {
          "output_type": "stream",
          "text": [
            "--2021-03-31 16:46:40--  https://bin.equinox.io/c/4VmDzA7iaHb/ngrok-stable-linux-amd64.zip\n",
            "Resolving bin.equinox.io (bin.equinox.io)... 54.236.206.131, 3.229.173.44, 3.225.89.236, ...\n",
            "Connecting to bin.equinox.io (bin.equinox.io)|54.236.206.131|:443... connected.\n",
            "HTTP request sent, awaiting response... 200 OK\n",
            "Length: 14746350 (14M) [application/octet-stream]\n",
            "Saving to: ‘ngrok-stable-linux-amd64.zip’\n",
            "\n",
            "ngrok-stable-linux- 100%[===================>]  14.06M  18.5MB/s    in 0.8s    \n",
            "\n",
            "2021-03-31 16:46:41 (18.5 MB/s) - ‘ngrok-stable-linux-amd64.zip’ saved [14746350/14746350]\n",
            "\n",
            "UnZip 6.00 of 20 April 2009, by Debian. Original by Info-ZIP.\n",
            "\n",
            "Usage: unzip [-Z] [-opts[modifiers]] file[.zip] [list] [-x xlist] [-d exdir]\n",
            "  Default action is to extract files in list, except those in xlist, to exdir;\n",
            "  file[.zip] may be a wildcard.  -Z => ZipInfo mode (\"unzip -Z\" for usage).\n",
            "\n",
            "  -p  extract files to pipe, no messages     -l  list files (short format)\n",
            "  -f  freshen existing files, create none    -t  test compressed archive data\n",
            "  -u  update files, create if necessary      -z  display archive comment only\n",
            "  -v  list verbosely/show version info       -T  timestamp archive to latest\n",
            "  -x  exclude files that follow (in xlist)   -d  extract files into exdir\n",
            "modifiers:\n",
            "  -n  never overwrite existing files         -q  quiet mode (-qq => quieter)\n",
            "  -o  overwrite files WITHOUT prompting      -a  auto-convert any text files\n",
            "  -j  junk paths (do not make directories)   -aa treat ALL files as text\n",
            "  -U  use escapes for all non-ASCII Unicode  -UU ignore any Unicode fields\n",
            "  -C  match filenames case-insensitively     -L  make (some) names lowercase\n",
            "  -X  restore UID/GID info                   -V  retain VMS version numbers\n",
            "  -K  keep setuid/setgid/tacky permissions   -M  pipe through \"more\" pager\n",
            "  -O CHARSET  specify a character encoding for DOS, Windows and OS/2 archives\n",
            "  -I CHARSET  specify a character encoding for UNIX and other archives\n",
            "\n",
            "See \"unzip -hh\" or unzip.txt for more help.  Examples:\n",
            "  unzip data1 -x joe   => extract all files except joe from zipfile data1.zip\n",
            "  unzip -p foo | more  => send contents of foo.zip via pipe into program more\n",
            "  unzip -fo foo ReadMe => quietly replace existing ReadMe if archive file newer\n"
          ],
          "name": "stdout"
        }
      ]
    },
    {
      "cell_type": "code",
      "metadata": {
        "id": "VmC2Gt3zhUV-"
      },
      "source": [
        "!wget -q https://data.cityofnewyork.us/api/views/h9gi-nx95/rows.csv ##Data set download"
      ],
      "execution_count": null,
      "outputs": []
    },
    {
      "cell_type": "code",
      "metadata": {
        "id": "PGqtOpKUid8k"
      },
      "source": [
        "mv rows.csv col.csv ## Linux cmd to rename."
      ],
      "execution_count": null,
      "outputs": []
    },
    {
      "cell_type": "code",
      "metadata": {
        "colab": {
          "base_uri": "https://localhost:8080/"
        },
        "id": "YGRRsExXi_0O",
        "outputId": "69339750-2c67-4b6b-af94-4375ec5c86ff"
      },
      "source": [
        "ls"
      ],
      "execution_count": null,
      "outputs": [
        {
          "output_type": "stream",
          "text": [
            "col.csv      ngrok-stable-linux-amd64.zip  \u001b[0m\u001b[01;34mspark-3.1.1-bin-hadoop2.7\u001b[0m/\n",
            "longlat.csv  \u001b[01;34msample_data\u001b[0m/                  spark-3.1.1-bin-hadoop2.7.tgz\n"
          ],
          "name": "stdout"
        }
      ]
    },
    {
      "cell_type": "code",
      "metadata": {
        "id": "72QSXkXojrUD"
      },
      "source": [
        "from pyspark import SparkContext,SparkConf\n",
        "from pyspark.sql import SparkSession\n",
        "import pyspark\n",
        "conf = pyspark.SparkConf()\n",
        "conf.set(\"spark.driver.memory\",\"8G\");\n",
        "import numpy as np\n",
        "sc = SparkContext.getOrCreate(conf=conf)\n",
        "from pyspark.sql.functions import round, col\n"
      ],
      "execution_count": null,
      "outputs": []
    },
    {
      "cell_type": "code",
      "metadata": {
        "id": "Rp7NvIACj4Hn"
      },
      "source": [
        "spark =SparkSession(sc)"
      ],
      "execution_count": null,
      "outputs": []
    },
    {
      "cell_type": "code",
      "metadata": {
        "id": "sJCZa6g7j8_W"
      },
      "source": [
        "\n",
        "# Reading data from local repo. to pyspark.\n",
        "\n",
        "col=spark.read.option(\"header\",True).csv(\"./col.csv\",inferSchema=True) # data set 1.\n",
        "longlat=spark.read.option(\"delimiter\",\";\").csv(\"./longlat.csv\",inferSchema=True,header=True) #location. [Additional Dataset ]"
      ],
      "execution_count": null,
      "outputs": []
    },
    {
      "cell_type": "code",
      "metadata": {
        "colab": {
          "base_uri": "https://localhost:8080/"
        },
        "id": "EAACJ7l-kBrS",
        "outputId": "b4eab0eb-af23-443a-9a1d-e348abc41a35"
      },
      "source": [
        "col.count() - col.distinct().count() # I checked for Duplicate rows in our dataset."
      ],
      "execution_count": null,
      "outputs": [
        {
          "output_type": "execute_result",
          "data": {
            "text/plain": [
              "0"
            ]
          },
          "metadata": {
            "tags": []
          },
          "execution_count": 19
        }
      ]
    },
    {
      "cell_type": "code",
      "metadata": {
        "colab": {
          "base_uri": "https://localhost:8080/"
        },
        "id": "qd3gJFzukGI7",
        "outputId": "5430fd6e-43d4-4d7a-e6ea-722539c3bdca"
      },
      "source": [
        "len(col.columns) # how many columns do I have."
      ],
      "execution_count": null,
      "outputs": [
        {
          "output_type": "execute_result",
          "data": {
            "text/plain": [
              "29"
            ]
          },
          "metadata": {
            "tags": []
          },
          "execution_count": 20
        }
      ]
    },
    {
      "cell_type": "code",
      "metadata": {
        "colab": {
          "base_uri": "https://localhost:8080/"
        },
        "id": "TKbsJ_f8kIWu",
        "outputId": "22567481-c9d5-4c13-f3eb-457821f7aea4"
      },
      "source": [
        "col.printSchema() #Schema of my dataset. Issues with our columns types like NUMBER OF PERSONS INJURED: string and It should need to be Integer."
      ],
      "execution_count": null,
      "outputs": [
        {
          "output_type": "stream",
          "text": [
            "root\n",
            " |-- CRASH DATE: string (nullable = true)\n",
            " |-- CRASH TIME: string (nullable = true)\n",
            " |-- BOROUGH: string (nullable = true)\n",
            " |-- ZIP CODE: string (nullable = true)\n",
            " |-- LATITUDE: double (nullable = true)\n",
            " |-- LONGITUDE: double (nullable = true)\n",
            " |-- LOCATION: string (nullable = true)\n",
            " |-- ON STREET NAME: string (nullable = true)\n",
            " |-- CROSS STREET NAME: string (nullable = true)\n",
            " |-- OFF STREET NAME: string (nullable = true)\n",
            " |-- NUMBER OF PERSONS INJURED: string (nullable = true)\n",
            " |-- NUMBER OF PERSONS KILLED: integer (nullable = true)\n",
            " |-- NUMBER OF PEDESTRIANS INJURED: integer (nullable = true)\n",
            " |-- NUMBER OF PEDESTRIANS KILLED: integer (nullable = true)\n",
            " |-- NUMBER OF CYCLIST INJURED: integer (nullable = true)\n",
            " |-- NUMBER OF CYCLIST KILLED: string (nullable = true)\n",
            " |-- NUMBER OF MOTORIST INJURED: string (nullable = true)\n",
            " |-- NUMBER OF MOTORIST KILLED: integer (nullable = true)\n",
            " |-- CONTRIBUTING FACTOR VEHICLE 1: string (nullable = true)\n",
            " |-- CONTRIBUTING FACTOR VEHICLE 2: string (nullable = true)\n",
            " |-- CONTRIBUTING FACTOR VEHICLE 3: string (nullable = true)\n",
            " |-- CONTRIBUTING FACTOR VEHICLE 4: string (nullable = true)\n",
            " |-- CONTRIBUTING FACTOR VEHICLE 5: string (nullable = true)\n",
            " |-- COLLISION_ID: integer (nullable = true)\n",
            " |-- VEHICLE TYPE CODE 1: string (nullable = true)\n",
            " |-- VEHICLE TYPE CODE 2: string (nullable = true)\n",
            " |-- VEHICLE TYPE CODE 3: string (nullable = true)\n",
            " |-- VEHICLE TYPE CODE 4: string (nullable = true)\n",
            " |-- VEHICLE TYPE CODE 5: string (nullable = true)\n",
            "\n"
          ],
          "name": "stdout"
        }
      ]
    },
    {
      "cell_type": "code",
      "metadata": {
        "id": "8tdfYdZF_7_d"
      },
      "source": [
        "from pyspark.sql.types import IntegerType\n",
        "\n",
        "col=col.withColumn(\"NUMBER OF PERSONS INJURED\", col[\"NUMBER OF PERSONS INJURED\"].cast(IntegerType()))\n",
        "col=col.withColumn(\"NUMBER OF CYCLIST KILLED\", col[\"NUMBER OF CYCLIST KILLED\"].cast(IntegerType()))\n",
        "col=col.withColumn(\"NUMBER OF MOTORIST INJURED\", col[\"NUMBER OF MOTORIST INJURED\"].cast(IntegerType()))\n",
        "\n",
        "# Correcting the column types to Integer which were previously of String types."
      ],
      "execution_count": null,
      "outputs": []
    },
    {
      "cell_type": "code",
      "metadata": {
        "colab": {
          "base_uri": "https://localhost:8080/"
        },
        "id": "YIB6R_9cgHx5",
        "outputId": "9ac448da-b3e4-47b3-d9fa-49a3e811655b"
      },
      "source": [
        "col.printSchema() # checking if my schema is correct now ? Yes It is"
      ],
      "execution_count": null,
      "outputs": [
        {
          "output_type": "stream",
          "text": [
            "root\n",
            " |-- CRASH DATE: string (nullable = true)\n",
            " |-- CRASH TIME: string (nullable = true)\n",
            " |-- BOROUGH: string (nullable = true)\n",
            " |-- ZIP CODE: string (nullable = true)\n",
            " |-- LATITUDE: double (nullable = true)\n",
            " |-- LONGITUDE: double (nullable = true)\n",
            " |-- LOCATION: string (nullable = true)\n",
            " |-- ON STREET NAME: string (nullable = true)\n",
            " |-- CROSS STREET NAME: string (nullable = true)\n",
            " |-- OFF STREET NAME: string (nullable = true)\n",
            " |-- NUMBER OF PERSONS INJURED: integer (nullable = true)\n",
            " |-- NUMBER OF PERSONS KILLED: integer (nullable = true)\n",
            " |-- NUMBER OF PEDESTRIANS INJURED: integer (nullable = true)\n",
            " |-- NUMBER OF PEDESTRIANS KILLED: integer (nullable = true)\n",
            " |-- NUMBER OF CYCLIST INJURED: integer (nullable = true)\n",
            " |-- NUMBER OF CYCLIST KILLED: integer (nullable = true)\n",
            " |-- NUMBER OF MOTORIST INJURED: integer (nullable = true)\n",
            " |-- NUMBER OF MOTORIST KILLED: integer (nullable = true)\n",
            " |-- CONTRIBUTING FACTOR VEHICLE 1: string (nullable = true)\n",
            " |-- CONTRIBUTING FACTOR VEHICLE 2: string (nullable = true)\n",
            " |-- CONTRIBUTING FACTOR VEHICLE 3: string (nullable = true)\n",
            " |-- CONTRIBUTING FACTOR VEHICLE 4: string (nullable = true)\n",
            " |-- CONTRIBUTING FACTOR VEHICLE 5: string (nullable = true)\n",
            " |-- COLLISION_ID: integer (nullable = true)\n",
            " |-- VEHICLE TYPE CODE 1: string (nullable = true)\n",
            " |-- VEHICLE TYPE CODE 2: string (nullable = true)\n",
            " |-- VEHICLE TYPE CODE 3: string (nullable = true)\n",
            " |-- VEHICLE TYPE CODE 4: string (nullable = true)\n",
            " |-- VEHICLE TYPE CODE 5: string (nullable = true)\n",
            "\n"
          ],
          "name": "stdout"
        }
      ]
    },
    {
      "cell_type": "code",
      "metadata": {
        "id": "hYm1cOESlNoj",
        "colab": {
          "base_uri": "https://localhost:8080/"
        },
        "outputId": "3cf6fbea-efd1-4bfe-934b-4cb6afe79e6e"
      },
      "source": [
        "col.select(\"CRASH DATE\").show(10)"
      ],
      "execution_count": null,
      "outputs": [
        {
          "output_type": "stream",
          "text": [
            "+----------+\n",
            "|CRASH DATE|\n",
            "+----------+\n",
            "|05/06/2013|\n",
            "|05/08/2013|\n",
            "|05/06/2013|\n",
            "|05/07/2013|\n",
            "|05/07/2013|\n",
            "|05/09/2013|\n",
            "|05/08/2013|\n",
            "|05/09/2013|\n",
            "|05/05/2013|\n",
            "|05/08/2013|\n",
            "+----------+\n",
            "only showing top 10 rows\n",
            "\n"
          ],
          "name": "stdout"
        }
      ]
    },
    {
      "cell_type": "code",
      "metadata": {
        "id": "ISull6Z7mrji"
      },
      "source": [
        "#dropping columns with collision id = null"
      ],
      "execution_count": null,
      "outputs": []
    },
    {
      "cell_type": "code",
      "metadata": {
        "colab": {
          "base_uri": "https://localhost:8080/"
        },
        "id": "bSxL1_cvn0EZ",
        "outputId": "875a3096-57da-4d0b-d0e2-1805136c82f4"
      },
      "source": [
        "col.filter(col.COLLISION_ID.isNull()).drop()"
      ],
      "execution_count": null,
      "outputs": [
        {
          "output_type": "execute_result",
          "data": {
            "text/plain": [
              "DataFrame[CRASH DATE: string, CRASH TIME: string, BOROUGH: string, ZIP CODE: string, LATITUDE: double, LONGITUDE: double, LOCATION: string, ON STREET NAME: string, CROSS STREET NAME: string, OFF STREET NAME: string, NUMBER OF PERSONS INJURED: int, NUMBER OF PERSONS KILLED: int, NUMBER OF PEDESTRIANS INJURED: int, NUMBER OF PEDESTRIANS KILLED: int, NUMBER OF CYCLIST INJURED: int, NUMBER OF CYCLIST KILLED: int, NUMBER OF MOTORIST INJURED: int, NUMBER OF MOTORIST KILLED: int, CONTRIBUTING FACTOR VEHICLE 1: string, CONTRIBUTING FACTOR VEHICLE 2: string, CONTRIBUTING FACTOR VEHICLE 3: string, CONTRIBUTING FACTOR VEHICLE 4: string, CONTRIBUTING FACTOR VEHICLE 5: string, COLLISION_ID: int, VEHICLE TYPE CODE 1: string, VEHICLE TYPE CODE 2: string, VEHICLE TYPE CODE 3: string, VEHICLE TYPE CODE 4: string, VEHICLE TYPE CODE 5: string]"
            ]
          },
          "metadata": {
            "tags": []
          },
          "execution_count": 26
        }
      ]
    },
    {
      "cell_type": "code",
      "metadata": {
        "colab": {
          "base_uri": "https://localhost:8080/"
        },
        "id": "TiMX8EBZrRA3",
        "outputId": "ef613776-06f3-45b6-97da-9c30aba60c31"
      },
      "source": [
        "col.count()"
      ],
      "execution_count": null,
      "outputs": [
        {
          "output_type": "execute_result",
          "data": {
            "text/plain": [
              "1766160"
            ]
          },
          "metadata": {
            "tags": []
          },
          "execution_count": 27
        }
      ]
    },
    {
      "cell_type": "code",
      "metadata": {
        "id": "0GDOxpvrpLeQ"
      },
      "source": [
        "missingLocation=col.filter(col[\"BOROUGH\"].isNull()).filter(col[\"ZIP CODE\"].isNull())"
      ],
      "execution_count": null,
      "outputs": []
    },
    {
      "cell_type": "code",
      "metadata": {
        "id": "sAlRmhVbqwBN"
      },
      "source": [
        "cannotRetriveLocation = missingLocation.filter(col[\"LONGITUDE\"].isNull())"
      ],
      "execution_count": null,
      "outputs": []
    },
    {
      "cell_type": "code",
      "metadata": {
        "colab": {
          "base_uri": "https://localhost:8080/"
        },
        "id": "ElF_74S_rZrn",
        "outputId": "d753f524-3b47-42f7-e7f1-ecd845c51aae"
      },
      "source": [
        "col.count() ## removed the records for which we cannot retrive location at any cost."
      ],
      "execution_count": null,
      "outputs": [
        {
          "output_type": "execute_result",
          "data": {
            "text/plain": [
              "1766160"
            ]
          },
          "metadata": {
            "tags": []
          },
          "execution_count": 30
        }
      ]
    },
    {
      "cell_type": "code",
      "metadata": {
        "id": "QQHrj52qtLtC"
      },
      "source": [
        "#Infer the schema, and register the DataFrame as a table.\n",
        "col.createOrReplaceTempView(\"col\");\n",
        "cannotRetriveLocation.createOrReplaceTempView(\"toDelete\")"
      ],
      "execution_count": null,
      "outputs": []
    },
    {
      "cell_type": "code",
      "metadata": {
        "id": "q0F0_v-qtSXR"
      },
      "source": [
        "col=spark.sql(\"select * FROM col WHERE col.COLLISION_ID not in (select COLLISION_ID from toDelete where COLLISION_ID is not null)\");\n"
      ],
      "execution_count": null,
      "outputs": []
    },
    {
      "cell_type": "code",
      "metadata": {
        "colab": {
          "base_uri": "https://localhost:8080/"
        },
        "id": "B-BsmtYWv5tG",
        "outputId": "55c7d8cb-1cb6-4c63-a3bb-16fa9b01fd0f"
      },
      "source": [
        "col.count()"
      ],
      "execution_count": null,
      "outputs": [
        {
          "output_type": "execute_result",
          "data": {
            "text/plain": [
              "1588740"
            ]
          },
          "metadata": {
            "tags": []
          },
          "execution_count": 33
        }
      ]
    },
    {
      "cell_type": "code",
      "metadata": {
        "colab": {
          "base_uri": "https://localhost:8080/"
        },
        "id": "I3m_pSBiwFnE",
        "outputId": "6216093a-59eb-4542-a06e-2da1cd660bc6"
      },
      "source": [
        "col.filter(col[\"ZIP CODE\"].isNull()).filter(col[\"BOROUGH\"].isNotNull()).count()"
      ],
      "execution_count": null,
      "outputs": [
        {
          "output_type": "execute_result",
          "data": {
            "text/plain": [
              "211"
            ]
          },
          "metadata": {
            "tags": []
          },
          "execution_count": 34
        }
      ]
    },
    {
      "cell_type": "code",
      "metadata": {
        "id": "-g5FF39ew20d"
      },
      "source": [
        "BOROUGH=list(map(lambda x : x[\"BOROUGH\"],col.select(\"BOROUGH\").distinct().collect()))"
      ],
      "execution_count": null,
      "outputs": []
    },
    {
      "cell_type": "code",
      "metadata": {
        "colab": {
          "base_uri": "https://localhost:8080/"
        },
        "id": "cb-Gc1mBna0o",
        "outputId": "0ac6d6b5-cd18-43e2-85b0-bff0e852e235"
      },
      "source": [
        "BOROUGH"
      ],
      "execution_count": null,
      "outputs": [
        {
          "output_type": "execute_result",
          "data": {
            "text/plain": [
              "[None, 'QUEENS', 'BROOKLYN', 'BRONX', 'MANHATTAN', 'STATEN ISLAND']"
            ]
          },
          "metadata": {
            "tags": []
          },
          "execution_count": 36
        }
      ]
    },
    {
      "cell_type": "code",
      "metadata": {
        "colab": {
          "base_uri": "https://localhost:8080/"
        },
        "id": "QCmGVySL0Pzz",
        "outputId": "56001416-a558-472a-e042-8e9dd04b2462"
      },
      "source": [
        "longlat.printSchema() # another data set"
      ],
      "execution_count": null,
      "outputs": [
        {
          "output_type": "stream",
          "text": [
            "root\n",
            " |-- zip: integer (nullable = true)\n",
            " |-- city: string (nullable = true)\n",
            " |-- state: string (nullable = true)\n",
            " |-- latitude: double (nullable = true)\n",
            " |-- longitude: double (nullable = true)\n",
            " |-- timezone: integer (nullable = true)\n",
            " |-- dst: integer (nullable = true)\n",
            " |-- geopoint: string (nullable = true)\n",
            "\n"
          ],
          "name": "stdout"
        }
      ]
    },
    {
      "cell_type": "code",
      "metadata": {
        "id": "6PK36ll9ALs9"
      },
      "source": [
        "\n",
        "col.createOrReplaceTempView(\"col\");\n",
        "longlat.createOrReplaceTempView(\"longlat\");"
      ],
      "execution_count": null,
      "outputs": []
    },
    {
      "cell_type": "markdown",
      "metadata": {
        "id": "TX8k20b8GcwL"
      },
      "source": [
        ""
      ]
    },
    {
      "cell_type": "code",
      "metadata": {
        "id": "kTxfGswTBHyx"
      },
      "source": [
        "missingZipCode=col.filter(col['ZIP CODE'].isNull());"
      ],
      "execution_count": null,
      "outputs": []
    },
    {
      "cell_type": "code",
      "metadata": {
        "id": "3vxaG-lSBHbX"
      },
      "source": [
        ""
      ],
      "execution_count": null,
      "outputs": []
    },
    {
      "cell_type": "code",
      "metadata": {
        "id": "dfA5oNasDcHY"
      },
      "source": [
        "missingZipCode.createOrReplaceTempView(\"missingZipCode\");\n"
      ],
      "execution_count": null,
      "outputs": []
    },
    {
      "cell_type": "code",
      "metadata": {
        "colab": {
          "base_uri": "https://localhost:8080/",
          "height": 145
        },
        "id": "N0fDEv64LXJ3",
        "outputId": "f72f23a6-c043-4af8-9147-0638321f094a"
      },
      "source": [
        "\"\"\"\"\"\"\"\"\"\"\"\n",
        "for m in missingZipCode.limit(19).collect():\n",
        "  zip=spark.sql(\"select zip,city FROM longlat where ROUND(longlat.latitude,2) =\"+str(round(m.LATITUDE,2))+\" and ROUND(longlat.longitude,2)= \"+str(round(m.LONGITUDE,2))+\" limit 1\");\n",
        "  zip=zip.select(\"zip\",\"city\").collect()\n",
        "  if len(zip)>0:\n",
        "    if zip[0].city.upper()==\"NEW YORK\":\n",
        "      print(m[\"COLLISION_ID\"],\"MANHATTAN\",zip[0].zip)\n",
        "    else:\n",
        "        if zip[0].city.upper() in BOROUGH:\n",
        "          print(m[\"COLLISION_ID\"],zip[0].city.upper(),zip[0].zip)\n",
        "          \"\"\"\"\"\""
      ],
      "execution_count": null,
      "outputs": [
        {
          "output_type": "error",
          "ename": "SyntaxError",
          "evalue": "ignored",
          "traceback": [
            "\u001b[0;36m  File \u001b[0;32m\"<ipython-input-41-4c359d05e59a>\"\u001b[0;36m, line \u001b[0;32m11\u001b[0m\n\u001b[0;31m    \"\"\"\"\"\"\u001b[0m\n\u001b[0m          \n^\u001b[0m\n\u001b[0;31mSyntaxError\u001b[0m\u001b[0;31m:\u001b[0m EOF while scanning triple-quoted string literal\n"
          ]
        }
      ]
    },
    {
      "cell_type": "code",
      "metadata": {
        "id": "_tDVi773Pru-"
      },
      "source": [
        "col.select(\"NUMBER OF CYCLIST INJURED\").distinct().show(); ## lets check."
      ],
      "execution_count": null,
      "outputs": []
    },
    {
      "cell_type": "markdown",
      "metadata": {
        "id": "BKR1Qaolal01"
      },
      "source": [
        "NUMBER OF CYCLIST INJURED Is alredy cleaned."
      ]
    },
    {
      "cell_type": "code",
      "metadata": {
        "id": "Oke_YOp3aqls"
      },
      "source": [
        "col.select(\"NUMBER OF PERSONS INJURED\").distinct().show();"
      ],
      "execution_count": null,
      "outputs": []
    },
    {
      "cell_type": "markdown",
      "metadata": {
        "id": "VWIHtav3a5py"
      },
      "source": [
        "NUMBER OF PERSONS INJURED has Null value hence making it to Zero."
      ]
    },
    {
      "cell_type": "code",
      "metadata": {
        "id": "6YleZDuMa3oU"
      },
      "source": [
        "col=col.fillna(value=0,subset=[\"NUMBER OF PERSONS INJURED\"]) # clean null values to zero."
      ],
      "execution_count": null,
      "outputs": []
    },
    {
      "cell_type": "markdown",
      "metadata": {
        "id": "Yi2lIcnqhMm9"
      },
      "source": [
        ""
      ]
    },
    {
      "cell_type": "code",
      "metadata": {
        "id": "3os8QdmMcE_Q"
      },
      "source": [
        "#NUMBER OF PERSONS KILLED\n",
        "print(col.select(\"NUMBER OF PERSONS KILLED\").distinct().show());"
      ],
      "execution_count": null,
      "outputs": []
    },
    {
      "cell_type": "markdown",
      "metadata": {
        "id": "C3R5AX0Vh9FK"
      },
      "source": [
        "NUMBER OF PERSONS KILLED has NULL values : replacign them with 0.\n"
      ]
    },
    {
      "cell_type": "code",
      "metadata": {
        "id": "EfoX3vF6hxOb"
      },
      "source": [
        "col=col.fillna(value=0,subset=[\"NUMBER OF PERSONS KILLED\"])"
      ],
      "execution_count": null,
      "outputs": []
    },
    {
      "cell_type": "code",
      "metadata": {
        "id": "7fJxvjC5iEdz"
      },
      "source": [
        "print(col.select(\"NUMBER OF PEDESTRIANS INJURED\").distinct().show());"
      ],
      "execution_count": null,
      "outputs": []
    },
    {
      "cell_type": "markdown",
      "metadata": {
        "id": "wcc_M6cjiOBa"
      },
      "source": [
        "NUMBER OF PEDESTRIANS INJURED has no null value"
      ]
    },
    {
      "cell_type": "code",
      "metadata": {
        "id": "5eJZP8eDiPui"
      },
      "source": [
        "#NUMBER OF PEDESTRIANS KILLED\n",
        "print(col.select(\"NUMBER OF PEDESTRIANS KILLED\").distinct().show());"
      ],
      "execution_count": null,
      "outputs": []
    },
    {
      "cell_type": "markdown",
      "metadata": {
        "id": "ZW3DJufWidXx"
      },
      "source": [
        "\n",
        "\n",
        "```\n",
        "NUMBER OF PEDESTRIANS KILLED has no null value\n",
        "```\n",
        "\n"
      ]
    },
    {
      "cell_type": "code",
      "metadata": {
        "id": "5Y7u0j2hik6r"
      },
      "source": [
        "print(col.select(\"NUMBER OF CYCLIST INJURED\").distinct().show());"
      ],
      "execution_count": null,
      "outputs": []
    },
    {
      "cell_type": "markdown",
      "metadata": {
        "id": "BxzxmZyNiviy"
      },
      "source": [
        "NUMBER OF CYCLIST INJURED has no null value"
      ]
    },
    {
      "cell_type": "code",
      "metadata": {
        "id": "Il3UyBZ2iyua"
      },
      "source": [
        "print(col.select(\"NUMBER OF CYCLIST KILLED\").distinct().show());"
      ],
      "execution_count": null,
      "outputs": []
    },
    {
      "cell_type": "code",
      "metadata": {
        "id": "2EsFBEkMi8Ci"
      },
      "source": [
        ""
      ],
      "execution_count": null,
      "outputs": []
    },
    {
      "cell_type": "markdown",
      "metadata": {
        "id": "Ew2Xe-rGi9-z"
      },
      "source": [
        "NUMBER OF CYCLIST KILLED has no null value"
      ]
    },
    {
      "cell_type": "code",
      "metadata": {
        "id": "8N4O4-GXjDJX"
      },
      "source": [
        "#NUMBER OF MOTORIST INJURED\n",
        "print(col.select(\"NUMBER OF MOTORIST INJURED\").distinct().show(100));"
      ],
      "execution_count": null,
      "outputs": []
    },
    {
      "cell_type": "markdown",
      "metadata": {
        "id": "THCAUEDEjWZe"
      },
      "source": [
        "NUMBER OF MOTORIST INJURED has no null value"
      ]
    },
    {
      "cell_type": "code",
      "metadata": {
        "id": "RU2FnrQojLcn"
      },
      "source": [
        "#NUMBER OF MOTORIST INJURED\n",
        "print(col.select(\"NUMBER OF MOTORIST KILLED\").distinct().show(100));"
      ],
      "execution_count": null,
      "outputs": []
    },
    {
      "cell_type": "code",
      "metadata": {
        "id": "JzAqJZvbjdrL"
      },
      "source": [
        ""
      ],
      "execution_count": null,
      "outputs": []
    },
    {
      "cell_type": "markdown",
      "metadata": {
        "id": "wYiUDENKjfnc"
      },
      "source": [
        "NUMBER OF MOTORIST INJURED has no null value"
      ]
    },
    {
      "cell_type": "code",
      "metadata": {
        "id": "0Nfqmb9TjgYM"
      },
      "source": [
        "#CONTRIBUTING FACTOR VEHICLE\n",
        "print(col.select(\"CONTRIBUTING FACTOR VEHICLE 1\").distinct().show(70));\n",
        "\n",
        "# has numerical values 1 and 80\n",
        "# has null value.\n"
      ],
      "execution_count": null,
      "outputs": []
    },
    {
      "cell_type": "code",
      "metadata": {
        "id": "yv1mQy2rmjh4"
      },
      "source": [
        "#CONTRIBUTING FACTOR VEHICLE\n",
        "print(col.select(\"CONTRIBUTING FACTOR VEHICLE 2\").distinct().show(100));\n",
        "\n",
        "# has numerical values 1 and 80.\n",
        "# has null value.\n"
      ],
      "execution_count": null,
      "outputs": []
    },
    {
      "cell_type": "code",
      "metadata": {
        "id": "UeqFgJDbnbLc"
      },
      "source": [
        "#CONTRIBUTING FACTOR VEHICLE\n",
        "print(col.select(\"CONTRIBUTING FACTOR VEHICLE 3\").distinct().show(100));\n",
        "\n",
        "# has numerical values 1 and 80.\n",
        "# has null value."
      ],
      "execution_count": null,
      "outputs": []
    },
    {
      "cell_type": "code",
      "metadata": {
        "id": "G5nOTYmvnneL"
      },
      "source": [
        "#CONTRIBUTING FACTOR VEHICLE\n",
        "print(col.select(\"CONTRIBUTING FACTOR VEHICLE 4\").distinct().show(100));\n",
        "# has null value."
      ],
      "execution_count": null,
      "outputs": []
    },
    {
      "cell_type": "code",
      "metadata": {
        "id": "pt8kCCdqlnIB"
      },
      "source": [
        "print(col.select(\"CONTRIBUTING FACTOR VEHICLE 5\").distinct().show(30));\n",
        "# already Clean"
      ],
      "execution_count": null,
      "outputs": []
    },
    {
      "cell_type": "code",
      "metadata": {
        "id": "4iw5iAhae31G"
      },
      "source": [
        "print(col.select(\"VEHICLE TYPE CODE 1\").distinct().show(1000));"
      ],
      "execution_count": null,
      "outputs": []
    },
    {
      "cell_type": "code",
      "metadata": {
        "id": "FnZ6ERKdnveJ"
      },
      "source": [
        "col.select(\"VEHICLE TYPE CODE 1\").distinct().count()"
      ],
      "execution_count": null,
      "outputs": []
    },
    {
      "cell_type": "code",
      "metadata": {
        "id": "U_KFes5Fi058"
      },
      "source": [
        "col.select(\"VEHICLE TYPE CODE 2\").distinct().count()"
      ],
      "execution_count": null,
      "outputs": []
    },
    {
      "cell_type": "code",
      "metadata": {
        "id": "QUIEBqo0i1Jf"
      },
      "source": [
        "col.select(\"VEHICLE TYPE CODE 3\").distinct().count()"
      ],
      "execution_count": null,
      "outputs": []
    },
    {
      "cell_type": "code",
      "metadata": {
        "id": "-AwEOptCi1Uq"
      },
      "source": [
        "col.select(\"VEHICLE TYPE CODE 4\").distinct().count()"
      ],
      "execution_count": null,
      "outputs": []
    },
    {
      "cell_type": "markdown",
      "metadata": {
        "id": "VKysQ3WooIvG"
      },
      "source": [
        "# ***TODO***\n",
        "Treat Null Values for all column to  Unknown. 1,2,3,4,5\n",
        "\n",
        "\n",
        "Treat **1 and 80** for CONTRIBUTING FACTOR VEHICLE 1,2,3"
      ]
    },
    {
      "cell_type": "code",
      "metadata": {
        "id": "OWG3BkPVoUdq"
      },
      "source": [
        "# zip,borough,location,long,lat, [contributing1,2,3,4], killed and injured [3-4],COLLISION_ID."
      ],
      "execution_count": null,
      "outputs": []
    },
    {
      "cell_type": "markdown",
      "metadata": {
        "id": "0RiurGHug5wR"
      },
      "source": [
        "# Data cleaning for Person table"
      ]
    },
    {
      "cell_type": "code",
      "metadata": {
        "colab": {
          "base_uri": "https://localhost:8080/"
        },
        "id": "Tc2y3PtKhH4O",
        "outputId": "5b79e7fc-2e30-4acb-ecab-a072947bcf59"
      },
      "source": [
        "!wget -q https://data.cityofnewyork.us/api/views/f55k-p6yu/rows.csv   #Loaded person data for vehicle collisions"
      ],
      "execution_count": null,
      "outputs": [
        {
          "output_type": "stream",
          "text": [
            "^C\n"
          ],
          "name": "stdout"
        }
      ]
    },
    {
      "cell_type": "code",
      "metadata": {
        "id": "wqqkrVCzhsCt"
      },
      "source": [
        "mv rows.csv person.csv"
      ],
      "execution_count": null,
      "outputs": []
    },
    {
      "cell_type": "code",
      "metadata": {
        "colab": {
          "base_uri": "https://localhost:8080/"
        },
        "id": "Pfqurnnohyeu",
        "outputId": "3dffa226-128d-4137-f8d9-546706e97aa2"
      },
      "source": [
        "ls"
      ],
      "execution_count": null,
      "outputs": [
        {
          "output_type": "stream",
          "text": [
            "col.csv                       \u001b[0m\u001b[01;34msample_data\u001b[0m/\n",
            "longlat.csv                   \u001b[01;34mspark-3.1.1-bin-hadoop2.7\u001b[0m/\n",
            "ngrok-stable-linux-amd64.zip  spark-3.1.1-bin-hadoop2.7.tgz\n",
            "person.csv\n"
          ],
          "name": "stdout"
        }
      ]
    },
    {
      "cell_type": "code",
      "metadata": {
        "id": "fW7g5fyfiVuR"
      },
      "source": [
        "person = spark.read.option(\"header\",True).csv(\"./person.csv\",inferSchema=True) # Read person data."
      ],
      "execution_count": null,
      "outputs": []
    },
    {
      "cell_type": "code",
      "metadata": {
        "id": "oaYogYeonOSJ"
      },
      "source": [
        "person.createOrReplaceTempView(\"person\");"
      ],
      "execution_count": null,
      "outputs": []
    },
    {
      "cell_type": "code",
      "metadata": {
        "colab": {
          "base_uri": "https://localhost:8080/"
        },
        "id": "IGiFCtkFih_m",
        "outputId": "4e54e554-39ec-4272-e91b-25608027084b"
      },
      "source": [
        "person.count()"
      ],
      "execution_count": null,
      "outputs": [
        {
          "output_type": "execute_result",
          "data": {
            "text/plain": [
              "4236940"
            ]
          },
          "metadata": {
            "tags": []
          },
          "execution_count": 47
        }
      ]
    },
    {
      "cell_type": "code",
      "metadata": {
        "colab": {
          "base_uri": "https://localhost:8080/"
        },
        "id": "2G0-8H1vmW36",
        "outputId": "a75d22b1-916d-466f-b93c-0972ff5b823c"
      },
      "source": [
        "len(person.columns)"
      ],
      "execution_count": null,
      "outputs": [
        {
          "output_type": "execute_result",
          "data": {
            "text/plain": [
              "21"
            ]
          },
          "metadata": {
            "tags": []
          },
          "execution_count": 48
        }
      ]
    },
    {
      "cell_type": "code",
      "metadata": {
        "colab": {
          "base_uri": "https://localhost:8080/"
        },
        "id": "zj_LSHoGmgaI",
        "outputId": "a4e60755-5983-4092-c442-aafeedd1e467"
      },
      "source": [
        "person.printSchema()"
      ],
      "execution_count": null,
      "outputs": [
        {
          "output_type": "stream",
          "text": [
            "root\n",
            " |-- UNIQUE_ID: integer (nullable = true)\n",
            " |-- COLLISION_ID: integer (nullable = true)\n",
            " |-- CRASH_DATE: string (nullable = true)\n",
            " |-- CRASH_TIME: string (nullable = true)\n",
            " |-- PERSON_ID: string (nullable = true)\n",
            " |-- PERSON_TYPE: string (nullable = true)\n",
            " |-- PERSON_INJURY: string (nullable = true)\n",
            " |-- VEHICLE_ID: integer (nullable = true)\n",
            " |-- PERSON_AGE: integer (nullable = true)\n",
            " |-- EJECTION: string (nullable = true)\n",
            " |-- EMOTIONAL_STATUS: string (nullable = true)\n",
            " |-- BODILY_INJURY: string (nullable = true)\n",
            " |-- POSITION_IN_VEHICLE: string (nullable = true)\n",
            " |-- SAFETY_EQUIPMENT: string (nullable = true)\n",
            " |-- PED_LOCATION: string (nullable = true)\n",
            " |-- PED_ACTION: string (nullable = true)\n",
            " |-- COMPLAINT: string (nullable = true)\n",
            " |-- PED_ROLE: string (nullable = true)\n",
            " |-- CONTRIBUTING_FACTOR_1: string (nullable = true)\n",
            " |-- CONTRIBUTING_FACTOR_2: string (nullable = true)\n",
            " |-- PERSON_SEX: string (nullable = true)\n",
            "\n"
          ],
          "name": "stdout"
        }
      ]
    },
    {
      "cell_type": "code",
      "metadata": {
        "colab": {
          "base_uri": "https://localhost:8080/"
        },
        "id": "MTPKE8-ooMI4",
        "outputId": "52c371f9-66d5-4353-da15-1f43c663d930"
      },
      "source": [
        "person.count() - person.distinct().count()    #Check for duplicates"
      ],
      "execution_count": null,
      "outputs": [
        {
          "output_type": "execute_result",
          "data": {
            "text/plain": [
              "0"
            ]
          },
          "metadata": {
            "tags": []
          },
          "execution_count": 50
        }
      ]
    },
    {
      "cell_type": "code",
      "metadata": {
        "colab": {
          "base_uri": "https://localhost:8080/"
        },
        "id": "X08ZO6upo8Gj",
        "outputId": "e93d0b9a-6031-431d-f657-17b9df53f8b5"
      },
      "source": [
        "person.filter(person.COLLISION_ID.isNull()).drop()    #Check and remove Null values for Foreign key"
      ],
      "execution_count": null,
      "outputs": [
        {
          "output_type": "execute_result",
          "data": {
            "text/plain": [
              "DataFrame[UNIQUE_ID: int, COLLISION_ID: int, CRASH_DATE: string, CRASH_TIME: string, PERSON_ID: string, PERSON_TYPE: string, PERSON_INJURY: string, VEHICLE_ID: int, PERSON_AGE: int, EJECTION: string, EMOTIONAL_STATUS: string, BODILY_INJURY: string, POSITION_IN_VEHICLE: string, SAFETY_EQUIPMENT: string, PED_LOCATION: string, PED_ACTION: string, COMPLAINT: string, PED_ROLE: string, CONTRIBUTING_FACTOR_1: string, CONTRIBUTING_FACTOR_2: string, PERSON_SEX: string]"
            ]
          },
          "metadata": {
            "tags": []
          },
          "execution_count": 51
        }
      ]
    },
    {
      "cell_type": "code",
      "metadata": {
        "colab": {
          "base_uri": "https://localhost:8080/"
        },
        "id": "YBZMPsWxpf-h",
        "outputId": "3f501bb2-4fac-463a-9aaa-0834c9d5c19b"
      },
      "source": [
        "person.filter(person.UNIQUE_ID.isNull()).drop()     #Check and remove Null values for Primary key"
      ],
      "execution_count": null,
      "outputs": [
        {
          "output_type": "execute_result",
          "data": {
            "text/plain": [
              "DataFrame[UNIQUE_ID: int, COLLISION_ID: int, CRASH_DATE: string, CRASH_TIME: string, PERSON_ID: string, PERSON_TYPE: string, PERSON_INJURY: string, VEHICLE_ID: int, PERSON_AGE: int, EJECTION: string, EMOTIONAL_STATUS: string, BODILY_INJURY: string, POSITION_IN_VEHICLE: string, SAFETY_EQUIPMENT: string, PED_LOCATION: string, PED_ACTION: string, COMPLAINT: string, PED_ROLE: string, CONTRIBUTING_FACTOR_1: string, CONTRIBUTING_FACTOR_2: string, PERSON_SEX: string]"
            ]
          },
          "metadata": {
            "tags": []
          },
          "execution_count": 52
        }
      ]
    },
    {
      "cell_type": "code",
      "metadata": {
        "colab": {
          "base_uri": "https://localhost:8080/"
        },
        "id": "AFPIBFJBp4Uw",
        "outputId": "88e23bf5-5965-43db-9d2e-7fbedf644e69"
      },
      "source": [
        "person.filter(person.PERSON_ID.isNull()).count()    "
      ],
      "execution_count": null,
      "outputs": [
        {
          "output_type": "execute_result",
          "data": {
            "text/plain": [
              "19"
            ]
          },
          "metadata": {
            "tags": []
          },
          "execution_count": 53
        }
      ]
    },
    {
      "cell_type": "code",
      "metadata": {
        "id": "-qrVSj1bA-ri"
      },
      "source": [
        "person=person.fillna(value='Unknown',subset=[\"PERSON_ID\"])"
      ],
      "execution_count": null,
      "outputs": []
    },
    {
      "cell_type": "code",
      "metadata": {
        "colab": {
          "base_uri": "https://localhost:8080/"
        },
        "id": "KHVV2jy5BfBx",
        "outputId": "c1785c6e-d38f-4c21-a210-1d85ec428912"
      },
      "source": [
        "print(person.select(\"PERSON_TYPE\").distinct().show(100))  # Cleaned"
      ],
      "execution_count": null,
      "outputs": [
        {
          "output_type": "stream",
          "text": [
            "+-----------+\n",
            "|PERSON_TYPE|\n",
            "+-----------+\n",
            "|   Occupant|\n",
            "| Pedestrian|\n",
            "|  Bicyclist|\n",
            "+-----------+\n",
            "\n",
            "None\n"
          ],
          "name": "stdout"
        }
      ]
    },
    {
      "cell_type": "code",
      "metadata": {
        "colab": {
          "base_uri": "https://localhost:8080/"
        },
        "id": "LG8AYGArjw3g",
        "outputId": "e0417775-a7d0-46c6-b3fe-f3669fd34f75"
      },
      "source": [
        "print(person.select(\"PERSON_INJURY\").distinct().show(100)) #Already Clean"
      ],
      "execution_count": null,
      "outputs": [
        {
          "output_type": "stream",
          "text": [
            "+-------------+\n",
            "|PERSON_INJURY|\n",
            "+-------------+\n",
            "|       Killed|\n",
            "|  Unspecified|\n",
            "|      Injured|\n",
            "+-------------+\n",
            "\n",
            "None\n"
          ],
          "name": "stdout"
        }
      ]
    },
    {
      "cell_type": "code",
      "metadata": {
        "colab": {
          "base_uri": "https://localhost:8080/"
        },
        "id": "aUIJMWr-kCkB",
        "outputId": "49ef5498-c68e-45d2-dd4e-62c7f5801c29"
      },
      "source": [
        "person.select(\"VEHICLE_ID\").distinct().count()"
      ],
      "execution_count": null,
      "outputs": [
        {
          "output_type": "execute_result",
          "data": {
            "text/plain": [
              "1939149"
            ]
          },
          "metadata": {
            "tags": []
          },
          "execution_count": 58
        }
      ]
    },
    {
      "cell_type": "code",
      "metadata": {
        "colab": {
          "base_uri": "https://localhost:8080/"
        },
        "id": "CL8uvDjtkCvW",
        "outputId": "842926b7-6128-4d37-fa0f-bb1636975973"
      },
      "source": [
        "person.filter(person.VEHICLE_ID.isNull()).count()"
      ],
      "execution_count": null,
      "outputs": [
        {
          "output_type": "execute_result",
          "data": {
            "text/plain": [
              "165791"
            ]
          },
          "metadata": {
            "tags": []
          },
          "execution_count": 59
        }
      ]
    },
    {
      "cell_type": "code",
      "metadata": {
        "id": "tVgcN8knPoky"
      },
      "source": [
        "person=person.fillna(value='-999',subset=[\"VEHICLE_ID\"])"
      ],
      "execution_count": null,
      "outputs": []
    },
    {
      "cell_type": "code",
      "metadata": {
        "colab": {
          "base_uri": "https://localhost:8080/"
        },
        "id": "TbS_Z_fskz4v",
        "outputId": "d42ed645-83bf-4bcc-88a3-bc13288ba06f"
      },
      "source": [
        "person.filter(person.PERSON_AGE.isNull()).count()"
      ],
      "execution_count": null,
      "outputs": [
        {
          "output_type": "execute_result",
          "data": {
            "text/plain": [
              "363520"
            ]
          },
          "metadata": {
            "tags": []
          },
          "execution_count": 61
        }
      ]
    },
    {
      "cell_type": "code",
      "metadata": {
        "id": "56HDeHsyk0A1"
      },
      "source": [
        "mean = spark.sql(\"Select sum(PERSON_AGE)/count(PERSON_AGE) from person where PERSON_AGE > 0 and PERSON_AGE < 100\");"
      ],
      "execution_count": null,
      "outputs": []
    },
    {
      "cell_type": "code",
      "metadata": {
        "colab": {
          "base_uri": "https://localhost:8080/"
        },
        "id": "glhAzKUtk0Kn",
        "outputId": "f022b62b-4393-487a-a7a7-2304455a9eaa"
      },
      "source": [
        "mean.show()"
      ],
      "execution_count": null,
      "outputs": [
        {
          "output_type": "stream",
          "text": [
            "+-------------------------------------------------------------------------------------+\n",
            "|(CAST(sum(CAST(PERSON_AGE AS BIGINT)) AS DOUBLE) / CAST(count(PERSON_AGE) AS DOUBLE))|\n",
            "+-------------------------------------------------------------------------------------+\n",
            "|                                                                    40.24500953358535|\n",
            "+-------------------------------------------------------------------------------------+\n",
            "\n"
          ],
          "name": "stdout"
        }
      ]
    },
    {
      "cell_type": "code",
      "metadata": {
        "id": "4TKjGUDbsUVO"
      },
      "source": [
        "mean.createOrReplaceTempView(\"mean\")"
      ],
      "execution_count": null,
      "outputs": []
    },
    {
      "cell_type": "code",
      "metadata": {
        "id": "ULU5NE2dtb5X"
      },
      "source": [
        "mean = spark.sql(\"SELECT cast((select * from mean) as int)\")"
      ],
      "execution_count": null,
      "outputs": []
    },
    {
      "cell_type": "code",
      "metadata": {
        "id": "k6XZtlX94arY"
      },
      "source": [
        "from pyspark.sql.functions import when"
      ],
      "execution_count": null,
      "outputs": []
    },
    {
      "cell_type": "code",
      "metadata": {
        "id": "UZShxOE3vWRX"
      },
      "source": [
        "person = person.withColumn('PERSON_AGE', when(person[\"PERSON_AGE\"] > 100, 40).otherwise(person[\"PERSON_AGE\"]))"
      ],
      "execution_count": null,
      "outputs": []
    },
    {
      "cell_type": "code",
      "metadata": {
        "id": "1fte_q2q6tLJ"
      },
      "source": [
        "person = person.withColumn('PERSON_AGE', when(person[\"PERSON_AGE\"] < 0, 40).otherwise(person[\"PERSON_AGE\"]))"
      ],
      "execution_count": null,
      "outputs": []
    },
    {
      "cell_type": "code",
      "metadata": {
        "id": "7rfKUXZV67l6"
      },
      "source": [
        "person=person.fillna(value=40,subset=[\"PERSON_AGE\"])"
      ],
      "execution_count": null,
      "outputs": []
    },
    {
      "cell_type": "code",
      "metadata": {
        "colab": {
          "base_uri": "https://localhost:8080/"
        },
        "id": "7b2SFL0JveKl",
        "outputId": "8313f511-8856-4f22-9a26-f6025dd29ee6"
      },
      "source": [
        "person.select(\"PERSON_AGE\").distinct().show()"
      ],
      "execution_count": null,
      "outputs": [
        {
          "output_type": "stream",
          "text": [
            "+----------+\n",
            "|PERSON_AGE|\n",
            "+----------+\n",
            "|        31|\n",
            "|        85|\n",
            "|        65|\n",
            "|        53|\n",
            "|        78|\n",
            "|        34|\n",
            "|        81|\n",
            "|        28|\n",
            "|        76|\n",
            "|        27|\n",
            "|        26|\n",
            "|        44|\n",
            "|        12|\n",
            "|        91|\n",
            "|        22|\n",
            "|        93|\n",
            "|        47|\n",
            "|         1|\n",
            "|        52|\n",
            "|        13|\n",
            "+----------+\n",
            "only showing top 20 rows\n",
            "\n"
          ],
          "name": "stdout"
        }
      ]
    },
    {
      "cell_type": "code",
      "metadata": {
        "colab": {
          "base_uri": "https://localhost:8080/"
        },
        "id": "P_nkdVnsCGFT",
        "outputId": "9c45325f-cda3-4478-956f-be1a72764af7"
      },
      "source": [
        "person.select(\"EJECTION\").distinct().show()"
      ],
      "execution_count": null,
      "outputs": [
        {
          "output_type": "stream",
          "text": [
            "+-----------------+\n",
            "|         EJECTION|\n",
            "+-----------------+\n",
            "|Partially Ejected|\n",
            "|   Does Not Apply|\n",
            "|             null|\n",
            "|          Unknown|\n",
            "|      Not Ejected|\n",
            "|          Ejected|\n",
            "|          Trapped|\n",
            "+-----------------+\n",
            "\n"
          ],
          "name": "stdout"
        }
      ]
    },
    {
      "cell_type": "code",
      "metadata": {
        "id": "FVVGNqu9Cd2n"
      },
      "source": [
        "person=person.fillna(value='Unspecified',subset=[\"EJECTION\"])  #Cleaned EJECTED"
      ],
      "execution_count": null,
      "outputs": []
    },
    {
      "cell_type": "code",
      "metadata": {
        "colab": {
          "base_uri": "https://localhost:8080/"
        },
        "id": "hr7tUwKzCt7e",
        "outputId": "f3c3794c-56f0-4f75-bc68-20eeb623acce"
      },
      "source": [
        "person.select(\"EMOTIONAL_STATUS\").distinct().show()"
      ],
      "execution_count": null,
      "outputs": [
        {
          "output_type": "stream",
          "text": [
            "+----------------+\n",
            "|EMOTIONAL_STATUS|\n",
            "+----------------+\n",
            "|      Incoherent|\n",
            "|  Does Not Apply|\n",
            "|   Semiconscious|\n",
            "|            null|\n",
            "|         Unknown|\n",
            "|     Unconscious|\n",
            "|           Shock|\n",
            "|  Apparent Death|\n",
            "|       Conscious|\n",
            "+----------------+\n",
            "\n"
          ],
          "name": "stdout"
        }
      ]
    },
    {
      "cell_type": "code",
      "metadata": {
        "id": "qa3aDAB-DMmk"
      },
      "source": [
        "person=person.fillna(value='Unspecified',subset=[\"EMOTIONAL_STATUS\"])  #Cleaned EMOTIONAL_STATUS"
      ],
      "execution_count": null,
      "outputs": []
    },
    {
      "cell_type": "code",
      "metadata": {
        "colab": {
          "base_uri": "https://localhost:8080/"
        },
        "id": "0Vmpn1s2C8mA",
        "outputId": "a94d65ff-b464-4b54-f5d3-fc05971af1dd"
      },
      "source": [
        "person.select(\"BODILY_INJURY\").distinct().show()"
      ],
      "execution_count": null,
      "outputs": [
        {
          "output_type": "stream",
          "text": [
            "+--------------------+\n",
            "|       BODILY_INJURY|\n",
            "+--------------------+\n",
            "|      Does Not Apply|\n",
            "|                null|\n",
            "|                Head|\n",
            "|             Unknown|\n",
            "|                Neck|\n",
            "|Elbow-Lower-Arm-Hand|\n",
            "|         Entire Body|\n",
            "|                Face|\n",
            "|                Back|\n",
            "|       Hip-Upper Leg|\n",
            "|    Abdomen - Pelvis|\n",
            "|                 Eye|\n",
            "|Shoulder - Upper Arm|\n",
            "|               Chest|\n",
            "| Knee-Lower Leg Foot|\n",
            "+--------------------+\n",
            "\n"
          ],
          "name": "stdout"
        }
      ]
    },
    {
      "cell_type": "code",
      "metadata": {
        "id": "Q1n2BJDCDS5k"
      },
      "source": [
        "person=person.fillna(value='Unspecified',subset=[\"BODILY_INJURY\"])  #Cleaned BODILY_INJURY"
      ],
      "execution_count": null,
      "outputs": []
    },
    {
      "cell_type": "code",
      "metadata": {
        "colab": {
          "base_uri": "https://localhost:8080/"
        },
        "id": "8_XCUuWEC9F-",
        "outputId": "bd4caa61-7f89-4e52-f53a-a09508555706"
      },
      "source": [
        "person.select(\"PERSON_SEX\").distinct().show()"
      ],
      "execution_count": null,
      "outputs": [
        {
          "output_type": "stream",
          "text": [
            "+----------+\n",
            "|PERSON_SEX|\n",
            "+----------+\n",
            "|         F|\n",
            "|      null|\n",
            "|         M|\n",
            "|         U|\n",
            "+----------+\n",
            "\n"
          ],
          "name": "stdout"
        }
      ]
    },
    {
      "cell_type": "code",
      "metadata": {
        "id": "j_t73vcUC9MR"
      },
      "source": [
        "person=person.fillna(value='Unspecified',subset=[\"PERSON_SEX\"])  #Cleaned PERSON_SEX"
      ],
      "execution_count": null,
      "outputs": []
    },
    {
      "cell_type": "code",
      "metadata": {
        "colab": {
          "base_uri": "https://localhost:8080/"
        },
        "id": "yvvalSD9DguV",
        "outputId": "623e0ec6-8853-4536-de88-317b353b62b8"
      },
      "source": [
        "person.select(\"POSITION_IN_VEHICLE\").distinct().show()"
      ],
      "execution_count": null,
      "outputs": [
        {
          "output_type": "stream",
          "text": [
            "+--------------------+\n",
            "| POSITION_IN_VEHICLE|\n",
            "+--------------------+\n",
            "|Riding/Hanging on...|\n",
            "|Front passenger, ...|\n",
            "|Any person in the...|\n",
            "|If one person is ...|\n",
            "|      Does Not Apply|\n",
            "|              Driver|\n",
            "|Right rear passen...|\n",
            "|                null|\n",
            "|Middle front seat...|\n",
            "|             Unknown|\n",
            "|Left rear passeng...|\n",
            "|Middle rear seat,...|\n",
            "+--------------------+\n",
            "\n"
          ],
          "name": "stdout"
        }
      ]
    },
    {
      "cell_type": "code",
      "metadata": {
        "id": "X1mUgHDMEJ_z"
      },
      "source": [
        "person=person.fillna(value='Unspecified',subset=[\"POSITION_IN_VEHICLE\"])"
      ],
      "execution_count": null,
      "outputs": []
    },
    {
      "cell_type": "code",
      "metadata": {
        "colab": {
          "base_uri": "https://localhost:8080/"
        },
        "id": "GCtEcOTKEjap",
        "outputId": "e5e4c2c4-a001-4b08-be0e-0f68de7e143f"
      },
      "source": [
        "person.select(\"SAFETY_EQUIPMENT\").distinct().show()"
      ],
      "execution_count": null,
      "outputs": [
        {
          "output_type": "stream",
          "text": [
            "+--------------------+\n",
            "|    SAFETY_EQUIPMENT|\n",
            "+--------------------+\n",
            "|                None|\n",
            "|Stoppers Only (In...|\n",
            "|Pads Only (In-Lin...|\n",
            "|                null|\n",
            "|    Air Bag Deployed|\n",
            "|Air Bag Deployed/...|\n",
            "|Air Bag Deployed/...|\n",
            "|             Unknown|\n",
            "|               Other|\n",
            "|                   -|\n",
            "|             Harness|\n",
            "|Helmet/Other (In-...|\n",
            "|Child Restraint Only|\n",
            "|    Lap Belt/Harness|\n",
            "|Helmet (Motorcycl...|\n",
            "|  Lap Belt & Harness|\n",
            "|Helmet Only (In-L...|\n",
            "|Air Bag Deployed/...|\n",
            "|            Lap Belt|\n",
            "+--------------------+\n",
            "\n"
          ],
          "name": "stdout"
        }
      ]
    },
    {
      "cell_type": "code",
      "metadata": {
        "id": "YNpH4SSHErk1"
      },
      "source": [
        "person=person.fillna(value='Unspecified',subset=[\"SAFETY_EQUIPMENT\"])"
      ],
      "execution_count": null,
      "outputs": []
    },
    {
      "cell_type": "code",
      "metadata": {
        "colab": {
          "base_uri": "https://localhost:8080/"
        },
        "id": "sEdA9x-2ErYI",
        "outputId": "f2b6b913-554e-40f2-8b19-b584dc2650a1"
      },
      "source": [
        "person.select(\"PED_LOCATION\").distinct().show()"
      ],
      "execution_count": null,
      "outputs": [
        {
          "output_type": "stream",
          "text": [
            "+--------------------+\n",
            "|        PED_LOCATION|\n",
            "+--------------------+\n",
            "|      Does Not Apply|\n",
            "|                null|\n",
            "|             Unknown|\n",
            "|Pedestrian/Bicycl...|\n",
            "|Pedestrian/Bicycl...|\n",
            "+--------------------+\n",
            "\n"
          ],
          "name": "stdout"
        }
      ]
    },
    {
      "cell_type": "code",
      "metadata": {
        "id": "zM_I8AkFErO-"
      },
      "source": [
        "person=person.fillna(value='Unspecified',subset=[\"PED_LOCATION\"])"
      ],
      "execution_count": null,
      "outputs": []
    },
    {
      "cell_type": "code",
      "metadata": {
        "colab": {
          "base_uri": "https://localhost:8080/"
        },
        "id": "SVFYvcLIEqSc",
        "outputId": "44fb07db-a6c9-4a73-f9fd-09db8ecd79c3"
      },
      "source": [
        "person.select(\"PED_ACTION\").distinct().show()"
      ],
      "execution_count": null,
      "outputs": [
        {
          "output_type": "stream",
          "text": [
            "+--------------------+\n",
            "|          PED_ACTION|\n",
            "+--------------------+\n",
            "|Pushing/Working o...|\n",
            "|      Not in Roadway|\n",
            "|Riding/Walking Al...|\n",
            "|Crossing, No Sign...|\n",
            "|      Does Not Apply|\n",
            "|                null|\n",
            "|Other Actions in ...|\n",
            "|             Unknown|\n",
            "|  Working in Roadway|\n",
            "|Getting On/Off Ve...|\n",
            "|Emerging from in ...|\n",
            "|  Playing in Roadway|\n",
            "|Crossing Against ...|\n",
            "|Crossing, No Sign...|\n",
            "|Going to/From Sto...|\n",
            "|Crossing With Signal|\n",
            "|Riding/Walking Al...|\n",
            "+--------------------+\n",
            "\n"
          ],
          "name": "stdout"
        }
      ]
    },
    {
      "cell_type": "code",
      "metadata": {
        "id": "CDwJ-SRoFCr8"
      },
      "source": [
        "person=person.fillna(value='Unspecified',subset=[\"PED_ACTION\"])"
      ],
      "execution_count": null,
      "outputs": []
    },
    {
      "cell_type": "code",
      "metadata": {
        "colab": {
          "base_uri": "https://localhost:8080/"
        },
        "id": "RCIq7Q8oFCjP",
        "outputId": "341d8f66-3f16-4a60-dee3-f277acb46c83"
      },
      "source": [
        "person.select(\"COMPLAINT\").distinct().show()"
      ],
      "execution_count": null,
      "outputs": [
        {
          "output_type": "stream",
          "text": [
            "+--------------------+\n",
            "|           COMPLAINT|\n",
            "+--------------------+\n",
            "|   Complaint of Pain|\n",
            "|          Minor Burn|\n",
            "|  Contusion - Bruise|\n",
            "|      Does Not Apply|\n",
            "|         Severe Burn|\n",
            "|                null|\n",
            "|      Minor Bleeding|\n",
            "|      Crush Injuries|\n",
            "|           Paralysis|\n",
            "|             Unknown|\n",
            "|            Abrasion|\n",
            "|Fracture - Disloc...|\n",
            "|        None Visible|\n",
            "|            Internal|\n",
            "|            Whiplash|\n",
            "|Fracture - Distor...|\n",
            "|          Concussion|\n",
            "|     Severe Bleeding|\n",
            "|  Severe Lacerations|\n",
            "|Complaint of Pain...|\n",
            "+--------------------+\n",
            "only showing top 20 rows\n",
            "\n"
          ],
          "name": "stdout"
        }
      ]
    },
    {
      "cell_type": "code",
      "metadata": {
        "id": "jZJxv_YUFOfZ"
      },
      "source": [
        "person=person.fillna(value='Unspecified',subset=[\"COMPLAINT\"])"
      ],
      "execution_count": null,
      "outputs": []
    },
    {
      "cell_type": "code",
      "metadata": {
        "colab": {
          "base_uri": "https://localhost:8080/"
        },
        "id": "l9M5U0zIFOWK",
        "outputId": "787a6de3-6283-4457-dc76-300a9bdb11cd"
      },
      "source": [
        "person.select(\"PED_ROLE\").distinct().show()"
      ],
      "execution_count": null,
      "outputs": [
        {
          "output_type": "stream",
          "text": [
            "+---------------+\n",
            "|       PED_ROLE|\n",
            "+---------------+\n",
            "|        Witness|\n",
            "|         Driver|\n",
            "|           null|\n",
            "|Notified Person|\n",
            "|  Policy Holder|\n",
            "|          Other|\n",
            "|      Passenger|\n",
            "|     Registrant|\n",
            "|     Pedestrian|\n",
            "|          Owner|\n",
            "| In-Line Skater|\n",
            "+---------------+\n",
            "\n"
          ],
          "name": "stdout"
        }
      ]
    },
    {
      "cell_type": "code",
      "metadata": {
        "id": "OC23NJmcFONQ"
      },
      "source": [
        "person=person.fillna(value='Unknown',subset=[\"PED_ROLE\"])"
      ],
      "execution_count": null,
      "outputs": []
    },
    {
      "cell_type": "code",
      "metadata": {
        "colab": {
          "base_uri": "https://localhost:8080/"
        },
        "id": "H3eAAGvJFsgV",
        "outputId": "366d88d8-1c3a-4d12-bb5b-87146ffb247b"
      },
      "source": [
        "person.select(\"CONTRIBUTING_FACTOR_1\").distinct().show(100)"
      ],
      "execution_count": null,
      "outputs": [
        {
          "output_type": "stream",
          "text": [
            "+---------------------+\n",
            "|CONTRIBUTING_FACTOR_1|\n",
            "+---------------------+\n",
            "| Following Too Clo...|\n",
            "| Traffic Control D...|\n",
            "| Driverless/Runawa...|\n",
            "| Windshield Inadeq...|\n",
            "| Using On Board Na...|\n",
            "|         Unsafe Speed|\n",
            "| Shoulders Defecti...|\n",
            "|       Tinted Windows|\n",
            "|    Oversized Vehicle|\n",
            "| Passing or Lane U...|\n",
            "| Lane Marking Impr...|\n",
            "| Other Lighting De...|\n",
            "|                 null|\n",
            "| Aggressive Drivin...|\n",
            "|      Other Vehicular|\n",
            "|  Driver Inexperience|\n",
            "|              Texting|\n",
            "|               Illnes|\n",
            "|      Drugs (illegal)|\n",
            "|          Unspecified|\n",
            "|   Pavement Defective|\n",
            "| Prescription Medi...|\n",
            "| View Obstructed/L...|\n",
            "|   Lost Consciousness|\n",
            "| Reaction to Uninv...|\n",
            "|          Fell Asleep|\n",
            "| Tire Failure/Inad...|\n",
            "| Outside Car Distr...|\n",
            "|      Fatigued/Drowsy|\n",
            "| Driver Inattentio...|\n",
            "| Cell Phone (hand-...|\n",
            "| Listening/Using H...|\n",
            "| Failure to Keep R...|\n",
            "|   Obstruction/Debris|\n",
            "| Unsafe Lane Changing|\n",
            "| Pedestrian/Bicycl...|\n",
            "| Passenger Distrac...|\n",
            "|  Alcohol Involvement|\n",
            "| Traffic Control D...|\n",
            "|     Backing Unsafely|\n",
            "|     Brakes Defective|\n",
            "|   Eating or Drinking|\n",
            "| Headlights Defective|\n",
            "| Failure to Yield ...|\n",
            "|       Animals Action|\n",
            "|   Turning Improperly|\n",
            "|                Glare|\n",
            "|     Steering Failure|\n",
            "|  Passing Too Closely|\n",
            "|    Vehicle Vandalism|\n",
            "|    Pavement Slippery|\n",
            "|  Physical Disability|\n",
            "| Other Electronic ...|\n",
            "| Cell Phone (hands...|\n",
            "+---------------------+\n",
            "\n"
          ],
          "name": "stdout"
        }
      ]
    },
    {
      "cell_type": "code",
      "metadata": {
        "id": "p0gDQJ2TFOCp"
      },
      "source": [
        "person=person.fillna(value='Unknown',subset=[\"CONTRIBUTING_FACTOR_1\"])"
      ],
      "execution_count": null,
      "outputs": []
    },
    {
      "cell_type": "code",
      "metadata": {
        "colab": {
          "base_uri": "https://localhost:8080/"
        },
        "id": "G97OCaaUFooo",
        "outputId": "bdf03b0e-498b-4a9d-8687-eb63e95183ba"
      },
      "source": [
        "person.select(\"CONTRIBUTING_FACTOR_2\").distinct().show(100)"
      ],
      "execution_count": null,
      "outputs": [
        {
          "output_type": "stream",
          "text": [
            "+---------------------+\n",
            "|CONTRIBUTING_FACTOR_2|\n",
            "+---------------------+\n",
            "| Following Too Clo...|\n",
            "| Traffic Control D...|\n",
            "| Driverless/Runawa...|\n",
            "| Accelerator Defec...|\n",
            "|         Unsafe Speed|\n",
            "|    Oversized Vehicle|\n",
            "| Passing or Lane U...|\n",
            "| Lane Marking Impr...|\n",
            "|                 null|\n",
            "| Aggressive Drivin...|\n",
            "|      Other Vehicular|\n",
            "|  Driver Inexperience|\n",
            "|              Texting|\n",
            "|               Illnes|\n",
            "|      Drugs (illegal)|\n",
            "|          Unspecified|\n",
            "|   Pavement Defective|\n",
            "| Prescription Medi...|\n",
            "| View Obstructed/L...|\n",
            "|   Lost Consciousness|\n",
            "| Reaction to Uninv...|\n",
            "|          Fell Asleep|\n",
            "| Tire Failure/Inad...|\n",
            "| Outside Car Distr...|\n",
            "|      Fatigued/Drowsy|\n",
            "| Driver Inattentio...|\n",
            "| Cell Phone (hand-...|\n",
            "| Listening/Using H...|\n",
            "| Failure to Keep R...|\n",
            "|   Obstruction/Debris|\n",
            "| Unsafe Lane Changing|\n",
            "| Pedestrian/Bicycl...|\n",
            "| Passenger Distrac...|\n",
            "|  Alcohol Involvement|\n",
            "| Traffic Control D...|\n",
            "|     Backing Unsafely|\n",
            "|     Brakes Defective|\n",
            "|   Eating or Drinking|\n",
            "| Failure to Yield ...|\n",
            "|       Animals Action|\n",
            "|                Glare|\n",
            "|   Turning Improperly|\n",
            "|  Passing Too Closely|\n",
            "|    Vehicle Vandalism|\n",
            "|    Pavement Slippery|\n",
            "|  Physical Disability|\n",
            "| Other Electronic ...|\n",
            "| Cell Phone (hands...|\n",
            "+---------------------+\n",
            "\n"
          ],
          "name": "stdout"
        }
      ]
    },
    {
      "cell_type": "code",
      "metadata": {
        "id": "V54C4yvAFolU"
      },
      "source": [
        "person=person.fillna(value='Unknown',subset=[\"CONTRIBUTING_FACTOR_2\"])"
      ],
      "execution_count": null,
      "outputs": []
    },
    {
      "cell_type": "code",
      "metadata": {
        "colab": {
          "base_uri": "https://localhost:8080/"
        },
        "id": "jqkmLXbpFojD",
        "outputId": "21a3399c-7129-4cb5-b9c4-f55e84e2f42c"
      },
      "source": [
        "#Change CRASH DATE from String to date\n",
        "from pyspark.sql.types import DataType\n",
        "from pyspark.sql.functions import to_date\n",
        "\n",
        "person = person.withColumn('CRASH_DATE', to_date(person[\"CRASH_DATE\"], 'MM/dd/yyyy'))\n",
        "person.printSchema()"
      ],
      "execution_count": null,
      "outputs": [
        {
          "output_type": "stream",
          "text": [
            "root\n",
            " |-- UNIQUE_ID: integer (nullable = true)\n",
            " |-- COLLISION_ID: integer (nullable = true)\n",
            " |-- CRASH_DATE: date (nullable = true)\n",
            " |-- CRASH_TIME: string (nullable = true)\n",
            " |-- PERSON_ID: string (nullable = true)\n",
            " |-- PERSON_TYPE: string (nullable = true)\n",
            " |-- PERSON_INJURY: string (nullable = true)\n",
            " |-- VEHICLE_ID: integer (nullable = true)\n",
            " |-- PERSON_AGE: integer (nullable = true)\n",
            " |-- EJECTION: string (nullable = true)\n",
            " |-- EMOTIONAL_STATUS: string (nullable = true)\n",
            " |-- BODILY_INJURY: string (nullable = true)\n",
            " |-- POSITION_IN_VEHICLE: string (nullable = true)\n",
            " |-- SAFETY_EQUIPMENT: string (nullable = true)\n",
            " |-- PED_LOCATION: string (nullable = true)\n",
            " |-- PED_ACTION: string (nullable = true)\n",
            " |-- COMPLAINT: string (nullable = true)\n",
            " |-- PED_ROLE: string (nullable = true)\n",
            " |-- CONTRIBUTING_FACTOR_1: string (nullable = true)\n",
            " |-- CONTRIBUTING_FACTOR_2: string (nullable = true)\n",
            " |-- PERSON_SEX: string (nullable = true)\n",
            "\n"
          ],
          "name": "stdout"
        }
      ]
    },
    {
      "cell_type": "code",
      "metadata": {
        "colab": {
          "base_uri": "https://localhost:8080/"
        },
        "id": "2GISxP5lFoaD",
        "outputId": "3caa3e37-a747-46cc-9ac1-a69070120a67"
      },
      "source": [
        "from pyspark.sql.functions import to_timestamp\n",
        "person = person.withColumn('CRASH_TIME', to_timestamp(person[\"CRASH_TIME\"], 'H:mm'))\n",
        "person.printSchema()"
      ],
      "execution_count": null,
      "outputs": [
        {
          "output_type": "stream",
          "text": [
            "root\n",
            " |-- UNIQUE_ID: integer (nullable = true)\n",
            " |-- COLLISION_ID: integer (nullable = true)\n",
            " |-- CRASH_DATE: date (nullable = true)\n",
            " |-- CRASH_TIME: timestamp (nullable = true)\n",
            " |-- PERSON_ID: string (nullable = true)\n",
            " |-- PERSON_TYPE: string (nullable = true)\n",
            " |-- PERSON_INJURY: string (nullable = true)\n",
            " |-- VEHICLE_ID: integer (nullable = true)\n",
            " |-- PERSON_AGE: integer (nullable = true)\n",
            " |-- EJECTION: string (nullable = true)\n",
            " |-- EMOTIONAL_STATUS: string (nullable = true)\n",
            " |-- BODILY_INJURY: string (nullable = true)\n",
            " |-- POSITION_IN_VEHICLE: string (nullable = true)\n",
            " |-- SAFETY_EQUIPMENT: string (nullable = true)\n",
            " |-- PED_LOCATION: string (nullable = true)\n",
            " |-- PED_ACTION: string (nullable = true)\n",
            " |-- COMPLAINT: string (nullable = true)\n",
            " |-- PED_ROLE: string (nullable = true)\n",
            " |-- CONTRIBUTING_FACTOR_1: string (nullable = true)\n",
            " |-- CONTRIBUTING_FACTOR_2: string (nullable = true)\n",
            " |-- PERSON_SEX: string (nullable = true)\n",
            "\n"
          ],
          "name": "stdout"
        }
      ]
    },
    {
      "cell_type": "code",
      "metadata": {
        "id": "Pr5LyymDFoTZ"
      },
      "source": [
        "from pyspark.sql.functions import date_format\n",
        "from pyspark.sql import functions as f\n",
        "person = person.withColumn('CRASH_TIME', f.date_format(\"CRASH_TIME\", 'HH:mm'))"
      ],
      "execution_count": null,
      "outputs": []
    },
    {
      "cell_type": "code",
      "metadata": {
        "colab": {
          "base_uri": "https://localhost:8080/"
        },
        "id": "cQR9FA-hFoLl",
        "outputId": "5ea6b25d-044a-4665-dfb2-9d86a11a487d"
      },
      "source": [
        "person.select(\"CRASH_TIME\").show(10)"
      ],
      "execution_count": null,
      "outputs": [
        {
          "output_type": "stream",
          "text": [
            "+----------+\n",
            "|CRASH_TIME|\n",
            "+----------+\n",
            "|     09:43|\n",
            "|     15:15|\n",
            "|     17:55|\n",
            "|     13:05|\n",
            "|     11:16|\n",
            "|     19:15|\n",
            "|     16:45|\n",
            "|     01:15|\n",
            "|     13:04|\n",
            "|     08:20|\n",
            "+----------+\n",
            "only showing top 10 rows\n",
            "\n"
          ],
          "name": "stdout"
        }
      ]
    },
    {
      "cell_type": "code",
      "metadata": {
        "colab": {
          "base_uri": "https://localhost:8080/"
        },
        "id": "5fYYqA1HFoEG",
        "outputId": "178b7008-4b7a-4a99-9aa2-70b830892ad3"
      },
      "source": [
        "person.select(\"CRASH_DATE\").show(10)"
      ],
      "execution_count": null,
      "outputs": [
        {
          "output_type": "stream",
          "text": [
            "+----------+\n",
            "|CRASH_DATE|\n",
            "+----------+\n",
            "|2019-10-26|\n",
            "|2019-10-25|\n",
            "|2019-10-26|\n",
            "|2016-11-21|\n",
            "|2019-10-25|\n",
            "|2019-10-24|\n",
            "|2019-10-26|\n",
            "|2019-10-26|\n",
            "|2019-10-26|\n",
            "|2019-10-24|\n",
            "+----------+\n",
            "only showing top 10 rows\n",
            "\n"
          ],
          "name": "stdout"
        }
      ]
    }
  ]
}