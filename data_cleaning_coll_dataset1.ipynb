{
  "nbformat": 4,
  "nbformat_minor": 0,
  "metadata": {
    "colab": {
      "name": "Copy of data_cleaning_coll.ipynb",
      "provenance": [],
      "collapsed_sections": [
        "VKysQ3WooIvG"
      ],
      "include_colab_link": true
    },
    "kernelspec": {
      "name": "python3",
      "display_name": "Python 3"
    },
    "language_info": {
      "name": "python"
    }
  },
  "cells": [
    {
      "cell_type": "markdown",
      "metadata": {
        "id": "view-in-github",
        "colab_type": "text"
      },
      "source": [
        "<a href=\"https://colab.research.google.com/github/Parv17k/nyc_collision_data_analysis/blob/main/data_cleaning_coll_dataset1.ipynb\" target=\"_parent\"><img src=\"https://colab.research.google.com/assets/colab-badge.svg\" alt=\"Open In Colab\"/></a>"
      ]
    },
    {
      "cell_type": "code",
      "metadata": {
        "id": "w6jTpg3YeRzl"
      },
      "source": [
        "!apt-get install openjdk-8-jdk-headless -qq > /dev/null"
      ],
      "execution_count": 160,
      "outputs": []
    },
    {
      "cell_type": "code",
      "metadata": {
        "id": "H0X6aSI8evek"
      },
      "source": [
        "!wget -q https://downloads.apache.org/spark/spark-3.1.1/spark-3.1.1-bin-hadoop2.7.tgz"
      ],
      "execution_count": 161,
      "outputs": []
    },
    {
      "cell_type": "code",
      "metadata": {
        "id": "1dwVFgcH7H2Z"
      },
      "source": [
        "!wget -O longlat.csv -q https://public.opendatasoft.com/explore/dataset/us-zip-code-latitude-and-longitude/download/?format=csv&timezone=America/New_York&lang=en&use_labels_for_header=true&csv_separator=%3B"
      ],
      "execution_count": 162,
      "outputs": []
    },
    {
      "cell_type": "code",
      "metadata": {
        "id": "kkohxcnCe9iQ",
        "colab": {
          "base_uri": "https://localhost:8080/"
        },
        "outputId": "96dec2be-a6a3-4e10-c015-e866a9362823"
      },
      "source": [
        "ls"
      ],
      "execution_count": 163,
      "outputs": [
        {
          "output_type": "stream",
          "text": [
            "col.csv                       \u001b[0m\u001b[01;34mspark-3.1.1-bin-hadoop2.7\u001b[0m/\n",
            "longlat.csv                   spark-3.1.1-bin-hadoop2.7.tgz\n",
            "ngrok-stable-linux-amd64.zip  spark-3.1.1-bin-hadoop2.7.tgz.1\n",
            "\u001b[01;34msample_data\u001b[0m/\n"
          ],
          "name": "stdout"
        }
      ]
    },
    {
      "cell_type": "code",
      "metadata": {
        "id": "qSVPom6zgD7I"
      },
      "source": [
        "!tar xf spark-3.1.1-bin-hadoop2.7.tgz"
      ],
      "execution_count": 164,
      "outputs": []
    },
    {
      "cell_type": "code",
      "metadata": {
        "id": "BAss6VLvgNAB"
      },
      "source": [
        "!pip install -q findspark"
      ],
      "execution_count": 165,
      "outputs": []
    },
    {
      "cell_type": "code",
      "metadata": {
        "id": "5QFpj19pgRvm"
      },
      "source": [
        "import os\n",
        "os.environ[\"JAVA_HOME\"] = \"/usr/lib/jvm/java-8-openjdk-amd64\"\n",
        "os.environ[\"SPARK_HOME\"] = \"/content/spark-3.1.1-bin-hadoop2.7\""
      ],
      "execution_count": 166,
      "outputs": []
    },
    {
      "cell_type": "code",
      "metadata": {
        "id": "qDgoozyCgmTh"
      },
      "source": [
        "import findspark\n",
        "findspark.init()"
      ],
      "execution_count": 167,
      "outputs": []
    },
    {
      "cell_type": "code",
      "metadata": {
        "id": "7ijcOHTqgp6Z"
      },
      "source": [
        "import findspark\n",
        "findspark.init()"
      ],
      "execution_count": 168,
      "outputs": []
    },
    {
      "cell_type": "code",
      "metadata": {
        "colab": {
          "base_uri": "https://localhost:8080/",
          "height": 36
        },
        "id": "oqUwg_nZgr-I",
        "outputId": "1a5d5a8d-0fb0-44cb-a34b-729ace9eb239"
      },
      "source": [
        "findspark.find()"
      ],
      "execution_count": 169,
      "outputs": [
        {
          "output_type": "execute_result",
          "data": {
            "application/vnd.google.colaboratory.intrinsic+json": {
              "type": "string"
            },
            "text/plain": [
              "'/content/spark-3.1.1-bin-hadoop2.7'"
            ]
          },
          "metadata": {
            "tags": []
          },
          "execution_count": 169
        }
      ]
    },
    {
      "cell_type": "code",
      "metadata": {
        "id": "85kD6PaGgubo"
      },
      "source": [
        "from pyspark.sql import SparkSession\n",
        "\n",
        "spark = SparkSession.builder\\\n",
        "        .master(\"local\")\\\n",
        "        .appName(\"Collision\")\\\n",
        "        .config('spark.ui.port', '4050')\\\n",
        "        .getOrCreate()"
      ],
      "execution_count": 170,
      "outputs": []
    },
    {
      "cell_type": "code",
      "metadata": {
        "colab": {
          "base_uri": "https://localhost:8080/"
        },
        "id": "rHGTcgdPgzO5",
        "outputId": "ed5584a1-097f-4033-d150-b5ef1bffde7c"
      },
      "source": [
        "!wget https://bin.equinox.io/c/4VmDzA7iaHb/ngrok-stable-linux-amd64.zip\n",
        "!unzip -y ngrok-stable-linux-amd64.zip\n",
        "get_ipython().system_raw('./ngrok http 4050 &')\n",
        "!curl -s http://localhost:4040/api/tunnels"
      ],
      "execution_count": 171,
      "outputs": [
        {
          "output_type": "stream",
          "text": [
            "--2021-03-31 15:07:57--  https://bin.equinox.io/c/4VmDzA7iaHb/ngrok-stable-linux-amd64.zip\n",
            "Resolving bin.equinox.io (bin.equinox.io)... 3.212.138.198, 3.222.240.112, 54.197.133.26, ...\n",
            "Connecting to bin.equinox.io (bin.equinox.io)|3.212.138.198|:443... connected.\n",
            "HTTP request sent, awaiting response... 200 OK\n",
            "Length: 14746350 (14M) [application/octet-stream]\n",
            "Saving to: ‘ngrok-stable-linux-amd64.zip.1’\n",
            "\n",
            "ngrok-stable-linux- 100%[===================>]  14.06M  52.4MB/s    in 0.3s    \n",
            "\n",
            "2021-03-31 15:07:57 (52.4 MB/s) - ‘ngrok-stable-linux-amd64.zip.1’ saved [14746350/14746350]\n",
            "\n",
            "UnZip 6.00 of 20 April 2009, by Debian. Original by Info-ZIP.\n",
            "\n",
            "Usage: unzip [-Z] [-opts[modifiers]] file[.zip] [list] [-x xlist] [-d exdir]\n",
            "  Default action is to extract files in list, except those in xlist, to exdir;\n",
            "  file[.zip] may be a wildcard.  -Z => ZipInfo mode (\"unzip -Z\" for usage).\n",
            "\n",
            "  -p  extract files to pipe, no messages     -l  list files (short format)\n",
            "  -f  freshen existing files, create none    -t  test compressed archive data\n",
            "  -u  update files, create if necessary      -z  display archive comment only\n",
            "  -v  list verbosely/show version info       -T  timestamp archive to latest\n",
            "  -x  exclude files that follow (in xlist)   -d  extract files into exdir\n",
            "modifiers:\n",
            "  -n  never overwrite existing files         -q  quiet mode (-qq => quieter)\n",
            "  -o  overwrite files WITHOUT prompting      -a  auto-convert any text files\n",
            "  -j  junk paths (do not make directories)   -aa treat ALL files as text\n",
            "  -U  use escapes for all non-ASCII Unicode  -UU ignore any Unicode fields\n",
            "  -C  match filenames case-insensitively     -L  make (some) names lowercase\n",
            "  -X  restore UID/GID info                   -V  retain VMS version numbers\n",
            "  -K  keep setuid/setgid/tacky permissions   -M  pipe through \"more\" pager\n",
            "  -O CHARSET  specify a character encoding for DOS, Windows and OS/2 archives\n",
            "  -I CHARSET  specify a character encoding for UNIX and other archives\n",
            "\n",
            "See \"unzip -hh\" or unzip.txt for more help.  Examples:\n",
            "  unzip data1 -x joe   => extract all files except joe from zipfile data1.zip\n",
            "  unzip -p foo | more  => send contents of foo.zip via pipe into program more\n",
            "  unzip -fo foo ReadMe => quietly replace existing ReadMe if archive file newer\n"
          ],
          "name": "stdout"
        }
      ]
    },
    {
      "cell_type": "code",
      "metadata": {
        "id": "VmC2Gt3zhUV-"
      },
      "source": [
        "!wget -q https://data.cityofnewyork.us/api/views/h9gi-nx95/rows.csv ##Data set download"
      ],
      "execution_count": 172,
      "outputs": []
    },
    {
      "cell_type": "code",
      "metadata": {
        "id": "PGqtOpKUid8k"
      },
      "source": [
        "mv rows.csv col.csv ## Linux cmd to rename."
      ],
      "execution_count": 173,
      "outputs": []
    },
    {
      "cell_type": "code",
      "metadata": {
        "colab": {
          "base_uri": "https://localhost:8080/"
        },
        "id": "YGRRsExXi_0O",
        "outputId": "63c4e814-46fc-401a-de09-a255d22ef0cf"
      },
      "source": [
        "ls"
      ],
      "execution_count": 174,
      "outputs": [
        {
          "output_type": "stream",
          "text": [
            "col.csv                         \u001b[0m\u001b[01;34msample_data\u001b[0m/\n",
            "longlat.csv                     \u001b[01;34mspark-3.1.1-bin-hadoop2.7\u001b[0m/\n",
            "ngrok-stable-linux-amd64.zip    spark-3.1.1-bin-hadoop2.7.tgz\n",
            "ngrok-stable-linux-amd64.zip.1  spark-3.1.1-bin-hadoop2.7.tgz.1\n"
          ],
          "name": "stdout"
        }
      ]
    },
    {
      "cell_type": "code",
      "metadata": {
        "id": "72QSXkXojrUD"
      },
      "source": [
        "from pyspark import SparkContext,SparkConf\n",
        "from pyspark.sql import SparkSession\n",
        "import pyspark\n",
        "conf = pyspark.SparkConf()\n",
        "conf.set(\"spark.driver.memory\",\"8G\");\n",
        "import numpy as np\n",
        "sc = SparkContext.getOrCreate(conf=conf)\n",
        "from pyspark.sql.functions import round, col\n"
      ],
      "execution_count": 175,
      "outputs": []
    },
    {
      "cell_type": "code",
      "metadata": {
        "id": "Rp7NvIACj4Hn"
      },
      "source": [
        "spark =SparkSession(sc)"
      ],
      "execution_count": 176,
      "outputs": []
    },
    {
      "cell_type": "code",
      "metadata": {
        "id": "sJCZa6g7j8_W"
      },
      "source": [
        "\n",
        "# Reading data from local repo. to pyspark.\n",
        "\n",
        "col=spark.read.option(\"header\",True).csv(\"./col.csv\",inferSchema=True) # data set 1.\n",
        "longlat=spark.read.option(\"delimiter\",\";\").csv(\"./longlat.csv\",inferSchema=True,header=True) #location. [Additional Dataset ]"
      ],
      "execution_count": 177,
      "outputs": []
    },
    {
      "cell_type": "code",
      "metadata": {
        "colab": {
          "base_uri": "https://localhost:8080/"
        },
        "id": "EAACJ7l-kBrS",
        "outputId": "82865932-a372-4a5e-b449-a4778f79ad41"
      },
      "source": [
        "col.count() - col.distinct().count() # I checked for Duplicate rows in our dataset."
      ],
      "execution_count": 178,
      "outputs": [
        {
          "output_type": "execute_result",
          "data": {
            "text/plain": [
              "0"
            ]
          },
          "metadata": {
            "tags": []
          },
          "execution_count": 178
        }
      ]
    },
    {
      "cell_type": "code",
      "metadata": {
        "colab": {
          "base_uri": "https://localhost:8080/"
        },
        "id": "qd3gJFzukGI7",
        "outputId": "42a2ce48-aeba-4e4e-a862-a0fa5f9009b2"
      },
      "source": [
        "len(col.columns) # how many columns do I have."
      ],
      "execution_count": 179,
      "outputs": [
        {
          "output_type": "execute_result",
          "data": {
            "text/plain": [
              "29"
            ]
          },
          "metadata": {
            "tags": []
          },
          "execution_count": 179
        }
      ]
    },
    {
      "cell_type": "code",
      "metadata": {
        "colab": {
          "base_uri": "https://localhost:8080/"
        },
        "id": "TKbsJ_f8kIWu",
        "outputId": "7d3ce1aa-a11e-405b-ee4b-4202e2086b13"
      },
      "source": [
        "col.printSchema() #Schema of my dataset. Issues with our columns types like NUMBER OF PERSONS INJURED: string and It should need to be Integer."
      ],
      "execution_count": 180,
      "outputs": [
        {
          "output_type": "stream",
          "text": [
            "root\n",
            " |-- CRASH DATE: string (nullable = true)\n",
            " |-- CRASH TIME: string (nullable = true)\n",
            " |-- BOROUGH: string (nullable = true)\n",
            " |-- ZIP CODE: string (nullable = true)\n",
            " |-- LATITUDE: double (nullable = true)\n",
            " |-- LONGITUDE: double (nullable = true)\n",
            " |-- LOCATION: string (nullable = true)\n",
            " |-- ON STREET NAME: string (nullable = true)\n",
            " |-- CROSS STREET NAME: string (nullable = true)\n",
            " |-- OFF STREET NAME: string (nullable = true)\n",
            " |-- NUMBER OF PERSONS INJURED: string (nullable = true)\n",
            " |-- NUMBER OF PERSONS KILLED: integer (nullable = true)\n",
            " |-- NUMBER OF PEDESTRIANS INJURED: integer (nullable = true)\n",
            " |-- NUMBER OF PEDESTRIANS KILLED: integer (nullable = true)\n",
            " |-- NUMBER OF CYCLIST INJURED: integer (nullable = true)\n",
            " |-- NUMBER OF CYCLIST KILLED: string (nullable = true)\n",
            " |-- NUMBER OF MOTORIST INJURED: string (nullable = true)\n",
            " |-- NUMBER OF MOTORIST KILLED: integer (nullable = true)\n",
            " |-- CONTRIBUTING FACTOR VEHICLE 1: string (nullable = true)\n",
            " |-- CONTRIBUTING FACTOR VEHICLE 2: string (nullable = true)\n",
            " |-- CONTRIBUTING FACTOR VEHICLE 3: string (nullable = true)\n",
            " |-- CONTRIBUTING FACTOR VEHICLE 4: string (nullable = true)\n",
            " |-- CONTRIBUTING FACTOR VEHICLE 5: string (nullable = true)\n",
            " |-- COLLISION_ID: integer (nullable = true)\n",
            " |-- VEHICLE TYPE CODE 1: string (nullable = true)\n",
            " |-- VEHICLE TYPE CODE 2: string (nullable = true)\n",
            " |-- VEHICLE TYPE CODE 3: string (nullable = true)\n",
            " |-- VEHICLE TYPE CODE 4: string (nullable = true)\n",
            " |-- VEHICLE TYPE CODE 5: string (nullable = true)\n",
            "\n"
          ],
          "name": "stdout"
        }
      ]
    },
    {
      "cell_type": "code",
      "metadata": {
        "id": "8tdfYdZF_7_d"
      },
      "source": [
        "from pyspark.sql.types import IntegerType\n",
        "\n",
        "col=col.withColumn(\"NUMBER OF PERSONS INJURED\", col[\"NUMBER OF PERSONS INJURED\"].cast(IntegerType()))\n",
        "col=col.withColumn(\"NUMBER OF CYCLIST KILLED\", col[\"NUMBER OF CYCLIST KILLED\"].cast(IntegerType()))\n",
        "col=col.withColumn(\"NUMBER OF MOTORIST INJURED\", col[\"NUMBER OF MOTORIST INJURED\"].cast(IntegerType()))\n",
        "\n",
        "# Correcting the column types to Integer which were previously of String types."
      ],
      "execution_count": 181,
      "outputs": []
    },
    {
      "cell_type": "code",
      "metadata": {
        "colab": {
          "base_uri": "https://localhost:8080/"
        },
        "id": "YIB6R_9cgHx5",
        "outputId": "c111f8cf-ab50-4e45-f212-2d2b820fdb65"
      },
      "source": [
        "col.printSchema() # checking if my schema is correct now ? Yes It is"
      ],
      "execution_count": 182,
      "outputs": [
        {
          "output_type": "stream",
          "text": [
            "root\n",
            " |-- CRASH DATE: string (nullable = true)\n",
            " |-- CRASH TIME: string (nullable = true)\n",
            " |-- BOROUGH: string (nullable = true)\n",
            " |-- ZIP CODE: string (nullable = true)\n",
            " |-- LATITUDE: double (nullable = true)\n",
            " |-- LONGITUDE: double (nullable = true)\n",
            " |-- LOCATION: string (nullable = true)\n",
            " |-- ON STREET NAME: string (nullable = true)\n",
            " |-- CROSS STREET NAME: string (nullable = true)\n",
            " |-- OFF STREET NAME: string (nullable = true)\n",
            " |-- NUMBER OF PERSONS INJURED: integer (nullable = true)\n",
            " |-- NUMBER OF PERSONS KILLED: integer (nullable = true)\n",
            " |-- NUMBER OF PEDESTRIANS INJURED: integer (nullable = true)\n",
            " |-- NUMBER OF PEDESTRIANS KILLED: integer (nullable = true)\n",
            " |-- NUMBER OF CYCLIST INJURED: integer (nullable = true)\n",
            " |-- NUMBER OF CYCLIST KILLED: integer (nullable = true)\n",
            " |-- NUMBER OF MOTORIST INJURED: integer (nullable = true)\n",
            " |-- NUMBER OF MOTORIST KILLED: integer (nullable = true)\n",
            " |-- CONTRIBUTING FACTOR VEHICLE 1: string (nullable = true)\n",
            " |-- CONTRIBUTING FACTOR VEHICLE 2: string (nullable = true)\n",
            " |-- CONTRIBUTING FACTOR VEHICLE 3: string (nullable = true)\n",
            " |-- CONTRIBUTING FACTOR VEHICLE 4: string (nullable = true)\n",
            " |-- CONTRIBUTING FACTOR VEHICLE 5: string (nullable = true)\n",
            " |-- COLLISION_ID: integer (nullable = true)\n",
            " |-- VEHICLE TYPE CODE 1: string (nullable = true)\n",
            " |-- VEHICLE TYPE CODE 2: string (nullable = true)\n",
            " |-- VEHICLE TYPE CODE 3: string (nullable = true)\n",
            " |-- VEHICLE TYPE CODE 4: string (nullable = true)\n",
            " |-- VEHICLE TYPE CODE 5: string (nullable = true)\n",
            "\n"
          ],
          "name": "stdout"
        }
      ]
    },
    {
      "cell_type": "code",
      "metadata": {
        "id": "hYm1cOESlNoj",
        "colab": {
          "base_uri": "https://localhost:8080/"
        },
        "outputId": "67ef7968-3226-40d0-e635-888c776694cf"
      },
      "source": [
        "col.select(\"CRASH DATE\").show(10)"
      ],
      "execution_count": 183,
      "outputs": [
        {
          "output_type": "stream",
          "text": [
            "+----------+\n",
            "|CRASH DATE|\n",
            "+----------+\n",
            "|10/15/2018|\n",
            "|11/01/2018|\n",
            "|10/23/2018|\n",
            "|11/03/2018|\n",
            "|10/15/2018|\n",
            "|11/03/2018|\n",
            "|11/04/2018|\n",
            "|10/19/2018|\n",
            "|10/12/2018|\n",
            "|10/27/2018|\n",
            "+----------+\n",
            "only showing top 10 rows\n",
            "\n"
          ],
          "name": "stdout"
        }
      ]
    },
    {
      "cell_type": "code",
      "metadata": {
        "id": "ISull6Z7mrji"
      },
      "source": [
        "#dropping columns with collision id = null"
      ],
      "execution_count": 184,
      "outputs": []
    },
    {
      "cell_type": "code",
      "metadata": {
        "colab": {
          "base_uri": "https://localhost:8080/"
        },
        "id": "bSxL1_cvn0EZ",
        "outputId": "4b71e9c9-d91c-4c8e-c650-8415edf0354c"
      },
      "source": [
        "col.filter(col.COLLISION_ID.isNull()).drop()"
      ],
      "execution_count": 185,
      "outputs": [
        {
          "output_type": "execute_result",
          "data": {
            "text/plain": [
              "DataFrame[CRASH DATE: string, CRASH TIME: string, BOROUGH: string, ZIP CODE: string, LATITUDE: double, LONGITUDE: double, LOCATION: string, ON STREET NAME: string, CROSS STREET NAME: string, OFF STREET NAME: string, NUMBER OF PERSONS INJURED: int, NUMBER OF PERSONS KILLED: int, NUMBER OF PEDESTRIANS INJURED: int, NUMBER OF PEDESTRIANS KILLED: int, NUMBER OF CYCLIST INJURED: int, NUMBER OF CYCLIST KILLED: int, NUMBER OF MOTORIST INJURED: int, NUMBER OF MOTORIST KILLED: int, CONTRIBUTING FACTOR VEHICLE 1: string, CONTRIBUTING FACTOR VEHICLE 2: string, CONTRIBUTING FACTOR VEHICLE 3: string, CONTRIBUTING FACTOR VEHICLE 4: string, CONTRIBUTING FACTOR VEHICLE 5: string, COLLISION_ID: int, VEHICLE TYPE CODE 1: string, VEHICLE TYPE CODE 2: string, VEHICLE TYPE CODE 3: string, VEHICLE TYPE CODE 4: string, VEHICLE TYPE CODE 5: string]"
            ]
          },
          "metadata": {
            "tags": []
          },
          "execution_count": 185
        }
      ]
    },
    {
      "cell_type": "code",
      "metadata": {
        "colab": {
          "base_uri": "https://localhost:8080/"
        },
        "id": "TiMX8EBZrRA3",
        "outputId": "a4495c35-2434-455c-8d3f-66fd771b6754"
      },
      "source": [
        "col.count()"
      ],
      "execution_count": 186,
      "outputs": [
        {
          "output_type": "execute_result",
          "data": {
            "text/plain": [
              "1766160"
            ]
          },
          "metadata": {
            "tags": []
          },
          "execution_count": 186
        }
      ]
    },
    {
      "cell_type": "code",
      "metadata": {
        "id": "0GDOxpvrpLeQ"
      },
      "source": [
        "missingLocation=col.filter(col[\"BOROUGH\"].isNull()).filter(col[\"ZIP CODE\"].isNull())"
      ],
      "execution_count": 187,
      "outputs": []
    },
    {
      "cell_type": "code",
      "metadata": {
        "id": "sAlRmhVbqwBN"
      },
      "source": [
        "cannotRetriveLocation = missingLocation.filter(col[\"LONGITUDE\"].isNull())"
      ],
      "execution_count": 188,
      "outputs": []
    },
    {
      "cell_type": "code",
      "metadata": {
        "colab": {
          "base_uri": "https://localhost:8080/"
        },
        "id": "ElF_74S_rZrn",
        "outputId": "e7185f5e-24a4-4c1a-ebc6-90467ad9fa37"
      },
      "source": [
        "col.count() ## removed the records for which we cannot retrive location at any cost."
      ],
      "execution_count": 189,
      "outputs": [
        {
          "output_type": "execute_result",
          "data": {
            "text/plain": [
              "1766160"
            ]
          },
          "metadata": {
            "tags": []
          },
          "execution_count": 189
        }
      ]
    },
    {
      "cell_type": "code",
      "metadata": {
        "id": "QQHrj52qtLtC"
      },
      "source": [
        "#Infer the schema, and register the DataFrame as a table.\n",
        "col.createOrReplaceTempView(\"col\");\n",
        "cannotRetriveLocation.createOrReplaceTempView(\"toDelete\")"
      ],
      "execution_count": 190,
      "outputs": []
    },
    {
      "cell_type": "code",
      "metadata": {
        "id": "q0F0_v-qtSXR"
      },
      "source": [
        "col=spark.sql(\"select * FROM col WHERE col.COLLISION_ID not in (select COLLISION_ID from toDelete where COLLISION_ID is not null)\");\n"
      ],
      "execution_count": 191,
      "outputs": []
    },
    {
      "cell_type": "code",
      "metadata": {
        "colab": {
          "base_uri": "https://localhost:8080/"
        },
        "id": "B-BsmtYWv5tG",
        "outputId": "b3551973-478e-4c80-f021-b5e3ac5adf07"
      },
      "source": [
        "col.count()"
      ],
      "execution_count": 192,
      "outputs": [
        {
          "output_type": "execute_result",
          "data": {
            "text/plain": [
              "1588740"
            ]
          },
          "metadata": {
            "tags": []
          },
          "execution_count": 192
        }
      ]
    },
    {
      "cell_type": "code",
      "metadata": {
        "colab": {
          "base_uri": "https://localhost:8080/"
        },
        "id": "I3m_pSBiwFnE",
        "outputId": "f7adc2e6-8329-410c-9d98-64d4924563ac"
      },
      "source": [
        "col.filter(col[\"ZIP CODE\"].isNull()).filter(col[\"BOROUGH\"].isNotNull()).count()"
      ],
      "execution_count": 193,
      "outputs": [
        {
          "output_type": "execute_result",
          "data": {
            "text/plain": [
              "211"
            ]
          },
          "metadata": {
            "tags": []
          },
          "execution_count": 193
        }
      ]
    },
    {
      "cell_type": "code",
      "metadata": {
        "id": "-g5FF39ew20d"
      },
      "source": [
        "BOROUGH=list(map(lambda x : x[\"BOROUGH\"],col.select(\"BOROUGH\").distinct().collect()))"
      ],
      "execution_count": 194,
      "outputs": []
    },
    {
      "cell_type": "code",
      "metadata": {
        "colab": {
          "base_uri": "https://localhost:8080/"
        },
        "id": "cb-Gc1mBna0o",
        "outputId": "7be790cc-a6b4-4fcf-bd57-bf835eb0c0e0"
      },
      "source": [
        "BOROUGH"
      ],
      "execution_count": 195,
      "outputs": [
        {
          "output_type": "execute_result",
          "data": {
            "text/plain": [
              "[None, 'QUEENS', 'BROOKLYN', 'BRONX', 'MANHATTAN', 'STATEN ISLAND']"
            ]
          },
          "metadata": {
            "tags": []
          },
          "execution_count": 195
        }
      ]
    },
    {
      "cell_type": "code",
      "metadata": {
        "colab": {
          "base_uri": "https://localhost:8080/"
        },
        "id": "QCmGVySL0Pzz",
        "outputId": "69978ce3-09da-472f-b495-cbfc801c898b"
      },
      "source": [
        "longlat.printSchema() # another data set"
      ],
      "execution_count": 196,
      "outputs": [
        {
          "output_type": "stream",
          "text": [
            "root\n",
            " |-- zip: integer (nullable = true)\n",
            " |-- city: string (nullable = true)\n",
            " |-- state: string (nullable = true)\n",
            " |-- latitude: double (nullable = true)\n",
            " |-- longitude: double (nullable = true)\n",
            " |-- timezone: integer (nullable = true)\n",
            " |-- dst: integer (nullable = true)\n",
            " |-- geopoint: string (nullable = true)\n",
            "\n"
          ],
          "name": "stdout"
        }
      ]
    },
    {
      "cell_type": "code",
      "metadata": {
        "id": "6PK36ll9ALs9"
      },
      "source": [
        "\n",
        "col.createOrReplaceTempView(\"col\");\n",
        "longlat.createOrReplaceTempView(\"longlat\");"
      ],
      "execution_count": 197,
      "outputs": []
    },
    {
      "cell_type": "markdown",
      "metadata": {
        "id": "TX8k20b8GcwL"
      },
      "source": [
        ""
      ]
    },
    {
      "cell_type": "code",
      "metadata": {
        "id": "kTxfGswTBHyx"
      },
      "source": [
        "missingZipCode=col.filter(col['ZIP CODE'].isNull());"
      ],
      "execution_count": 198,
      "outputs": []
    },
    {
      "cell_type": "code",
      "metadata": {
        "id": "3vxaG-lSBHbX"
      },
      "source": [
        ""
      ],
      "execution_count": 198,
      "outputs": []
    },
    {
      "cell_type": "code",
      "metadata": {
        "id": "dfA5oNasDcHY"
      },
      "source": [
        "missingZipCode.createOrReplaceTempView(\"missingZipCode\");\n"
      ],
      "execution_count": 199,
      "outputs": []
    },
    {
      "cell_type": "code",
      "metadata": {
        "id": "_tDVi773Pru-",
        "colab": {
          "base_uri": "https://localhost:8080/"
        },
        "outputId": "7d3e38b8-0e13-4e2a-8263-3af26907a60a"
      },
      "source": [
        "col.select(\"NUMBER OF CYCLIST INJURED\").distinct().show(); ## lets check."
      ],
      "execution_count": 200,
      "outputs": [
        {
          "output_type": "stream",
          "text": [
            "+-------------------------+\n",
            "|NUMBER OF CYCLIST INJURED|\n",
            "+-------------------------+\n",
            "|                        1|\n",
            "|                        3|\n",
            "|                        4|\n",
            "|                        2|\n",
            "|                        0|\n",
            "+-------------------------+\n",
            "\n"
          ],
          "name": "stdout"
        }
      ]
    },
    {
      "cell_type": "markdown",
      "metadata": {
        "id": "BKR1Qaolal01"
      },
      "source": [
        "NUMBER OF CYCLIST INJURED Is alredy cleaned."
      ]
    },
    {
      "cell_type": "code",
      "metadata": {
        "colab": {
          "base_uri": "https://localhost:8080/"
        },
        "id": "Oke_YOp3aqls",
        "outputId": "85b03358-53a8-4bff-9a3d-fd790911c9ff"
      },
      "source": [
        "col.select(\"NUMBER OF PERSONS INJURED\").distinct().show();"
      ],
      "execution_count": 201,
      "outputs": [
        {
          "output_type": "stream",
          "text": [
            "+-------------------------+\n",
            "|NUMBER OF PERSONS INJURED|\n",
            "+-------------------------+\n",
            "|                       31|\n",
            "|                       27|\n",
            "|                       12|\n",
            "|                       22|\n",
            "|                     null|\n",
            "|                        1|\n",
            "|                       13|\n",
            "|                        6|\n",
            "|                       16|\n",
            "|                        3|\n",
            "|                       20|\n",
            "|                        5|\n",
            "|                       19|\n",
            "|                       15|\n",
            "|                       43|\n",
            "|                        9|\n",
            "|                       17|\n",
            "|                        4|\n",
            "|                        8|\n",
            "|                        7|\n",
            "+-------------------------+\n",
            "only showing top 20 rows\n",
            "\n"
          ],
          "name": "stdout"
        }
      ]
    },
    {
      "cell_type": "markdown",
      "metadata": {
        "id": "VWIHtav3a5py"
      },
      "source": [
        "NUMBER OF PERSONS INJURED has Null value hence making it to Zero."
      ]
    },
    {
      "cell_type": "code",
      "metadata": {
        "id": "6YleZDuMa3oU"
      },
      "source": [
        "col=col.fillna(value=0,subset=[\"NUMBER OF PERSONS INJURED\"]) # clean null values to zero."
      ],
      "execution_count": 202,
      "outputs": []
    },
    {
      "cell_type": "markdown",
      "metadata": {
        "id": "Yi2lIcnqhMm9"
      },
      "source": [
        ""
      ]
    },
    {
      "cell_type": "code",
      "metadata": {
        "colab": {
          "base_uri": "https://localhost:8080/"
        },
        "id": "3os8QdmMcE_Q",
        "outputId": "0b25100a-45fa-4e22-95dc-76b8dfd4d40e"
      },
      "source": [
        "#NUMBER OF PERSONS KILLED\n",
        "print(col.select(\"NUMBER OF PERSONS KILLED\").distinct().show());"
      ],
      "execution_count": 203,
      "outputs": [
        {
          "output_type": "stream",
          "text": [
            "+------------------------+\n",
            "|NUMBER OF PERSONS KILLED|\n",
            "+------------------------+\n",
            "|                    null|\n",
            "|                       1|\n",
            "|                       3|\n",
            "|                       5|\n",
            "|                       4|\n",
            "|                       8|\n",
            "|                       2|\n",
            "|                       0|\n",
            "+------------------------+\n",
            "\n",
            "None\n"
          ],
          "name": "stdout"
        }
      ]
    },
    {
      "cell_type": "markdown",
      "metadata": {
        "id": "C3R5AX0Vh9FK"
      },
      "source": [
        "NUMBER OF PERSONS KILLED has NULL values : replacign them with 0.\n"
      ]
    },
    {
      "cell_type": "code",
      "metadata": {
        "id": "EfoX3vF6hxOb"
      },
      "source": [
        "col=col.fillna(value=0,subset=[\"NUMBER OF PERSONS KILLED\"])"
      ],
      "execution_count": 204,
      "outputs": []
    },
    {
      "cell_type": "code",
      "metadata": {
        "id": "7fJxvjC5iEdz",
        "colab": {
          "base_uri": "https://localhost:8080/"
        },
        "outputId": "83af97b8-16f5-4463-c27f-74dc48f297fc"
      },
      "source": [
        "print(col.select(\"NUMBER OF PEDESTRIANS INJURED\").distinct().show());"
      ],
      "execution_count": 205,
      "outputs": [
        {
          "output_type": "stream",
          "text": [
            "+-----------------------------+\n",
            "|NUMBER OF PEDESTRIANS INJURED|\n",
            "+-----------------------------+\n",
            "|                           27|\n",
            "|                            1|\n",
            "|                           13|\n",
            "|                            6|\n",
            "|                            3|\n",
            "|                            5|\n",
            "|                           15|\n",
            "|                            9|\n",
            "|                            4|\n",
            "|                            7|\n",
            "|                            2|\n",
            "|                            0|\n",
            "+-----------------------------+\n",
            "\n",
            "None\n"
          ],
          "name": "stdout"
        }
      ]
    },
    {
      "cell_type": "markdown",
      "metadata": {
        "id": "wcc_M6cjiOBa"
      },
      "source": [
        "NUMBER OF PEDESTRIANS INJURED has no null value"
      ]
    },
    {
      "cell_type": "code",
      "metadata": {
        "id": "5eJZP8eDiPui",
        "colab": {
          "base_uri": "https://localhost:8080/"
        },
        "outputId": "63105c51-525b-43f3-fb35-b200f5d5f0ce"
      },
      "source": [
        "#NUMBER OF PEDESTRIANS KILLED\n",
        "print(col.select(\"NUMBER OF PEDESTRIANS KILLED\").distinct().show());"
      ],
      "execution_count": 206,
      "outputs": [
        {
          "output_type": "stream",
          "text": [
            "+----------------------------+\n",
            "|NUMBER OF PEDESTRIANS KILLED|\n",
            "+----------------------------+\n",
            "|                           1|\n",
            "|                           6|\n",
            "|                           2|\n",
            "|                           0|\n",
            "+----------------------------+\n",
            "\n",
            "None\n"
          ],
          "name": "stdout"
        }
      ]
    },
    {
      "cell_type": "markdown",
      "metadata": {
        "id": "ZW3DJufWidXx"
      },
      "source": [
        "\n",
        "\n",
        "```\n",
        "NUMBER OF PEDESTRIANS KILLED has no null value\n",
        "```\n",
        "\n"
      ]
    },
    {
      "cell_type": "code",
      "metadata": {
        "id": "5Y7u0j2hik6r",
        "colab": {
          "base_uri": "https://localhost:8080/"
        },
        "outputId": "8449693a-093c-42e1-8f3a-716913661ec8"
      },
      "source": [
        "print(col.select(\"NUMBER OF CYCLIST INJURED\").distinct().show());"
      ],
      "execution_count": 207,
      "outputs": [
        {
          "output_type": "stream",
          "text": [
            "+-------------------------+\n",
            "|NUMBER OF CYCLIST INJURED|\n",
            "+-------------------------+\n",
            "|                        1|\n",
            "|                        3|\n",
            "|                        4|\n",
            "|                        2|\n",
            "|                        0|\n",
            "+-------------------------+\n",
            "\n",
            "None\n"
          ],
          "name": "stdout"
        }
      ]
    },
    {
      "cell_type": "markdown",
      "metadata": {
        "id": "BxzxmZyNiviy"
      },
      "source": [
        "NUMBER OF CYCLIST INJURED has no null value"
      ]
    },
    {
      "cell_type": "code",
      "metadata": {
        "id": "Il3UyBZ2iyua",
        "colab": {
          "base_uri": "https://localhost:8080/"
        },
        "outputId": "e2d3e01f-5fb3-4df4-bbae-c0e1dd36232d"
      },
      "source": [
        "print(col.select(\"NUMBER OF CYCLIST KILLED\").distinct().show());"
      ],
      "execution_count": 208,
      "outputs": [
        {
          "output_type": "stream",
          "text": [
            "+------------------------+\n",
            "|NUMBER OF CYCLIST KILLED|\n",
            "+------------------------+\n",
            "|                       1|\n",
            "|                       2|\n",
            "|                       0|\n",
            "+------------------------+\n",
            "\n",
            "None\n"
          ],
          "name": "stdout"
        }
      ]
    },
    {
      "cell_type": "code",
      "metadata": {
        "id": "2EsFBEkMi8Ci"
      },
      "source": [
        ""
      ],
      "execution_count": 208,
      "outputs": []
    },
    {
      "cell_type": "markdown",
      "metadata": {
        "id": "Ew2Xe-rGi9-z"
      },
      "source": [
        "NUMBER OF CYCLIST KILLED has no null value"
      ]
    },
    {
      "cell_type": "code",
      "metadata": {
        "id": "8N4O4-GXjDJX",
        "colab": {
          "base_uri": "https://localhost:8080/"
        },
        "outputId": "640ecf11-6807-42fe-bb1d-1dd5a61c6870"
      },
      "source": [
        "#NUMBER OF MOTORIST INJURED\n",
        "print(col.select(\"NUMBER OF MOTORIST INJURED\").distinct().show(100));"
      ],
      "execution_count": 209,
      "outputs": [
        {
          "output_type": "stream",
          "text": [
            "+--------------------------+\n",
            "|NUMBER OF MOTORIST INJURED|\n",
            "+--------------------------+\n",
            "|                        31|\n",
            "|                        12|\n",
            "|                        22|\n",
            "|                         1|\n",
            "|                        13|\n",
            "|                         6|\n",
            "|                        16|\n",
            "|                         3|\n",
            "|                        20|\n",
            "|                         5|\n",
            "|                        19|\n",
            "|                        15|\n",
            "|                        43|\n",
            "|                         9|\n",
            "|                        17|\n",
            "|                         4|\n",
            "|                         8|\n",
            "|                         7|\n",
            "|                        10|\n",
            "|                        24|\n",
            "|                        21|\n",
            "|                        11|\n",
            "|                        14|\n",
            "|                         2|\n",
            "|                        30|\n",
            "|                         0|\n",
            "|                        18|\n",
            "+--------------------------+\n",
            "\n",
            "None\n"
          ],
          "name": "stdout"
        }
      ]
    },
    {
      "cell_type": "markdown",
      "metadata": {
        "id": "THCAUEDEjWZe"
      },
      "source": [
        "NUMBER OF MOTORIST INJURED has no null value"
      ]
    },
    {
      "cell_type": "code",
      "metadata": {
        "id": "RU2FnrQojLcn",
        "colab": {
          "base_uri": "https://localhost:8080/"
        },
        "outputId": "acac5f13-eab4-4300-80bb-8198e5ecc8f4"
      },
      "source": [
        "#NUMBER OF MOTORIST INJURED\n",
        "print(col.select(\"NUMBER OF MOTORIST KILLED\").distinct().show(100));"
      ],
      "execution_count": 210,
      "outputs": [
        {
          "output_type": "stream",
          "text": [
            "+-------------------------+\n",
            "|NUMBER OF MOTORIST KILLED|\n",
            "+-------------------------+\n",
            "|                        1|\n",
            "|                        3|\n",
            "|                        5|\n",
            "|                        4|\n",
            "|                        2|\n",
            "|                        0|\n",
            "+-------------------------+\n",
            "\n",
            "None\n"
          ],
          "name": "stdout"
        }
      ]
    },
    {
      "cell_type": "code",
      "metadata": {
        "id": "JzAqJZvbjdrL"
      },
      "source": [
        ""
      ],
      "execution_count": 210,
      "outputs": []
    },
    {
      "cell_type": "markdown",
      "metadata": {
        "id": "wYiUDENKjfnc"
      },
      "source": [
        "NUMBER OF MOTORIST INJURED has no null value"
      ]
    },
    {
      "cell_type": "code",
      "metadata": {
        "colab": {
          "base_uri": "https://localhost:8080/"
        },
        "id": "0Nfqmb9TjgYM",
        "outputId": "5fea0db6-c1ec-4a46-8c47-745c91b7839a"
      },
      "source": [
        "#CONTRIBUTING FACTOR VEHICLE\n",
        "print(col.select(\"CONTRIBUTING FACTOR VEHICLE 1\").distinct().show(70));\n",
        "\n",
        "# has numerical values 1 and 80\n",
        "# has null value.\n"
      ],
      "execution_count": 211,
      "outputs": [
        {
          "output_type": "stream",
          "text": [
            "+-----------------------------+\n",
            "|CONTRIBUTING FACTOR VEHICLE 1|\n",
            "+-----------------------------+\n",
            "|         Following Too Clo...|\n",
            "|         Traffic Control D...|\n",
            "|         Accelerator Defec...|\n",
            "|         Driverless/Runawa...|\n",
            "|         Windshield Inadeq...|\n",
            "|         Using On Board Na...|\n",
            "|                 Unsafe Speed|\n",
            "|         Shoulders Defecti...|\n",
            "|               Tinted Windows|\n",
            "|            Oversized Vehicle|\n",
            "|         Passing or Lane U...|\n",
            "|         Lane Marking Impr...|\n",
            "|         Other Lighting De...|\n",
            "|         Aggressive Drivin...|\n",
            "|                         null|\n",
            "|              Other Vehicular|\n",
            "|          Driver Inexperience|\n",
            "|                      Texting|\n",
            "|          Tow Hitch Defective|\n",
            "|                       Illnes|\n",
            "|              Drugs (illegal)|\n",
            "|                  Unspecified|\n",
            "|           Pavement Defective|\n",
            "|         Prescription Medi...|\n",
            "|         Cell Phone (hand-...|\n",
            "|         View Obstructed/L...|\n",
            "|           Lost Consciousness|\n",
            "|         Reaction to Other...|\n",
            "|         Reaction to Uninv...|\n",
            "|                  Fell Asleep|\n",
            "|         Tire Failure/Inad...|\n",
            "|         Outside Car Distr...|\n",
            "|              Drugs (Illegal)|\n",
            "|              Fatigued/Drowsy|\n",
            "|         Driver Inattentio...|\n",
            "|         Cell Phone (hand-...|\n",
            "|         Listening/Using H...|\n",
            "|         Failure to Keep R...|\n",
            "|           Obstruction/Debris|\n",
            "|         Unsafe Lane Changing|\n",
            "|         Pedestrian/Bicycl...|\n",
            "|         Passenger Distrac...|\n",
            "|          Alcohol Involvement|\n",
            "|                            1|\n",
            "|                      Illness|\n",
            "|         Traffic Control D...|\n",
            "|             Backing Unsafely|\n",
            "|             Brakes Defective|\n",
            "|           Eating or Drinking|\n",
            "|         Headlights Defective|\n",
            "|         Failure to Yield ...|\n",
            "|               Animals Action|\n",
            "|           Turning Improperly|\n",
            "|                        Glare|\n",
            "|             Steering Failure|\n",
            "|          Passing Too Closely|\n",
            "|            Vehicle Vandalism|\n",
            "|            Pavement Slippery|\n",
            "|          Physical Disability|\n",
            "|                           80|\n",
            "|         Other Electronic ...|\n",
            "|         Cell Phone (hands...|\n",
            "+-----------------------------+\n",
            "\n",
            "None\n"
          ],
          "name": "stdout"
        }
      ]
    },
    {
      "cell_type": "code",
      "metadata": {
        "colab": {
          "base_uri": "https://localhost:8080/"
        },
        "id": "yv1mQy2rmjh4",
        "outputId": "a5954535-f50f-4465-ec0f-3798ab587a9b"
      },
      "source": [
        "#CONTRIBUTING FACTOR VEHICLE\n",
        "print(col.select(\"CONTRIBUTING FACTOR VEHICLE 2\").distinct().show(100));\n",
        "\n",
        "# has numerical values 1 and 80.\n",
        "# has null value.\n"
      ],
      "execution_count": 212,
      "outputs": [
        {
          "output_type": "stream",
          "text": [
            "+-----------------------------+\n",
            "|CONTRIBUTING FACTOR VEHICLE 2|\n",
            "+-----------------------------+\n",
            "|         Following Too Clo...|\n",
            "|         Traffic Control D...|\n",
            "|         Driverless/Runawa...|\n",
            "|         Accelerator Defec...|\n",
            "|         Windshield Inadeq...|\n",
            "|         Using On Board Na...|\n",
            "|                 Unsafe Speed|\n",
            "|         Shoulders Defecti...|\n",
            "|               Tinted Windows|\n",
            "|            Oversized Vehicle|\n",
            "|         Passing or Lane U...|\n",
            "|         Lane Marking Impr...|\n",
            "|         Other Lighting De...|\n",
            "|                         null|\n",
            "|         Aggressive Drivin...|\n",
            "|              Other Vehicular|\n",
            "|          Driver Inexperience|\n",
            "|          Tow Hitch Defective|\n",
            "|                      Texting|\n",
            "|                       Illnes|\n",
            "|              Drugs (illegal)|\n",
            "|                  Unspecified|\n",
            "|           Pavement Defective|\n",
            "|         Prescription Medi...|\n",
            "|         Cell Phone (hand-...|\n",
            "|         View Obstructed/L...|\n",
            "|           Lost Consciousness|\n",
            "|         Reaction to Other...|\n",
            "|         Reaction to Uninv...|\n",
            "|                  Fell Asleep|\n",
            "|         Tire Failure/Inad...|\n",
            "|         Outside Car Distr...|\n",
            "|              Drugs (Illegal)|\n",
            "|              Fatigued/Drowsy|\n",
            "|         Driver Inattentio...|\n",
            "|         Cell Phone (hand-...|\n",
            "|         Listening/Using H...|\n",
            "|         Failure to Keep R...|\n",
            "|           Obstruction/Debris|\n",
            "|         Unsafe Lane Changing|\n",
            "|         Pedestrian/Bicycl...|\n",
            "|         Passenger Distrac...|\n",
            "|          Alcohol Involvement|\n",
            "|                            1|\n",
            "|                      Illness|\n",
            "|         Traffic Control D...|\n",
            "|             Backing Unsafely|\n",
            "|             Brakes Defective|\n",
            "|           Eating or Drinking|\n",
            "|         Headlights Defective|\n",
            "|         Failure to Yield ...|\n",
            "|               Animals Action|\n",
            "|           Turning Improperly|\n",
            "|                        Glare|\n",
            "|             Steering Failure|\n",
            "|          Passing Too Closely|\n",
            "|            Vehicle Vandalism|\n",
            "|            Pavement Slippery|\n",
            "|          Physical Disability|\n",
            "|                           80|\n",
            "|         Other Electronic ...|\n",
            "|         Cell Phone (hands...|\n",
            "+-----------------------------+\n",
            "\n",
            "None\n"
          ],
          "name": "stdout"
        }
      ]
    },
    {
      "cell_type": "code",
      "metadata": {
        "id": "UeqFgJDbnbLc",
        "colab": {
          "base_uri": "https://localhost:8080/"
        },
        "outputId": "a21c8b78-3dab-4318-9e87-eafc2535fe30"
      },
      "source": [
        "#CONTRIBUTING FACTOR VEHICLE\n",
        "print(col.select(\"CONTRIBUTING FACTOR VEHICLE 3\").distinct().show(100));\n",
        "\n",
        "# has numerical values 1 and 80.\n",
        "# has null value."
      ],
      "execution_count": 213,
      "outputs": [
        {
          "output_type": "stream",
          "text": [
            "+-----------------------------+\n",
            "|CONTRIBUTING FACTOR VEHICLE 3|\n",
            "+-----------------------------+\n",
            "|         Following Too Clo...|\n",
            "|         Traffic Control D...|\n",
            "|         Driverless/Runawa...|\n",
            "|         Accelerator Defec...|\n",
            "|                 Unsafe Speed|\n",
            "|               Tinted Windows|\n",
            "|            Oversized Vehicle|\n",
            "|         Passing or Lane U...|\n",
            "|         Lane Marking Impr...|\n",
            "|                         null|\n",
            "|         Aggressive Drivin...|\n",
            "|              Other Vehicular|\n",
            "|          Driver Inexperience|\n",
            "|                       Illnes|\n",
            "|              Drugs (illegal)|\n",
            "|                  Unspecified|\n",
            "|           Pavement Defective|\n",
            "|         Prescription Medi...|\n",
            "|         View Obstructed/L...|\n",
            "|           Lost Consciousness|\n",
            "|         Reaction to Other...|\n",
            "|         Reaction to Uninv...|\n",
            "|                  Fell Asleep|\n",
            "|         Tire Failure/Inad...|\n",
            "|         Outside Car Distr...|\n",
            "|              Drugs (Illegal)|\n",
            "|              Fatigued/Drowsy|\n",
            "|         Driver Inattentio...|\n",
            "|         Cell Phone (hand-...|\n",
            "|         Failure to Keep R...|\n",
            "|           Obstruction/Debris|\n",
            "|         Unsafe Lane Changing|\n",
            "|         Pedestrian/Bicycl...|\n",
            "|         Passenger Distrac...|\n",
            "|          Alcohol Involvement|\n",
            "|                            1|\n",
            "|                      Illness|\n",
            "|         Traffic Control D...|\n",
            "|             Brakes Defective|\n",
            "|             Backing Unsafely|\n",
            "|         Failure to Yield ...|\n",
            "|               Animals Action|\n",
            "|           Turning Improperly|\n",
            "|             Steering Failure|\n",
            "|                        Glare|\n",
            "|          Passing Too Closely|\n",
            "|            Pavement Slippery|\n",
            "|          Physical Disability|\n",
            "|                           80|\n",
            "|         Other Electronic ...|\n",
            "|         Cell Phone (hands...|\n",
            "+-----------------------------+\n",
            "\n",
            "None\n"
          ],
          "name": "stdout"
        }
      ]
    },
    {
      "cell_type": "code",
      "metadata": {
        "colab": {
          "base_uri": "https://localhost:8080/"
        },
        "id": "G5nOTYmvnneL",
        "outputId": "bccac53f-bfb5-4dcc-80cf-a43c8473cbbe"
      },
      "source": [
        "#CONTRIBUTING FACTOR VEHICLE\n",
        "print(col.select(\"CONTRIBUTING FACTOR VEHICLE 4\").distinct().show(100));\n",
        "# has null value."
      ],
      "execution_count": 214,
      "outputs": [
        {
          "output_type": "stream",
          "text": [
            "+-----------------------------+\n",
            "|CONTRIBUTING FACTOR VEHICLE 4|\n",
            "+-----------------------------+\n",
            "|         Following Too Clo...|\n",
            "|         Traffic Control D...|\n",
            "|         Accelerator Defec...|\n",
            "|         Driverless/Runawa...|\n",
            "|         Windshield Inadeq...|\n",
            "|                 Unsafe Speed|\n",
            "|         Passing or Lane U...|\n",
            "|                         null|\n",
            "|         Aggressive Drivin...|\n",
            "|              Other Vehicular|\n",
            "|          Driver Inexperience|\n",
            "|              Drugs (illegal)|\n",
            "|                  Unspecified|\n",
            "|           Pavement Defective|\n",
            "|         Prescription Medi...|\n",
            "|         View Obstructed/L...|\n",
            "|           Lost Consciousness|\n",
            "|         Reaction to Uninv...|\n",
            "|                  Fell Asleep|\n",
            "|         Outside Car Distr...|\n",
            "|              Drugs (Illegal)|\n",
            "|              Fatigued/Drowsy|\n",
            "|         Driver Inattentio...|\n",
            "|         Failure to Keep R...|\n",
            "|           Obstruction/Debris|\n",
            "|         Unsafe Lane Changing|\n",
            "|          Alcohol Involvement|\n",
            "|                      Illness|\n",
            "|         Traffic Control D...|\n",
            "|             Backing Unsafely|\n",
            "|             Brakes Defective|\n",
            "|         Failure to Yield ...|\n",
            "|               Animals Action|\n",
            "|             Steering Failure|\n",
            "|           Turning Improperly|\n",
            "|                        Glare|\n",
            "|          Passing Too Closely|\n",
            "|            Pavement Slippery|\n",
            "|          Physical Disability|\n",
            "|         Other Electronic ...|\n",
            "+-----------------------------+\n",
            "\n",
            "None\n"
          ],
          "name": "stdout"
        }
      ]
    },
    {
      "cell_type": "code",
      "metadata": {
        "colab": {
          "base_uri": "https://localhost:8080/"
        },
        "id": "pt8kCCdqlnIB",
        "outputId": "7f98212e-5c73-42f4-bd31-b4e88700c7f3"
      },
      "source": [
        "print(col.select(\"CONTRIBUTING FACTOR VEHICLE 5\").distinct().show(30));\n",
        "# has null values"
      ],
      "execution_count": 215,
      "outputs": [
        {
          "output_type": "stream",
          "text": [
            "+-----------------------------+\n",
            "|CONTRIBUTING FACTOR VEHICLE 5|\n",
            "+-----------------------------+\n",
            "|         Following Too Clo...|\n",
            "|         Traffic Control D...|\n",
            "|                 Unsafe Speed|\n",
            "|         Passing or Lane U...|\n",
            "|                         null|\n",
            "|         Aggressive Drivin...|\n",
            "|              Other Vehicular|\n",
            "|          Driver Inexperience|\n",
            "|              Drugs (illegal)|\n",
            "|                  Unspecified|\n",
            "|           Pavement Defective|\n",
            "|         Reaction to Uninv...|\n",
            "|                  Fell Asleep|\n",
            "|         Tire Failure/Inad...|\n",
            "|         Outside Car Distr...|\n",
            "|              Fatigued/Drowsy|\n",
            "|         Driver Inattentio...|\n",
            "|         Failure to Keep R...|\n",
            "|           Obstruction/Debris|\n",
            "|          Alcohol Involvement|\n",
            "|                      Illness|\n",
            "|         Traffic Control D...|\n",
            "|             Brakes Defective|\n",
            "|             Backing Unsafely|\n",
            "|         Failure to Yield ...|\n",
            "|             Steering Failure|\n",
            "|                        Glare|\n",
            "|          Passing Too Closely|\n",
            "|            Pavement Slippery|\n",
            "|         Other Electronic ...|\n",
            "+-----------------------------+\n",
            "\n",
            "None\n"
          ],
          "name": "stdout"
        }
      ]
    },
    {
      "cell_type": "code",
      "metadata": {
        "colab": {
          "base_uri": "https://localhost:8080/"
        },
        "id": "XJvithwG20mf",
        "outputId": "156526d4-88ce-4d31-9363-c9376e666195"
      },
      "source": [
        "col.count()"
      ],
      "execution_count": 216,
      "outputs": [
        {
          "output_type": "execute_result",
          "data": {
            "text/plain": [
              "1588740"
            ]
          },
          "metadata": {
            "tags": []
          },
          "execution_count": 216
        }
      ]
    },
    {
      "cell_type": "code",
      "metadata": {
        "id": "Mf_VcL97Fyy-"
      },
      "source": [
        "## Setting all null values to Unknown \n",
        "col=col.fillna(value=\"Unknown\",subset=[\"CONTRIBUTING FACTOR VEHICLE 1\",\"CONTRIBUTING FACTOR VEHICLE 2\",\"CONTRIBUTING FACTOR VEHICLE 3\",\"CONTRIBUTING FACTOR VEHICLE 4\",\"CONTRIBUTING FACTOR VEHICLE 5\"])"
      ],
      "execution_count": 217,
      "outputs": []
    },
    {
      "cell_type": "code",
      "metadata": {
        "colab": {
          "base_uri": "https://localhost:8080/"
        },
        "id": "LWSphU64OegZ",
        "outputId": "f6717953-dc94-40b1-e834-4abac8581cc2"
      },
      "source": [
        "## Checking what values in VEHICLE TYPE CODE need to be cleaned\n",
        "print(col.select(\"VEHICLE TYPE CODE 1\",\"VEHICLE TYPE CODE 2\",\"VEHICLE TYPE CODE 3\",\"VEHICLE TYPE CODE 4\",\"VEHICLE TYPE CODE 5\").distinct().show(30));\n"
      ],
      "execution_count": 218,
      "outputs": [
        {
          "output_type": "stream",
          "text": [
            "+--------------------+--------------------+--------------------+--------------------+--------------------+\n",
            "| VEHICLE TYPE CODE 1| VEHICLE TYPE CODE 2| VEHICLE TYPE CODE 3| VEHICLE TYPE CODE 4| VEHICLE TYPE CODE 5|\n",
            "+--------------------+--------------------+--------------------+--------------------+--------------------+\n",
            "|            Flat Bed|                 Bus|                null|                null|                null|\n",
            "|       Pick-up Truck|       Pick-up Truck|               Sedan|                null|                null|\n",
            "|         Chassis Cab|Station Wagon/Spo...|               Sedan|                null|                null|\n",
            "|               Sedan|         Convertible|         Convertible|                null|                null|\n",
            "|               Sedan|               MOPED|                null|                null|                null|\n",
            "|             UNKNOWN|             UNKNOWN|                null|                null|                null|\n",
            "|               trail|                null|                null|                null|                null|\n",
            "|               CONVE|                null|                null|                null|                null|\n",
            "|           Box Truck|Station Wagon/Spo...|          Motorcycle|               Sedan|Station Wagon/Spo...|\n",
            "|           Lift Boom|           Box Truck|                null|                null|                null|\n",
            "|          SKID LOADE|Station Wagon/Spo...|                null|                null|                null|\n",
            "|             TRAILER|       Pick-up Truck|                null|                null|                null|\n",
            "|                LIMO|          GAS SCOOTE|                null|                null|                null|\n",
            "|                LIMO|         Convertible|                null|                null|                null|\n",
            "|          Dump truck|               Sedan|                null|                null|                null|\n",
            "|               WAGON|               Sedan|                null|                null|                null|\n",
            "|                 van|Tractor Truck Diesel|                null|                null|                null|\n",
            "|Station Wagon/Spo...|Station Wagon/Spo...|Station Wagon/Spo...|          FLATBED TR|                null|\n",
            "|Station Wagon/Spo...|       Pick-up Truck|                Taxi|Station Wagon/Spo...|                null|\n",
            "|               Sedan|               crane|                null|                null|                null|\n",
            "|                 Bus|Station Wagon/Spo...|Station Wagon/Spo...|Station Wagon/Spo...|                null|\n",
            "|           Box Truck|               Sedan|               Sedan|                Taxi|                null|\n",
            "|Tractor Truck Gas...|Station Wagon/Spo...|Station Wagon/Spo...|Station Wagon/Spo...|               Sedan|\n",
            "|                Taxi|               TRACT|                null|                null|                null|\n",
            "|               Sedan|                Pick|                null|                null|                null|\n",
            "|         Convertible| Tow Truck / Wrecker|                null|                null|                null|\n",
            "|          Motorcycle|       Pick-up Truck|Station Wagon/Spo...|                null|                null|\n",
            "|               Sedan|                LIFT|                null|                null|                null|\n",
            "|Station Wagon/Spo...|               USPOS|                null|                null|                null|\n",
            "|                 Bus|                Taxi|               Sedan|                null|                null|\n",
            "+--------------------+--------------------+--------------------+--------------------+--------------------+\n",
            "only showing top 30 rows\n",
            "\n",
            "None\n"
          ],
          "name": "stdout"
        }
      ]
    },
    {
      "cell_type": "code",
      "metadata": {
        "id": "6_jJBGyiChKZ"
      },
      "source": [
        "## Setting null values for vehicle type to unknown\n",
        "col=col.fillna(value=\"Unknown\",subset=[\"VEHICLE TYPE CODE 1\",\"VEHICLE TYPE CODE 2\",\"VEHICLE TYPE CODE 3\",\"VEHICLE TYPE CODE 4\",\"VEHICLE TYPE CODE 5\"])"
      ],
      "execution_count": 219,
      "outputs": []
    },
    {
      "cell_type": "code",
      "metadata": {
        "colab": {
          "base_uri": "https://localhost:8080/"
        },
        "id": "lpcuHmVLU0T6",
        "outputId": "08bd56bf-8c02-4772-b760-6dad0b04ca7b"
      },
      "source": [
        "## Checking if the values were correctly changed\n",
        "print(col.select(\"VEHICLE TYPE CODE 1\",\"VEHICLE TYPE CODE 2\",\"VEHICLE TYPE CODE 3\",\"VEHICLE TYPE CODE 4\",\"VEHICLE TYPE CODE 5\").distinct().show(30));"
      ],
      "execution_count": 220,
      "outputs": [
        {
          "output_type": "stream",
          "text": [
            "+--------------------+--------------------+--------------------+--------------------+--------------------+\n",
            "| VEHICLE TYPE CODE 1| VEHICLE TYPE CODE 2| VEHICLE TYPE CODE 3| VEHICLE TYPE CODE 4| VEHICLE TYPE CODE 5|\n",
            "+--------------------+--------------------+--------------------+--------------------+--------------------+\n",
            "|               Sedan|               utili|             Unknown|             Unknown|             Unknown|\n",
            "|                 van|             Unknown|             Unknown|             Unknown|             Unknown|\n",
            "|                Taxi|       Pick-up Truck|                Taxi|             Unknown|             Unknown|\n",
            "|                 van|Station Wagon/Spo...|             Unknown|             Unknown|             Unknown|\n",
            "|               Sedan|Multi-Wheeled Veh...|             Unknown|             Unknown|             Unknown|\n",
            "|                DELV|               Sedan|             Unknown|             Unknown|             Unknown|\n",
            "|           Box Truck|Station Wagon/Spo...|          Motorcycle|               Sedan|Station Wagon/Spo...|\n",
            "|           Carry All|           Carry All|           Carry All|             Unknown|             Unknown|\n",
            "|                 Bus|               Sedan|Tractor Truck Diesel|             Unknown|             Unknown|\n",
            "|       Pick-up Truck|               Sedan|                 Bus|             Unknown|             Unknown|\n",
            "|                  PK|               Sedan|               Sedan|               Sedan|             Unknown|\n",
            "|Station Wagon/Spo...|            Delivery|             Unknown|             Unknown|             Unknown|\n",
            "|               sedan|             Unknown|             Unknown|             Unknown|             Unknown|\n",
            "|           E-Scooter|           Box Truck|             Unknown|             Unknown|             Unknown|\n",
            "|          Motorcycle|           US POSTAL|             Unknown|             Unknown|             Unknown|\n",
            "|       Pick-up Truck|                TRAC|             Unknown|             Unknown|             Unknown|\n",
            "|               Sedan|             SCOOTER|             Unknown|             Unknown|             Unknown|\n",
            "|              Tanker|              Tanker|             Unknown|             Unknown|             Unknown|\n",
            "|          government|             Unknown|             Unknown|             Unknown|             Unknown|\n",
            "|           Tow Truck|                Taxi|             Unknown|             Unknown|             Unknown|\n",
            "|               BACKH|            Flat Bed|Station Wagon/Spo...|             Unknown|             Unknown|\n",
            "|               CRANE|               Sedan|             Unknown|             Unknown|             Unknown|\n",
            "|Tractor Truck Gas...|Station Wagon/Spo...|Station Wagon/Spo...|Station Wagon/Spo...|               Sedan|\n",
            "|               UTILI|Station Wagon/Spo...|             Unknown|             Unknown|             Unknown|\n",
            "|                Bike|Station Wagon/Spo...|       Pick-up Truck|             Unknown|             Unknown|\n",
            "|               Ambul|               Unkno|                 Van|             Unknown|             Unknown|\n",
            "|               Trail|Tractor Truck Diesel|             Unknown|             Unknown|             Unknown|\n",
            "|                GOLF|                  PK|             Unknown|             Unknown|             Unknown|\n",
            "|Tractor Truck Diesel|Station Wagon/Spo...|               Trail|             Unknown|             Unknown|\n",
            "|               schoo|             Unknown|             Unknown|             Unknown|             Unknown|\n",
            "+--------------------+--------------------+--------------------+--------------------+--------------------+\n",
            "only showing top 30 rows\n",
            "\n",
            "None\n"
          ],
          "name": "stdout"
        }
      ]
    },
    {
      "cell_type": "code",
      "metadata": {
        "id": "TA5jqgMyVGXM"
      },
      "source": [
        "### Set all empty values in CROSS STREET NAME to No Value\n",
        "col=col.fillna(value=\"NOT PROVIDED\",subset=[\"CROSS STREET NAME\"])"
      ],
      "execution_count": 221,
      "outputs": []
    },
    {
      "cell_type": "code",
      "metadata": {
        "id": "yyHAwCByYL9D"
      },
      "source": [
        "### Set all empty values in OFF STREET NAME to No Value\n",
        "col=col.fillna(value=\"NOT PROVIDED\",subset=[\"OFF STREET NAME\"])"
      ],
      "execution_count": 222,
      "outputs": []
    },
    {
      "cell_type": "code",
      "metadata": {
        "id": "BWhZGkXqZNdi"
      },
      "source": [
        "### Set all empty values in ON STREET NAME to No Value\n",
        "col=col.fillna(value=\"NOT PROVIDED\",subset=[\"ON STREET NAME\"])"
      ],
      "execution_count": 223,
      "outputs": []
    },
    {
      "cell_type": "code",
      "metadata": {
        "colab": {
          "base_uri": "https://localhost:8080/"
        },
        "id": "78SWJf84ZD5n",
        "outputId": "8b076571-c29a-4804-b4d5-b29aca7640ff"
      },
      "source": [
        "## Checking if results have been successfully changed\n",
        "print(col.select(\"CROSS STREET NAME\",\"OFF STREET NAME\",\"ON STREET NAME\").distinct().show(30));"
      ],
      "execution_count": 224,
      "outputs": [
        {
          "output_type": "stream",
          "text": [
            "+--------------------+--------------------+--------------------+\n",
            "|   CROSS STREET NAME|     OFF STREET NAME|      ON STREET NAME|\n",
            "+--------------------+--------------------+--------------------+\n",
            "| NASHVILLE BOULEVARD|        NOT PROVIDED|120 AVENUE       ...|\n",
            "|        NOT PROVIDED|        NOT PROVIDED|11 STREET        ...|\n",
            "|         YORK AVENUE|        NOT PROVIDED|EAST 63 STREET   ...|\n",
            "|        LENOX AVENUE|        NOT PROVIDED|WEST 132 STREET  ...|\n",
            "|        NOT PROVIDED|34-20     24 STRE...|        NOT PROVIDED|\n",
            "|        NOT PROVIDED|319       CANAL S...|        NOT PROVIDED|\n",
            "|             62 ROAD|        NOT PROVIDED|WOODHAVEN BOULEVA...|\n",
            "|        NOT PROVIDED|88-11     165 STR...|        NOT PROVIDED|\n",
            "|        NOT PROVIDED|1713      HOBART ...|        NOT PROVIDED|\n",
            "|        NOT PROVIDED|1631      SHEEPSH...|        NOT PROVIDED|\n",
            "|        NOT PROVIDED|101       PROSPEC...|        NOT PROVIDED|\n",
            "|  NORTHERN BOULEVARD|        NOT PROVIDED|248 STREET       ...|\n",
            "|        NOT PROVIDED|135-25    79 STRE...|        NOT PROVIDED|\n",
            "|      EAST 25 STREET|        NOT PROVIDED|3 AVENUE         ...|\n",
            "|     VANZANDT AVENUE|        NOT PROVIDED|MARATHON PARKWAY ...|\n",
            "|      EAST 13 STREET|        NOT PROVIDED|1 AVENUE         ...|\n",
            "|        NOT PROVIDED|148-07    85 DRIV...|        NOT PROVIDED|\n",
            "|     CLERMONT AVENUE|        NOT PROVIDED|ATLANTIC AVENUE  ...|\n",
            "|   ASTORIA BOULEVARD|        NOT PROVIDED|31 STREET        ...|\n",
            "|        NOT PROVIDED|63        FLATBUS...|        NOT PROVIDED|\n",
            "|        NOT PROVIDED|        NOT PROVIDED|PRINCE STREET    ...|\n",
            "|EAST NEW YORK AVENUE|        NOT PROVIDED|TROY AVENUE      ...|\n",
            "|        NOT PROVIDED|772       EDGEWAT...|        NOT PROVIDED|\n",
            "|        NOT PROVIDED|1432      WHITE P...|        NOT PROVIDED|\n",
            "|           17 AVENUE|        NOT PROVIDED|62 STREET        ...|\n",
            "|        NOT PROVIDED|2610      OCEAN P...|        NOT PROVIDED|\n",
            "|        NOT PROVIDED|91        ELIZABE...|        NOT PROVIDED|\n",
            "|        NOT PROVIDED|248-29    UNION T...|        NOT PROVIDED|\n",
            "|        CATON AVENUE|        NOT PROVIDED|EAST 5 STREET    ...|\n",
            "|        AMBER STREET|        NOT PROVIDED|LINDEN BOULEVARD ...|\n",
            "+--------------------+--------------------+--------------------+\n",
            "only showing top 30 rows\n",
            "\n",
            "None\n"
          ],
          "name": "stdout"
        }
      ]
    },
    {
      "cell_type": "code",
      "metadata": {
        "colab": {
          "base_uri": "https://localhost:8080/"
        },
        "id": "jG-QSgii-YqS",
        "outputId": "e81fd339-6716-4e31-c2f4-97612455940c"
      },
      "source": [
        "#Check CRASH DATE format\n",
        "col.select(\"CRASH DATE\").show(10)"
      ],
      "execution_count": 225,
      "outputs": [
        {
          "output_type": "stream",
          "text": [
            "+----------+\n",
            "|CRASH DATE|\n",
            "+----------+\n",
            "|10/15/2018|\n",
            "|11/01/2018|\n",
            "|10/23/2018|\n",
            "|11/03/2018|\n",
            "|10/15/2018|\n",
            "|11/03/2018|\n",
            "|11/04/2018|\n",
            "|10/19/2018|\n",
            "|10/12/2018|\n",
            "|10/27/2018|\n",
            "+----------+\n",
            "only showing top 10 rows\n",
            "\n"
          ],
          "name": "stdout"
        }
      ]
    },
    {
      "cell_type": "code",
      "metadata": {
        "colab": {
          "base_uri": "https://localhost:8080/"
        },
        "id": "mCcBCNgC0nPV",
        "outputId": "7c93f799-dd2a-4e80-a080-6e4577dcdd45"
      },
      "source": [
        "#Change CRASH DATE type from String to Date\n",
        "from pyspark.sql.types import DateType\n",
        "from pyspark.sql.functions import to_date\n",
        "\n",
        "#col.withColumn(\"CRASH DATE\", col['CRASH DATE'].cast(DateType())).show()\n",
        "\n",
        " \n",
        "col= col.withColumn('CRASH DATE',to_date(col[\"CRASH DATE\"], 'MM/dd/yyyy'))\n",
        "col.printSchema()"
      ],
      "execution_count": 226,
      "outputs": [
        {
          "output_type": "stream",
          "text": [
            "root\n",
            " |-- CRASH DATE: date (nullable = true)\n",
            " |-- CRASH TIME: string (nullable = true)\n",
            " |-- BOROUGH: string (nullable = true)\n",
            " |-- ZIP CODE: string (nullable = true)\n",
            " |-- LATITUDE: double (nullable = true)\n",
            " |-- LONGITUDE: double (nullable = true)\n",
            " |-- LOCATION: string (nullable = true)\n",
            " |-- ON STREET NAME: string (nullable = false)\n",
            " |-- CROSS STREET NAME: string (nullable = false)\n",
            " |-- OFF STREET NAME: string (nullable = false)\n",
            " |-- NUMBER OF PERSONS INJURED: integer (nullable = true)\n",
            " |-- NUMBER OF PERSONS KILLED: integer (nullable = true)\n",
            " |-- NUMBER OF PEDESTRIANS INJURED: integer (nullable = true)\n",
            " |-- NUMBER OF PEDESTRIANS KILLED: integer (nullable = true)\n",
            " |-- NUMBER OF CYCLIST INJURED: integer (nullable = true)\n",
            " |-- NUMBER OF CYCLIST KILLED: integer (nullable = true)\n",
            " |-- NUMBER OF MOTORIST INJURED: integer (nullable = true)\n",
            " |-- NUMBER OF MOTORIST KILLED: integer (nullable = true)\n",
            " |-- CONTRIBUTING FACTOR VEHICLE 1: string (nullable = false)\n",
            " |-- CONTRIBUTING FACTOR VEHICLE 2: string (nullable = false)\n",
            " |-- CONTRIBUTING FACTOR VEHICLE 3: string (nullable = false)\n",
            " |-- CONTRIBUTING FACTOR VEHICLE 4: string (nullable = false)\n",
            " |-- CONTRIBUTING FACTOR VEHICLE 5: string (nullable = false)\n",
            " |-- COLLISION_ID: integer (nullable = true)\n",
            " |-- VEHICLE TYPE CODE 1: string (nullable = false)\n",
            " |-- VEHICLE TYPE CODE 2: string (nullable = false)\n",
            " |-- VEHICLE TYPE CODE 3: string (nullable = false)\n",
            " |-- VEHICLE TYPE CODE 4: string (nullable = false)\n",
            " |-- VEHICLE TYPE CODE 5: string (nullable = false)\n",
            "\n"
          ],
          "name": "stdout"
        }
      ]
    },
    {
      "cell_type": "code",
      "metadata": {
        "colab": {
          "base_uri": "https://localhost:8080/"
        },
        "id": "WzBiyfY51kQ6",
        "outputId": "b79cae33-4b2a-4102-ef81-4c54c999695f"
      },
      "source": [
        "# Check if format is correct\n",
        "col.select(\"CRASH DATE\").show(10)"
      ],
      "execution_count": 227,
      "outputs": [
        {
          "output_type": "stream",
          "text": [
            "+----------+\n",
            "|CRASH DATE|\n",
            "+----------+\n",
            "|2018-10-15|\n",
            "|2018-11-01|\n",
            "|2018-10-23|\n",
            "|2018-11-03|\n",
            "|2018-10-15|\n",
            "|2018-11-03|\n",
            "|2018-11-04|\n",
            "|2018-10-19|\n",
            "|2018-10-12|\n",
            "|2018-10-27|\n",
            "+----------+\n",
            "only showing top 10 rows\n",
            "\n"
          ],
          "name": "stdout"
        }
      ]
    },
    {
      "cell_type": "code",
      "metadata": {
        "colab": {
          "base_uri": "https://localhost:8080/"
        },
        "id": "COSJMM9pAPNg",
        "outputId": "c203770a-8078-4f4e-cf2b-4e766f337033"
      },
      "source": [
        "## Converting CRASH TIME type: String to timestamp \n",
        "from pyspark.sql.types import DateType\n",
        "from pyspark.sql.functions import to_timestamp\n",
        "\n",
        "col= col.withColumn('CRASH TIME',to_timestamp(col[\"CRASH TIME\"], 'H:mm'))\n",
        "col.printSchema()"
      ],
      "execution_count": 228,
      "outputs": [
        {
          "output_type": "stream",
          "text": [
            "root\n",
            " |-- CRASH DATE: date (nullable = true)\n",
            " |-- CRASH TIME: timestamp (nullable = true)\n",
            " |-- BOROUGH: string (nullable = true)\n",
            " |-- ZIP CODE: string (nullable = true)\n",
            " |-- LATITUDE: double (nullable = true)\n",
            " |-- LONGITUDE: double (nullable = true)\n",
            " |-- LOCATION: string (nullable = true)\n",
            " |-- ON STREET NAME: string (nullable = false)\n",
            " |-- CROSS STREET NAME: string (nullable = false)\n",
            " |-- OFF STREET NAME: string (nullable = false)\n",
            " |-- NUMBER OF PERSONS INJURED: integer (nullable = true)\n",
            " |-- NUMBER OF PERSONS KILLED: integer (nullable = true)\n",
            " |-- NUMBER OF PEDESTRIANS INJURED: integer (nullable = true)\n",
            " |-- NUMBER OF PEDESTRIANS KILLED: integer (nullable = true)\n",
            " |-- NUMBER OF CYCLIST INJURED: integer (nullable = true)\n",
            " |-- NUMBER OF CYCLIST KILLED: integer (nullable = true)\n",
            " |-- NUMBER OF MOTORIST INJURED: integer (nullable = true)\n",
            " |-- NUMBER OF MOTORIST KILLED: integer (nullable = true)\n",
            " |-- CONTRIBUTING FACTOR VEHICLE 1: string (nullable = false)\n",
            " |-- CONTRIBUTING FACTOR VEHICLE 2: string (nullable = false)\n",
            " |-- CONTRIBUTING FACTOR VEHICLE 3: string (nullable = false)\n",
            " |-- CONTRIBUTING FACTOR VEHICLE 4: string (nullable = false)\n",
            " |-- CONTRIBUTING FACTOR VEHICLE 5: string (nullable = false)\n",
            " |-- COLLISION_ID: integer (nullable = true)\n",
            " |-- VEHICLE TYPE CODE 1: string (nullable = false)\n",
            " |-- VEHICLE TYPE CODE 2: string (nullable = false)\n",
            " |-- VEHICLE TYPE CODE 3: string (nullable = false)\n",
            " |-- VEHICLE TYPE CODE 4: string (nullable = false)\n",
            " |-- VEHICLE TYPE CODE 5: string (nullable = false)\n",
            "\n"
          ],
          "name": "stdout"
        }
      ]
    },
    {
      "cell_type": "code",
      "metadata": {
        "colab": {
          "base_uri": "https://localhost:8080/"
        },
        "id": "nO_6g7BKz1VL",
        "outputId": "6f89b483-8cf5-466d-dbf3-2276c31d5c91"
      },
      "source": [
        "## Checking if format is correct\n",
        "col.select(\"CRASH TIME\").show(10)"
      ],
      "execution_count": 229,
      "outputs": [
        {
          "output_type": "stream",
          "text": [
            "+-------------------+\n",
            "|         CRASH TIME|\n",
            "+-------------------+\n",
            "|1970-01-01 08:00:00|\n",
            "|1970-01-01 16:30:00|\n",
            "|1970-01-01 20:12:00|\n",
            "|1970-01-01 14:35:00|\n",
            "|1970-01-01 17:30:00|\n",
            "|1970-01-01 20:40:00|\n",
            "|1970-01-01 13:50:00|\n",
            "|1970-01-01 12:10:00|\n",
            "|1970-01-01 18:20:00|\n",
            "|1970-01-01 14:45:00|\n",
            "+-------------------+\n",
            "only showing top 10 rows\n",
            "\n"
          ],
          "name": "stdout"
        }
      ]
    },
    {
      "cell_type": "code",
      "metadata": {
        "id": "yazMxEQbyhBE"
      },
      "source": [
        "### Removing YYYY-MM-DD from CRASH TIME\n",
        "from pyspark.sql.types import DateType\n",
        "from pyspark.sql.functions import date_format\n",
        "from pyspark.sql import functions as f\n",
        "\n",
        "col = col.withColumn(\"CRASH TIME\", f.date_format(\"CRASH TIME\", 'HH:mm:ss'))\n"
      ],
      "execution_count": 230,
      "outputs": []
    },
    {
      "cell_type": "code",
      "metadata": {
        "colab": {
          "base_uri": "https://localhost:8080/"
        },
        "id": "0M004Bt2Cpby",
        "outputId": "abb45a89-d3f3-40ce-d1f6-eb0f68cd6ba2"
      },
      "source": [
        "## Checking Results of Format\n",
        "col.select(\"CRASH TIME\").show(10)"
      ],
      "execution_count": 231,
      "outputs": [
        {
          "output_type": "stream",
          "text": [
            "+----------+\n",
            "|CRASH TIME|\n",
            "+----------+\n",
            "|  08:00:00|\n",
            "|  16:30:00|\n",
            "|  20:12:00|\n",
            "|  14:35:00|\n",
            "|  17:30:00|\n",
            "|  20:40:00|\n",
            "|  13:50:00|\n",
            "|  12:10:00|\n",
            "|  18:20:00|\n",
            "|  14:45:00|\n",
            "+----------+\n",
            "only showing top 10 rows\n",
            "\n"
          ],
          "name": "stdout"
        }
      ]
    },
    {
      "cell_type": "code",
      "metadata": {
        "colab": {
          "base_uri": "https://localhost:8080/"
        },
        "id": "YXLlaRGb_yu4",
        "outputId": "281b11a0-ff8d-4a49-c8af-dfd2cd07b648"
      },
      "source": [
        "col.show()"
      ],
      "execution_count": 233,
      "outputs": [
        {
          "output_type": "stream",
          "text": [
            "+----------+----------+-------------+--------+---------+----------+--------------------+--------------------+-------------------+--------------------+-------------------------+------------------------+-----------------------------+----------------------------+-------------------------+------------------------+--------------------------+-------------------------+-----------------------------+-----------------------------+-----------------------------+-----------------------------+-----------------------------+------------+--------------------+--------------------+-------------------+-------------------+-------------------+\n",
            "|CRASH DATE|CRASH TIME|      BOROUGH|ZIP CODE| LATITUDE| LONGITUDE|            LOCATION|      ON STREET NAME|  CROSS STREET NAME|     OFF STREET NAME|NUMBER OF PERSONS INJURED|NUMBER OF PERSONS KILLED|NUMBER OF PEDESTRIANS INJURED|NUMBER OF PEDESTRIANS KILLED|NUMBER OF CYCLIST INJURED|NUMBER OF CYCLIST KILLED|NUMBER OF MOTORIST INJURED|NUMBER OF MOTORIST KILLED|CONTRIBUTING FACTOR VEHICLE 1|CONTRIBUTING FACTOR VEHICLE 2|CONTRIBUTING FACTOR VEHICLE 3|CONTRIBUTING FACTOR VEHICLE 4|CONTRIBUTING FACTOR VEHICLE 5|COLLISION_ID| VEHICLE TYPE CODE 1| VEHICLE TYPE CODE 2|VEHICLE TYPE CODE 3|VEHICLE TYPE CODE 4|VEHICLE TYPE CODE 5|\n",
            "+----------+----------+-------------+--------+---------+----------+--------------------+--------------------+-------------------+--------------------+-------------------------+------------------------+-----------------------------+----------------------------+-------------------------+------------------------+--------------------------+-------------------------+-----------------------------+-----------------------------+-----------------------------+-----------------------------+-----------------------------+------------+--------------------+--------------------+-------------------+-------------------+-------------------+\n",
            "|2018-10-15|  08:00:00|         null|    null|40.636547| -73.92584|(40.636547, -73.9...|EAST 53 STREET   ...|      KINGS HIGHWAY|        NOT PROVIDED|                        0|                       0|                            0|                           0|                        0|                       0|                         0|                        0|             Backing Unsafely|         Driver Inattentio...|                      Unknown|                      Unknown|                      Unknown|     4001073|               Sedan|               Sedan|            Unknown|            Unknown|            Unknown|\n",
            "|2018-11-01|  16:30:00|     BROOKLYN|   11225| 40.66848| -73.96117|(40.66848, -73.96...|        NOT PROVIDED|       NOT PROVIDED|916       CARROLL...|                        0|                       0|                            0|                           0|                        0|                       0|                         0|                        0|             Backing Unsafely|                  Unspecified|                      Unknown|                      Unknown|                      Unknown|     4012658|Station Wagon/Spo...|Station Wagon/Spo...|            Unknown|            Unknown|            Unknown|\n",
            "|2018-10-23|  20:12:00|        BRONX|   10457|40.839268|-73.903824|(40.839268, -73.9...|CLAREMONT PARKWAY...|        PARK AVENUE|        NOT PROVIDED|                        1|                       0|                            1|                           0|                        0|                       0|                         0|                        0|         Pedestrian/Bicycl...|                      Unknown|                      Unknown|                      Unknown|                      Unknown|     4006227|               Sedan|             Unknown|            Unknown|            Unknown|            Unknown|\n",
            "|2018-11-03|  14:35:00|         null|    null|40.726444| -73.76579|(40.726444, -73.7...|GRAND CENTRAL PKW...|       NOT PROVIDED|        NOT PROVIDED|                        0|                       0|                            0|                           0|                        0|                       0|                         0|                        0|         Following Too Clo...|                  Unspecified|                      Unknown|                      Unknown|                      Unknown|     4013358|Station Wagon/Spo...|               Sedan|            Unknown|            Unknown|            Unknown|\n",
            "|2018-10-15|  17:30:00|         null|    null| 40.80184| -73.95915|(40.80184, -73.95...|WEST 111 STREET  ...|       NOT PROVIDED|        NOT PROVIDED|                        0|                       0|                            0|                           0|                        0|                       0|                         0|                        0|           Turning Improperly|                  Unspecified|                      Unknown|                      Unknown|                      Unknown|     4001865|Station Wagon/Spo...|Tractor Truck Diesel|            Unknown|            Unknown|            Unknown|\n",
            "|2018-11-03|  20:40:00|     BROOKLYN|   11206|40.707333| -73.94321|(40.707333, -73.9...|GRAHAM AVENUE    ...|    MONTROSE AVENUE|        NOT PROVIDED|                        0|                       0|                            0|                           0|                        0|                       0|                         0|                        0|         Failure to Yield ...|                  Unspecified|                      Unknown|                      Unknown|                      Unknown|     4013729|               Sedan|                 Bus|            Unknown|            Unknown|            Unknown|\n",
            "|2018-11-04|  13:50:00|STATEN ISLAND|   10312|40.543766| -74.16345|(40.543766, -74.1...|AMBOY ROAD       ...|      PUTNAM STREET|        NOT PROVIDED|                        0|                       0|                            0|                           0|                        0|                       0|                         0|                        0|             Backing Unsafely|                  Unspecified|                      Unknown|                      Unknown|                      Unknown|     4014248|               Sedan|               Sedan|            Unknown|            Unknown|            Unknown|\n",
            "|2018-10-19|  12:10:00|     BROOKLYN|   11223| 40.58576| -73.97442|(40.58576, -73.97...|SHELL ROAD       ...|           AVENUE Z|        NOT PROVIDED|                        0|                       0|                            0|                           0|                        0|                       0|                         0|                        0|                  Unspecified|                  Unspecified|                      Unknown|                      Unknown|                      Unknown|     4003403|               Sedan|               SKATE|            Unknown|            Unknown|            Unknown|\n",
            "|2018-10-12|  18:20:00|    MANHATTAN|   10027| 40.81151| -73.94649|(40.81151, -73.94...|7 AVENUE         ...|    WEST 129 STREET|        NOT PROVIDED|                        0|                       0|                            0|                           0|                        0|                       0|                         0|                        0|         Driver Inattentio...|         Driver Inattentio...|                      Unknown|                      Unknown|                      Unknown|     3999927|               Sedan|                Taxi|            Unknown|            Unknown|            Unknown|\n",
            "|2018-10-27|  14:45:00|       QUEENS|   11420|40.666862|  -73.8045|(40.666862, -73.8...|NORTH CONDUIT AVE...|          134 PLACE|        NOT PROVIDED|                        0|                       0|                            0|                           0|                        0|                       0|                         0|                        0|         Following Too Clo...|                  Unspecified|                      Unknown|                      Unknown|                      Unknown|     4009179|                Taxi|Station Wagon/Spo...|            Unknown|            Unknown|            Unknown|\n",
            "|2018-10-25|  08:34:00|         null|    null| 40.76975| -73.96061|(40.76975, -73.96...|3 AVENUE         ...|       NOT PROVIDED|        NOT PROVIDED|                        0|                       0|                            0|                           0|                        0|                       0|                         0|                        0|         Following Too Clo...|         Driver Inattentio...|                      Unknown|                      Unknown|                      Unknown|     4009589|               Sedan|       Pick-up Truck|            Unknown|            Unknown|            Unknown|\n",
            "|2018-10-27|  20:33:00|        BRONX|   10460| 40.84271|-73.885666|(40.84271, -73.88...|SOUTHERN BOULEVAR...|EAST TREMONT AVENUE|        NOT PROVIDED|                        1|                       0|                            1|                           0|                        0|                       0|                         0|                        0|                  Unspecified|                      Unknown|                      Unknown|                      Unknown|                      Unknown|     4009497|               Sedan|             Unknown|            Unknown|            Unknown|            Unknown|\n",
            "|2018-10-13|  13:51:00|    MANHATTAN|   10017| 40.75352| -73.97117|(40.75352, -73.97...|        NOT PROVIDED|       NOT PROVIDED|240       EAST 47...|                        0|                       0|                            0|                           0|                        0|                       0|                         0|                        0|         Driver Inattentio...|                  Unspecified|                      Unknown|                      Unknown|                      Unknown|     3999067|                 Bus|               Sedan|            Unknown|            Unknown|            Unknown|\n",
            "|2018-10-21|  22:15:00|    MANHATTAN|   10024| 40.78383| -73.97783|(40.78383, -73.97...|WEST 80 STREET   ...|   AMSTERDAM AVENUE|        NOT PROVIDED|                        0|                       0|                            0|                           0|                        0|                       0|                         0|                        0|         Unsafe Lane Changing|                  Unspecified|                      Unknown|                      Unknown|                      Unknown|     4004727|                Taxi|               Sedan|            Unknown|            Unknown|            Unknown|\n",
            "|2018-10-18|  17:14:00|     BROOKLYN|   11219| 40.63028| -74.00553|(40.63028, -74.00...|        NOT PROVIDED|       NOT PROVIDED|1068      63 STRE...|                        0|                       0|                            0|                           0|                        0|                       0|                         0|                        0|             Backing Unsafely|                  Unspecified|                      Unknown|                      Unknown|                      Unknown|     4002723|Station Wagon/Spo...|    Refrigerated Van|            Unknown|            Unknown|            Unknown|\n",
            "|2018-10-17|  09:45:00|         null|    null|40.681988| -73.76634|(40.681988, -73.7...|MERRICK BOULEVARD...|       NOT PROVIDED|        NOT PROVIDED|                        1|                       0|                            0|                           0|                        0|                       0|                         1|                        0|         Traffic Control D...|                  Unspecified|                  Unspecified|                  Unspecified|                      Unknown|     4002148|Station Wagon/Spo...|               Sedan|              Sedan|              Sedan|            Unknown|\n",
            "|2018-11-01|  17:10:00|         null|    null| 40.63735| -74.12868|(40.63735, -74.12...|JEWETT AVENUE    ...|   RICHMOND TERRACE|        NOT PROVIDED|                        0|                       0|                            0|                           0|                        0|                       0|                         0|                        0|         Following Too Clo...|                  Unspecified|                      Unknown|                      Unknown|                      Unknown|     4012328|Station Wagon/Spo...|Station Wagon/Spo...|            Unknown|            Unknown|            Unknown|\n",
            "|2018-10-24|  08:00:00|     BROOKLYN|   11221|40.686172| -73.92499|(40.686172, -73.9...|        NOT PROVIDED|       NOT PROVIDED|835       JEFFERS...|                        0|                       0|                            0|                           0|                        0|                       0|                         0|                        0|                  Unspecified|                      Unknown|                      Unknown|                      Unknown|                      Unknown|     4007146|               Sedan|             Unknown|            Unknown|            Unknown|            Unknown|\n",
            "|2018-10-31|  22:00:00|       QUEENS|   11358|40.759094|-73.794136|(40.759094, -73.7...|42 AVENUE        ...|         172 STREET|        NOT PROVIDED|                        0|                       0|                            0|                           0|                        0|                       0|                         0|                        0|                  Fell Asleep|                  Unspecified|                      Unknown|                      Unknown|                      Unknown|     4012448|               Sedan|               Sedan|            Unknown|            Unknown|            Unknown|\n",
            "|2018-10-15|  10:10:00|     BROOKLYN|   11236|40.646965| -73.89407|(40.646965, -73.8...|        NOT PROVIDED|       NOT PROVIDED|926       EAST 10...|                        3|                       0|                            0|                           0|                        0|                       0|                         3|                        0|         Failure to Yield ...|                  Unspecified|                      Unknown|                      Unknown|                      Unknown|     4001183|               Sedan|Station Wagon/Spo...|            Unknown|            Unknown|            Unknown|\n",
            "+----------+----------+-------------+--------+---------+----------+--------------------+--------------------+-------------------+--------------------+-------------------------+------------------------+-----------------------------+----------------------------+-------------------------+------------------------+--------------------------+-------------------------+-----------------------------+-----------------------------+-----------------------------+-----------------------------+-----------------------------+------------+--------------------+--------------------+-------------------+-------------------+-------------------+\n",
            "only showing top 20 rows\n",
            "\n"
          ],
          "name": "stdout"
        }
      ]
    },
    {
      "cell_type": "markdown",
      "metadata": {
        "id": "VKysQ3WooIvG"
      },
      "source": [
        "# ***TODO***\n",
        "Treat Null Values for all column to  Unknown. 1,2,3,4,5\n",
        "\n",
        "\n",
        "Treat **1 and 80** for CONTRIBUTING FACTOR VEHICLE 1,2,3"
      ]
    },
    {
      "cell_type": "code",
      "metadata": {
        "id": "OWG3BkPVoUdq"
      },
      "source": [
        "# zip,borough,location,long,lat, [contributing1,2,3,4], killed and injured [3-4],COLLISION_ID."
      ],
      "execution_count": 232,
      "outputs": []
    }
  ]
}