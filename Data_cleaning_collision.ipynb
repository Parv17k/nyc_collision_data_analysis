{
  "nbformat": 4,
  "nbformat_minor": 0,
  "metadata": {
    "colab": {
      "name": "Data_cleaning_collision.ipynb",
      "provenance": [],
      "collapsed_sections": []
    },
    "kernelspec": {
      "name": "python3",
      "display_name": "Python 3"
    },
    "language_info": {
      "name": "python"
    }
  },
  "cells": [
    {
      "cell_type": "code",
      "metadata": {
        "colab": {
          "base_uri": "https://localhost:8080/"
        },
        "id": "BfBR0P6bt4sx",
        "outputId": "e5ec8a3b-e030-47f4-afc0-d44171a02235"
      },
      "source": [
        "!apt-get update"
      ],
      "execution_count": 74,
      "outputs": [
        {
          "output_type": "stream",
          "text": [
            "Hit:1 https://cloud.r-project.org/bin/linux/ubuntu bionic-cran40/ InRelease\n",
            "Hit:2 http://archive.ubuntu.com/ubuntu bionic InRelease\n",
            "Hit:3 http://security.ubuntu.com/ubuntu bionic-security InRelease\n",
            "Hit:4 http://ppa.launchpad.net/c2d4u.team/c2d4u4.0+/ubuntu bionic InRelease\n",
            "Hit:5 http://archive.ubuntu.com/ubuntu bionic-updates InRelease\n",
            "Hit:6 http://archive.ubuntu.com/ubuntu bionic-backports InRelease\n",
            "Hit:7 http://ppa.launchpad.net/cran/libgit2/ubuntu bionic InRelease\n",
            "Ign:8 https://developer.download.nvidia.com/compute/cuda/repos/ubuntu1804/x86_64  InRelease\n",
            "Hit:9 http://ppa.launchpad.net/deadsnakes/ppa/ubuntu bionic InRelease\n",
            "Ign:10 https://developer.download.nvidia.com/compute/machine-learning/repos/ubuntu1804/x86_64  InRelease\n",
            "Hit:11 https://developer.download.nvidia.com/compute/cuda/repos/ubuntu1804/x86_64  Release\n",
            "Hit:12 https://developer.download.nvidia.com/compute/machine-learning/repos/ubuntu1804/x86_64  Release\n",
            "Hit:13 http://ppa.launchpad.net/graphics-drivers/ppa/ubuntu bionic InRelease\n",
            "Reading package lists... Done\n"
          ],
          "name": "stdout"
        }
      ]
    },
    {
      "cell_type": "code",
      "metadata": {
        "id": "w6jTpg3YeRzl"
      },
      "source": [
        "!apt-get install openjdk-8-jdk-headless -qq > /dev/null"
      ],
      "execution_count": 75,
      "outputs": []
    },
    {
      "cell_type": "code",
      "metadata": {
        "id": "H0X6aSI8evek"
      },
      "source": [
        "!wget -q https://downloads.apache.org/spark/spark-3.1.1/spark-3.1.1-bin-hadoop2.7.tgz"
      ],
      "execution_count": 76,
      "outputs": []
    },
    {
      "cell_type": "code",
      "metadata": {
        "id": "1dwVFgcH7H2Z"
      },
      "source": [
        "!wget -O longlat.csv -q https://public.opendatasoft.com/explore/dataset/us-zip-code-latitude-and-longitude/download/?format=csv&timezone=America/New_York&lang=en&use_labels_for_header=true&csv_separator=%3B"
      ],
      "execution_count": 77,
      "outputs": []
    },
    {
      "cell_type": "code",
      "metadata": {
        "id": "kkohxcnCe9iQ",
        "colab": {
          "base_uri": "https://localhost:8080/"
        },
        "outputId": "518f8376-8e7b-41ae-b5b4-63eec3d6e184"
      },
      "source": [
        "ls"
      ],
      "execution_count": 78,
      "outputs": [
        {
          "output_type": "stream",
          "text": [
            "col.csv                       \u001b[0m\u001b[01;34mspark-3.1.1-bin-hadoop2.7\u001b[0m/\n",
            "longlat.csv                   spark-3.1.1-bin-hadoop2.7.tgz\n",
            "ngrok-stable-linux-amd64.zip  spark-3.1.1-bin-hadoop2.7.tgz.1\n",
            "\u001b[01;34msample_data\u001b[0m/\n"
          ],
          "name": "stdout"
        }
      ]
    },
    {
      "cell_type": "code",
      "metadata": {
        "id": "qSVPom6zgD7I"
      },
      "source": [
        "!tar xf spark-3.1.1-bin-hadoop2.7.tgz"
      ],
      "execution_count": 79,
      "outputs": []
    },
    {
      "cell_type": "code",
      "metadata": {
        "id": "BAss6VLvgNAB"
      },
      "source": [
        "!pip install -q findspark"
      ],
      "execution_count": 80,
      "outputs": []
    },
    {
      "cell_type": "code",
      "metadata": {
        "id": "5QFpj19pgRvm"
      },
      "source": [
        "import os\n",
        "os.environ[\"JAVA_HOME\"] = \"/usr/lib/jvm/java-8-openjdk-amd64\"\n",
        "os.environ[\"SPARK_HOME\"] = \"/content/spark-3.1.1-bin-hadoop2.7\""
      ],
      "execution_count": 81,
      "outputs": []
    },
    {
      "cell_type": "code",
      "metadata": {
        "id": "-iG0utnAvgAq"
      },
      "source": [
        "os.environ[\"PYSPARK_SUBMIT_ARGS\"]=\"--master local[2] pyspark-shell\""
      ],
      "execution_count": 82,
      "outputs": []
    },
    {
      "cell_type": "code",
      "metadata": {
        "id": "qDgoozyCgmTh"
      },
      "source": [
        "import findspark\n",
        "findspark.init()"
      ],
      "execution_count": 83,
      "outputs": []
    },
    {
      "cell_type": "code",
      "metadata": {
        "id": "7ijcOHTqgp6Z"
      },
      "source": [
        "import findspark\n",
        "findspark.init()"
      ],
      "execution_count": 84,
      "outputs": []
    },
    {
      "cell_type": "code",
      "metadata": {
        "colab": {
          "base_uri": "https://localhost:8080/",
          "height": 35
        },
        "id": "oqUwg_nZgr-I",
        "outputId": "9dc1f0b2-821d-4672-c337-b0ea8287ba0a"
      },
      "source": [
        "findspark.find()"
      ],
      "execution_count": 85,
      "outputs": [
        {
          "output_type": "execute_result",
          "data": {
            "application/vnd.google.colaboratory.intrinsic+json": {
              "type": "string"
            },
            "text/plain": [
              "'/content/spark-3.1.1-bin-hadoop2.7'"
            ]
          },
          "metadata": {
            "tags": []
          },
          "execution_count": 85
        }
      ]
    },
    {
      "cell_type": "code",
      "metadata": {
        "id": "85kD6PaGgubo"
      },
      "source": [
        "from pyspark.sql import SparkSession\n",
        "\n",
        "spark = SparkSession.builder\\\n",
        "        .master(\"local\")\\\n",
        "        .appName(\"Collision\")\\\n",
        "        .config('spark.ui.port', '4050')\\\n",
        "        .getOrCreate()"
      ],
      "execution_count": 86,
      "outputs": []
    },
    {
      "cell_type": "code",
      "metadata": {
        "colab": {
          "base_uri": "https://localhost:8080/"
        },
        "id": "rHGTcgdPgzO5",
        "outputId": "f824d807-adcd-4d40-b486-b7617e24c737"
      },
      "source": [
        "!wget https://bin.equinox.io/c/4VmDzA7iaHb/ngrok-stable-linux-amd64.zip\n",
        "!unzip -y ngrok-stable-linux-amd64.zip\n",
        "get_ipython().system_raw('./ngrok http 4050 &')\n",
        "!curl -s http://localhost:4040/api/tunnels"
      ],
      "execution_count": 87,
      "outputs": [
        {
          "output_type": "stream",
          "text": [
            "--2021-05-07 14:55:39--  https://bin.equinox.io/c/4VmDzA7iaHb/ngrok-stable-linux-amd64.zip\n",
            "Resolving bin.equinox.io (bin.equinox.io)... 3.225.89.236, 54.226.184.31, 34.239.208.97, ...\n",
            "Connecting to bin.equinox.io (bin.equinox.io)|3.225.89.236|:443... connected.\n",
            "HTTP request sent, awaiting response... 200 OK\n",
            "Length: 13832437 (13M) [application/octet-stream]\n",
            "Saving to: ‘ngrok-stable-linux-amd64.zip.1’\n",
            "\n",
            "ngrok-stable-linux- 100%[===================>]  13.19M  6.16MB/s    in 2.1s    \n",
            "\n",
            "2021-05-07 14:55:42 (6.16 MB/s) - ‘ngrok-stable-linux-amd64.zip.1’ saved [13832437/13832437]\n",
            "\n",
            "UnZip 6.00 of 20 April 2009, by Debian. Original by Info-ZIP.\n",
            "\n",
            "Usage: unzip [-Z] [-opts[modifiers]] file[.zip] [list] [-x xlist] [-d exdir]\n",
            "  Default action is to extract files in list, except those in xlist, to exdir;\n",
            "  file[.zip] may be a wildcard.  -Z => ZipInfo mode (\"unzip -Z\" for usage).\n",
            "\n",
            "  -p  extract files to pipe, no messages     -l  list files (short format)\n",
            "  -f  freshen existing files, create none    -t  test compressed archive data\n",
            "  -u  update files, create if necessary      -z  display archive comment only\n",
            "  -v  list verbosely/show version info       -T  timestamp archive to latest\n",
            "  -x  exclude files that follow (in xlist)   -d  extract files into exdir\n",
            "modifiers:\n",
            "  -n  never overwrite existing files         -q  quiet mode (-qq => quieter)\n",
            "  -o  overwrite files WITHOUT prompting      -a  auto-convert any text files\n",
            "  -j  junk paths (do not make directories)   -aa treat ALL files as text\n",
            "  -U  use escapes for all non-ASCII Unicode  -UU ignore any Unicode fields\n",
            "  -C  match filenames case-insensitively     -L  make (some) names lowercase\n",
            "  -X  restore UID/GID info                   -V  retain VMS version numbers\n",
            "  -K  keep setuid/setgid/tacky permissions   -M  pipe through \"more\" pager\n",
            "  -O CHARSET  specify a character encoding for DOS, Windows and OS/2 archives\n",
            "  -I CHARSET  specify a character encoding for UNIX and other archives\n",
            "\n",
            "See \"unzip -hh\" or unzip.txt for more help.  Examples:\n",
            "  unzip data1 -x joe   => extract all files except joe from zipfile data1.zip\n",
            "  unzip -p foo | more  => send contents of foo.zip via pipe into program more\n",
            "  unzip -fo foo ReadMe => quietly replace existing ReadMe if archive file newer\n"
          ],
          "name": "stdout"
        }
      ]
    },
    {
      "cell_type": "code",
      "metadata": {
        "id": "VmC2Gt3zhUV-"
      },
      "source": [
        "!wget -q https://data.cityofnewyork.us/api/views/h9gi-nx95/rows.csv ## Here we are downloading dataset for Collisions in New York City"
      ],
      "execution_count": 88,
      "outputs": []
    },
    {
      "cell_type": "code",
      "metadata": {
        "id": "PGqtOpKUid8k"
      },
      "source": [
        "mv rows.csv col.csv ## Linux cmd to rename dataset that we got in the above command."
      ],
      "execution_count": 89,
      "outputs": []
    },
    {
      "cell_type": "code",
      "metadata": {
        "colab": {
          "base_uri": "https://localhost:8080/"
        },
        "id": "YGRRsExXi_0O",
        "outputId": "023b957b-c6cf-44b7-ac7a-fbbc1a7a4a94"
      },
      "source": [
        "ls"
      ],
      "execution_count": 90,
      "outputs": [
        {
          "output_type": "stream",
          "text": [
            "col.csv                         \u001b[0m\u001b[01;34msample_data\u001b[0m/\n",
            "longlat.csv                     \u001b[01;34mspark-3.1.1-bin-hadoop2.7\u001b[0m/\n",
            "ngrok-stable-linux-amd64.zip    spark-3.1.1-bin-hadoop2.7.tgz\n",
            "ngrok-stable-linux-amd64.zip.1  spark-3.1.1-bin-hadoop2.7.tgz.1\n"
          ],
          "name": "stdout"
        }
      ]
    },
    {
      "cell_type": "code",
      "metadata": {
        "id": "72QSXkXojrUD"
      },
      "source": [
        "from pyspark import SparkContext,SparkConf\n",
        "from pyspark.sql import SparkSession\n",
        "import pyspark\n",
        "conf = pyspark.SparkConf()\n",
        "conf.set(\"spark.driver.memory\",\"8G\");\n",
        "import numpy as np\n",
        "sc = SparkContext.getOrCreate(conf=conf)\n",
        "from pyspark.sql.functions import round, col\n"
      ],
      "execution_count": 91,
      "outputs": []
    },
    {
      "cell_type": "code",
      "metadata": {
        "id": "Rp7NvIACj4Hn"
      },
      "source": [
        "spark =SparkSession(sc)"
      ],
      "execution_count": 92,
      "outputs": []
    },
    {
      "cell_type": "code",
      "metadata": {
        "id": "sJCZa6g7j8_W"
      },
      "source": [
        "\n",
        "# Reading data from local repo. to pyspark.\n",
        "\n",
        "col=spark.read.option(\"header\",True).csv(\"./col.csv\",inferSchema=True) # data set 1.\n",
        "longlat=spark.read.option(\"delimiter\",\";\").csv(\"./longlat.csv\",inferSchema=True,header=True) #location. [Additional Dataset ]"
      ],
      "execution_count": 93,
      "outputs": []
    },
    {
      "cell_type": "code",
      "metadata": {
        "colab": {
          "base_uri": "https://localhost:8080/"
        },
        "id": "EAACJ7l-kBrS",
        "outputId": "5f0467d1-c422-4cb0-b000-12e62edabc53"
      },
      "source": [
        "col.count() - col.distinct().count() # checking for Duplicate rows in our dataset."
      ],
      "execution_count": 94,
      "outputs": [
        {
          "output_type": "execute_result",
          "data": {
            "text/plain": [
              "0"
            ]
          },
          "metadata": {
            "tags": []
          },
          "execution_count": 94
        }
      ]
    },
    {
      "cell_type": "code",
      "metadata": {
        "colab": {
          "base_uri": "https://localhost:8080/"
        },
        "id": "qd3gJFzukGI7",
        "outputId": "6f2973d9-8505-4162-eb84-4fe90153f272"
      },
      "source": [
        "len(col.columns) # how many columns do I have."
      ],
      "execution_count": 95,
      "outputs": [
        {
          "output_type": "execute_result",
          "data": {
            "text/plain": [
              "29"
            ]
          },
          "metadata": {
            "tags": []
          },
          "execution_count": 95
        }
      ]
    },
    {
      "cell_type": "code",
      "metadata": {
        "colab": {
          "base_uri": "https://localhost:8080/"
        },
        "id": "TKbsJ_f8kIWu",
        "outputId": "ad84c88c-6534-4aa9-f38c-925f69e54afe"
      },
      "source": [
        "col.printSchema() #Schema of my dataset. Issues with our columns types like NUMBER OF PERSONS INJURED: string and It should need to be Integer."
      ],
      "execution_count": 96,
      "outputs": [
        {
          "output_type": "stream",
          "text": [
            "root\n",
            " |-- CRASH DATE: string (nullable = true)\n",
            " |-- CRASH TIME: string (nullable = true)\n",
            " |-- BOROUGH: string (nullable = true)\n",
            " |-- ZIP CODE: string (nullable = true)\n",
            " |-- LATITUDE: double (nullable = true)\n",
            " |-- LONGITUDE: double (nullable = true)\n",
            " |-- LOCATION: string (nullable = true)\n",
            " |-- ON STREET NAME: string (nullable = true)\n",
            " |-- CROSS STREET NAME: string (nullable = true)\n",
            " |-- OFF STREET NAME: string (nullable = true)\n",
            " |-- NUMBER OF PERSONS INJURED: string (nullable = true)\n",
            " |-- NUMBER OF PERSONS KILLED: integer (nullable = true)\n",
            " |-- NUMBER OF PEDESTRIANS INJURED: integer (nullable = true)\n",
            " |-- NUMBER OF PEDESTRIANS KILLED: integer (nullable = true)\n",
            " |-- NUMBER OF CYCLIST INJURED: integer (nullable = true)\n",
            " |-- NUMBER OF CYCLIST KILLED: string (nullable = true)\n",
            " |-- NUMBER OF MOTORIST INJURED: string (nullable = true)\n",
            " |-- NUMBER OF MOTORIST KILLED: integer (nullable = true)\n",
            " |-- CONTRIBUTING FACTOR VEHICLE 1: string (nullable = true)\n",
            " |-- CONTRIBUTING FACTOR VEHICLE 2: string (nullable = true)\n",
            " |-- CONTRIBUTING FACTOR VEHICLE 3: string (nullable = true)\n",
            " |-- CONTRIBUTING FACTOR VEHICLE 4: string (nullable = true)\n",
            " |-- CONTRIBUTING FACTOR VEHICLE 5: string (nullable = true)\n",
            " |-- COLLISION_ID: integer (nullable = true)\n",
            " |-- VEHICLE TYPE CODE 1: string (nullable = true)\n",
            " |-- VEHICLE TYPE CODE 2: string (nullable = true)\n",
            " |-- VEHICLE TYPE CODE 3: string (nullable = true)\n",
            " |-- VEHICLE TYPE CODE 4: string (nullable = true)\n",
            " |-- VEHICLE TYPE CODE 5: string (nullable = true)\n",
            "\n"
          ],
          "name": "stdout"
        }
      ]
    },
    {
      "cell_type": "code",
      "metadata": {
        "id": "8tdfYdZF_7_d"
      },
      "source": [
        "from pyspark.sql.types import IntegerType\n",
        "\n",
        "col=col.withColumn(\"NUMBER OF PERSONS INJURED\", col[\"NUMBER OF PERSONS INJURED\"].cast(IntegerType()))\n",
        "col=col.withColumn(\"NUMBER OF CYCLIST KILLED\", col[\"NUMBER OF CYCLIST KILLED\"].cast(IntegerType()))\n",
        "col=col.withColumn(\"NUMBER OF MOTORIST INJURED\", col[\"NUMBER OF MOTORIST INJURED\"].cast(IntegerType()))\n",
        "\n",
        "# Correcting the column types to Integer which were previously of String types."
      ],
      "execution_count": 97,
      "outputs": []
    },
    {
      "cell_type": "code",
      "metadata": {
        "colab": {
          "base_uri": "https://localhost:8080/"
        },
        "id": "YIB6R_9cgHx5",
        "outputId": "8716afb2-0a6a-446c-8209-825fbdf9bc41"
      },
      "source": [
        "col.printSchema() # checking if my schema is correct now ? Yes It is"
      ],
      "execution_count": 98,
      "outputs": [
        {
          "output_type": "stream",
          "text": [
            "root\n",
            " |-- CRASH DATE: string (nullable = true)\n",
            " |-- CRASH TIME: string (nullable = true)\n",
            " |-- BOROUGH: string (nullable = true)\n",
            " |-- ZIP CODE: string (nullable = true)\n",
            " |-- LATITUDE: double (nullable = true)\n",
            " |-- LONGITUDE: double (nullable = true)\n",
            " |-- LOCATION: string (nullable = true)\n",
            " |-- ON STREET NAME: string (nullable = true)\n",
            " |-- CROSS STREET NAME: string (nullable = true)\n",
            " |-- OFF STREET NAME: string (nullable = true)\n",
            " |-- NUMBER OF PERSONS INJURED: integer (nullable = true)\n",
            " |-- NUMBER OF PERSONS KILLED: integer (nullable = true)\n",
            " |-- NUMBER OF PEDESTRIANS INJURED: integer (nullable = true)\n",
            " |-- NUMBER OF PEDESTRIANS KILLED: integer (nullable = true)\n",
            " |-- NUMBER OF CYCLIST INJURED: integer (nullable = true)\n",
            " |-- NUMBER OF CYCLIST KILLED: integer (nullable = true)\n",
            " |-- NUMBER OF MOTORIST INJURED: integer (nullable = true)\n",
            " |-- NUMBER OF MOTORIST KILLED: integer (nullable = true)\n",
            " |-- CONTRIBUTING FACTOR VEHICLE 1: string (nullable = true)\n",
            " |-- CONTRIBUTING FACTOR VEHICLE 2: string (nullable = true)\n",
            " |-- CONTRIBUTING FACTOR VEHICLE 3: string (nullable = true)\n",
            " |-- CONTRIBUTING FACTOR VEHICLE 4: string (nullable = true)\n",
            " |-- CONTRIBUTING FACTOR VEHICLE 5: string (nullable = true)\n",
            " |-- COLLISION_ID: integer (nullable = true)\n",
            " |-- VEHICLE TYPE CODE 1: string (nullable = true)\n",
            " |-- VEHICLE TYPE CODE 2: string (nullable = true)\n",
            " |-- VEHICLE TYPE CODE 3: string (nullable = true)\n",
            " |-- VEHICLE TYPE CODE 4: string (nullable = true)\n",
            " |-- VEHICLE TYPE CODE 5: string (nullable = true)\n",
            "\n"
          ],
          "name": "stdout"
        }
      ]
    },
    {
      "cell_type": "code",
      "metadata": {
        "id": "hYm1cOESlNoj",
        "colab": {
          "base_uri": "https://localhost:8080/"
        },
        "outputId": "7a3255f2-97a0-43fa-eb1a-265a2b22ee2c"
      },
      "source": [
        "col.select(\"CRASH DATE\").show(10)"
      ],
      "execution_count": 99,
      "outputs": [
        {
          "output_type": "stream",
          "text": [
            "+----------+\n",
            "|CRASH DATE|\n",
            "+----------+\n",
            "|04/14/2021|\n",
            "|04/13/2021|\n",
            "|04/15/2021|\n",
            "|04/13/2021|\n",
            "|04/12/2021|\n",
            "|04/13/2021|\n",
            "|04/13/2021|\n",
            "|04/16/2021|\n",
            "|04/11/2021|\n",
            "|04/16/2021|\n",
            "+----------+\n",
            "only showing top 10 rows\n",
            "\n"
          ],
          "name": "stdout"
        }
      ]
    },
    {
      "cell_type": "code",
      "metadata": {
        "id": "ISull6Z7mrji"
      },
      "source": [
        "#dropping columns with collision id = null"
      ],
      "execution_count": 100,
      "outputs": []
    },
    {
      "cell_type": "code",
      "metadata": {
        "colab": {
          "base_uri": "https://localhost:8080/"
        },
        "id": "bSxL1_cvn0EZ",
        "outputId": "bbd3154d-f40d-4fc8-8885-7610a20ff27e"
      },
      "source": [
        "col.filter(col.COLLISION_ID.isNull()).drop()"
      ],
      "execution_count": 101,
      "outputs": [
        {
          "output_type": "execute_result",
          "data": {
            "text/plain": [
              "DataFrame[CRASH DATE: string, CRASH TIME: string, BOROUGH: string, ZIP CODE: string, LATITUDE: double, LONGITUDE: double, LOCATION: string, ON STREET NAME: string, CROSS STREET NAME: string, OFF STREET NAME: string, NUMBER OF PERSONS INJURED: int, NUMBER OF PERSONS KILLED: int, NUMBER OF PEDESTRIANS INJURED: int, NUMBER OF PEDESTRIANS KILLED: int, NUMBER OF CYCLIST INJURED: int, NUMBER OF CYCLIST KILLED: int, NUMBER OF MOTORIST INJURED: int, NUMBER OF MOTORIST KILLED: int, CONTRIBUTING FACTOR VEHICLE 1: string, CONTRIBUTING FACTOR VEHICLE 2: string, CONTRIBUTING FACTOR VEHICLE 3: string, CONTRIBUTING FACTOR VEHICLE 4: string, CONTRIBUTING FACTOR VEHICLE 5: string, COLLISION_ID: int, VEHICLE TYPE CODE 1: string, VEHICLE TYPE CODE 2: string, VEHICLE TYPE CODE 3: string, VEHICLE TYPE CODE 4: string, VEHICLE TYPE CODE 5: string]"
            ]
          },
          "metadata": {
            "tags": []
          },
          "execution_count": 101
        }
      ]
    },
    {
      "cell_type": "code",
      "metadata": {
        "colab": {
          "base_uri": "https://localhost:8080/"
        },
        "id": "TiMX8EBZrRA3",
        "outputId": "e1e8bfbf-2cd7-4646-d581-834e5910011c"
      },
      "source": [
        "col.count()"
      ],
      "execution_count": 102,
      "outputs": [
        {
          "output_type": "execute_result",
          "data": {
            "text/plain": [
              "1776922"
            ]
          },
          "metadata": {
            "tags": []
          },
          "execution_count": 102
        }
      ]
    },
    {
      "cell_type": "code",
      "metadata": {
        "colab": {
          "base_uri": "https://localhost:8080/"
        },
        "id": "iGO6-ix9RHyF",
        "outputId": "1cededea-5874-4b84-9eae-867b42d9259e"
      },
      "source": [
        "col.filter(col[\"LATITUDE\"].isNull()).count()"
      ],
      "execution_count": 103,
      "outputs": [
        {
          "output_type": "execute_result",
          "data": {
            "text/plain": [
              "209909"
            ]
          },
          "metadata": {
            "tags": []
          },
          "execution_count": 103
        }
      ]
    },
    {
      "cell_type": "code",
      "metadata": {
        "colab": {
          "base_uri": "https://localhost:8080/"
        },
        "id": "JZr9-QoxQ_-T",
        "outputId": "99d394a8-b382-46d7-d203-a8a2457fd0d9"
      },
      "source": [
        "col.filter(col[\"LONGITUDE\"].isNull()).count()"
      ],
      "execution_count": 104,
      "outputs": [
        {
          "output_type": "execute_result",
          "data": {
            "text/plain": [
              "209909"
            ]
          },
          "metadata": {
            "tags": []
          },
          "execution_count": 104
        }
      ]
    },
    {
      "cell_type": "code",
      "metadata": {
        "colab": {
          "base_uri": "https://localhost:8080/"
        },
        "id": "IFQvcYgiS9Gf",
        "outputId": "cac4f280-f21c-457b-b83c-f744ad8369b7"
      },
      "source": [
        "col.filter(col[\"LOCATION\"].isNull()).count()"
      ],
      "execution_count": 105,
      "outputs": [
        {
          "output_type": "execute_result",
          "data": {
            "text/plain": [
              "209909"
            ]
          },
          "metadata": {
            "tags": []
          },
          "execution_count": 105
        }
      ]
    },
    {
      "cell_type": "code",
      "metadata": {
        "colab": {
          "base_uri": "https://localhost:8080/"
        },
        "id": "siEu-9kcTHhw",
        "outputId": "86e9a134-013a-4143-a9cf-0d9ded699abf"
      },
      "source": [
        "col.filter(col[\"BOROUGH\"].isNull()).count()"
      ],
      "execution_count": 106,
      "outputs": [
        {
          "output_type": "execute_result",
          "data": {
            "text/plain": [
              "546563"
            ]
          },
          "metadata": {
            "tags": []
          },
          "execution_count": 106
        }
      ]
    },
    {
      "cell_type": "code",
      "metadata": {
        "colab": {
          "base_uri": "https://localhost:8080/"
        },
        "id": "FbOzr-P0TPEq",
        "outputId": "3c4140eb-87fa-4213-92c2-f5bc63fb2ad6"
      },
      "source": [
        "col.filter(col[\"ZIP CODE\"].isNull()).count()"
      ],
      "execution_count": 107,
      "outputs": [
        {
          "output_type": "execute_result",
          "data": {
            "text/plain": [
              "546775"
            ]
          },
          "metadata": {
            "tags": []
          },
          "execution_count": 107
        }
      ]
    },
    {
      "cell_type": "code",
      "metadata": {
        "colab": {
          "base_uri": "https://localhost:8080/"
        },
        "id": "F350gzB0Ttd6",
        "outputId": "cca97063-818c-4dc9-f4ad-41958528bee0"
      },
      "source": [
        "col.filter(col[\"ON STREET NAME\"].isNull()).count()"
      ],
      "execution_count": 108,
      "outputs": [
        {
          "output_type": "execute_result",
          "data": {
            "text/plain": [
              "358962"
            ]
          },
          "metadata": {
            "tags": []
          },
          "execution_count": 108
        }
      ]
    },
    {
      "cell_type": "code",
      "metadata": {
        "colab": {
          "base_uri": "https://localhost:8080/"
        },
        "id": "aktWXcCST2Em",
        "outputId": "14eb2e7e-6827-4743-8baf-a920524c876c"
      },
      "source": [
        "col.filter(col[\"OFF STREET NAME\"].isNull()).count()"
      ],
      "execution_count": 109,
      "outputs": [
        {
          "output_type": "execute_result",
          "data": {
            "text/plain": [
              "1510327"
            ]
          },
          "metadata": {
            "tags": []
          },
          "execution_count": 109
        }
      ]
    },
    {
      "cell_type": "code",
      "metadata": {
        "colab": {
          "base_uri": "https://localhost:8080/"
        },
        "id": "gp-jgzIBT6tD",
        "outputId": "f510f46b-3dc3-4877-80ef-8a5451cb1e24"
      },
      "source": [
        "col.filter(col[\"CROSS STREET NAME\"].isNull()).count()"
      ],
      "execution_count": 110,
      "outputs": [
        {
          "output_type": "execute_result",
          "data": {
            "text/plain": [
              "627587"
            ]
          },
          "metadata": {
            "tags": []
          },
          "execution_count": 110
        }
      ]
    },
    {
      "cell_type": "code",
      "metadata": {
        "id": "0GDOxpvrpLeQ"
      },
      "source": [
        "missingLocation=col.filter(col[\"BOROUGH\"].isNull()).filter(col[\"ZIP CODE\"].isNull())"
      ],
      "execution_count": 111,
      "outputs": []
    },
    {
      "cell_type": "code",
      "metadata": {
        "id": "sAlRmhVbqwBN"
      },
      "source": [
        "cannotRetriveLocation = missingLocation.filter(col[\"LONGITUDE\"].isNull())"
      ],
      "execution_count": 112,
      "outputs": []
    },
    {
      "cell_type": "code",
      "metadata": {
        "colab": {
          "base_uri": "https://localhost:8080/"
        },
        "id": "ElF_74S_rZrn",
        "outputId": "27376d4c-4040-4009-b3bf-7eb591424233"
      },
      "source": [
        "col.count() ## removed the records for which we cannot retrive location at any cost."
      ],
      "execution_count": 113,
      "outputs": [
        {
          "output_type": "execute_result",
          "data": {
            "text/plain": [
              "1776922"
            ]
          },
          "metadata": {
            "tags": []
          },
          "execution_count": 113
        }
      ]
    },
    {
      "cell_type": "code",
      "metadata": {
        "id": "QQHrj52qtLtC"
      },
      "source": [
        "#Infer the schema, and register the DataFrame as a table.\n",
        "col.createOrReplaceTempView(\"col\");\n",
        "cannotRetriveLocation.createOrReplaceTempView(\"toDelete\")"
      ],
      "execution_count": 114,
      "outputs": []
    },
    {
      "cell_type": "code",
      "metadata": {
        "id": "q0F0_v-qtSXR"
      },
      "source": [
        "col=spark.sql(\"select * FROM col WHERE col.COLLISION_ID not in (select COLLISION_ID from toDelete where COLLISION_ID is not null)\");\n"
      ],
      "execution_count": 115,
      "outputs": []
    },
    {
      "cell_type": "code",
      "metadata": {
        "colab": {
          "base_uri": "https://localhost:8080/"
        },
        "id": "B-BsmtYWv5tG",
        "outputId": "fdf1cf35-72dc-4b8d-a51f-2b14469feae7"
      },
      "source": [
        "col.count()"
      ],
      "execution_count": 116,
      "outputs": [
        {
          "output_type": "execute_result",
          "data": {
            "text/plain": [
              "1598841"
            ]
          },
          "metadata": {
            "tags": []
          },
          "execution_count": 116
        }
      ]
    },
    {
      "cell_type": "code",
      "metadata": {
        "colab": {
          "base_uri": "https://localhost:8080/"
        },
        "id": "I3m_pSBiwFnE",
        "outputId": "5eff22d8-cf61-41d5-8f76-fe530b316ba0"
      },
      "source": [
        "col.filter(col[\"ZIP CODE\"].isNull()).filter(col[\"BOROUGH\"].isNotNull()).count()"
      ],
      "execution_count": 117,
      "outputs": [
        {
          "output_type": "execute_result",
          "data": {
            "text/plain": [
              "212"
            ]
          },
          "metadata": {
            "tags": []
          },
          "execution_count": 117
        }
      ]
    },
    {
      "cell_type": "code",
      "metadata": {
        "id": "-g5FF39ew20d"
      },
      "source": [
        "BOROUGH=list(map(lambda x : x[\"BOROUGH\"],col.select(\"BOROUGH\").distinct().collect()))"
      ],
      "execution_count": 118,
      "outputs": []
    },
    {
      "cell_type": "code",
      "metadata": {
        "colab": {
          "base_uri": "https://localhost:8080/"
        },
        "id": "cb-Gc1mBna0o",
        "outputId": "85765684-3b11-4639-d2bb-761acdd54aae"
      },
      "source": [
        "BOROUGH"
      ],
      "execution_count": 119,
      "outputs": [
        {
          "output_type": "execute_result",
          "data": {
            "text/plain": [
              "[None, 'QUEENS', 'BROOKLYN', 'BRONX', 'MANHATTAN', 'STATEN ISLAND']"
            ]
          },
          "metadata": {
            "tags": []
          },
          "execution_count": 119
        }
      ]
    },
    {
      "cell_type": "code",
      "metadata": {
        "id": "XuAsZemXiGuc"
      },
      "source": [
        "col=col.fillna(value=\"Unknown\",subset=[\"ZIP CODE\"])"
      ],
      "execution_count": 120,
      "outputs": []
    },
    {
      "cell_type": "code",
      "metadata": {
        "id": "VQ0IFlVtTd-M"
      },
      "source": [
        "col=col.fillna(value=\"Unknown\",subset=[\"BOROUGH\",\"LOCATION\",\"ON STREET NAME\",\"OFF STREET NAME\",\"CROSS STREET NAME\"])"
      ],
      "execution_count": 121,
      "outputs": []
    },
    {
      "cell_type": "code",
      "metadata": {
        "colab": {
          "base_uri": "https://localhost:8080/"
        },
        "id": "QCmGVySL0Pzz",
        "outputId": "9ff1788d-0a1d-4088-e92a-b6bfa035ea33"
      },
      "source": [
        "longlat.printSchema() # another data set"
      ],
      "execution_count": 122,
      "outputs": [
        {
          "output_type": "stream",
          "text": [
            "root\n",
            " |-- zip: integer (nullable = true)\n",
            " |-- city: string (nullable = true)\n",
            " |-- state: string (nullable = true)\n",
            " |-- latitude: double (nullable = true)\n",
            " |-- longitude: double (nullable = true)\n",
            " |-- timezone: integer (nullable = true)\n",
            " |-- dst: integer (nullable = true)\n",
            " |-- geopoint: string (nullable = true)\n",
            "\n"
          ],
          "name": "stdout"
        }
      ]
    },
    {
      "cell_type": "code",
      "metadata": {
        "id": "6PK36ll9ALs9"
      },
      "source": [
        "col.createOrReplaceTempView(\"col\");\n",
        "longlat.createOrReplaceTempView(\"longlat\");"
      ],
      "execution_count": 123,
      "outputs": []
    },
    {
      "cell_type": "code",
      "metadata": {
        "colab": {
          "base_uri": "https://localhost:8080/"
        },
        "id": "Cz2joYeHP3UD",
        "outputId": "f927fc79-61c0-4dcb-9b86-1090254bb9fe"
      },
      "source": [
        "longlat.filter(longlat[\"zip\"].isNull()).count()"
      ],
      "execution_count": 124,
      "outputs": [
        {
          "output_type": "execute_result",
          "data": {
            "text/plain": [
              "0"
            ]
          },
          "metadata": {
            "tags": []
          },
          "execution_count": 124
        }
      ]
    },
    {
      "cell_type": "code",
      "metadata": {
        "colab": {
          "base_uri": "https://localhost:8080/"
        },
        "id": "thHiqzAHN8_e",
        "outputId": "20e3b14d-e5f8-4481-bdb1-8089705f8e53"
      },
      "source": [
        "longlat.select(\"zip\").distinct().show()"
      ],
      "execution_count": 125,
      "outputs": [
        {
          "output_type": "stream",
          "text": [
            "+-----+\n",
            "|  zip|\n",
            "+-----+\n",
            "|83861|\n",
            "|67753|\n",
            "|45011|\n",
            "| 1580|\n",
            "|80006|\n",
            "|26623|\n",
            "|15447|\n",
            "|63106|\n",
            "|76885|\n",
            "|85321|\n",
            "|43527|\n",
            "|96044|\n",
            "|40515|\n",
            "| 2142|\n",
            "|81410|\n",
            "|53191|\n",
            "|82730|\n",
            "| 7833|\n",
            "|57380|\n",
            "|24171|\n",
            "+-----+\n",
            "only showing top 20 rows\n",
            "\n"
          ],
          "name": "stdout"
        }
      ]
    },
    {
      "cell_type": "code",
      "metadata": {
        "colab": {
          "base_uri": "https://localhost:8080/"
        },
        "id": "IQWtI_tWQEDX",
        "outputId": "0a9adbbb-fafe-4024-88ee-d0acd156c1c1"
      },
      "source": [
        "longlat.filter(longlat[\"city\"].isNull()).count()"
      ],
      "execution_count": 126,
      "outputs": [
        {
          "output_type": "execute_result",
          "data": {
            "text/plain": [
              "0"
            ]
          },
          "metadata": {
            "tags": []
          },
          "execution_count": 126
        }
      ]
    },
    {
      "cell_type": "code",
      "metadata": {
        "colab": {
          "base_uri": "https://localhost:8080/"
        },
        "id": "RxYIMeJ2QDwn",
        "outputId": "41550f20-267b-49cc-bd6f-b7cc461f10e9"
      },
      "source": [
        "longlat.filter(longlat[\"state\"].isNull()).count()"
      ],
      "execution_count": 127,
      "outputs": [
        {
          "output_type": "execute_result",
          "data": {
            "text/plain": [
              "0"
            ]
          },
          "metadata": {
            "tags": []
          },
          "execution_count": 127
        }
      ]
    },
    {
      "cell_type": "code",
      "metadata": {
        "colab": {
          "base_uri": "https://localhost:8080/"
        },
        "id": "fwYM6Ni2QMtw",
        "outputId": "bc4157fe-3682-4286-a773-b3f2c68c276c"
      },
      "source": [
        "longlat.filter(longlat[\"latitude\"].isNull()).count()"
      ],
      "execution_count": 128,
      "outputs": [
        {
          "output_type": "execute_result",
          "data": {
            "text/plain": [
              "0"
            ]
          },
          "metadata": {
            "tags": []
          },
          "execution_count": 128
        }
      ]
    },
    {
      "cell_type": "code",
      "metadata": {
        "colab": {
          "base_uri": "https://localhost:8080/"
        },
        "id": "zTBqa6DKQPhl",
        "outputId": "6a96d05d-d903-4ed6-cb28-50ceef2126bb"
      },
      "source": [
        "longlat.filter(longlat[\"longitude\"].isNull()).count()"
      ],
      "execution_count": 129,
      "outputs": [
        {
          "output_type": "execute_result",
          "data": {
            "text/plain": [
              "0"
            ]
          },
          "metadata": {
            "tags": []
          },
          "execution_count": 129
        }
      ]
    },
    {
      "cell_type": "code",
      "metadata": {
        "colab": {
          "base_uri": "https://localhost:8080/"
        },
        "id": "GLXhDY1BQTGM",
        "outputId": "80c69dc6-1c35-42e6-fdf9-33b8a5b3f846"
      },
      "source": [
        "longlat.filter(longlat[\"timezone\"].isNull()).count()"
      ],
      "execution_count": 130,
      "outputs": [
        {
          "output_type": "execute_result",
          "data": {
            "text/plain": [
              "0"
            ]
          },
          "metadata": {
            "tags": []
          },
          "execution_count": 130
        }
      ]
    },
    {
      "cell_type": "code",
      "metadata": {
        "colab": {
          "base_uri": "https://localhost:8080/"
        },
        "id": "6byAsTLyQWEs",
        "outputId": "91b10759-11c3-4cde-de3f-3448398142f6"
      },
      "source": [
        "longlat.filter(longlat[\"dst\"].isNull()).count()"
      ],
      "execution_count": 131,
      "outputs": [
        {
          "output_type": "execute_result",
          "data": {
            "text/plain": [
              "0"
            ]
          },
          "metadata": {
            "tags": []
          },
          "execution_count": 131
        }
      ]
    },
    {
      "cell_type": "code",
      "metadata": {
        "colab": {
          "base_uri": "https://localhost:8080/"
        },
        "id": "Vrgt4LsYQZ1M",
        "outputId": "b2b383a5-b168-4a6c-9ac2-458d12466913"
      },
      "source": [
        "longlat.filter(longlat[\"geopoint\"].isNull()).count()"
      ],
      "execution_count": 132,
      "outputs": [
        {
          "output_type": "execute_result",
          "data": {
            "text/plain": [
              "0"
            ]
          },
          "metadata": {
            "tags": []
          },
          "execution_count": 132
        }
      ]
    },
    {
      "cell_type": "code",
      "metadata": {
        "id": "kTxfGswTBHyx"
      },
      "source": [
        "missingZipCode=col.filter(col['ZIP CODE'].isNull());"
      ],
      "execution_count": 133,
      "outputs": []
    },
    {
      "cell_type": "code",
      "metadata": {
        "id": "dfA5oNasDcHY"
      },
      "source": [
        "missingZipCode.createOrReplaceTempView(\"missingZipCode\");\n"
      ],
      "execution_count": 134,
      "outputs": []
    },
    {
      "cell_type": "code",
      "metadata": {
        "id": "_tDVi773Pru-",
        "colab": {
          "base_uri": "https://localhost:8080/"
        },
        "outputId": "f6523675-5cf0-4004-9b07-9f278cfc1f44"
      },
      "source": [
        "col.select(\"NUMBER OF CYCLIST INJURED\").distinct().show(); ## lets check."
      ],
      "execution_count": 135,
      "outputs": [
        {
          "output_type": "stream",
          "text": [
            "+-------------------------+\n",
            "|NUMBER OF CYCLIST INJURED|\n",
            "+-------------------------+\n",
            "|                        1|\n",
            "|                        3|\n",
            "|                        4|\n",
            "|                        7|\n",
            "|                        2|\n",
            "|                        0|\n",
            "+-------------------------+\n",
            "\n"
          ],
          "name": "stdout"
        }
      ]
    },
    {
      "cell_type": "markdown",
      "metadata": {
        "id": "BKR1Qaolal01"
      },
      "source": [
        "NUMBER OF CYCLIST INJURED Is alredy cleaned."
      ]
    },
    {
      "cell_type": "code",
      "metadata": {
        "colab": {
          "base_uri": "https://localhost:8080/"
        },
        "id": "Oke_YOp3aqls",
        "outputId": "c1a24f1f-a49f-4d4e-af04-d3808c1f1133"
      },
      "source": [
        "col.select(\"NUMBER OF PERSONS INJURED\").distinct().show();"
      ],
      "execution_count": 136,
      "outputs": [
        {
          "output_type": "stream",
          "text": [
            "+-------------------------+\n",
            "|NUMBER OF PERSONS INJURED|\n",
            "+-------------------------+\n",
            "|                       31|\n",
            "|                       27|\n",
            "|                       12|\n",
            "|                       22|\n",
            "|                     null|\n",
            "|                        1|\n",
            "|                       13|\n",
            "|                        6|\n",
            "|                       16|\n",
            "|                        3|\n",
            "|                       20|\n",
            "|                        5|\n",
            "|                       19|\n",
            "|                       15|\n",
            "|                       43|\n",
            "|                        9|\n",
            "|                       17|\n",
            "|                        4|\n",
            "|                        8|\n",
            "|                        7|\n",
            "+-------------------------+\n",
            "only showing top 20 rows\n",
            "\n"
          ],
          "name": "stdout"
        }
      ]
    },
    {
      "cell_type": "markdown",
      "metadata": {
        "id": "VWIHtav3a5py"
      },
      "source": [
        "NUMBER OF PERSONS INJURED has Null value hence making it to Zero."
      ]
    },
    {
      "cell_type": "code",
      "metadata": {
        "id": "6YleZDuMa3oU"
      },
      "source": [
        "col=col.fillna(value=0,subset=[\"NUMBER OF PERSONS INJURED\"]) # clean null values to zero."
      ],
      "execution_count": 137,
      "outputs": []
    },
    {
      "cell_type": "code",
      "metadata": {
        "colab": {
          "base_uri": "https://localhost:8080/"
        },
        "id": "3os8QdmMcE_Q",
        "outputId": "87a5bbff-91a9-415d-a121-bd59a5018ba3"
      },
      "source": [
        "#NUMBER OF PERSONS KILLED\n",
        "print(col.select(\"NUMBER OF PERSONS KILLED\").distinct().show());"
      ],
      "execution_count": 138,
      "outputs": [
        {
          "output_type": "stream",
          "text": [
            "+------------------------+\n",
            "|NUMBER OF PERSONS KILLED|\n",
            "+------------------------+\n",
            "|                    null|\n",
            "|                       1|\n",
            "|                       3|\n",
            "|                       5|\n",
            "|                       4|\n",
            "|                       8|\n",
            "|                       2|\n",
            "|                       0|\n",
            "+------------------------+\n",
            "\n",
            "None\n"
          ],
          "name": "stdout"
        }
      ]
    },
    {
      "cell_type": "markdown",
      "metadata": {
        "id": "C3R5AX0Vh9FK"
      },
      "source": [
        "NUMBER OF PERSONS KILLED has NULL values : replacing them with 0.\n"
      ]
    },
    {
      "cell_type": "code",
      "metadata": {
        "id": "EfoX3vF6hxOb"
      },
      "source": [
        "col=col.fillna(value=0,subset=[\"NUMBER OF PERSONS KILLED\"])"
      ],
      "execution_count": 139,
      "outputs": []
    },
    {
      "cell_type": "code",
      "metadata": {
        "id": "7fJxvjC5iEdz",
        "colab": {
          "base_uri": "https://localhost:8080/"
        },
        "outputId": "e4677e35-00c5-422f-d673-a22a5e16d0c8"
      },
      "source": [
        "print(col.select(\"NUMBER OF PEDESTRIANS INJURED\").distinct().show());"
      ],
      "execution_count": 140,
      "outputs": [
        {
          "output_type": "stream",
          "text": [
            "+-----------------------------+\n",
            "|NUMBER OF PEDESTRIANS INJURED|\n",
            "+-----------------------------+\n",
            "|                           27|\n",
            "|                            1|\n",
            "|                           13|\n",
            "|                            6|\n",
            "|                            3|\n",
            "|                            5|\n",
            "|                           15|\n",
            "|                            9|\n",
            "|                            4|\n",
            "|                            7|\n",
            "|                            2|\n",
            "|                            0|\n",
            "+-----------------------------+\n",
            "\n",
            "None\n"
          ],
          "name": "stdout"
        }
      ]
    },
    {
      "cell_type": "markdown",
      "metadata": {
        "id": "wcc_M6cjiOBa"
      },
      "source": [
        "NUMBER OF PEDESTRIANS INJURED has no null value"
      ]
    },
    {
      "cell_type": "code",
      "metadata": {
        "id": "5eJZP8eDiPui",
        "colab": {
          "base_uri": "https://localhost:8080/"
        },
        "outputId": "bd804f28-5276-47c9-e27d-7d9f1efe64c1"
      },
      "source": [
        "#NUMBER OF PEDESTRIANS KILLED\n",
        "print(col.select(\"NUMBER OF PEDESTRIANS KILLED\").distinct().show());"
      ],
      "execution_count": 141,
      "outputs": [
        {
          "output_type": "stream",
          "text": [
            "+----------------------------+\n",
            "|NUMBER OF PEDESTRIANS KILLED|\n",
            "+----------------------------+\n",
            "|                           1|\n",
            "|                           6|\n",
            "|                           2|\n",
            "|                           0|\n",
            "+----------------------------+\n",
            "\n",
            "None\n"
          ],
          "name": "stdout"
        }
      ]
    },
    {
      "cell_type": "markdown",
      "metadata": {
        "id": "ZW3DJufWidXx"
      },
      "source": [
        "\n",
        "\n",
        "```\n",
        "NUMBER OF PEDESTRIANS KILLED has no null value\n",
        "```\n",
        "\n"
      ]
    },
    {
      "cell_type": "code",
      "metadata": {
        "id": "5Y7u0j2hik6r",
        "colab": {
          "base_uri": "https://localhost:8080/"
        },
        "outputId": "0ec29744-6587-440b-93db-6e8236f1a3c7"
      },
      "source": [
        "print(col.select(\"NUMBER OF CYCLIST INJURED\").distinct().show());"
      ],
      "execution_count": 142,
      "outputs": [
        {
          "output_type": "stream",
          "text": [
            "+-------------------------+\n",
            "|NUMBER OF CYCLIST INJURED|\n",
            "+-------------------------+\n",
            "|                        1|\n",
            "|                        3|\n",
            "|                        4|\n",
            "|                        7|\n",
            "|                        2|\n",
            "|                        0|\n",
            "+-------------------------+\n",
            "\n",
            "None\n"
          ],
          "name": "stdout"
        }
      ]
    },
    {
      "cell_type": "markdown",
      "metadata": {
        "id": "BxzxmZyNiviy"
      },
      "source": [
        "NUMBER OF CYCLIST INJURED has no null value"
      ]
    },
    {
      "cell_type": "code",
      "metadata": {
        "id": "Il3UyBZ2iyua",
        "colab": {
          "base_uri": "https://localhost:8080/"
        },
        "outputId": "f11d923e-2454-41b9-d455-421f46a642e7"
      },
      "source": [
        "print(col.select(\"NUMBER OF CYCLIST KILLED\").distinct().show());"
      ],
      "execution_count": 143,
      "outputs": [
        {
          "output_type": "stream",
          "text": [
            "+------------------------+\n",
            "|NUMBER OF CYCLIST KILLED|\n",
            "+------------------------+\n",
            "|                       1|\n",
            "|                       2|\n",
            "|                       0|\n",
            "+------------------------+\n",
            "\n",
            "None\n"
          ],
          "name": "stdout"
        }
      ]
    },
    {
      "cell_type": "code",
      "metadata": {
        "id": "2EsFBEkMi8Ci"
      },
      "source": [
        ""
      ],
      "execution_count": 143,
      "outputs": []
    },
    {
      "cell_type": "markdown",
      "metadata": {
        "id": "Ew2Xe-rGi9-z"
      },
      "source": [
        "NUMBER OF CYCLIST KILLED has no null value"
      ]
    },
    {
      "cell_type": "code",
      "metadata": {
        "id": "8N4O4-GXjDJX",
        "colab": {
          "base_uri": "https://localhost:8080/"
        },
        "outputId": "de377c9f-249f-4857-9a42-d1ebf63d0074"
      },
      "source": [
        "#NUMBER OF MOTORIST INJURED\n",
        "print(col.select(\"NUMBER OF MOTORIST INJURED\").distinct().show(100));"
      ],
      "execution_count": 144,
      "outputs": [
        {
          "output_type": "stream",
          "text": [
            "+--------------------------+\n",
            "|NUMBER OF MOTORIST INJURED|\n",
            "+--------------------------+\n",
            "|                        31|\n",
            "|                        12|\n",
            "|                        22|\n",
            "|                         1|\n",
            "|                        13|\n",
            "|                         6|\n",
            "|                        16|\n",
            "|                         3|\n",
            "|                        20|\n",
            "|                         5|\n",
            "|                        19|\n",
            "|                        15|\n",
            "|                        43|\n",
            "|                         9|\n",
            "|                        17|\n",
            "|                         4|\n",
            "|                         8|\n",
            "|                         7|\n",
            "|                        10|\n",
            "|                        24|\n",
            "|                        21|\n",
            "|                        11|\n",
            "|                        14|\n",
            "|                         2|\n",
            "|                        30|\n",
            "|                         0|\n",
            "|                        18|\n",
            "+--------------------------+\n",
            "\n",
            "None\n"
          ],
          "name": "stdout"
        }
      ]
    },
    {
      "cell_type": "markdown",
      "metadata": {
        "id": "THCAUEDEjWZe"
      },
      "source": [
        "NUMBER OF MOTORIST INJURED has no null value"
      ]
    },
    {
      "cell_type": "code",
      "metadata": {
        "id": "RU2FnrQojLcn",
        "colab": {
          "base_uri": "https://localhost:8080/"
        },
        "outputId": "4e0254ad-b378-478f-a2d5-0acb01a44957"
      },
      "source": [
        "#NUMBER OF MOTORIST INJURED\n",
        "print(col.select(\"NUMBER OF MOTORIST KILLED\").distinct().show(100));"
      ],
      "execution_count": 145,
      "outputs": [
        {
          "output_type": "stream",
          "text": [
            "+-------------------------+\n",
            "|NUMBER OF MOTORIST KILLED|\n",
            "+-------------------------+\n",
            "|                        1|\n",
            "|                        3|\n",
            "|                        5|\n",
            "|                        4|\n",
            "|                        2|\n",
            "|                        0|\n",
            "+-------------------------+\n",
            "\n",
            "None\n"
          ],
          "name": "stdout"
        }
      ]
    },
    {
      "cell_type": "code",
      "metadata": {
        "id": "JzAqJZvbjdrL"
      },
      "source": [
        ""
      ],
      "execution_count": 145,
      "outputs": []
    },
    {
      "cell_type": "markdown",
      "metadata": {
        "id": "wYiUDENKjfnc"
      },
      "source": [
        "NUMBER OF MOTORIST INJURED has no null value"
      ]
    },
    {
      "cell_type": "code",
      "metadata": {
        "colab": {
          "base_uri": "https://localhost:8080/"
        },
        "id": "0Nfqmb9TjgYM",
        "outputId": "de62b2f4-afc1-468e-bc35-005e53c3ee14"
      },
      "source": [
        "#CONTRIBUTING FACTOR VEHICLE\n",
        "print(col.select(\"CONTRIBUTING FACTOR VEHICLE 1\").distinct().show(70, truncate = False));\n",
        "\n",
        "# has numerical values 1 and 80\n",
        "# has null value.\n"
      ],
      "execution_count": 146,
      "outputs": [
        {
          "output_type": "stream",
          "text": [
            "+-----------------------------------------------------+\n",
            "|CONTRIBUTING FACTOR VEHICLE 1                        |\n",
            "+-----------------------------------------------------+\n",
            "|Following Too Closely                                |\n",
            "|Traffic Control Disregarded                          |\n",
            "|Driverless/Runaway Vehicle                           |\n",
            "|Accelerator Defective                                |\n",
            "|Windshield Inadequate                                |\n",
            "|Using On Board Navigation Device                     |\n",
            "|Unsafe Speed                                         |\n",
            "|Shoulders Defective/Improper                         |\n",
            "|Tinted Windows                                       |\n",
            "|Oversized Vehicle                                    |\n",
            "|Passing or Lane Usage Improper                       |\n",
            "|Lane Marking Improper/Inadequate                     |\n",
            "|Other Lighting Defects                               |\n",
            "|Aggressive Driving/Road Rage                         |\n",
            "|null                                                 |\n",
            "|Other Vehicular                                      |\n",
            "|Driver Inexperience                                  |\n",
            "|Tow Hitch Defective                                  |\n",
            "|Texting                                              |\n",
            "|Illnes                                               |\n",
            "|Drugs (illegal)                                      |\n",
            "|Unspecified                                          |\n",
            "|Pavement Defective                                   |\n",
            "|Prescription Medication                              |\n",
            "|Cell Phone (hand-held)                               |\n",
            "|View Obstructed/Limited                              |\n",
            "|Lost Consciousness                                   |\n",
            "|Reaction to Other Uninvolved Vehicle                 |\n",
            "|Reaction to Uninvolved Vehicle                       |\n",
            "|Fell Asleep                                          |\n",
            "|Tire Failure/Inadequate                              |\n",
            "|Outside Car Distraction                              |\n",
            "|Drugs (Illegal)                                      |\n",
            "|Fatigued/Drowsy                                      |\n",
            "|Driver Inattention/Distraction                       |\n",
            "|Cell Phone (hand-Held)                               |\n",
            "|Listening/Using Headphones                           |\n",
            "|Failure to Keep Right                                |\n",
            "|Obstruction/Debris                                   |\n",
            "|Unsafe Lane Changing                                 |\n",
            "|Pedestrian/Bicyclist/Other Pedestrian Error/Confusion|\n",
            "|Passenger Distraction                                |\n",
            "|Alcohol Involvement                                  |\n",
            "|1                                                    |\n",
            "|Illness                                              |\n",
            "|Traffic Control Device Improper/Non-Working          |\n",
            "|Brakes Defective                                     |\n",
            "|Backing Unsafely                                     |\n",
            "|Eating or Drinking                                   |\n",
            "|Headlights Defective                                 |\n",
            "|Failure to Yield Right-of-Way                        |\n",
            "|Animals Action                                       |\n",
            "|Turning Improperly                                   |\n",
            "|Steering Failure                                     |\n",
            "|Glare                                                |\n",
            "|Passing Too Closely                                  |\n",
            "|Vehicle Vandalism                                    |\n",
            "|Pavement Slippery                                    |\n",
            "|Physical Disability                                  |\n",
            "|80                                                   |\n",
            "|Other Electronic Device                              |\n",
            "|Cell Phone (hands-free)                              |\n",
            "+-----------------------------------------------------+\n",
            "\n",
            "None\n"
          ],
          "name": "stdout"
        }
      ]
    },
    {
      "cell_type": "code",
      "metadata": {
        "id": "Y37dbMw7YAj9"
      },
      "source": [
        "from pyspark.sql.functions import when"
      ],
      "execution_count": 149,
      "outputs": []
    },
    {
      "cell_type": "code",
      "metadata": {
        "id": "l3W74s7vMMsB"
      },
      "source": [
        "col = col.withColumn('CONTRIBUTING FACTOR VEHICLE 1', when(col[\"CONTRIBUTING FACTOR VEHICLE 1\"] == \"Drugs (illegal)\", \"Drugs (Illegal)\").otherwise(col[\"CONTRIBUTING FACTOR VEHICLE 1\"]))"
      ],
      "execution_count": 150,
      "outputs": []
    },
    {
      "cell_type": "code",
      "metadata": {
        "id": "507vDZhVMxBb"
      },
      "source": [
        "col = col.withColumn('CONTRIBUTING FACTOR VEHICLE 1', when(col[\"CONTRIBUTING FACTOR VEHICLE 1\"] == \"Cell Phone (hand-Held)\", \"Cell Phone (hand-held)\").otherwise(col[\"CONTRIBUTING FACTOR VEHICLE 1\"]))"
      ],
      "execution_count": 151,
      "outputs": []
    },
    {
      "cell_type": "code",
      "metadata": {
        "id": "OR2g24zpOFgR"
      },
      "source": [
        "col = col.withColumn('CONTRIBUTING FACTOR VEHICLE 1', when(col[\"CONTRIBUTING FACTOR VEHICLE 1\"] == \"Illnes\", \"Illness\").otherwise(col[\"CONTRIBUTING FACTOR VEHICLE 1\"]))"
      ],
      "execution_count": 152,
      "outputs": []
    },
    {
      "cell_type": "code",
      "metadata": {
        "id": "Qw22IuVIOF3A"
      },
      "source": [
        "col = col.withColumn('CONTRIBUTING FACTOR VEHICLE 1', when(col[\"CONTRIBUTING FACTOR VEHICLE 1\"].isin(\"1\",\"80\"), \"Others\").otherwise(col[\"CONTRIBUTING FACTOR VEHICLE 1\"]))"
      ],
      "execution_count": 153,
      "outputs": []
    },
    {
      "cell_type": "code",
      "metadata": {
        "colab": {
          "base_uri": "https://localhost:8080/"
        },
        "id": "yv1mQy2rmjh4",
        "outputId": "26eb3f33-12a9-4c90-a3c6-c3c18f55046d"
      },
      "source": [
        "#CONTRIBUTING FACTOR VEHICLE\n",
        "print(col.select(\"CONTRIBUTING FACTOR VEHICLE 2\").distinct().show(100));\n",
        "\n",
        "# has numerical values 1 and 80.\n",
        "# has null value.\n"
      ],
      "execution_count": 154,
      "outputs": [
        {
          "output_type": "stream",
          "text": [
            "+-----------------------------+\n",
            "|CONTRIBUTING FACTOR VEHICLE 2|\n",
            "+-----------------------------+\n",
            "|         Following Too Clo...|\n",
            "|         Traffic Control D...|\n",
            "|         Driverless/Runawa...|\n",
            "|         Accelerator Defec...|\n",
            "|         Windshield Inadeq...|\n",
            "|         Using On Board Na...|\n",
            "|                 Unsafe Speed|\n",
            "|         Shoulders Defecti...|\n",
            "|               Tinted Windows|\n",
            "|            Oversized Vehicle|\n",
            "|         Passing or Lane U...|\n",
            "|         Lane Marking Impr...|\n",
            "|         Other Lighting De...|\n",
            "|                         null|\n",
            "|         Aggressive Drivin...|\n",
            "|              Other Vehicular|\n",
            "|          Driver Inexperience|\n",
            "|          Tow Hitch Defective|\n",
            "|                      Texting|\n",
            "|                       Illnes|\n",
            "|              Drugs (illegal)|\n",
            "|                  Unspecified|\n",
            "|           Pavement Defective|\n",
            "|         Prescription Medi...|\n",
            "|         Cell Phone (hand-...|\n",
            "|         View Obstructed/L...|\n",
            "|           Lost Consciousness|\n",
            "|         Reaction to Other...|\n",
            "|         Reaction to Uninv...|\n",
            "|                  Fell Asleep|\n",
            "|         Tire Failure/Inad...|\n",
            "|         Outside Car Distr...|\n",
            "|              Drugs (Illegal)|\n",
            "|              Fatigued/Drowsy|\n",
            "|         Driver Inattentio...|\n",
            "|         Cell Phone (hand-...|\n",
            "|         Listening/Using H...|\n",
            "|         Failure to Keep R...|\n",
            "|           Obstruction/Debris|\n",
            "|         Unsafe Lane Changing|\n",
            "|         Pedestrian/Bicycl...|\n",
            "|         Passenger Distrac...|\n",
            "|          Alcohol Involvement|\n",
            "|                            1|\n",
            "|                      Illness|\n",
            "|         Traffic Control D...|\n",
            "|             Backing Unsafely|\n",
            "|             Brakes Defective|\n",
            "|           Eating or Drinking|\n",
            "|         Headlights Defective|\n",
            "|         Failure to Yield ...|\n",
            "|               Animals Action|\n",
            "|           Turning Improperly|\n",
            "|                        Glare|\n",
            "|             Steering Failure|\n",
            "|          Passing Too Closely|\n",
            "|            Vehicle Vandalism|\n",
            "|            Pavement Slippery|\n",
            "|          Physical Disability|\n",
            "|                           80|\n",
            "|         Other Electronic ...|\n",
            "|         Cell Phone (hands...|\n",
            "+-----------------------------+\n",
            "\n",
            "None\n"
          ],
          "name": "stdout"
        }
      ]
    },
    {
      "cell_type": "code",
      "metadata": {
        "id": "PnChBE_tRYmd"
      },
      "source": [
        "col = col.withColumn('CONTRIBUTING FACTOR VEHICLE 2', when(col[\"CONTRIBUTING FACTOR VEHICLE 2\"] == \"Drugs (illegal)\", \"Drugs (Illegal)\").otherwise(col[\"CONTRIBUTING FACTOR VEHICLE 2\"]))"
      ],
      "execution_count": 155,
      "outputs": []
    },
    {
      "cell_type": "code",
      "metadata": {
        "id": "RCY6kP2cRhgk"
      },
      "source": [
        "col = col.withColumn('CONTRIBUTING FACTOR VEHICLE 2', when(col[\"CONTRIBUTING FACTOR VEHICLE 2\"] == \"Cell Phone (hand-Held)\", \"Cell Phone (hand-held)\").otherwise(col[\"CONTRIBUTING FACTOR VEHICLE 2\"]))"
      ],
      "execution_count": 156,
      "outputs": []
    },
    {
      "cell_type": "code",
      "metadata": {
        "id": "Udii7OrHRl4n"
      },
      "source": [
        "col = col.withColumn('CONTRIBUTING FACTOR VEHICLE 2', when(col[\"CONTRIBUTING FACTOR VEHICLE 2\"] == \"Illnes\", \"Illness\").otherwise(col[\"CONTRIBUTING FACTOR VEHICLE 2\"]))"
      ],
      "execution_count": 157,
      "outputs": []
    },
    {
      "cell_type": "code",
      "metadata": {
        "id": "krRJIx57Rv-6"
      },
      "source": [
        "col = col.withColumn('CONTRIBUTING FACTOR VEHICLE 2', when(col[\"CONTRIBUTING FACTOR VEHICLE 2\"].isin(\"1\",\"80\"), \"Others\").otherwise(col[\"CONTRIBUTING FACTOR VEHICLE 2\"]))"
      ],
      "execution_count": 158,
      "outputs": []
    },
    {
      "cell_type": "code",
      "metadata": {
        "id": "UeqFgJDbnbLc",
        "colab": {
          "base_uri": "https://localhost:8080/"
        },
        "outputId": "0f615bbc-1674-4843-a851-8f9f7514e37a"
      },
      "source": [
        "#CONTRIBUTING FACTOR VEHICLE\n",
        "print(col.select(\"CONTRIBUTING FACTOR VEHICLE 3\").distinct().show(100));\n",
        "\n",
        "# has numerical values 1 and 80.\n",
        "# has null value."
      ],
      "execution_count": 159,
      "outputs": [
        {
          "output_type": "stream",
          "text": [
            "+-----------------------------+\n",
            "|CONTRIBUTING FACTOR VEHICLE 3|\n",
            "+-----------------------------+\n",
            "|         Following Too Clo...|\n",
            "|         Traffic Control D...|\n",
            "|         Driverless/Runawa...|\n",
            "|         Accelerator Defec...|\n",
            "|                 Unsafe Speed|\n",
            "|               Tinted Windows|\n",
            "|            Oversized Vehicle|\n",
            "|         Passing or Lane U...|\n",
            "|         Lane Marking Impr...|\n",
            "|                         null|\n",
            "|         Aggressive Drivin...|\n",
            "|              Other Vehicular|\n",
            "|          Driver Inexperience|\n",
            "|                       Illnes|\n",
            "|              Drugs (illegal)|\n",
            "|                  Unspecified|\n",
            "|           Pavement Defective|\n",
            "|         Prescription Medi...|\n",
            "|         View Obstructed/L...|\n",
            "|           Lost Consciousness|\n",
            "|         Reaction to Other...|\n",
            "|         Reaction to Uninv...|\n",
            "|                  Fell Asleep|\n",
            "|         Tire Failure/Inad...|\n",
            "|         Outside Car Distr...|\n",
            "|              Drugs (Illegal)|\n",
            "|              Fatigued/Drowsy|\n",
            "|         Driver Inattentio...|\n",
            "|         Cell Phone (hand-...|\n",
            "|         Failure to Keep R...|\n",
            "|           Obstruction/Debris|\n",
            "|         Unsafe Lane Changing|\n",
            "|         Pedestrian/Bicycl...|\n",
            "|         Passenger Distrac...|\n",
            "|          Alcohol Involvement|\n",
            "|                            1|\n",
            "|                      Illness|\n",
            "|         Traffic Control D...|\n",
            "|             Backing Unsafely|\n",
            "|             Brakes Defective|\n",
            "|         Failure to Yield ...|\n",
            "|               Animals Action|\n",
            "|           Turning Improperly|\n",
            "|                        Glare|\n",
            "|             Steering Failure|\n",
            "|          Passing Too Closely|\n",
            "|            Pavement Slippery|\n",
            "|          Physical Disability|\n",
            "|                           80|\n",
            "|         Other Electronic ...|\n",
            "|         Cell Phone (hands...|\n",
            "+-----------------------------+\n",
            "\n",
            "None\n"
          ],
          "name": "stdout"
        }
      ]
    },
    {
      "cell_type": "code",
      "metadata": {
        "id": "pas21lJpSCZ-"
      },
      "source": [
        "col = col.withColumn('CONTRIBUTING FACTOR VEHICLE 3', when(col[\"CONTRIBUTING FACTOR VEHICLE 3\"] == \"Drugs (illegal)\", \"Drugs (Illegal)\").otherwise(col[\"CONTRIBUTING FACTOR VEHICLE 3\"]))\n",
        "col = col.withColumn('CONTRIBUTING FACTOR VEHICLE 3', when(col[\"CONTRIBUTING FACTOR VEHICLE 3\"] == \"Cell Phone (hand-Held)\", \"Cell Phone (hand-held)\").otherwise(col[\"CONTRIBUTING FACTOR VEHICLE 3\"]))\n",
        "col = col.withColumn('CONTRIBUTING FACTOR VEHICLE 3', when(col[\"CONTRIBUTING FACTOR VEHICLE 3\"] == \"Illnes\", \"Illness\").otherwise(col[\"CONTRIBUTING FACTOR VEHICLE 3\"]))\n",
        "col = col.withColumn('CONTRIBUTING FACTOR VEHICLE 3', when(col[\"CONTRIBUTING FACTOR VEHICLE 3\"].isin(\"1\",\"80\"), \"Others\").otherwise(col[\"CONTRIBUTING FACTOR VEHICLE 3\"]))"
      ],
      "execution_count": 160,
      "outputs": []
    },
    {
      "cell_type": "code",
      "metadata": {
        "colab": {
          "base_uri": "https://localhost:8080/"
        },
        "id": "G5nOTYmvnneL",
        "outputId": "7aa963d5-8daa-49be-c5bc-16ac4193ec77"
      },
      "source": [
        "#CONTRIBUTING FACTOR VEHICLE\n",
        "print(col.select(\"CONTRIBUTING FACTOR VEHICLE 4\").distinct().show(100));\n",
        "# has null value."
      ],
      "execution_count": 161,
      "outputs": [
        {
          "output_type": "stream",
          "text": [
            "+-----------------------------+\n",
            "|CONTRIBUTING FACTOR VEHICLE 4|\n",
            "+-----------------------------+\n",
            "|         Following Too Clo...|\n",
            "|         Traffic Control D...|\n",
            "|         Accelerator Defec...|\n",
            "|         Driverless/Runawa...|\n",
            "|         Windshield Inadeq...|\n",
            "|                 Unsafe Speed|\n",
            "|         Passing or Lane U...|\n",
            "|                         null|\n",
            "|         Aggressive Drivin...|\n",
            "|              Other Vehicular|\n",
            "|          Driver Inexperience|\n",
            "|              Drugs (illegal)|\n",
            "|                  Unspecified|\n",
            "|           Pavement Defective|\n",
            "|         Prescription Medi...|\n",
            "|         View Obstructed/L...|\n",
            "|           Lost Consciousness|\n",
            "|         Reaction to Uninv...|\n",
            "|                  Fell Asleep|\n",
            "|         Outside Car Distr...|\n",
            "|              Drugs (Illegal)|\n",
            "|              Fatigued/Drowsy|\n",
            "|         Driver Inattentio...|\n",
            "|         Failure to Keep R...|\n",
            "|           Obstruction/Debris|\n",
            "|         Unsafe Lane Changing|\n",
            "|          Alcohol Involvement|\n",
            "|                      Illness|\n",
            "|         Traffic Control D...|\n",
            "|             Backing Unsafely|\n",
            "|             Brakes Defective|\n",
            "|         Failure to Yield ...|\n",
            "|               Animals Action|\n",
            "|           Turning Improperly|\n",
            "|                        Glare|\n",
            "|             Steering Failure|\n",
            "|          Passing Too Closely|\n",
            "|            Pavement Slippery|\n",
            "|          Physical Disability|\n",
            "|         Other Electronic ...|\n",
            "+-----------------------------+\n",
            "\n",
            "None\n"
          ],
          "name": "stdout"
        }
      ]
    },
    {
      "cell_type": "code",
      "metadata": {
        "id": "z-SGJ4ZuSajH"
      },
      "source": [
        "col = col.withColumn('CONTRIBUTING FACTOR VEHICLE 4', when(col[\"CONTRIBUTING FACTOR VEHICLE 4\"] == \"Drugs (illegal)\", \"Drugs (Illegal)\").otherwise(col[\"CONTRIBUTING FACTOR VEHICLE 4\"]))\n",
        "col = col.withColumn('CONTRIBUTING FACTOR VEHICLE 4', when(col[\"CONTRIBUTING FACTOR VEHICLE 4\"] == \"Cell Phone (hand-Held)\", \"Cell Phone (hand-held)\").otherwise(col[\"CONTRIBUTING FACTOR VEHICLE 4\"]))\n",
        "col = col.withColumn('CONTRIBUTING FACTOR VEHICLE 4', when(col[\"CONTRIBUTING FACTOR VEHICLE 4\"] == \"Illnes\", \"Illness\").otherwise(col[\"CONTRIBUTING FACTOR VEHICLE 4\"]))\n",
        "col = col.withColumn('CONTRIBUTING FACTOR VEHICLE 4', when(col[\"CONTRIBUTING FACTOR VEHICLE 4\"].isin(\"1\",\"80\"), \"Others\").otherwise(col[\"CONTRIBUTING FACTOR VEHICLE 4\"]))"
      ],
      "execution_count": 162,
      "outputs": []
    },
    {
      "cell_type": "code",
      "metadata": {
        "colab": {
          "base_uri": "https://localhost:8080/"
        },
        "id": "pt8kCCdqlnIB",
        "outputId": "8cf67352-d927-44bc-8498-c3a6215e54fe"
      },
      "source": [
        "print(col.select(\"CONTRIBUTING FACTOR VEHICLE 5\").distinct().show(30));\n",
        "# has null values"
      ],
      "execution_count": 163,
      "outputs": [
        {
          "output_type": "stream",
          "text": [
            "+-----------------------------+\n",
            "|CONTRIBUTING FACTOR VEHICLE 5|\n",
            "+-----------------------------+\n",
            "|         Following Too Clo...|\n",
            "|         Traffic Control D...|\n",
            "|                 Unsafe Speed|\n",
            "|         Passing or Lane U...|\n",
            "|                         null|\n",
            "|         Aggressive Drivin...|\n",
            "|              Other Vehicular|\n",
            "|          Driver Inexperience|\n",
            "|              Drugs (illegal)|\n",
            "|                  Unspecified|\n",
            "|           Pavement Defective|\n",
            "|         Reaction to Uninv...|\n",
            "|                  Fell Asleep|\n",
            "|         Tire Failure/Inad...|\n",
            "|         Outside Car Distr...|\n",
            "|              Fatigued/Drowsy|\n",
            "|         Driver Inattentio...|\n",
            "|         Failure to Keep R...|\n",
            "|           Obstruction/Debris|\n",
            "|          Alcohol Involvement|\n",
            "|                      Illness|\n",
            "|         Traffic Control D...|\n",
            "|             Brakes Defective|\n",
            "|             Backing Unsafely|\n",
            "|         Failure to Yield ...|\n",
            "|                        Glare|\n",
            "|             Steering Failure|\n",
            "|          Passing Too Closely|\n",
            "|            Pavement Slippery|\n",
            "|         Other Electronic ...|\n",
            "+-----------------------------+\n",
            "\n",
            "None\n"
          ],
          "name": "stdout"
        }
      ]
    },
    {
      "cell_type": "code",
      "metadata": {
        "id": "6N2u3KRxSm6W"
      },
      "source": [
        "col = col.withColumn('CONTRIBUTING FACTOR VEHICLE 5', when(col[\"CONTRIBUTING FACTOR VEHICLE 5\"] == \"Drugs (illegal)\", \"Drugs (Illegal)\").otherwise(col[\"CONTRIBUTING FACTOR VEHICLE 5\"]))\n",
        "col = col.withColumn('CONTRIBUTING FACTOR VEHICLE 5', when(col[\"CONTRIBUTING FACTOR VEHICLE 5\"] == \"Cell Phone (hand-Held)\", \"Cell Phone (hand-held)\").otherwise(col[\"CONTRIBUTING FACTOR VEHICLE 5\"]))\n",
        "col = col.withColumn('CONTRIBUTING FACTOR VEHICLE 5', when(col[\"CONTRIBUTING FACTOR VEHICLE 5\"] == \"Illnes\", \"Illness\").otherwise(col[\"CONTRIBUTING FACTOR VEHICLE 5\"]))\n",
        "col = col.withColumn('CONTRIBUTING FACTOR VEHICLE 5', when(col[\"CONTRIBUTING FACTOR VEHICLE 5\"].isin(\"1\",\"80\"), \"Others\").otherwise(col[\"CONTRIBUTING FACTOR VEHICLE 5\"]))"
      ],
      "execution_count": 250,
      "outputs": []
    },
    {
      "cell_type": "code",
      "metadata": {
        "colab": {
          "base_uri": "https://localhost:8080/"
        },
        "id": "XJvithwG20mf",
        "outputId": "f4aea246-6659-4b87-d490-b3f6e9cbf6f2"
      },
      "source": [
        "col.count()"
      ],
      "execution_count": 165,
      "outputs": [
        {
          "output_type": "execute_result",
          "data": {
            "text/plain": [
              "1598841"
            ]
          },
          "metadata": {
            "tags": []
          },
          "execution_count": 165
        }
      ]
    },
    {
      "cell_type": "code",
      "metadata": {
        "id": "Mf_VcL97Fyy-"
      },
      "source": [
        "## Setting all null values to Unknown \n",
        "col=col.fillna(value=\"Unknown\",subset=[\"CONTRIBUTING FACTOR VEHICLE 1\",\"CONTRIBUTING FACTOR VEHICLE 2\",\"CONTRIBUTING FACTOR VEHICLE 3\",\"CONTRIBUTING FACTOR VEHICLE 4\",\"CONTRIBUTING FACTOR VEHICLE 5\"])"
      ],
      "execution_count": 166,
      "outputs": []
    },
    {
      "cell_type": "code",
      "metadata": {
        "colab": {
          "base_uri": "https://localhost:8080/"
        },
        "id": "LWSphU64OegZ",
        "outputId": "054ddb66-c040-4fbc-fe33-f1b976d89bf2"
      },
      "source": [
        "## Checking what values in VEHICLE TYPE CODE need to be cleaned\n",
        "print(col.select(\"VEHICLE TYPE CODE 1\",\"VEHICLE TYPE CODE 2\",\"VEHICLE TYPE CODE 3\",\"VEHICLE TYPE CODE 4\",\"VEHICLE TYPE CODE 5\").distinct().show(30));\n"
      ],
      "execution_count": 167,
      "outputs": [
        {
          "output_type": "stream",
          "text": [
            "+--------------------+--------------------+--------------------+--------------------+--------------------+\n",
            "| VEHICLE TYPE CODE 1| VEHICLE TYPE CODE 2| VEHICLE TYPE CODE 3| VEHICLE TYPE CODE 4| VEHICLE TYPE CODE 5|\n",
            "+--------------------+--------------------+--------------------+--------------------+--------------------+\n",
            "|               Sedan|               MOPED|                null|                null|                null|\n",
            "|          SKID LOADE|Station Wagon/Spo...|                null|                null|                null|\n",
            "|           Box Truck|Station Wagon/Spo...|          Motorcycle|               Sedan|Station Wagon/Spo...|\n",
            "|             TRAILER|       Pick-up Truck|                null|                null|                null|\n",
            "|         Chassis Cab|Station Wagon/Spo...|               Sedan|                null|                null|\n",
            "|                LIMO|          GAS SCOOTE|                null|                null|                null|\n",
            "|           Lift Boom|           Box Truck|                null|                null|                null|\n",
            "|Station Wagon/Spo...|Station Wagon/Spo...|Station Wagon/Spo...|          FLATBED TR|                null|\n",
            "|       Pick-up Truck|       Pick-up Truck|               Sedan|                null|                null|\n",
            "|Station Wagon/Spo...|       Pick-up Truck|                Taxi|Station Wagon/Spo...|                null|\n",
            "|          Dump truck|               Sedan|                null|                null|                null|\n",
            "|                LIMO|         Convertible|                null|                null|                null|\n",
            "|            Flat Bed|                 Bus|                null|                null|                null|\n",
            "|               WAGON|               Sedan|                null|                null|                null|\n",
            "|                 van|Tractor Truck Diesel|                null|                null|                null|\n",
            "|               Sedan|               crane|                null|                null|                null|\n",
            "|                 Bus|Station Wagon/Spo...|Station Wagon/Spo...|Station Wagon/Spo...|                null|\n",
            "|Tractor Truck Gas...|Station Wagon/Spo...|Station Wagon/Spo...|Station Wagon/Spo...|               Sedan|\n",
            "|           Box Truck|               Sedan|               Sedan|                Taxi|                null|\n",
            "|                Taxi|               TRACT|                null|                null|                null|\n",
            "|               Sedan|                Pick|                null|                null|                null|\n",
            "|         Convertible| Tow Truck / Wrecker|                null|                null|                null|\n",
            "|          Motorcycle|       Pick-up Truck|Station Wagon/Spo...|                null|                null|\n",
            "|               Sedan|                LIFT|                null|                null|                null|\n",
            "|Station Wagon/Spo...|               USPOS|                null|                null|                null|\n",
            "|                 Bus|                Taxi|               Sedan|                null|                null|\n",
            "|               Sedan|           Ambulance|                 Bus|                null|                null|\n",
            "|               USPS2|               Sedan|                null|                null|                null|\n",
            "|               trail|                null|                null|                null|                null|\n",
            "|               UPS T|           Box Truck|                null|                null|                null|\n",
            "+--------------------+--------------------+--------------------+--------------------+--------------------+\n",
            "only showing top 30 rows\n",
            "\n",
            "None\n"
          ],
          "name": "stdout"
        }
      ]
    },
    {
      "cell_type": "code",
      "metadata": {
        "id": "6_jJBGyiChKZ"
      },
      "source": [
        "## Setting null values for vehicle type to unknown\n",
        "col=col.fillna(value=\"Unknown\",subset=[\"VEHICLE TYPE CODE 1\",\"VEHICLE TYPE CODE 2\",\"VEHICLE TYPE CODE 3\",\"VEHICLE TYPE CODE 4\",\"VEHICLE TYPE CODE 5\"])"
      ],
      "execution_count": 168,
      "outputs": []
    },
    {
      "cell_type": "code",
      "metadata": {
        "colab": {
          "base_uri": "https://localhost:8080/"
        },
        "id": "lpcuHmVLU0T6",
        "outputId": "272ff5f8-4513-4f29-8251-c589f6a5d312"
      },
      "source": [
        "## Checking if the values were correctly changed\n",
        "print(col.select(\"VEHICLE TYPE CODE 1\",\"VEHICLE TYPE CODE 2\",\"VEHICLE TYPE CODE 3\",\"VEHICLE TYPE CODE 4\",\"VEHICLE TYPE CODE 5\").distinct().show(30, truncate = False));"
      ],
      "execution_count": 169,
      "outputs": [
        {
          "output_type": "stream",
          "text": [
            "+-----------------------------------+-----------------------------------+-----------------------------------+-----------------------------------+-----------------------------------+\n",
            "|VEHICLE TYPE CODE 1                |VEHICLE TYPE CODE 2                |VEHICLE TYPE CODE 3                |VEHICLE TYPE CODE 4                |VEHICLE TYPE CODE 5                |\n",
            "+-----------------------------------+-----------------------------------+-----------------------------------+-----------------------------------+-----------------------------------+\n",
            "|van                                |Station Wagon/Sport Utility Vehicle|Unknown                            |Unknown                            |Unknown                            |\n",
            "|Station Wagon/Sport Utility Vehicle|Station Wagon/Sport Utility Vehicle|Station Wagon/Sport Utility Vehicle|Dump                               |Unknown                            |\n",
            "|Sedan                              |Multi-Wheeled Vehicle              |Unknown                            |Unknown                            |Unknown                            |\n",
            "|DELV                               |Sedan                              |Unknown                            |Unknown                            |Unknown                            |\n",
            "|Carry All                          |Carry All                          |Carry All                          |Unknown                            |Unknown                            |\n",
            "|Station Wagon/Sport Utility Vehicle|Delivery                           |Unknown                            |Unknown                            |Unknown                            |\n",
            "|Box Truck                          |Station Wagon/Sport Utility Vehicle|Motorcycle                         |Sedan                              |Station Wagon/Sport Utility Vehicle|\n",
            "|Pick-up Truck                      |Sedan                              |Bus                                |Unknown                            |Unknown                            |\n",
            "|van                                |Unknown                            |Unknown                            |Unknown                            |Unknown                            |\n",
            "|sedan                              |Unknown                            |Unknown                            |Unknown                            |Unknown                            |\n",
            "|PK                                 |Sedan                              |Sedan                              |Sedan                              |Unknown                            |\n",
            "|Bus                                |Sedan                              |Tractor Truck Diesel               |Unknown                            |Unknown                            |\n",
            "|E-Scooter                          |Box Truck                          |Unknown                            |Unknown                            |Unknown                            |\n",
            "|Tanker                             |Tanker                             |Unknown                            |Unknown                            |Unknown                            |\n",
            "|Sedan                              |SCOOTER                            |Unknown                            |Unknown                            |Unknown                            |\n",
            "|Pick-up Truck                      |TRAC                               |Unknown                            |Unknown                            |Unknown                            |\n",
            "|government                         |Unknown                            |Unknown                            |Unknown                            |Unknown                            |\n",
            "|Motorcycle                         |US POSTAL                          |Unknown                            |Unknown                            |Unknown                            |\n",
            "|Tow Truck                          |Taxi                               |Unknown                            |Unknown                            |Unknown                            |\n",
            "|BACKH                              |Flat Bed                           |Station Wagon/Sport Utility Vehicle|Unknown                            |Unknown                            |\n",
            "|Tractor Truck Gasoline             |Station Wagon/Sport Utility Vehicle|Station Wagon/Sport Utility Vehicle|Station Wagon/Sport Utility Vehicle|Sedan                              |\n",
            "|UTILI                              |Station Wagon/Sport Utility Vehicle|Unknown                            |Unknown                            |Unknown                            |\n",
            "|Bike                               |Station Wagon/Sport Utility Vehicle|Pick-up Truck                      |Unknown                            |Unknown                            |\n",
            "|CRANE                              |Sedan                              |Unknown                            |Unknown                            |Unknown                            |\n",
            "|Sedan                              |utili                              |Unknown                            |Unknown                            |Unknown                            |\n",
            "|Ambul                              |Unkno                              |Van                                |Unknown                            |Unknown                            |\n",
            "|GOLF                               |PK                                 |Unknown                            |Unknown                            |Unknown                            |\n",
            "|Trail                              |Tractor Truck Diesel               |Unknown                            |Unknown                            |Unknown                            |\n",
            "|Tractor Truck Diesel               |Station Wagon/Sport Utility Vehicle|Trail                              |Unknown                            |Unknown                            |\n",
            "|schoo                              |Unknown                            |Unknown                            |Unknown                            |Unknown                            |\n",
            "+-----------------------------------+-----------------------------------+-----------------------------------+-----------------------------------+-----------------------------------+\n",
            "only showing top 30 rows\n",
            "\n",
            "None\n"
          ],
          "name": "stdout"
        }
      ]
    },
    {
      "cell_type": "code",
      "metadata": {
        "colab": {
          "base_uri": "https://localhost:8080/"
        },
        "id": "bzontY1uVGCI",
        "outputId": "3cce2daf-fdc6-44dd-a58d-0baec40cd898"
      },
      "source": [
        "print(col.select(\"VEHICLE TYPE CODE 1\").distinct().show(100, truncate = False));"
      ],
      "execution_count": 170,
      "outputs": [
        {
          "output_type": "stream",
          "text": [
            "+-----------------------------------+\n",
            "|VEHICLE TYPE CODE 1                |\n",
            "+-----------------------------------+\n",
            "|truck trai                         |\n",
            "|NIU                                |\n",
            "|trail                              |\n",
            "|BOX                                |\n",
            "|USP M                              |\n",
            "|HORSE CARR                         |\n",
            "|CONVE                              |\n",
            "|School Bus                         |\n",
            "|Power Shov                         |\n",
            "|TRK                                |\n",
            "|FDNY LADDE                         |\n",
            "|vespa                              |\n",
            "|GOVER                              |\n",
            "|BOAT                               |\n",
            "|Station Wagon/Sport Utility Vehicle|\n",
            "|TRAILER/FL                         |\n",
            "|FREIG                              |\n",
            "|Mta                                |\n",
            "|COMMU                              |\n",
            "|NYC M                              |\n",
            "|yello                              |\n",
            "|4dsd                               |\n",
            "|Flat Bed                           |\n",
            "|US POSTAL                          |\n",
            "|PC                                 |\n",
            "|Van truck                          |\n",
            "|subn                               |\n",
            "|A-ONE                              |\n",
            "|TC                                 |\n",
            "|Bike                               |\n",
            "|van                                |\n",
            "|STAK                               |\n",
            "|SKATE                              |\n",
            "|Van T                              |\n",
            "|SUBUR                              |\n",
            "|SC                                 |\n",
            "|VERIZ                              |\n",
            "|Chassis Cab                        |\n",
            "|forklift                           |\n",
            "|POLIC                              |\n",
            "|PU                                 |\n",
            "|LMB                                |\n",
            "|UNKNW                              |\n",
            "|fork                               |\n",
            "|RINGO                              |\n",
            "|rmb                                |\n",
            "|SCHOOL BUS                         |\n",
            "|BOBCAT                             |\n",
            "|moped                              |\n",
            "|UPS M                              |\n",
            "|van w                              |\n",
            "|UTILITY VE                         |\n",
            "|ECONO                              |\n",
            "|SPC                                |\n",
            "|CART                               |\n",
            "|TAILG                              |\n",
            "|KENWO                              |\n",
            "|omt                                |\n",
            "|REFG                               |\n",
            "|NYS AMBULA                         |\n",
            "|12 Pa                              |\n",
            "|COMMM                              |\n",
            "|TR/KI                              |\n",
            "|?omme                              |\n",
            "|COM T                              |\n",
            "|Ebike                              |\n",
            "|Tractor Truck Diesel               |\n",
            "|COURIER                            |\n",
            "|ford van                           |\n",
            "|g spc                              |\n",
            "|GOLF                               |\n",
            "|BS                                 |\n",
            "|FEIG                               |\n",
            "|subur                              |\n",
            "|Shove                              |\n",
            "|Courier                            |\n",
            "|WHITE                              |\n",
            "|ROOD                               |\n",
            "|SUBURBAN                           |\n",
            "|FLATBED FR                         |\n",
            "|COMER                              |\n",
            "|sgws                               |\n",
            "|PASSENGER VEHICLE                  |\n",
            "|DRILL RIG                          |\n",
            "|box t                              |\n",
            "|26 ft                              |\n",
            "|E-scooter                          |\n",
            "|Fork Lift                          |\n",
            "|2- to                              |\n",
            "|Bucketload                         |\n",
            "|PS                                 |\n",
            "|CONTR                              |\n",
            "|Minicycle                          |\n",
            "|Enclosed Body - Removable Enclosure|\n",
            "|delivery v                         |\n",
            "|BTM                                |\n",
            "|Road                               |\n",
            "|Track                              |\n",
            "|CAMP                               |\n",
            "|NYC a                              |\n",
            "+-----------------------------------+\n",
            "only showing top 100 rows\n",
            "\n",
            "None\n"
          ],
          "name": "stdout"
        }
      ]
    },
    {
      "cell_type": "code",
      "metadata": {
        "id": "WV5cjAa_TmIJ"
      },
      "source": [
        "col = col.withColumn('VEHICLE TYPE CODE 1', when(col[\"VEHICLE TYPE CODE 1\"] == \"schoo\", \"School Bus\").otherwise(col[\"VEHICLE TYPE CODE 1\"]))\n",
        "col = col.withColumn('VEHICLE TYPE CODE 1', when(col[\"VEHICLE TYPE CODE 1\"] == \"Ambul\", \"Ambulance\").otherwise(col[\"VEHICLE TYPE CODE 1\"]))\n",
        "col = col.withColumn('VEHICLE TYPE CODE 1', when(col[\"VEHICLE TYPE CODE 1\"] == \"DELV\", \"Delivery vehicle\").otherwise(col[\"VEHICLE TYPE CODE 1\"]))\n",
        "col = col.withColumn('VEHICLE TYPE CODE 1', when(col[\"VEHICLE TYPE CODE 1\"] == \"?omme\", \"Other\").otherwise(col[\"VEHICLE TYPE CODE 1\"]))"
      ],
      "execution_count": 251,
      "outputs": []
    },
    {
      "cell_type": "code",
      "metadata": {
        "id": "TA5jqgMyVGXM"
      },
      "source": [
        "### Set all empty values in CROSS STREET NAME to No Value\n",
        "col=col.fillna(value=\"NOT PROVIDED\",subset=[\"CROSS STREET NAME\"])"
      ],
      "execution_count": 172,
      "outputs": []
    },
    {
      "cell_type": "code",
      "metadata": {
        "id": "yyHAwCByYL9D"
      },
      "source": [
        "### Set all empty values in OFF STREET NAME to No Value\n",
        "col=col.fillna(value=\"NOT PROVIDED\",subset=[\"OFF STREET NAME\"])"
      ],
      "execution_count": 173,
      "outputs": []
    },
    {
      "cell_type": "code",
      "metadata": {
        "id": "BWhZGkXqZNdi"
      },
      "source": [
        "### Set all empty values in ON STREET NAME to No Value\n",
        "col=col.fillna(value=\"NOT PROVIDED\",subset=[\"ON STREET NAME\"])"
      ],
      "execution_count": 174,
      "outputs": []
    },
    {
      "cell_type": "code",
      "metadata": {
        "colab": {
          "base_uri": "https://localhost:8080/"
        },
        "id": "78SWJf84ZD5n",
        "outputId": "bcef6a0e-1ae3-48c4-c8b7-18b338b85b55"
      },
      "source": [
        "## Checking if results have been successfully changed\n",
        "print(col.select(\"CROSS STREET NAME\",\"OFF STREET NAME\",\"ON STREET NAME\").distinct().show(30));"
      ],
      "execution_count": 175,
      "outputs": [
        {
          "output_type": "stream",
          "text": [
            "+--------------------+--------------------+--------------------+\n",
            "|   CROSS STREET NAME|     OFF STREET NAME|      ON STREET NAME|\n",
            "+--------------------+--------------------+--------------------+\n",
            "|     WEST 181 STREET|             Unknown|    AMSTERDAM AVENUE|\n",
            "|             Unknown|1281      UNION A...|             Unknown|\n",
            "|             Unknown|666       EAST 22...|             Unknown|\n",
            "|             Unknown|             Unknown|       WEST 5 STREET|\n",
            "|     CRESCENT STREET|             Unknown|      STANLEY AVENUE|\n",
            "|             Unknown|64-06     FRESH P...|             Unknown|\n",
            "|             Unknown|             Unknown|WEST BURNSIDE AVENUE|\n",
            "|   WEST FORDHAM ROAD|             Unknown|MAJOR DEEGAN EXPR...|\n",
            "|             Unknown|             Unknown|         ZEBRA PLACE|\n",
            "|             Unknown|             Unknown|      EAST 22 STREET|\n",
            "|             Unknown|1431      WEST 8 ...|             Unknown|\n",
            "|           86 STREET|             Unknown|          102 AVENUE|\n",
            "|     WEST 113 STREET|             Unknown|    AMSTERDAM AVENUE|\n",
            "|      EAST 51 STREET|             Unknown|            1 AVENUE|\n",
            "|SAINT RAYMOND AVENUE|             Unknown|       ZEREGA AVENUE|\n",
            "|            2 AVENUE|             Unknown|     EAST 126 STREET|\n",
            "|      LORIMER STREET|             Unknown|          LEE AVENUE|\n",
            "|           46 AVENUE|             Unknown|          111 STREET|\n",
            "|     RICHMOND STREET|             Unknown|      JAMAICA AVENUE|\n",
            "|             Unknown|153       EAST HO...|             Unknown|\n",
            "|             Unknown|32-23     PLUNKET...|             Unknown|\n",
            "|             Unknown|             Unknown|7 AVENUE         ...|\n",
            "|             Unknown|167       WEST 21...|             Unknown|\n",
            "|             Unknown|32-02     34 AVEN...|             Unknown|\n",
            "|     NEW YORK AVENUE|             Unknown|AVENUE I         ...|\n",
            "|             Unknown|412       BEACH 1...|             Unknown|\n",
            "|      EAST 15 STREET|             Unknown|AVENUE T         ...|\n",
            "|     EAST 140 STREET|             Unknown|BRUCKNER BOULEVAR...|\n",
            "|             Unknown|1219      FLATBUS...|             Unknown|\n",
            "|         BARD AVENUE|             Unknown|FOREST AVENUE    ...|\n",
            "+--------------------+--------------------+--------------------+\n",
            "only showing top 30 rows\n",
            "\n",
            "None\n"
          ],
          "name": "stdout"
        }
      ]
    },
    {
      "cell_type": "code",
      "metadata": {
        "colab": {
          "base_uri": "https://localhost:8080/"
        },
        "id": "jG-QSgii-YqS",
        "outputId": "e9c1f060-72fd-40d2-843c-9dd0b9a0c78f"
      },
      "source": [
        "#Check CRASH DATE format\n",
        "col.filter(col[\"CRASH DATE\"].isNull()).show()"
      ],
      "execution_count": 176,
      "outputs": [
        {
          "output_type": "stream",
          "text": [
            "+----------+----------+-------+--------+--------+---------+--------+--------------+-----------------+---------------+-------------------------+------------------------+-----------------------------+----------------------------+-------------------------+------------------------+--------------------------+-------------------------+-----------------------------+-----------------------------+-----------------------------+-----------------------------+-----------------------------+------------+-------------------+-------------------+-------------------+-------------------+-------------------+\n",
            "|CRASH DATE|CRASH TIME|BOROUGH|ZIP CODE|LATITUDE|LONGITUDE|LOCATION|ON STREET NAME|CROSS STREET NAME|OFF STREET NAME|NUMBER OF PERSONS INJURED|NUMBER OF PERSONS KILLED|NUMBER OF PEDESTRIANS INJURED|NUMBER OF PEDESTRIANS KILLED|NUMBER OF CYCLIST INJURED|NUMBER OF CYCLIST KILLED|NUMBER OF MOTORIST INJURED|NUMBER OF MOTORIST KILLED|CONTRIBUTING FACTOR VEHICLE 1|CONTRIBUTING FACTOR VEHICLE 2|CONTRIBUTING FACTOR VEHICLE 3|CONTRIBUTING FACTOR VEHICLE 4|CONTRIBUTING FACTOR VEHICLE 5|COLLISION_ID|VEHICLE TYPE CODE 1|VEHICLE TYPE CODE 2|VEHICLE TYPE CODE 3|VEHICLE TYPE CODE 4|VEHICLE TYPE CODE 5|\n",
            "+----------+----------+-------+--------+--------+---------+--------+--------------+-----------------+---------------+-------------------------+------------------------+-----------------------------+----------------------------+-------------------------+------------------------+--------------------------+-------------------------+-----------------------------+-----------------------------+-----------------------------+-----------------------------+-----------------------------+------------+-------------------+-------------------+-------------------+-------------------+-------------------+\n",
            "+----------+----------+-------+--------+--------+---------+--------+--------------+-----------------+---------------+-------------------------+------------------------+-----------------------------+----------------------------+-------------------------+------------------------+--------------------------+-------------------------+-----------------------------+-----------------------------+-----------------------------+-----------------------------+-----------------------------+------------+-------------------+-------------------+-------------------+-------------------+-------------------+\n",
            "\n"
          ],
          "name": "stdout"
        }
      ]
    },
    {
      "cell_type": "code",
      "metadata": {
        "colab": {
          "base_uri": "https://localhost:8080/"
        },
        "id": "mCcBCNgC0nPV",
        "outputId": "f7e593db-ccb1-44c5-ce34-5bc735d7271f"
      },
      "source": [
        "#Change CRASH DATE type from String to Date\n",
        "from pyspark.sql.types import DateType\n",
        "from pyspark.sql.functions import to_date\n",
        "\n",
        "#col.withColumn(\"CRASH DATE\", col['CRASH DATE'].cast(DateType())).show()\n",
        "\n",
        " \n",
        "col= col.withColumn('CRASH DATE',to_date(col[\"CRASH DATE\"], 'MM/dd/yyyy'))\n",
        "col.printSchema()"
      ],
      "execution_count": 177,
      "outputs": [
        {
          "output_type": "stream",
          "text": [
            "root\n",
            " |-- CRASH DATE: date (nullable = true)\n",
            " |-- CRASH TIME: string (nullable = true)\n",
            " |-- BOROUGH: string (nullable = false)\n",
            " |-- ZIP CODE: string (nullable = false)\n",
            " |-- LATITUDE: double (nullable = true)\n",
            " |-- LONGITUDE: double (nullable = true)\n",
            " |-- LOCATION: string (nullable = false)\n",
            " |-- ON STREET NAME: string (nullable = false)\n",
            " |-- CROSS STREET NAME: string (nullable = false)\n",
            " |-- OFF STREET NAME: string (nullable = false)\n",
            " |-- NUMBER OF PERSONS INJURED: integer (nullable = true)\n",
            " |-- NUMBER OF PERSONS KILLED: integer (nullable = true)\n",
            " |-- NUMBER OF PEDESTRIANS INJURED: integer (nullable = true)\n",
            " |-- NUMBER OF PEDESTRIANS KILLED: integer (nullable = true)\n",
            " |-- NUMBER OF CYCLIST INJURED: integer (nullable = true)\n",
            " |-- NUMBER OF CYCLIST KILLED: integer (nullable = true)\n",
            " |-- NUMBER OF MOTORIST INJURED: integer (nullable = true)\n",
            " |-- NUMBER OF MOTORIST KILLED: integer (nullable = true)\n",
            " |-- CONTRIBUTING FACTOR VEHICLE 1: string (nullable = false)\n",
            " |-- CONTRIBUTING FACTOR VEHICLE 2: string (nullable = false)\n",
            " |-- CONTRIBUTING FACTOR VEHICLE 3: string (nullable = false)\n",
            " |-- CONTRIBUTING FACTOR VEHICLE 4: string (nullable = false)\n",
            " |-- CONTRIBUTING FACTOR VEHICLE 5: string (nullable = false)\n",
            " |-- COLLISION_ID: integer (nullable = true)\n",
            " |-- VEHICLE TYPE CODE 1: string (nullable = false)\n",
            " |-- VEHICLE TYPE CODE 2: string (nullable = false)\n",
            " |-- VEHICLE TYPE CODE 3: string (nullable = false)\n",
            " |-- VEHICLE TYPE CODE 4: string (nullable = false)\n",
            " |-- VEHICLE TYPE CODE 5: string (nullable = false)\n",
            "\n"
          ],
          "name": "stdout"
        }
      ]
    },
    {
      "cell_type": "code",
      "metadata": {
        "colab": {
          "base_uri": "https://localhost:8080/"
        },
        "id": "WzBiyfY51kQ6",
        "outputId": "19a9d778-16d5-476d-b6b7-6a09d1046f8b"
      },
      "source": [
        "# Check if format is correct\n",
        "col.select(\"CRASH DATE\").show(10)"
      ],
      "execution_count": 178,
      "outputs": [
        {
          "output_type": "stream",
          "text": [
            "+----------+\n",
            "|CRASH DATE|\n",
            "+----------+\n",
            "|2021-04-13|\n",
            "|2021-04-13|\n",
            "|2021-04-12|\n",
            "|2021-04-13|\n",
            "|2021-04-11|\n",
            "|2021-04-15|\n",
            "|2019-05-21|\n",
            "|2021-02-26|\n",
            "|2021-03-09|\n",
            "|2021-03-31|\n",
            "+----------+\n",
            "only showing top 10 rows\n",
            "\n"
          ],
          "name": "stdout"
        }
      ]
    },
    {
      "cell_type": "code",
      "metadata": {
        "colab": {
          "base_uri": "https://localhost:8080/"
        },
        "id": "COSJMM9pAPNg",
        "outputId": "4196a67c-f259-4ec6-cc46-609aadd19f9a"
      },
      "source": [
        "## Converting CRASH TIME type: String to timestamp \n",
        "from pyspark.sql.types import DateType\n",
        "from pyspark.sql.functions import to_timestamp\n",
        "\n",
        "col= col.withColumn('CRASH TIME',to_timestamp(col[\"CRASH TIME\"], 'H:mm'))\n",
        "col.filter(col[\"CRASH TIME\"].isNull()).show()"
      ],
      "execution_count": 179,
      "outputs": [
        {
          "output_type": "stream",
          "text": [
            "+----------+----------+-------+--------+--------+---------+--------+--------------+-----------------+---------------+-------------------------+------------------------+-----------------------------+----------------------------+-------------------------+------------------------+--------------------------+-------------------------+-----------------------------+-----------------------------+-----------------------------+-----------------------------+-----------------------------+------------+-------------------+-------------------+-------------------+-------------------+-------------------+\n",
            "|CRASH DATE|CRASH TIME|BOROUGH|ZIP CODE|LATITUDE|LONGITUDE|LOCATION|ON STREET NAME|CROSS STREET NAME|OFF STREET NAME|NUMBER OF PERSONS INJURED|NUMBER OF PERSONS KILLED|NUMBER OF PEDESTRIANS INJURED|NUMBER OF PEDESTRIANS KILLED|NUMBER OF CYCLIST INJURED|NUMBER OF CYCLIST KILLED|NUMBER OF MOTORIST INJURED|NUMBER OF MOTORIST KILLED|CONTRIBUTING FACTOR VEHICLE 1|CONTRIBUTING FACTOR VEHICLE 2|CONTRIBUTING FACTOR VEHICLE 3|CONTRIBUTING FACTOR VEHICLE 4|CONTRIBUTING FACTOR VEHICLE 5|COLLISION_ID|VEHICLE TYPE CODE 1|VEHICLE TYPE CODE 2|VEHICLE TYPE CODE 3|VEHICLE TYPE CODE 4|VEHICLE TYPE CODE 5|\n",
            "+----------+----------+-------+--------+--------+---------+--------+--------------+-----------------+---------------+-------------------------+------------------------+-----------------------------+----------------------------+-------------------------+------------------------+--------------------------+-------------------------+-----------------------------+-----------------------------+-----------------------------+-----------------------------+-----------------------------+------------+-------------------+-------------------+-------------------+-------------------+-------------------+\n",
            "+----------+----------+-------+--------+--------+---------+--------+--------------+-----------------+---------------+-------------------------+------------------------+-----------------------------+----------------------------+-------------------------+------------------------+--------------------------+-------------------------+-----------------------------+-----------------------------+-----------------------------+-----------------------------+-----------------------------+------------+-------------------+-------------------+-------------------+-------------------+-------------------+\n",
            "\n"
          ],
          "name": "stdout"
        }
      ]
    },
    {
      "cell_type": "code",
      "metadata": {
        "colab": {
          "base_uri": "https://localhost:8080/"
        },
        "id": "nO_6g7BKz1VL",
        "outputId": "99e0cd40-5a2d-482d-998c-b96bd5a05c81"
      },
      "source": [
        "## Checking if format is correct\n",
        "col.select(\"CRASH TIME\").show(10)"
      ],
      "execution_count": 180,
      "outputs": [
        {
          "output_type": "stream",
          "text": [
            "+-------------------+\n",
            "|         CRASH TIME|\n",
            "+-------------------+\n",
            "|1970-01-01 21:35:00|\n",
            "|1970-01-01 16:00:00|\n",
            "|1970-01-01 08:25:00|\n",
            "|1970-01-01 17:30:00|\n",
            "|1970-01-01 21:06:00|\n",
            "|1970-01-01 20:00:00|\n",
            "|1970-01-01 22:50:00|\n",
            "|1970-01-01 14:50:00|\n",
            "|1970-01-01 11:00:00|\n",
            "|1970-01-01 22:20:00|\n",
            "+-------------------+\n",
            "only showing top 10 rows\n",
            "\n"
          ],
          "name": "stdout"
        }
      ]
    },
    {
      "cell_type": "code",
      "metadata": {
        "id": "yazMxEQbyhBE"
      },
      "source": [
        "### Removing YYYY-MM-DD from CRASH TIME\n",
        "from pyspark.sql.types import DateType\n",
        "from pyspark.sql.functions import date_format\n",
        "from pyspark.sql import functions as f\n",
        "\n",
        "col = col.withColumn(\"CRASH TIME\", f.date_format(\"CRASH TIME\", 'HH:mm:ss'))\n"
      ],
      "execution_count": 181,
      "outputs": []
    },
    {
      "cell_type": "code",
      "metadata": {
        "colab": {
          "base_uri": "https://localhost:8080/"
        },
        "id": "0M004Bt2Cpby",
        "outputId": "9224ccb1-bad5-4bc4-8434-e18080bfa3c4"
      },
      "source": [
        "## Checking Results of Format\n",
        "col.select(\"CRASH TIME\").show(10)"
      ],
      "execution_count": 182,
      "outputs": [
        {
          "output_type": "stream",
          "text": [
            "+----------+\n",
            "|CRASH TIME|\n",
            "+----------+\n",
            "|  21:35:00|\n",
            "|  16:00:00|\n",
            "|  08:25:00|\n",
            "|  17:30:00|\n",
            "|  21:06:00|\n",
            "|  20:00:00|\n",
            "|  22:50:00|\n",
            "|  14:50:00|\n",
            "|  11:00:00|\n",
            "|  22:20:00|\n",
            "+----------+\n",
            "only showing top 10 rows\n",
            "\n"
          ],
          "name": "stdout"
        }
      ]
    },
    {
      "cell_type": "code",
      "metadata": {
        "colab": {
          "base_uri": "https://localhost:8080/"
        },
        "id": "YXLlaRGb_yu4",
        "outputId": "de8287f7-5076-4c9b-a7a8-7948b60d0160"
      },
      "source": [
        "col.show()"
      ],
      "execution_count": 183,
      "outputs": [
        {
          "output_type": "stream",
          "text": [
            "+----------+----------+-------------+--------+---------+----------+--------------------+--------------------+-----------------+--------------------+-------------------------+------------------------+-----------------------------+----------------------------+-------------------------+------------------------+--------------------------+-------------------------+-----------------------------+-----------------------------+-----------------------------+-----------------------------+-----------------------------+------------+--------------------+--------------------+--------------------+-------------------+-------------------+\n",
            "|CRASH DATE|CRASH TIME|      BOROUGH|ZIP CODE| LATITUDE| LONGITUDE|            LOCATION|      ON STREET NAME|CROSS STREET NAME|     OFF STREET NAME|NUMBER OF PERSONS INJURED|NUMBER OF PERSONS KILLED|NUMBER OF PEDESTRIANS INJURED|NUMBER OF PEDESTRIANS KILLED|NUMBER OF CYCLIST INJURED|NUMBER OF CYCLIST KILLED|NUMBER OF MOTORIST INJURED|NUMBER OF MOTORIST KILLED|CONTRIBUTING FACTOR VEHICLE 1|CONTRIBUTING FACTOR VEHICLE 2|CONTRIBUTING FACTOR VEHICLE 3|CONTRIBUTING FACTOR VEHICLE 4|CONTRIBUTING FACTOR VEHICLE 5|COLLISION_ID| VEHICLE TYPE CODE 1| VEHICLE TYPE CODE 2| VEHICLE TYPE CODE 3|VEHICLE TYPE CODE 4|VEHICLE TYPE CODE 5|\n",
            "+----------+----------+-------------+--------+---------+----------+--------------------+--------------------+-----------------+--------------------+-------------------------+------------------------+-----------------------------+----------------------------+-------------------------+------------------------+--------------------------+-------------------------+-----------------------------+-----------------------------+-----------------------------+-----------------------------+-----------------------------+------------+--------------------+--------------------+--------------------+-------------------+-------------------+\n",
            "|2021-04-13|  21:35:00|     BROOKLYN|   11217| 40.68358| -73.97617|(40.68358, -73.97...|             Unknown|          Unknown|620       ATLANTI...|                        1|                       0|                            1|                           0|                        0|                       0|                         0|                        0|                  Unspecified|                      Unknown|                      Unknown|                      Unknown|                      Unknown|     4407147|               Sedan|             Unknown|             Unknown|            Unknown|            Unknown|\n",
            "|2021-04-13|  16:00:00|     BROOKLYN|   11222|     null|      null|             Unknown|   VANDERVORT AVENUE|   ANTHONY STREET|             Unknown|                        0|                       0|                            0|                           0|                        0|                       0|                         0|                        0|         Following Too Clo...|                  Unspecified|                      Unknown|                      Unknown|                      Unknown|     4407811|               Sedan|             Unknown|             Unknown|            Unknown|            Unknown|\n",
            "|2021-04-12|  08:25:00|      Unknown| Unknown|      0.0|       0.0|          (0.0, 0.0)|EDSON AVENUE     ...|          Unknown|             Unknown|                        0|                       0|                            0|                           0|                        0|                       0|                         0|                        0|                  Unspecified|                  Unspecified|                      Unknown|                      Unknown|                      Unknown|     4406885|Station Wagon/Spo...|               Sedan|             Unknown|            Unknown|            Unknown|\n",
            "|2021-04-13|  17:30:00|       QUEENS|   11106|     null|      null|             Unknown|               33 st|            31ave|             Unknown|                        0|                       0|                            0|                           0|                        0|                       0|                         0|                        0|         Driver Inattentio...|                  Unspecified|                      Unknown|                      Unknown|                      Unknown|     4408019|               Sedan|               Sedan|             Unknown|            Unknown|            Unknown|\n",
            "|2021-04-11|  21:06:00|     BROOKLYN|   11226|     null|      null|             Unknown|BEVERLEY ROAD    ...|   EAST 21 STREET|             Unknown|                        1|                       0|                            1|                           0|                        0|                       0|                         0|                        0|          Passing Too Closely|                      Unknown|                      Unknown|                      Unknown|                      Unknown|     4406488|                Taxi|             Unknown|             Unknown|            Unknown|            Unknown|\n",
            "|2021-04-15|  20:00:00|STATEN ISLAND|   10304|     null|      null|             Unknown|   GREENFIELD AVENUE|    OSGOOD AVENUE|             Unknown|                        0|                       0|                            0|                           0|                        0|                       0|                         0|                        0|                  Unspecified|                      Unknown|                      Unknown|                      Unknown|                      Unknown|     4408310|               Sedan|             Unknown|             Unknown|            Unknown|            Unknown|\n",
            "|2019-05-21|  22:50:00|     BROOKLYN|   11201| 40.69754| -73.98312|(40.69754, -73.98...|         GOLD STREET|   CONCORD STREET|             Unknown|                        0|                       0|                            0|                           0|                        0|                       0|                         0|                        0|         Passing or Lane U...|                  Unspecified|                      Unknown|                      Unknown|                      Unknown|     4136992|                �MBU|                Taxi|             Unknown|            Unknown|            Unknown|\n",
            "|2021-02-26|  14:50:00|        BRONX|   10461|40.843464|   -73.836|(40.843464, -73.836)|             Unknown|          Unknown|2819      MIDDLET...|                        0|                       0|                            0|                           0|                        0|                       0|                         0|                        0|                  Unspecified|                  Unspecified|                      Unknown|                      Unknown|                      Unknown|     4395664|Station Wagon/Spo...|             Unknown|             Unknown|            Unknown|            Unknown|\n",
            "|2021-03-09|  11:00:00|      Unknown| Unknown|40.692547|-73.990974|(40.692547, -73.9...|        COURT STREET| JORALEMON STREET|             Unknown|                        1|                       0|                            0|                           0|                        0|                       0|                         1|                        0|         Following Too Clo...|                  Unspecified|                      Unknown|                      Unknown|                      Unknown|     4397513|       Pick-up Truck|               Sedan|             Unknown|            Unknown|            Unknown|\n",
            "|2021-03-31|  22:20:00|     BROOKLYN|   11234|40.626457|   -73.918|(40.626457, -73.918)|        RALPH AVENUE|         AVENUE K|             Unknown|                        1|                       0|                            0|                           0|                        0|                       0|                         1|                        0|          Driver Inexperience|                  Unspecified|                      Unknown|                      Unknown|                      Unknown|     4403773|               Sedan|               Sedan|             Unknown|            Unknown|            Unknown|\n",
            "|2021-04-06|  22:58:00|STATEN ISLAND|   10312|40.526894| -74.16728|(40.526894, -74.1...|      BARCLAY AVENUE|  HYLAN BOULEVARD|             Unknown|                        7|                       0|                            0|                           0|                        0|                       0|                         7|                        0|         Failure to Yield ...|                 Unsafe Speed|                      Unknown|                      Unknown|                      Unknown|     4405244|Station Wagon/Spo...|Station Wagon/Spo...|             Unknown|            Unknown|            Unknown|\n",
            "|2021-04-09|  14:45:00|      Unknown| Unknown|40.840775| -73.87246|(40.840775, -73.8...| BRONX RIVER PARKWAY|          Unknown|             Unknown|                        1|                       0|                            0|                           0|                        0|                       0|                         1|                        0|         Driver Inattentio...|                  Unspecified|                  Unspecified|                  Unspecified|                      Unknown|     4405914|               Sedan|Station Wagon/Spo...|Station Wagon/Spo...|            Unknown|            Unknown|\n",
            "|2021-04-14|  11:00:00|      Unknown| Unknown|40.694035| -73.72679|(40.694035, -73.7...|CROSS ISLAND PARKWAY|          Unknown|             Unknown|                        1|                       0|                            0|                           0|                        0|                       0|                         1|                        0|             Brakes Defective|                  Unspecified|                      Unknown|                      Unknown|                      Unknown|     4407366|Station Wagon/Spo...|               Sedan|             Unknown|            Unknown|            Unknown|\n",
            "|2021-04-15|  13:30:00|        BRONX|   10461|40.857365| -73.84657|(40.857365, -73.8...|             Unknown|          Unknown|1400      PELHAM ...|                        0|                       0|                            0|                           0|                        0|                       0|                         0|                        0|         Following Too Clo...|                  Unspecified|                      Unknown|                      Unknown|                      Unknown|     4407778|               Sedan|           Ambulance|             Unknown|            Unknown|            Unknown|\n",
            "|2021-04-14|  14:40:00|      Unknown| Unknown|40.698807| -73.91837|(40.698807, -73.9...|       MYRTLE AVENUE|          Unknown|             Unknown|                        0|                       0|                            0|                           0|                        0|                       0|                         0|                        0|          Passing Too Closely|                  Unspecified|                      Unknown|                      Unknown|                      Unknown|     4407461|           Box Truck|               Sedan|             Unknown|            Unknown|            Unknown|\n",
            "|2021-04-14|  21:43:00|       QUEENS|   11429| 40.71402| -73.74827|(40.71402, -73.74...|             Unknown|          Unknown| 211-20    99 AVENUE|                        0|                       0|                            0|                           0|                        0|                       0|                         0|                        0|           Turning Improperly|                  Unspecified|                      Unknown|                      Unknown|                      Unknown|     4407407|Station Wagon/Spo...|             Unknown|             Unknown|            Unknown|            Unknown|\n",
            "|2021-04-16|  17:40:00|        BRONX|   10474|   40.815| -73.89402| (40.815, -73.89402)|     GARRISON AVENUE|  LONGWOOD AVENUE|             Unknown|                        0|                       0|                            0|                           0|                        0|                       0|                         0|                        0|                  Unspecified|                  Unspecified|                      Unknown|                      Unknown|                      Unknown|     4407900|               Sedan|               Sedan|             Unknown|            Unknown|            Unknown|\n",
            "|2021-04-16|  00:50:00|      Unknown| Unknown| 40.55079| -74.20098|(40.55079, -74.20...|     HUGUENOT AVENUE|          Unknown|             Unknown|                        0|                       0|                            0|                           0|                        0|                       0|                         0|                        0|          Driver Inexperience|                  Unspecified|                  Unspecified|                      Unknown|                      Unknown|     4407760|               Sedan|Station Wagon/Spo...|               Sedan|            Unknown|            Unknown|\n",
            "|2021-04-15|  10:30:00|     BROOKLYN|   11207|40.655903| -73.89817|(40.655903, -73.8...|             Unknown|          Unknown|319       DE WITT...|                        0|                       0|                            0|                           0|                        0|                       0|                         0|                        0|                  Unspecified|                  Unspecified|                      Unknown|                      Unknown|                      Unknown|     4407746|               Sedan|Station Wagon/Spo...|             Unknown|            Unknown|            Unknown|\n",
            "|2021-04-16|  16:35:00|        BRONX|   10475|40.890076|-73.819855|(40.890076, -73.8...|         BOSTON ROAD|     ROPES AVENUE|             Unknown|                        2|                       0|                            0|                           0|                        0|                       0|                         2|                        0|                 Unsafe Speed|                  Unspecified|                      Unknown|                      Unknown|                      Unknown|     4408143|Station Wagon/Spo...|Station Wagon/Spo...|             Unknown|            Unknown|            Unknown|\n",
            "+----------+----------+-------------+--------+---------+----------+--------------------+--------------------+-----------------+--------------------+-------------------------+------------------------+-----------------------------+----------------------------+-------------------------+------------------------+--------------------------+-------------------------+-----------------------------+-----------------------------+-----------------------------+-----------------------------+-----------------------------+------------+--------------------+--------------------+--------------------+-------------------+-------------------+\n",
            "only showing top 20 rows\n",
            "\n"
          ],
          "name": "stdout"
        }
      ]
    },
    {
      "cell_type": "code",
      "metadata": {
        "id": "GnMOSowyF16_"
      },
      "source": [
        "col.write.csv('mycsv.csv')"
      ],
      "execution_count": 184,
      "outputs": []
    },
    {
      "cell_type": "markdown",
      "metadata": {
        "id": "VKysQ3WooIvG"
      },
      "source": [
        "Person data cleaning\n"
      ]
    },
    {
      "cell_type": "code",
      "metadata": {
        "id": "OWG3BkPVoUdq"
      },
      "source": [
        "# zip,borough,location,long,lat, [contributing1,2,3,4], killed and injured [3-4],COLLISION_ID."
      ],
      "execution_count": 185,
      "outputs": []
    },
    {
      "cell_type": "code",
      "metadata": {
        "id": "g7AmQu2mGfzQ",
        "colab": {
          "base_uri": "https://localhost:8080/"
        },
        "outputId": "8fae9ffe-a70f-4846-b397-b329b764f439"
      },
      "source": [
        "ls\n"
      ],
      "execution_count": 186,
      "outputs": [
        {
          "output_type": "stream",
          "text": [
            "col.csv      ngrok-stable-linux-amd64.zip    \u001b[0m\u001b[01;34mspark-3.1.1-bin-hadoop2.7\u001b[0m/\n",
            "longlat.csv  ngrok-stable-linux-amd64.zip.1  spark-3.1.1-bin-hadoop2.7.tgz\n",
            "\u001b[01;34mmycsv.csv\u001b[0m/   \u001b[01;34msample_data\u001b[0m/                    spark-3.1.1-bin-hadoop2.7.tgz.1\n"
          ],
          "name": "stdout"
        }
      ]
    },
    {
      "cell_type": "code",
      "metadata": {
        "id": "wMMrO-K2MuPK"
      },
      "source": [
        "!wget -q https://data.cityofnewyork.us/api/views/f55k-p6yu/rows.csv   #Loaded person data for vehicle collisions"
      ],
      "execution_count": 187,
      "outputs": []
    },
    {
      "cell_type": "code",
      "metadata": {
        "id": "4PCcr1E8MvEl"
      },
      "source": [
        "mv rows.csv person.csv"
      ],
      "execution_count": 188,
      "outputs": []
    },
    {
      "cell_type": "code",
      "metadata": {
        "id": "q0NyOkSrM5P9",
        "colab": {
          "base_uri": "https://localhost:8080/"
        },
        "outputId": "f52bea44-5acf-47ea-f360-4cb92848d43f"
      },
      "source": [
        "ls"
      ],
      "execution_count": 189,
      "outputs": [
        {
          "output_type": "stream",
          "text": [
            "col.csv                         person.csv\n",
            "longlat.csv                     \u001b[0m\u001b[01;34msample_data\u001b[0m/\n",
            "\u001b[01;34mmycsv.csv\u001b[0m/                      \u001b[01;34mspark-3.1.1-bin-hadoop2.7\u001b[0m/\n",
            "ngrok-stable-linux-amd64.zip    spark-3.1.1-bin-hadoop2.7.tgz\n",
            "ngrok-stable-linux-amd64.zip.1  spark-3.1.1-bin-hadoop2.7.tgz.1\n"
          ],
          "name": "stdout"
        }
      ]
    },
    {
      "cell_type": "code",
      "metadata": {
        "id": "_eAkM7qzM_PZ"
      },
      "source": [
        "person = spark.read.option(\"header\",True).csv(\"./person.csv\",inferSchema=True) # Read person data."
      ],
      "execution_count": 190,
      "outputs": []
    },
    {
      "cell_type": "code",
      "metadata": {
        "id": "CeKiQB2VM_rh"
      },
      "source": [
        "person.createOrReplaceTempView(\"person\");"
      ],
      "execution_count": 191,
      "outputs": []
    },
    {
      "cell_type": "code",
      "metadata": {
        "id": "j5VglLvaNEUJ",
        "colab": {
          "base_uri": "https://localhost:8080/"
        },
        "outputId": "c6ea1275-c790-4910-e197-fb93b89b857f"
      },
      "source": [
        "person.count()"
      ],
      "execution_count": 192,
      "outputs": [
        {
          "output_type": "execute_result",
          "data": {
            "text/plain": [
              "4275261"
            ]
          },
          "metadata": {
            "tags": []
          },
          "execution_count": 192
        }
      ]
    },
    {
      "cell_type": "code",
      "metadata": {
        "id": "E3WMT5X7NPxL",
        "colab": {
          "base_uri": "https://localhost:8080/"
        },
        "outputId": "1d70ccf6-cf56-4f7a-ee23-becd217360b4"
      },
      "source": [
        "len(person.columns)"
      ],
      "execution_count": 193,
      "outputs": [
        {
          "output_type": "execute_result",
          "data": {
            "text/plain": [
              "21"
            ]
          },
          "metadata": {
            "tags": []
          },
          "execution_count": 193
        }
      ]
    },
    {
      "cell_type": "code",
      "metadata": {
        "id": "iDfkUNX7NSyk",
        "colab": {
          "base_uri": "https://localhost:8080/"
        },
        "outputId": "5e912a33-a449-4ed7-a210-991da7360519"
      },
      "source": [
        "person.printSchema()"
      ],
      "execution_count": 194,
      "outputs": [
        {
          "output_type": "stream",
          "text": [
            "root\n",
            " |-- UNIQUE_ID: integer (nullable = true)\n",
            " |-- COLLISION_ID: integer (nullable = true)\n",
            " |-- CRASH_DATE: string (nullable = true)\n",
            " |-- CRASH_TIME: string (nullable = true)\n",
            " |-- PERSON_ID: string (nullable = true)\n",
            " |-- PERSON_TYPE: string (nullable = true)\n",
            " |-- PERSON_INJURY: string (nullable = true)\n",
            " |-- VEHICLE_ID: integer (nullable = true)\n",
            " |-- PERSON_AGE: integer (nullable = true)\n",
            " |-- EJECTION: string (nullable = true)\n",
            " |-- EMOTIONAL_STATUS: string (nullable = true)\n",
            " |-- BODILY_INJURY: string (nullable = true)\n",
            " |-- POSITION_IN_VEHICLE: string (nullable = true)\n",
            " |-- SAFETY_EQUIPMENT: string (nullable = true)\n",
            " |-- PED_LOCATION: string (nullable = true)\n",
            " |-- PED_ACTION: string (nullable = true)\n",
            " |-- COMPLAINT: string (nullable = true)\n",
            " |-- PED_ROLE: string (nullable = true)\n",
            " |-- CONTRIBUTING_FACTOR_1: string (nullable = true)\n",
            " |-- CONTRIBUTING_FACTOR_2: string (nullable = true)\n",
            " |-- PERSON_SEX: string (nullable = true)\n",
            "\n"
          ],
          "name": "stdout"
        }
      ]
    },
    {
      "cell_type": "code",
      "metadata": {
        "id": "w15krO6VNTL1",
        "colab": {
          "base_uri": "https://localhost:8080/"
        },
        "outputId": "9924d088-ee28-43b0-ee0c-9d317d6d1bca"
      },
      "source": [
        "person.count() - person.distinct().count() "
      ],
      "execution_count": 195,
      "outputs": [
        {
          "output_type": "execute_result",
          "data": {
            "text/plain": [
              "0"
            ]
          },
          "metadata": {
            "tags": []
          },
          "execution_count": 195
        }
      ]
    },
    {
      "cell_type": "code",
      "metadata": {
        "id": "pKOPJZS0NgHQ",
        "colab": {
          "base_uri": "https://localhost:8080/"
        },
        "outputId": "b9b93979-dccb-42d3-c0bf-45db8f0e58b1"
      },
      "source": [
        "person.filter(person.COLLISION_ID.isNull()).drop()"
      ],
      "execution_count": 196,
      "outputs": [
        {
          "output_type": "execute_result",
          "data": {
            "text/plain": [
              "DataFrame[UNIQUE_ID: int, COLLISION_ID: int, CRASH_DATE: string, CRASH_TIME: string, PERSON_ID: string, PERSON_TYPE: string, PERSON_INJURY: string, VEHICLE_ID: int, PERSON_AGE: int, EJECTION: string, EMOTIONAL_STATUS: string, BODILY_INJURY: string, POSITION_IN_VEHICLE: string, SAFETY_EQUIPMENT: string, PED_LOCATION: string, PED_ACTION: string, COMPLAINT: string, PED_ROLE: string, CONTRIBUTING_FACTOR_1: string, CONTRIBUTING_FACTOR_2: string, PERSON_SEX: string]"
            ]
          },
          "metadata": {
            "tags": []
          },
          "execution_count": 196
        }
      ]
    },
    {
      "cell_type": "code",
      "metadata": {
        "id": "t1V3fQMcNi_K",
        "colab": {
          "base_uri": "https://localhost:8080/"
        },
        "outputId": "6946969c-e659-43b2-aced-d971b9b0a6df"
      },
      "source": [
        "person.filter(person.UNIQUE_ID.isNull()).drop() "
      ],
      "execution_count": 197,
      "outputs": [
        {
          "output_type": "execute_result",
          "data": {
            "text/plain": [
              "DataFrame[UNIQUE_ID: int, COLLISION_ID: int, CRASH_DATE: string, CRASH_TIME: string, PERSON_ID: string, PERSON_TYPE: string, PERSON_INJURY: string, VEHICLE_ID: int, PERSON_AGE: int, EJECTION: string, EMOTIONAL_STATUS: string, BODILY_INJURY: string, POSITION_IN_VEHICLE: string, SAFETY_EQUIPMENT: string, PED_LOCATION: string, PED_ACTION: string, COMPLAINT: string, PED_ROLE: string, CONTRIBUTING_FACTOR_1: string, CONTRIBUTING_FACTOR_2: string, PERSON_SEX: string]"
            ]
          },
          "metadata": {
            "tags": []
          },
          "execution_count": 197
        }
      ]
    },
    {
      "cell_type": "code",
      "metadata": {
        "id": "amGYboiBNlPr",
        "colab": {
          "base_uri": "https://localhost:8080/"
        },
        "outputId": "00c26ee8-8d3d-4b06-89d0-5acf802bc850"
      },
      "source": [
        "person.filter(person.PERSON_ID.isNull()).count()"
      ],
      "execution_count": 198,
      "outputs": [
        {
          "output_type": "execute_result",
          "data": {
            "text/plain": [
              "19"
            ]
          },
          "metadata": {
            "tags": []
          },
          "execution_count": 198
        }
      ]
    },
    {
      "cell_type": "code",
      "metadata": {
        "id": "xohm7Fe4NpzL"
      },
      "source": [
        "person=person.fillna(value='Unknown',subset=[\"PERSON_ID\"])"
      ],
      "execution_count": 199,
      "outputs": []
    },
    {
      "cell_type": "code",
      "metadata": {
        "id": "vZj4XKEuNsuK",
        "colab": {
          "base_uri": "https://localhost:8080/"
        },
        "outputId": "787f900d-5458-4d9f-deeb-6f720ade5965"
      },
      "source": [
        "print(person.select(\"PERSON_TYPE\").distinct().show(100))"
      ],
      "execution_count": 200,
      "outputs": [
        {
          "output_type": "stream",
          "text": [
            "+-----------+\n",
            "|PERSON_TYPE|\n",
            "+-----------+\n",
            "|   Occupant|\n",
            "| Pedestrian|\n",
            "|  Bicyclist|\n",
            "+-----------+\n",
            "\n",
            "None\n"
          ],
          "name": "stdout"
        }
      ]
    },
    {
      "cell_type": "code",
      "metadata": {
        "id": "srXbPbxZNwvN",
        "colab": {
          "base_uri": "https://localhost:8080/"
        },
        "outputId": "2b8a4979-acb3-45fc-c95a-e2aba5f01fdf"
      },
      "source": [
        "print(person.select(\"PERSON_INJURY\").distinct().show(100)) #Already Clean"
      ],
      "execution_count": 201,
      "outputs": [
        {
          "output_type": "stream",
          "text": [
            "+-------------+\n",
            "|PERSON_INJURY|\n",
            "+-------------+\n",
            "|       Killed|\n",
            "|  Unspecified|\n",
            "|      Injured|\n",
            "+-------------+\n",
            "\n",
            "None\n"
          ],
          "name": "stdout"
        }
      ]
    },
    {
      "cell_type": "code",
      "metadata": {
        "id": "WT_sbNA0N1M1",
        "colab": {
          "base_uri": "https://localhost:8080/"
        },
        "outputId": "46595665-fc74-408d-8811-460c89349855"
      },
      "source": [
        "person.select(\"VEHICLE_ID\").distinct().count()"
      ],
      "execution_count": 202,
      "outputs": [
        {
          "output_type": "execute_result",
          "data": {
            "text/plain": [
              "1957517"
            ]
          },
          "metadata": {
            "tags": []
          },
          "execution_count": 202
        }
      ]
    },
    {
      "cell_type": "code",
      "metadata": {
        "id": "l7Kn2wkMN3E_",
        "colab": {
          "base_uri": "https://localhost:8080/"
        },
        "outputId": "4e7969f8-b320-430b-9cb9-d33a70459081"
      },
      "source": [
        "person.filter(person.VEHICLE_ID.isNull()).count()"
      ],
      "execution_count": 203,
      "outputs": [
        {
          "output_type": "execute_result",
          "data": {
            "text/plain": [
              "167360"
            ]
          },
          "metadata": {
            "tags": []
          },
          "execution_count": 203
        }
      ]
    },
    {
      "cell_type": "code",
      "metadata": {
        "id": "C1nQTz5DN5Zr"
      },
      "source": [
        "\n",
        "person=person.fillna(value='-999',subset=[\"VEHICLE_ID\"])"
      ],
      "execution_count": 204,
      "outputs": []
    },
    {
      "cell_type": "code",
      "metadata": {
        "id": "HwLx0ibiN9UI",
        "colab": {
          "base_uri": "https://localhost:8080/"
        },
        "outputId": "1969546d-d460-40af-95f5-9a58b93683dd"
      },
      "source": [
        "person.filter(person.PERSON_AGE.isNull()).count()"
      ],
      "execution_count": 205,
      "outputs": [
        {
          "output_type": "execute_result",
          "data": {
            "text/plain": [
              "371193"
            ]
          },
          "metadata": {
            "tags": []
          },
          "execution_count": 205
        }
      ]
    },
    {
      "cell_type": "code",
      "metadata": {
        "id": "mCEbLqcPOB30"
      },
      "source": [
        "\n",
        "mean = spark.sql(\"Select sum(PERSON_AGE)/count(PERSON_AGE) from person where PERSON_AGE > 0 and PERSON_AGE < 100\");"
      ],
      "execution_count": 206,
      "outputs": []
    },
    {
      "cell_type": "code",
      "metadata": {
        "id": "YueAiUBMOFQi",
        "colab": {
          "base_uri": "https://localhost:8080/"
        },
        "outputId": "b102f0e5-1b94-404b-89d5-94ba751ca12d"
      },
      "source": [
        "mean.show()"
      ],
      "execution_count": 207,
      "outputs": [
        {
          "output_type": "stream",
          "text": [
            "+-------------------------------------------------------------------------------------+\n",
            "|(CAST(sum(CAST(PERSON_AGE AS BIGINT)) AS DOUBLE) / CAST(count(PERSON_AGE) AS DOUBLE))|\n",
            "+-------------------------------------------------------------------------------------+\n",
            "|                                                                    40.23597728618907|\n",
            "+-------------------------------------------------------------------------------------+\n",
            "\n"
          ],
          "name": "stdout"
        }
      ]
    },
    {
      "cell_type": "code",
      "metadata": {
        "id": "qbvqpgxaOPy9"
      },
      "source": [
        "person = person.withColumn('PERSON_AGE', when(person[\"PERSON_AGE\"] > 100, -1).otherwise(person[\"PERSON_AGE\"]))"
      ],
      "execution_count": 208,
      "outputs": []
    },
    {
      "cell_type": "code",
      "metadata": {
        "id": "5XwiI1PpOSDz"
      },
      "source": [
        "person = person.withColumn('PERSON_AGE', when(person[\"PERSON_AGE\"] < 0, -1).otherwise(person[\"PERSON_AGE\"]))"
      ],
      "execution_count": 209,
      "outputs": []
    },
    {
      "cell_type": "code",
      "metadata": {
        "id": "2e5KfApFOUsg"
      },
      "source": [
        "person=person.fillna(value=-1,subset=[\"PERSON_AGE\"])"
      ],
      "execution_count": 210,
      "outputs": []
    },
    {
      "cell_type": "code",
      "metadata": {
        "id": "FlkB66WXOXEc",
        "colab": {
          "base_uri": "https://localhost:8080/"
        },
        "outputId": "b27b04af-008e-473f-863c-b165bc93c623"
      },
      "source": [
        "person.select(\"PERSON_AGE\").distinct().show()"
      ],
      "execution_count": 211,
      "outputs": [
        {
          "output_type": "stream",
          "text": [
            "+----------+\n",
            "|PERSON_AGE|\n",
            "+----------+\n",
            "|        31|\n",
            "|        85|\n",
            "|        65|\n",
            "|        53|\n",
            "|        78|\n",
            "|        34|\n",
            "|        -1|\n",
            "|        81|\n",
            "|        28|\n",
            "|        76|\n",
            "|        27|\n",
            "|        26|\n",
            "|        44|\n",
            "|        12|\n",
            "|        91|\n",
            "|        22|\n",
            "|        93|\n",
            "|        47|\n",
            "|         1|\n",
            "|        52|\n",
            "+----------+\n",
            "only showing top 20 rows\n",
            "\n"
          ],
          "name": "stdout"
        }
      ]
    },
    {
      "cell_type": "code",
      "metadata": {
        "id": "dKJflS7sOY_q",
        "colab": {
          "base_uri": "https://localhost:8080/"
        },
        "outputId": "e41f0fb5-a87d-4fad-a623-503738dbcc60"
      },
      "source": [
        "person.select(\"EJECTION\").distinct().show()"
      ],
      "execution_count": 212,
      "outputs": [
        {
          "output_type": "stream",
          "text": [
            "+-----------------+\n",
            "|         EJECTION|\n",
            "+-----------------+\n",
            "|Partially Ejected|\n",
            "|   Does Not Apply|\n",
            "|             null|\n",
            "|          Unknown|\n",
            "|      Not Ejected|\n",
            "|          Ejected|\n",
            "|          Trapped|\n",
            "+-----------------+\n",
            "\n"
          ],
          "name": "stdout"
        }
      ]
    },
    {
      "cell_type": "code",
      "metadata": {
        "id": "1N7nckgBObzz"
      },
      "source": [
        "person=person.fillna(value='Unknown',subset=[\"EJECTION\"])  #Cleaned EJECTED"
      ],
      "execution_count": 213,
      "outputs": []
    },
    {
      "cell_type": "code",
      "metadata": {
        "id": "DhVl5p3-5QyC"
      },
      "source": [
        "person = person.withColumn('EJECTION', when(person[\"EJECTION\"] == \"Unspecified\", \"Unknown\").otherwise(person[\"EJECTION\"]))"
      ],
      "execution_count": 214,
      "outputs": []
    },
    {
      "cell_type": "code",
      "metadata": {
        "id": "0BGn1Y3POfql",
        "colab": {
          "base_uri": "https://localhost:8080/"
        },
        "outputId": "5248c64f-3d74-4a81-c9f1-812bec9ad7a7"
      },
      "source": [
        "person.select(\"EMOTIONAL_STATUS\").distinct().show()"
      ],
      "execution_count": 215,
      "outputs": [
        {
          "output_type": "stream",
          "text": [
            "+----------------+\n",
            "|EMOTIONAL_STATUS|\n",
            "+----------------+\n",
            "|      Incoherent|\n",
            "|  Does Not Apply|\n",
            "|   Semiconscious|\n",
            "|            null|\n",
            "|         Unknown|\n",
            "|     Unconscious|\n",
            "|           Shock|\n",
            "|  Apparent Death|\n",
            "|       Conscious|\n",
            "+----------------+\n",
            "\n"
          ],
          "name": "stdout"
        }
      ]
    },
    {
      "cell_type": "code",
      "metadata": {
        "id": "q4u0G1s0OkB0"
      },
      "source": [
        "person=person.fillna(value='Unknown',subset=[\"EMOTIONAL_STATUS\"])  #Cleaned EMOTIONAL_STATUS"
      ],
      "execution_count": 216,
      "outputs": []
    },
    {
      "cell_type": "code",
      "metadata": {
        "id": "0_aEDKUvOm34",
        "colab": {
          "base_uri": "https://localhost:8080/"
        },
        "outputId": "af078257-e2bb-403a-9946-cc2b0f52f3fa"
      },
      "source": [
        "person.select(\"BODILY_INJURY\").distinct().show()"
      ],
      "execution_count": 217,
      "outputs": [
        {
          "output_type": "stream",
          "text": [
            "+--------------------+\n",
            "|       BODILY_INJURY|\n",
            "+--------------------+\n",
            "|      Does Not Apply|\n",
            "|                null|\n",
            "|                Head|\n",
            "|             Unknown|\n",
            "|                Neck|\n",
            "|Elbow-Lower-Arm-Hand|\n",
            "|         Entire Body|\n",
            "|                Face|\n",
            "|                Back|\n",
            "|       Hip-Upper Leg|\n",
            "|    Abdomen - Pelvis|\n",
            "|                 Eye|\n",
            "|Shoulder - Upper Arm|\n",
            "|               Chest|\n",
            "| Knee-Lower Leg Foot|\n",
            "+--------------------+\n",
            "\n"
          ],
          "name": "stdout"
        }
      ]
    },
    {
      "cell_type": "code",
      "metadata": {
        "id": "oJa3WHw9QTq7"
      },
      "source": [
        "person=person.fillna(value='Unknown',subset=[\"BODILY_INJURY\"])"
      ],
      "execution_count": 218,
      "outputs": []
    },
    {
      "cell_type": "code",
      "metadata": {
        "id": "0819Wm1L8OBM"
      },
      "source": [
        "person = person.withColumn('BODILY_INJURY', when(person[\"BODILY_INJURY\"] == \"Does N\", \"Unknown\").otherwise(person[\"BODILY_INJURY\"]))"
      ],
      "execution_count": 219,
      "outputs": []
    },
    {
      "cell_type": "code",
      "metadata": {
        "id": "yM_ET_fkQXvB",
        "colab": {
          "base_uri": "https://localhost:8080/"
        },
        "outputId": "c030bdbe-da13-4b0d-c363-801fb6204513"
      },
      "source": [
        "person.select(\"PERSON_SEX\").distinct().show()"
      ],
      "execution_count": 220,
      "outputs": [
        {
          "output_type": "stream",
          "text": [
            "+----------+\n",
            "|PERSON_SEX|\n",
            "+----------+\n",
            "|         F|\n",
            "|      null|\n",
            "|         M|\n",
            "|         U|\n",
            "+----------+\n",
            "\n"
          ],
          "name": "stdout"
        }
      ]
    },
    {
      "cell_type": "code",
      "metadata": {
        "id": "E5xlWKUDQb-U"
      },
      "source": [
        "person=person.fillna(value='Unspecified',subset=[\"PERSON_SEX\"])  #Cleaned PERSON_SEX"
      ],
      "execution_count": 221,
      "outputs": []
    },
    {
      "cell_type": "code",
      "metadata": {
        "id": "HsAa3UCcQgGh",
        "colab": {
          "base_uri": "https://localhost:8080/"
        },
        "outputId": "60116db6-37fd-422b-862b-03a6d72b6995"
      },
      "source": [
        "person.select(\"POSITION_IN_VEHICLE\").distinct().show()"
      ],
      "execution_count": 222,
      "outputs": [
        {
          "output_type": "stream",
          "text": [
            "+--------------------+\n",
            "| POSITION_IN_VEHICLE|\n",
            "+--------------------+\n",
            "|Riding/Hanging on...|\n",
            "|Front passenger, ...|\n",
            "|Any person in the...|\n",
            "|If one person is ...|\n",
            "|      Does Not Apply|\n",
            "|              Driver|\n",
            "|Right rear passen...|\n",
            "|                null|\n",
            "|Middle front seat...|\n",
            "|             Unknown|\n",
            "|Left rear passeng...|\n",
            "|Middle rear seat,...|\n",
            "+--------------------+\n",
            "\n"
          ],
          "name": "stdout"
        }
      ]
    },
    {
      "cell_type": "code",
      "metadata": {
        "id": "UxWF_m3XQiSV"
      },
      "source": [
        "person=person.fillna(value='Unknown',subset=[\"POSITION_IN_VEHICLE\"])"
      ],
      "execution_count": 223,
      "outputs": []
    },
    {
      "cell_type": "code",
      "metadata": {
        "id": "WDK_hgHlQpsY",
        "colab": {
          "base_uri": "https://localhost:8080/"
        },
        "outputId": "ea1071da-7d1b-45a4-b529-059b9dc9948e"
      },
      "source": [
        "person.select(\"SAFETY_EQUIPMENT\").distinct().show(truncate = False)"
      ],
      "execution_count": 224,
      "outputs": [
        {
          "output_type": "stream",
          "text": [
            "+----------------------------------------+\n",
            "|SAFETY_EQUIPMENT                        |\n",
            "+----------------------------------------+\n",
            "|None                                    |\n",
            "|Stoppers Only (In-Line Skater/Bicyclist)|\n",
            "|Pads Only (In-Line Skater/Bicyclist)    |\n",
            "|null                                    |\n",
            "|Air Bag Deployed                        |\n",
            "|Air Bag Deployed/Lap Belt/Harness       |\n",
            "|Air Bag Deployed/Child Restraint        |\n",
            "|Unknown                                 |\n",
            "|Other                                   |\n",
            "|-                                       |\n",
            "|Harness                                 |\n",
            "|Helmet/Other (In-Line Skater/Bicyclist) |\n",
            "|Child Restraint Only                    |\n",
            "|Lap Belt/Harness                        |\n",
            "|Helmet (Motorcycle Only)                |\n",
            "|Lap Belt & Harness                      |\n",
            "|Helmet Only (In-Line Skater/Bicyclist)  |\n",
            "|Air Bag Deployed/Lap Belt               |\n",
            "|Lap Belt                                |\n",
            "+----------------------------------------+\n",
            "\n"
          ],
          "name": "stdout"
        }
      ]
    },
    {
      "cell_type": "code",
      "metadata": {
        "id": "htQyWNZgQrm3"
      },
      "source": [
        "person=person.fillna(value='Unknown',subset=[\"SAFETY_EQUIPMENT\"])"
      ],
      "execution_count": 225,
      "outputs": []
    },
    {
      "cell_type": "code",
      "metadata": {
        "id": "3NE1NdXg2-mJ"
      },
      "source": [
        "person = person.withColumn('SAFETY_EQUIPMENT', when(person[\"SAFETY_EQUIPMENT\"] == \"-\", \"None\").otherwise(person[\"SAFETY_EQUIPMENT\"]))"
      ],
      "execution_count": 226,
      "outputs": []
    },
    {
      "cell_type": "code",
      "metadata": {
        "id": "MhFuJJOS-7sO"
      },
      "source": [
        "person = person.withColumn('SAFETY_EQUIPMENT', when(person[\"SAFETY_EQUIPMENT\"] == \"Lap Belt/Harness\", \"Lap Belt & Harness\").otherwise(person[\"SAFETY_EQUIPMENT\"]))"
      ],
      "execution_count": 227,
      "outputs": []
    },
    {
      "cell_type": "code",
      "metadata": {
        "id": "xfTTLVbJQtQl",
        "colab": {
          "base_uri": "https://localhost:8080/"
        },
        "outputId": "f6e267e5-2692-4016-b859-9a2dc613ff99"
      },
      "source": [
        "person.select(\"PED_LOCATION\").distinct().show(truncate = False)"
      ],
      "execution_count": 228,
      "outputs": [
        {
          "output_type": "stream",
          "text": [
            "+---------------------------------------------------------+\n",
            "|PED_LOCATION                                             |\n",
            "+---------------------------------------------------------+\n",
            "|Does Not Apply                                           |\n",
            "|null                                                     |\n",
            "|Unknown                                                  |\n",
            "|Pedestrian/Bicyclist/Other Pedestrian Not at Intersection|\n",
            "|Pedestrian/Bicyclist/Other Pedestrian at Intersection    |\n",
            "+---------------------------------------------------------+\n",
            "\n"
          ],
          "name": "stdout"
        }
      ]
    },
    {
      "cell_type": "code",
      "metadata": {
        "id": "uTvpGyB9QxfU"
      },
      "source": [
        "\n",
        "person=person.fillna(value='Unknown',subset=[\"PED_LOCATION\"])"
      ],
      "execution_count": 229,
      "outputs": []
    },
    {
      "cell_type": "code",
      "metadata": {
        "id": "wo1JqJCFQ2Cr",
        "colab": {
          "base_uri": "https://localhost:8080/"
        },
        "outputId": "69141400-0a38-46e3-a24d-ca7646605e13"
      },
      "source": [
        "person.select(\"PED_ACTION\").distinct().show(truncate = False)\n"
      ],
      "execution_count": 230,
      "outputs": [
        {
          "output_type": "stream",
          "text": [
            "+-----------------------------------------------+\n",
            "|PED_ACTION                                     |\n",
            "+-----------------------------------------------+\n",
            "|Pushing/Working on Car                         |\n",
            "|Not in Roadway                                 |\n",
            "|Riding/Walking Along Highway Against Traffic   |\n",
            "|Crossing, No Signal, or Crosswalk              |\n",
            "|Does Not Apply                                 |\n",
            "|null                                           |\n",
            "|Other Actions in Roadway                       |\n",
            "|Unknown                                        |\n",
            "|Working in Roadway                             |\n",
            "|Getting On/Off Vehicle Other Than School Bus   |\n",
            "|Emerging from in Front of/Behind Parked Vehicle|\n",
            "|Playing in Roadway                             |\n",
            "|Crossing Against Signal                        |\n",
            "|Crossing, No Signal, Marked Crosswalk          |\n",
            "|Going to/From Stopped School Bus               |\n",
            "|Crossing With Signal                           |\n",
            "|Riding/Walking Along Highway With Traffic      |\n",
            "+-----------------------------------------------+\n",
            "\n"
          ],
          "name": "stdout"
        }
      ]
    },
    {
      "cell_type": "code",
      "metadata": {
        "id": "G2zITltGQ4VX"
      },
      "source": [
        "person=person.fillna(value='Unknown',subset=[\"PED_ACTION\"])"
      ],
      "execution_count": 231,
      "outputs": []
    },
    {
      "cell_type": "code",
      "metadata": {
        "id": "4GvOKgUJQ8HC",
        "colab": {
          "base_uri": "https://localhost:8080/"
        },
        "outputId": "1f3a8f55-cccc-40a4-fbcb-ed9bc65d6285"
      },
      "source": [
        "person.select(\"COMPLAINT\").distinct().show(truncate = False)"
      ],
      "execution_count": 232,
      "outputs": [
        {
          "output_type": "stream",
          "text": [
            "+----------------------------------+\n",
            "|COMPLAINT                         |\n",
            "+----------------------------------+\n",
            "|Complaint of Pain                 |\n",
            "|Minor Burn                        |\n",
            "|Contusion - Bruise                |\n",
            "|Does Not Apply                    |\n",
            "|Severe Burn                       |\n",
            "|null                              |\n",
            "|Minor Bleeding                    |\n",
            "|Crush Injuries                    |\n",
            "|Paralysis                         |\n",
            "|Unknown                           |\n",
            "|Abrasion                          |\n",
            "|Fracture - Dislocation            |\n",
            "|None Visible                      |\n",
            "|Internal                          |\n",
            "|Whiplash                          |\n",
            "|Fracture - Distorted - Dislocation|\n",
            "|Concussion                        |\n",
            "|Severe Bleeding                   |\n",
            "|Severe Lacerations                |\n",
            "|Complaint of Pain or Nausea       |\n",
            "+----------------------------------+\n",
            "only showing top 20 rows\n",
            "\n"
          ],
          "name": "stdout"
        }
      ]
    },
    {
      "cell_type": "code",
      "metadata": {
        "id": "4FxAm9DIRBL5"
      },
      "source": [
        "person=person.fillna(value='Unknown',subset=[\"COMPLAINT\"])"
      ],
      "execution_count": 233,
      "outputs": []
    },
    {
      "cell_type": "code",
      "metadata": {
        "id": "sQiywwLSRI4F",
        "colab": {
          "base_uri": "https://localhost:8080/"
        },
        "outputId": "c6b793bb-80f6-4376-92fa-e4ca4b044a39"
      },
      "source": [
        "person.select(\"PED_ROLE\").distinct().show()"
      ],
      "execution_count": 234,
      "outputs": [
        {
          "output_type": "stream",
          "text": [
            "+---------------+\n",
            "|       PED_ROLE|\n",
            "+---------------+\n",
            "|        Witness|\n",
            "|         Driver|\n",
            "|           null|\n",
            "|Notified Person|\n",
            "|  Policy Holder|\n",
            "|          Other|\n",
            "|      Passenger|\n",
            "|     Registrant|\n",
            "|     Pedestrian|\n",
            "|          Owner|\n",
            "| In-Line Skater|\n",
            "+---------------+\n",
            "\n"
          ],
          "name": "stdout"
        }
      ]
    },
    {
      "cell_type": "code",
      "metadata": {
        "id": "uoM4IxojRLJP"
      },
      "source": [
        "person=person.fillna(value='Unknown',subset=[\"PED_ROLE\"])"
      ],
      "execution_count": 235,
      "outputs": []
    },
    {
      "cell_type": "code",
      "metadata": {
        "id": "LL8sBCgzRNOZ",
        "colab": {
          "base_uri": "https://localhost:8080/"
        },
        "outputId": "80bd96fe-bae1-479c-c093-834d04495aef"
      },
      "source": [
        "person.select(\"CONTRIBUTING_FACTOR_1\").distinct().show(100, truncate = False)"
      ],
      "execution_count": 236,
      "outputs": [
        {
          "output_type": "stream",
          "text": [
            "+-----------------------------------------------------+\n",
            "|CONTRIBUTING_FACTOR_1                                |\n",
            "+-----------------------------------------------------+\n",
            "|Following Too Closely                                |\n",
            "|Traffic Control Disregarded                          |\n",
            "|Driverless/Runaway Vehicle                           |\n",
            "|Windshield Inadequate                                |\n",
            "|Using On Board Navigation Device                     |\n",
            "|Unsafe Speed                                         |\n",
            "|Shoulders Defective/Improper                         |\n",
            "|Tinted Windows                                       |\n",
            "|Oversized Vehicle                                    |\n",
            "|Passing or Lane Usage Improper                       |\n",
            "|Lane Marking Improper/Inadequate                     |\n",
            "|Other Lighting Defects                               |\n",
            "|null                                                 |\n",
            "|Aggressive Driving/Road Rage                         |\n",
            "|Other Vehicular                                      |\n",
            "|Driver Inexperience                                  |\n",
            "|Texting                                              |\n",
            "|Illnes                                               |\n",
            "|Drugs (illegal)                                      |\n",
            "|Unspecified                                          |\n",
            "|Pavement Defective                                   |\n",
            "|Prescription Medication                              |\n",
            "|View Obstructed/Limited                              |\n",
            "|Lost Consciousness                                   |\n",
            "|Reaction to Uninvolved Vehicle                       |\n",
            "|Fell Asleep                                          |\n",
            "|Tire Failure/Inadequate                              |\n",
            "|Outside Car Distraction                              |\n",
            "|Fatigued/Drowsy                                      |\n",
            "|Driver Inattention/Distraction                       |\n",
            "|Cell Phone (hand-Held)                               |\n",
            "|Listening/Using Headphones                           |\n",
            "|Failure to Keep Right                                |\n",
            "|Obstruction/Debris                                   |\n",
            "|Unsafe Lane Changing                                 |\n",
            "|Pedestrian/Bicyclist/Other Pedestrian Error/Confusion|\n",
            "|Passenger Distraction                                |\n",
            "|Alcohol Involvement                                  |\n",
            "|Traffic Control Device Improper/Non-Working          |\n",
            "|Backing Unsafely                                     |\n",
            "|Brakes Defective                                     |\n",
            "|Eating or Drinking                                   |\n",
            "|Headlights Defective                                 |\n",
            "|Failure to Yield Right-of-Way                        |\n",
            "|Animals Action                                       |\n",
            "|Turning Improperly                                   |\n",
            "|Glare                                                |\n",
            "|Steering Failure                                     |\n",
            "|Passing Too Closely                                  |\n",
            "|Vehicle Vandalism                                    |\n",
            "|Pavement Slippery                                    |\n",
            "|Physical Disability                                  |\n",
            "|Other Electronic Device                              |\n",
            "|Cell Phone (hands-free)                              |\n",
            "+-----------------------------------------------------+\n",
            "\n"
          ],
          "name": "stdout"
        }
      ]
    },
    {
      "cell_type": "code",
      "metadata": {
        "id": "P1PkwP7P-7jH"
      },
      "source": [
        "person = person.withColumn('CONTRIBUTING_FACTOR_1', when(person[\"CONTRIBUTING_FACTOR_1\"] == \"Unspecified\", \"Unknown\").otherwise(person[\"CONTRIBUTING_FACTOR_1\"]))"
      ],
      "execution_count": 237,
      "outputs": []
    },
    {
      "cell_type": "code",
      "metadata": {
        "id": "yvV-yjYmRQLH"
      },
      "source": [
        "person=person.fillna(value='Unknown',subset=[\"CONTRIBUTING_FACTOR_1\"])"
      ],
      "execution_count": 238,
      "outputs": []
    },
    {
      "cell_type": "code",
      "metadata": {
        "id": "PAKkyeioRSx5",
        "colab": {
          "base_uri": "https://localhost:8080/"
        },
        "outputId": "0536c16d-7df1-4cf7-b1b5-7ad2f2585853"
      },
      "source": [
        "person.select(\"CONTRIBUTING_FACTOR_2\").distinct().show(100, truncate = False)"
      ],
      "execution_count": 239,
      "outputs": [
        {
          "output_type": "stream",
          "text": [
            "+-----------------------------------------------------+\n",
            "|CONTRIBUTING_FACTOR_2                                |\n",
            "+-----------------------------------------------------+\n",
            "|Following Too Closely                                |\n",
            "|Traffic Control Disregarded                          |\n",
            "|Driverless/Runaway Vehicle                           |\n",
            "|Accelerator Defective                                |\n",
            "|Unsafe Speed                                         |\n",
            "|Oversized Vehicle                                    |\n",
            "|Passing or Lane Usage Improper                       |\n",
            "|Lane Marking Improper/Inadequate                     |\n",
            "|null                                                 |\n",
            "|Aggressive Driving/Road Rage                         |\n",
            "|Other Vehicular                                      |\n",
            "|Driver Inexperience                                  |\n",
            "|Texting                                              |\n",
            "|Illnes                                               |\n",
            "|Drugs (illegal)                                      |\n",
            "|Unspecified                                          |\n",
            "|Pavement Defective                                   |\n",
            "|Prescription Medication                              |\n",
            "|View Obstructed/Limited                              |\n",
            "|Lost Consciousness                                   |\n",
            "|Reaction to Uninvolved Vehicle                       |\n",
            "|Fell Asleep                                          |\n",
            "|Tire Failure/Inadequate                              |\n",
            "|Outside Car Distraction                              |\n",
            "|Fatigued/Drowsy                                      |\n",
            "|Driver Inattention/Distraction                       |\n",
            "|Cell Phone (hand-Held)                               |\n",
            "|Listening/Using Headphones                           |\n",
            "|Failure to Keep Right                                |\n",
            "|Obstruction/Debris                                   |\n",
            "|Unsafe Lane Changing                                 |\n",
            "|Pedestrian/Bicyclist/Other Pedestrian Error/Confusion|\n",
            "|Passenger Distraction                                |\n",
            "|Alcohol Involvement                                  |\n",
            "|Traffic Control Device Improper/Non-Working          |\n",
            "|Backing Unsafely                                     |\n",
            "|Brakes Defective                                     |\n",
            "|Eating or Drinking                                   |\n",
            "|Failure to Yield Right-of-Way                        |\n",
            "|Animals Action                                       |\n",
            "|Glare                                                |\n",
            "|Turning Improperly                                   |\n",
            "|Passing Too Closely                                  |\n",
            "|Vehicle Vandalism                                    |\n",
            "|Pavement Slippery                                    |\n",
            "|Physical Disability                                  |\n",
            "|Other Electronic Device                              |\n",
            "|Cell Phone (hands-free)                              |\n",
            "+-----------------------------------------------------+\n",
            "\n"
          ],
          "name": "stdout"
        }
      ]
    },
    {
      "cell_type": "code",
      "metadata": {
        "id": "fCHToGCcFjH_"
      },
      "source": [
        "person=person.fillna(value='Unknown',subset=[\"CONTRIBUTING_FACTOR_2\"])"
      ],
      "execution_count": 240,
      "outputs": []
    },
    {
      "cell_type": "code",
      "metadata": {
        "id": "ZeafLBPSF5lQ"
      },
      "source": [
        "person = person.withColumn('CONTRIBUTING_FACTOR_2', when(person[\"CONTRIBUTING_FACTOR_2\"] == \"Unspecified\", \"Unknown\").otherwise(person[\"CONTRIBUTING_FACTOR_2\"]))"
      ],
      "execution_count": 241,
      "outputs": []
    },
    {
      "cell_type": "code",
      "metadata": {
        "id": "MMDtpPeORTVK",
        "colab": {
          "base_uri": "https://localhost:8080/"
        },
        "outputId": "e1b729cb-5f7b-4357-8d42-81745ef0ff78"
      },
      "source": [
        "person.select(\"PED_ROLE\").distinct().show()"
      ],
      "execution_count": 242,
      "outputs": [
        {
          "output_type": "stream",
          "text": [
            "+---------------+\n",
            "|       PED_ROLE|\n",
            "+---------------+\n",
            "|        Witness|\n",
            "|         Driver|\n",
            "|Notified Person|\n",
            "|  Policy Holder|\n",
            "|        Unknown|\n",
            "|          Other|\n",
            "|      Passenger|\n",
            "|     Registrant|\n",
            "|     Pedestrian|\n",
            "|          Owner|\n",
            "| In-Line Skater|\n",
            "+---------------+\n",
            "\n"
          ],
          "name": "stdout"
        }
      ]
    },
    {
      "cell_type": "code",
      "metadata": {
        "id": "Qo4kac58RdQo"
      },
      "source": [
        "person=person.fillna(value='Unknown',subset=[\"PED_ROLE\"])"
      ],
      "execution_count": 243,
      "outputs": []
    },
    {
      "cell_type": "code",
      "metadata": {
        "id": "LzFsVAnpRogq",
        "colab": {
          "base_uri": "https://localhost:8080/"
        },
        "outputId": "cb128a10-0fdf-4014-a744-fc21d60e2d6f"
      },
      "source": [
        "#Change CRASH_DATE from String to date\n",
        "from pyspark.sql.types import DataType\n",
        "from pyspark.sql.functions import to_date\n",
        "\n",
        "person = person.withColumn('CRASH_DATE', to_date(person[\"CRASH_DATE\"], 'MM/dd/yyyy'))\n",
        "person.printSchema()\n"
      ],
      "execution_count": 244,
      "outputs": [
        {
          "output_type": "stream",
          "text": [
            "root\n",
            " |-- UNIQUE_ID: integer (nullable = true)\n",
            " |-- COLLISION_ID: integer (nullable = true)\n",
            " |-- CRASH_DATE: date (nullable = true)\n",
            " |-- CRASH_TIME: string (nullable = true)\n",
            " |-- PERSON_ID: string (nullable = false)\n",
            " |-- PERSON_TYPE: string (nullable = true)\n",
            " |-- PERSON_INJURY: string (nullable = true)\n",
            " |-- VEHICLE_ID: integer (nullable = true)\n",
            " |-- PERSON_AGE: integer (nullable = true)\n",
            " |-- EJECTION: string (nullable = false)\n",
            " |-- EMOTIONAL_STATUS: string (nullable = false)\n",
            " |-- BODILY_INJURY: string (nullable = false)\n",
            " |-- POSITION_IN_VEHICLE: string (nullable = false)\n",
            " |-- SAFETY_EQUIPMENT: string (nullable = false)\n",
            " |-- PED_LOCATION: string (nullable = false)\n",
            " |-- PED_ACTION: string (nullable = false)\n",
            " |-- COMPLAINT: string (nullable = false)\n",
            " |-- PED_ROLE: string (nullable = false)\n",
            " |-- CONTRIBUTING_FACTOR_1: string (nullable = false)\n",
            " |-- CONTRIBUTING_FACTOR_2: string (nullable = false)\n",
            " |-- PERSON_SEX: string (nullable = false)\n",
            "\n"
          ],
          "name": "stdout"
        }
      ]
    },
    {
      "cell_type": "code",
      "metadata": {
        "id": "fLQKDF9aRrqt",
        "colab": {
          "base_uri": "https://localhost:8080/"
        },
        "outputId": "65219777-1bdb-4f36-e3ba-4d0c80373137"
      },
      "source": [
        "from pyspark.sql.functions import to_timestamp\n",
        "person = person.withColumn('CRASH_TIME', to_timestamp(person[\"CRASH_TIME\"], 'H:mm'))\n",
        "person.printSchema()"
      ],
      "execution_count": 245,
      "outputs": [
        {
          "output_type": "stream",
          "text": [
            "root\n",
            " |-- UNIQUE_ID: integer (nullable = true)\n",
            " |-- COLLISION_ID: integer (nullable = true)\n",
            " |-- CRASH_DATE: date (nullable = true)\n",
            " |-- CRASH_TIME: timestamp (nullable = true)\n",
            " |-- PERSON_ID: string (nullable = false)\n",
            " |-- PERSON_TYPE: string (nullable = true)\n",
            " |-- PERSON_INJURY: string (nullable = true)\n",
            " |-- VEHICLE_ID: integer (nullable = true)\n",
            " |-- PERSON_AGE: integer (nullable = true)\n",
            " |-- EJECTION: string (nullable = false)\n",
            " |-- EMOTIONAL_STATUS: string (nullable = false)\n",
            " |-- BODILY_INJURY: string (nullable = false)\n",
            " |-- POSITION_IN_VEHICLE: string (nullable = false)\n",
            " |-- SAFETY_EQUIPMENT: string (nullable = false)\n",
            " |-- PED_LOCATION: string (nullable = false)\n",
            " |-- PED_ACTION: string (nullable = false)\n",
            " |-- COMPLAINT: string (nullable = false)\n",
            " |-- PED_ROLE: string (nullable = false)\n",
            " |-- CONTRIBUTING_FACTOR_1: string (nullable = false)\n",
            " |-- CONTRIBUTING_FACTOR_2: string (nullable = false)\n",
            " |-- PERSON_SEX: string (nullable = false)\n",
            "\n"
          ],
          "name": "stdout"
        }
      ]
    },
    {
      "cell_type": "code",
      "metadata": {
        "id": "NfV8LN-IR4XC"
      },
      "source": [
        "from pyspark.sql.functions import date_format\n",
        "from pyspark.sql import functions as f\n",
        "person = person.withColumn('CRASH_TIME', f.date_format(\"CRASH_TIME\", 'HH:mm'))"
      ],
      "execution_count": 246,
      "outputs": []
    },
    {
      "cell_type": "code",
      "metadata": {
        "id": "vikcR8KYR7eo",
        "colab": {
          "base_uri": "https://localhost:8080/"
        },
        "outputId": "6093d1b6-c104-416a-e7f4-1724fb2e4e39"
      },
      "source": [
        "person.select(\"CRASH_TIME\").show(10)"
      ],
      "execution_count": 247,
      "outputs": [
        {
          "output_type": "stream",
          "text": [
            "+----------+\n",
            "|CRASH_TIME|\n",
            "+----------+\n",
            "|     09:43|\n",
            "|     15:15|\n",
            "|     17:55|\n",
            "|     13:05|\n",
            "|     11:16|\n",
            "|     19:15|\n",
            "|     16:45|\n",
            "|     01:15|\n",
            "|     13:04|\n",
            "|     08:20|\n",
            "+----------+\n",
            "only showing top 10 rows\n",
            "\n"
          ],
          "name": "stdout"
        }
      ]
    },
    {
      "cell_type": "code",
      "metadata": {
        "id": "0djFFJ7pR9lz",
        "colab": {
          "base_uri": "https://localhost:8080/"
        },
        "outputId": "744da513-7cdf-4d4b-f85c-8feba21545c6"
      },
      "source": [
        "person.select(\"CRASH_DATE\").show(10)"
      ],
      "execution_count": 248,
      "outputs": [
        {
          "output_type": "stream",
          "text": [
            "+----------+\n",
            "|CRASH_DATE|\n",
            "+----------+\n",
            "|2019-10-26|\n",
            "|2019-10-25|\n",
            "|2019-10-26|\n",
            "|2016-11-21|\n",
            "|2019-10-25|\n",
            "|2019-10-24|\n",
            "|2019-10-26|\n",
            "|2019-10-26|\n",
            "|2019-10-26|\n",
            "|2019-10-24|\n",
            "+----------+\n",
            "only showing top 10 rows\n",
            "\n"
          ],
          "name": "stdout"
        }
      ]
    },
    {
      "cell_type": "code",
      "metadata": {
        "id": "4SpWOZcgR_mH"
      },
      "source": [
        "person.repartition(1).write.format('com.databricks.spark.csv').save(\"./clean_person.csv\",header = 'true')"
      ],
      "execution_count": 253,
      "outputs": []
    },
    {
      "cell_type": "code",
      "metadata": {
        "id": "Mr8vL2eQTfPV"
      },
      "source": [
        "col.repartition(1).write.format('com.databricks.spark.csv').save(\"./collision_clean.csv\",header = 'true')"
      ],
      "execution_count": 254,
      "outputs": []
    },
    {
      "cell_type": "code",
      "metadata": {
        "id": "Y73eHIPzTxzP"
      },
      "source": [
        ""
      ],
      "execution_count": null,
      "outputs": []
    }
  ]
}