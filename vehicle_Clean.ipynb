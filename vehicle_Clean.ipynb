{
  "nbformat": 4,
  "nbformat_minor": 0,
  "metadata": {
    "colab": {
      "name": "Copy of vehicle_Clean.ipynb",
      "provenance": [],
      "collapsed_sections": []
    },
    "kernelspec": {
      "name": "python3",
      "display_name": "Python 3"
    },
    "language_info": {
      "name": "python"
    }
  },
  "cells": [
    {
      "cell_type": "code",
      "metadata": {
        "id": "Q4JuRZVm173s"
      },
      "source": [
        ""
      ],
      "execution_count": null,
      "outputs": []
    },
    {
      "cell_type": "code",
      "metadata": {
        "colab": {
          "base_uri": "https://localhost:8080/"
        },
        "id": "BzmOEAnO60Zn",
        "outputId": "e9623605-b62f-4226-d86b-7481d0271893"
      },
      "source": [
        "!apt-get update"
      ],
      "execution_count": 1,
      "outputs": [
        {
          "output_type": "stream",
          "text": [
            "\r0% [Working]\r            \rGet:1 https://cloud.r-project.org/bin/linux/ubuntu bionic-cran40/ InRelease [3,626 B]\n",
            "\r0% [Waiting for headers] [Waiting for headers] [1 InRelease 0 B/3,626 B 0%] [Wa\r0% [Waiting for headers] [Waiting for headers] [Waiting for headers] [Waiting f\r0% [1 InRelease gpgv 3,626 B] [Waiting for headers] [Waiting for headers] [Wait\r                                                                               \rIgn:2 https://developer.download.nvidia.com/compute/cuda/repos/ubuntu1804/x86_64  InRelease\n",
            "\r0% [1 InRelease gpgv 3,626 B] [Waiting for headers] [Waiting for headers] [Wait\r                                                                               \rHit:3 http://archive.ubuntu.com/ubuntu bionic InRelease\n",
            "\r                                                                               \rGet:4 http://ppa.launchpad.net/c2d4u.team/c2d4u4.0+/ubuntu bionic InRelease [15.9 kB]\n",
            "\r0% [1 InRelease gpgv 3,626 B] [Waiting for headers] [4 InRelease 2,572 B/15.9 k\r                                                                               \rGet:5 http://security.ubuntu.com/ubuntu bionic-security InRelease [88.7 kB]\n",
            "\r0% [1 InRelease gpgv 3,626 B] [5 InRelease 14.2 kB/88.7 kB 16%] [4 InRelease 2,\r                                                                               \rIgn:6 https://developer.download.nvidia.com/compute/machine-learning/repos/ubuntu1804/x86_64  InRelease\n",
            "\r0% [1 InRelease gpgv 3,626 B] [Waiting for headers] [5 InRelease 14.2 kB/88.7 k\r                                                                               \rGet:7 https://developer.download.nvidia.com/compute/cuda/repos/ubuntu1804/x86_64  Release [697 B]\n",
            "\r0% [1 InRelease gpgv 3,626 B] [Waiting for headers] [5 InRelease 14.2 kB/88.7 k\r0% [1 InRelease gpgv 3,626 B] [Waiting for headers] [5 InRelease 14.2 kB/88.7 k\r                                                                               \rHit:8 https://developer.download.nvidia.com/compute/machine-learning/repos/ubuntu1804/x86_64  Release\n",
            "Get:9 https://developer.download.nvidia.com/compute/cuda/repos/ubuntu1804/x86_64  Release.gpg [836 B]\n",
            "Get:10 http://archive.ubuntu.com/ubuntu bionic-updates InRelease [88.7 kB]\n",
            "Hit:11 http://ppa.launchpad.net/cran/libgit2/ubuntu bionic InRelease\n",
            "Get:12 https://cloud.r-project.org/bin/linux/ubuntu bionic-cran40/ Packages [55.5 kB]\n",
            "Get:13 http://archive.ubuntu.com/ubuntu bionic-backports InRelease [74.6 kB]\n",
            "Get:14 http://ppa.launchpad.net/deadsnakes/ppa/ubuntu bionic InRelease [15.9 kB]\n",
            "Get:15 http://ppa.launchpad.net/graphics-drivers/ppa/ubuntu bionic InRelease [21.3 kB]\n",
            "Ign:17 https://developer.download.nvidia.com/compute/cuda/repos/ubuntu1804/x86_64  Packages\n",
            "Get:17 https://developer.download.nvidia.com/compute/cuda/repos/ubuntu1804/x86_64  Packages [770 kB]\n",
            "Get:18 http://ppa.launchpad.net/c2d4u.team/c2d4u4.0+/ubuntu bionic/main Sources [1,759 kB]\n",
            "Get:19 http://security.ubuntu.com/ubuntu bionic-security/universe amd64 Packages [1,410 kB]\n",
            "Get:20 http://security.ubuntu.com/ubuntu bionic-security/main amd64 Packages [2,119 kB]\n",
            "Get:21 http://security.ubuntu.com/ubuntu bionic-security/multiverse amd64 Packages [24.7 kB]\n",
            "Get:22 http://security.ubuntu.com/ubuntu bionic-security/restricted amd64 Packages [399 kB]\n",
            "Get:23 http://ppa.launchpad.net/c2d4u.team/c2d4u4.0+/ubuntu bionic/main amd64 Packages [900 kB]\n",
            "Get:24 http://archive.ubuntu.com/ubuntu bionic-updates/universe amd64 Packages [2,182 kB]\n",
            "Get:25 http://archive.ubuntu.com/ubuntu bionic-updates/multiverse amd64 Packages [31.6 kB]\n",
            "Get:26 http://archive.ubuntu.com/ubuntu bionic-updates/restricted amd64 Packages [429 kB]\n",
            "Get:27 http://archive.ubuntu.com/ubuntu bionic-updates/main amd64 Packages [2,550 kB]\n",
            "Get:28 http://ppa.launchpad.net/deadsnakes/ppa/ubuntu bionic/main amd64 Packages [40.8 kB]\n",
            "Get:29 http://ppa.launchpad.net/graphics-drivers/ppa/ubuntu bionic/main amd64 Packages [49.5 kB]\n",
            "Fetched 13.0 MB in 4s (3,090 kB/s)\n",
            "Reading package lists... Done\n"
          ],
          "name": "stdout"
        }
      ]
    },
    {
      "cell_type": "code",
      "metadata": {
        "id": "JvkE7jfJ6web"
      },
      "source": [
        "!apt-get install openjdk-8-jdk-headless -qq > /dev/null"
      ],
      "execution_count": 2,
      "outputs": []
    },
    {
      "cell_type": "code",
      "metadata": {
        "id": "CDJolzSS7nbt"
      },
      "source": [
        "!wget -q https://downloads.apache.org/spark/spark-3.1.1/spark-3.1.1-bin-hadoop2.7.tgz"
      ],
      "execution_count": 3,
      "outputs": []
    },
    {
      "cell_type": "code",
      "metadata": {
        "id": "VG8HeLjM73Qy"
      },
      "source": [
        "!tar xf spark-3.1.1-bin-hadoop2.7.tgz"
      ],
      "execution_count": 4,
      "outputs": []
    },
    {
      "cell_type": "code",
      "metadata": {
        "id": "Ea3FH4Jz7_rX"
      },
      "source": [
        "!pip install -q findspark"
      ],
      "execution_count": 5,
      "outputs": []
    },
    {
      "cell_type": "code",
      "metadata": {
        "id": "_WtIGYCCV1OP"
      },
      "source": [
        ""
      ],
      "execution_count": 5,
      "outputs": []
    },
    {
      "cell_type": "code",
      "metadata": {
        "id": "7jV1-NWH8EjD"
      },
      "source": [
        "import os\n",
        "os.environ[\"JAVA_HOME\"] = \"/usr/lib/jvm/java-8-openjdk-amd64\"\n",
        "os.environ[\"SPARK_HOME\"] = \"/content/spark-3.1.1-bin-hadoop2.7\""
      ],
      "execution_count": 6,
      "outputs": []
    },
    {
      "cell_type": "code",
      "metadata": {
        "id": "jUaRyzqm8KJ7"
      },
      "source": [
        "import findspark\n",
        "findspark.init()"
      ],
      "execution_count": 7,
      "outputs": []
    },
    {
      "cell_type": "code",
      "metadata": {
        "id": "fy_ShFBd8N2m"
      },
      "source": [
        "\n",
        "!wget -O veh -q https://data.cityofnewyork.us/api/views/bm4k-52h4/rows.csv?accessType=DOWNLOAD\n"
      ],
      "execution_count": 8,
      "outputs": []
    },
    {
      "cell_type": "code",
      "metadata": {
        "id": "Phla8zV0S0Eb",
        "colab": {
          "base_uri": "https://localhost:8080/"
        },
        "outputId": "f8b2a566-b453-47a5-f3d9-f9e1aa95c401"
      },
      "source": [
        "!wget https://bin.equinox.io/c/4VmDzA7iaHb/ngrok-stable-linux-amd64.zip\n",
        "!unzip -y ngrok-stable-linux-amd64.zip\n",
        "get_ipython().system_raw('./ngrok http 4050 &')\n",
        "!curl -s http://localhost:4040/api/tunnels"
      ],
      "execution_count": 9,
      "outputs": [
        {
          "output_type": "stream",
          "text": [
            "--2021-05-07 16:06:19--  https://bin.equinox.io/c/4VmDzA7iaHb/ngrok-stable-linux-amd64.zip\n",
            "Resolving bin.equinox.io (bin.equinox.io)... 54.209.238.187, 35.169.70.242, 54.80.88.238, ...\n",
            "Connecting to bin.equinox.io (bin.equinox.io)|54.209.238.187|:443... connected.\n",
            "HTTP request sent, awaiting response... 200 OK\n",
            "Length: 13832437 (13M) [application/octet-stream]\n",
            "Saving to: ‘ngrok-stable-linux-amd64.zip’\n",
            "\n",
            "ngrok-stable-linux- 100%[===================>]  13.19M  23.8MB/s    in 0.6s    \n",
            "\n",
            "2021-05-07 16:06:19 (23.8 MB/s) - ‘ngrok-stable-linux-amd64.zip’ saved [13832437/13832437]\n",
            "\n",
            "UnZip 6.00 of 20 April 2009, by Debian. Original by Info-ZIP.\n",
            "\n",
            "Usage: unzip [-Z] [-opts[modifiers]] file[.zip] [list] [-x xlist] [-d exdir]\n",
            "  Default action is to extract files in list, except those in xlist, to exdir;\n",
            "  file[.zip] may be a wildcard.  -Z => ZipInfo mode (\"unzip -Z\" for usage).\n",
            "\n",
            "  -p  extract files to pipe, no messages     -l  list files (short format)\n",
            "  -f  freshen existing files, create none    -t  test compressed archive data\n",
            "  -u  update files, create if necessary      -z  display archive comment only\n",
            "  -v  list verbosely/show version info       -T  timestamp archive to latest\n",
            "  -x  exclude files that follow (in xlist)   -d  extract files into exdir\n",
            "modifiers:\n",
            "  -n  never overwrite existing files         -q  quiet mode (-qq => quieter)\n",
            "  -o  overwrite files WITHOUT prompting      -a  auto-convert any text files\n",
            "  -j  junk paths (do not make directories)   -aa treat ALL files as text\n",
            "  -U  use escapes for all non-ASCII Unicode  -UU ignore any Unicode fields\n",
            "  -C  match filenames case-insensitively     -L  make (some) names lowercase\n",
            "  -X  restore UID/GID info                   -V  retain VMS version numbers\n",
            "  -K  keep setuid/setgid/tacky permissions   -M  pipe through \"more\" pager\n",
            "  -O CHARSET  specify a character encoding for DOS, Windows and OS/2 archives\n",
            "  -I CHARSET  specify a character encoding for UNIX and other archives\n",
            "\n",
            "See \"unzip -hh\" or unzip.txt for more help.  Examples:\n",
            "  unzip data1 -x joe   => extract all files except joe from zipfile data1.zip\n",
            "  unzip -p foo | more  => send contents of foo.zip via pipe into program more\n",
            "  unzip -fo foo ReadMe => quietly replace existing ReadMe if archive file newer\n"
          ],
          "name": "stdout"
        }
      ]
    },
    {
      "cell_type": "code",
      "metadata": {
        "id": "QF5M1w0PTe6E"
      },
      "source": [
        ""
      ],
      "execution_count": 9,
      "outputs": []
    },
    {
      "cell_type": "code",
      "metadata": {
        "id": "s-KSInllV-rn"
      },
      "source": [
        "from pyspark.sql import SparkSession\n",
        "\n",
        "spark = SparkSession.builder\\\n",
        "        .master(\"local\")\\\n",
        "        .appName(\"Collision\")\\\n",
        "        .config('spark.ui.port', '4050')\\\n",
        "        .getOrCreate()"
      ],
      "execution_count": 10,
      "outputs": []
    },
    {
      "cell_type": "code",
      "metadata": {
        "id": "SRqcpdVuWBF7"
      },
      "source": [
        "col=spark.read.option(\"header\",True).csv(\"./veh\",inferSchema=True);"
      ],
      "execution_count": 11,
      "outputs": []
    },
    {
      "cell_type": "code",
      "metadata": {
        "id": "t1Nh4VnyWF33",
        "outputId": "eb8e9891-0657-421a-cbe5-09efb019f343",
        "colab": {
          "base_uri": "https://localhost:8080/"
        }
      },
      "source": [
        "col.schema"
      ],
      "execution_count": 12,
      "outputs": [
        {
          "output_type": "execute_result",
          "data": {
            "text/plain": [
              "StructType(List(StructField(UNIQUE_ID,IntegerType,true),StructField(COLLISION_ID,IntegerType,true),StructField(CRASH_DATE,StringType,true),StructField(CRASH_TIME,StringType,true),StructField(VEHICLE_ID,StringType,true),StructField(STATE_REGISTRATION,StringType,true),StructField(VEHICLE_TYPE,StringType,true),StructField(VEHICLE_MAKE,StringType,true),StructField(VEHICLE_MODEL,StringType,true),StructField(VEHICLE_YEAR,IntegerType,true),StructField(TRAVEL_DIRECTION,StringType,true),StructField(VEHICLE_OCCUPANTS,IntegerType,true),StructField(DRIVER_SEX,StringType,true),StructField(DRIVER_LICENSE_STATUS,StringType,true),StructField(DRIVER_LICENSE_JURISDICTION,StringType,true),StructField(PRE_CRASH,StringType,true),StructField(POINT_OF_IMPACT,StringType,true),StructField(VEHICLE_DAMAGE,StringType,true),StructField(VEHICLE_DAMAGE_1,StringType,true),StructField(VEHICLE_DAMAGE_2,StringType,true),StructField(VEHICLE_DAMAGE_3,StringType,true),StructField(PUBLIC_PROPERTY_DAMAGE,StringType,true),StructField(PUBLIC_PROPERTY_DAMAGE_TYPE,StringType,true),StructField(CONTRIBUTING_FACTOR_1,StringType,true),StructField(CONTRIBUTING_FACTOR_2,StringType,true)))"
            ]
          },
          "metadata": {
            "tags": []
          },
          "execution_count": 12
        }
      ]
    },
    {
      "cell_type": "code",
      "metadata": {
        "id": "8TQDWRQOWXB0",
        "outputId": "3d93c913-02f8-4079-9da3-3185f2fbf7be",
        "colab": {
          "base_uri": "https://localhost:8080/"
        }
      },
      "source": [
        "col.printSchema()"
      ],
      "execution_count": 13,
      "outputs": [
        {
          "output_type": "stream",
          "text": [
            "root\n",
            " |-- UNIQUE_ID: integer (nullable = true)\n",
            " |-- COLLISION_ID: integer (nullable = true)\n",
            " |-- CRASH_DATE: string (nullable = true)\n",
            " |-- CRASH_TIME: string (nullable = true)\n",
            " |-- VEHICLE_ID: string (nullable = true)\n",
            " |-- STATE_REGISTRATION: string (nullable = true)\n",
            " |-- VEHICLE_TYPE: string (nullable = true)\n",
            " |-- VEHICLE_MAKE: string (nullable = true)\n",
            " |-- VEHICLE_MODEL: string (nullable = true)\n",
            " |-- VEHICLE_YEAR: integer (nullable = true)\n",
            " |-- TRAVEL_DIRECTION: string (nullable = true)\n",
            " |-- VEHICLE_OCCUPANTS: integer (nullable = true)\n",
            " |-- DRIVER_SEX: string (nullable = true)\n",
            " |-- DRIVER_LICENSE_STATUS: string (nullable = true)\n",
            " |-- DRIVER_LICENSE_JURISDICTION: string (nullable = true)\n",
            " |-- PRE_CRASH: string (nullable = true)\n",
            " |-- POINT_OF_IMPACT: string (nullable = true)\n",
            " |-- VEHICLE_DAMAGE: string (nullable = true)\n",
            " |-- VEHICLE_DAMAGE_1: string (nullable = true)\n",
            " |-- VEHICLE_DAMAGE_2: string (nullable = true)\n",
            " |-- VEHICLE_DAMAGE_3: string (nullable = true)\n",
            " |-- PUBLIC_PROPERTY_DAMAGE: string (nullable = true)\n",
            " |-- PUBLIC_PROPERTY_DAMAGE_TYPE: string (nullable = true)\n",
            " |-- CONTRIBUTING_FACTOR_1: string (nullable = true)\n",
            " |-- CONTRIBUTING_FACTOR_2: string (nullable = true)\n",
            "\n"
          ],
          "name": "stdout"
        }
      ]
    },
    {
      "cell_type": "code",
      "metadata": {
        "id": "3ZgHz4KEi6rv",
        "outputId": "f9a451eb-d780-452c-981b-e58cb5cc06fe",
        "colab": {
          "base_uri": "https://localhost:8080/"
        }
      },
      "source": [
        "col.select(\"CRASH_TIME\").show(10)\n"
      ],
      "execution_count": 14,
      "outputs": [
        {
          "output_type": "stream",
          "text": [
            "+----------+\n",
            "|CRASH_TIME|\n",
            "+----------+\n",
            "|      9:03|\n",
            "|      8:15|\n",
            "|     17:18|\n",
            "|     20:34|\n",
            "|     21:15|\n",
            "|     17:35|\n",
            "|     13:15|\n",
            "|     12:39|\n",
            "|     11:20|\n",
            "|     18:12|\n",
            "+----------+\n",
            "only showing top 10 rows\n",
            "\n"
          ],
          "name": "stdout"
        }
      ]
    },
    {
      "cell_type": "code",
      "metadata": {
        "id": "sKZZUqdjkurL"
      },
      "source": [
        "## Converting CRASH TIME type: String to timestamp \n",
        "from pyspark.sql.types import DateType\n",
        "from pyspark.sql.functions import to_timestamp\n",
        "\n",
        "col= col.withColumn('CRASH_TIME',to_timestamp(col[\"CRASH_TIME\"], 'H:mm'))\n"
      ],
      "execution_count": 15,
      "outputs": []
    },
    {
      "cell_type": "code",
      "metadata": {
        "id": "5edkv70MlYnT",
        "colab": {
          "base_uri": "https://localhost:8080/"
        },
        "outputId": "f583ea9e-82d5-4c3a-d064-95e777b4b640"
      },
      "source": [
        "col.select(\"CRASH_TIME\").show(10)"
      ],
      "execution_count": 16,
      "outputs": [
        {
          "output_type": "stream",
          "text": [
            "+-------------------+\n",
            "|         CRASH_TIME|\n",
            "+-------------------+\n",
            "|1970-01-01 09:03:00|\n",
            "|1970-01-01 08:15:00|\n",
            "|1970-01-01 17:18:00|\n",
            "|1970-01-01 20:34:00|\n",
            "|1970-01-01 21:15:00|\n",
            "|1970-01-01 17:35:00|\n",
            "|1970-01-01 13:15:00|\n",
            "|1970-01-01 12:39:00|\n",
            "|1970-01-01 11:20:00|\n",
            "|1970-01-01 18:12:00|\n",
            "+-------------------+\n",
            "only showing top 10 rows\n",
            "\n"
          ],
          "name": "stdout"
        }
      ]
    },
    {
      "cell_type": "code",
      "metadata": {
        "id": "0Q1XXSgroofs"
      },
      "source": [
        "\n",
        "### Removing YYYY-MM-DD from CRASH TIME\n",
        "from pyspark.sql.types import DateType\n",
        "from pyspark.sql.functions import date_format\n",
        "from pyspark.sql import functions as f\n",
        "\n",
        "col = col.withColumn(\"CRASH_TIME\", f.date_format(\"CRASH_TIME\", 'HH:mm:ss'))"
      ],
      "execution_count": 17,
      "outputs": []
    },
    {
      "cell_type": "code",
      "metadata": {
        "id": "GEOXE5hIkQwI",
        "colab": {
          "base_uri": "https://localhost:8080/"
        },
        "outputId": "ad3b92ac-c584-4228-fe2e-b12d4f58cbeb"
      },
      "source": [
        "#Change CRASH DATE type from String to Date\n",
        "from pyspark.sql.types import DateType\n",
        "from pyspark.sql.functions import to_date\n",
        "\n",
        "#col.withColumn(\"CRASH DATE\", col['CRASH DATE'].cast(DateType())).show()\n",
        "\n",
        " \n",
        "col= col.withColumn('CRASH_DATE',to_date(col[\"CRASH_DATE\"], 'MM/dd/yyyy'))\n",
        "col.select(\"CRASH_DATE\").show(10)"
      ],
      "execution_count": 18,
      "outputs": [
        {
          "output_type": "stream",
          "text": [
            "+----------+\n",
            "|CRASH_DATE|\n",
            "+----------+\n",
            "|2012-09-07|\n",
            "|2019-09-23|\n",
            "|2015-10-02|\n",
            "|2015-10-04|\n",
            "|2013-04-25|\n",
            "|2016-05-02|\n",
            "|2019-10-24|\n",
            "|2016-08-18|\n",
            "|2013-07-16|\n",
            "|2012-11-26|\n",
            "+----------+\n",
            "only showing top 10 rows\n",
            "\n"
          ],
          "name": "stdout"
        }
      ]
    },
    {
      "cell_type": "code",
      "metadata": {
        "id": "kBMJJA3EkpwN",
        "colab": {
          "base_uri": "https://localhost:8080/"
        },
        "outputId": "03ac2dc6-37ce-4d20-cd2e-c012a4f07eec"
      },
      "source": [
        "col.printSchema()"
      ],
      "execution_count": 19,
      "outputs": [
        {
          "output_type": "stream",
          "text": [
            "root\n",
            " |-- UNIQUE_ID: integer (nullable = true)\n",
            " |-- COLLISION_ID: integer (nullable = true)\n",
            " |-- CRASH_DATE: date (nullable = true)\n",
            " |-- CRASH_TIME: string (nullable = true)\n",
            " |-- VEHICLE_ID: string (nullable = true)\n",
            " |-- STATE_REGISTRATION: string (nullable = true)\n",
            " |-- VEHICLE_TYPE: string (nullable = true)\n",
            " |-- VEHICLE_MAKE: string (nullable = true)\n",
            " |-- VEHICLE_MODEL: string (nullable = true)\n",
            " |-- VEHICLE_YEAR: integer (nullable = true)\n",
            " |-- TRAVEL_DIRECTION: string (nullable = true)\n",
            " |-- VEHICLE_OCCUPANTS: integer (nullable = true)\n",
            " |-- DRIVER_SEX: string (nullable = true)\n",
            " |-- DRIVER_LICENSE_STATUS: string (nullable = true)\n",
            " |-- DRIVER_LICENSE_JURISDICTION: string (nullable = true)\n",
            " |-- PRE_CRASH: string (nullable = true)\n",
            " |-- POINT_OF_IMPACT: string (nullable = true)\n",
            " |-- VEHICLE_DAMAGE: string (nullable = true)\n",
            " |-- VEHICLE_DAMAGE_1: string (nullable = true)\n",
            " |-- VEHICLE_DAMAGE_2: string (nullable = true)\n",
            " |-- VEHICLE_DAMAGE_3: string (nullable = true)\n",
            " |-- PUBLIC_PROPERTY_DAMAGE: string (nullable = true)\n",
            " |-- PUBLIC_PROPERTY_DAMAGE_TYPE: string (nullable = true)\n",
            " |-- CONTRIBUTING_FACTOR_1: string (nullable = true)\n",
            " |-- CONTRIBUTING_FACTOR_2: string (nullable = true)\n",
            "\n"
          ],
          "name": "stdout"
        }
      ]
    },
    {
      "cell_type": "code",
      "metadata": {
        "colab": {
          "base_uri": "https://localhost:8080/"
        },
        "id": "aqjLGxqgQRD7",
        "outputId": "81eb4122-c10b-44c5-ce8d-e8222a311421"
      },
      "source": [
        "col.count()\n"
      ],
      "execution_count": 20,
      "outputs": [
        {
          "output_type": "execute_result",
          "data": {
            "text/plain": [
              "3559738"
            ]
          },
          "metadata": {
            "tags": []
          },
          "execution_count": 20
        }
      ]
    },
    {
      "cell_type": "code",
      "metadata": {
        "colab": {
          "base_uri": "https://localhost:8080/"
        },
        "id": "0XyacZIoOaO9",
        "outputId": "badf9535-9c79-42c7-80f5-2ee2a4842bf5"
      },
      "source": [
        "col.filter(col.COLLISION_ID.isNull()).drop()"
      ],
      "execution_count": 21,
      "outputs": [
        {
          "output_type": "execute_result",
          "data": {
            "text/plain": [
              "DataFrame[UNIQUE_ID: int, COLLISION_ID: int, CRASH_DATE: date, CRASH_TIME: string, VEHICLE_ID: string, STATE_REGISTRATION: string, VEHICLE_TYPE: string, VEHICLE_MAKE: string, VEHICLE_MODEL: string, VEHICLE_YEAR: int, TRAVEL_DIRECTION: string, VEHICLE_OCCUPANTS: int, DRIVER_SEX: string, DRIVER_LICENSE_STATUS: string, DRIVER_LICENSE_JURISDICTION: string, PRE_CRASH: string, POINT_OF_IMPACT: string, VEHICLE_DAMAGE: string, VEHICLE_DAMAGE_1: string, VEHICLE_DAMAGE_2: string, VEHICLE_DAMAGE_3: string, PUBLIC_PROPERTY_DAMAGE: string, PUBLIC_PROPERTY_DAMAGE_TYPE: string, CONTRIBUTING_FACTOR_1: string, CONTRIBUTING_FACTOR_2: string]"
            ]
          },
          "metadata": {
            "tags": []
          },
          "execution_count": 21
        }
      ]
    },
    {
      "cell_type": "code",
      "metadata": {
        "colab": {
          "base_uri": "https://localhost:8080/"
        },
        "id": "B_5j9v65QUmR",
        "outputId": "de78a7fc-eedd-4bec-9716-42a555250a37"
      },
      "source": [
        "col.count()"
      ],
      "execution_count": 22,
      "outputs": [
        {
          "output_type": "execute_result",
          "data": {
            "text/plain": [
              "3559738"
            ]
          },
          "metadata": {
            "tags": []
          },
          "execution_count": 22
        }
      ]
    },
    {
      "cell_type": "code",
      "metadata": {
        "id": "2lEz0Qz2RrUZ"
      },
      "source": [
        "missingId=col.filter(col[\"VEHICLE_ID\"].isNull()).filter(col[\"UNIQUE_ID\"].isNull())"
      ],
      "execution_count": 23,
      "outputs": []
    },
    {
      "cell_type": "code",
      "metadata": {
        "id": "BX-Xn171Rpvz"
      },
      "source": [
        "cannotRetriveId = missingId.filter(col[\"COLLISION_ID\"].isNull())\n"
      ],
      "execution_count": 24,
      "outputs": []
    },
    {
      "cell_type": "code",
      "metadata": {
        "id": "gINeT3OMRlVV"
      },
      "source": [
        "col.createOrReplaceTempView(\"col\");\n",
        "missingId.createOrReplaceTempView(\"toDelete\")"
      ],
      "execution_count": 25,
      "outputs": []
    },
    {
      "cell_type": "code",
      "metadata": {
        "id": "rXO4iWVPRKd_"
      },
      "source": [
        "col=spark.sql(\"select * FROM col WHERE col.COLLISION_ID not in (select COLLISION_ID from toDelete where COLLISION_ID is not null)\");\n"
      ],
      "execution_count": 26,
      "outputs": []
    },
    {
      "cell_type": "code",
      "metadata": {
        "colab": {
          "base_uri": "https://localhost:8080/"
        },
        "id": "L95L2LDNQ9WL",
        "outputId": "e7e9225a-a9ea-41d3-d560-471062fba434"
      },
      "source": [
        "col.filter(col.VEHICLE_ID.isNull()).drop()"
      ],
      "execution_count": 27,
      "outputs": [
        {
          "output_type": "execute_result",
          "data": {
            "text/plain": [
              "DataFrame[UNIQUE_ID: int, COLLISION_ID: int, CRASH_DATE: date, CRASH_TIME: string, VEHICLE_ID: string, STATE_REGISTRATION: string, VEHICLE_TYPE: string, VEHICLE_MAKE: string, VEHICLE_MODEL: string, VEHICLE_YEAR: int, TRAVEL_DIRECTION: string, VEHICLE_OCCUPANTS: int, DRIVER_SEX: string, DRIVER_LICENSE_STATUS: string, DRIVER_LICENSE_JURISDICTION: string, PRE_CRASH: string, POINT_OF_IMPACT: string, VEHICLE_DAMAGE: string, VEHICLE_DAMAGE_1: string, VEHICLE_DAMAGE_2: string, VEHICLE_DAMAGE_3: string, PUBLIC_PROPERTY_DAMAGE: string, PUBLIC_PROPERTY_DAMAGE_TYPE: string, CONTRIBUTING_FACTOR_1: string, CONTRIBUTING_FACTOR_2: string]"
            ]
          },
          "metadata": {
            "tags": []
          },
          "execution_count": 27
        }
      ]
    },
    {
      "cell_type": "code",
      "metadata": {
        "colab": {
          "base_uri": "https://localhost:8080/"
        },
        "id": "QgecSr2SRDNN",
        "outputId": "b83447d0-2d75-4862-ce2b-aaa5c8706093"
      },
      "source": [
        "print(col.select(\"VEHICLE_ID\").distinct().show(100));"
      ],
      "execution_count": 28,
      "outputs": [
        {
          "output_type": "stream",
          "text": [
            "+--------------------+\n",
            "|          VEHICLE_ID|\n",
            "+--------------------+\n",
            "|              692423|\n",
            "|              370609|\n",
            "|f015cba0-adcb-48c...|\n",
            "|a4248672-101e-406...|\n",
            "|c06970b5-afa0-4ea...|\n",
            "|023ab94e-76e4-4ca...|\n",
            "|57b5ffa1-20b5-4df...|\n",
            "|2d8a816f-d14a-44d...|\n",
            "|              505944|\n",
            "|              147348|\n",
            "|              555779|\n",
            "|              113602|\n",
            "|             1108583|\n",
            "|             1219138|\n",
            "|             1218061|\n",
            "|              642225|\n",
            "|              762357|\n",
            "|             1172127|\n",
            "|             1155583|\n",
            "|              502936|\n",
            "|f1548baf-d7cc-4da...|\n",
            "|              621533|\n",
            "|              622985|\n",
            "|              371086|\n",
            "|              762037|\n",
            "|              615275|\n",
            "|             1214729|\n",
            "|              556677|\n",
            "|              808131|\n",
            "|              768779|\n",
            "|              124057|\n",
            "|               29549|\n",
            "|              321607|\n",
            "|              892775|\n",
            "|             1086716|\n",
            "|              427979|\n",
            "|              830532|\n",
            "|              690002|\n",
            "|             1176173|\n",
            "|              722232|\n",
            "|              334101|\n",
            "|             1134166|\n",
            "|              457715|\n",
            "|              216438|\n",
            "|             1044347|\n",
            "|             1225189|\n",
            "|              338513|\n",
            "|              125702|\n",
            "|              758281|\n",
            "|              788701|\n",
            "|             1266172|\n",
            "|              994464|\n",
            "|              629484|\n",
            "|              278659|\n",
            "|              240200|\n",
            "|             1244241|\n",
            "|             1245542|\n",
            "|              357324|\n",
            "|               80258|\n",
            "|              620692|\n",
            "|              485528|\n",
            "|              590204|\n",
            "|             1083217|\n",
            "|              975126|\n",
            "|              967369|\n",
            "|              189088|\n",
            "|             1092516|\n",
            "|             1188018|\n",
            "|              606539|\n",
            "|              419208|\n",
            "|             1206849|\n",
            "|               62646|\n",
            "|              462117|\n",
            "|              581695|\n",
            "|             1165233|\n",
            "|             1272522|\n",
            "|              520302|\n",
            "|              854202|\n",
            "|              723394|\n",
            "|              912211|\n",
            "|              623959|\n",
            "|              444846|\n",
            "|             1098457|\n",
            "|              469607|\n",
            "|              407367|\n",
            "|              941933|\n",
            "|             1104594|\n",
            "|             1089584|\n",
            "|              978762|\n",
            "|               92146|\n",
            "|              478118|\n",
            "|              699985|\n",
            "|             1129965|\n",
            "|              493029|\n",
            "|              652124|\n",
            "|              691672|\n",
            "|              231436|\n",
            "|              827772|\n",
            "|               49003|\n",
            "|              429742|\n",
            "+--------------------+\n",
            "only showing top 100 rows\n",
            "\n",
            "None\n"
          ],
          "name": "stdout"
        }
      ]
    },
    {
      "cell_type": "code",
      "metadata": {
        "id": "0zaIB4nRVzGj"
      },
      "source": [
        ""
      ],
      "execution_count": 28,
      "outputs": []
    },
    {
      "cell_type": "code",
      "metadata": {
        "id": "AQ28uKy-prOL",
        "colab": {
          "base_uri": "https://localhost:8080/"
        },
        "outputId": "cbcc1479-1229-47f0-fb25-740a727a447e"
      },
      "source": [
        "print(col.select(\"VEHICLE_DAMAGE_1\",\"VEHICLE_DAMAGE_2\",\"VEHICLE_DAMAGE_3\").distinct().show(30));\n",
        "## Checking if null value is present"
      ],
      "execution_count": 29,
      "outputs": [
        {
          "output_type": "stream",
          "text": [
            "+--------------------+--------------------+--------------------+\n",
            "|    VEHICLE_DAMAGE_1|    VEHICLE_DAMAGE_2|    VEHICLE_DAMAGE_3|\n",
            "+--------------------+--------------------+--------------------+\n",
            "|    Right Side Doors|Right Rear Quarte...|               Other|\n",
            "|Left Front Quarte...|Left Rear Quarter...|           No Damage|\n",
            "|     Left Side Doors|   Left Front Bumper|Right Front Quart...|\n",
            "|   Left Front Bumper|  Right Front Bumper|Right Rear Quarte...|\n",
            "|   Left Front Bumper|    Center Front End|       Undercarriage|\n",
            "|   Left Front Bumper|    Center Front End|     Left Side Doors|\n",
            "|Right Rear Quarte...|       Undercarriage|           No Damage|\n",
            "|     Center Back End|   Right Rear Bumper|     Left Side Doors|\n",
            "|    Right Side Doors|   Left Front Bumper|    Left Rear Bumper|\n",
            "|     Center Back End|   Left Front Bumper|                Roof|\n",
            "|   Left Front Bumper|Right Rear Quarte...|           No Damage|\n",
            "|  Right Front Bumper|Left Front Quarte...|                Roof|\n",
            "|           No Damage|           No Damage|Right Front Quart...|\n",
            "|          Demolished|    Left Rear Bumper|                null|\n",
            "|    Left Rear Bumper|    Left Rear Bumper|   Left Front Bumper|\n",
            "|  Right Front Bumper|  Right Front Bumper|          Demolished|\n",
            "|    Right Side Doors|Left Front Quarte...|               Other|\n",
            "|    Center Front End|     Left Side Doors|Right Front Quart...|\n",
            "|Right Front Quart...|               Other|    Right Side Doors|\n",
            "|Left Rear Quarter...|           No Damage|    Left Rear Bumper|\n",
            "|     Center Back End|               Other|    Left Rear Bumper|\n",
            "|                Roof|           No Damage|    Center Front End|\n",
            "|   Right Rear Bumper|     Center Back End|Left Front Quarte...|\n",
            "|    Left Rear Bumper|Left Rear Quarter...|           No Damage|\n",
            "|Right Front Quart...|Right Front Quart...|    Right Side Doors|\n",
            "|   Left Front Bumper|    Right Side Doors|Left Front Quarte...|\n",
            "|                Roof|Right Front Quart...|    Center Front End|\n",
            "|    Left Rear Bumper|    Center Front End|           No Damage|\n",
            "|                Roof|     Left Side Doors|Left Front Quarte...|\n",
            "|     Left Side Doors|     Center Back End|Right Rear Quarte...|\n",
            "+--------------------+--------------------+--------------------+\n",
            "only showing top 30 rows\n",
            "\n",
            "None\n"
          ],
          "name": "stdout"
        }
      ]
    },
    {
      "cell_type": "code",
      "metadata": {
        "colab": {
          "base_uri": "https://localhost:8080/"
        },
        "id": "Pgq2Lp4OSyru",
        "outputId": "e70387d0-769c-4140-e2b9-93ea1ec32349"
      },
      "source": [
        "col.na.drop(subset=[\"DRIVER_LICENSE_STATUS\"]) \\\n",
        "   .show(truncate=False)"
      ],
      "execution_count": 30,
      "outputs": [
        {
          "output_type": "stream",
          "text": [
            "+---------+------------+----------+----------+------------------------------------+------------------+-----------------------------------+--------------+-------------+------------+----------------+-----------------+----------+---------------------+---------------------------+------------------------+------------------------+------------------------+-------------------------+-------------------------+------------------+----------------------+---------------------------+------------------------------+------------------------------+\n",
            "|UNIQUE_ID|COLLISION_ID|CRASH_DATE|CRASH_TIME|VEHICLE_ID                          |STATE_REGISTRATION|VEHICLE_TYPE                       |VEHICLE_MAKE  |VEHICLE_MODEL|VEHICLE_YEAR|TRAVEL_DIRECTION|VEHICLE_OCCUPANTS|DRIVER_SEX|DRIVER_LICENSE_STATUS|DRIVER_LICENSE_JURISDICTION|PRE_CRASH               |POINT_OF_IMPACT         |VEHICLE_DAMAGE          |VEHICLE_DAMAGE_1         |VEHICLE_DAMAGE_2         |VEHICLE_DAMAGE_3  |PUBLIC_PROPERTY_DAMAGE|PUBLIC_PROPERTY_DAMAGE_TYPE|CONTRIBUTING_FACTOR_1         |CONTRIBUTING_FACTOR_2         |\n",
            "+---------+------------+----------+----------+------------------------------------+------------------+-----------------------------------+--------------+-------------+------------+----------------+-----------------+----------+---------------------+---------------------------+------------------------+------------------------+------------------------+-------------------------+-------------------------+------------------+----------------------+---------------------------+------------------------------+------------------------------+\n",
            "|19140702 |4213082     |2019-09-23|08:15:00  |0553ab4d-9500-4cba-8d98-f4d7f89d5856|NY                |Station Wagon/Sport Utility Vehicle|TOYT -CAR/SUV |null         |2002        |North           |1                |M         |Licensed             |NY                         |Going Straight Ahead    |Left Front Bumper       |Left Front Quarter Panel|null                     |null                     |null              |N                     |null                       |Driver Inattention/Distraction|Unspecified                   |\n",
            "|17044639 |3434155     |2016-05-02|17:35:00  |219456                              |NY                |4 dr sedan                         |MERZ -CAR/SUV |null         |2015        |East            |2                |M         |Licensed             |FL                         |Merging                 |Right Front Bumper      |Right Front Bumper      |Right Front Quarter Panel|null                     |null              |N                     |null                       |Driver Inattention/Distraction|Unsafe Lane Changing          |\n",
            "|19138701 |4229067     |2019-10-24|13:15:00  |c53b43d9-419a-4ab1-9361-3f2979078d89|NY                |Bus                                |FRHT-TRUCK/BUS|null         |2006        |East            |13               |M         |Licensed             |NY                         |Parked                  |Left Front Quarter Panel|Left Front Quarter Panel|null                     |null                     |null              |N                     |null                       |Unspecified                   |Unspecified                   |\n",
            "|17303317 |3503027     |2016-08-18|12:39:00  |672828                              |NY                |Station Wagon/Sport Utility Vehicle|FORD -CAR/SUV |null         |2005        |Southwest       |2                |F         |Licensed             |NY                         |Going Straight Ahead    |Center Front End        |Center Front End        |No Damage                |No Damage                |No Damage         |N                     |null                       |Driver Inattention/Distraction|Unspecified                   |\n",
            "|17285715 |3487936     |2016-07-22|15:40:00  |554272                              |NY                |Convertible                        |VOLK -CAR/SUV |null         |2013        |South           |1                |M         |Licensed             |NY                         |Stopped in Traffic      |Right Rear Bumper       |Right Rear Bumper       |Center Back End          |Left Rear Bumper         |null              |N                     |null                       |Unspecified                   |Unspecified                   |\n",
            "|17307366 |3499697     |2016-08-13|21:05:00  |650962                              |NY                |Sedan                              |NISS -CAR/SUV |null         |2015        |West            |2                |F         |Licensed             |NY                         |Going Straight Ahead    |Left Side Doors         |Left Side Doors         |Left Rear Quarter Panel  |null                     |null              |N                     |null                       |Unspecified                   |Unspecified                   |\n",
            "|19140791 |4229563     |2019-10-21|17:55:00  |86a294b4-6672-4a7e-8357-39d6d2eff9f7|PA                |Sedan                              |BMW -CAR/SUV  |null         |2006        |North           |2                |F         |Licensed             |PA                         |Going Straight Ahead    |Center Front End        |Right Front Bumper      |Right Front Quarter Panel|Right Front Bumper       |null              |N                     |null                       |Unspecified                   |Unspecified                   |\n",
            "|19694316 |4322767     |2020-06-06|18:30:00  |fdc195a7-8127-4c00-834d-bac78b0cf88e|null              |Bike                               |null          |null         |null        |South           |1                |M         |Licensed             |NY                         |Going Straight Ahead    |Center Front End        |No Damage               |No Damage                |No Damage                |No Damage         |N                     |null                       |Traffic Control Disregarded   |Unspecified                   |\n",
            "|17401424 |3516125     |2016-09-08|14:40:00  |764668                              |NY                |Station Wagon/Sport Utility Vehicle|LINC -CAR/SUV |null         |2015        |West            |1                |M         |Licensed             |NY                         |Stopped in Traffic      |Right Rear Quarter Panel|Right Rear Quarter Panel|Right Rear Bumper        |No Damage                |No Damage         |N                     |null                       |Unspecified                   |Unspecified                   |\n",
            "|19140656 |4229538     |2019-10-24|17:30:00  |70e5262a-bd27-48a6-99a1-1ec659804088|NY                |Station Wagon/Sport Utility Vehicle|JEEP -CAR/SUV |null         |2018        |North           |3                |F         |Licensed             |NY                         |Going Straight Ahead    |Left Rear Quarter Panel |Left Rear Quarter Panel |null                     |null                     |null              |N                     |null                       |Unspecified                   |Unspecified                   |\n",
            "|19139721 |4228839     |2019-10-24|16:00:00  |5bb0b59a-ce74-4a04-9f92-1446ebfe4f46|NC                |Sedan                              |TOYT -CAR/SUV |null         |1990        |South           |1                |M         |Licensed             |NC                         |Going Straight Ahead    |Right Side Doors        |Right Side Doors        |null                     |null                     |null              |N                     |null                       |Unspecified                   |Unspecified                   |\n",
            "|17222837 |3542089     |2016-10-17|16:00:00  |993368                              |NY                |Pick-up Truck                      |freig         |null         |2006        |South           |0                |M         |Licensed             |NY                         |Going Straight Ahead    |Center Back End         |Center Back End         |null                     |null                     |null              |N                     |null                       |Unspecified                   |Unspecified                   |\n",
            "|19139288 |4228955     |2019-10-24|23:40:00  |8e406c38-a35f-4a06-bd29-fb196b3adec0|NY                |Station Wagon/Sport Utility Vehicle|NISS -CAR/SUV |null         |2011        |East            |3                |M         |Permit               |NY                         |Going Straight Ahead    |Left Side Doors         |Left Side Doors         |Left Front Quarter Panel |null                     |null              |N                     |null                       |Unspecified                   |Unspecified                   |\n",
            "|19138486 |4228644     |2019-10-24|10:25:00  |8ada1656-bb64-4bba-91b5-f8872d9de368|NY                |Sedan                              |TOYT -CAR/SUV |null         |2008        |East            |2                |M         |Licensed             |NY                         |Going Straight Ahead    |Center Front End        |No Damage               |No Damage                |No Damage                |No Damage         |N                     |null                       |Driver Inattention/Distraction|Unspecified                   |\n",
            "|19139804 |4229205     |2019-10-24|12:10:00  |009f5608-f1c8-4747-91be-6b707a1fda3d|NY                |Station Wagon/Sport Utility Vehicle|INFI -CAR/SUV |null         |2019        |East            |1                |M         |Licensed             |NY                         |Entering Parked Position|Right Front Bumper      |Right Front Bumper      |Right Front Quarter Panel|Right Front Quarter Panel|Right Front Bumper|N                     |null                       |Backing Unsafely              |Driver Inattention/Distraction|\n",
            "|19140446 |4229127     |2019-10-24|20:30:00  |c1353cd0-388f-4e93-887d-6743b7599d2b|NY                |Sedan                              |HOND -CAR/SUV |null         |2017        |West            |1                |F         |Licensed             |NY                         |Going Straight Ahead    |Center Front End        |Center Front End        |Left Front Bumper        |Right Front Bumper       |null              |N                     |null                       |Unspecified                   |Unspecified                   |\n",
            "|19140792 |4229563     |2019-10-21|17:55:00  |ca744068-6013-47f0-a661-a0fbb579eb47|NM                |Station Wagon/Sport Utility Vehicle|HOND -CAR/SUV |null         |2003        |West            |1                |M         |Licensed             |NY                         |Going Straight Ahead    |Left Front Bumper       |Center Front End        |Center Front End         |Left Front Bumper        |null              |N                     |null                       |Unspecified                   |Unspecified                   |\n",
            "|19139096 |4229018     |2019-10-24|21:55:00  |6ce523e1-6a14-4bcb-8e98-b2bdc5a74542|NY                |Sedan                              |HOND -CAR/SUV |null         |2018        |South           |3                |M         |Licensed             |NY                         |Going Straight Ahead    |Center Front End        |Left Front Bumper       |Right Front Bumper       |null                     |null              |N                     |null                       |Failure to Yield Right-of-Way |Traffic Control Disregarded   |\n",
            "|19138903 |4228921     |2019-10-24|11:50:00  |46176b3a-deda-4170-a186-7e7206b7a089|NY                |Station Wagon/Sport Utility Vehicle|TOYT -CAR/SUV |null         |2017        |East            |1                |M         |Licensed             |NY                         |Slowing or Stopping     |Center Front End        |Center Front End        |No Damage                |No Damage                |No Damage         |N                     |null                       |Driver Inattention/Distraction|Unspecified                   |\n",
            "|19140226 |4229375     |2019-10-24|14:00:00  |f37a0689-c2cb-4ae6-9317-531dffa0f185|NY                |Station Wagon/Sport Utility Vehicle|TOYT -CAR/SUV |null         |2011        |East            |1                |F         |Licensed             |NY                         |Making Left Turn        |Left Rear Quarter Panel |Left Rear Quarter Panel |null                     |null                     |null              |N                     |null                       |Unspecified                   |Unspecified                   |\n",
            "+---------+------------+----------+----------+------------------------------------+------------------+-----------------------------------+--------------+-------------+------------+----------------+-----------------+----------+---------------------+---------------------------+------------------------+------------------------+------------------------+-------------------------+-------------------------+------------------+----------------------+---------------------------+------------------------------+------------------------------+\n",
            "only showing top 20 rows\n",
            "\n"
          ],
          "name": "stdout"
        }
      ]
    },
    {
      "cell_type": "code",
      "metadata": {
        "colab": {
          "base_uri": "https://localhost:8080/"
        },
        "id": "eGRisk8-S2xG",
        "outputId": "27b4c4f8-e5d0-4546-8096-83746b344d5b"
      },
      "source": [
        "print(col.select(\"DRIVER_LICENSE_STATUS\").distinct().show(30));\n"
      ],
      "execution_count": 31,
      "outputs": [
        {
          "output_type": "stream",
          "text": [
            "+---------------------+\n",
            "|DRIVER_LICENSE_STATUS|\n",
            "+---------------------+\n",
            "|                 null|\n",
            "|           Unlicensed|\n",
            "|               Permit|\n",
            "|             Licensed|\n",
            "+---------------------+\n",
            "\n",
            "None\n"
          ],
          "name": "stdout"
        }
      ]
    },
    {
      "cell_type": "code",
      "metadata": {
        "id": "HO-hQhCrrncZ",
        "outputId": "e7d95ce2-4c01-44ea-cbfb-099d65619959",
        "colab": {
          "base_uri": "https://localhost:8080/"
        }
      },
      "source": [
        "\n",
        "## Setting all null values to Unknown \n",
        "col.filter(col.COLLISION_ID.isNull()).drop()"
      ],
      "execution_count": 32,
      "outputs": [
        {
          "output_type": "execute_result",
          "data": {
            "text/plain": [
              "DataFrame[UNIQUE_ID: int, COLLISION_ID: int, CRASH_DATE: date, CRASH_TIME: string, VEHICLE_ID: string, STATE_REGISTRATION: string, VEHICLE_TYPE: string, VEHICLE_MAKE: string, VEHICLE_MODEL: string, VEHICLE_YEAR: int, TRAVEL_DIRECTION: string, VEHICLE_OCCUPANTS: int, DRIVER_SEX: string, DRIVER_LICENSE_STATUS: string, DRIVER_LICENSE_JURISDICTION: string, PRE_CRASH: string, POINT_OF_IMPACT: string, VEHICLE_DAMAGE: string, VEHICLE_DAMAGE_1: string, VEHICLE_DAMAGE_2: string, VEHICLE_DAMAGE_3: string, PUBLIC_PROPERTY_DAMAGE: string, PUBLIC_PROPERTY_DAMAGE_TYPE: string, CONTRIBUTING_FACTOR_1: string, CONTRIBUTING_FACTOR_2: string]"
            ]
          },
          "metadata": {
            "tags": []
          },
          "execution_count": 32
        }
      ]
    },
    {
      "cell_type": "code",
      "metadata": {
        "id": "yVmYmUaNr3GC",
        "outputId": "b73e11f6-43ed-43d0-cbff-f8e96ffa4fe6",
        "colab": {
          "base_uri": "https://localhost:8080/"
        }
      },
      "source": [
        "print(col.select(\"DRIVER_LICENSE_JURISDICTION\").distinct().show(30));\n",
        "## Checking if null value is present"
      ],
      "execution_count": 33,
      "outputs": [
        {
          "output_type": "stream",
          "text": [
            "+---------------------------+\n",
            "|DRIVER_LICENSE_JURISDICTION|\n",
            "+---------------------------+\n",
            "|                   A,NEJADE|\n",
            "|                         SC|\n",
            "|                         AZ|\n",
            "|                        ZZZ|\n",
            "|                         NS|\n",
            "|                         LA|\n",
            "|                         MN|\n",
            "|                         NJ|\n",
            "|                         MX|\n",
            "|                         DC|\n",
            "|                         OR|\n",
            "|                         NT|\n",
            "|                       null|\n",
            "|                         VA|\n",
            "|                        NB1|\n",
            "|                         RI|\n",
            "|                         KY|\n",
            "|                         WY|\n",
            "|                         BC|\n",
            "|                         NH|\n",
            "|                         MI|\n",
            "|                         NV|\n",
            "|                         WI|\n",
            "|                         ID|\n",
            "|                         CA|\n",
            "|                         CT|\n",
            "|                         NE|\n",
            "|                         MT|\n",
            "|                         NC|\n",
            "|                         PQ|\n",
            "+---------------------------+\n",
            "only showing top 30 rows\n",
            "\n",
            "None\n"
          ],
          "name": "stdout"
        }
      ]
    },
    {
      "cell_type": "code",
      "metadata": {
        "id": "pCnVkBpwsRXc"
      },
      "source": [
        "## Setting all null values to Unknown \n",
        "col=col.fillna(value=\"Not Provided\",subset=[\"DRIVER_LICENSE_JURISDICTION\"])"
      ],
      "execution_count": 34,
      "outputs": []
    },
    {
      "cell_type": "code",
      "metadata": {
        "id": "lzm2hHIsCYoh",
        "outputId": "d30a2fd2-a799-43bb-e584-f3102eaaa994",
        "colab": {
          "base_uri": "https://localhost:8080/"
        }
      },
      "source": [
        "print(col.select(\"POINT_OF_IMPACT\").distinct().show(30));\n",
        "## Checking if null value is present"
      ],
      "execution_count": 35,
      "outputs": [
        {
          "output_type": "stream",
          "text": [
            "+--------------------+\n",
            "|     POINT_OF_IMPACT|\n",
            "+--------------------+\n",
            "|Left Rear Quarter...|\n",
            "|     Center Back End|\n",
            "|Left Front Quarte...|\n",
            "|                null|\n",
            "|  Right Front Bumper|\n",
            "|    Left Rear Bumper|\n",
            "|    Right Side Doors|\n",
            "|                Roof|\n",
            "|Right Front Quart...|\n",
            "|               Other|\n",
            "|          Overturned|\n",
            "|             Trailer|\n",
            "|Right Rear Quarte...|\n",
            "|     Left Side Doors|\n",
            "|   Left Front Bumper|\n",
            "|          Demolished|\n",
            "|    Center Front End|\n",
            "|       Undercarriage|\n",
            "|   Right Rear Bumper|\n",
            "|           No Damage|\n",
            "+--------------------+\n",
            "\n",
            "None\n"
          ],
          "name": "stdout"
        }
      ]
    },
    {
      "cell_type": "code",
      "metadata": {
        "id": "OmEyVUaXIJR4"
      },
      "source": [
        "## Setting all null values to Unknown \n",
        "col=col.fillna(value=\"Not Provided\",subset=[\"POINT_OF_IMPACT\"])"
      ],
      "execution_count": 36,
      "outputs": []
    },
    {
      "cell_type": "code",
      "metadata": {
        "id": "TUPMGsf1IQdq",
        "outputId": "e5daaf61-d18f-4927-e010-ac190400eaf9",
        "colab": {
          "base_uri": "https://localhost:8080/"
        }
      },
      "source": [
        "print(col.select(\"VEHICLE_TYPE\",\"VEHICLE_MAKE\",\"VEHICLE_MODEL\").distinct().show(30));\n",
        "## Checking if null value is present"
      ],
      "execution_count": 37,
      "outputs": [
        {
          "output_type": "stream",
          "text": [
            "+--------------------+----------------+-------------+\n",
            "|        VEHICLE_TYPE|    VEHICLE_MAKE|VEHICLE_MODEL|\n",
            "+--------------------+----------------+-------------+\n",
            "|Tractor Truck Diesel|           DORSE|         null|\n",
            "|Station Wagon/Spo...|   JEEP -CAR/SUV|     JEEP GCH|\n",
            "|           Box Truck|  INTL-TRUCK/BUS|         4400|\n",
            "|Station Wagon/Spo...|   JEEP -CAR/SUV|     JEEP PAT|\n",
            "|               Sedan|           WAGON|         null|\n",
            "|          4 dr sedan|   ACUR -CAR/SUV|          ATL|\n",
            "|           Box Truck|           WORKH|         null|\n",
            "|          Motorcycle|       HOND -MCL|          CTX|\n",
            "|                null|         UNKNOWN|      UNKNOWN|\n",
            "|Tractor Truck Gas...|  FRHT-TRUCK/BUS|      FRHT TK|\n",
            "|               trail|            null|         null|\n",
            "|               Sedan|   HUMM -CAR/SUV|         null|\n",
            "|Station Wagon/Spo...|           HONDA|         null|\n",
            "|                 Van|             unk|         null|\n",
            "|       Pick-up Truck|             ihc|         null|\n",
            "|                 Bus|         unknown|      unknown|\n",
            "|                null|       FIRETRUCK|         FDNY|\n",
            "|          School Bus|           NEWFL|         null|\n",
            "| Tow Truck / Wrecker|         UNKNOWN|         null|\n",
            "|               Sedan|            COTO|         null|\n",
            "|                 Bus|           Orion|      Mta bus|\n",
            "|               Sedan|           FREIG|         null|\n",
            "|Station Wagon/Spo...|   LNDR -CAR/SUV|     LNDR DIS|\n",
            "|Station Wagon/Spo...|   DODG -CAR/SUV| WAGON WT PRO|\n",
            "|                FIRE|            FDNY|         null|\n",
            "|               Sedan|           DUICK|         null|\n",
            "|          2 dr sedan|   CHRY -CAR/SUV|     CHRY SEB|\n",
            "|          2 dr sedan|    BMW -CAR/SUV|      BMW 3TI|\n",
            "|       Pick-up Truck|WABAS SEMI TRUCK|         null|\n",
            "|                 Bus|           NE/FL|    NEW FLYER|\n",
            "+--------------------+----------------+-------------+\n",
            "only showing top 30 rows\n",
            "\n",
            "None\n"
          ],
          "name": "stdout"
        }
      ]
    },
    {
      "cell_type": "code",
      "metadata": {
        "id": "Vg3OR96xZjN_"
      },
      "source": [
        "## Setting all null values to Unknown \n",
        "col=col.fillna(value=\"Not Provided\",subset=[\"VEHICLE_TYPE\",\"VEHICLE_MAKE\",\"VEHICLE_MODEL\"])"
      ],
      "execution_count": 38,
      "outputs": []
    },
    {
      "cell_type": "code",
      "metadata": {
        "id": "dX3yPUfDahMq",
        "outputId": "de8b970c-ba4b-4800-aaab-b24f104178ea",
        "colab": {
          "base_uri": "https://localhost:8080/"
        }
      },
      "source": [
        "print(col.select(\"STATE_REGISTRATION\").distinct().show(100));\n",
        "## Checking if null value is present"
      ],
      "execution_count": 39,
      "outputs": [
        {
          "output_type": "stream",
          "text": [
            "+------------------+\n",
            "|STATE_REGISTRATION|\n",
            "+------------------+\n",
            "|                SC|\n",
            "|                AZ|\n",
            "|                UA|\n",
            "|                NS|\n",
            "|                LA|\n",
            "|                MN|\n",
            "|                NJ|\n",
            "|                MX|\n",
            "|                DC|\n",
            "|                ZZ|\n",
            "|                OR|\n",
            "|                NT|\n",
            "|              null|\n",
            "|                VA|\n",
            "|                RI|\n",
            "|                WY|\n",
            "|                KY|\n",
            "|                BC|\n",
            "|                NH|\n",
            "|                LR|\n",
            "|                MI|\n",
            "|                NV|\n",
            "|                GV|\n",
            "|                QB|\n",
            "|                WI|\n",
            "|                ID|\n",
            "|                CA|\n",
            "|                CT|\n",
            "|                NE|\n",
            "|                MT|\n",
            "|                NC|\n",
            "|                VT|\n",
            "|                PQ|\n",
            "|                MD|\n",
            "|                DE|\n",
            "|                MO|\n",
            "|                VI|\n",
            "|                IL|\n",
            "|                ME|\n",
            "|                MB|\n",
            "|                GU|\n",
            "|                WA|\n",
            "|                ND|\n",
            "|                MS|\n",
            "|                AL|\n",
            "|                IN|\n",
            "|                DI|\n",
            "|                OH|\n",
            "|                TN|\n",
            "|                NM|\n",
            "|                IA|\n",
            "|                PA|\n",
            "|                SD|\n",
            "|                FO|\n",
            "|                NY|\n",
            "|                UK|\n",
            "|                ON|\n",
            "|                SK|\n",
            "|                AB|\n",
            "|                FM|\n",
            "|                MH|\n",
            "|                PE|\n",
            "|                TX|\n",
            "|                WV|\n",
            "|                GA|\n",
            "|                MA|\n",
            "|                AS|\n",
            "|                KS|\n",
            "|                OT|\n",
            "|                FL|\n",
            "|                CO|\n",
            "|                AK|\n",
            "|                YT|\n",
            "|                AR|\n",
            "|                NB|\n",
            "|                OK|\n",
            "|                PR|\n",
            "|                NF|\n",
            "|                MP|\n",
            "|                UT|\n",
            "|                DP|\n",
            "|                HI|\n",
            "+------------------+\n",
            "\n",
            "None\n"
          ],
          "name": "stdout"
        }
      ]
    },
    {
      "cell_type": "code",
      "metadata": {
        "id": "7uplSIH4hHB4",
        "colab": {
          "base_uri": "https://localhost:8080/"
        },
        "outputId": "676ca31d-35ca-44e3-b5df-a42f9d2d05e2"
      },
      "source": [
        "print(col.select(\"TRAVEL_DIRECTION\").distinct().show(20));\n",
        "## Checking if null value is present"
      ],
      "execution_count": 40,
      "outputs": [
        {
          "output_type": "stream",
          "text": [
            "+----------------+\n",
            "|TRAVEL_DIRECTION|\n",
            "+----------------+\n",
            "|            null|\n",
            "|               E|\n",
            "|       Northwest|\n",
            "|               U|\n",
            "|         Unknown|\n",
            "|           South|\n",
            "|       Southeast|\n",
            "|               -|\n",
            "|               N|\n",
            "|               W|\n",
            "|               S|\n",
            "|            East|\n",
            "|       Southwest|\n",
            "|            West|\n",
            "|           North|\n",
            "|       Northeast|\n",
            "+----------------+\n",
            "\n",
            "None\n"
          ],
          "name": "stdout"
        }
      ]
    },
    {
      "cell_type": "code",
      "metadata": {
        "id": "Gr_Mfh5xhWjD"
      },
      "source": [
        "## Setting all null values to Unknown \n",
        "col=col.fillna(value=\"unknown\",subset=[\"TRAVEL_DIRECTION\"])"
      ],
      "execution_count": 41,
      "outputs": []
    },
    {
      "cell_type": "code",
      "metadata": {
        "id": "MVWclqxYhhqP",
        "outputId": "f03352c9-4f0b-40b5-c2df-6a35e43f7645",
        "colab": {
          "base_uri": "https://localhost:8080/"
        }
      },
      "source": [
        "print(col.select(\"VEHICLE_OCCUPANTS\").distinct().show(20));"
      ],
      "execution_count": 42,
      "outputs": [
        {
          "output_type": "stream",
          "text": [
            "+-----------------+\n",
            "|VEHICLE_OCCUPANTS|\n",
            "+-----------------+\n",
            "|              148|\n",
            "|              392|\n",
            "|               31|\n",
            "|          9999999|\n",
            "|               65|\n",
            "|               53|\n",
            "|               34|\n",
            "|              211|\n",
            "|               81|\n",
            "|               28|\n",
            "|              183|\n",
            "|        999999999|\n",
            "|               76|\n",
            "|               26|\n",
            "|               27|\n",
            "|               44|\n",
            "|              743|\n",
            "|               12|\n",
            "|               22|\n",
            "|             2013|\n",
            "+-----------------+\n",
            "only showing top 20 rows\n",
            "\n",
            "None\n"
          ],
          "name": "stdout"
        }
      ]
    },
    {
      "cell_type": "code",
      "metadata": {
        "id": "viJz991WiTPg",
        "outputId": "b140a0ac-2926-4669-cc76-b82e2a347e14",
        "colab": {
          "base_uri": "https://localhost:8080/"
        }
      },
      "source": [
        "print(col.select(\"DRIVER_SEX\").distinct().show(20));"
      ],
      "execution_count": 43,
      "outputs": [
        {
          "output_type": "stream",
          "text": [
            "+----------+\n",
            "|DRIVER_SEX|\n",
            "+----------+\n",
            "|         F|\n",
            "|      null|\n",
            "|         M|\n",
            "|         U|\n",
            "+----------+\n",
            "\n",
            "None\n"
          ],
          "name": "stdout"
        }
      ]
    },
    {
      "cell_type": "code",
      "metadata": {
        "id": "_F8tHU3Gibv0"
      },
      "source": [
        "col=col.fillna(value=\"Not Provided\",subset=[\"DRIVER_SEX\"])"
      ],
      "execution_count": 44,
      "outputs": []
    },
    {
      "cell_type": "code",
      "metadata": {
        "id": "Ypgs4u7Binu7",
        "outputId": "11ef7b3d-3ba4-4769-a79a-176db3de8a70",
        "colab": {
          "base_uri": "https://localhost:8080/"
        }
      },
      "source": [
        "print(col.select(\"DRIVER_LICENSE_STATUS\").distinct().show(20));"
      ],
      "execution_count": 45,
      "outputs": [
        {
          "output_type": "stream",
          "text": [
            "+---------------------+\n",
            "|DRIVER_LICENSE_STATUS|\n",
            "+---------------------+\n",
            "|                 null|\n",
            "|           Unlicensed|\n",
            "|               Permit|\n",
            "|             Licensed|\n",
            "+---------------------+\n",
            "\n",
            "None\n"
          ],
          "name": "stdout"
        }
      ]
    },
    {
      "cell_type": "code",
      "metadata": {
        "id": "BrV0CqzLivrO",
        "outputId": "3f5e4f44-458d-44f5-88d5-a7c742a52623",
        "colab": {
          "base_uri": "https://localhost:8080/"
        }
      },
      "source": [
        "print(col.select(\"DRIVER_LICENSE_JURISDICTION\").distinct().show(20));"
      ],
      "execution_count": 46,
      "outputs": [
        {
          "output_type": "stream",
          "text": [
            "+---------------------------+\n",
            "|DRIVER_LICENSE_JURISDICTION|\n",
            "+---------------------------+\n",
            "|                   A,NEJADE|\n",
            "|                         SC|\n",
            "|                         AZ|\n",
            "|                        ZZZ|\n",
            "|                         NS|\n",
            "|                         LA|\n",
            "|                         MN|\n",
            "|                         NJ|\n",
            "|                         MX|\n",
            "|                         DC|\n",
            "|                         OR|\n",
            "|                         NT|\n",
            "|                         VA|\n",
            "|                        NB1|\n",
            "|                         RI|\n",
            "|                         KY|\n",
            "|                         WY|\n",
            "|                         BC|\n",
            "|                         NH|\n",
            "|                         MI|\n",
            "+---------------------------+\n",
            "only showing top 20 rows\n",
            "\n",
            "None\n"
          ],
          "name": "stdout"
        }
      ]
    },
    {
      "cell_type": "code",
      "metadata": {
        "id": "uEHaxk7Fi2ps",
        "outputId": "512b4506-6151-4d86-ea7b-a01cd0a3a048",
        "colab": {
          "base_uri": "https://localhost:8080/"
        }
      },
      "source": [
        "print(col.select(\"PRE_CRASH\").distinct().show(20));"
      ],
      "execution_count": 47,
      "outputs": [
        {
          "output_type": "stream",
          "text": [
            "+--------------------+\n",
            "|           PRE_CRASH|\n",
            "+--------------------+\n",
            "|Making Right Turn...|\n",
            "|             Merging|\n",
            "|                null|\n",
            "| Starting in Traffic|\n",
            "|             Passing|\n",
            "|       Making U Turn|\n",
            "|Starting from Par...|\n",
            "|  Stopped in Traffic|\n",
            "|              Other*|\n",
            "|             Backing|\n",
            "|Making Left Turn ...|\n",
            "|    Making Left Turn|\n",
            "|Entering Parked P...|\n",
            "|Going Straight Ahead|\n",
            "|      Police Pursuit|\n",
            "|      Changing Lanes|\n",
            "| Slowing or Stopping|\n",
            "|Avoiding Object i...|\n",
            "|              Parked|\n",
            "|   Making Right Turn|\n",
            "+--------------------+\n",
            "\n",
            "None\n"
          ],
          "name": "stdout"
        }
      ]
    },
    {
      "cell_type": "code",
      "metadata": {
        "id": "W06g3hY1jACV"
      },
      "source": [
        "col=col.fillna(value=\"Not Provided\",subset=[\"PRE_CRASH\"])"
      ],
      "execution_count": 48,
      "outputs": []
    },
    {
      "cell_type": "code",
      "metadata": {
        "id": "zc7xfHKKjJS6",
        "outputId": "0623b6dd-3a41-4c11-95c3-f660a7f89c18",
        "colab": {
          "base_uri": "https://localhost:8080/"
        }
      },
      "source": [
        "print(col.select(\"POINT_OF_IMPACT\").distinct().show(30));"
      ],
      "execution_count": 49,
      "outputs": [
        {
          "output_type": "stream",
          "text": [
            "+--------------------+\n",
            "|     POINT_OF_IMPACT|\n",
            "+--------------------+\n",
            "|Left Rear Quarter...|\n",
            "|     Center Back End|\n",
            "|Left Front Quarte...|\n",
            "|  Right Front Bumper|\n",
            "|    Left Rear Bumper|\n",
            "|    Right Side Doors|\n",
            "|                Roof|\n",
            "|Right Front Quart...|\n",
            "|               Other|\n",
            "|          Overturned|\n",
            "|             Trailer|\n",
            "|Right Rear Quarte...|\n",
            "|     Left Side Doors|\n",
            "|   Left Front Bumper|\n",
            "|          Demolished|\n",
            "|    Center Front End|\n",
            "|       Undercarriage|\n",
            "|   Right Rear Bumper|\n",
            "|        Not Provided|\n",
            "|           No Damage|\n",
            "+--------------------+\n",
            "\n",
            "None\n"
          ],
          "name": "stdout"
        }
      ]
    },
    {
      "cell_type": "code",
      "metadata": {
        "id": "pwFxaTjGjpEU",
        "outputId": "b8c59814-190b-4244-d8f9-15328634fa90",
        "colab": {
          "base_uri": "https://localhost:8080/"
        }
      },
      "source": [
        "print(col.select(\"PUBLIC_PROPERTY_DAMAGE\",\"PUBLIC_PROPERTY_DAMAGE_TYPE\").distinct().show(30));"
      ],
      "execution_count": 50,
      "outputs": [
        {
          "output_type": "stream",
          "text": [
            "+----------------------+---------------------------+\n",
            "|PUBLIC_PROPERTY_DAMAGE|PUBLIC_PROPERTY_DAMAGE_TYPE|\n",
            "+----------------------+---------------------------+\n",
            "|           Unspecified|       FENCE OF 503 CARY...|\n",
            "|           Unspecified|       A NO STANDING TRA...|\n",
            "|           Unspecified|        UTILITY LIGHT POST.|\n",
            "|           Unspecified|       DAMAGED TREE GUAR...|\n",
            "|           Unspecified|       TRAFFIC CONTROL D...|\n",
            "|           Unspecified|              NYPD VMS SIGN|\n",
            "|           Unspecified|               HOUSE GARAGE|\n",
            "|           Unspecified|       DENTS AND SCRATCH...|\n",
            "|           Unspecified|       FENCE OF 853 EAST...|\n",
            "|           Unspecified|       TRAFFIC SIGNAL DE...|\n",
            "|           Unspecified|       BRICK WALL 2FT X 8FT|\n",
            "|           Unspecified|       NOTIFIED DEPARTME...|\n",
            "|           Unspecified|       METAL GATE IN FRO...|\n",
            "|           Unspecified|       FRONT GATE TO ENT...|\n",
            "|           Unspecified|       DAMAGE TO BUILDIN...|\n",
            "|           Unspecified|       LIGHT POLE ON THE...|\n",
            "|           Unspecified|             74 JULES DRIVE|\n",
            "|           Unspecified|       HIT TRAFFIC POLE ...|\n",
            "|           Unspecified|        UTILITY/ LIGHT POLE|\n",
            "|           Unspecified|               FENCE DENTED|\n",
            "|           Unspecified|       POURED CONCRETE/ ...|\n",
            "|           Unspecified|       UTILITY POLE ON T...|\n",
            "|           Unspecified|       DAMAGE TO FENCE G...|\n",
            "|           Unspecified|       METAL FENCE AT TH...|\n",
            "|           Unspecified|       OUTSIDE METAL FEN...|\n",
            "|           Unspecified|       DAMAGE DONE TO OW...|\n",
            "|           Unspecified|       THE BASE OF THE L...|\n",
            "|           Unspecified|       DOT NO STANDING SIGN|\n",
            "|           Unspecified|       ONE CON EDISON UT...|\n",
            "|           Unspecified|       MOTORIST WAS MAKI...|\n",
            "+----------------------+---------------------------+\n",
            "only showing top 30 rows\n",
            "\n",
            "None\n"
          ],
          "name": "stdout"
        }
      ]
    },
    {
      "cell_type": "code",
      "metadata": {
        "id": "xgKsNrPPkIzi"
      },
      "source": [
        "col=col.fillna(value=\"Not Provided\",subset=[\"PUBLIC_PROPERTY_DAMAGE\"])"
      ],
      "execution_count": 51,
      "outputs": []
    },
    {
      "cell_type": "code",
      "metadata": {
        "id": "PWaaYw8vkM9g"
      },
      "source": [
        ""
      ],
      "execution_count": 51,
      "outputs": []
    },
    {
      "cell_type": "code",
      "metadata": {
        "id": "ZkL65-l_ZC4x",
        "outputId": "7c9edb07-9412-4239-c7d3-8e41c0a98db3",
        "colab": {
          "base_uri": "https://localhost:8080/"
        }
      },
      "source": [
        "col.printSchema()"
      ],
      "execution_count": 52,
      "outputs": [
        {
          "output_type": "stream",
          "text": [
            "root\n",
            " |-- UNIQUE_ID: integer (nullable = true)\n",
            " |-- COLLISION_ID: integer (nullable = true)\n",
            " |-- CRASH_DATE: date (nullable = true)\n",
            " |-- CRASH_TIME: string (nullable = true)\n",
            " |-- VEHICLE_ID: string (nullable = true)\n",
            " |-- STATE_REGISTRATION: string (nullable = true)\n",
            " |-- VEHICLE_TYPE: string (nullable = false)\n",
            " |-- VEHICLE_MAKE: string (nullable = false)\n",
            " |-- VEHICLE_MODEL: string (nullable = false)\n",
            " |-- VEHICLE_YEAR: integer (nullable = true)\n",
            " |-- TRAVEL_DIRECTION: string (nullable = false)\n",
            " |-- VEHICLE_OCCUPANTS: integer (nullable = true)\n",
            " |-- DRIVER_SEX: string (nullable = false)\n",
            " |-- DRIVER_LICENSE_STATUS: string (nullable = true)\n",
            " |-- DRIVER_LICENSE_JURISDICTION: string (nullable = false)\n",
            " |-- PRE_CRASH: string (nullable = false)\n",
            " |-- POINT_OF_IMPACT: string (nullable = false)\n",
            " |-- VEHICLE_DAMAGE: string (nullable = true)\n",
            " |-- VEHICLE_DAMAGE_1: string (nullable = true)\n",
            " |-- VEHICLE_DAMAGE_2: string (nullable = true)\n",
            " |-- VEHICLE_DAMAGE_3: string (nullable = true)\n",
            " |-- PUBLIC_PROPERTY_DAMAGE: string (nullable = false)\n",
            " |-- PUBLIC_PROPERTY_DAMAGE_TYPE: string (nullable = true)\n",
            " |-- CONTRIBUTING_FACTOR_1: string (nullable = true)\n",
            " |-- CONTRIBUTING_FACTOR_2: string (nullable = true)\n",
            "\n"
          ],
          "name": "stdout"
        }
      ]
    },
    {
      "cell_type": "code",
      "metadata": {
        "id": "rfIfkc6tZ2AC",
        "outputId": "46576870-8b11-43a6-ad10-8452c4aa535b",
        "colab": {
          "base_uri": "https://localhost:8080/"
        }
      },
      "source": [
        "pip install openclean\n"
      ],
      "execution_count": 53,
      "outputs": [
        {
          "output_type": "stream",
          "text": [
            "Collecting openclean\n",
            "  Downloading https://files.pythonhosted.org/packages/87/94/3bb1800f514f9a9b5e611ea006a0dfe4a3edebcd5fac931ce9957b83ca20/openclean-0.1.0-py3-none-any.whl\n",
            "Collecting openclean-core==0.4.0\n",
            "\u001b[?25l  Downloading https://files.pythonhosted.org/packages/a2/e8/70da6e91c003a7da18be3bd5747fa22321a363c806b0cb7db1c46571610f/openclean_core-0.4.0-py3-none-any.whl (267kB)\n",
            "\u001b[K     |████████████████████████████████| 276kB 6.2MB/s \n",
            "\u001b[?25hCollecting jellyfish\n",
            "\u001b[?25l  Downloading https://files.pythonhosted.org/packages/30/a6/4d039bc827a102f62ce7a7910713e38fdfd7c7a40aa39c72fb14938a1473/jellyfish-0.8.2-cp37-cp37m-manylinux2014_x86_64.whl (90kB)\n",
            "\u001b[K     |████████████████████████████████| 92kB 4.9MB/s \n",
            "\u001b[?25hRequirement already satisfied: python-dateutil in /usr/local/lib/python3.7/dist-packages (from openclean-core==0.4.0->openclean) (2.8.1)\n",
            "Requirement already satisfied: scipy in /usr/local/lib/python3.7/dist-packages (from openclean-core==0.4.0->openclean) (1.4.1)\n",
            "Requirement already satisfied: future in /usr/local/lib/python3.7/dist-packages (from openclean-core==0.4.0->openclean) (0.16.0)\n",
            "Requirement already satisfied: requests in /usr/local/lib/python3.7/dist-packages (from openclean-core==0.4.0->openclean) (2.23.0)\n",
            "Requirement already satisfied: scikit-learn in /usr/local/lib/python3.7/dist-packages (from openclean-core==0.4.0->openclean) (0.22.2.post1)\n",
            "Collecting flowserv-core>=0.8.0\n",
            "\u001b[?25l  Downloading https://files.pythonhosted.org/packages/3e/71/93c6fa3dddd38ee1991ae1f2bba6686bf1638334c13f0900050e9dd6d339/flowserv_core-0.8.1-py3-none-any.whl (231kB)\n",
            "\u001b[K     |████████████████████████████████| 235kB 9.4MB/s \n",
            "\u001b[?25hCollecting histore>=0.4.0\n",
            "\u001b[?25l  Downloading https://files.pythonhosted.org/packages/96/8f/b8b0c8119c2139d399756b9c1128f6c8c81f96f2a3d87370e1e8a3ea5d6f/histore-0.4.1-py3-none-any.whl (109kB)\n",
            "\u001b[K     |████████████████████████████████| 112kB 10.9MB/s \n",
            "\u001b[?25hRequirement already satisfied: pandas>=1.0.0 in /usr/local/lib/python3.7/dist-packages (from openclean-core==0.4.0->openclean) (1.1.5)\n",
            "Collecting jsonschema>=3.2.0\n",
            "\u001b[?25l  Downloading https://files.pythonhosted.org/packages/c5/8f/51e89ce52a085483359217bc72cdbf6e75ee595d5b1d4b5ade40c7e018b8/jsonschema-3.2.0-py2.py3-none-any.whl (56kB)\n",
            "\u001b[K     |████████████████████████████████| 61kB 5.5MB/s \n",
            "\u001b[?25hCollecting refdata>=0.2.0\n",
            "  Downloading https://files.pythonhosted.org/packages/1d/05/afe4da72b2e97c4cd667e09a6594efab41f35faa68a98c6afb8ecdbc6bcc/refdata-0.2.0-py3-none-any.whl\n",
            "Requirement already satisfied: dill in /usr/local/lib/python3.7/dist-packages (from openclean-core==0.4.0->openclean) (0.3.3)\n",
            "Requirement already satisfied: appdirs>=1.4.4 in /usr/local/lib/python3.7/dist-packages (from openclean-core==0.4.0->openclean) (1.4.4)\n",
            "Requirement already satisfied: six>=1.5 in /usr/local/lib/python3.7/dist-packages (from python-dateutil->openclean-core==0.4.0->openclean) (1.15.0)\n",
            "Requirement already satisfied: numpy>=1.13.3 in /usr/local/lib/python3.7/dist-packages (from scipy->openclean-core==0.4.0->openclean) (1.19.5)\n",
            "Requirement already satisfied: idna<3,>=2.5 in /usr/local/lib/python3.7/dist-packages (from requests->openclean-core==0.4.0->openclean) (2.10)\n",
            "Requirement already satisfied: chardet<4,>=3.0.2 in /usr/local/lib/python3.7/dist-packages (from requests->openclean-core==0.4.0->openclean) (3.0.4)\n",
            "Requirement already satisfied: certifi>=2017.4.17 in /usr/local/lib/python3.7/dist-packages (from requests->openclean-core==0.4.0->openclean) (2020.12.5)\n",
            "Requirement already satisfied: urllib3!=1.25.0,!=1.25.1,<1.26,>=1.21.1 in /usr/local/lib/python3.7/dist-packages (from requests->openclean-core==0.4.0->openclean) (1.24.3)\n",
            "Requirement already satisfied: joblib>=0.11 in /usr/local/lib/python3.7/dist-packages (from scikit-learn->openclean-core==0.4.0->openclean) (1.0.1)\n",
            "Requirement already satisfied: SQLAlchemy>=1.3.18 in /usr/local/lib/python3.7/dist-packages (from flowserv-core>=0.8.0->openclean-core==0.4.0->openclean) (1.4.7)\n",
            "Collecting pyyaml>=5.1\n",
            "\u001b[?25l  Downloading https://files.pythonhosted.org/packages/7a/a5/393c087efdc78091afa2af9f1378762f9821c9c1d7a22c5753fb5ac5f97a/PyYAML-5.4.1-cp37-cp37m-manylinux1_x86_64.whl (636kB)\n",
            "\u001b[K     |████████████████████████████████| 645kB 9.9MB/s \n",
            "\u001b[?25hCollecting gitpython\n",
            "\u001b[?25l  Downloading https://files.pythonhosted.org/packages/a6/99/98019716955ba243657daedd1de8f3a88ca1f5b75057c38e959db22fb87b/GitPython-3.1.14-py3-none-any.whl (159kB)\n",
            "\u001b[K     |████████████████████████████████| 163kB 17.7MB/s \n",
            "\u001b[?25hRequirement already satisfied: Click in /usr/local/lib/python3.7/dist-packages (from flowserv-core>=0.8.0->openclean-core==0.4.0->openclean) (7.1.2)\n",
            "Collecting passlib\n",
            "\u001b[?25l  Downloading https://files.pythonhosted.org/packages/3b/a4/ab6b7589382ca3df236e03faa71deac88cae040af60c071a78d254a62172/passlib-1.7.4-py2.py3-none-any.whl (525kB)\n",
            "\u001b[K     |████████████████████████████████| 532kB 18.2MB/s \n",
            "\u001b[?25hRequirement already satisfied: psutil in /usr/local/lib/python3.7/dist-packages (from histore>=0.4.0->openclean-core==0.4.0->openclean) (5.4.8)\n",
            "Requirement already satisfied: pytz>=2017.2 in /usr/local/lib/python3.7/dist-packages (from pandas>=1.0.0->openclean-core==0.4.0->openclean) (2018.9)\n",
            "Requirement already satisfied: pyrsistent>=0.14.0 in /usr/local/lib/python3.7/dist-packages (from jsonschema>=3.2.0->openclean-core==0.4.0->openclean) (0.17.3)\n",
            "Requirement already satisfied: setuptools in /usr/local/lib/python3.7/dist-packages (from jsonschema>=3.2.0->openclean-core==0.4.0->openclean) (56.0.0)\n",
            "Requirement already satisfied: attrs>=17.4.0 in /usr/local/lib/python3.7/dist-packages (from jsonschema>=3.2.0->openclean-core==0.4.0->openclean) (20.3.0)\n",
            "Requirement already satisfied: importlib-metadata; python_version < \"3.8\" in /usr/local/lib/python3.7/dist-packages (from jsonschema>=3.2.0->openclean-core==0.4.0->openclean) (3.10.1)\n",
            "Collecting datasize>=1.0.0\n",
            "\u001b[?25l  Downloading https://files.pythonhosted.org/packages/91/32/2e3a423003fb9b8fe703641ff0f33197caba606ae5cd6cc4ae380e892487/datasize-1.0.0.tar.gz (149kB)\n",
            "\u001b[K     |████████████████████████████████| 153kB 23.8MB/s \n",
            "\u001b[?25hCollecting tableprint\n",
            "  Downloading https://files.pythonhosted.org/packages/e4/9f/e61234cc4a1e2c7c8ade391828a66ef8e4cfef4bd586def359d03895d916/tableprint-0.9.1-py3-none-any.whl\n",
            "Requirement already satisfied: pooch>=1.3.0 in /usr/local/lib/python3.7/dist-packages (from refdata>=0.2.0->openclean-core==0.4.0->openclean) (1.3.0)\n",
            "Requirement already satisfied: greenlet!=0.4.17; python_version >= \"3\" in /usr/local/lib/python3.7/dist-packages (from SQLAlchemy>=1.3.18->flowserv-core>=0.8.0->openclean-core==0.4.0->openclean) (1.0.0)\n",
            "Collecting gitdb<5,>=4.0.1\n",
            "\u001b[?25l  Downloading https://files.pythonhosted.org/packages/ea/e8/f414d1a4f0bbc668ed441f74f44c116d9816833a48bf81d22b697090dba8/gitdb-4.0.7-py3-none-any.whl (63kB)\n",
            "\u001b[K     |████████████████████████████████| 71kB 6.7MB/s \n",
            "\u001b[?25hRequirement already satisfied: zipp>=0.5 in /usr/local/lib/python3.7/dist-packages (from importlib-metadata; python_version < \"3.8\"->jsonschema>=3.2.0->openclean-core==0.4.0->openclean) (3.4.1)\n",
            "Requirement already satisfied: typing-extensions>=3.6.4; python_version < \"3.8\" in /usr/local/lib/python3.7/dist-packages (from importlib-metadata; python_version < \"3.8\"->jsonschema>=3.2.0->openclean-core==0.4.0->openclean) (3.7.4.3)\n",
            "Requirement already satisfied: wcwidth in /usr/local/lib/python3.7/dist-packages (from tableprint->refdata>=0.2.0->openclean-core==0.4.0->openclean) (0.2.5)\n",
            "Requirement already satisfied: packaging in /usr/local/lib/python3.7/dist-packages (from pooch>=1.3.0->refdata>=0.2.0->openclean-core==0.4.0->openclean) (20.9)\n",
            "Collecting smmap<5,>=3.0.1\n",
            "  Downloading https://files.pythonhosted.org/packages/68/ee/d540eb5e5996eb81c26ceffac6ee49041d473bc5125f2aa995cf51ec1cf1/smmap-4.0.0-py2.py3-none-any.whl\n",
            "Requirement already satisfied: pyparsing>=2.0.2 in /usr/local/lib/python3.7/dist-packages (from packaging->pooch>=1.3.0->refdata>=0.2.0->openclean-core==0.4.0->openclean) (2.4.7)\n",
            "Building wheels for collected packages: datasize\n",
            "  Building wheel for datasize (setup.py) ... \u001b[?25l\u001b[?25hdone\n",
            "  Created wheel for datasize: filename=datasize-1.0.0-py2.py3-none-any.whl size=155029 sha256=cb2908fe7b058057bd661f4de9ef8c5e5ca69d92b59af74c1b0ebccf3c0ec6e5\n",
            "  Stored in directory: /root/.cache/pip/wheels/b9/a1/a3/97bc5bd191a248dc72fe842abb780935d79fdf9aeee265f1e8\n",
            "Successfully built datasize\n",
            "\u001b[31mERROR: nbclient 0.5.3 has requirement jupyter-client>=6.1.5, but you'll have jupyter-client 5.3.5 which is incompatible.\u001b[0m\n",
            "Installing collected packages: jellyfish, pyyaml, smmap, gitdb, gitpython, jsonschema, passlib, flowserv-core, histore, datasize, tableprint, refdata, openclean-core, openclean\n",
            "  Found existing installation: PyYAML 3.13\n",
            "    Uninstalling PyYAML-3.13:\n",
            "      Successfully uninstalled PyYAML-3.13\n",
            "  Found existing installation: jsonschema 2.6.0\n",
            "    Uninstalling jsonschema-2.6.0:\n",
            "      Successfully uninstalled jsonschema-2.6.0\n",
            "Successfully installed datasize-1.0.0 flowserv-core-0.8.1 gitdb-4.0.7 gitpython-3.1.14 histore-0.4.1 jellyfish-0.8.2 jsonschema-3.2.0 openclean-0.1.0 openclean-core-0.4.0 passlib-1.7.4 pyyaml-5.4.1 refdata-0.2.0 smmap-4.0.0 tableprint-0.9.1\n"
          ],
          "name": "stdout"
        }
      ]
    },
    {
      "cell_type": "code",
      "metadata": {
        "id": "7zCNZSnvZAhi"
      },
      "source": [
        "import gzip\n",
        "import os\n",
        "\n",
        "datafile = './veh'"
      ],
      "execution_count": 54,
      "outputs": []
    },
    {
      "cell_type": "code",
      "metadata": {
        "id": "OjPhruk3ZBTi"
      },
      "source": [
        "from openclean.pipeline import stream\n",
        "\n",
        "ds = stream(datafile)"
      ],
      "execution_count": 55,
      "outputs": []
    },
    {
      "cell_type": "code",
      "metadata": {
        "id": "uB3iYAMBbMKA",
        "outputId": "d3f38b97-da02-4aa0-8c23-2bb0a2f2ef05",
        "colab": {
          "base_uri": "https://localhost:8080/",
          "height": 651
        }
      },
      "source": [
        "ds.head()\n"
      ],
      "execution_count": 56,
      "outputs": [
        {
          "output_type": "execute_result",
          "data": {
            "text/html": [
              "<div>\n",
              "<style scoped>\n",
              "    .dataframe tbody tr th:only-of-type {\n",
              "        vertical-align: middle;\n",
              "    }\n",
              "\n",
              "    .dataframe tbody tr th {\n",
              "        vertical-align: top;\n",
              "    }\n",
              "\n",
              "    .dataframe thead th {\n",
              "        text-align: right;\n",
              "    }\n",
              "</style>\n",
              "<table border=\"1\" class=\"dataframe\">\n",
              "  <thead>\n",
              "    <tr style=\"text-align: right;\">\n",
              "      <th></th>\n",
              "      <th>UNIQUE_ID</th>\n",
              "      <th>COLLISION_ID</th>\n",
              "      <th>CRASH_DATE</th>\n",
              "      <th>CRASH_TIME</th>\n",
              "      <th>VEHICLE_ID</th>\n",
              "      <th>STATE_REGISTRATION</th>\n",
              "      <th>VEHICLE_TYPE</th>\n",
              "      <th>VEHICLE_MAKE</th>\n",
              "      <th>VEHICLE_MODEL</th>\n",
              "      <th>VEHICLE_YEAR</th>\n",
              "      <th>TRAVEL_DIRECTION</th>\n",
              "      <th>VEHICLE_OCCUPANTS</th>\n",
              "      <th>DRIVER_SEX</th>\n",
              "      <th>DRIVER_LICENSE_STATUS</th>\n",
              "      <th>DRIVER_LICENSE_JURISDICTION</th>\n",
              "      <th>PRE_CRASH</th>\n",
              "      <th>POINT_OF_IMPACT</th>\n",
              "      <th>VEHICLE_DAMAGE</th>\n",
              "      <th>VEHICLE_DAMAGE_1</th>\n",
              "      <th>VEHICLE_DAMAGE_2</th>\n",
              "      <th>VEHICLE_DAMAGE_3</th>\n",
              "      <th>PUBLIC_PROPERTY_DAMAGE</th>\n",
              "      <th>PUBLIC_PROPERTY_DAMAGE_TYPE</th>\n",
              "      <th>CONTRIBUTING_FACTOR_1</th>\n",
              "      <th>CONTRIBUTING_FACTOR_2</th>\n",
              "    </tr>\n",
              "  </thead>\n",
              "  <tbody>\n",
              "    <tr>\n",
              "      <th>0</th>\n",
              "      <td>10385780</td>\n",
              "      <td>100201</td>\n",
              "      <td>09/07/2012</td>\n",
              "      <td>9:03</td>\n",
              "      <td>1</td>\n",
              "      <td>NY</td>\n",
              "      <td>PASSENGER VEHICLE</td>\n",
              "      <td></td>\n",
              "      <td></td>\n",
              "      <td></td>\n",
              "      <td></td>\n",
              "      <td></td>\n",
              "      <td></td>\n",
              "      <td></td>\n",
              "      <td></td>\n",
              "      <td></td>\n",
              "      <td></td>\n",
              "      <td></td>\n",
              "      <td></td>\n",
              "      <td></td>\n",
              "      <td></td>\n",
              "      <td></td>\n",
              "      <td></td>\n",
              "      <td>Unspecified</td>\n",
              "      <td></td>\n",
              "    </tr>\n",
              "    <tr>\n",
              "      <th>1</th>\n",
              "      <td>19140702</td>\n",
              "      <td>4213082</td>\n",
              "      <td>09/23/2019</td>\n",
              "      <td>8:15</td>\n",
              "      <td>0553ab4d-9500-4cba-8d98-f4d7f89d5856</td>\n",
              "      <td>NY</td>\n",
              "      <td>Station Wagon/Sport Utility Vehicle</td>\n",
              "      <td>TOYT -CAR/SUV</td>\n",
              "      <td></td>\n",
              "      <td>2002</td>\n",
              "      <td>North</td>\n",
              "      <td>1</td>\n",
              "      <td>M</td>\n",
              "      <td>Licensed</td>\n",
              "      <td>NY</td>\n",
              "      <td>Going Straight Ahead</td>\n",
              "      <td>Left Front Bumper</td>\n",
              "      <td>Left Front Quarter Panel</td>\n",
              "      <td></td>\n",
              "      <td></td>\n",
              "      <td></td>\n",
              "      <td>N</td>\n",
              "      <td></td>\n",
              "      <td>Driver Inattention/Distraction</td>\n",
              "      <td>Unspecified</td>\n",
              "    </tr>\n",
              "    <tr>\n",
              "      <th>2</th>\n",
              "      <td>14887647</td>\n",
              "      <td>3307608</td>\n",
              "      <td>10/02/2015</td>\n",
              "      <td>17:18</td>\n",
              "      <td>2</td>\n",
              "      <td>NY</td>\n",
              "      <td>TAXI</td>\n",
              "      <td></td>\n",
              "      <td></td>\n",
              "      <td></td>\n",
              "      <td></td>\n",
              "      <td></td>\n",
              "      <td></td>\n",
              "      <td></td>\n",
              "      <td></td>\n",
              "      <td>Going Straight Ahead</td>\n",
              "      <td></td>\n",
              "      <td></td>\n",
              "      <td></td>\n",
              "      <td></td>\n",
              "      <td></td>\n",
              "      <td></td>\n",
              "      <td></td>\n",
              "      <td>Driver Inattention/Distraction</td>\n",
              "      <td></td>\n",
              "    </tr>\n",
              "    <tr>\n",
              "      <th>3</th>\n",
              "      <td>14889754</td>\n",
              "      <td>3308693</td>\n",
              "      <td>10/04/2015</td>\n",
              "      <td>20:34</td>\n",
              "      <td>1</td>\n",
              "      <td>NY</td>\n",
              "      <td>PASSENGER VEHICLE</td>\n",
              "      <td></td>\n",
              "      <td></td>\n",
              "      <td></td>\n",
              "      <td></td>\n",
              "      <td></td>\n",
              "      <td></td>\n",
              "      <td></td>\n",
              "      <td></td>\n",
              "      <td>Parked</td>\n",
              "      <td></td>\n",
              "      <td></td>\n",
              "      <td></td>\n",
              "      <td></td>\n",
              "      <td></td>\n",
              "      <td></td>\n",
              "      <td></td>\n",
              "      <td>Unspecified</td>\n",
              "      <td></td>\n",
              "    </tr>\n",
              "    <tr>\n",
              "      <th>4</th>\n",
              "      <td>14400270</td>\n",
              "      <td>297666</td>\n",
              "      <td>04/25/2013</td>\n",
              "      <td>21:15</td>\n",
              "      <td>1</td>\n",
              "      <td>NY</td>\n",
              "      <td>PASSENGER VEHICLE</td>\n",
              "      <td></td>\n",
              "      <td></td>\n",
              "      <td></td>\n",
              "      <td></td>\n",
              "      <td></td>\n",
              "      <td></td>\n",
              "      <td></td>\n",
              "      <td></td>\n",
              "      <td></td>\n",
              "      <td></td>\n",
              "      <td></td>\n",
              "      <td></td>\n",
              "      <td></td>\n",
              "      <td></td>\n",
              "      <td></td>\n",
              "      <td></td>\n",
              "      <td>Other Vehicular</td>\n",
              "      <td></td>\n",
              "    </tr>\n",
              "    <tr>\n",
              "      <th>5</th>\n",
              "      <td>17044639</td>\n",
              "      <td>3434155</td>\n",
              "      <td>05/02/2016</td>\n",
              "      <td>17:35</td>\n",
              "      <td>219456</td>\n",
              "      <td>NY</td>\n",
              "      <td>4 dr sedan</td>\n",
              "      <td>MERZ -CAR/SUV</td>\n",
              "      <td></td>\n",
              "      <td>2015</td>\n",
              "      <td>East</td>\n",
              "      <td>2</td>\n",
              "      <td>M</td>\n",
              "      <td>Licensed</td>\n",
              "      <td>FL</td>\n",
              "      <td>Merging</td>\n",
              "      <td>Right Front Bumper</td>\n",
              "      <td>Right Front Bumper</td>\n",
              "      <td>Right Front Quarter Panel</td>\n",
              "      <td></td>\n",
              "      <td></td>\n",
              "      <td>N</td>\n",
              "      <td></td>\n",
              "      <td>Driver Inattention/Distraction</td>\n",
              "      <td>Unsafe Lane Changing</td>\n",
              "    </tr>\n",
              "    <tr>\n",
              "      <th>6</th>\n",
              "      <td>19138701</td>\n",
              "      <td>4229067</td>\n",
              "      <td>10/24/2019</td>\n",
              "      <td>13:15</td>\n",
              "      <td>c53b43d9-419a-4ab1-9361-3f2979078d89</td>\n",
              "      <td>NY</td>\n",
              "      <td>Bus</td>\n",
              "      <td>FRHT-TRUCK/BUS</td>\n",
              "      <td></td>\n",
              "      <td>2006</td>\n",
              "      <td>East</td>\n",
              "      <td>13</td>\n",
              "      <td>M</td>\n",
              "      <td>Licensed</td>\n",
              "      <td>NY</td>\n",
              "      <td>Parked</td>\n",
              "      <td>Left Front Quarter Panel</td>\n",
              "      <td>Left Front Quarter Panel</td>\n",
              "      <td></td>\n",
              "      <td></td>\n",
              "      <td></td>\n",
              "      <td>N</td>\n",
              "      <td></td>\n",
              "      <td>Unspecified</td>\n",
              "      <td>Unspecified</td>\n",
              "    </tr>\n",
              "    <tr>\n",
              "      <th>7</th>\n",
              "      <td>17303317</td>\n",
              "      <td>3503027</td>\n",
              "      <td>08/18/2016</td>\n",
              "      <td>12:39</td>\n",
              "      <td>672828</td>\n",
              "      <td>NY</td>\n",
              "      <td>Station Wagon/Sport Utility Vehicle</td>\n",
              "      <td>FORD -CAR/SUV</td>\n",
              "      <td></td>\n",
              "      <td>2005</td>\n",
              "      <td>Southwest</td>\n",
              "      <td>2</td>\n",
              "      <td>F</td>\n",
              "      <td>Licensed</td>\n",
              "      <td>NY</td>\n",
              "      <td>Going Straight Ahead</td>\n",
              "      <td>Center Front End</td>\n",
              "      <td>Center Front End</td>\n",
              "      <td>No Damage</td>\n",
              "      <td>No Damage</td>\n",
              "      <td>No Damage</td>\n",
              "      <td>N</td>\n",
              "      <td></td>\n",
              "      <td>Driver Inattention/Distraction</td>\n",
              "      <td>Unspecified</td>\n",
              "    </tr>\n",
              "    <tr>\n",
              "      <th>8</th>\n",
              "      <td>12254536</td>\n",
              "      <td>196425</td>\n",
              "      <td>07/16/2013</td>\n",
              "      <td>11:20</td>\n",
              "      <td>1</td>\n",
              "      <td>NY</td>\n",
              "      <td>PASSENGER VEHICLE</td>\n",
              "      <td></td>\n",
              "      <td></td>\n",
              "      <td></td>\n",
              "      <td></td>\n",
              "      <td></td>\n",
              "      <td></td>\n",
              "      <td></td>\n",
              "      <td></td>\n",
              "      <td></td>\n",
              "      <td></td>\n",
              "      <td></td>\n",
              "      <td></td>\n",
              "      <td></td>\n",
              "      <td></td>\n",
              "      <td></td>\n",
              "      <td></td>\n",
              "      <td>Unspecified</td>\n",
              "      <td></td>\n",
              "    </tr>\n",
              "    <tr>\n",
              "      <th>9</th>\n",
              "      <td>11804847</td>\n",
              "      <td>2975897</td>\n",
              "      <td>11/26/2012</td>\n",
              "      <td>18:12</td>\n",
              "      <td>2</td>\n",
              "      <td>NY</td>\n",
              "      <td>PASSENGER VEHICLE</td>\n",
              "      <td></td>\n",
              "      <td></td>\n",
              "      <td></td>\n",
              "      <td></td>\n",
              "      <td></td>\n",
              "      <td></td>\n",
              "      <td></td>\n",
              "      <td></td>\n",
              "      <td></td>\n",
              "      <td></td>\n",
              "      <td></td>\n",
              "      <td></td>\n",
              "      <td></td>\n",
              "      <td></td>\n",
              "      <td></td>\n",
              "      <td></td>\n",
              "      <td>Driver Inattention/Distraction</td>\n",
              "      <td></td>\n",
              "    </tr>\n",
              "  </tbody>\n",
              "</table>\n",
              "</div>"
            ],
            "text/plain": [
              "  UNIQUE_ID COLLISION_ID  ...           CONTRIBUTING_FACTOR_1 CONTRIBUTING_FACTOR_2\n",
              "0  10385780       100201  ...                     Unspecified                      \n",
              "1  19140702      4213082  ...  Driver Inattention/Distraction           Unspecified\n",
              "2  14887647      3307608  ...  Driver Inattention/Distraction                      \n",
              "3  14889754      3308693  ...                     Unspecified                      \n",
              "4  14400270       297666  ...                 Other Vehicular                      \n",
              "5  17044639      3434155  ...  Driver Inattention/Distraction  Unsafe Lane Changing\n",
              "6  19138701      4229067  ...                     Unspecified           Unspecified\n",
              "7  17303317      3503027  ...  Driver Inattention/Distraction           Unspecified\n",
              "8  12254536       196425  ...                     Unspecified                      \n",
              "9  11804847      2975897  ...  Driver Inattention/Distraction                      \n",
              "\n",
              "[10 rows x 25 columns]"
            ]
          },
          "metadata": {
            "tags": []
          },
          "execution_count": 56
        }
      ]
    },
    {
      "cell_type": "code",
      "metadata": {
        "id": "BT4HpNDGbN9M"
      },
      "source": [
        "from openclean.profiling.column import DefaultColumnProfiler\n",
        "\n",
        "profiles = ds\\\n",
        "    .sample(n=1000, random_state=42)\\\n",
        "    .profile(default_profiler=DefaultColumnProfiler)"
      ],
      "execution_count": 57,
      "outputs": []
    },
    {
      "cell_type": "code",
      "metadata": {
        "id": "rlY-W-epbfd_",
        "outputId": "42401d56-218e-4418-8f35-f771a06ef3da",
        "colab": {
          "base_uri": "https://localhost:8080/",
          "height": 824
        }
      },
      "source": [
        "# Print overview of profiling results.\n",
        "\n",
        "profiles.stats()"
      ],
      "execution_count": 58,
      "outputs": [
        {
          "output_type": "execute_result",
          "data": {
            "text/html": [
              "<div>\n",
              "<style scoped>\n",
              "    .dataframe tbody tr th:only-of-type {\n",
              "        vertical-align: middle;\n",
              "    }\n",
              "\n",
              "    .dataframe tbody tr th {\n",
              "        vertical-align: top;\n",
              "    }\n",
              "\n",
              "    .dataframe thead th {\n",
              "        text-align: right;\n",
              "    }\n",
              "</style>\n",
              "<table border=\"1\" class=\"dataframe\">\n",
              "  <thead>\n",
              "    <tr style=\"text-align: right;\">\n",
              "      <th></th>\n",
              "      <th>total</th>\n",
              "      <th>empty</th>\n",
              "      <th>distinct</th>\n",
              "      <th>uniqueness</th>\n",
              "      <th>entropy</th>\n",
              "    </tr>\n",
              "  </thead>\n",
              "  <tbody>\n",
              "    <tr>\n",
              "      <th>UNIQUE_ID</th>\n",
              "      <td>1000</td>\n",
              "      <td>0</td>\n",
              "      <td>1000</td>\n",
              "      <td>1.000000</td>\n",
              "      <td>9.965784</td>\n",
              "    </tr>\n",
              "    <tr>\n",
              "      <th>COLLISION_ID</th>\n",
              "      <td>1000</td>\n",
              "      <td>0</td>\n",
              "      <td>998</td>\n",
              "      <td>0.998000</td>\n",
              "      <td>9.961784</td>\n",
              "    </tr>\n",
              "    <tr>\n",
              "      <th>CRASH_DATE</th>\n",
              "      <td>1000</td>\n",
              "      <td>0</td>\n",
              "      <td>831</td>\n",
              "      <td>0.831000</td>\n",
              "      <td>9.608687</td>\n",
              "    </tr>\n",
              "    <tr>\n",
              "      <th>CRASH_TIME</th>\n",
              "      <td>1000</td>\n",
              "      <td>0</td>\n",
              "      <td>416</td>\n",
              "      <td>0.416000</td>\n",
              "      <td>8.175374</td>\n",
              "    </tr>\n",
              "    <tr>\n",
              "      <th>VEHICLE_ID</th>\n",
              "      <td>1000</td>\n",
              "      <td>0</td>\n",
              "      <td>599</td>\n",
              "      <td>0.599000</td>\n",
              "      <td>6.934978</td>\n",
              "    </tr>\n",
              "    <tr>\n",
              "      <th>STATE_REGISTRATION</th>\n",
              "      <td>1000</td>\n",
              "      <td>62</td>\n",
              "      <td>23</td>\n",
              "      <td>0.024520</td>\n",
              "      <td>1.147366</td>\n",
              "    </tr>\n",
              "    <tr>\n",
              "      <th>VEHICLE_TYPE</th>\n",
              "      <td>1000</td>\n",
              "      <td>45</td>\n",
              "      <td>46</td>\n",
              "      <td>0.048168</td>\n",
              "      <td>3.389546</td>\n",
              "    </tr>\n",
              "    <tr>\n",
              "      <th>VEHICLE_MAKE</th>\n",
              "      <td>1000</td>\n",
              "      <td>471</td>\n",
              "      <td>67</td>\n",
              "      <td>0.126654</td>\n",
              "      <td>4.566605</td>\n",
              "    </tr>\n",
              "    <tr>\n",
              "      <th>VEHICLE_MODEL</th>\n",
              "      <td>1000</td>\n",
              "      <td>990</td>\n",
              "      <td>10</td>\n",
              "      <td>1.000000</td>\n",
              "      <td>3.321928</td>\n",
              "    </tr>\n",
              "    <tr>\n",
              "      <th>VEHICLE_YEAR</th>\n",
              "      <td>1000</td>\n",
              "      <td>479</td>\n",
              "      <td>27</td>\n",
              "      <td>0.051823</td>\n",
              "      <td>4.287315</td>\n",
              "    </tr>\n",
              "    <tr>\n",
              "      <th>TRAVEL_DIRECTION</th>\n",
              "      <td>1000</td>\n",
              "      <td>436</td>\n",
              "      <td>10</td>\n",
              "      <td>0.017730</td>\n",
              "      <td>2.378442</td>\n",
              "    </tr>\n",
              "    <tr>\n",
              "      <th>VEHICLE_OCCUPANTS</th>\n",
              "      <td>1000</td>\n",
              "      <td>465</td>\n",
              "      <td>9</td>\n",
              "      <td>0.016822</td>\n",
              "      <td>1.637900</td>\n",
              "    </tr>\n",
              "    <tr>\n",
              "      <th>DRIVER_SEX</th>\n",
              "      <td>1000</td>\n",
              "      <td>538</td>\n",
              "      <td>3</td>\n",
              "      <td>0.006494</td>\n",
              "      <td>0.849413</td>\n",
              "    </tr>\n",
              "    <tr>\n",
              "      <th>DRIVER_LICENSE_STATUS</th>\n",
              "      <td>1000</td>\n",
              "      <td>558</td>\n",
              "      <td>3</td>\n",
              "      <td>0.006787</td>\n",
              "      <td>0.238265</td>\n",
              "    </tr>\n",
              "    <tr>\n",
              "      <th>DRIVER_LICENSE_JURISDICTION</th>\n",
              "      <td>1000</td>\n",
              "      <td>561</td>\n",
              "      <td>12</td>\n",
              "      <td>0.027335</td>\n",
              "      <td>0.868465</td>\n",
              "    </tr>\n",
              "    <tr>\n",
              "      <th>PRE_CRASH</th>\n",
              "      <td>1000</td>\n",
              "      <td>256</td>\n",
              "      <td>17</td>\n",
              "      <td>0.022849</td>\n",
              "      <td>2.629647</td>\n",
              "    </tr>\n",
              "    <tr>\n",
              "      <th>POINT_OF_IMPACT</th>\n",
              "      <td>1000</td>\n",
              "      <td>448</td>\n",
              "      <td>16</td>\n",
              "      <td>0.028986</td>\n",
              "      <td>3.584895</td>\n",
              "    </tr>\n",
              "    <tr>\n",
              "      <th>VEHICLE_DAMAGE</th>\n",
              "      <td>1000</td>\n",
              "      <td>453</td>\n",
              "      <td>18</td>\n",
              "      <td>0.032907</td>\n",
              "      <td>3.700058</td>\n",
              "    </tr>\n",
              "    <tr>\n",
              "      <th>VEHICLE_DAMAGE_1</th>\n",
              "      <td>1000</td>\n",
              "      <td>652</td>\n",
              "      <td>17</td>\n",
              "      <td>0.048851</td>\n",
              "      <td>3.359644</td>\n",
              "    </tr>\n",
              "    <tr>\n",
              "      <th>VEHICLE_DAMAGE_2</th>\n",
              "      <td>1000</td>\n",
              "      <td>734</td>\n",
              "      <td>16</td>\n",
              "      <td>0.060150</td>\n",
              "      <td>2.769344</td>\n",
              "    </tr>\n",
              "    <tr>\n",
              "      <th>VEHICLE_DAMAGE_3</th>\n",
              "      <td>1000</td>\n",
              "      <td>804</td>\n",
              "      <td>15</td>\n",
              "      <td>0.076531</td>\n",
              "      <td>1.524331</td>\n",
              "    </tr>\n",
              "    <tr>\n",
              "      <th>PUBLIC_PROPERTY_DAMAGE</th>\n",
              "      <td>1000</td>\n",
              "      <td>406</td>\n",
              "      <td>3</td>\n",
              "      <td>0.005051</td>\n",
              "      <td>0.570355</td>\n",
              "    </tr>\n",
              "    <tr>\n",
              "      <th>PUBLIC_PROPERTY_DAMAGE_TYPE</th>\n",
              "      <td>1000</td>\n",
              "      <td>994</td>\n",
              "      <td>6</td>\n",
              "      <td>1.000000</td>\n",
              "      <td>2.584963</td>\n",
              "    </tr>\n",
              "    <tr>\n",
              "      <th>CONTRIBUTING_FACTOR_1</th>\n",
              "      <td>1000</td>\n",
              "      <td>33</td>\n",
              "      <td>36</td>\n",
              "      <td>0.037229</td>\n",
              "      <td>2.602685</td>\n",
              "    </tr>\n",
              "    <tr>\n",
              "      <th>CONTRIBUTING_FACTOR_2</th>\n",
              "      <td>1000</td>\n",
              "      <td>443</td>\n",
              "      <td>22</td>\n",
              "      <td>0.039497</td>\n",
              "      <td>1.492430</td>\n",
              "    </tr>\n",
              "  </tbody>\n",
              "</table>\n",
              "</div>"
            ],
            "text/plain": [
              "                             total  empty  distinct  uniqueness   entropy\n",
              "UNIQUE_ID                     1000      0      1000    1.000000  9.965784\n",
              "COLLISION_ID                  1000      0       998    0.998000  9.961784\n",
              "CRASH_DATE                    1000      0       831    0.831000  9.608687\n",
              "CRASH_TIME                    1000      0       416    0.416000  8.175374\n",
              "VEHICLE_ID                    1000      0       599    0.599000  6.934978\n",
              "STATE_REGISTRATION            1000     62        23    0.024520  1.147366\n",
              "VEHICLE_TYPE                  1000     45        46    0.048168  3.389546\n",
              "VEHICLE_MAKE                  1000    471        67    0.126654  4.566605\n",
              "VEHICLE_MODEL                 1000    990        10    1.000000  3.321928\n",
              "VEHICLE_YEAR                  1000    479        27    0.051823  4.287315\n",
              "TRAVEL_DIRECTION              1000    436        10    0.017730  2.378442\n",
              "VEHICLE_OCCUPANTS             1000    465         9    0.016822  1.637900\n",
              "DRIVER_SEX                    1000    538         3    0.006494  0.849413\n",
              "DRIVER_LICENSE_STATUS         1000    558         3    0.006787  0.238265\n",
              "DRIVER_LICENSE_JURISDICTION   1000    561        12    0.027335  0.868465\n",
              "PRE_CRASH                     1000    256        17    0.022849  2.629647\n",
              "POINT_OF_IMPACT               1000    448        16    0.028986  3.584895\n",
              "VEHICLE_DAMAGE                1000    453        18    0.032907  3.700058\n",
              "VEHICLE_DAMAGE_1              1000    652        17    0.048851  3.359644\n",
              "VEHICLE_DAMAGE_2              1000    734        16    0.060150  2.769344\n",
              "VEHICLE_DAMAGE_3              1000    804        15    0.076531  1.524331\n",
              "PUBLIC_PROPERTY_DAMAGE        1000    406         3    0.005051  0.570355\n",
              "PUBLIC_PROPERTY_DAMAGE_TYPE   1000    994         6    1.000000  2.584963\n",
              "CONTRIBUTING_FACTOR_1         1000     33        36    0.037229  2.602685\n",
              "CONTRIBUTING_FACTOR_2         1000    443        22    0.039497  1.492430"
            ]
          },
          "metadata": {
            "tags": []
          },
          "execution_count": 58
        }
      ]
    },
    {
      "cell_type": "code",
      "metadata": {
        "id": "sPv9RN3bhAkv",
        "outputId": "df225052-60a0-46e6-9af4-1e9082d6e973",
        "colab": {
          "base_uri": "https://localhost:8080/"
        }
      },
      "source": [
        "\n",
        "# Get set of distinct values for column 'STATE_REGISTRATION'. Print the\n",
        "# values in decreasing order of frequency.\n",
        "\n",
        "states = ds.distinct('STATE_REGISTRATION')\n",
        "for rank, val in enumerate(states.most_common()):\n",
        "    st, freq = val\n",
        "    print('{:<3} {}  {:>10}'.format('{}.'.format(rank + 1), st, '{:,}'.format(freq)))"
      ],
      "execution_count": 59,
      "outputs": [
        {
          "output_type": "stream",
          "text": [
            "1.  NY   2,832,197\n",
            "2.  NJ     201,630\n",
            "3.       190,129\n",
            "4.  PA      70,687\n",
            "5.  FL      38,270\n",
            "6.  CT      36,650\n",
            "7.  VA      16,227\n",
            "8.  MA      15,745\n",
            "9.  MD      15,574\n",
            "10. NC      14,044\n",
            "11. IN      11,004\n",
            "12. GA      10,635\n",
            "13. TX      10,001\n",
            "14. IL       9,131\n",
            "15. UK       8,888\n",
            "16. AZ       8,298\n",
            "17. SC       6,686\n",
            "18. ZZ       6,631\n",
            "19. OK       6,128\n",
            "20. OH       5,432\n",
            "21. DE       4,501\n",
            "22. CA       4,054\n",
            "23. TN       3,983\n",
            "24. MI       2,995\n",
            "25. ME       2,868\n",
            "26. RI       2,792\n",
            "27. NH       1,871\n",
            "28. AL       1,748\n",
            "29. VT       1,552\n",
            "30. WA       1,406\n",
            "31. MN       1,363\n",
            "32. ON       1,298\n",
            "33. WI       1,296\n",
            "34. MO       1,217\n",
            "35. NM       1,131\n",
            "36. DC         907\n",
            "37. IA         823\n",
            "38. KY         816\n",
            "39. LA         771\n",
            "40. CO         768\n",
            "41. MS         724\n",
            "42. PQ         655\n",
            "43. NB         625\n",
            "44. WV         554\n",
            "45. KS         540\n",
            "46. AR         494\n",
            "47. OR         470\n",
            "48. NV         364\n",
            "49. UT         343\n",
            "50. SD         337\n",
            "51. QB         333\n",
            "52. MT         272\n",
            "53. NF         270\n",
            "54. NE         239\n",
            "55. ND         193\n",
            "56. ID         190\n",
            "57. DP         171\n",
            "58. WY         161\n",
            "59. AK         101\n",
            "60. HI          66\n",
            "61. GV          58\n",
            "62. NS          54\n",
            "63. BC          52\n",
            "64. AB          48\n",
            "65. OT          40\n",
            "66. YT          39\n",
            "67. NT          37\n",
            "68. PE          34\n",
            "69. MB          30\n",
            "70. MX          26\n",
            "71. FO          24\n",
            "72. VI          15\n",
            "73. SK          10\n",
            "74. DI           5\n",
            "75. FM           5\n",
            "76. MH           4\n",
            "77. GU           2\n",
            "78. PR           2\n",
            "79. MP           1\n",
            "80. AS           1\n",
            "81. UA           1\n",
            "82. LR           1\n"
          ],
          "name": "stdout"
        }
      ]
    },
    {
      "cell_type": "code",
      "metadata": {
        "id": "qBtsEgUNhYGk",
        "outputId": "f88bcb94-3cd2-4632-fa23-a675c52796d9",
        "colab": {
          "base_uri": "https://localhost:8080/"
        }
      },
      "source": [
        "# List identifier and names for available reference datasets.\n",
        "\n",
        "from openclean.data.refdata import RefStore\n",
        "\n",
        "refdata = RefStore()\n",
        "for entry in refdata.repository().find():\n",
        "    print('{:<35}:  {}'.format(entry.identifier, entry.name))"
      ],
      "execution_count": 60,
      "outputs": [
        {
          "output_type": "stream",
          "text": [
            "company_suffixes                   :  Company Suffixes\n",
            "encyclopaedia_britannica:us_cities :  Cities in the U.S.\n",
            "nyc.gov:dof:state_codes            :  NYC Finance - State Codes\n",
            "restcountries.eu                   :  REST Countries\n",
            "usps:street_abbrev                 :  C1 Street Suffix Abbreviations\n",
            "usps:secondary_unit_designators    :  C2 Secondary Unit Designators\n",
            "wikipedia:us_states                :  States and territories of the U.S.\n"
          ],
          "name": "stdout"
        }
      ]
    },
    {
      "cell_type": "code",
      "metadata": {
        "id": "vPcj14abhaeN",
        "colab": {
          "base_uri": "https://localhost:8080/",
          "height": 204
        },
        "outputId": "52346e53-1b8b-4e1d-dc70-5e7a276a6e25"
      },
      "source": [
        "# Download the license plate state codes dataset.\n",
        "\n",
        "refdata\\\n",
        "    .load('nyc.gov:dof:state_codes', auto_download=True)\\\n",
        "    .df()\\\n",
        "    .head()"
      ],
      "execution_count": 61,
      "outputs": [
        {
          "output_type": "execute_result",
          "data": {
            "text/html": [
              "<div>\n",
              "<style scoped>\n",
              "    .dataframe tbody tr th:only-of-type {\n",
              "        vertical-align: middle;\n",
              "    }\n",
              "\n",
              "    .dataframe tbody tr th {\n",
              "        vertical-align: top;\n",
              "    }\n",
              "\n",
              "    .dataframe thead th {\n",
              "        text-align: right;\n",
              "    }\n",
              "</style>\n",
              "<table border=\"1\" class=\"dataframe\">\n",
              "  <thead>\n",
              "    <tr style=\"text-align: right;\">\n",
              "      <th></th>\n",
              "      <th>code</th>\n",
              "      <th>name</th>\n",
              "      <th>type</th>\n",
              "    </tr>\n",
              "  </thead>\n",
              "  <tbody>\n",
              "    <tr>\n",
              "      <th>0</th>\n",
              "      <td>AL</td>\n",
              "      <td>Alabama</td>\n",
              "      <td>US</td>\n",
              "    </tr>\n",
              "    <tr>\n",
              "      <th>1</th>\n",
              "      <td>AK</td>\n",
              "      <td>Alaska</td>\n",
              "      <td>US</td>\n",
              "    </tr>\n",
              "    <tr>\n",
              "      <th>2</th>\n",
              "      <td>AZ</td>\n",
              "      <td>Arizona</td>\n",
              "      <td>US</td>\n",
              "    </tr>\n",
              "    <tr>\n",
              "      <th>3</th>\n",
              "      <td>AR</td>\n",
              "      <td>Arkansas</td>\n",
              "      <td>US</td>\n",
              "    </tr>\n",
              "    <tr>\n",
              "      <th>4</th>\n",
              "      <td>CA</td>\n",
              "      <td>California</td>\n",
              "      <td>US</td>\n",
              "    </tr>\n",
              "  </tbody>\n",
              "</table>\n",
              "</div>"
            ],
            "text/plain": [
              "  code        name type\n",
              "0   AL     Alabama   US\n",
              "1   AK      Alaska   US\n",
              "2   AZ     Arizona   US\n",
              "3   AR    Arkansas   US\n",
              "4   CA  California   US"
            ]
          },
          "metadata": {
            "tags": []
          },
          "execution_count": 61
        }
      ]
    },
    {
      "cell_type": "code",
      "metadata": {
        "id": "kx3J773ehdq8"
      },
      "source": [
        "# Get set of distinct state codes.\n",
        "\n",
        "states_ref = refdata.load('nyc.gov:dof:state_codes', auto_download=True).distinct('code')"
      ],
      "execution_count": 62,
      "outputs": []
    },
    {
      "cell_type": "code",
      "metadata": {
        "id": "VnnKGisChglQ",
        "outputId": "9f53fb88-767b-4518-8c27-689ba7696be3",
        "colab": {
          "base_uri": "https://localhost:8080/"
        }
      },
      "source": [
        "\n",
        "# Print information for entries in the 'STATE_REGISTRATION' column that\n",
        "# do not occur in the reference dataset.\n",
        "\n",
        "for rank, val in enumerate(states.most_common()):\n",
        "    st, freq = val\n",
        "    if st not in states_ref:\n",
        "        print('{:<3} {}  {:>10}'.format('{}.'.format(rank + 1), st, '{:,}'.format(freq)))"
      ],
      "execution_count": 63,
      "outputs": [
        {
          "output_type": "stream",
          "text": [
            "3.       190,129\n",
            "15. UK       8,888\n",
            "18. ZZ       6,631\n",
            "42. PQ         655\n",
            "65. OT          40\n",
            "72. VI          15\n",
            "74. DI           5\n",
            "75. FM           5\n",
            "76. MH           4\n",
            "77. GU           2\n",
            "78. PR           2\n",
            "79. MP           1\n",
            "80. AS           1\n",
            "81. UA           1\n",
            "82. LR           1\n"
          ],
          "name": "stdout"
        }
      ]
    },
    {
      "cell_type": "code",
      "metadata": {
        "id": "T7kY4CRmiUNt",
        "outputId": "36faa5be-1053-46b7-d31a-6dfaf9da22e0",
        "colab": {
          "base_uri": "https://localhost:8080/"
        }
      },
      "source": [
        "VEHICLEMAKE = ds.distinct('VEHICLE_MAKE')\n",
        "\n",
        "for rank, val in enumerate(VEHICLEMAKE.most_common(10)):\n",
        "    st, freq = val\n",
        "    print('{:<3} {:>8}  {:>10}'.format('{}.'.format(rank + 1), st, '{:,}'.format(freq)))\n",
        "\n",
        "print('\\nTotal number of distinct values is {}'.format(len(VEHICLEMAKE)))"
      ],
      "execution_count": 64,
      "outputs": [
        {
          "output_type": "stream",
          "text": [
            "1.             1,756,205\n",
            "2.  TOYT -CAR/SUV     317,100\n",
            "3.  HOND -CAR/SUV     219,231\n",
            "4.  NISS -CAR/SUV     187,775\n",
            "5.  FORD -CAR/SUV     154,186\n",
            "6.  CHEV -CAR/SUV      88,387\n",
            "7.  HYUN -CAR/SUV      63,562\n",
            "8.  MERZ -CAR/SUV      57,896\n",
            "9.  BMW -CAR/SUV      57,549\n",
            "10. JEEP -CAR/SUV      56,903\n",
            "\n",
            "Total number of distinct values is 9495\n"
          ],
          "name": "stdout"
        }
      ]
    },
    {
      "cell_type": "code",
      "metadata": {
        "id": "W2D9JNCbh0Zy",
        "outputId": "adbdbf8f-694c-4f2d-dcc9-5783596f9e60",
        "colab": {
          "base_uri": "https://localhost:8080/"
        }
      },
      "source": [
        "# Using the default settings yields two outliers.\n",
        "\n",
        "from openclean.profiling.anomalies.sklearn import DBSCANOutliers\n",
        "\n",
        "DBSCANOutliers().find(VEHICLEMAKE)"
      ],
      "execution_count": 65,
      "outputs": [
        {
          "output_type": "execute_result",
          "data": {
            "text/plain": [
              "['', '.', '????']"
            ]
          },
          "metadata": {
            "tags": []
          },
          "execution_count": 65
        }
      ]
    },
    {
      "cell_type": "code",
      "metadata": {
        "id": "eKhNcHuqjuTb"
      },
      "source": [
        "# Cluster street names using 'Key Collision' clustering with the\n",
        "# default fingerprint key generator.\n",
        "\n",
        "from openclean.cluster.key import KeyCollision\n",
        "from openclean.function.value.key.fingerprint import Fingerprint\n",
        "\n",
        "Juridiction = ds.update('DRIVER_LICENSE_JURISDICTION', str.upper).distinct('DRIVER_LICENSE_JURISDICTION')\n",
        "clusters = KeyCollision(func=Fingerprint()).clusters(Juridiction)"
      ],
      "execution_count": 66,
      "outputs": []
    },
    {
      "cell_type": "code",
      "metadata": {
        "id": "VCA_bCubqDPO"
      },
      "source": [
        "\n",
        "# Define simple helper method to print the k largest clusters.\n",
        "\n",
        "def print_k_clusters(clusters, k=5):\n",
        "    clusters = sorted(clusters, key=lambda x: len(x), reverse=True)\n",
        "    val_count = sum([len(c) for c in clusters])\n",
        "    print('Total number of clusters is {} with {} values'.format(len(clusters), val_count))\n",
        "    for i in range(min(k, len(clusters))):\n",
        "        print('\\nCluster {}'.format(i + 1))\n",
        "        for key, cnt in clusters[i].items():\n",
        "            if key == '':\n",
        "                key = \"''\"\n",
        "            print('  {} (x {})'.format(key, cnt))"
      ],
      "execution_count": 67,
      "outputs": []
    },
    {
      "cell_type": "code",
      "metadata": {
        "id": "CxgLbENZqcpS",
        "outputId": "54dc1855-e334-4dda-aed7-2e14fc8b2341",
        "colab": {
          "base_uri": "https://localhost:8080/"
        }
      },
      "source": [
        "print_k_clusters(clusters)\n"
      ],
      "execution_count": 68,
      "outputs": [
        {
          "output_type": "stream",
          "text": [
            "Total number of clusters is 1 with 2 values\n",
            "\n",
            "Cluster 1\n",
            "  PA (x 26191)\n",
            "  PA' (x 1)\n"
          ],
          "name": "stdout"
        }
      ]
    },
    {
      "cell_type": "code",
      "metadata": {
        "id": "FglykswaqkeV"
      },
      "source": [
        "# Cluster street names using 'Key Collision' clustering with the\n",
        "# default fingerprint key generator.\n",
        "\n",
        "from openclean.cluster.key import KeyCollision\n",
        "from openclean.function.value.key.fingerprint import Fingerprint\n",
        "\n",
        "vType = ds.update('VEHICLE_TYPE', str.upper).distinct('VEHICLE_TYPE')\n",
        "clusterV = KeyCollision(func=Fingerprint()).clusters(vType)"
      ],
      "execution_count": 69,
      "outputs": []
    },
    {
      "cell_type": "code",
      "metadata": {
        "id": "sTGICqe5twKZ"
      },
      "source": [
        "# Define simple helper method to print the k largest clusters.\n",
        "\n",
        "def print_k_clusters(clusterV, k=5):\n",
        "    clusterV = sorted(clusterV, key=lambda x: len(x), reverse=True)\n",
        "    val_count = sum([len(c) for c in clusterV])\n",
        "    print('Total number of clusters is {} with {} values'.format(len(clusterV), val_count))\n",
        "    for i in range(min(k, len(clusterV))):\n",
        "        print('\\nCluster {}'.format(i + 1))\n",
        "        for key, cnt in clusterV[i].items():\n",
        "            if key == '':\n",
        "                key = \"''\"\n",
        "            print('  {} (x {})'.format(key, cnt))"
      ],
      "execution_count": 70,
      "outputs": []
    },
    {
      "cell_type": "code",
      "metadata": {
        "id": "TwAUjxnjqu07",
        "outputId": "2d4f497e-3324-4db1-e5f6-b19a95059401",
        "colab": {
          "base_uri": "https://localhost:8080/"
        }
      },
      "source": [
        "print_k_clusters(clusters)\n"
      ],
      "execution_count": 71,
      "outputs": [
        {
          "output_type": "stream",
          "text": [
            "Total number of clusters is 1 with 2 values\n",
            "\n",
            "Cluster 1\n",
            "  PA (x 26191)\n",
            "  PA' (x 1)\n"
          ],
          "name": "stdout"
        }
      ]
    },
    {
      "cell_type": "code",
      "metadata": {
        "id": "qCA0RVgEEPaa",
        "outputId": "53cfb0f6-cdad-4f2b-c07d-c38fb6ed451f",
        "colab": {
          "base_uri": "https://localhost:8080/"
        }
      },
      "source": [
        "print(col.select(\"UNIQUE_ID\").distinct().show(30));"
      ],
      "execution_count": 72,
      "outputs": [
        {
          "output_type": "stream",
          "text": [
            "+---------+\n",
            "|UNIQUE_ID|\n",
            "+---------+\n",
            "| 15041840|\n",
            "| 19138693|\n",
            "| 14751100|\n",
            "| 19140680|\n",
            "| 15078965|\n",
            "| 19139771|\n",
            "| 19139827|\n",
            "| 19140022|\n",
            "| 19139682|\n",
            "| 13648716|\n",
            "| 14912061|\n",
            "| 12544877|\n",
            "| 14731566|\n",
            "|  9625628|\n",
            "| 16935579|\n",
            "| 17381522|\n",
            "| 17385146|\n",
            "| 11971827|\n",
            "| 17173557|\n",
            "| 14678441|\n",
            "| 17413847|\n",
            "| 11752058|\n",
            "| 17148205|\n",
            "| 17249982|\n",
            "| 14932328|\n",
            "| 17172550|\n",
            "| 15018523|\n",
            "| 17053776|\n",
            "|  8478179|\n",
            "| 16935603|\n",
            "+---------+\n",
            "only showing top 30 rows\n",
            "\n",
            "None\n"
          ],
          "name": "stdout"
        }
      ]
    },
    {
      "cell_type": "code",
      "metadata": {
        "id": "seX5t5NbD-OE"
      },
      "source": [
        "\n",
        "from openclean.function.eval.base import Col\n",
        "from openclean.function.eval.logic import And\n",
        "from openclean.function.eval.null import IsNotEmpty\n",
        "\n",
        "df = ds\\\n",
        "    .select(['UNIQUE_ID', 'STATE_REGISTRATION', 'VEHICLE_TYPE'])\\\n",
        "    .rename('STATE_REGISTRATION', 'State')\\\n",
        "    .where(And(IsNotEmpty('VEHICLE_TYPE'), Col('State') != '99'))\\\n",
        "    .update('VEHICLE_TYPE', str.upper)\\\n",
        "    .sample(n=100000, random_state=42)\\\n",
        "    .to_df()"
      ],
      "execution_count": 73,
      "outputs": []
    },
    {
      "cell_type": "code",
      "metadata": {
        "id": "7nb9kmFiFReX",
        "outputId": "4351903d-1915-4708-fc3b-c2f4ae619208",
        "colab": {
          "base_uri": "https://localhost:8080/"
        }
      },
      "source": [
        "from openclean.operator.map.violations import fd_violations\n",
        "\n",
        "\n",
        "groups = fd_violations(df, lhs=['UNIQUE_ID', 'State'], rhs='VEHICLE_TYPE')\n",
        "\n",
        "\n",
        "print('{} vehicles with conflicting Type'.format(len(groups)))"
      ],
      "execution_count": 74,
      "outputs": [
        {
          "output_type": "stream",
          "text": [
            "0 vehicles with conflicting Type\n"
          ],
          "name": "stdout"
        }
      ]
    },
    {
      "cell_type": "code",
      "metadata": {
        "id": "VAWfoSypISp5"
      },
      "source": [
        "\n",
        "from openclean.function.eval.base import Col\n",
        "from openclean.function.eval.logic import And\n",
        "from openclean.function.eval.null import IsNotEmpty\n",
        "\n",
        "df = ds\\\n",
        "    .select(['UNIQUE_ID', 'STATE_REGISTRATION', 'VEHICLE_MAKE'])\\\n",
        "    .rename('STATE_REGISTRATION', 'State')\\\n",
        "    .where(And(IsNotEmpty('VEHICLE_MAKE'), Col('State') != '99'))\\\n",
        "    .update('VEHICLE_MAKE', str.upper)\\\n",
        "    .sample(n=100000, random_state=42)\\\n",
        "    .to_df()"
      ],
      "execution_count": 75,
      "outputs": []
    },
    {
      "cell_type": "code",
      "metadata": {
        "id": "iUXiqfUAIUkh",
        "outputId": "64207c11-5fca-4714-bec5-88c2b7d4efec",
        "colab": {
          "base_uri": "https://localhost:8080/"
        }
      },
      "source": [
        "from openclean.operator.map.violations import fd_violations\n",
        "\n",
        "\n",
        "groups2 = fd_violations(df, lhs=['UNIQUE_ID', 'State'], rhs='VEHICLE_MAKE')\n",
        "\n",
        "\n",
        "print('{} vehicles with conflicting Make'.format(len(groups2)))"
      ],
      "execution_count": 76,
      "outputs": [
        {
          "output_type": "stream",
          "text": [
            "0 vehicles with conflicting Make\n"
          ],
          "name": "stdout"
        }
      ]
    },
    {
      "cell_type": "code",
      "metadata": {
        "id": "7-P_QHX1Ngt-",
        "outputId": "9fae0a76-a3a0-4cad-9217-8115cbec7a43",
        "colab": {
          "base_uri": "https://localhost:8080/",
          "height": 419
        }
      },
      "source": [
        "df"
      ],
      "execution_count": 77,
      "outputs": [
        {
          "output_type": "execute_result",
          "data": {
            "text/html": [
              "<div>\n",
              "<style scoped>\n",
              "    .dataframe tbody tr th:only-of-type {\n",
              "        vertical-align: middle;\n",
              "    }\n",
              "\n",
              "    .dataframe tbody tr th {\n",
              "        vertical-align: top;\n",
              "    }\n",
              "\n",
              "    .dataframe thead th {\n",
              "        text-align: right;\n",
              "    }\n",
              "</style>\n",
              "<table border=\"1\" class=\"dataframe\">\n",
              "  <thead>\n",
              "    <tr style=\"text-align: right;\">\n",
              "      <th></th>\n",
              "      <th>UNIQUE_ID</th>\n",
              "      <th>State</th>\n",
              "      <th>VEHICLE_MAKE</th>\n",
              "    </tr>\n",
              "  </thead>\n",
              "  <tbody>\n",
              "    <tr>\n",
              "      <th>2609371</th>\n",
              "      <td>17543896</td>\n",
              "      <td>NY</td>\n",
              "      <td>BUIC -CAR/SUV</td>\n",
              "    </tr>\n",
              "    <tr>\n",
              "      <th>1686978</th>\n",
              "      <td>17301972</td>\n",
              "      <td>NY</td>\n",
              "      <td>NISS -CAR/SUV</td>\n",
              "    </tr>\n",
              "    <tr>\n",
              "      <th>2392969</th>\n",
              "      <td>18726366</td>\n",
              "      <td>NY</td>\n",
              "      <td>KIA -CAR/SUV</td>\n",
              "    </tr>\n",
              "    <tr>\n",
              "      <th>3339147</th>\n",
              "      <td>19561739</td>\n",
              "      <td>NJ</td>\n",
              "      <td>CHEV -CAR/SUV</td>\n",
              "    </tr>\n",
              "    <tr>\n",
              "      <th>3340750</th>\n",
              "      <td>19645155</td>\n",
              "      <td>NY</td>\n",
              "      <td>JEEP -CAR/SUV</td>\n",
              "    </tr>\n",
              "    <tr>\n",
              "      <th>...</th>\n",
              "      <td>...</td>\n",
              "      <td>...</td>\n",
              "      <td>...</td>\n",
              "    </tr>\n",
              "    <tr>\n",
              "      <th>3333543</th>\n",
              "      <td>19651631</td>\n",
              "      <td>NY</td>\n",
              "      <td>CHRY -CAR/SUV</td>\n",
              "    </tr>\n",
              "    <tr>\n",
              "      <th>2239205</th>\n",
              "      <td>18608829</td>\n",
              "      <td>NY</td>\n",
              "      <td>TOYT -CAR/SUV</td>\n",
              "    </tr>\n",
              "    <tr>\n",
              "      <th>3297146</th>\n",
              "      <td>19802302</td>\n",
              "      <td>NY</td>\n",
              "      <td>DODG -CAR/SUV</td>\n",
              "    </tr>\n",
              "    <tr>\n",
              "      <th>1077156</th>\n",
              "      <td>17059184</td>\n",
              "      <td>MD</td>\n",
              "      <td>AUDI -CAR/SUV</td>\n",
              "    </tr>\n",
              "    <tr>\n",
              "      <th>2866658</th>\n",
              "      <td>17784230</td>\n",
              "      <td>NY</td>\n",
              "      <td>GMC-TRUCK/BUS</td>\n",
              "    </tr>\n",
              "  </tbody>\n",
              "</table>\n",
              "<p>100000 rows × 3 columns</p>\n",
              "</div>"
            ],
            "text/plain": [
              "        UNIQUE_ID State   VEHICLE_MAKE\n",
              "2609371  17543896    NY  BUIC -CAR/SUV\n",
              "1686978  17301972    NY  NISS -CAR/SUV\n",
              "2392969  18726366    NY   KIA -CAR/SUV\n",
              "3339147  19561739    NJ  CHEV -CAR/SUV\n",
              "3340750  19645155    NY  JEEP -CAR/SUV\n",
              "...           ...   ...            ...\n",
              "3333543  19651631    NY  CHRY -CAR/SUV\n",
              "2239205  18608829    NY  TOYT -CAR/SUV\n",
              "3297146  19802302    NY  DODG -CAR/SUV\n",
              "1077156  17059184    MD  AUDI -CAR/SUV\n",
              "2866658  17784230    NY  GMC-TRUCK/BUS\n",
              "\n",
              "[100000 rows x 3 columns]"
            ]
          },
          "metadata": {
            "tags": []
          },
          "execution_count": 77
        }
      ]
    },
    {
      "cell_type": "code",
      "metadata": {
        "id": "I7DvEVL-nUvW"
      },
      "source": [
        ""
      ],
      "execution_count": null,
      "outputs": []
    }
  ]
}